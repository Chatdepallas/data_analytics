{
 "cells": [
  {
   "cell_type": "markdown",
   "id": "3e1b17aa",
   "metadata": {
    "id": "3e1b17aa"
   },
   "source": [
    "# Оценка результата проведения A/B-теста"
   ]
  },
  {
   "cell_type": "markdown",
   "id": "970c9d2d",
   "metadata": {
    "id": "970c9d2d"
   },
   "source": [
    "**Цель проекта**: проведение оценки корректности проведения и полученных результатов A/B-теста.\n",
    "\n",
    "**Заказчик**: Интернет-магазин, разрабатывающий новую систему рекомендаций для пользователей.\n",
    "\n",
    "**Этапы реализации проекта:** \n",
    "\n",
    "[1. Подготовительный этап: загрузка библиотек, выгрузка данных, изучение общей информации о датафреймах, предобработка данных](#general)\n",
    "- [1.1. Загрузка библиотек, выгрузка данных, изучение общей информации о датафреймах](#general)\n",
    "\n",
    "- [1.2. Предобработка данных](#preprocessing)\n",
    "\n",
    "- [1.3. Вывод по этапу](#first_conclusion)\n",
    "\n",
    "\n",
    "\n",
    "[2. Оценка корректности проведения теста](#ab_estimation)\n",
    "\n",
    "- [2.1. Проверка соответствия требованиям технического задания, пересечения с маркетинговыми событиями и другим тестом](#specification_check)\n",
    "\n",
    "- [2.2. Вывод по этапу](#second_conclusion)\n",
    "\n",
    "\n",
    "[3. Проведение исследовательского анализа данных](#eda)\n",
    "\n",
    "- [3.1. Распределение количества событий на пользователя в выборках](#eda_events)\n",
    "\n",
    "- [3.2. Распределение числа событий по дням](#eda_dates)\n",
    "\n",
    "- [3.3. Изменение конверсии в воронке в выборках на разных этапах](#eda_conv)\n",
    "\n",
    "- [3.4. Особенности данных перед проведением A/B-тестирования, вывод по разделу](#third_conclusion)\n",
    "\n",
    "\n",
    "[4. Оценка результатов A/В-тестирования](#results)\n",
    "\n",
    "- [4.1. Выводы о характере результатов A/В теста](#ab_results)\n",
    "\n",
    "- [4.2. Проверка статистической разницы долей z-критерием](#test_st_diff)\n",
    "\n",
    "\n",
    "[5. Выводы](#conclusion)"
   ]
  },
  {
   "cell_type": "markdown",
   "id": "0b5d7c7a",
   "metadata": {
    "id": "0b5d7c7a"
   },
   "source": [
    "<a id=\"first_stage\"> </a>\n",
    "## Подготовительный этап: загрузка библиотек, выгрузка данных, изучение общей информации о датафреймах, предобработка данных"
   ]
  },
  {
   "cell_type": "markdown",
   "id": "9eafae5e",
   "metadata": {
    "id": "9eafae5e"
   },
   "source": [
    "<a id=\"general\"> </a>\n",
    "### Загрузка библиотек, выгрузка данных, изучение общей информации о датафреймах"
   ]
  },
  {
   "cell_type": "code",
   "execution_count": 80,
   "id": "a77e82df",
   "metadata": {
    "id": "a77e82df"
   },
   "outputs": [],
   "source": [
    "import pandas as pd\n",
    "import numpy as np\n",
    "import seaborn as sns\n",
    "from datetime import datetime, timedelta\n",
    "from matplotlib import pyplot as plt\n",
    "from scipy import stats as st\n",
    "from plotly import graph_objects as go\n",
    "import plotly.express as px\n",
    "import math as mth\n",
    "import statistics as sts"
   ]
  },
  {
   "cell_type": "code",
   "execution_count": 81,
   "id": "d172b670",
   "metadata": {
    "id": "d172b670"
   },
   "outputs": [],
   "source": [
    "#создадим переменную, в которую поместим палитру для графиков\n",
    "#установим тему для графиков\n",
    "\n",
    "palette = sns.cubehelix_palette(start=.3, rot=-.6, n_colors=15)\n",
    "sns.set_theme(style=\"whitegrid\", palette=palette)"
   ]
  },
  {
   "cell_type": "code",
   "execution_count": 82,
   "id": "711a8727",
   "metadata": {
    "id": "711a8727"
   },
   "outputs": [],
   "source": [
    "#установим ширину отображения столбцов\n",
    "\n",
    "pd.options.display.max_colwidth = 120"
   ]
  },
  {
   "cell_type": "code",
   "execution_count": 83,
   "id": "994df701",
   "metadata": {
    "id": "994df701"
   },
   "outputs": [],
   "source": [
    "#выгружаем датасеты \n",
    "\n",
    "try: \n",
    "        schedule, users, events, participants = (\n",
    "        pd.read_csv('C:/datasets/fp_ab/ab_project_marketing_events.csv'),  #календарь событий\n",
    "        pd.read_csv('C:/datasets/fp_ab/final_ab_new_users.csv'),  #пользователи\n",
    "        pd.read_csv('C:/datasets/fp_ab/final_ab_events.csv'), #события\n",
    "        pd.read_csv('C:/datasets/fp_ab/final_ab_participants.csv') #участники\n",
    "    )\n",
    "\n",
    "except:\n",
    "    schedule, users, events, participants = (\n",
    "        pd.read_csv('/datasets/ab_project_marketing_events.csv'), #календарь событий\n",
    "        pd.read_csv('/datasets/final_ab_new_users.csv'), #пользователи\n",
    "        pd.read_csv('/datasets/final_ab_events.csv'), #события\n",
    "        pd.read_csv('/datasets/final_ab_participants.csv') #участники\n",
    "    )\n",
    "    "
   ]
  },
  {
   "cell_type": "code",
   "execution_count": 84,
   "id": "edf95d09",
   "metadata": {
    "colab": {
     "base_uri": "https://localhost:8080/",
     "height": 206
    },
    "id": "edf95d09",
    "outputId": "e07612bc-39f6-40c3-95f2-b57d85d11b3c"
   },
   "outputs": [
    {
     "data": {
      "text/html": [
       "<div>\n",
       "<style scoped>\n",
       "    .dataframe tbody tr th:only-of-type {\n",
       "        vertical-align: middle;\n",
       "    }\n",
       "\n",
       "    .dataframe tbody tr th {\n",
       "        vertical-align: top;\n",
       "    }\n",
       "\n",
       "    .dataframe thead th {\n",
       "        text-align: right;\n",
       "    }\n",
       "</style>\n",
       "<table border=\"1\" class=\"dataframe\">\n",
       "  <thead>\n",
       "    <tr style=\"text-align: right;\">\n",
       "      <th></th>\n",
       "      <th>name</th>\n",
       "      <th>regions</th>\n",
       "      <th>start_dt</th>\n",
       "      <th>finish_dt</th>\n",
       "    </tr>\n",
       "  </thead>\n",
       "  <tbody>\n",
       "    <tr>\n",
       "      <th>0</th>\n",
       "      <td>Christmas&amp;New Year Promo</td>\n",
       "      <td>EU, N.America</td>\n",
       "      <td>2020-12-25</td>\n",
       "      <td>2021-01-03</td>\n",
       "    </tr>\n",
       "    <tr>\n",
       "      <th>1</th>\n",
       "      <td>St. Valentine's Day Giveaway</td>\n",
       "      <td>EU, CIS, APAC, N.America</td>\n",
       "      <td>2020-02-14</td>\n",
       "      <td>2020-02-16</td>\n",
       "    </tr>\n",
       "    <tr>\n",
       "      <th>2</th>\n",
       "      <td>St. Patric's Day Promo</td>\n",
       "      <td>EU, N.America</td>\n",
       "      <td>2020-03-17</td>\n",
       "      <td>2020-03-19</td>\n",
       "    </tr>\n",
       "    <tr>\n",
       "      <th>3</th>\n",
       "      <td>Easter Promo</td>\n",
       "      <td>EU, CIS, APAC, N.America</td>\n",
       "      <td>2020-04-12</td>\n",
       "      <td>2020-04-19</td>\n",
       "    </tr>\n",
       "    <tr>\n",
       "      <th>4</th>\n",
       "      <td>4th of July Promo</td>\n",
       "      <td>N.America</td>\n",
       "      <td>2020-07-04</td>\n",
       "      <td>2020-07-11</td>\n",
       "    </tr>\n",
       "  </tbody>\n",
       "</table>\n",
       "</div>"
      ],
      "text/plain": [
       "                           name                   regions    start_dt  \\\n",
       "0      Christmas&New Year Promo             EU, N.America  2020-12-25   \n",
       "1  St. Valentine's Day Giveaway  EU, CIS, APAC, N.America  2020-02-14   \n",
       "2        St. Patric's Day Promo             EU, N.America  2020-03-17   \n",
       "3                  Easter Promo  EU, CIS, APAC, N.America  2020-04-12   \n",
       "4             4th of July Promo                 N.America  2020-07-04   \n",
       "\n",
       "    finish_dt  \n",
       "0  2021-01-03  \n",
       "1  2020-02-16  \n",
       "2  2020-03-19  \n",
       "3  2020-04-19  \n",
       "4  2020-07-11  "
      ]
     },
     "execution_count": 84,
     "metadata": {},
     "output_type": "execute_result"
    }
   ],
   "source": [
    "#выведем строки датафрейма schedule\n",
    "\n",
    "schedule.head(5)"
   ]
  },
  {
   "cell_type": "markdown",
   "id": "f0f74e91",
   "metadata": {
    "id": "f0f74e91"
   },
   "source": [
    "Структура датафрейма `schedule` — календарь маркетинговых событий на 2020 год:\n",
    "\n",
    "- `name` — название маркетингового события;\n",
    "- `regions` — регионы, в которых будет проводиться рекламная кампания;\n",
    "- `start_dt` — дата начала кампании;\n",
    "- `finish_dt` — дата завершения кампании."
   ]
  },
  {
   "cell_type": "code",
   "execution_count": 85,
   "id": "90c53aba",
   "metadata": {
    "colab": {
     "base_uri": "https://localhost:8080/",
     "height": 206
    },
    "id": "90c53aba",
    "outputId": "07ab93b6-d1dd-4444-f5b1-f5ac968d3bbc"
   },
   "outputs": [
    {
     "data": {
      "text/html": [
       "<div>\n",
       "<style scoped>\n",
       "    .dataframe tbody tr th:only-of-type {\n",
       "        vertical-align: middle;\n",
       "    }\n",
       "\n",
       "    .dataframe tbody tr th {\n",
       "        vertical-align: top;\n",
       "    }\n",
       "\n",
       "    .dataframe thead th {\n",
       "        text-align: right;\n",
       "    }\n",
       "</style>\n",
       "<table border=\"1\" class=\"dataframe\">\n",
       "  <thead>\n",
       "    <tr style=\"text-align: right;\">\n",
       "      <th></th>\n",
       "      <th>user_id</th>\n",
       "      <th>first_date</th>\n",
       "      <th>region</th>\n",
       "      <th>device</th>\n",
       "    </tr>\n",
       "  </thead>\n",
       "  <tbody>\n",
       "    <tr>\n",
       "      <th>0</th>\n",
       "      <td>D72A72121175D8BE</td>\n",
       "      <td>2020-12-07</td>\n",
       "      <td>EU</td>\n",
       "      <td>PC</td>\n",
       "    </tr>\n",
       "    <tr>\n",
       "      <th>1</th>\n",
       "      <td>F1C668619DFE6E65</td>\n",
       "      <td>2020-12-07</td>\n",
       "      <td>N.America</td>\n",
       "      <td>Android</td>\n",
       "    </tr>\n",
       "    <tr>\n",
       "      <th>2</th>\n",
       "      <td>2E1BF1D4C37EA01F</td>\n",
       "      <td>2020-12-07</td>\n",
       "      <td>EU</td>\n",
       "      <td>PC</td>\n",
       "    </tr>\n",
       "    <tr>\n",
       "      <th>3</th>\n",
       "      <td>50734A22C0C63768</td>\n",
       "      <td>2020-12-07</td>\n",
       "      <td>EU</td>\n",
       "      <td>iPhone</td>\n",
       "    </tr>\n",
       "    <tr>\n",
       "      <th>4</th>\n",
       "      <td>E1BDDCE0DAFA2679</td>\n",
       "      <td>2020-12-07</td>\n",
       "      <td>N.America</td>\n",
       "      <td>iPhone</td>\n",
       "    </tr>\n",
       "  </tbody>\n",
       "</table>\n",
       "</div>"
      ],
      "text/plain": [
       "            user_id  first_date     region   device\n",
       "0  D72A72121175D8BE  2020-12-07         EU       PC\n",
       "1  F1C668619DFE6E65  2020-12-07  N.America  Android\n",
       "2  2E1BF1D4C37EA01F  2020-12-07         EU       PC\n",
       "3  50734A22C0C63768  2020-12-07         EU   iPhone\n",
       "4  E1BDDCE0DAFA2679  2020-12-07  N.America   iPhone"
      ]
     },
     "execution_count": 85,
     "metadata": {},
     "output_type": "execute_result"
    }
   ],
   "source": [
    "#выведем строки датафрейма users\n",
    "\n",
    "users.head(5)"
   ]
  },
  {
   "cell_type": "markdown",
   "id": "49fb063b",
   "metadata": {
    "id": "49fb063b"
   },
   "source": [
    "Структура датафрейма `users` — пользователи, зарегистрировавшиеся с 7 по 21 декабря 2020 года:\n",
    "\n",
    "- `user_id` — идентификатор пользователя;\n",
    "- `first_date` — дата регистрации;\n",
    "- `region` — регион пользователя;\n",
    "- `device` — устройство, с которого происходила регистрация."
   ]
  },
  {
   "cell_type": "code",
   "execution_count": 86,
   "id": "0aae8794",
   "metadata": {
    "colab": {
     "base_uri": "https://localhost:8080/",
     "height": 206
    },
    "id": "0aae8794",
    "outputId": "392db0c1-28bb-405c-df9a-c46926b87548"
   },
   "outputs": [
    {
     "data": {
      "text/html": [
       "<div>\n",
       "<style scoped>\n",
       "    .dataframe tbody tr th:only-of-type {\n",
       "        vertical-align: middle;\n",
       "    }\n",
       "\n",
       "    .dataframe tbody tr th {\n",
       "        vertical-align: top;\n",
       "    }\n",
       "\n",
       "    .dataframe thead th {\n",
       "        text-align: right;\n",
       "    }\n",
       "</style>\n",
       "<table border=\"1\" class=\"dataframe\">\n",
       "  <thead>\n",
       "    <tr style=\"text-align: right;\">\n",
       "      <th></th>\n",
       "      <th>user_id</th>\n",
       "      <th>event_dt</th>\n",
       "      <th>event_name</th>\n",
       "      <th>details</th>\n",
       "    </tr>\n",
       "  </thead>\n",
       "  <tbody>\n",
       "    <tr>\n",
       "      <th>0</th>\n",
       "      <td>E1BDDCE0DAFA2679</td>\n",
       "      <td>2020-12-07 20:22:03</td>\n",
       "      <td>purchase</td>\n",
       "      <td>99.99</td>\n",
       "    </tr>\n",
       "    <tr>\n",
       "      <th>1</th>\n",
       "      <td>7B6452F081F49504</td>\n",
       "      <td>2020-12-07 09:22:53</td>\n",
       "      <td>purchase</td>\n",
       "      <td>9.99</td>\n",
       "    </tr>\n",
       "    <tr>\n",
       "      <th>2</th>\n",
       "      <td>9CD9F34546DF254C</td>\n",
       "      <td>2020-12-07 12:59:29</td>\n",
       "      <td>purchase</td>\n",
       "      <td>4.99</td>\n",
       "    </tr>\n",
       "    <tr>\n",
       "      <th>3</th>\n",
       "      <td>96F27A054B191457</td>\n",
       "      <td>2020-12-07 04:02:40</td>\n",
       "      <td>purchase</td>\n",
       "      <td>4.99</td>\n",
       "    </tr>\n",
       "    <tr>\n",
       "      <th>4</th>\n",
       "      <td>1FD7660FDF94CA1F</td>\n",
       "      <td>2020-12-07 10:15:09</td>\n",
       "      <td>purchase</td>\n",
       "      <td>4.99</td>\n",
       "    </tr>\n",
       "  </tbody>\n",
       "</table>\n",
       "</div>"
      ],
      "text/plain": [
       "            user_id             event_dt event_name  details\n",
       "0  E1BDDCE0DAFA2679  2020-12-07 20:22:03   purchase    99.99\n",
       "1  7B6452F081F49504  2020-12-07 09:22:53   purchase     9.99\n",
       "2  9CD9F34546DF254C  2020-12-07 12:59:29   purchase     4.99\n",
       "3  96F27A054B191457  2020-12-07 04:02:40   purchase     4.99\n",
       "4  1FD7660FDF94CA1F  2020-12-07 10:15:09   purchase     4.99"
      ]
     },
     "execution_count": 86,
     "metadata": {},
     "output_type": "execute_result"
    }
   ],
   "source": [
    "#выведем строки датафрейма events\n",
    "\n",
    "events.head(5)"
   ]
  },
  {
   "cell_type": "markdown",
   "id": "c8759611",
   "metadata": {
    "id": "c8759611"
   },
   "source": [
    "Структура датафрейма `events` — действия новых пользователей в период с 7 декабря 2020 по 4 января 2021 года:\n",
    "- `user_id` — идентификатор пользователя;\n",
    "- `event_dt` — дата и время покупки;\n",
    "- `event_name` — тип события;\n",
    "- `details` — дополнительные данные о событии. Например, для покупок, `purchase,` в этом поле хранится стоимость покупки в долларах."
   ]
  },
  {
   "cell_type": "code",
   "execution_count": 87,
   "id": "9f418f25",
   "metadata": {
    "colab": {
     "base_uri": "https://localhost:8080/",
     "height": 206
    },
    "id": "9f418f25",
    "outputId": "b21c54f0-3330-4c64-a231-aa5f1b23e588"
   },
   "outputs": [
    {
     "data": {
      "text/html": [
       "<div>\n",
       "<style scoped>\n",
       "    .dataframe tbody tr th:only-of-type {\n",
       "        vertical-align: middle;\n",
       "    }\n",
       "\n",
       "    .dataframe tbody tr th {\n",
       "        vertical-align: top;\n",
       "    }\n",
       "\n",
       "    .dataframe thead th {\n",
       "        text-align: right;\n",
       "    }\n",
       "</style>\n",
       "<table border=\"1\" class=\"dataframe\">\n",
       "  <thead>\n",
       "    <tr style=\"text-align: right;\">\n",
       "      <th></th>\n",
       "      <th>user_id</th>\n",
       "      <th>group</th>\n",
       "      <th>ab_test</th>\n",
       "    </tr>\n",
       "  </thead>\n",
       "  <tbody>\n",
       "    <tr>\n",
       "      <th>0</th>\n",
       "      <td>D1ABA3E2887B6A73</td>\n",
       "      <td>A</td>\n",
       "      <td>recommender_system_test</td>\n",
       "    </tr>\n",
       "    <tr>\n",
       "      <th>1</th>\n",
       "      <td>A7A3664BD6242119</td>\n",
       "      <td>A</td>\n",
       "      <td>recommender_system_test</td>\n",
       "    </tr>\n",
       "    <tr>\n",
       "      <th>2</th>\n",
       "      <td>DABC14FDDFADD29E</td>\n",
       "      <td>A</td>\n",
       "      <td>recommender_system_test</td>\n",
       "    </tr>\n",
       "    <tr>\n",
       "      <th>3</th>\n",
       "      <td>04988C5DF189632E</td>\n",
       "      <td>A</td>\n",
       "      <td>recommender_system_test</td>\n",
       "    </tr>\n",
       "    <tr>\n",
       "      <th>4</th>\n",
       "      <td>482F14783456D21B</td>\n",
       "      <td>B</td>\n",
       "      <td>recommender_system_test</td>\n",
       "    </tr>\n",
       "  </tbody>\n",
       "</table>\n",
       "</div>"
      ],
      "text/plain": [
       "            user_id group                  ab_test\n",
       "0  D1ABA3E2887B6A73     A  recommender_system_test\n",
       "1  A7A3664BD6242119     A  recommender_system_test\n",
       "2  DABC14FDDFADD29E     A  recommender_system_test\n",
       "3  04988C5DF189632E     A  recommender_system_test\n",
       "4  482F14783456D21B     B  recommender_system_test"
      ]
     },
     "execution_count": 87,
     "metadata": {},
     "output_type": "execute_result"
    }
   ],
   "source": [
    "#выведем строки датафрейма participants\n",
    "\n",
    "participants.head(5)"
   ]
  },
  {
   "cell_type": "markdown",
   "id": "6a2af1ee",
   "metadata": {
    "id": "6a2af1ee"
   },
   "source": [
    "Структура датафрейма `participants` — таблица участников тестов:\n",
    "\n",
    "- `user_id` — идентификатор пользователя;\n",
    "- `ab_test` — название теста;\n",
    "- `group` — группа пользователя."
   ]
  },
  {
   "cell_type": "code",
   "execution_count": 88,
   "id": "a239399c",
   "metadata": {
    "colab": {
     "base_uri": "https://localhost:8080/",
     "height": 906
    },
    "id": "a239399c",
    "outputId": "d32d8a30-9fcf-431c-9879-3211879fe193"
   },
   "outputs": [
    {
     "name": "stdout",
     "output_type": "stream",
     "text": [
      "<class 'pandas.core.frame.DataFrame'>\n",
      "RangeIndex: 14 entries, 0 to 13\n",
      "Data columns (total 4 columns):\n",
      " #   Column     Non-Null Count  Dtype \n",
      "---  ------     --------------  ----- \n",
      " 0   name       14 non-null     object\n",
      " 1   regions    14 non-null     object\n",
      " 2   start_dt   14 non-null     object\n",
      " 3   finish_dt  14 non-null     object\n",
      "dtypes: object(4)\n",
      "memory usage: 576.0+ bytes\n"
     ]
    },
    {
     "data": {
      "text/plain": [
       "'info schedule'"
      ]
     },
     "metadata": {},
     "output_type": "display_data"
    },
    {
     "data": {
      "text/plain": [
       "None"
      ]
     },
     "metadata": {},
     "output_type": "display_data"
    },
    {
     "name": "stdout",
     "output_type": "stream",
     "text": [
      "<class 'pandas.core.frame.DataFrame'>\n",
      "RangeIndex: 61733 entries, 0 to 61732\n",
      "Data columns (total 4 columns):\n",
      " #   Column      Non-Null Count  Dtype \n",
      "---  ------      --------------  ----- \n",
      " 0   user_id     61733 non-null  object\n",
      " 1   first_date  61733 non-null  object\n",
      " 2   region      61733 non-null  object\n",
      " 3   device      61733 non-null  object\n",
      "dtypes: object(4)\n",
      "memory usage: 1.9+ MB\n"
     ]
    },
    {
     "data": {
      "text/plain": [
       "'info users'"
      ]
     },
     "metadata": {},
     "output_type": "display_data"
    },
    {
     "data": {
      "text/plain": [
       "None"
      ]
     },
     "metadata": {},
     "output_type": "display_data"
    },
    {
     "name": "stdout",
     "output_type": "stream",
     "text": [
      "<class 'pandas.core.frame.DataFrame'>\n",
      "RangeIndex: 440317 entries, 0 to 440316\n",
      "Data columns (total 4 columns):\n",
      " #   Column      Non-Null Count   Dtype  \n",
      "---  ------      --------------   -----  \n",
      " 0   user_id     440317 non-null  object \n",
      " 1   event_dt    440317 non-null  object \n",
      " 2   event_name  440317 non-null  object \n",
      " 3   details     62740 non-null   float64\n",
      "dtypes: float64(1), object(3)\n",
      "memory usage: 13.4+ MB\n"
     ]
    },
    {
     "data": {
      "text/plain": [
       "'info events'"
      ]
     },
     "metadata": {},
     "output_type": "display_data"
    },
    {
     "data": {
      "text/plain": [
       "None"
      ]
     },
     "metadata": {},
     "output_type": "display_data"
    },
    {
     "name": "stdout",
     "output_type": "stream",
     "text": [
      "<class 'pandas.core.frame.DataFrame'>\n",
      "RangeIndex: 18268 entries, 0 to 18267\n",
      "Data columns (total 3 columns):\n",
      " #   Column   Non-Null Count  Dtype \n",
      "---  ------   --------------  ----- \n",
      " 0   user_id  18268 non-null  object\n",
      " 1   group    18268 non-null  object\n",
      " 2   ab_test  18268 non-null  object\n",
      "dtypes: object(3)\n",
      "memory usage: 428.3+ KB\n"
     ]
    },
    {
     "data": {
      "text/plain": [
       "'info participants'"
      ]
     },
     "metadata": {},
     "output_type": "display_data"
    },
    {
     "data": {
      "text/plain": [
       "None"
      ]
     },
     "metadata": {},
     "output_type": "display_data"
    }
   ],
   "source": [
    "#выведем общую информацию о таблицах \n",
    "\n",
    "display('info schedule', schedule.info())\n",
    "display('info users', users.info())\n",
    "display('info events', events.info())\n",
    "display('info participants', participants.info())"
   ]
  },
  {
   "cell_type": "markdown",
   "id": "8e9f11b2",
   "metadata": {
    "id": "8e9f11b2"
   },
   "source": [
    "Характеристики датафреймов:\n",
    "\n",
    "1) Различная размерность: `schedule` имеет 14 строк, `users` - 61733 строк, `events` - 440317 строк, `participants` - 18268 строк.\n",
    "\n",
    "2) Практически все столбцы имеют тип `object`, исключение - столбец `details` датасета  `events` с типом данных числа с плавающей точкой. Следовательно, несколько столбцов с информацией о дате и времени необходимо привести к временному типу.\n",
    "\n",
    "3) В трех датафреймах количество данных в каждом из столбцов совпадает, т.е. отсутствуют пропуски. Столбец `details` датасета  `events` имеет существенно меньше данных, чем в остальной таблице."
   ]
  },
  {
   "cell_type": "markdown",
   "id": "4f49adbe",
   "metadata": {
    "id": "4f49adbe"
   },
   "source": [
    "<a id=\"preprocessing\"> </a>\n",
    "### Предобработка данных"
   ]
  },
  {
   "cell_type": "code",
   "execution_count": 89,
   "id": "754fb49a",
   "metadata": {
    "id": "754fb49a"
   },
   "outputs": [],
   "source": [
    "#создадим для удобства список и словарь датафреймов\n",
    "\n",
    "df_list = [schedule, events, users, participants]\n",
    "df_dict = {'schedule': schedule,\n",
    "           'events': events,\n",
    "           'users': users,\n",
    "           'participants': participants}"
   ]
  },
  {
   "cell_type": "code",
   "execution_count": 90,
   "id": "99636f9e",
   "metadata": {
    "colab": {
     "base_uri": "https://localhost:8080/",
     "height": 160
    },
    "id": "99636f9e",
    "outputId": "ea192c52-3e30-4b38-c155-84302ea743bd"
   },
   "outputs": [
    {
     "data": {
      "text/plain": [
       "'schedule'"
      ]
     },
     "metadata": {},
     "output_type": "display_data"
    },
    {
     "data": {
      "text/plain": [
       "Index(['name', 'regions', 'start_dt', 'finish_dt'], dtype='object')"
      ]
     },
     "metadata": {},
     "output_type": "display_data"
    },
    {
     "data": {
      "text/plain": [
       "'events'"
      ]
     },
     "metadata": {},
     "output_type": "display_data"
    },
    {
     "data": {
      "text/plain": [
       "Index(['user_id', 'event_dt', 'event_name', 'details'], dtype='object')"
      ]
     },
     "metadata": {},
     "output_type": "display_data"
    },
    {
     "data": {
      "text/plain": [
       "'users'"
      ]
     },
     "metadata": {},
     "output_type": "display_data"
    },
    {
     "data": {
      "text/plain": [
       "Index(['user_id', 'first_date', 'region', 'device'], dtype='object')"
      ]
     },
     "metadata": {},
     "output_type": "display_data"
    },
    {
     "data": {
      "text/plain": [
       "'participants'"
      ]
     },
     "metadata": {},
     "output_type": "display_data"
    },
    {
     "data": {
      "text/plain": [
       "Index(['user_id', 'group', 'ab_test'], dtype='object')"
      ]
     },
     "metadata": {},
     "output_type": "display_data"
    }
   ],
   "source": [
    "#ознакомимся с наименованиями столбцов \n",
    "\n",
    "for df in df_dict:\n",
    "    display(df, df_dict[df].columns)"
   ]
  },
  {
   "cell_type": "markdown",
   "id": "e72d50ac",
   "metadata": {
    "id": "e72d50ac"
   },
   "source": [
    "Столбцы приведены к единому стилю, лишние пробелы отсутствуют."
   ]
  },
  {
   "cell_type": "code",
   "execution_count": 91,
   "id": "d912f22d",
   "metadata": {
    "colab": {
     "base_uri": "https://localhost:8080/",
     "height": 35
    },
    "id": "d912f22d",
    "outputId": "632bc400-4ff5-4410-e84c-351502571b86"
   },
   "outputs": [
    {
     "data": {
      "text/plain": [
       "'Дубликатов в таблице schedule: 0'"
      ]
     },
     "metadata": {},
     "output_type": "display_data"
    },
    {
     "data": {
      "text/plain": [
       "'Дубликатов в таблице events: 0'"
      ]
     },
     "metadata": {},
     "output_type": "display_data"
    },
    {
     "data": {
      "text/plain": [
       "'Дубликатов в таблице users: 0'"
      ]
     },
     "metadata": {},
     "output_type": "display_data"
    },
    {
     "data": {
      "text/plain": [
       "'Дубликатов в таблице participants: 0'"
      ]
     },
     "metadata": {},
     "output_type": "display_data"
    }
   ],
   "source": [
    "#проверим наличие явных дубликатов в датафреймах\n",
    "\n",
    "for df in df_dict:\n",
    "    display(f'Дубликатов в таблице {df}: {df_dict[df].duplicated().sum()}')"
   ]
  },
  {
   "cell_type": "markdown",
   "id": "1eb5b0b5",
   "metadata": {
    "id": "1eb5b0b5"
   },
   "source": [
    "Явные дубликаты в датафреймах отсутствуют.\n",
    "Как установлено ранее, большая часть столбцов содержит текстовые данные, имеющие отношения к категориям. Проверим, какие данные имеются и нет ли среди них неявных дубликатов."
   ]
  },
  {
   "cell_type": "code",
   "execution_count": 92,
   "id": "bc84e2e2",
   "metadata": {
    "id": "bc84e2e2"
   },
   "outputs": [
    {
     "data": {
      "text/plain": [
       "'schedule'"
      ]
     },
     "metadata": {},
     "output_type": "display_data"
    },
    {
     "data": {
      "text/plain": [
       "array(['Christmas&New Year Promo', \"St. Valentine's Day Giveaway\",\n",
       "       \"St. Patric's Day Promo\", 'Easter Promo', '4th of July Promo',\n",
       "       'Black Friday Ads Campaign', 'Chinese New Year Promo',\n",
       "       'Labor day (May 1st) Ads Campaign',\n",
       "       \"International Women's Day Promo\",\n",
       "       'Victory Day CIS (May 9th) Event', 'CIS New Year Gift Lottery',\n",
       "       'Dragon Boat Festival Giveaway', \"Single's Day Gift Promo\",\n",
       "       'Chinese Moon Festival'], dtype=object)"
      ]
     },
     "metadata": {},
     "output_type": "display_data"
    },
    {
     "data": {
      "text/plain": [
       "'schedule'"
      ]
     },
     "metadata": {},
     "output_type": "display_data"
    },
    {
     "data": {
      "text/plain": [
       "array(['EU, N.America', 'EU, CIS, APAC, N.America', 'N.America', 'APAC',\n",
       "       'EU, CIS, APAC', 'CIS'], dtype=object)"
      ]
     },
     "metadata": {},
     "output_type": "display_data"
    },
    {
     "data": {
      "text/plain": [
       "'events'"
      ]
     },
     "metadata": {},
     "output_type": "display_data"
    },
    {
     "data": {
      "text/plain": [
       "array(['purchase', 'product_cart', 'product_page', 'login'], dtype=object)"
      ]
     },
     "metadata": {},
     "output_type": "display_data"
    },
    {
     "data": {
      "text/plain": [
       "'users'"
      ]
     },
     "metadata": {},
     "output_type": "display_data"
    },
    {
     "data": {
      "text/plain": [
       "array(['EU', 'N.America', 'APAC', 'CIS'], dtype=object)"
      ]
     },
     "metadata": {},
     "output_type": "display_data"
    },
    {
     "data": {
      "text/plain": [
       "'users'"
      ]
     },
     "metadata": {},
     "output_type": "display_data"
    },
    {
     "data": {
      "text/plain": [
       "array(['PC', 'Android', 'iPhone', 'Mac'], dtype=object)"
      ]
     },
     "metadata": {},
     "output_type": "display_data"
    },
    {
     "data": {
      "text/plain": [
       "'participants'"
      ]
     },
     "metadata": {},
     "output_type": "display_data"
    },
    {
     "data": {
      "text/plain": [
       "array(['A', 'B'], dtype=object)"
      ]
     },
     "metadata": {},
     "output_type": "display_data"
    },
    {
     "data": {
      "text/plain": [
       "'participants'"
      ]
     },
     "metadata": {},
     "output_type": "display_data"
    },
    {
     "data": {
      "text/plain": [
       "array(['recommender_system_test', 'interface_eu_test'], dtype=object)"
      ]
     },
     "metadata": {},
     "output_type": "display_data"
    }
   ],
   "source": [
    "#пройдем по каждому столбцу, кроме user_id, details и временных столбцов:\n",
    "\n",
    "exceptions = ['user_id', \n",
    "              'first_date', \n",
    "              'event_dt', \n",
    "              'details', \n",
    "              'start_dt', \n",
    "              'finish_dt']\n",
    "\n",
    "for df in df_dict:\n",
    "    for column in df_dict[df].columns:\n",
    "        if column not in exceptions:\n",
    "            display(df, df_dict[df][column].unique())"
   ]
  },
  {
   "cell_type": "markdown",
   "id": "f6d99bd9",
   "metadata": {
    "id": "f6d99bd9"
   },
   "source": [
    "В каждом из столбцов неявные дубликаты отсутствуют: все значения различаются по своему содержимому, пробелы и лишние символы не встречаются."
   ]
  },
  {
   "cell_type": "markdown",
   "id": "5b9893e9",
   "metadata": {
    "id": "5b9893e9"
   },
   "source": [
    "В трех датафреймах имеется столбец `user_id`. Выявим, есть ли дубликаты в этом столбце и есть да, выявим причину их появления.\n",
    "Датафрейм `events` не будет учтен, т.к. пользователи могли совершать множество действий. "
   ]
  },
  {
   "cell_type": "code",
   "execution_count": 93,
   "id": "55e6ed4e",
   "metadata": {
    "id": "55e6ed4e"
   },
   "outputs": [
    {
     "data": {
      "text/plain": [
       "'повторяющихся значений user_id в таблице users: 0)'"
      ]
     },
     "metadata": {},
     "output_type": "display_data"
    },
    {
     "data": {
      "text/plain": [
       "'повторяющихся значений user_id в таблице participants: 1602)'"
      ]
     },
     "metadata": {},
     "output_type": "display_data"
    }
   ],
   "source": [
    "for df in df_dict:\n",
    "    if df not in ['schedule', 'events']:\n",
    "        dups = df_dict[df].shape[0] - df_dict[df]['user_id'].nunique()\n",
    "        display(f\"повторяющихся значений user_id в таблице {df}: {dups})\")"
   ]
  },
  {
   "cell_type": "markdown",
   "id": "d70fb48b",
   "metadata": {
    "id": "d70fb48b"
   },
   "source": [
    "Все значения в таблице `users` уникальны. Однако, в датафрейме `participants` обнаружилось 1602 дубликата. Учитывая, что эта таблица содержит результаты разделения на A и B группы, а также разные типы тестирования, вероятно, участники могли одновременно попасть в различные категории."
   ]
  },
  {
   "cell_type": "code",
   "execution_count": 94,
   "id": "af38718b",
   "metadata": {
    "id": "af38718b"
   },
   "outputs": [
    {
     "data": {
      "text/plain": [
       "0"
      ]
     },
     "execution_count": 94,
     "metadata": {},
     "output_type": "execute_result"
    }
   ],
   "source": [
    "#проверим наличие одних и тех же пользователей в разных группах первого теста\n",
    "\n",
    "common_users_rec = (\n",
    "    set(participants\n",
    "    .query('ab_test == \"recommender_system_test\" and group == \"A\"')['user_id'])\n",
    "    .intersection(set(participants\n",
    "                      .query('ab_test == \"recommender_system_test\" and group == \"B\"')['user_id'])\n",
    "                 )\n",
    ")\n",
    "\n",
    "len(common_users_rec)"
   ]
  },
  {
   "cell_type": "code",
   "execution_count": 95,
   "id": "7151814a",
   "metadata": {
    "id": "7151814a"
   },
   "outputs": [
    {
     "data": {
      "text/plain": [
       "0"
      ]
     },
     "execution_count": 95,
     "metadata": {},
     "output_type": "execute_result"
    }
   ],
   "source": [
    "#проверим наличие одних и тех же пользователей в разных группах второго теста\n",
    "\n",
    "common_users_int = (\n",
    "    set(participants\n",
    "    .query('ab_test != \"recommender_system_test\" and group == \"A\"')['user_id'])\n",
    "    .intersection(set(participants\n",
    "                      .query('ab_test != \"recommender_system_test\" and group == \"B\"')['user_id'])\n",
    "                 )\n",
    ")\n",
    "\n",
    "len(common_users_int)"
   ]
  },
  {
   "cell_type": "code",
   "execution_count": 96,
   "id": "d92db0f5",
   "metadata": {
    "id": "d92db0f5"
   },
   "outputs": [
    {
     "data": {
      "text/plain": [
       "1602"
      ]
     },
     "execution_count": 96,
     "metadata": {},
     "output_type": "execute_result"
    }
   ],
   "source": [
    "#проверим наличие одних и тех же пользователей в разных тестах\n",
    "\n",
    "common_users_tests = (\n",
    "    set(participants\n",
    "    .query('ab_test == \"recommender_system_test\"')['user_id'])\n",
    "    .intersection(set(participants\n",
    "                      .query('ab_test != \"recommender_system_test\"')['user_id'])\n",
    "                 )\n",
    ")\n",
    "\n",
    "len(common_users_tests)"
   ]
  },
  {
   "cell_type": "markdown",
   "id": "e8109ba2",
   "metadata": {
    "id": "e8109ba2"
   },
   "source": [
    "Пересечений в группах А и В в обеих тестах не оказалось, однако выяснилось, что 1602 пользователя принимали участие в обоих тестах одновременно."
   ]
  },
  {
   "cell_type": "code",
   "execution_count": 97,
   "id": "c39870ce",
   "metadata": {},
   "outputs": [
    {
     "data": {
      "text/html": [
       "<div>\n",
       "<style scoped>\n",
       "    .dataframe tbody tr th:only-of-type {\n",
       "        vertical-align: middle;\n",
       "    }\n",
       "\n",
       "    .dataframe tbody tr th {\n",
       "        vertical-align: top;\n",
       "    }\n",
       "\n",
       "    .dataframe thead th {\n",
       "        text-align: right;\n",
       "    }\n",
       "</style>\n",
       "<table border=\"1\" class=\"dataframe\">\n",
       "  <thead>\n",
       "    <tr style=\"text-align: right;\">\n",
       "      <th>group</th>\n",
       "      <th>A</th>\n",
       "      <th>B</th>\n",
       "    </tr>\n",
       "    <tr>\n",
       "      <th>ab_test</th>\n",
       "      <th></th>\n",
       "      <th></th>\n",
       "    </tr>\n",
       "  </thead>\n",
       "  <tbody>\n",
       "    <tr>\n",
       "      <th>interface_eu_test</th>\n",
       "      <td>819</td>\n",
       "      <td>783</td>\n",
       "    </tr>\n",
       "    <tr>\n",
       "      <th>recommender_system_test</th>\n",
       "      <td>921</td>\n",
       "      <td>681</td>\n",
       "    </tr>\n",
       "  </tbody>\n",
       "</table>\n",
       "</div>"
      ],
      "text/plain": [
       "group                      A    B\n",
       "ab_test                          \n",
       "interface_eu_test        819  783\n",
       "recommender_system_test  921  681"
      ]
     },
     "execution_count": 97,
     "metadata": {},
     "output_type": "execute_result"
    }
   ],
   "source": [
    "#проверим, как много пользователей попало в те или иные группы двух тестов\n",
    "(\n",
    "    participants\n",
    "    .query('user_id in @common_users_tests')\n",
    "    .pivot_table(index='ab_test', \n",
    "                 columns='group', \n",
    "                 values='user_id', \n",
    "                 aggfunc='count')\n",
    ")"
   ]
  },
  {
   "cell_type": "markdown",
   "id": "342844a7",
   "metadata": {},
   "source": [
    "Большинство пересекающихся пользователей оказались в контрольной группе А что в первом, что во втором тесте."
   ]
  },
  {
   "cell_type": "code",
   "execution_count": 98,
   "id": "e43c2b14",
   "metadata": {
    "colab": {
     "base_uri": "https://localhost:8080/",
     "height": 90
    },
    "id": "e43c2b14",
    "outputId": "20dd3b11-6427-4f96-d8b7-32236e1db3bf"
   },
   "outputs": [
    {
     "data": {
      "text/plain": [
       "'schedule, datetime64[ns]'"
      ]
     },
     "metadata": {},
     "output_type": "display_data"
    },
    {
     "data": {
      "text/plain": [
       "'schedule, datetime64[ns]'"
      ]
     },
     "metadata": {},
     "output_type": "display_data"
    },
    {
     "data": {
      "text/plain": [
       "'events, datetime64[ns]'"
      ]
     },
     "metadata": {},
     "output_type": "display_data"
    },
    {
     "data": {
      "text/plain": [
       "'users, datetime64[ns]'"
      ]
     },
     "metadata": {},
     "output_type": "display_data"
    }
   ],
   "source": [
    "#преобразуем временные данные \n",
    "\n",
    "time = ['first_date', \n",
    "        'event_dt', \n",
    "        'start_dt', \n",
    "        'finish_dt']\n",
    "\n",
    "for df in df_dict:\n",
    "    for column in df_dict[df].columns:\n",
    "        if column in time:\n",
    "            df_dict[df][column] = pd.to_datetime(df_dict[df][column])\n",
    "            display(f'{df}, {df_dict[df][column].dtypes}')"
   ]
  },
  {
   "cell_type": "markdown",
   "id": "5fa8838e",
   "metadata": {
    "id": "5fa8838e"
   },
   "source": [
    "У нас имеется только один столбец с числовыми данными. Рассмотрим его более подробно."
   ]
  },
  {
   "cell_type": "code",
   "execution_count": 99,
   "id": "8d476ab8",
   "metadata": {
    "colab": {
     "base_uri": "https://localhost:8080/",
     "height": 393
    },
    "id": "8d476ab8",
    "outputId": "96ad9275-2c9f-430f-fc37-89e2744c73d4"
   },
   "outputs": [
    {
     "data": {
      "image/png": "[encoded data removed]",
      "text/plain": [
       "<Figure size 720x432 with 1 Axes>"
      ]
     },
     "metadata": {},
     "output_type": "display_data"
    }
   ],
   "source": [
    "events.hist(column='details', bins=100, figsize=(10, 6));"
   ]
  },
  {
   "cell_type": "code",
   "execution_count": 100,
   "id": "50b6335c",
   "metadata": {
    "colab": {
     "base_uri": "https://localhost:8080/"
    },
    "id": "50b6335c",
    "outputId": "77621c59-5e8e-4290-e7b0-ea7ed0f1e2bc"
   },
   "outputs": [
    {
     "data": {
      "text/plain": [
       "array([ 99.99,   9.99,   4.99, 499.99,    nan])"
      ]
     },
     "execution_count": 100,
     "metadata": {},
     "output_type": "execute_result"
    }
   ],
   "source": [
    "#уточним, что это за значения\n",
    "\n",
    "events.details.unique()"
   ]
  },
  {
   "cell_type": "code",
   "execution_count": 101,
   "id": "eb1dfd6a",
   "metadata": {
    "colab": {
     "base_uri": "https://localhost:8080/"
    },
    "id": "eb1dfd6a",
    "outputId": "2176ebc3-8243-49f1-d943-3ac37945eb99",
    "scrolled": true
   },
   "outputs": [
    {
     "data": {
      "text/plain": [
       "event_name  details\n",
       "purchase    4.99       46362\n",
       "            9.99        9530\n",
       "            99.99       5631\n",
       "            499.99      1217\n",
       "Name: details, dtype: int64"
      ]
     },
     "execution_count": 101,
     "metadata": {},
     "output_type": "execute_result"
    }
   ],
   "source": [
    "#уточним, каким действиям соответствуют эти значения\n",
    "\n",
    "events.groupby(['event_name', 'details'])['details'].count()"
   ]
  },
  {
   "cell_type": "markdown",
   "id": "02557614",
   "metadata": {
    "id": "02557614"
   },
   "source": [
    "Судя по полученным данным, все значения столбца `details` соответствуют стоимости покупок (purchase). Как мы помним, в этом столбце имеются и другие действия пользователей, а в датафрейме содержатся пропуски. Поскольку иные действия (логин, просмотр карточки и корзины) не требуют оплаты, значит, столбец details имеет отношение исключительно к столбцу с покупками. Следовательно, пропуски данных означают, что было совершено действие, не связанное с приобретением товара. "
   ]
  },
  {
   "cell_type": "code",
   "execution_count": 102,
   "id": "7c0b45bc",
   "metadata": {
    "colab": {
     "base_uri": "https://localhost:8080/",
     "height": 251
    },
    "id": "7c0b45bc",
    "outputId": "957c2a9b-cbe1-41b6-e19e-d16a1f2ae958"
   },
   "outputs": [
    {
     "data": {
      "text/plain": [
       "'количество пропусков: 377577'"
      ]
     },
     "metadata": {},
     "output_type": "display_data"
    },
    {
     "data": {
      "image/png": "[encoded data removed]",
      "text/plain": [
       "<Figure size 720x216 with 1 Axes>"
      ]
     },
     "metadata": {},
     "output_type": "display_data"
    }
   ],
   "source": [
    "#уточним количество пропусков в столбце details\n",
    "\n",
    "display(f\"количество пропусков: {events['details'].isna().sum()}\")\n",
    "\n",
    "ax = (\n",
    "    (events.isna().mean()*100)\n",
    "    .to_frame()\n",
    "    .rename(columns = {0:'space'})\n",
    "    .query('space > 0')\n",
    "    .sort_values(by = 'space', ascending = True)\n",
    "    .plot(kind= 'barh', y='space', figsize=(10,3), legend = False,\n",
    "         color=palette[5:])\n",
    "    .set_title('Процент пропусков в столбцe details', fontsize=15)\n",
    "     )"
   ]
  },
  {
   "cell_type": "markdown",
   "id": "32612843",
   "metadata": {
    "id": "32612843"
   },
   "source": [
    "Согласно количеству пропусков, действия, не связанные с покупками, составляют более 80% от столбца.\n",
    "Для возможности работы со столбцом заполним остальные данные \"заглушкой\", равной нулю."
   ]
  },
  {
   "cell_type": "code",
   "execution_count": 103,
   "id": "319f1d69",
   "metadata": {
    "colab": {
     "base_uri": "https://localhost:8080/"
    },
    "id": "319f1d69",
    "outputId": "e9e88c28-bfce-4aa1-9e4c-d4cd9b2b25b3"
   },
   "outputs": [
    {
     "data": {
      "text/plain": [
       "0"
      ]
     },
     "execution_count": 103,
     "metadata": {},
     "output_type": "execute_result"
    }
   ],
   "source": [
    "#заполним пропуски в столбце details нулевым значением, чтобы использовать его для расчетов без ошибок\n",
    "\n",
    "events['details'] = events['details'].fillna(0)\n",
    "\n",
    "#проверим результат\n",
    "\n",
    "events['details'].isna().sum()"
   ]
  },
  {
   "cell_type": "markdown",
   "id": "dfffd0f5",
   "metadata": {},
   "source": [
    "<a id=\"first_conclusion\"> </a>\n",
    "### Вывод по этапу"
   ]
  },
  {
   "cell_type": "markdown",
   "id": "42b54913",
   "metadata": {},
   "source": [
    "Получены основные характеристики датасетов, выявлено отсутствие нарушения стиля в наименовании столбцов, отсутствие явных дубликатов в датафреймах, выявлены более 1,6 тыс. дубликатов в столбце user_id в датафрейме `participants`, а также факт нахождения одних и тех же пользователей в двух тестах (с преобладанием группы А), ряд столбцов с датой и временем приведен к временному типу, обнаружены пропуски в столбце `details`, заполнены нулевым значением ввиду соответствия неденежным категориям действий. "
   ]
  },
  {
   "cell_type": "markdown",
   "id": "cb5b33d7",
   "metadata": {
    "id": "cb5b33d7"
   },
   "source": [
    "<a id=\"ab_estimation\"> </a>\n",
    "## Оценка корректности проведения теста"
   ]
  },
  {
   "cell_type": "markdown",
   "id": "c65bc901",
   "metadata": {
    "id": "c65bc901"
   },
   "source": [
    "<a id=\"specification_check\"> </a>\n",
    "### Проверка соответствия требованиям технического задания, пересечения с маркетинговыми событиями и другим тестом"
   ]
  },
  {
   "cell_type": "markdown",
   "id": "2860f936",
   "metadata": {
    "id": "2860f936"
   },
   "source": [
    "Техническое задание включает в себя следующие пункты:\n",
    "- Название теста: `recommender_system_test`;\n",
    "- группы: А — контрольная, B — новая платёжная воронка;\n",
    "- дата запуска: 2020-12-07;\n",
    "- дата остановки набора новых пользователей: 2020-12-21;\n",
    "- дата остановки: 2021-01-04;\n",
    "- аудитория: 15% новых пользователей из региона EU;\n",
    "- назначение теста: тестирование изменений, связанных с внедрением улучшенной рекомендательной системы;\n",
    "- ожидаемое количество участников теста: 6000.\n",
    "- ожидаемый эффект: за 14 дней с момента регистрации пользователи покажут улучшение каждой метрики не менее, чем на 10%:\n",
    "    - конверсии в просмотр карточек товаров — событие `product_page`,\n",
    "    - просмотры корзины — `product_cart`,\n",
    "    - покупки — `purchase`.\n",
    "    \n",
    "Пройдем по каждому из пунктов.\n",
    "Как мы убедились выше, тест `recommender_system_test` присутствует в числе тестов, имеется разделение на две группы А и В. "
   ]
  },
  {
   "cell_type": "code",
   "execution_count": 104,
   "id": "e94ed479",
   "metadata": {
    "colab": {
     "base_uri": "https://localhost:8080/",
     "height": 206
    },
    "id": "e94ed479",
    "outputId": "cd39beab-3998-44d8-d52e-a67b81a6eab0"
   },
   "outputs": [
    {
     "data": {
      "text/html": [
       "<div>\n",
       "<style scoped>\n",
       "    .dataframe tbody tr th:only-of-type {\n",
       "        vertical-align: middle;\n",
       "    }\n",
       "\n",
       "    .dataframe tbody tr th {\n",
       "        vertical-align: top;\n",
       "    }\n",
       "\n",
       "    .dataframe thead th {\n",
       "        text-align: right;\n",
       "    }\n",
       "</style>\n",
       "<table border=\"1\" class=\"dataframe\">\n",
       "  <thead>\n",
       "    <tr style=\"text-align: right;\">\n",
       "      <th></th>\n",
       "      <th>user_id</th>\n",
       "      <th>group</th>\n",
       "      <th>ab_test</th>\n",
       "    </tr>\n",
       "  </thead>\n",
       "  <tbody>\n",
       "    <tr>\n",
       "      <th>0</th>\n",
       "      <td>D1ABA3E2887B6A73</td>\n",
       "      <td>A</td>\n",
       "      <td>recommender_system_test</td>\n",
       "    </tr>\n",
       "    <tr>\n",
       "      <th>1</th>\n",
       "      <td>A7A3664BD6242119</td>\n",
       "      <td>A</td>\n",
       "      <td>recommender_system_test</td>\n",
       "    </tr>\n",
       "    <tr>\n",
       "      <th>2</th>\n",
       "      <td>DABC14FDDFADD29E</td>\n",
       "      <td>A</td>\n",
       "      <td>recommender_system_test</td>\n",
       "    </tr>\n",
       "    <tr>\n",
       "      <th>3</th>\n",
       "      <td>04988C5DF189632E</td>\n",
       "      <td>A</td>\n",
       "      <td>recommender_system_test</td>\n",
       "    </tr>\n",
       "    <tr>\n",
       "      <th>4</th>\n",
       "      <td>482F14783456D21B</td>\n",
       "      <td>B</td>\n",
       "      <td>recommender_system_test</td>\n",
       "    </tr>\n",
       "  </tbody>\n",
       "</table>\n",
       "</div>"
      ],
      "text/plain": [
       "            user_id group                  ab_test\n",
       "0  D1ABA3E2887B6A73     A  recommender_system_test\n",
       "1  A7A3664BD6242119     A  recommender_system_test\n",
       "2  DABC14FDDFADD29E     A  recommender_system_test\n",
       "3  04988C5DF189632E     A  recommender_system_test\n",
       "4  482F14783456D21B     B  recommender_system_test"
      ]
     },
     "execution_count": 104,
     "metadata": {},
     "output_type": "execute_result"
    }
   ],
   "source": [
    "#создадим отдельную переменную, куда войдет только тест recommender_system_test\n",
    "\n",
    "rec_test = participants.query('ab_test == \"recommender_system_test\"')\n",
    "rec_test.head(5)"
   ]
  },
  {
   "cell_type": "markdown",
   "id": "b7c3c072",
   "metadata": {
    "id": "b7c3c072"
   },
   "source": [
    "Проверим даты запуска, остановки набора и остановки теста. По информации из технического задания мы должны получить следующие показатели:\n",
    "- в датафрейме `users` имеются id пользователей, зарегистрировавшихся с 7 по 21 декабря 2020 года;\n",
    "- датафрейм `events` содержит события с 7 декабря 2020 по 4 января 2021 года.\n",
    "\n",
    "Убедимся, что фактические периоды в датафреймах совпадают с описанием."
   ]
  },
  {
   "cell_type": "code",
   "execution_count": 105,
   "id": "7e972f6c",
   "metadata": {
    "colab": {
     "base_uri": "https://localhost:8080/",
     "height": 54
    },
    "id": "7e972f6c",
    "outputId": "ecf8c2e2-0321-44a9-9d54-10ea06b8b9f9"
   },
   "outputs": [
    {
     "data": {
      "text/plain": [
       "'таблица events, столбец event_dt, охватываемый период: с 2020-12-07 по 2020-12-30'"
      ]
     },
     "metadata": {},
     "output_type": "display_data"
    },
    {
     "data": {
      "text/plain": [
       "'таблица users, столбец first_date, охватываемый период: с 2020-12-07 по 2020-12-23'"
      ]
     },
     "metadata": {},
     "output_type": "display_data"
    }
   ],
   "source": [
    "#убедимся, что датасеты охватывают необходимый период времени\n",
    "\n",
    "for df in df_dict:\n",
    "    for column in df_dict[df].columns:\n",
    "        if column in time and column not in ['start_dt', 'finish_dt'] :\n",
    "            min_t = min(df_dict[df][column].dt.date)\n",
    "            max_t = max(df_dict[df][column].dt.date)\n",
    "            display(f\"таблица {df}, столбец {column}, охватываемый период: с {min_t} по {max_t}\")"
   ]
  },
  {
   "cell_type": "markdown",
   "id": "86d58a0f",
   "metadata": {
    "id": "86d58a0f"
   },
   "source": [
    "Ни один датафрейм не совпал с заявленным описанием. В датафрейме `users` оказались пользователи с более поздней датой регистрации (23, а не 21 декабря), в а `events` - совершившие действия только до конца декабря, а не до 4 января 2021 года. И если мы можем убрать лишних пользователей, зарегистрировавшихся после окончания набора, то восполнить отсутствующие данные не представляется возможным. Вероятно, при выгрузке данных произошла ошибка. "
   ]
  },
  {
   "cell_type": "code",
   "execution_count": 106,
   "id": "28e0b382",
   "metadata": {
    "colab": {
     "base_uri": "https://localhost:8080/",
     "height": 206
    },
    "id": "28e0b382",
    "outputId": "cf74200d-7173-453f-9d08-cf90ba6492e3"
   },
   "outputs": [
    {
     "data": {
      "text/html": [
       "<div>\n",
       "<style scoped>\n",
       "    .dataframe tbody tr th:only-of-type {\n",
       "        vertical-align: middle;\n",
       "    }\n",
       "\n",
       "    .dataframe tbody tr th {\n",
       "        vertical-align: top;\n",
       "    }\n",
       "\n",
       "    .dataframe thead th {\n",
       "        text-align: right;\n",
       "    }\n",
       "</style>\n",
       "<table border=\"1\" class=\"dataframe\">\n",
       "  <thead>\n",
       "    <tr style=\"text-align: right;\">\n",
       "      <th></th>\n",
       "      <th>user_id</th>\n",
       "      <th>first_date</th>\n",
       "      <th>region</th>\n",
       "      <th>device</th>\n",
       "    </tr>\n",
       "  </thead>\n",
       "  <tbody>\n",
       "    <tr>\n",
       "      <th>0</th>\n",
       "      <td>D72A72121175D8BE</td>\n",
       "      <td>2020-12-07</td>\n",
       "      <td>EU</td>\n",
       "      <td>PC</td>\n",
       "    </tr>\n",
       "    <tr>\n",
       "      <th>1</th>\n",
       "      <td>F1C668619DFE6E65</td>\n",
       "      <td>2020-12-07</td>\n",
       "      <td>N.America</td>\n",
       "      <td>Android</td>\n",
       "    </tr>\n",
       "    <tr>\n",
       "      <th>2</th>\n",
       "      <td>2E1BF1D4C37EA01F</td>\n",
       "      <td>2020-12-07</td>\n",
       "      <td>EU</td>\n",
       "      <td>PC</td>\n",
       "    </tr>\n",
       "    <tr>\n",
       "      <th>3</th>\n",
       "      <td>50734A22C0C63768</td>\n",
       "      <td>2020-12-07</td>\n",
       "      <td>EU</td>\n",
       "      <td>iPhone</td>\n",
       "    </tr>\n",
       "    <tr>\n",
       "      <th>4</th>\n",
       "      <td>E1BDDCE0DAFA2679</td>\n",
       "      <td>2020-12-07</td>\n",
       "      <td>N.America</td>\n",
       "      <td>iPhone</td>\n",
       "    </tr>\n",
       "  </tbody>\n",
       "</table>\n",
       "</div>"
      ],
      "text/plain": [
       "            user_id first_date     region   device\n",
       "0  D72A72121175D8BE 2020-12-07         EU       PC\n",
       "1  F1C668619DFE6E65 2020-12-07  N.America  Android\n",
       "2  2E1BF1D4C37EA01F 2020-12-07         EU       PC\n",
       "3  50734A22C0C63768 2020-12-07         EU   iPhone\n",
       "4  E1BDDCE0DAFA2679 2020-12-07  N.America   iPhone"
      ]
     },
     "execution_count": 106,
     "metadata": {},
     "output_type": "execute_result"
    }
   ],
   "source": [
    "#исключим из датафрейма users пользователей, зарегистрировавшихся после окончания набора на тест\n",
    "\n",
    "users_test_period = users.query('first_date <= \"2020-12-21\"')\n",
    "users_test_period.head(5)"
   ]
  },
  {
   "cell_type": "code",
   "execution_count": 107,
   "id": "969fc458",
   "metadata": {
    "colab": {
     "base_uri": "https://localhost:8080/",
     "height": 72
    },
    "id": "969fc458",
    "outputId": "eb68230c-be0c-4044-83a9-221bc4f38665"
   },
   "outputs": [
    {
     "data": {
      "text/plain": [
       "'изначальное число пользователей: 61733'"
      ]
     },
     "metadata": {},
     "output_type": "display_data"
    },
    {
     "data": {
      "text/plain": [
       "'после удаления: 56470'"
      ]
     },
     "metadata": {},
     "output_type": "display_data"
    },
    {
     "data": {
      "text/plain": [
       "'разница: 5263'"
      ]
     },
     "metadata": {},
     "output_type": "display_data"
    }
   ],
   "source": [
    "#проверим, насколько сократился датасет\n",
    "\n",
    "display(f'изначальное число пользователей: {len(users)}')\n",
    "display(f'после удаления: {len(users_test_period)}')\n",
    "display(f'разница: {len(users) - len(users_test_period)}')"
   ]
  },
  {
   "cell_type": "markdown",
   "id": "e85c4a10",
   "metadata": {
    "id": "e85c4a10"
   },
   "source": [
    "Новый датасет без пользователей, зарегистрировавшихся после 21 декабря, составил около 56,5 тысяч пользователей: на 5 тысяч меньше, чем ранее."
   ]
  },
  {
   "cell_type": "code",
   "execution_count": 108,
   "id": "769fa2d6",
   "metadata": {
    "colab": {
     "base_uri": "https://localhost:8080/",
     "height": 206
    },
    "id": "769fa2d6",
    "outputId": "ab8ff356-f3cf-4a17-9346-ab147d5acd1c"
   },
   "outputs": [
    {
     "data": {
      "text/html": [
       "<div>\n",
       "<style scoped>\n",
       "    .dataframe tbody tr th:only-of-type {\n",
       "        vertical-align: middle;\n",
       "    }\n",
       "\n",
       "    .dataframe tbody tr th {\n",
       "        vertical-align: top;\n",
       "    }\n",
       "\n",
       "    .dataframe thead th {\n",
       "        text-align: right;\n",
       "    }\n",
       "</style>\n",
       "<table border=\"1\" class=\"dataframe\">\n",
       "  <thead>\n",
       "    <tr style=\"text-align: right;\">\n",
       "      <th></th>\n",
       "      <th>user_id</th>\n",
       "      <th>group</th>\n",
       "      <th>ab_test</th>\n",
       "      <th>first_date</th>\n",
       "      <th>region</th>\n",
       "      <th>device</th>\n",
       "    </tr>\n",
       "  </thead>\n",
       "  <tbody>\n",
       "    <tr>\n",
       "      <th>0</th>\n",
       "      <td>D1ABA3E2887B6A73</td>\n",
       "      <td>A</td>\n",
       "      <td>recommender_system_test</td>\n",
       "      <td>2020-12-07</td>\n",
       "      <td>EU</td>\n",
       "      <td>PC</td>\n",
       "    </tr>\n",
       "    <tr>\n",
       "      <th>1</th>\n",
       "      <td>A7A3664BD6242119</td>\n",
       "      <td>A</td>\n",
       "      <td>recommender_system_test</td>\n",
       "      <td>2020-12-20</td>\n",
       "      <td>EU</td>\n",
       "      <td>iPhone</td>\n",
       "    </tr>\n",
       "    <tr>\n",
       "      <th>2</th>\n",
       "      <td>DABC14FDDFADD29E</td>\n",
       "      <td>A</td>\n",
       "      <td>recommender_system_test</td>\n",
       "      <td>2020-12-08</td>\n",
       "      <td>EU</td>\n",
       "      <td>Mac</td>\n",
       "    </tr>\n",
       "    <tr>\n",
       "      <th>3</th>\n",
       "      <td>04988C5DF189632E</td>\n",
       "      <td>A</td>\n",
       "      <td>recommender_system_test</td>\n",
       "      <td>2020-12-14</td>\n",
       "      <td>EU</td>\n",
       "      <td>iPhone</td>\n",
       "    </tr>\n",
       "    <tr>\n",
       "      <th>4</th>\n",
       "      <td>482F14783456D21B</td>\n",
       "      <td>B</td>\n",
       "      <td>recommender_system_test</td>\n",
       "      <td>2020-12-14</td>\n",
       "      <td>EU</td>\n",
       "      <td>PC</td>\n",
       "    </tr>\n",
       "  </tbody>\n",
       "</table>\n",
       "</div>"
      ],
      "text/plain": [
       "            user_id group                  ab_test first_date region  device\n",
       "0  D1ABA3E2887B6A73     A  recommender_system_test 2020-12-07     EU      PC\n",
       "1  A7A3664BD6242119     A  recommender_system_test 2020-12-20     EU  iPhone\n",
       "2  DABC14FDDFADD29E     A  recommender_system_test 2020-12-08     EU     Mac\n",
       "3  04988C5DF189632E     A  recommender_system_test 2020-12-14     EU  iPhone\n",
       "4  482F14783456D21B     B  recommender_system_test 2020-12-14     EU      PC"
      ]
     },
     "execution_count": 108,
     "metadata": {},
     "output_type": "execute_result"
    }
   ],
   "source": [
    "#добавим данные по дате регистрации участников теста \n",
    "\n",
    "rec_test = rec_test.merge(users_test_period, on='user_id', how='left')\n",
    "rec_test.head(5)"
   ]
  },
  {
   "cell_type": "markdown",
   "id": "38df143b",
   "metadata": {
    "id": "38df143b"
   },
   "source": [
    "Проверим географию пользователей. По техническому заданию, аудитория датасета должна составлять 15% новых пользователей из европейского региона."
   ]
  },
  {
   "cell_type": "code",
   "execution_count": 109,
   "id": "9626d3ae",
   "metadata": {
    "colab": {
     "base_uri": "https://localhost:8080/"
    },
    "id": "9626d3ae",
    "outputId": "80629ef9-6f4e-4bb3-b1bf-f7aa12835019"
   },
   "outputs": [
    {
     "data": {
      "text/plain": [
       "region\n",
       "APAC           72\n",
       "CIS            55\n",
       "EU           6351\n",
       "N.America     223\n",
       "Name: user_id, dtype: int64"
      ]
     },
     "execution_count": 109,
     "metadata": {},
     "output_type": "execute_result"
    }
   ],
   "source": [
    "#проверим, входят ли в тестовые группы только пользователи из стран Европы\n",
    "\n",
    "rec_test.groupby('region')['user_id'].count()"
   ]
  },
  {
   "cell_type": "markdown",
   "id": "f65da2a7",
   "metadata": {
    "id": "f65da2a7"
   },
   "source": [
    "Большая часть тестовой группы действительно принадлежит европейскому региону, однако, в тест попала некая часть пользователей из Северной Америки, Азиатско-Тихоокенского региона и СНГ. "
   ]
  },
  {
   "cell_type": "code",
   "execution_count": 110,
   "id": "1c314888",
   "metadata": {
    "colab": {
     "base_uri": "https://localhost:8080/",
     "height": 54
    },
    "id": "1c314888",
    "outputId": "0ce90648-d19d-4f6c-fdd0-9c2812c7a6f2"
   },
   "outputs": [
    {
     "data": {
      "text/plain": [
       "'размер таблицы до удаления: 6701'"
      ]
     },
     "metadata": {},
     "output_type": "display_data"
    },
    {
     "data": {
      "text/plain": [
       "'размер таблицы после удаления: 6351'"
      ]
     },
     "metadata": {},
     "output_type": "display_data"
    }
   ],
   "source": [
    "#удалим из датафрейма пользователей не из ЕС\n",
    "\n",
    "display(f'размер таблицы до удаления: {rec_test.shape[0]}')\n",
    "rec_test = rec_test.query('region == \"EU\"')  \n",
    "display(f'размер таблицы после удаления: {rec_test.shape[0]}')"
   ]
  },
  {
   "cell_type": "code",
   "execution_count": 111,
   "id": "070848ae",
   "metadata": {
    "colab": {
     "base_uri": "https://localhost:8080/",
     "height": 35
    },
    "id": "070848ae",
    "outputId": "e30778ad-84f2-4cd5-c4e3-2c5e55d6f6bd"
   },
   "outputs": [
    {
     "data": {
      "text/plain": [
       "'участников теста от новых пользователей из ЕС: 15.0%'"
      ]
     },
     "metadata": {},
     "output_type": "display_data"
    }
   ],
   "source": [
    "#проверим, какой процент составляет группа участников теста от пользователей из ЕС\n",
    "\n",
    "eu_pcnt = round(rec_test.shape[0] /\\\n",
    "                users_test_period.query('region == \"EU\"').shape[0] * 100, 1)\n",
    "display(f'участников теста от новых пользователей из ЕС: {eu_pcnt}%')"
   ]
  },
  {
   "cell_type": "markdown",
   "id": "ff16d409",
   "metadata": {
    "id": "ff16d409"
   },
   "source": [
    "Требования по географии участников теста соблюдены: в группе присутствует 15% от новых пользователей из европейского региона.\n",
    "Согласно техническому заданию, ожидаемое количество участников теста должно равняться 6000. Уточним еще раз, какое количество пользователей вошло в итоговую таблицу по итогам корректировки региона и даты регистрации."
   ]
  },
  {
   "cell_type": "code",
   "execution_count": 112,
   "id": "0eb84d19",
   "metadata": {
    "colab": {
     "base_uri": "https://localhost:8080/",
     "height": 35
    },
    "id": "0eb84d19",
    "outputId": "24c83fca-4ece-4d41-bc53-bdc23b58c5ec"
   },
   "outputs": [
    {
     "data": {
      "text/plain": [
       "'Количество пользователей в тесте: 6351'"
      ]
     },
     "metadata": {},
     "output_type": "display_data"
    }
   ],
   "source": [
    "display(f'Количество пользователей в тесте: {len(rec_test)}')"
   ]
  },
  {
   "cell_type": "markdown",
   "id": "e3bdcc83",
   "metadata": {
    "id": "e3bdcc83"
   },
   "source": [
    "Количество пользователей на 351 человек превышает значение ТЗ. Придержимся логики, что чем больше данных, тем точнее результаты и оставим пользователей. Вероятно, мы вернемся к вопросу о численности теста после сравнения двух групп на равномерность."
   ]
  },
  {
   "cell_type": "code",
   "execution_count": 113,
   "id": "54f27621",
   "metadata": {
    "colab": {
     "base_uri": "https://localhost:8080/",
     "height": 206
    },
    "id": "54f27621",
    "outputId": "33c2e2fb-c163-4d54-ed38-5e1544e74eb1"
   },
   "outputs": [
    {
     "data": {
      "text/html": [
       "<div>\n",
       "<style scoped>\n",
       "    .dataframe tbody tr th:only-of-type {\n",
       "        vertical-align: middle;\n",
       "    }\n",
       "\n",
       "    .dataframe tbody tr th {\n",
       "        vertical-align: top;\n",
       "    }\n",
       "\n",
       "    .dataframe thead th {\n",
       "        text-align: right;\n",
       "    }\n",
       "</style>\n",
       "<table border=\"1\" class=\"dataframe\">\n",
       "  <thead>\n",
       "    <tr style=\"text-align: right;\">\n",
       "      <th></th>\n",
       "      <th>user_id</th>\n",
       "      <th>group</th>\n",
       "      <th>ab_test</th>\n",
       "      <th>first_date</th>\n",
       "      <th>region</th>\n",
       "      <th>device</th>\n",
       "      <th>event_dt</th>\n",
       "      <th>event_name</th>\n",
       "      <th>details</th>\n",
       "    </tr>\n",
       "  </thead>\n",
       "  <tbody>\n",
       "    <tr>\n",
       "      <th>0</th>\n",
       "      <td>D1ABA3E2887B6A73</td>\n",
       "      <td>A</td>\n",
       "      <td>recommender_system_test</td>\n",
       "      <td>2020-12-07</td>\n",
       "      <td>EU</td>\n",
       "      <td>PC</td>\n",
       "      <td>2020-12-07 14:43:27</td>\n",
       "      <td>purchase</td>\n",
       "      <td>99.99</td>\n",
       "    </tr>\n",
       "    <tr>\n",
       "      <th>1</th>\n",
       "      <td>D1ABA3E2887B6A73</td>\n",
       "      <td>A</td>\n",
       "      <td>recommender_system_test</td>\n",
       "      <td>2020-12-07</td>\n",
       "      <td>EU</td>\n",
       "      <td>PC</td>\n",
       "      <td>2020-12-25 00:04:56</td>\n",
       "      <td>purchase</td>\n",
       "      <td>4.99</td>\n",
       "    </tr>\n",
       "    <tr>\n",
       "      <th>2</th>\n",
       "      <td>D1ABA3E2887B6A73</td>\n",
       "      <td>A</td>\n",
       "      <td>recommender_system_test</td>\n",
       "      <td>2020-12-07</td>\n",
       "      <td>EU</td>\n",
       "      <td>PC</td>\n",
       "      <td>2020-12-07 14:43:29</td>\n",
       "      <td>product_cart</td>\n",
       "      <td>0.00</td>\n",
       "    </tr>\n",
       "    <tr>\n",
       "      <th>3</th>\n",
       "      <td>D1ABA3E2887B6A73</td>\n",
       "      <td>A</td>\n",
       "      <td>recommender_system_test</td>\n",
       "      <td>2020-12-07</td>\n",
       "      <td>EU</td>\n",
       "      <td>PC</td>\n",
       "      <td>2020-12-25 00:04:57</td>\n",
       "      <td>product_cart</td>\n",
       "      <td>0.00</td>\n",
       "    </tr>\n",
       "    <tr>\n",
       "      <th>4</th>\n",
       "      <td>D1ABA3E2887B6A73</td>\n",
       "      <td>A</td>\n",
       "      <td>recommender_system_test</td>\n",
       "      <td>2020-12-07</td>\n",
       "      <td>EU</td>\n",
       "      <td>PC</td>\n",
       "      <td>2020-12-07 14:43:27</td>\n",
       "      <td>product_page</td>\n",
       "      <td>0.00</td>\n",
       "    </tr>\n",
       "  </tbody>\n",
       "</table>\n",
       "</div>"
      ],
      "text/plain": [
       "            user_id group                  ab_test first_date region device  \\\n",
       "0  D1ABA3E2887B6A73     A  recommender_system_test 2020-12-07     EU     PC   \n",
       "1  D1ABA3E2887B6A73     A  recommender_system_test 2020-12-07     EU     PC   \n",
       "2  D1ABA3E2887B6A73     A  recommender_system_test 2020-12-07     EU     PC   \n",
       "3  D1ABA3E2887B6A73     A  recommender_system_test 2020-12-07     EU     PC   \n",
       "4  D1ABA3E2887B6A73     A  recommender_system_test 2020-12-07     EU     PC   \n",
       "\n",
       "             event_dt    event_name  details  \n",
       "0 2020-12-07 14:43:27      purchase    99.99  \n",
       "1 2020-12-25 00:04:56      purchase     4.99  \n",
       "2 2020-12-07 14:43:29  product_cart     0.00  \n",
       "3 2020-12-25 00:04:57  product_cart     0.00  \n",
       "4 2020-12-07 14:43:27  product_page     0.00  "
      ]
     },
     "execution_count": 113,
     "metadata": {},
     "output_type": "execute_result"
    }
   ],
   "source": [
    "#добавим к датафрейму информацию о действиях пользователей\n",
    "\n",
    "rec_test = rec_test.merge(events, on='user_id', how='left')\n",
    "rec_test.head(5)"
   ]
  },
  {
   "cell_type": "code",
   "execution_count": 114,
   "id": "d5ce27e4",
   "metadata": {},
   "outputs": [],
   "source": [
    "#добавим столбец с датой \n",
    "\n",
    "rec_test['dt'] = rec_test['event_dt'].dt.date"
   ]
  },
  {
   "cell_type": "code",
   "execution_count": 115,
   "id": "f2b3b01c",
   "metadata": {
    "colab": {
     "base_uri": "https://localhost:8080/",
     "height": 208
    },
    "id": "f2b3b01c",
    "outputId": "98576735-ed91-47d6-9817-f39a71a6ec79"
   },
   "outputs": [
    {
     "data": {
      "text/plain": [
       "6351"
      ]
     },
     "metadata": {},
     "output_type": "display_data"
    },
    {
     "data": {
      "text/plain": [
       "user_id          0\n",
       "group            0\n",
       "ab_test          0\n",
       "first_date       0\n",
       "region           0\n",
       "device           0\n",
       "event_dt      2870\n",
       "event_name    2870\n",
       "details       2870\n",
       "dt            2870\n",
       "dtype: int64"
      ]
     },
     "execution_count": 115,
     "metadata": {},
     "output_type": "execute_result"
    }
   ],
   "source": [
    "#проверим, все ли пользователей совершали действия \n",
    "\n",
    "display(rec_test['user_id'].nunique())\n",
    "rec_test.isna().sum()"
   ]
  },
  {
   "cell_type": "markdown",
   "id": "9b75e477",
   "metadata": {
    "id": "9b75e477"
   },
   "source": [
    "Треть пользователей не совершали тех или иных действий.\n",
    "Проверим распределение по группам таких пользователей."
   ]
  },
  {
   "cell_type": "code",
   "execution_count": 116,
   "id": "d273727e",
   "metadata": {
    "colab": {
     "base_uri": "https://localhost:8080/"
    },
    "id": "d273727e",
    "outputId": "17ec9998-fd3a-4808-a912-a5bfdd8ecea4"
   },
   "outputs": [
    {
     "data": {
      "text/plain": [
       "group\n",
       "A    1030\n",
       "B    1840\n",
       "Name: user_id, dtype: int64"
      ]
     },
     "execution_count": 116,
     "metadata": {},
     "output_type": "execute_result"
    }
   ],
   "source": [
    "#создадим отдельную переменную, куда вынесем id пользователей с пропущенными значениями\n",
    "\n",
    "nan_users = rec_test[rec_test['event_name'].isna()]['user_id']\n",
    "\n",
    "\n",
    "#сгруппируем пользователей, у которых есть пропуски по действиям\n",
    "#если кроме пропусков будет совершено действие - это отобразится в группировке\n",
    "\n",
    "rec_test.query('user_id in @nan_users').groupby('group')['user_id'].count()"
   ]
  },
  {
   "cell_type": "markdown",
   "id": "e549f4ee",
   "metadata": {
    "id": "e549f4ee"
   },
   "source": [
    "Среди пользователей, не совершивших действий, заметно преобладание участников группы В - 1840 пользователя против 1030.\n",
    "Выявим причину пропусков."
   ]
  },
  {
   "cell_type": "code",
   "execution_count": 117,
   "id": "4okz-Bypukub",
   "metadata": {
    "colab": {
     "base_uri": "https://localhost:8080/",
     "height": 143
    },
    "id": "4okz-Bypukub",
    "outputId": "482970a8-c3b3-4013-dddf-cde4ae10efe8"
   },
   "outputs": [
    {
     "data": {
      "text/html": [
       "<div>\n",
       "<style scoped>\n",
       "    .dataframe tbody tr th:only-of-type {\n",
       "        vertical-align: middle;\n",
       "    }\n",
       "\n",
       "    .dataframe tbody tr th {\n",
       "        vertical-align: top;\n",
       "    }\n",
       "\n",
       "    .dataframe thead th {\n",
       "        text-align: right;\n",
       "    }\n",
       "</style>\n",
       "<table border=\"1\" class=\"dataframe\">\n",
       "  <thead>\n",
       "    <tr style=\"text-align: right;\">\n",
       "      <th></th>\n",
       "      <th>user_id</th>\n",
       "      <th>group</th>\n",
       "      <th>ab_test</th>\n",
       "      <th>first_date</th>\n",
       "      <th>region</th>\n",
       "      <th>device</th>\n",
       "      <th>event_dt</th>\n",
       "      <th>event_name</th>\n",
       "      <th>details</th>\n",
       "      <th>dt</th>\n",
       "      <th>na</th>\n",
       "    </tr>\n",
       "  </thead>\n",
       "  <tbody>\n",
       "    <tr>\n",
       "      <th>0</th>\n",
       "      <td>D1ABA3E2887B6A73</td>\n",
       "      <td>A</td>\n",
       "      <td>recommender_system_test</td>\n",
       "      <td>2020-12-07</td>\n",
       "      <td>EU</td>\n",
       "      <td>PC</td>\n",
       "      <td>2020-12-07 14:43:27</td>\n",
       "      <td>purchase</td>\n",
       "      <td>99.99</td>\n",
       "      <td>2020-12-07</td>\n",
       "      <td>False</td>\n",
       "    </tr>\n",
       "    <tr>\n",
       "      <th>1</th>\n",
       "      <td>D1ABA3E2887B6A73</td>\n",
       "      <td>A</td>\n",
       "      <td>recommender_system_test</td>\n",
       "      <td>2020-12-07</td>\n",
       "      <td>EU</td>\n",
       "      <td>PC</td>\n",
       "      <td>2020-12-25 00:04:56</td>\n",
       "      <td>purchase</td>\n",
       "      <td>4.99</td>\n",
       "      <td>2020-12-25</td>\n",
       "      <td>False</td>\n",
       "    </tr>\n",
       "    <tr>\n",
       "      <th>2</th>\n",
       "      <td>D1ABA3E2887B6A73</td>\n",
       "      <td>A</td>\n",
       "      <td>recommender_system_test</td>\n",
       "      <td>2020-12-07</td>\n",
       "      <td>EU</td>\n",
       "      <td>PC</td>\n",
       "      <td>2020-12-07 14:43:29</td>\n",
       "      <td>product_cart</td>\n",
       "      <td>0.00</td>\n",
       "      <td>2020-12-07</td>\n",
       "      <td>False</td>\n",
       "    </tr>\n",
       "  </tbody>\n",
       "</table>\n",
       "</div>"
      ],
      "text/plain": [
       "            user_id group                  ab_test first_date region device  \\\n",
       "0  D1ABA3E2887B6A73     A  recommender_system_test 2020-12-07     EU     PC   \n",
       "1  D1ABA3E2887B6A73     A  recommender_system_test 2020-12-07     EU     PC   \n",
       "2  D1ABA3E2887B6A73     A  recommender_system_test 2020-12-07     EU     PC   \n",
       "\n",
       "             event_dt    event_name  details          dt     na  \n",
       "0 2020-12-07 14:43:27      purchase    99.99  2020-12-07  False  \n",
       "1 2020-12-25 00:04:56      purchase     4.99  2020-12-25  False  \n",
       "2 2020-12-07 14:43:29  product_cart     0.00  2020-12-07  False  "
      ]
     },
     "execution_count": 117,
     "metadata": {},
     "output_type": "execute_result"
    }
   ],
   "source": [
    "#добавим столбец с данными по пропускам\n",
    "\n",
    "rec_test['na'] = rec_test['event_name'].isna()\n",
    "rec_test.head(3)"
   ]
  },
  {
   "cell_type": "code",
   "execution_count": 118,
   "id": "08fec2af",
   "metadata": {
    "colab": {
     "base_uri": "https://localhost:8080/",
     "height": 503
    },
    "id": "08fec2af",
    "outputId": "2344b8a4-f09c-4fde-8e10-f9b54154b97d"
   },
   "outputs": [
    {
     "data": {
      "image/png": "[encoded data removed]",
      "text/plain": [
       "<Figure size 1080x576 with 1 Axes>"
      ]
     },
     "metadata": {},
     "output_type": "display_data"
    }
   ],
   "source": [
    "#сравним распределение по датам регистрации пользователей с действиями и без\n",
    "\n",
    "ax = rec_test.query('na == False').hist(column='first_date', bins=50, figsize=(15,8))\n",
    "rec_test.query('na == True').hist(column='first_date', bins=50, figsize=(15,8), ax=ax)\n",
    "plt.legend(labels=['пользователи с действиями', 'пользователи без действий'])\n",
    "plt.title('Гистограмма дат регистрации пользователей', fontsize=15);"
   ]
  },
  {
   "cell_type": "code",
   "execution_count": 119,
   "id": "u0QyfahIqm6E",
   "metadata": {
    "colab": {
     "base_uri": "https://localhost:8080/",
     "height": 395
    },
    "id": "u0QyfahIqm6E",
    "outputId": "8716c84b-67fb-4870-b34d-b335d9fe6e90"
   },
   "outputs": [
    {
     "data": {
      "image/png": "[encoded data removed]",
      "text/plain": [
       "<Figure size 720x432 with 1 Axes>"
      ]
     },
     "metadata": {},
     "output_type": "display_data"
    }
   ],
   "source": [
    "#уточним, с каких устройств заходили пользователи \n",
    "\n",
    "pivot = (\n",
    "        rec_test\n",
    "        .pivot_table(index='device', \n",
    "                     columns='na', \n",
    "                     values='user_id', \n",
    "                     aggfunc='count')\n",
    "        .sort_values(by=0)\n",
    "    )\n",
    "    \n",
    "\n",
    "\n",
    "ax = pivot.plot(kind='barh', \n",
    "                figsize=(10,6),\n",
    "                stacked=True, \n",
    "                color=[palette[4], palette[7]])\n",
    "\n",
    "ax.set_title('Распределение действий по устройствам', fontsize=15)\n",
    "for p in ax.patches:\n",
    "  width, height = p.get_width(), p.get_height()\n",
    "  x, y = p.get_xy() \n",
    "  ax.text(x+width/2, \n",
    "                y+height/2, \n",
    "                '{:.0f}'.format(width), \n",
    "                horizontalalignment='center', \n",
    "                verticalalignment='center');"
   ]
  },
  {
   "cell_type": "markdown",
   "id": "c29cc507",
   "metadata": {
    "id": "c29cc507"
   },
   "source": [
    "Чуть менее половины пользователей, которые не совершали действий, заходили через устройства на Android. Однако, это статистика не слишком отличается в своих пропорциях от распределения пользователей, которые совершали действия, а, следовательно, нельзя однозначно объяснить пропуски проблемами с работой сайта/приложения на той или иной платформе. Зато гистограммы по дате регистрации показали интересную особенность: бездействующие пользователи в основной массе регистрировались до середины декабря, в то время как активные - во второй половине месяца. \n",
    "Соответственно, объяснение этой причины может лежать или в изменениях в работе сайта (например, устранение неполадок, появление новых товаров) или возникновение интересных маркетинговых предложений после 15 декабря, которые стимулировали пользователей проявлять активность. "
   ]
  },
  {
   "cell_type": "code",
   "execution_count": 120,
   "id": "317e3e42",
   "metadata": {
    "colab": {
     "base_uri": "https://localhost:8080/",
     "height": 81
    },
    "id": "317e3e42",
    "outputId": "3bf5e882-8ec7-42ff-ff84-f805da61241b"
   },
   "outputs": [
    {
     "data": {
      "text/html": [
       "<div>\n",
       "<style scoped>\n",
       "    .dataframe tbody tr th:only-of-type {\n",
       "        vertical-align: middle;\n",
       "    }\n",
       "\n",
       "    .dataframe tbody tr th {\n",
       "        vertical-align: top;\n",
       "    }\n",
       "\n",
       "    .dataframe thead th {\n",
       "        text-align: right;\n",
       "    }\n",
       "</style>\n",
       "<table border=\"1\" class=\"dataframe\">\n",
       "  <thead>\n",
       "    <tr style=\"text-align: right;\">\n",
       "      <th></th>\n",
       "      <th>name</th>\n",
       "      <th>regions</th>\n",
       "      <th>start_dt</th>\n",
       "      <th>finish_dt</th>\n",
       "    </tr>\n",
       "  </thead>\n",
       "  <tbody>\n",
       "    <tr>\n",
       "      <th>0</th>\n",
       "      <td>Christmas&amp;New Year Promo</td>\n",
       "      <td>EU, N.America</td>\n",
       "      <td>2020-12-25</td>\n",
       "      <td>2021-01-03</td>\n",
       "    </tr>\n",
       "  </tbody>\n",
       "</table>\n",
       "</div>"
      ],
      "text/plain": [
       "                       name        regions   start_dt  finish_dt\n",
       "0  Christmas&New Year Promo  EU, N.America 2020-12-25 2021-01-03"
      ]
     },
     "execution_count": 120,
     "metadata": {},
     "output_type": "execute_result"
    }
   ],
   "source": [
    "#проверим, были ли маркетинговые события в декабре, и если да - после какого числа\n",
    "\n",
    "december_events = (\n",
    "    schedule\n",
    "    .query('finish_dt > \"2020-12-01\" and regions.str.contains(\"EU\")', engine=\"python\")\n",
    ")\n",
    "\n",
    "december_events"
   ]
  },
  {
   "cell_type": "markdown",
   "id": "18299a19",
   "metadata": {
    "id": "18299a19"
   },
   "source": [
    "В декабре найдено одно событие, которое актуально для европейского региона: Рождественское и новогоднее промо, запуск которого состоялся 25 декабря. Однако, данные за этот период частично не попали в датасет. \n",
    "\n",
    "Таким образом, определим возможные причины бездействия пользователей:\n",
    "- во второй половине декабря произошли изменения в работе сервиса, что позволило привлечь более заинтересованных в пользователей (например, починка сайта или отдельных его функций, изменение дизайна и т.д.)\n",
    "- проведение в первой половине декабря предварительной рекламы или акции: например, пользователям предлагалось зарегистрироваться заранее, чтобы получить скидку, не пропустить какое-то событие и т.д., но, в конечном итоге, эти пользователи ограничились лишь регистрацией и больше не заходили на сайт;\n",
    "- также рассмотрим вариант, что эти пользователи также попали во второе исследование, из-за чего возникла ошибка - однако, у нас нет сведений о времени проведения второго теста."
   ]
  },
  {
   "cell_type": "code",
   "execution_count": 121,
   "id": "fdff53f4",
   "metadata": {
    "colab": {
     "base_uri": "https://localhost:8080/"
    },
    "id": "fdff53f4",
    "outputId": "6ba7ca18-a844-4bba-b745-6640928bc838"
   },
   "outputs": [
    {
     "data": {
      "text/plain": [
       "715"
      ]
     },
     "execution_count": 121,
     "metadata": {},
     "output_type": "execute_result"
    }
   ],
   "source": [
    "#выведем число пользователей без действий, которые попали в другой тест\n",
    "\n",
    "len(participants.query('ab_test == \"interface_eu_test\" and user_id in @nan_users'))"
   ]
  },
  {
   "cell_type": "markdown",
   "id": "1054b278",
   "metadata": {
    "id": "1054b278"
   },
   "source": [
    "Четверть пользователей, не совершивших действие, вошли в число участников второго теста. Следовательно, нельзя однозначно утверждать, что проблема заключается в этом. "
   ]
  },
  {
   "cell_type": "markdown",
   "id": "f45054a4",
   "metadata": {
    "id": "f45054a4"
   },
   "source": [
    "Участники теста `recommender_system_test`, не совершившие действий, не требуются нам для анализа, так как по ним отсутствуют необходимые данные. Удалим их из датафрейма и проверим число пользователей получившейся таблицы. "
   ]
  },
  {
   "cell_type": "code",
   "execution_count": 122,
   "id": "65c7837c",
   "metadata": {
    "colab": {
     "base_uri": "https://localhost:8080/",
     "height": 35
    },
    "id": "65c7837c",
    "outputId": "6a1ba6eb-1d30-45a6-8f00-a75d1cedbb1b"
   },
   "outputs": [
    {
     "data": {
      "text/plain": [
       "'новое число участников теста: 3481'"
      ]
     },
     "metadata": {},
     "output_type": "display_data"
    }
   ],
   "source": [
    "rec_test = rec_test[~rec_test['event_name'].isna()]\n",
    "\n",
    "display(f'новое число участников теста: {rec_test.user_id.nunique()}')"
   ]
  },
  {
   "cell_type": "code",
   "execution_count": 123,
   "id": "5386d5ac",
   "metadata": {
    "colab": {
     "base_uri": "https://localhost:8080/",
     "height": 54
    },
    "id": "5386d5ac",
    "outputId": "41b8a2a3-cbc7-44b8-9e8c-cb6ffeddebfb"
   },
   "outputs": [
    {
     "data": {
      "text/plain": [
       "'Отклонение от технического задания составляет:'"
      ]
     },
     "metadata": {},
     "output_type": "display_data"
    },
    {
     "data": {
      "text/plain": [
       "'2519 пользователя'"
      ]
     },
     "metadata": {},
     "output_type": "display_data"
    },
    {
     "data": {
      "text/plain": [
       "'Доля от пользователей из ЕС: 8.2%'"
      ]
     },
     "metadata": {},
     "output_type": "display_data"
    }
   ],
   "source": [
    "#выявим отклонение от технического задания\n",
    "\n",
    "display('Отклонение от технического задания составляет:')\n",
    "display(f'{6000 - rec_test.user_id.nunique()} пользователя')\n",
    "eu_pcnt = round(rec_test.user_id.nunique() /\\\n",
    "                users_test_period.query('region == \"EU\"').shape[0] * 100, 1)\n",
    "display(f'Доля от пользователей из ЕС: {eu_pcnt}%')"
   ]
  },
  {
   "cell_type": "markdown",
   "id": "7df3b3e3",
   "metadata": {
    "id": "7df3b3e3"
   },
   "source": [
    "Удаление пользователей значительным образом отразилось на выполнении условий технического задания: возник недобор 2,5 тысяч участников теста, доля от новых пользователей из ЕС которых составила 8,2% вместо положенных 15. Соответственно, соответствие техническому заданию на предыдущем этапе было лишь формальностью, которая не обеспечивала должных результатов теста."
   ]
  },
  {
   "cell_type": "markdown",
   "id": "-a1DCyr692rw",
   "metadata": {
    "id": "-a1DCyr692rw"
   },
   "source": [
    "Проверим повторно аудиторию теста. Ранее мы выяснили, что у нас отсутстуют пользователи, участвующие одновременно в обеих группах, однако имеются клиенты. попавшие одновременно в оба теста. Проверим, сколько их осталось после обработки данных."
   ]
  },
  {
   "cell_type": "code",
   "execution_count": 124,
   "id": "zENfZxnY_Wrm",
   "metadata": {
    "colab": {
     "base_uri": "https://localhost:8080/",
     "height": 54
    },
    "id": "zENfZxnY_Wrm",
    "outputId": "a037f6b7-4c1f-456f-ce86-9b25d58b1b59"
   },
   "outputs": [
    {
     "data": {
      "text/plain": [
       "'общих пользователей: 887'"
      ]
     },
     "metadata": {},
     "output_type": "display_data"
    },
    {
     "data": {
      "text/plain": [
       "'% от теста: 25.5'"
      ]
     },
     "metadata": {},
     "output_type": "display_data"
    }
   ],
   "source": [
    "#проверим наличие одних и тех же пользователей в разных тестах\n",
    "\n",
    "common_users_tests = (\n",
    "    set(rec_test['user_id'])\n",
    "    .intersection(set(participants\n",
    "                      .query('ab_test != \"recommender_system_test\"')['user_id']))\n",
    ")\n",
    "\n",
    "display(f'общих пользователей: {len(common_users_tests)}')\n",
    "display(f'% от теста: {round(len(common_users_tests) / rec_test.user_id.nunique() * 100, 1)}')"
   ]
  },
  {
   "cell_type": "markdown",
   "id": "tcudNJgq-KLB",
   "metadata": {
    "id": "tcudNJgq-KLB"
   },
   "source": [
    "Количество общих пользователей равно 887 человек или 25% от рассматриваемого теста. Одним из критериев успешного A/B теста является участие его пользователей только в одном исследовании: если параллельно пользователь включен в другой тест, вполне возможно влияние одних тестовых действий на другие (например, пользователю показывается другая версия сайта в рамках второго теста и он решает купить тот или иной продукт, который оценивается в первом тесте). Мы не знаем деталей теста `interface_eu_test`, однако, согласно его названию, мы можем предположить, что он так или иначе связан с интерфейсом сайта/приложения, в то время как наш тест подразумевает оценку системы рекомендаций. Следовательно, между вторым и первым тестами могут иметься противоречия. В идеале таких пользователей необходимо удалить, однако, как мы уже понимаем, тестирование уже на текущий момент имеет множество противоречий, и, кроме того, мы не знаем подробностпй второго теста. Проверим также остальные параметры, которые могут влиять на выполнение ТЗ и примем решение об удалении таких пользователей."
   ]
  },
  {
   "cell_type": "markdown",
   "id": "tHp53cCQEkci",
   "metadata": {
    "id": "tHp53cCQEkci"
   },
   "source": [
    "Еще одним фактором, который может повлиять на чистоту проведения теста, является совпадение с его проведением маркетинговых мероприятий. Как мы выявили ранее, в конце декабря действительно начиналась предновогодняя акция. Выведем еще раз информацию о ней и времени проведения."
   ]
  },
  {
   "cell_type": "code",
   "execution_count": 125,
   "id": "lmc6gWNUJnYF",
   "metadata": {
    "colab": {
     "base_uri": "https://localhost:8080/",
     "height": 81
    },
    "id": "lmc6gWNUJnYF",
    "outputId": "c32af5ed-df5c-46f7-db44-e8d4b1e8e5ee"
   },
   "outputs": [
    {
     "data": {
      "text/html": [
       "<div>\n",
       "<style scoped>\n",
       "    .dataframe tbody tr th:only-of-type {\n",
       "        vertical-align: middle;\n",
       "    }\n",
       "\n",
       "    .dataframe tbody tr th {\n",
       "        vertical-align: top;\n",
       "    }\n",
       "\n",
       "    .dataframe thead th {\n",
       "        text-align: right;\n",
       "    }\n",
       "</style>\n",
       "<table border=\"1\" class=\"dataframe\">\n",
       "  <thead>\n",
       "    <tr style=\"text-align: right;\">\n",
       "      <th></th>\n",
       "      <th>name</th>\n",
       "      <th>regions</th>\n",
       "      <th>start_dt</th>\n",
       "      <th>finish_dt</th>\n",
       "    </tr>\n",
       "  </thead>\n",
       "  <tbody>\n",
       "    <tr>\n",
       "      <th>0</th>\n",
       "      <td>Christmas&amp;New Year Promo</td>\n",
       "      <td>EU, N.America</td>\n",
       "      <td>2020-12-25</td>\n",
       "      <td>2021-01-03</td>\n",
       "    </tr>\n",
       "  </tbody>\n",
       "</table>\n",
       "</div>"
      ],
      "text/plain": [
       "                       name        regions   start_dt  finish_dt\n",
       "0  Christmas&New Year Promo  EU, N.America 2020-12-25 2021-01-03"
      ]
     },
     "execution_count": 125,
     "metadata": {},
     "output_type": "execute_result"
    }
   ],
   "source": [
    "#выводим информацию\n",
    "\n",
    "december_events"
   ]
  },
  {
   "cell_type": "markdown",
   "id": "PVCnsemnJ8Mk",
   "metadata": {
    "id": "PVCnsemnJ8Mk"
   },
   "source": [
    "Декабрьская промо-акция начиналась 25 декабря и заканчивалась 3 января, совпадая, таким образом, со значительным периодом теста (который, по условиям, должен был проходить с 7 декабря по 4 января). \n",
    "В то же время, как показали результаты выше, у нас имеется не весь объем данных: максимальная дата совершения действий приходится на 30 декабря. "
   ]
  },
  {
   "cell_type": "code",
   "execution_count": 126,
   "id": "fJVeCYGWJ7pj",
   "metadata": {
    "colab": {
     "base_uri": "https://localhost:8080/",
     "height": 52
    },
    "id": "fJVeCYGWJ7pj",
    "outputId": "1f6a95a6-987c-4042-d0f6-7e0aae61436f"
   },
   "outputs": [
    {
     "data": {
      "text/plain": [
       "'пользователей:'"
      ]
     },
     "metadata": {},
     "output_type": "display_data"
    },
    {
     "data": {
      "text/plain": [
       "1462"
      ]
     },
     "metadata": {},
     "output_type": "display_data"
    },
    {
     "data": {
      "text/plain": [
       "'от событий: 42.00%'"
      ]
     },
     "execution_count": 126,
     "metadata": {},
     "output_type": "execute_result"
    }
   ],
   "source": [
    "#уточним, как много пользователей совершали действия после 24 декабря\n",
    "\n",
    "display(f'пользователей:', rec_test.query('event_dt > \"2020-12-24\"')['user_id'].nunique())\n",
    "'от событий: {:.2%}'.format(rec_test.query('event_dt > \"2020-12-24\"')['user_id'].nunique() /\\\n",
    "                            rec_test['user_id'].nunique())"
   ]
  },
  {
   "cell_type": "markdown",
   "id": "f4917aa0",
   "metadata": {},
   "source": [
    "После 25 декабря почти 1,5 тыс. пользователи или 42% от данных совершили те или иные действия."
   ]
  },
  {
   "cell_type": "code",
   "execution_count": 127,
   "id": "LaNVjlMjZDpp",
   "metadata": {
    "id": "LaNVjlMjZDpp"
   },
   "outputs": [],
   "source": [
    "#внесем id пользователей в отдельную переменную\n",
    "\n",
    "id_after_promo = rec_test.query('event_dt > \"2020-12-24\"')['user_id'].unique()"
   ]
  },
  {
   "cell_type": "code",
   "execution_count": 128,
   "id": "YqTxp5zlOGY_",
   "metadata": {
    "colab": {
     "base_uri": "https://localhost:8080/",
     "height": 52
    },
    "id": "YqTxp5zlOGY_",
    "outputId": "03d5ea34-cacd-490a-d390-67941b061343"
   },
   "outputs": [
    {
     "data": {
      "text/plain": [
       "'действий:'"
      ]
     },
     "metadata": {},
     "output_type": "display_data"
    },
    {
     "data": {
      "text/plain": [
       "4163"
      ]
     },
     "metadata": {},
     "output_type": "display_data"
    },
    {
     "data": {
      "text/plain": [
       "'от событий: 17.78%'"
      ]
     },
     "execution_count": 128,
     "metadata": {},
     "output_type": "execute_result"
    }
   ],
   "source": [
    "#уточним, какой объем приходится на действия после 24 декабря\n",
    "\n",
    "display('действий:', len(rec_test.query('event_dt > \"2020-12-24\"')))\n",
    "'от событий: {:.2%}'.format(len(rec_test.query('event_dt > \"2020-12-24\"')) /\\\n",
    "                            rec_test.shape[0])\n"
   ]
  },
  {
   "cell_type": "markdown",
   "id": "xRJXkhMwM_MK",
   "metadata": {
    "id": "xRJXkhMwM_MK"
   },
   "source": [
    "События, которые совершили пользователи после 24 декабря, составляют 18% от объема теста.  Проверим, повлияли ли распродажи на совершение действий пользователей."
   ]
  },
  {
   "cell_type": "code",
   "execution_count": 129,
   "id": "jBRwO7TKQurg",
   "metadata": {
    "colab": {
     "base_uri": "https://localhost:8080/",
     "height": 577
    },
    "id": "jBRwO7TKQurg",
    "outputId": "4dc66b33-15b8-4498-c0fd-0ec87b1062d1"
   },
   "outputs": [
    {
     "data": {
      "image/png": "[encoded data removed]",
      "text/plain": [
       "<Figure size 960x640 with 1 Axes>"
      ]
     },
     "metadata": {},
     "output_type": "display_data"
    }
   ],
   "source": [
    "#построим гистограммы по каждому типу действий\n",
    "\n",
    "plt.figure(figsize=(12, 8), dpi=80)\n",
    "sns.histplot(data=rec_test, x='event_dt', hue='event_name', color=palette[6:10], kde=True)\n",
    "plt.title('Гистограмма распределения по типам действий', fontsize=15)\n",
    "plt.xlabel('Значение')\n",
    "plt.ylabel('Частота');"
   ]
  },
  {
   "cell_type": "markdown",
   "id": "Ho-ei3kPTd6P",
   "metadata": {
    "id": "Ho-ei3kPTd6P"
   },
   "source": [
    "По всей видимости, участники теста успели сделать покупки заранее - значительный рост всех действий начался 14 декабря, пиковое значение пришлось на 21 декабря, после чего наметилось снижение. "
   ]
  },
  {
   "cell_type": "code",
   "execution_count": 130,
   "id": "_sV5O1n4YquL",
   "metadata": {
    "colab": {
     "base_uri": "https://localhost:8080/",
     "height": 90
    },
    "id": "_sV5O1n4YquL",
    "outputId": "44e29a1a-1071-49f0-cd5a-955858bed092"
   },
   "outputs": [
    {
     "data": {
      "text/plain": [
       "'пользователей в common_users: 887'"
      ]
     },
     "metadata": {},
     "output_type": "display_data"
    },
    {
     "data": {
      "text/plain": [
       "'пользователей в promo: 1462'"
      ]
     },
     "metadata": {},
     "output_type": "display_data"
    },
    {
     "data": {
      "text/plain": [
       "'пересечений: 377 '"
      ]
     },
     "metadata": {},
     "output_type": "display_data"
    },
    {
     "data": {
      "text/plain": [
       "'соотношение: 60.67%'"
      ]
     },
     "execution_count": 130,
     "metadata": {},
     "output_type": "execute_result"
    }
   ],
   "source": [
    "#проверим, насколько большие пересечения между группами пользователей\n",
    "#которые не соответствуют требования ТЗ\n",
    "\n",
    "wrong_users = {'common_users': common_users_tests, \n",
    "               'promo': id_after_promo}\n",
    "\n",
    "for k in wrong_users:\n",
    "    display(f'пользователей в {k}: {len(wrong_users[k])}')\n",
    "\n",
    "intrs = len(set(common_users_tests).intersection(set(id_after_promo)))\n",
    "display(f'пересечений: {intrs} ')\n",
    "'соотношение: {:.2%}'.format(len(common_users_tests) / len(id_after_promo))\n"
   ]
  },
  {
   "cell_type": "markdown",
   "id": "raPcTnoCdK7y",
   "metadata": {
    "id": "raPcTnoCdK7y"
   },
   "source": [
    "Пользователи из пересекающихся групп составляют довольно большой объем данных от участников теста, действия которых были совершены в период промоакций - 60%."
   ]
  },
  {
   "cell_type": "code",
   "execution_count": 131,
   "id": "vLFRTbmqdmfl",
   "metadata": {
    "id": "vLFRTbmqdmfl"
   },
   "outputs": [],
   "source": [
    "#проверим, как изменится объем данных, если мы исключим все эти проблемные группы\n",
    "#сохраним старые параметры\n",
    "\n",
    "previous_nusers = rec_test['user_id'].nunique()\n",
    "previous_nevents = rec_test.shape[0]\n",
    "\n",
    "\n",
    "clear_test = rec_test.query('user_id not in @common_users_tests and user_id not in @id_after_promo')\n",
    "\n",
    "next_nusers = clear_test['user_id'].nunique()\n",
    "next_nevents = clear_test.shape[0]\n"
   ]
  },
  {
   "cell_type": "code",
   "execution_count": 132,
   "id": "m1zM97J3kwxB",
   "metadata": {
    "colab": {
     "base_uri": "https://localhost:8080/",
     "height": 54
    },
    "id": "m1zM97J3kwxB",
    "outputId": "e5ad5983-5ad6-4a6c-c04b-6d5d1fe9bd42"
   },
   "outputs": [
    {
     "data": {
      "text/plain": [
       "'новое число участников теста: 1509, событий: 8650'"
      ]
     },
     "metadata": {},
     "output_type": "display_data"
    },
    {
     "data": {
      "text/plain": [
       "'% от предыдущих пользователей: 43.35%'"
      ]
     },
     "metadata": {},
     "output_type": "display_data"
    },
    {
     "data": {
      "text/plain": [
       "'% от событий: 36.93%'"
      ]
     },
     "metadata": {},
     "output_type": "display_data"
    }
   ],
   "source": [
    "display(f'новое число участников теста: {next_nusers}, событий: {next_nevents}')\n",
    "display('% от предыдущих пользователей: {:.2%}'.format(next_nusers / previous_nusers))\n",
    "display('% от событий: {:.2%}'.format(next_nevents / previous_nevents))   "
   ]
  },
  {
   "cell_type": "markdown",
   "id": "q5CVQwrrdmCn",
   "metadata": {
    "id": "q5CVQwrrdmCn"
   },
   "source": [
    "Очистка данных позволила удалить более половины пользователей и значительную частью событий, которые противоречат техническому заданию. Выделение частичных срезов (например, удаление только пересекающихся пользователей), на наш взгляд, не имеет смысла, так как все спорные пользователи попадают под влияние тех или иных факторов. В то же время, их удаление сократило ожидаемое количество участников теста в четыре раза. \n",
    "\n",
    "Проверим, различаются ли наши два по группировке участников и ожидаемому результату. "
   ]
  },
  {
   "cell_type": "code",
   "execution_count": 133,
   "id": "Nlc--VnhG1ii",
   "metadata": {
    "colab": {
     "base_uri": "https://localhost:8080/",
     "height": 156
    },
    "id": "Nlc--VnhG1ii",
    "outputId": "d4e90c42-3aa0-43c5-8cfc-611d785e0836"
   },
   "outputs": [
    {
     "data": {
      "text/plain": [
       "group\n",
       "A    2604\n",
       "B     877\n",
       "Name: user_id, dtype: int64"
      ]
     },
     "metadata": {},
     "output_type": "display_data"
    },
    {
     "data": {
      "text/plain": [
       "group\n",
       "A    75.0\n",
       "B    25.0\n",
       "Name: user_id, dtype: float64"
      ]
     },
     "execution_count": 133,
     "metadata": {},
     "output_type": "execute_result"
    }
   ],
   "source": [
    "#уточним размеры и доли групп для предыдущей версии датафрейма\n",
    "\n",
    "display(rec_test.groupby('group')['user_id'].nunique())\n",
    "round(rec_test.groupby('group')['user_id'].nunique()/ rec_test.user_id.nunique() * 100)"
   ]
  },
  {
   "cell_type": "code",
   "execution_count": 134,
   "id": "OZBflUTYgmK0",
   "metadata": {
    "colab": {
     "base_uri": "https://localhost:8080/",
     "height": 156
    },
    "id": "OZBflUTYgmK0",
    "outputId": "d7f79643-6b3f-487d-9c72-ef081549351c"
   },
   "outputs": [
    {
     "data": {
      "text/plain": [
       "group\n",
       "A    1057\n",
       "B     452\n",
       "Name: user_id, dtype: int64"
      ]
     },
     "metadata": {},
     "output_type": "display_data"
    },
    {
     "data": {
      "text/plain": [
       "group\n",
       "A    70.0\n",
       "B    30.0\n",
       "Name: user_id, dtype: float64"
      ]
     },
     "execution_count": 134,
     "metadata": {},
     "output_type": "execute_result"
    }
   ],
   "source": [
    "#уточним размеры и доли групп для новой версии\n",
    "\n",
    "display(clear_test.groupby('group')['user_id'].nunique())\n",
    "round(clear_test.groupby('group')['user_id'].nunique()/ clear_test.user_id.nunique() * 100)"
   ]
  },
  {
   "cell_type": "markdown",
   "id": "eo1zcXvPEbH-",
   "metadata": {
    "id": "eo1zcXvPEbH-"
   },
   "source": [
    "Одним из условий проведения A/B теста является равномернось всех участвующих групп. Различие в числе пользователей не должно превышать более 1%. В нашем случае значительная диспропорция видна невооруженным глазом: в предыдущей версии теста пользователей в группе А ровно в три раза больше, чем в группе В. Такой тест явно нельзя считать корректным. Эти пропорции чуть более сглажены в обновленной версии, однако разрыв по-прежнему велик - группа А превышает более чем в два раза группу В."
   ]
  },
  {
   "cell_type": "markdown",
   "id": "f45709c3",
   "metadata": {
    "id": "f45709c3"
   },
   "source": [
    "Наконец, проверим последнее условие технического задания: \n",
    "- ожидаемый эффект: за 14 дней с момента регистрации пользователи покажут улучшение каждой метрики не менее, чем на 10%:\n",
    "    - конверсии в просмотр карточек товаров — событие `product_page`,\n",
    "    - просмотры корзины — `product_cart`,\n",
    "    - покупки — `purchase`."
   ]
  },
  {
   "cell_type": "markdown",
   "id": "Duzuhmr4KUo4",
   "metadata": {
    "id": "Duzuhmr4KUo4"
   },
   "source": [
    "Для чистоты эксперимента проверим эти данные как на предыдущей версии теста, так и на новой. \n",
    "Так как нас интересует конверсия за 14 дней, исключим из датафреймов все действия, которые совершались пользователи на 15 день и далее. "
   ]
  },
  {
   "cell_type": "code",
   "execution_count": 135,
   "id": "OTMHvSY9J0X3",
   "metadata": {
    "colab": {
     "base_uri": "https://localhost:8080/",
     "height": 499
    },
    "id": "OTMHvSY9J0X3",
    "outputId": "36115f7d-2e1d-4141-cc9a-c53c2cd023f4"
   },
   "outputs": [
    {
     "name": "stderr",
     "output_type": "stream",
     "text": [
      "/tmp/ipykernel_48/3010951812.py:4: SettingWithCopyWarning:\n",
      "\n",
      "\n",
      "A value is trying to be set on a copy of a slice from a DataFrame.\n",
      "Try using .loc[row_indexer,col_indexer] = value instead\n",
      "\n",
      "See the caveats in the documentation: https://pandas.pydata.org/pandas-docs/stable/user_guide/indexing.html#returning-a-view-versus-a-copy\n",
      "\n"
     ]
    },
    {
     "data": {
      "text/html": [
       "<div>\n",
       "<style scoped>\n",
       "    .dataframe tbody tr th:only-of-type {\n",
       "        vertical-align: middle;\n",
       "    }\n",
       "\n",
       "    .dataframe tbody tr th {\n",
       "        vertical-align: top;\n",
       "    }\n",
       "\n",
       "    .dataframe thead th {\n",
       "        text-align: right;\n",
       "    }\n",
       "</style>\n",
       "<table border=\"1\" class=\"dataframe\">\n",
       "  <thead>\n",
       "    <tr style=\"text-align: right;\">\n",
       "      <th></th>\n",
       "      <th>user_id</th>\n",
       "      <th>group</th>\n",
       "      <th>ab_test</th>\n",
       "      <th>first_date</th>\n",
       "      <th>region</th>\n",
       "      <th>device</th>\n",
       "      <th>event_dt</th>\n",
       "      <th>event_name</th>\n",
       "      <th>details</th>\n",
       "      <th>dt</th>\n",
       "      <th>na</th>\n",
       "      <th>diff</th>\n",
       "    </tr>\n",
       "  </thead>\n",
       "  <tbody>\n",
       "    <tr>\n",
       "      <th>0</th>\n",
       "      <td>D1ABA3E2887B6A73</td>\n",
       "      <td>A</td>\n",
       "      <td>recommender_system_test</td>\n",
       "      <td>2020-12-07</td>\n",
       "      <td>EU</td>\n",
       "      <td>PC</td>\n",
       "      <td>2020-12-07 14:43:27</td>\n",
       "      <td>purchase</td>\n",
       "      <td>99.99</td>\n",
       "      <td>2020-12-07</td>\n",
       "      <td>False</td>\n",
       "      <td>0</td>\n",
       "    </tr>\n",
       "    <tr>\n",
       "      <th>1</th>\n",
       "      <td>D1ABA3E2887B6A73</td>\n",
       "      <td>A</td>\n",
       "      <td>recommender_system_test</td>\n",
       "      <td>2020-12-07</td>\n",
       "      <td>EU</td>\n",
       "      <td>PC</td>\n",
       "      <td>2020-12-25 00:04:56</td>\n",
       "      <td>purchase</td>\n",
       "      <td>4.99</td>\n",
       "      <td>2020-12-25</td>\n",
       "      <td>False</td>\n",
       "      <td>18</td>\n",
       "    </tr>\n",
       "    <tr>\n",
       "      <th>2</th>\n",
       "      <td>D1ABA3E2887B6A73</td>\n",
       "      <td>A</td>\n",
       "      <td>recommender_system_test</td>\n",
       "      <td>2020-12-07</td>\n",
       "      <td>EU</td>\n",
       "      <td>PC</td>\n",
       "      <td>2020-12-07 14:43:29</td>\n",
       "      <td>product_cart</td>\n",
       "      <td>0.00</td>\n",
       "      <td>2020-12-07</td>\n",
       "      <td>False</td>\n",
       "      <td>0</td>\n",
       "    </tr>\n",
       "    <tr>\n",
       "      <th>3</th>\n",
       "      <td>D1ABA3E2887B6A73</td>\n",
       "      <td>A</td>\n",
       "      <td>recommender_system_test</td>\n",
       "      <td>2020-12-07</td>\n",
       "      <td>EU</td>\n",
       "      <td>PC</td>\n",
       "      <td>2020-12-25 00:04:57</td>\n",
       "      <td>product_cart</td>\n",
       "      <td>0.00</td>\n",
       "      <td>2020-12-25</td>\n",
       "      <td>False</td>\n",
       "      <td>18</td>\n",
       "    </tr>\n",
       "    <tr>\n",
       "      <th>4</th>\n",
       "      <td>D1ABA3E2887B6A73</td>\n",
       "      <td>A</td>\n",
       "      <td>recommender_system_test</td>\n",
       "      <td>2020-12-07</td>\n",
       "      <td>EU</td>\n",
       "      <td>PC</td>\n",
       "      <td>2020-12-07 14:43:27</td>\n",
       "      <td>product_page</td>\n",
       "      <td>0.00</td>\n",
       "      <td>2020-12-07</td>\n",
       "      <td>False</td>\n",
       "      <td>0</td>\n",
       "    </tr>\n",
       "  </tbody>\n",
       "</table>\n",
       "</div>"
      ],
      "text/plain": [
       "            user_id group                  ab_test first_date region device  \\\n",
       "0  D1ABA3E2887B6A73     A  recommender_system_test 2020-12-07     EU     PC   \n",
       "1  D1ABA3E2887B6A73     A  recommender_system_test 2020-12-07     EU     PC   \n",
       "2  D1ABA3E2887B6A73     A  recommender_system_test 2020-12-07     EU     PC   \n",
       "3  D1ABA3E2887B6A73     A  recommender_system_test 2020-12-07     EU     PC   \n",
       "4  D1ABA3E2887B6A73     A  recommender_system_test 2020-12-07     EU     PC   \n",
       "\n",
       "             event_dt    event_name  details          dt     na  diff  \n",
       "0 2020-12-07 14:43:27      purchase    99.99  2020-12-07  False     0  \n",
       "1 2020-12-25 00:04:56      purchase     4.99  2020-12-25  False    18  \n",
       "2 2020-12-07 14:43:29  product_cart     0.00  2020-12-07  False     0  \n",
       "3 2020-12-25 00:04:57  product_cart     0.00  2020-12-25  False    18  \n",
       "4 2020-12-07 14:43:27  product_page     0.00  2020-12-07  False     0  "
      ]
     },
     "metadata": {},
     "output_type": "display_data"
    },
    {
     "data": {
      "text/html": [
       "<div>\n",
       "<style scoped>\n",
       "    .dataframe tbody tr th:only-of-type {\n",
       "        vertical-align: middle;\n",
       "    }\n",
       "\n",
       "    .dataframe tbody tr th {\n",
       "        vertical-align: top;\n",
       "    }\n",
       "\n",
       "    .dataframe thead th {\n",
       "        text-align: right;\n",
       "    }\n",
       "</style>\n",
       "<table border=\"1\" class=\"dataframe\">\n",
       "  <thead>\n",
       "    <tr style=\"text-align: right;\">\n",
       "      <th></th>\n",
       "      <th>user_id</th>\n",
       "      <th>group</th>\n",
       "      <th>ab_test</th>\n",
       "      <th>first_date</th>\n",
       "      <th>region</th>\n",
       "      <th>device</th>\n",
       "      <th>event_dt</th>\n",
       "      <th>event_name</th>\n",
       "      <th>details</th>\n",
       "      <th>dt</th>\n",
       "      <th>na</th>\n",
       "      <th>diff</th>\n",
       "    </tr>\n",
       "  </thead>\n",
       "  <tbody>\n",
       "    <tr>\n",
       "      <th>45</th>\n",
       "      <td>7473E0943673C09E</td>\n",
       "      <td>A</td>\n",
       "      <td>recommender_system_test</td>\n",
       "      <td>2020-12-16</td>\n",
       "      <td>EU</td>\n",
       "      <td>iPhone</td>\n",
       "      <td>2020-12-16 10:31:31</td>\n",
       "      <td>product_page</td>\n",
       "      <td>0.00</td>\n",
       "      <td>2020-12-16</td>\n",
       "      <td>False</td>\n",
       "      <td>0</td>\n",
       "    </tr>\n",
       "    <tr>\n",
       "      <th>46</th>\n",
       "      <td>7473E0943673C09E</td>\n",
       "      <td>A</td>\n",
       "      <td>recommender_system_test</td>\n",
       "      <td>2020-12-16</td>\n",
       "      <td>EU</td>\n",
       "      <td>iPhone</td>\n",
       "      <td>2020-12-19 03:12:25</td>\n",
       "      <td>product_page</td>\n",
       "      <td>0.00</td>\n",
       "      <td>2020-12-19</td>\n",
       "      <td>False</td>\n",
       "      <td>3</td>\n",
       "    </tr>\n",
       "    <tr>\n",
       "      <th>47</th>\n",
       "      <td>7473E0943673C09E</td>\n",
       "      <td>A</td>\n",
       "      <td>recommender_system_test</td>\n",
       "      <td>2020-12-16</td>\n",
       "      <td>EU</td>\n",
       "      <td>iPhone</td>\n",
       "      <td>2020-12-16 10:31:30</td>\n",
       "      <td>login</td>\n",
       "      <td>0.00</td>\n",
       "      <td>2020-12-16</td>\n",
       "      <td>False</td>\n",
       "      <td>0</td>\n",
       "    </tr>\n",
       "    <tr>\n",
       "      <th>48</th>\n",
       "      <td>7473E0943673C09E</td>\n",
       "      <td>A</td>\n",
       "      <td>recommender_system_test</td>\n",
       "      <td>2020-12-16</td>\n",
       "      <td>EU</td>\n",
       "      <td>iPhone</td>\n",
       "      <td>2020-12-19 03:12:25</td>\n",
       "      <td>login</td>\n",
       "      <td>0.00</td>\n",
       "      <td>2020-12-19</td>\n",
       "      <td>False</td>\n",
       "      <td>3</td>\n",
       "    </tr>\n",
       "    <tr>\n",
       "      <th>49</th>\n",
       "      <td>C46FE336D240A054</td>\n",
       "      <td>A</td>\n",
       "      <td>recommender_system_test</td>\n",
       "      <td>2020-12-17</td>\n",
       "      <td>EU</td>\n",
       "      <td>iPhone</td>\n",
       "      <td>2020-12-17 20:16:31</td>\n",
       "      <td>purchase</td>\n",
       "      <td>4.99</td>\n",
       "      <td>2020-12-17</td>\n",
       "      <td>False</td>\n",
       "      <td>0</td>\n",
       "    </tr>\n",
       "  </tbody>\n",
       "</table>\n",
       "</div>"
      ],
      "text/plain": [
       "             user_id group                  ab_test first_date region  device  \\\n",
       "45  7473E0943673C09E     A  recommender_system_test 2020-12-16     EU  iPhone   \n",
       "46  7473E0943673C09E     A  recommender_system_test 2020-12-16     EU  iPhone   \n",
       "47  7473E0943673C09E     A  recommender_system_test 2020-12-16     EU  iPhone   \n",
       "48  7473E0943673C09E     A  recommender_system_test 2020-12-16     EU  iPhone   \n",
       "49  C46FE336D240A054     A  recommender_system_test 2020-12-17     EU  iPhone   \n",
       "\n",
       "              event_dt    event_name  details          dt     na  diff  \n",
       "45 2020-12-16 10:31:31  product_page     0.00  2020-12-16  False     0  \n",
       "46 2020-12-19 03:12:25  product_page     0.00  2020-12-19  False     3  \n",
       "47 2020-12-16 10:31:30         login     0.00  2020-12-16  False     0  \n",
       "48 2020-12-19 03:12:25         login     0.00  2020-12-19  False     3  \n",
       "49 2020-12-17 20:16:31      purchase     4.99  2020-12-17  False     0  "
      ]
     },
     "execution_count": 135,
     "metadata": {},
     "output_type": "execute_result"
    }
   ],
   "source": [
    "#добавим в каждую из таблиц столбец с данными по промежутку времени между регистрацией и действием\n",
    "\n",
    "rec_test['diff'] =  (rec_test['event_dt'] - rec_test['first_date']).dt.days\n",
    "clear_test['diff'] =  (clear_test['event_dt'] - clear_test['first_date']).dt.days\n",
    "\n",
    "display(rec_test.head(5))\n",
    "clear_test.head(5)"
   ]
  },
  {
   "cell_type": "code",
   "execution_count": 136,
   "id": "sp756hNFVxNo",
   "metadata": {
    "id": "sp756hNFVxNo"
   },
   "outputs": [],
   "source": [
    "#создадим функцию для вычисление таблицы с информацией о размерах групп \n",
    "\n",
    "def check_conversion(data):\n",
    "    \"\"\"Функция содержит код для построения таблицы по группам.\n",
    "\n",
    "    Передаваемые на вход аргументы:\n",
    "    data - датафрейм\n",
    "    \"\"\"\n",
    "    \n",
    "    steps = (data\n",
    "          .pivot_table(index='event_name', columns='group', values='user_id', aggfunc='count')\n",
    "          .rename(columns={'A': 'A_events', 'B': 'B_events'})\n",
    "          )\n",
    "\n",
    "    steps = (steps\n",
    "          .join(data\n",
    "                .pivot_table(index='event_name', columns='group', values='user_id', aggfunc='nunique')\n",
    "                .rename(columns={'A': 'A_users', 'B': 'B_users'}), on = 'event_name')\n",
    "          )\n",
    "\n",
    "    steps['range'] = [0, 2, 1, 3]\n",
    "    steps = steps.sort_values(by='range').drop('range', axis=1)\n",
    "\n",
    "    for i in steps.columns:\n",
    "        steps[i + '_diff'] = steps[i].diff()\n",
    "\n",
    "\n",
    "    return steps"
   ]
  },
  {
   "cell_type": "code",
   "execution_count": 137,
   "id": "mFgOluIADiOM",
   "metadata": {
    "id": "mFgOluIADiOM"
   },
   "outputs": [],
   "source": [
    "#создадим функцию для построения воронки \n",
    "\n",
    "def funnel(steps, x1, x2, title):\n",
    "    \"\"\"Функция содержит код для построения \n",
    "    визуальной воронки конверсии.\n",
    "\n",
    "    Передаваемые на вход аргументы:\n",
    "    steps - сгруппированная таблица по А и В\n",
    "    х1, х2 - параметры столбцов\n",
    "    title - название воронки   \n",
    "    \"\"\"\n",
    "    \n",
    "    fig = go.Figure()\n",
    "    fig.add_trace(go.Funnel(y=steps.index,\n",
    "                            x=steps[x1],\n",
    "                            name=x1,\n",
    "                            textposition = \"inside\", \n",
    "                            textinfo = \"value+percent previous\",\n",
    "                            opacity = 0.65, \n",
    "                            marker = {\"color\": \"cadetblue\"}))\n",
    "    fig.add_trace(go.Funnel(y=steps.index,\n",
    "                            x=steps[x2],\n",
    "                            name=x2,\n",
    "                            textposition = \"inside\", \n",
    "                            textinfo = \"value+percent previous\",\n",
    "                            opacity = 0.65, \n",
    "                            marker = {\"color\": \"wheat\"},\n",
    "                            connector = {\"line\": {\"color\": \"white\", \n",
    "                                                  \"dash\": \"dot\", \n",
    "                                                  \"width\": 3}}))\n",
    "    fig.update_layout(title=f'Конверсия: {title}')\n",
    "    fig.show()"
   ]
  },
  {
   "cell_type": "code",
   "execution_count": 138,
   "id": "w6F91qT8MkSU",
   "metadata": {
    "colab": {
     "base_uri": "https://localhost:8080/",
     "height": 206
    },
    "id": "w6F91qT8MkSU",
    "outputId": "ebc66b87-8cb8-4419-f4e9-7499c1ddbfbb"
   },
   "outputs": [
    {
     "data": {
      "text/html": [
       "<div>\n",
       "<style scoped>\n",
       "    .dataframe tbody tr th:only-of-type {\n",
       "        vertical-align: middle;\n",
       "    }\n",
       "\n",
       "    .dataframe tbody tr th {\n",
       "        vertical-align: top;\n",
       "    }\n",
       "\n",
       "    .dataframe thead th {\n",
       "        text-align: right;\n",
       "    }\n",
       "</style>\n",
       "<table border=\"1\" class=\"dataframe\">\n",
       "  <thead>\n",
       "    <tr style=\"text-align: right;\">\n",
       "      <th>group</th>\n",
       "      <th>A_events</th>\n",
       "      <th>B_events</th>\n",
       "      <th>A_users</th>\n",
       "      <th>B_users</th>\n",
       "      <th>A_events_diff</th>\n",
       "      <th>B_events_diff</th>\n",
       "      <th>A_users_diff</th>\n",
       "      <th>B_users_diff</th>\n",
       "    </tr>\n",
       "    <tr>\n",
       "      <th>event_name</th>\n",
       "      <th></th>\n",
       "      <th></th>\n",
       "      <th></th>\n",
       "      <th></th>\n",
       "      <th></th>\n",
       "      <th></th>\n",
       "      <th></th>\n",
       "      <th></th>\n",
       "    </tr>\n",
       "  </thead>\n",
       "  <tbody>\n",
       "    <tr>\n",
       "      <th>login</th>\n",
       "      <td>7968</td>\n",
       "      <td>2345</td>\n",
       "      <td>2604</td>\n",
       "      <td>876</td>\n",
       "      <td>NaN</td>\n",
       "      <td>NaN</td>\n",
       "      <td>NaN</td>\n",
       "      <td>NaN</td>\n",
       "    </tr>\n",
       "    <tr>\n",
       "      <th>product_page</th>\n",
       "      <td>5125</td>\n",
       "      <td>1257</td>\n",
       "      <td>1685</td>\n",
       "      <td>493</td>\n",
       "      <td>-2843.0</td>\n",
       "      <td>-1088.0</td>\n",
       "      <td>-919.0</td>\n",
       "      <td>-383.0</td>\n",
       "    </tr>\n",
       "    <tr>\n",
       "      <th>product_cart</th>\n",
       "      <td>2385</td>\n",
       "      <td>625</td>\n",
       "      <td>782</td>\n",
       "      <td>244</td>\n",
       "      <td>-2740.0</td>\n",
       "      <td>-632.0</td>\n",
       "      <td>-903.0</td>\n",
       "      <td>-249.0</td>\n",
       "    </tr>\n",
       "    <tr>\n",
       "      <th>purchase</th>\n",
       "      <td>2499</td>\n",
       "      <td>624</td>\n",
       "      <td>833</td>\n",
       "      <td>249</td>\n",
       "      <td>114.0</td>\n",
       "      <td>-1.0</td>\n",
       "      <td>51.0</td>\n",
       "      <td>5.0</td>\n",
       "    </tr>\n",
       "  </tbody>\n",
       "</table>\n",
       "</div>"
      ],
      "text/plain": [
       "group         A_events  B_events  A_users  B_users  A_events_diff  \\\n",
       "event_name                                                          \n",
       "login             7968      2345     2604      876            NaN   \n",
       "product_page      5125      1257     1685      493        -2843.0   \n",
       "product_cart      2385       625      782      244        -2740.0   \n",
       "purchase          2499       624      833      249          114.0   \n",
       "\n",
       "group         B_events_diff  A_users_diff  B_users_diff  \n",
       "event_name                                               \n",
       "login                   NaN           NaN           NaN  \n",
       "product_page        -1088.0        -919.0        -383.0  \n",
       "product_cart         -632.0        -903.0        -249.0  \n",
       "purchase               -1.0          51.0           5.0  "
      ]
     },
     "execution_count": 138,
     "metadata": {},
     "output_type": "execute_result"
    }
   ],
   "source": [
    "#проверим, как много событий было совершено пользователями предыдущей версии\n",
    "\n",
    "steps = check_conversion(rec_test.query('diff <= 14'))\n",
    "steps"
   ]
  },
  {
   "cell_type": "code",
   "execution_count": 139,
   "id": "nLi-dCGtf-Fg",
   "metadata": {
    "colab": {
     "base_uri": "https://localhost:8080/",
     "height": 542
    },
    "id": "nLi-dCGtf-Fg",
    "outputId": "d01e85ba-75b8-4b3c-c661-fffe078f7ef8"
   },
   "outputs": [
    {
     "data": {
      "application/vnd.plotly.v1+json": {
       "config": {
        "plotlyServerURL": "https://plot.ly"
       },
       "data": [
        {
         "marker": {
          "color": "cadetblue"
         },
         "name": "A_users",
         "opacity": 0.65,
         "textinfo": "value+percent previous",
         "textposition": "inside",
         "type": "funnel",
         "x": [
          2604,
          1685,
          782,
          833
         ],
         "y": [
          "login",
          "product_page",
          "product_cart",
          "purchase"
         ]
        },
        {
         "connector": {
          "line": {
           "color": "white",
           "dash": "dot",
           "width": 3
          }
         },
         "marker": {
          "color": "wheat"
         },
         "name": "B_users",
         "opacity": 0.65,
         "textinfo": "value+percent previous",
         "textposition": "inside",
         "type": "funnel",
         "x": [
          876,
          493,
          244,
          249
         ],
         "y": [
          "login",
          "product_page",
          "product_cart",
          "purchase"
         ]
        }
       ],
       "layout": {
        "template": {
         "data": {
          "bar": [
           {
            "error_x": {
             "color": "#2a3f5f"
            },
            "error_y": {
             "color": "#2a3f5f"
            },
            "marker": {
             "line": {
              "color": "#E5ECF6",
              "width": 0.5
             },
             "pattern": {
              "fillmode": "overlay",
              "size": 10,
              "solidity": 0.2
             }
            },
            "type": "bar"
           }
          ],
          "barpolar": [
           {
            "marker": {
             "line": {
              "color": "#E5ECF6",
              "width": 0.5
             },
             "pattern": {
              "fillmode": "overlay",
              "size": 10,
              "solidity": 0.2
             }
            },
            "type": "barpolar"
           }
          ],
          "carpet": [
           {
            "aaxis": {
             "endlinecolor": "#2a3f5f",
             "gridcolor": "white",
             "linecolor": "white",
             "minorgridcolor": "white",
             "startlinecolor": "#2a3f5f"
            },
            "baxis": {
             "endlinecolor": "#2a3f5f",
             "gridcolor": "white",
             "linecolor": "white",
             "minorgridcolor": "white",
             "startlinecolor": "#2a3f5f"
            },
            "type": "carpet"
           }
          ],
          "choropleth": [
           {
            "colorbar": {
             "outlinewidth": 0,
             "ticks": ""
            },
            "type": "choropleth"
           }
          ],
          "contour": [
           {
            "colorbar": {
             "outlinewidth": 0,
             "ticks": ""
            },
            "colorscale": [
             [
              0,
              "#0d0887"
             ],
             [
              0.1111111111111111,
              "#46039f"
             ],
             [
              0.2222222222222222,
              "#7201a8"
             ],
             [
              0.3333333333333333,
              "#9c179e"
             ],
             [
              0.4444444444444444,
              "#bd3786"
             ],
             [
              0.5555555555555556,
              "#d8576b"
             ],
             [
              0.6666666666666666,
              "#ed7953"
             ],
             [
              0.7777777777777778,
              "#fb9f3a"
             ],
             [
              0.8888888888888888,
              "#fdca26"
             ],
             [
              1,
              "#f0f921"
             ]
            ],
            "type": "contour"
           }
          ],
          "contourcarpet": [
           {
            "colorbar": {
             "outlinewidth": 0,
             "ticks": ""
            },
            "type": "contourcarpet"
           }
          ],
          "heatmap": [
           {
            "colorbar": {
             "outlinewidth": 0,
             "ticks": ""
            },
            "colorscale": [
             [
              0,
              "#0d0887"
             ],
             [
              0.1111111111111111,
              "#46039f"
             ],
             [
              0.2222222222222222,
              "#7201a8"
             ],
             [
              0.3333333333333333,
              "#9c179e"
             ],
             [
              0.4444444444444444,
              "#bd3786"
             ],
             [
              0.5555555555555556,
              "#d8576b"
             ],
             [
              0.6666666666666666,
              "#ed7953"
             ],
             [
              0.7777777777777778,
              "#fb9f3a"
             ],
             [
              0.8888888888888888,
              "#fdca26"
             ],
             [
              1,
              "#f0f921"
             ]
            ],
            "type": "heatmap"
           }
          ],
          "heatmapgl": [
           {
            "colorbar": {
             "outlinewidth": 0,
             "ticks": ""
            },
            "colorscale": [
             [
              0,
              "#0d0887"
             ],
             [
              0.1111111111111111,
              "#46039f"
             ],
             [
              0.2222222222222222,
              "#7201a8"
             ],
             [
              0.3333333333333333,
              "#9c179e"
             ],
             [
              0.4444444444444444,
              "#bd3786"
             ],
             [
              0.5555555555555556,
              "#d8576b"
             ],
             [
              0.6666666666666666,
              "#ed7953"
             ],
             [
              0.7777777777777778,
              "#fb9f3a"
             ],
             [
              0.8888888888888888,
              "#fdca26"
             ],
             [
              1,
              "#f0f921"
             ]
            ],
            "type": "heatmapgl"
           }
          ],
          "histogram": [
           {
            "marker": {
             "pattern": {
              "fillmode": "overlay",
              "size": 10,
              "solidity": 0.2
             }
            },
            "type": "histogram"
           }
          ],
          "histogram2d": [
           {
            "colorbar": {
             "outlinewidth": 0,
             "ticks": ""
            },
            "colorscale": [
             [
              0,
              "#0d0887"
             ],
             [
              0.1111111111111111,
              "#46039f"
             ],
             [
              0.2222222222222222,
              "#7201a8"
             ],
             [
              0.3333333333333333,
              "#9c179e"
             ],
             [
              0.4444444444444444,
              "#bd3786"
             ],
             [
              0.5555555555555556,
              "#d8576b"
             ],
             [
              0.6666666666666666,
              "#ed7953"
             ],
             [
              0.7777777777777778,
              "#fb9f3a"
             ],
             [
              0.8888888888888888,
              "#fdca26"
             ],
             [
              1,
              "#f0f921"
             ]
            ],
            "type": "histogram2d"
           }
          ],
          "histogram2dcontour": [
           {
            "colorbar": {
             "outlinewidth": 0,
             "ticks": ""
            },
            "colorscale": [
             [
              0,
              "#0d0887"
             ],
             [
              0.1111111111111111,
              "#46039f"
             ],
             [
              0.2222222222222222,
              "#7201a8"
             ],
             [
              0.3333333333333333,
              "#9c179e"
             ],
             [
              0.4444444444444444,
              "#bd3786"
             ],
             [
              0.5555555555555556,
              "#d8576b"
             ],
             [
              0.6666666666666666,
              "#ed7953"
             ],
             [
              0.7777777777777778,
              "#fb9f3a"
             ],
             [
              0.8888888888888888,
              "#fdca26"
             ],
             [
              1,
              "#f0f921"
             ]
            ],
            "type": "histogram2dcontour"
           }
          ],
          "mesh3d": [
           {
            "colorbar": {
             "outlinewidth": 0,
             "ticks": ""
            },
            "type": "mesh3d"
           }
          ],
          "parcoords": [
           {
            "line": {
             "colorbar": {
              "outlinewidth": 0,
              "ticks": ""
             }
            },
            "type": "parcoords"
           }
          ],
          "pie": [
           {
            "automargin": true,
            "type": "pie"
           }
          ],
          "scatter": [
           {
            "marker": {
             "colorbar": {
              "outlinewidth": 0,
              "ticks": ""
             }
            },
            "type": "scatter"
           }
          ],
          "scatter3d": [
           {
            "line": {
             "colorbar": {
              "outlinewidth": 0,
              "ticks": ""
             }
            },
            "marker": {
             "colorbar": {
              "outlinewidth": 0,
              "ticks": ""
             }
            },
            "type": "scatter3d"
           }
          ],
          "scattercarpet": [
           {
            "marker": {
             "colorbar": {
              "outlinewidth": 0,
              "ticks": ""
             }
            },
            "type": "scattercarpet"
           }
          ],
          "scattergeo": [
           {
            "marker": {
             "colorbar": {
              "outlinewidth": 0,
              "ticks": ""
             }
            },
            "type": "scattergeo"
           }
          ],
          "scattergl": [
           {
            "marker": {
             "colorbar": {
              "outlinewidth": 0,
              "ticks": ""
             }
            },
            "type": "scattergl"
           }
          ],
          "scattermapbox": [
           {
            "marker": {
             "colorbar": {
              "outlinewidth": 0,
              "ticks": ""
             }
            },
            "type": "scattermapbox"
           }
          ],
          "scatterpolar": [
           {
            "marker": {
             "colorbar": {
              "outlinewidth": 0,
              "ticks": ""
             }
            },
            "type": "scatterpolar"
           }
          ],
          "scatterpolargl": [
           {
            "marker": {
             "colorbar": {
              "outlinewidth": 0,
              "ticks": ""
             }
            },
            "type": "scatterpolargl"
           }
          ],
          "scatterternary": [
           {
            "marker": {
             "colorbar": {
              "outlinewidth": 0,
              "ticks": ""
             }
            },
            "type": "scatterternary"
           }
          ],
          "surface": [
           {
            "colorbar": {
             "outlinewidth": 0,
             "ticks": ""
            },
            "colorscale": [
             [
              0,
              "#0d0887"
             ],
             [
              0.1111111111111111,
              "#46039f"
             ],
             [
              0.2222222222222222,
              "#7201a8"
             ],
             [
              0.3333333333333333,
              "#9c179e"
             ],
             [
              0.4444444444444444,
              "#bd3786"
             ],
             [
              0.5555555555555556,
              "#d8576b"
             ],
             [
              0.6666666666666666,
              "#ed7953"
             ],
             [
              0.7777777777777778,
              "#fb9f3a"
             ],
             [
              0.8888888888888888,
              "#fdca26"
             ],
             [
              1,
              "#f0f921"
             ]
            ],
            "type": "surface"
           }
          ],
          "table": [
           {
            "cells": {
             "fill": {
              "color": "#EBF0F8"
             },
             "line": {
              "color": "white"
             }
            },
            "header": {
             "fill": {
              "color": "#C8D4E3"
             },
             "line": {
              "color": "white"
             }
            },
            "type": "table"
           }
          ]
         },
         "layout": {
          "annotationdefaults": {
           "arrowcolor": "#2a3f5f",
           "arrowhead": 0,
           "arrowwidth": 1
          },
          "autotypenumbers": "strict",
          "coloraxis": {
           "colorbar": {
            "outlinewidth": 0,
            "ticks": ""
           }
          },
          "colorscale": {
           "diverging": [
            [
             0,
             "#8e0152"
            ],
            [
             0.1,
             "#c51b7d"
            ],
            [
             0.2,
             "#de77ae"
            ],
            [
             0.3,
             "#f1b6da"
            ],
            [
             0.4,
             "#fde0ef"
            ],
            [
             0.5,
             "#f7f7f7"
            ],
            [
             0.6,
             "#e6f5d0"
            ],
            [
             0.7,
             "#b8e186"
            ],
            [
             0.8,
             "#7fbc41"
            ],
            [
             0.9,
             "#4d9221"
            ],
            [
             1,
             "#276419"
            ]
           ],
           "sequential": [
            [
             0,
             "#0d0887"
            ],
            [
             0.1111111111111111,
             "#46039f"
            ],
            [
             0.2222222222222222,
             "#7201a8"
            ],
            [
             0.3333333333333333,
             "#9c179e"
            ],
            [
             0.4444444444444444,
             "#bd3786"
            ],
            [
             0.5555555555555556,
             "#d8576b"
            ],
            [
             0.6666666666666666,
             "#ed7953"
            ],
            [
             0.7777777777777778,
             "#fb9f3a"
            ],
            [
             0.8888888888888888,
             "#fdca26"
            ],
            [
             1,
             "#f0f921"
            ]
           ],
           "sequentialminus": [
            [
             0,
             "#0d0887"
            ],
            [
             0.1111111111111111,
             "#46039f"
            ],
            [
             0.2222222222222222,
             "#7201a8"
            ],
            [
             0.3333333333333333,
             "#9c179e"
            ],
            [
             0.4444444444444444,
             "#bd3786"
            ],
            [
             0.5555555555555556,
             "#d8576b"
            ],
            [
             0.6666666666666666,
             "#ed7953"
            ],
            [
             0.7777777777777778,
             "#fb9f3a"
            ],
            [
             0.8888888888888888,
             "#fdca26"
            ],
            [
             1,
             "#f0f921"
            ]
           ]
          },
          "colorway": [
           "#636efa",
           "#EF553B",
           "#00cc96",
           "#ab63fa",
           "#FFA15A",
           "#19d3f3",
           "#FF6692",
           "#B6E880",
           "#FF97FF",
           "#FECB52"
          ],
          "font": {
           "color": "#2a3f5f"
          },
          "geo": {
           "bgcolor": "white",
           "lakecolor": "white",
           "landcolor": "#E5ECF6",
           "showlakes": true,
           "showland": true,
           "subunitcolor": "white"
          },
          "hoverlabel": {
           "align": "left"
          },
          "hovermode": "closest",
          "mapbox": {
           "style": "light"
          },
          "paper_bgcolor": "white",
          "plot_bgcolor": "#E5ECF6",
          "polar": {
           "angularaxis": {
            "gridcolor": "white",
            "linecolor": "white",
            "ticks": ""
           },
           "bgcolor": "#E5ECF6",
           "radialaxis": {
            "gridcolor": "white",
            "linecolor": "white",
            "ticks": ""
           }
          },
          "scene": {
           "xaxis": {
            "backgroundcolor": "#E5ECF6",
            "gridcolor": "white",
            "gridwidth": 2,
            "linecolor": "white",
            "showbackground": true,
            "ticks": "",
            "zerolinecolor": "white"
           },
           "yaxis": {
            "backgroundcolor": "#E5ECF6",
            "gridcolor": "white",
            "gridwidth": 2,
            "linecolor": "white",
            "showbackground": true,
            "ticks": "",
            "zerolinecolor": "white"
           },
           "zaxis": {
            "backgroundcolor": "#E5ECF6",
            "gridcolor": "white",
            "gridwidth": 2,
            "linecolor": "white",
            "showbackground": true,
            "ticks": "",
            "zerolinecolor": "white"
           }
          },
          "shapedefaults": {
           "line": {
            "color": "#2a3f5f"
           }
          },
          "ternary": {
           "aaxis": {
            "gridcolor": "white",
            "linecolor": "white",
            "ticks": ""
           },
           "baxis": {
            "gridcolor": "white",
            "linecolor": "white",
            "ticks": ""
           },
           "bgcolor": "#E5ECF6",
           "caxis": {
            "gridcolor": "white",
            "linecolor": "white",
            "ticks": ""
           }
          },
          "title": {
           "x": 0.05
          },
          "xaxis": {
           "automargin": true,
           "gridcolor": "white",
           "linecolor": "white",
           "ticks": "",
           "title": {
            "standoff": 15
           },
           "zerolinecolor": "white",
           "zerolinewidth": 2
          },
          "yaxis": {
           "automargin": true,
           "gridcolor": "white",
           "linecolor": "white",
           "ticks": "",
           "title": {
            "standoff": 15
           },
           "zerolinecolor": "white",
           "zerolinewidth": 2
          }
         }
        },
        "title": {
         "text": "Конверсия: пользователи, неочищенные данные"
        }
       }
      },
      "text/html": [
       "<div>                            <div id=\"4e4c7fb2-7b23-420b-9ce0-fa061c690002\" class=\"plotly-graph-div\" style=\"height:525px; width:100%;\"></div>            <script type=\"text/javascript\">                require([\"plotly\"], function(Plotly) {                    window.PLOTLYENV=window.PLOTLYENV || {};                                    if (document.getElementById(\"4e4c7fb2-7b23-420b-9ce0-fa061c690002\")) {                    Plotly.newPlot(                        \"4e4c7fb2-7b23-420b-9ce0-fa061c690002\",                        [{\"marker\":{\"color\":\"cadetblue\"},\"name\":\"A_users\",\"opacity\":0.65,\"textinfo\":\"value+percent previous\",\"textposition\":\"inside\",\"x\":[2604,1685,782,833],\"y\":[\"login\",\"product_page\",\"product_cart\",\"purchase\"],\"type\":\"funnel\"},{\"connector\":{\"line\":{\"color\":\"white\",\"dash\":\"dot\",\"width\":3}},\"marker\":{\"color\":\"wheat\"},\"name\":\"B_users\",\"opacity\":0.65,\"textinfo\":\"value+percent previous\",\"textposition\":\"inside\",\"x\":[876,493,244,249],\"y\":[\"login\",\"product_page\",\"product_cart\",\"purchase\"],\"type\":\"funnel\"}],                        {\"template\":{\"data\":{\"bar\":[{\"error_x\":{\"color\":\"#2a3f5f\"},\"error_y\":{\"color\":\"#2a3f5f\"},\"marker\":{\"line\":{\"color\":\"#E5ECF6\",\"width\":0.5},\"pattern\":{\"fillmode\":\"overlay\",\"size\":10,\"solidity\":0.2}},\"type\":\"bar\"}],\"barpolar\":[{\"marker\":{\"line\":{\"color\":\"#E5ECF6\",\"width\":0.5},\"pattern\":{\"fillmode\":\"overlay\",\"size\":10,\"solidity\":0.2}},\"type\":\"barpolar\"}],\"carpet\":[{\"aaxis\":{\"endlinecolor\":\"#2a3f5f\",\"gridcolor\":\"white\",\"linecolor\":\"white\",\"minorgridcolor\":\"white\",\"startlinecolor\":\"#2a3f5f\"},\"baxis\":{\"endlinecolor\":\"#2a3f5f\",\"gridcolor\":\"white\",\"linecolor\":\"white\",\"minorgridcolor\":\"white\",\"startlinecolor\":\"#2a3f5f\"},\"type\":\"carpet\"}],\"choropleth\":[{\"colorbar\":{\"outlinewidth\":0,\"ticks\":\"\"},\"type\":\"choropleth\"}],\"contour\":[{\"colorbar\":{\"outlinewidth\":0,\"ticks\":\"\"},\"colorscale\":[[0.0,\"#0d0887\"],[0.1111111111111111,\"#46039f\"],[0.2222222222222222,\"#7201a8\"],[0.3333333333333333,\"#9c179e\"],[0.4444444444444444,\"#bd3786\"],[0.5555555555555556,\"#d8576b\"],[0.6666666666666666,\"#ed7953\"],[0.7777777777777778,\"#fb9f3a\"],[0.8888888888888888,\"#fdca26\"],[1.0,\"#f0f921\"]],\"type\":\"contour\"}],\"contourcarpet\":[{\"colorbar\":{\"outlinewidth\":0,\"ticks\":\"\"},\"type\":\"contourcarpet\"}],\"heatmap\":[{\"colorbar\":{\"outlinewidth\":0,\"ticks\":\"\"},\"colorscale\":[[0.0,\"#0d0887\"],[0.1111111111111111,\"#46039f\"],[0.2222222222222222,\"#7201a8\"],[0.3333333333333333,\"#9c179e\"],[0.4444444444444444,\"#bd3786\"],[0.5555555555555556,\"#d8576b\"],[0.6666666666666666,\"#ed7953\"],[0.7777777777777778,\"#fb9f3a\"],[0.8888888888888888,\"#fdca26\"],[1.0,\"#f0f921\"]],\"type\":\"heatmap\"}],\"heatmapgl\":[{\"colorbar\":{\"outlinewidth\":0,\"ticks\":\"\"},\"colorscale\":[[0.0,\"#0d0887\"],[0.1111111111111111,\"#46039f\"],[0.2222222222222222,\"#7201a8\"],[0.3333333333333333,\"#9c179e\"],[0.4444444444444444,\"#bd3786\"],[0.5555555555555556,\"#d8576b\"],[0.6666666666666666,\"#ed7953\"],[0.7777777777777778,\"#fb9f3a\"],[0.8888888888888888,\"#fdca26\"],[1.0,\"#f0f921\"]],\"type\":\"heatmapgl\"}],\"histogram\":[{\"marker\":{\"pattern\":{\"fillmode\":\"overlay\",\"size\":10,\"solidity\":0.2}},\"type\":\"histogram\"}],\"histogram2d\":[{\"colorbar\":{\"outlinewidth\":0,\"ticks\":\"\"},\"colorscale\":[[0.0,\"#0d0887\"],[0.1111111111111111,\"#46039f\"],[0.2222222222222222,\"#7201a8\"],[0.3333333333333333,\"#9c179e\"],[0.4444444444444444,\"#bd3786\"],[0.5555555555555556,\"#d8576b\"],[0.6666666666666666,\"#ed7953\"],[0.7777777777777778,\"#fb9f3a\"],[0.8888888888888888,\"#fdca26\"],[1.0,\"#f0f921\"]],\"type\":\"histogram2d\"}],\"histogram2dcontour\":[{\"colorbar\":{\"outlinewidth\":0,\"ticks\":\"\"},\"colorscale\":[[0.0,\"#0d0887\"],[0.1111111111111111,\"#46039f\"],[0.2222222222222222,\"#7201a8\"],[0.3333333333333333,\"#9c179e\"],[0.4444444444444444,\"#bd3786\"],[0.5555555555555556,\"#d8576b\"],[0.6666666666666666,\"#ed7953\"],[0.7777777777777778,\"#fb9f3a\"],[0.8888888888888888,\"#fdca26\"],[1.0,\"#f0f921\"]],\"type\":\"histogram2dcontour\"}],\"mesh3d\":[{\"colorbar\":{\"outlinewidth\":0,\"ticks\":\"\"},\"type\":\"mesh3d\"}],\"parcoords\":[{\"line\":{\"colorbar\":{\"outlinewidth\":0,\"ticks\":\"\"}},\"type\":\"parcoords\"}],\"pie\":[{\"automargin\":true,\"type\":\"pie\"}],\"scatter\":[{\"marker\":{\"colorbar\":{\"outlinewidth\":0,\"ticks\":\"\"}},\"type\":\"scatter\"}],\"scatter3d\":[{\"line\":{\"colorbar\":{\"outlinewidth\":0,\"ticks\":\"\"}},\"marker\":{\"colorbar\":{\"outlinewidth\":0,\"ticks\":\"\"}},\"type\":\"scatter3d\"}],\"scattercarpet\":[{\"marker\":{\"colorbar\":{\"outlinewidth\":0,\"ticks\":\"\"}},\"type\":\"scattercarpet\"}],\"scattergeo\":[{\"marker\":{\"colorbar\":{\"outlinewidth\":0,\"ticks\":\"\"}},\"type\":\"scattergeo\"}],\"scattergl\":[{\"marker\":{\"colorbar\":{\"outlinewidth\":0,\"ticks\":\"\"}},\"type\":\"scattergl\"}],\"scattermapbox\":[{\"marker\":{\"colorbar\":{\"outlinewidth\":0,\"ticks\":\"\"}},\"type\":\"scattermapbox\"}],\"scatterpolar\":[{\"marker\":{\"colorbar\":{\"outlinewidth\":0,\"ticks\":\"\"}},\"type\":\"scatterpolar\"}],\"scatterpolargl\":[{\"marker\":{\"colorbar\":{\"outlinewidth\":0,\"ticks\":\"\"}},\"type\":\"scatterpolargl\"}],\"scatterternary\":[{\"marker\":{\"colorbar\":{\"outlinewidth\":0,\"ticks\":\"\"}},\"type\":\"scatterternary\"}],\"surface\":[{\"colorbar\":{\"outlinewidth\":0,\"ticks\":\"\"},\"colorscale\":[[0.0,\"#0d0887\"],[0.1111111111111111,\"#46039f\"],[0.2222222222222222,\"#7201a8\"],[0.3333333333333333,\"#9c179e\"],[0.4444444444444444,\"#bd3786\"],[0.5555555555555556,\"#d8576b\"],[0.6666666666666666,\"#ed7953\"],[0.7777777777777778,\"#fb9f3a\"],[0.8888888888888888,\"#fdca26\"],[1.0,\"#f0f921\"]],\"type\":\"surface\"}],\"table\":[{\"cells\":{\"fill\":{\"color\":\"#EBF0F8\"},\"line\":{\"color\":\"white\"}},\"header\":{\"fill\":{\"color\":\"#C8D4E3\"},\"line\":{\"color\":\"white\"}},\"type\":\"table\"}]},\"layout\":{\"annotationdefaults\":{\"arrowcolor\":\"#2a3f5f\",\"arrowhead\":0,\"arrowwidth\":1},\"autotypenumbers\":\"strict\",\"coloraxis\":{\"colorbar\":{\"outlinewidth\":0,\"ticks\":\"\"}},\"colorscale\":{\"diverging\":[[0,\"#8e0152\"],[0.1,\"#c51b7d\"],[0.2,\"#de77ae\"],[0.3,\"#f1b6da\"],[0.4,\"#fde0ef\"],[0.5,\"#f7f7f7\"],[0.6,\"#e6f5d0\"],[0.7,\"#b8e186\"],[0.8,\"#7fbc41\"],[0.9,\"#4d9221\"],[1,\"#276419\"]],\"sequential\":[[0.0,\"#0d0887\"],[0.1111111111111111,\"#46039f\"],[0.2222222222222222,\"#7201a8\"],[0.3333333333333333,\"#9c179e\"],[0.4444444444444444,\"#bd3786\"],[0.5555555555555556,\"#d8576b\"],[0.6666666666666666,\"#ed7953\"],[0.7777777777777778,\"#fb9f3a\"],[0.8888888888888888,\"#fdca26\"],[1.0,\"#f0f921\"]],\"sequentialminus\":[[0.0,\"#0d0887\"],[0.1111111111111111,\"#46039f\"],[0.2222222222222222,\"#7201a8\"],[0.3333333333333333,\"#9c179e\"],[0.4444444444444444,\"#bd3786\"],[0.5555555555555556,\"#d8576b\"],[0.6666666666666666,\"#ed7953\"],[0.7777777777777778,\"#fb9f3a\"],[0.8888888888888888,\"#fdca26\"],[1.0,\"#f0f921\"]]},\"colorway\":[\"#636efa\",\"#EF553B\",\"#00cc96\",\"#ab63fa\",\"#FFA15A\",\"#19d3f3\",\"#FF6692\",\"#B6E880\",\"#FF97FF\",\"#FECB52\"],\"font\":{\"color\":\"#2a3f5f\"},\"geo\":{\"bgcolor\":\"white\",\"lakecolor\":\"white\",\"landcolor\":\"#E5ECF6\",\"showlakes\":true,\"showland\":true,\"subunitcolor\":\"white\"},\"hoverlabel\":{\"align\":\"left\"},\"hovermode\":\"closest\",\"mapbox\":{\"style\":\"light\"},\"paper_bgcolor\":\"white\",\"plot_bgcolor\":\"#E5ECF6\",\"polar\":{\"angularaxis\":{\"gridcolor\":\"white\",\"linecolor\":\"white\",\"ticks\":\"\"},\"bgcolor\":\"#E5ECF6\",\"radialaxis\":{\"gridcolor\":\"white\",\"linecolor\":\"white\",\"ticks\":\"\"}},\"scene\":{\"xaxis\":{\"backgroundcolor\":\"#E5ECF6\",\"gridcolor\":\"white\",\"gridwidth\":2,\"linecolor\":\"white\",\"showbackground\":true,\"ticks\":\"\",\"zerolinecolor\":\"white\"},\"yaxis\":{\"backgroundcolor\":\"#E5ECF6\",\"gridcolor\":\"white\",\"gridwidth\":2,\"linecolor\":\"white\",\"showbackground\":true,\"ticks\":\"\",\"zerolinecolor\":\"white\"},\"zaxis\":{\"backgroundcolor\":\"#E5ECF6\",\"gridcolor\":\"white\",\"gridwidth\":2,\"linecolor\":\"white\",\"showbackground\":true,\"ticks\":\"\",\"zerolinecolor\":\"white\"}},\"shapedefaults\":{\"line\":{\"color\":\"#2a3f5f\"}},\"ternary\":{\"aaxis\":{\"gridcolor\":\"white\",\"linecolor\":\"white\",\"ticks\":\"\"},\"baxis\":{\"gridcolor\":\"white\",\"linecolor\":\"white\",\"ticks\":\"\"},\"bgcolor\":\"#E5ECF6\",\"caxis\":{\"gridcolor\":\"white\",\"linecolor\":\"white\",\"ticks\":\"\"}},\"title\":{\"x\":0.05},\"xaxis\":{\"automargin\":true,\"gridcolor\":\"white\",\"linecolor\":\"white\",\"ticks\":\"\",\"title\":{\"standoff\":15},\"zerolinecolor\":\"white\",\"zerolinewidth\":2},\"yaxis\":{\"automargin\":true,\"gridcolor\":\"white\",\"linecolor\":\"white\",\"ticks\":\"\",\"title\":{\"standoff\":15},\"zerolinecolor\":\"white\",\"zerolinewidth\":2}}},\"title\":{\"text\":\"\\u041a\\u043e\\u043d\\u0432\\u0435\\u0440\\u0441\\u0438\\u044f: \\u043f\\u043e\\u043b\\u044c\\u0437\\u043e\\u0432\\u0430\\u0442\\u0435\\u043b\\u0438, \\u043d\\u0435\\u043e\\u0447\\u0438\\u0449\\u0435\\u043d\\u043d\\u044b\\u0435 \\u0434\\u0430\\u043d\\u043d\\u044b\\u0435\"}},                        {\"responsive\": true}                    ).then(function(){\n",
       "                            \n",
       "var gd = document.getElementById('4e4c7fb2-7b23-420b-9ce0-fa061c690002');\n",
       "var x = new MutationObserver(function (mutations, observer) {{\n",
       "        var display = window.getComputedStyle(gd).display;\n",
       "        if (!display || display === 'none') {{\n",
       "            console.log([gd, 'removed!']);\n",
       "            Plotly.purge(gd);\n",
       "            observer.disconnect();\n",
       "        }}\n",
       "}});\n",
       "\n",
       "// Listen for the removal of the full notebook cells\n",
       "var notebookContainer = gd.closest('#notebook-container');\n",
       "if (notebookContainer) {{\n",
       "    x.observe(notebookContainer, {childList: true});\n",
       "}}\n",
       "\n",
       "// Listen for the clearing of the current output cell\n",
       "var outputEl = gd.closest('.output');\n",
       "if (outputEl) {{\n",
       "    x.observe(outputEl, {childList: true});\n",
       "}}\n",
       "\n",
       "                        })                };                });            </script>        </div>"
      ]
     },
     "metadata": {},
     "output_type": "display_data"
    }
   ],
   "source": [
    "#визуализируем данные по действиям \n",
    "funnel(steps, 'A_users', 'B_users', 'пользователи, неочищенные данные')"
   ]
  },
  {
   "cell_type": "markdown",
   "id": "X0IMojV0gnhf",
   "metadata": {
    "id": "X0IMojV0gnhf"
   },
   "source": [
    "В предыдущей версии таблицы (без удаленных пользователей, которые оказались в обеих группах и совершали покупки в период промоакции) сложилась довольно необычная ситуация. На первых этапах обе группы демонстрировали нисходящую динамику, где:\n",
    "- у группы А была достаточно неплохая конверсия из логина в просмотр карточки (65%), но более низкая конверсия на следуюшем этапе (просмотр корзины (46%);\n",
    "- у группы В более низкая конверсия на первом этапе (56%), но чуть более высокий показать на этапе перехода в корзину по сравнению с группой А (49%).\n",
    "Однако, уже последнем этапе конверсия неожиданно показала положительную динамику у группы А, где на страницу покупки перешло на 7% больше участников, чем тех, кто посещал корзину, а у группы В эта категория пользователей оказалась на 2% больше. \n",
    "\n",
    "Что касается изменения конверсии в отношении действий между группами, экспериментальная группа В показала положительную тенденцию только на одном этапе: переход со страницы в корзину (на 3% больше, чем у группы А). \n"
   ]
  },
  {
   "cell_type": "code",
   "execution_count": 140,
   "id": "8fc70c6f",
   "metadata": {
    "colab": {
     "base_uri": "https://localhost:8080/",
     "height": 206
    },
    "id": "8fc70c6f",
    "outputId": "cbaf77e9-dcac-43b2-f472-019d2838a4d9"
   },
   "outputs": [
    {
     "data": {
      "text/html": [
       "<div>\n",
       "<style scoped>\n",
       "    .dataframe tbody tr th:only-of-type {\n",
       "        vertical-align: middle;\n",
       "    }\n",
       "\n",
       "    .dataframe tbody tr th {\n",
       "        vertical-align: top;\n",
       "    }\n",
       "\n",
       "    .dataframe thead th {\n",
       "        text-align: right;\n",
       "    }\n",
       "</style>\n",
       "<table border=\"1\" class=\"dataframe\">\n",
       "  <thead>\n",
       "    <tr style=\"text-align: right;\">\n",
       "      <th>group</th>\n",
       "      <th>A_events</th>\n",
       "      <th>B_events</th>\n",
       "      <th>A_users</th>\n",
       "      <th>B_users</th>\n",
       "      <th>A_events_diff</th>\n",
       "      <th>B_events_diff</th>\n",
       "      <th>A_users_diff</th>\n",
       "      <th>B_users_diff</th>\n",
       "    </tr>\n",
       "    <tr>\n",
       "      <th>event_name</th>\n",
       "      <th></th>\n",
       "      <th></th>\n",
       "      <th></th>\n",
       "      <th></th>\n",
       "      <th></th>\n",
       "      <th></th>\n",
       "      <th></th>\n",
       "      <th></th>\n",
       "    </tr>\n",
       "  </thead>\n",
       "  <tbody>\n",
       "    <tr>\n",
       "      <th>login</th>\n",
       "      <td>2813</td>\n",
       "      <td>1084</td>\n",
       "      <td>1057</td>\n",
       "      <td>452</td>\n",
       "      <td>NaN</td>\n",
       "      <td>NaN</td>\n",
       "      <td>NaN</td>\n",
       "      <td>NaN</td>\n",
       "    </tr>\n",
       "    <tr>\n",
       "      <th>product_page</th>\n",
       "      <td>1780</td>\n",
       "      <td>607</td>\n",
       "      <td>672</td>\n",
       "      <td>265</td>\n",
       "      <td>-1033.0</td>\n",
       "      <td>-477.0</td>\n",
       "      <td>-385.0</td>\n",
       "      <td>-187.0</td>\n",
       "    </tr>\n",
       "    <tr>\n",
       "      <th>product_cart</th>\n",
       "      <td>874</td>\n",
       "      <td>320</td>\n",
       "      <td>324</td>\n",
       "      <td>136</td>\n",
       "      <td>-906.0</td>\n",
       "      <td>-287.0</td>\n",
       "      <td>-348.0</td>\n",
       "      <td>-129.0</td>\n",
       "    </tr>\n",
       "    <tr>\n",
       "      <th>purchase</th>\n",
       "      <td>810</td>\n",
       "      <td>322</td>\n",
       "      <td>323</td>\n",
       "      <td>138</td>\n",
       "      <td>-64.0</td>\n",
       "      <td>2.0</td>\n",
       "      <td>-1.0</td>\n",
       "      <td>2.0</td>\n",
       "    </tr>\n",
       "  </tbody>\n",
       "</table>\n",
       "</div>"
      ],
      "text/plain": [
       "group         A_events  B_events  A_users  B_users  A_events_diff  \\\n",
       "event_name                                                          \n",
       "login             2813      1084     1057      452            NaN   \n",
       "product_page      1780       607      672      265        -1033.0   \n",
       "product_cart       874       320      324      136         -906.0   \n",
       "purchase           810       322      323      138          -64.0   \n",
       "\n",
       "group         B_events_diff  A_users_diff  B_users_diff  \n",
       "event_name                                               \n",
       "login                   NaN           NaN           NaN  \n",
       "product_page         -477.0        -385.0        -187.0  \n",
       "product_cart         -287.0        -348.0        -129.0  \n",
       "purchase                2.0          -1.0           2.0  "
      ]
     },
     "execution_count": 140,
     "metadata": {},
     "output_type": "execute_result"
    }
   ],
   "source": [
    "#проверим, как много событий было совершено пользователями новой версии\n",
    "\n",
    "steps = check_conversion(clear_test.query('diff <= 14'))\n",
    "steps"
   ]
  },
  {
   "cell_type": "code",
   "execution_count": 141,
   "id": "o4THh8L3huX6",
   "metadata": {
    "colab": {
     "base_uri": "https://localhost:8080/",
     "height": 542
    },
    "id": "o4THh8L3huX6",
    "outputId": "71ce0c73-b5ab-464e-c98f-28b2876e5d5b"
   },
   "outputs": [
    {
     "data": {
      "application/vnd.plotly.v1+json": {
       "config": {
        "plotlyServerURL": "https://plot.ly"
       },
       "data": [
        {
         "marker": {
          "color": "cadetblue"
         },
         "name": "A_users",
         "opacity": 0.65,
         "textinfo": "value+percent previous",
         "textposition": "inside",
         "type": "funnel",
         "x": [
          1057,
          672,
          324,
          323
         ],
         "y": [
          "login",
          "product_page",
          "product_cart",
          "purchase"
         ]
        },
        {
         "connector": {
          "line": {
           "color": "white",
           "dash": "dot",
           "width": 3
          }
         },
         "marker": {
          "color": "wheat"
         },
         "name": "B_users",
         "opacity": 0.65,
         "textinfo": "value+percent previous",
         "textposition": "inside",
         "type": "funnel",
         "x": [
          452,
          265,
          136,
          138
         ],
         "y": [
          "login",
          "product_page",
          "product_cart",
          "purchase"
         ]
        }
       ],
       "layout": {
        "template": {
         "data": {
          "bar": [
           {
            "error_x": {
             "color": "#2a3f5f"
            },
            "error_y": {
             "color": "#2a3f5f"
            },
            "marker": {
             "line": {
              "color": "#E5ECF6",
              "width": 0.5
             },
             "pattern": {
              "fillmode": "overlay",
              "size": 10,
              "solidity": 0.2
             }
            },
            "type": "bar"
           }
          ],
          "barpolar": [
           {
            "marker": {
             "line": {
              "color": "#E5ECF6",
              "width": 0.5
             },
             "pattern": {
              "fillmode": "overlay",
              "size": 10,
              "solidity": 0.2
             }
            },
            "type": "barpolar"
           }
          ],
          "carpet": [
           {
            "aaxis": {
             "endlinecolor": "#2a3f5f",
             "gridcolor": "white",
             "linecolor": "white",
             "minorgridcolor": "white",
             "startlinecolor": "#2a3f5f"
            },
            "baxis": {
             "endlinecolor": "#2a3f5f",
             "gridcolor": "white",
             "linecolor": "white",
             "minorgridcolor": "white",
             "startlinecolor": "#2a3f5f"
            },
            "type": "carpet"
           }
          ],
          "choropleth": [
           {
            "colorbar": {
             "outlinewidth": 0,
             "ticks": ""
            },
            "type": "choropleth"
           }
          ],
          "contour": [
           {
            "colorbar": {
             "outlinewidth": 0,
             "ticks": ""
            },
            "colorscale": [
             [
              0,
              "#0d0887"
             ],
             [
              0.1111111111111111,
              "#46039f"
             ],
             [
              0.2222222222222222,
              "#7201a8"
             ],
             [
              0.3333333333333333,
              "#9c179e"
             ],
             [
              0.4444444444444444,
              "#bd3786"
             ],
             [
              0.5555555555555556,
              "#d8576b"
             ],
             [
              0.6666666666666666,
              "#ed7953"
             ],
             [
              0.7777777777777778,
              "#fb9f3a"
             ],
             [
              0.8888888888888888,
              "#fdca26"
             ],
             [
              1,
              "#f0f921"
             ]
            ],
            "type": "contour"
           }
          ],
          "contourcarpet": [
           {
            "colorbar": {
             "outlinewidth": 0,
             "ticks": ""
            },
            "type": "contourcarpet"
           }
          ],
          "heatmap": [
           {
            "colorbar": {
             "outlinewidth": 0,
             "ticks": ""
            },
            "colorscale": [
             [
              0,
              "#0d0887"
             ],
             [
              0.1111111111111111,
              "#46039f"
             ],
             [
              0.2222222222222222,
              "#7201a8"
             ],
             [
              0.3333333333333333,
              "#9c179e"
             ],
             [
              0.4444444444444444,
              "#bd3786"
             ],
             [
              0.5555555555555556,
              "#d8576b"
             ],
             [
              0.6666666666666666,
              "#ed7953"
             ],
             [
              0.7777777777777778,
              "#fb9f3a"
             ],
             [
              0.8888888888888888,
              "#fdca26"
             ],
             [
              1,
              "#f0f921"
             ]
            ],
            "type": "heatmap"
           }
          ],
          "heatmapgl": [
           {
            "colorbar": {
             "outlinewidth": 0,
             "ticks": ""
            },
            "colorscale": [
             [
              0,
              "#0d0887"
             ],
             [
              0.1111111111111111,
              "#46039f"
             ],
             [
              0.2222222222222222,
              "#7201a8"
             ],
             [
              0.3333333333333333,
              "#9c179e"
             ],
             [
              0.4444444444444444,
              "#bd3786"
             ],
             [
              0.5555555555555556,
              "#d8576b"
             ],
             [
              0.6666666666666666,
              "#ed7953"
             ],
             [
              0.7777777777777778,
              "#fb9f3a"
             ],
             [
              0.8888888888888888,
              "#fdca26"
             ],
             [
              1,
              "#f0f921"
             ]
            ],
            "type": "heatmapgl"
           }
          ],
          "histogram": [
           {
            "marker": {
             "pattern": {
              "fillmode": "overlay",
              "size": 10,
              "solidity": 0.2
             }
            },
            "type": "histogram"
           }
          ],
          "histogram2d": [
           {
            "colorbar": {
             "outlinewidth": 0,
             "ticks": ""
            },
            "colorscale": [
             [
              0,
              "#0d0887"
             ],
             [
              0.1111111111111111,
              "#46039f"
             ],
             [
              0.2222222222222222,
              "#7201a8"
             ],
             [
              0.3333333333333333,
              "#9c179e"
             ],
             [
              0.4444444444444444,
              "#bd3786"
             ],
             [
              0.5555555555555556,
              "#d8576b"
             ],
             [
              0.6666666666666666,
              "#ed7953"
             ],
             [
              0.7777777777777778,
              "#fb9f3a"
             ],
             [
              0.8888888888888888,
              "#fdca26"
             ],
             [
              1,
              "#f0f921"
             ]
            ],
            "type": "histogram2d"
           }
          ],
          "histogram2dcontour": [
           {
            "colorbar": {
             "outlinewidth": 0,
             "ticks": ""
            },
            "colorscale": [
             [
              0,
              "#0d0887"
             ],
             [
              0.1111111111111111,
              "#46039f"
             ],
             [
              0.2222222222222222,
              "#7201a8"
             ],
             [
              0.3333333333333333,
              "#9c179e"
             ],
             [
              0.4444444444444444,
              "#bd3786"
             ],
             [
              0.5555555555555556,
              "#d8576b"
             ],
             [
              0.6666666666666666,
              "#ed7953"
             ],
             [
              0.7777777777777778,
              "#fb9f3a"
             ],
             [
              0.8888888888888888,
              "#fdca26"
             ],
             [
              1,
              "#f0f921"
             ]
            ],
            "type": "histogram2dcontour"
           }
          ],
          "mesh3d": [
           {
            "colorbar": {
             "outlinewidth": 0,
             "ticks": ""
            },
            "type": "mesh3d"
           }
          ],
          "parcoords": [
           {
            "line": {
             "colorbar": {
              "outlinewidth": 0,
              "ticks": ""
             }
            },
            "type": "parcoords"
           }
          ],
          "pie": [
           {
            "automargin": true,
            "type": "pie"
           }
          ],
          "scatter": [
           {
            "marker": {
             "colorbar": {
              "outlinewidth": 0,
              "ticks": ""
             }
            },
            "type": "scatter"
           }
          ],
          "scatter3d": [
           {
            "line": {
             "colorbar": {
              "outlinewidth": 0,
              "ticks": ""
             }
            },
            "marker": {
             "colorbar": {
              "outlinewidth": 0,
              "ticks": ""
             }
            },
            "type": "scatter3d"
           }
          ],
          "scattercarpet": [
           {
            "marker": {
             "colorbar": {
              "outlinewidth": 0,
              "ticks": ""
             }
            },
            "type": "scattercarpet"
           }
          ],
          "scattergeo": [
           {
            "marker": {
             "colorbar": {
              "outlinewidth": 0,
              "ticks": ""
             }
            },
            "type": "scattergeo"
           }
          ],
          "scattergl": [
           {
            "marker": {
             "colorbar": {
              "outlinewidth": 0,
              "ticks": ""
             }
            },
            "type": "scattergl"
           }
          ],
          "scattermapbox": [
           {
            "marker": {
             "colorbar": {
              "outlinewidth": 0,
              "ticks": ""
             }
            },
            "type": "scattermapbox"
           }
          ],
          "scatterpolar": [
           {
            "marker": {
             "colorbar": {
              "outlinewidth": 0,
              "ticks": ""
             }
            },
            "type": "scatterpolar"
           }
          ],
          "scatterpolargl": [
           {
            "marker": {
             "colorbar": {
              "outlinewidth": 0,
              "ticks": ""
             }
            },
            "type": "scatterpolargl"
           }
          ],
          "scatterternary": [
           {
            "marker": {
             "colorbar": {
              "outlinewidth": 0,
              "ticks": ""
             }
            },
            "type": "scatterternary"
           }
          ],
          "surface": [
           {
            "colorbar": {
             "outlinewidth": 0,
             "ticks": ""
            },
            "colorscale": [
             [
              0,
              "#0d0887"
             ],
             [
              0.1111111111111111,
              "#46039f"
             ],
             [
              0.2222222222222222,
              "#7201a8"
             ],
             [
              0.3333333333333333,
              "#9c179e"
             ],
             [
              0.4444444444444444,
              "#bd3786"
             ],
             [
              0.5555555555555556,
              "#d8576b"
             ],
             [
              0.6666666666666666,
              "#ed7953"
             ],
             [
              0.7777777777777778,
              "#fb9f3a"
             ],
             [
              0.8888888888888888,
              "#fdca26"
             ],
             [
              1,
              "#f0f921"
             ]
            ],
            "type": "surface"
           }
          ],
          "table": [
           {
            "cells": {
             "fill": {
              "color": "#EBF0F8"
             },
             "line": {
              "color": "white"
             }
            },
            "header": {
             "fill": {
              "color": "#C8D4E3"
             },
             "line": {
              "color": "white"
             }
            },
            "type": "table"
           }
          ]
         },
         "layout": {
          "annotationdefaults": {
           "arrowcolor": "#2a3f5f",
           "arrowhead": 0,
           "arrowwidth": 1
          },
          "autotypenumbers": "strict",
          "coloraxis": {
           "colorbar": {
            "outlinewidth": 0,
            "ticks": ""
           }
          },
          "colorscale": {
           "diverging": [
            [
             0,
             "#8e0152"
            ],
            [
             0.1,
             "#c51b7d"
            ],
            [
             0.2,
             "#de77ae"
            ],
            [
             0.3,
             "#f1b6da"
            ],
            [
             0.4,
             "#fde0ef"
            ],
            [
             0.5,
             "#f7f7f7"
            ],
            [
             0.6,
             "#e6f5d0"
            ],
            [
             0.7,
             "#b8e186"
            ],
            [
             0.8,
             "#7fbc41"
            ],
            [
             0.9,
             "#4d9221"
            ],
            [
             1,
             "#276419"
            ]
           ],
           "sequential": [
            [
             0,
             "#0d0887"
            ],
            [
             0.1111111111111111,
             "#46039f"
            ],
            [
             0.2222222222222222,
             "#7201a8"
            ],
            [
             0.3333333333333333,
             "#9c179e"
            ],
            [
             0.4444444444444444,
             "#bd3786"
            ],
            [
             0.5555555555555556,
             "#d8576b"
            ],
            [
             0.6666666666666666,
             "#ed7953"
            ],
            [
             0.7777777777777778,
             "#fb9f3a"
            ],
            [
             0.8888888888888888,
             "#fdca26"
            ],
            [
             1,
             "#f0f921"
            ]
           ],
           "sequentialminus": [
            [
             0,
             "#0d0887"
            ],
            [
             0.1111111111111111,
             "#46039f"
            ],
            [
             0.2222222222222222,
             "#7201a8"
            ],
            [
             0.3333333333333333,
             "#9c179e"
            ],
            [
             0.4444444444444444,
             "#bd3786"
            ],
            [
             0.5555555555555556,
             "#d8576b"
            ],
            [
             0.6666666666666666,
             "#ed7953"
            ],
            [
             0.7777777777777778,
             "#fb9f3a"
            ],
            [
             0.8888888888888888,
             "#fdca26"
            ],
            [
             1,
             "#f0f921"
            ]
           ]
          },
          "colorway": [
           "#636efa",
           "#EF553B",
           "#00cc96",
           "#ab63fa",
           "#FFA15A",
           "#19d3f3",
           "#FF6692",
           "#B6E880",
           "#FF97FF",
           "#FECB52"
          ],
          "font": {
           "color": "#2a3f5f"
          },
          "geo": {
           "bgcolor": "white",
           "lakecolor": "white",
           "landcolor": "#E5ECF6",
           "showlakes": true,
           "showland": true,
           "subunitcolor": "white"
          },
          "hoverlabel": {
           "align": "left"
          },
          "hovermode": "closest",
          "mapbox": {
           "style": "light"
          },
          "paper_bgcolor": "white",
          "plot_bgcolor": "#E5ECF6",
          "polar": {
           "angularaxis": {
            "gridcolor": "white",
            "linecolor": "white",
            "ticks": ""
           },
           "bgcolor": "#E5ECF6",
           "radialaxis": {
            "gridcolor": "white",
            "linecolor": "white",
            "ticks": ""
           }
          },
          "scene": {
           "xaxis": {
            "backgroundcolor": "#E5ECF6",
            "gridcolor": "white",
            "gridwidth": 2,
            "linecolor": "white",
            "showbackground": true,
            "ticks": "",
            "zerolinecolor": "white"
           },
           "yaxis": {
            "backgroundcolor": "#E5ECF6",
            "gridcolor": "white",
            "gridwidth": 2,
            "linecolor": "white",
            "showbackground": true,
            "ticks": "",
            "zerolinecolor": "white"
           },
           "zaxis": {
            "backgroundcolor": "#E5ECF6",
            "gridcolor": "white",
            "gridwidth": 2,
            "linecolor": "white",
            "showbackground": true,
            "ticks": "",
            "zerolinecolor": "white"
           }
          },
          "shapedefaults": {
           "line": {
            "color": "#2a3f5f"
           }
          },
          "ternary": {
           "aaxis": {
            "gridcolor": "white",
            "linecolor": "white",
            "ticks": ""
           },
           "baxis": {
            "gridcolor": "white",
            "linecolor": "white",
            "ticks": ""
           },
           "bgcolor": "#E5ECF6",
           "caxis": {
            "gridcolor": "white",
            "linecolor": "white",
            "ticks": ""
           }
          },
          "title": {
           "x": 0.05
          },
          "xaxis": {
           "automargin": true,
           "gridcolor": "white",
           "linecolor": "white",
           "ticks": "",
           "title": {
            "standoff": 15
           },
           "zerolinecolor": "white",
           "zerolinewidth": 2
          },
          "yaxis": {
           "automargin": true,
           "gridcolor": "white",
           "linecolor": "white",
           "ticks": "",
           "title": {
            "standoff": 15
           },
           "zerolinecolor": "white",
           "zerolinewidth": 2
          }
         }
        },
        "title": {
         "text": "Конверсия: пользователи, очищенные данные"
        }
       }
      },
      "text/html": [
       "<div>                            <div id=\"13ac608b-9ad4-4ff4-8888-8943c5f3ec28\" class=\"plotly-graph-div\" style=\"height:525px; width:100%;\"></div>            <script type=\"text/javascript\">                require([\"plotly\"], function(Plotly) {                    window.PLOTLYENV=window.PLOTLYENV || {};                                    if (document.getElementById(\"13ac608b-9ad4-4ff4-8888-8943c5f3ec28\")) {                    Plotly.newPlot(                        \"13ac608b-9ad4-4ff4-8888-8943c5f3ec28\",                        [{\"marker\":{\"color\":\"cadetblue\"},\"name\":\"A_users\",\"opacity\":0.65,\"textinfo\":\"value+percent previous\",\"textposition\":\"inside\",\"x\":[1057,672,324,323],\"y\":[\"login\",\"product_page\",\"product_cart\",\"purchase\"],\"type\":\"funnel\"},{\"connector\":{\"line\":{\"color\":\"white\",\"dash\":\"dot\",\"width\":3}},\"marker\":{\"color\":\"wheat\"},\"name\":\"B_users\",\"opacity\":0.65,\"textinfo\":\"value+percent previous\",\"textposition\":\"inside\",\"x\":[452,265,136,138],\"y\":[\"login\",\"product_page\",\"product_cart\",\"purchase\"],\"type\":\"funnel\"}],                        {\"template\":{\"data\":{\"bar\":[{\"error_x\":{\"color\":\"#2a3f5f\"},\"error_y\":{\"color\":\"#2a3f5f\"},\"marker\":{\"line\":{\"color\":\"#E5ECF6\",\"width\":0.5},\"pattern\":{\"fillmode\":\"overlay\",\"size\":10,\"solidity\":0.2}},\"type\":\"bar\"}],\"barpolar\":[{\"marker\":{\"line\":{\"color\":\"#E5ECF6\",\"width\":0.5},\"pattern\":{\"fillmode\":\"overlay\",\"size\":10,\"solidity\":0.2}},\"type\":\"barpolar\"}],\"carpet\":[{\"aaxis\":{\"endlinecolor\":\"#2a3f5f\",\"gridcolor\":\"white\",\"linecolor\":\"white\",\"minorgridcolor\":\"white\",\"startlinecolor\":\"#2a3f5f\"},\"baxis\":{\"endlinecolor\":\"#2a3f5f\",\"gridcolor\":\"white\",\"linecolor\":\"white\",\"minorgridcolor\":\"white\",\"startlinecolor\":\"#2a3f5f\"},\"type\":\"carpet\"}],\"choropleth\":[{\"colorbar\":{\"outlinewidth\":0,\"ticks\":\"\"},\"type\":\"choropleth\"}],\"contour\":[{\"colorbar\":{\"outlinewidth\":0,\"ticks\":\"\"},\"colorscale\":[[0.0,\"#0d0887\"],[0.1111111111111111,\"#46039f\"],[0.2222222222222222,\"#7201a8\"],[0.3333333333333333,\"#9c179e\"],[0.4444444444444444,\"#bd3786\"],[0.5555555555555556,\"#d8576b\"],[0.6666666666666666,\"#ed7953\"],[0.7777777777777778,\"#fb9f3a\"],[0.8888888888888888,\"#fdca26\"],[1.0,\"#f0f921\"]],\"type\":\"contour\"}],\"contourcarpet\":[{\"colorbar\":{\"outlinewidth\":0,\"ticks\":\"\"},\"type\":\"contourcarpet\"}],\"heatmap\":[{\"colorbar\":{\"outlinewidth\":0,\"ticks\":\"\"},\"colorscale\":[[0.0,\"#0d0887\"],[0.1111111111111111,\"#46039f\"],[0.2222222222222222,\"#7201a8\"],[0.3333333333333333,\"#9c179e\"],[0.4444444444444444,\"#bd3786\"],[0.5555555555555556,\"#d8576b\"],[0.6666666666666666,\"#ed7953\"],[0.7777777777777778,\"#fb9f3a\"],[0.8888888888888888,\"#fdca26\"],[1.0,\"#f0f921\"]],\"type\":\"heatmap\"}],\"heatmapgl\":[{\"colorbar\":{\"outlinewidth\":0,\"ticks\":\"\"},\"colorscale\":[[0.0,\"#0d0887\"],[0.1111111111111111,\"#46039f\"],[0.2222222222222222,\"#7201a8\"],[0.3333333333333333,\"#9c179e\"],[0.4444444444444444,\"#bd3786\"],[0.5555555555555556,\"#d8576b\"],[0.6666666666666666,\"#ed7953\"],[0.7777777777777778,\"#fb9f3a\"],[0.8888888888888888,\"#fdca26\"],[1.0,\"#f0f921\"]],\"type\":\"heatmapgl\"}],\"histogram\":[{\"marker\":{\"pattern\":{\"fillmode\":\"overlay\",\"size\":10,\"solidity\":0.2}},\"type\":\"histogram\"}],\"histogram2d\":[{\"colorbar\":{\"outlinewidth\":0,\"ticks\":\"\"},\"colorscale\":[[0.0,\"#0d0887\"],[0.1111111111111111,\"#46039f\"],[0.2222222222222222,\"#7201a8\"],[0.3333333333333333,\"#9c179e\"],[0.4444444444444444,\"#bd3786\"],[0.5555555555555556,\"#d8576b\"],[0.6666666666666666,\"#ed7953\"],[0.7777777777777778,\"#fb9f3a\"],[0.8888888888888888,\"#fdca26\"],[1.0,\"#f0f921\"]],\"type\":\"histogram2d\"}],\"histogram2dcontour\":[{\"colorbar\":{\"outlinewidth\":0,\"ticks\":\"\"},\"colorscale\":[[0.0,\"#0d0887\"],[0.1111111111111111,\"#46039f\"],[0.2222222222222222,\"#7201a8\"],[0.3333333333333333,\"#9c179e\"],[0.4444444444444444,\"#bd3786\"],[0.5555555555555556,\"#d8576b\"],[0.6666666666666666,\"#ed7953\"],[0.7777777777777778,\"#fb9f3a\"],[0.8888888888888888,\"#fdca26\"],[1.0,\"#f0f921\"]],\"type\":\"histogram2dcontour\"}],\"mesh3d\":[{\"colorbar\":{\"outlinewidth\":0,\"ticks\":\"\"},\"type\":\"mesh3d\"}],\"parcoords\":[{\"line\":{\"colorbar\":{\"outlinewidth\":0,\"ticks\":\"\"}},\"type\":\"parcoords\"}],\"pie\":[{\"automargin\":true,\"type\":\"pie\"}],\"scatter\":[{\"marker\":{\"colorbar\":{\"outlinewidth\":0,\"ticks\":\"\"}},\"type\":\"scatter\"}],\"scatter3d\":[{\"line\":{\"colorbar\":{\"outlinewidth\":0,\"ticks\":\"\"}},\"marker\":{\"colorbar\":{\"outlinewidth\":0,\"ticks\":\"\"}},\"type\":\"scatter3d\"}],\"scattercarpet\":[{\"marker\":{\"colorbar\":{\"outlinewidth\":0,\"ticks\":\"\"}},\"type\":\"scattercarpet\"}],\"scattergeo\":[{\"marker\":{\"colorbar\":{\"outlinewidth\":0,\"ticks\":\"\"}},\"type\":\"scattergeo\"}],\"scattergl\":[{\"marker\":{\"colorbar\":{\"outlinewidth\":0,\"ticks\":\"\"}},\"type\":\"scattergl\"}],\"scattermapbox\":[{\"marker\":{\"colorbar\":{\"outlinewidth\":0,\"ticks\":\"\"}},\"type\":\"scattermapbox\"}],\"scatterpolar\":[{\"marker\":{\"colorbar\":{\"outlinewidth\":0,\"ticks\":\"\"}},\"type\":\"scatterpolar\"}],\"scatterpolargl\":[{\"marker\":{\"colorbar\":{\"outlinewidth\":0,\"ticks\":\"\"}},\"type\":\"scatterpolargl\"}],\"scatterternary\":[{\"marker\":{\"colorbar\":{\"outlinewidth\":0,\"ticks\":\"\"}},\"type\":\"scatterternary\"}],\"surface\":[{\"colorbar\":{\"outlinewidth\":0,\"ticks\":\"\"},\"colorscale\":[[0.0,\"#0d0887\"],[0.1111111111111111,\"#46039f\"],[0.2222222222222222,\"#7201a8\"],[0.3333333333333333,\"#9c179e\"],[0.4444444444444444,\"#bd3786\"],[0.5555555555555556,\"#d8576b\"],[0.6666666666666666,\"#ed7953\"],[0.7777777777777778,\"#fb9f3a\"],[0.8888888888888888,\"#fdca26\"],[1.0,\"#f0f921\"]],\"type\":\"surface\"}],\"table\":[{\"cells\":{\"fill\":{\"color\":\"#EBF0F8\"},\"line\":{\"color\":\"white\"}},\"header\":{\"fill\":{\"color\":\"#C8D4E3\"},\"line\":{\"color\":\"white\"}},\"type\":\"table\"}]},\"layout\":{\"annotationdefaults\":{\"arrowcolor\":\"#2a3f5f\",\"arrowhead\":0,\"arrowwidth\":1},\"autotypenumbers\":\"strict\",\"coloraxis\":{\"colorbar\":{\"outlinewidth\":0,\"ticks\":\"\"}},\"colorscale\":{\"diverging\":[[0,\"#8e0152\"],[0.1,\"#c51b7d\"],[0.2,\"#de77ae\"],[0.3,\"#f1b6da\"],[0.4,\"#fde0ef\"],[0.5,\"#f7f7f7\"],[0.6,\"#e6f5d0\"],[0.7,\"#b8e186\"],[0.8,\"#7fbc41\"],[0.9,\"#4d9221\"],[1,\"#276419\"]],\"sequential\":[[0.0,\"#0d0887\"],[0.1111111111111111,\"#46039f\"],[0.2222222222222222,\"#7201a8\"],[0.3333333333333333,\"#9c179e\"],[0.4444444444444444,\"#bd3786\"],[0.5555555555555556,\"#d8576b\"],[0.6666666666666666,\"#ed7953\"],[0.7777777777777778,\"#fb9f3a\"],[0.8888888888888888,\"#fdca26\"],[1.0,\"#f0f921\"]],\"sequentialminus\":[[0.0,\"#0d0887\"],[0.1111111111111111,\"#46039f\"],[0.2222222222222222,\"#7201a8\"],[0.3333333333333333,\"#9c179e\"],[0.4444444444444444,\"#bd3786\"],[0.5555555555555556,\"#d8576b\"],[0.6666666666666666,\"#ed7953\"],[0.7777777777777778,\"#fb9f3a\"],[0.8888888888888888,\"#fdca26\"],[1.0,\"#f0f921\"]]},\"colorway\":[\"#636efa\",\"#EF553B\",\"#00cc96\",\"#ab63fa\",\"#FFA15A\",\"#19d3f3\",\"#FF6692\",\"#B6E880\",\"#FF97FF\",\"#FECB52\"],\"font\":{\"color\":\"#2a3f5f\"},\"geo\":{\"bgcolor\":\"white\",\"lakecolor\":\"white\",\"landcolor\":\"#E5ECF6\",\"showlakes\":true,\"showland\":true,\"subunitcolor\":\"white\"},\"hoverlabel\":{\"align\":\"left\"},\"hovermode\":\"closest\",\"mapbox\":{\"style\":\"light\"},\"paper_bgcolor\":\"white\",\"plot_bgcolor\":\"#E5ECF6\",\"polar\":{\"angularaxis\":{\"gridcolor\":\"white\",\"linecolor\":\"white\",\"ticks\":\"\"},\"bgcolor\":\"#E5ECF6\",\"radialaxis\":{\"gridcolor\":\"white\",\"linecolor\":\"white\",\"ticks\":\"\"}},\"scene\":{\"xaxis\":{\"backgroundcolor\":\"#E5ECF6\",\"gridcolor\":\"white\",\"gridwidth\":2,\"linecolor\":\"white\",\"showbackground\":true,\"ticks\":\"\",\"zerolinecolor\":\"white\"},\"yaxis\":{\"backgroundcolor\":\"#E5ECF6\",\"gridcolor\":\"white\",\"gridwidth\":2,\"linecolor\":\"white\",\"showbackground\":true,\"ticks\":\"\",\"zerolinecolor\":\"white\"},\"zaxis\":{\"backgroundcolor\":\"#E5ECF6\",\"gridcolor\":\"white\",\"gridwidth\":2,\"linecolor\":\"white\",\"showbackground\":true,\"ticks\":\"\",\"zerolinecolor\":\"white\"}},\"shapedefaults\":{\"line\":{\"color\":\"#2a3f5f\"}},\"ternary\":{\"aaxis\":{\"gridcolor\":\"white\",\"linecolor\":\"white\",\"ticks\":\"\"},\"baxis\":{\"gridcolor\":\"white\",\"linecolor\":\"white\",\"ticks\":\"\"},\"bgcolor\":\"#E5ECF6\",\"caxis\":{\"gridcolor\":\"white\",\"linecolor\":\"white\",\"ticks\":\"\"}},\"title\":{\"x\":0.05},\"xaxis\":{\"automargin\":true,\"gridcolor\":\"white\",\"linecolor\":\"white\",\"ticks\":\"\",\"title\":{\"standoff\":15},\"zerolinecolor\":\"white\",\"zerolinewidth\":2},\"yaxis\":{\"automargin\":true,\"gridcolor\":\"white\",\"linecolor\":\"white\",\"ticks\":\"\",\"title\":{\"standoff\":15},\"zerolinecolor\":\"white\",\"zerolinewidth\":2}}},\"title\":{\"text\":\"\\u041a\\u043e\\u043d\\u0432\\u0435\\u0440\\u0441\\u0438\\u044f: \\u043f\\u043e\\u043b\\u044c\\u0437\\u043e\\u0432\\u0430\\u0442\\u0435\\u043b\\u0438, \\u043e\\u0447\\u0438\\u0449\\u0435\\u043d\\u043d\\u044b\\u0435 \\u0434\\u0430\\u043d\\u043d\\u044b\\u0435\"}},                        {\"responsive\": true}                    ).then(function(){\n",
       "                            \n",
       "var gd = document.getElementById('13ac608b-9ad4-4ff4-8888-8943c5f3ec28');\n",
       "var x = new MutationObserver(function (mutations, observer) {{\n",
       "        var display = window.getComputedStyle(gd).display;\n",
       "        if (!display || display === 'none') {{\n",
       "            console.log([gd, 'removed!']);\n",
       "            Plotly.purge(gd);\n",
       "            observer.disconnect();\n",
       "        }}\n",
       "}});\n",
       "\n",
       "// Listen for the removal of the full notebook cells\n",
       "var notebookContainer = gd.closest('#notebook-container');\n",
       "if (notebookContainer) {{\n",
       "    x.observe(notebookContainer, {childList: true});\n",
       "}}\n",
       "\n",
       "// Listen for the clearing of the current output cell\n",
       "var outputEl = gd.closest('.output');\n",
       "if (outputEl) {{\n",
       "    x.observe(outputEl, {childList: true});\n",
       "}}\n",
       "\n",
       "                        })                };                });            </script>        </div>"
      ]
     },
     "metadata": {},
     "output_type": "display_data"
    }
   ],
   "source": [
    "#визуализируем данные по очищенной группе \n",
    "\n",
    "funnel(steps, 'A_users', 'B_users', 'пользователи, очищенные данные')"
   ]
  },
  {
   "cell_type": "markdown",
   "id": "S4GOp74UnAXo",
   "metadata": {
    "id": "S4GOp74UnAXo"
   },
   "source": [
    "Ситуация по очищенным данным несколько лучше: \n",
    "\n",
    "- во-первых, преобладание результатов конверсии группы В над группой А встречается уже на двух этапах: на этапе перехода к просмотру корзины (+3% - в посетителях у группы В), а также на этапе перехода из корзины к покупке (+1% пользователей);\n",
    "- во-вторых, отрицательная разница между результатами группы А и В менее значительная, чем у неочищенного датафрейма (менее сильные разрывы).\n",
    "\n",
    "В то же время, вновь присутствует положительная конверсия на финальном этапе, хотя вновь крайне высок процент действий.\n",
    "Исходя из этого можно сделать следующие предположения, объясняющие данную ситуацию:\n",
    "- сайт/приложение имеет особую структуру, которая позволяет напрямую переходить к странице покупки, минуя корзину;\n",
    "- возникла ошибка системы, которая не учла логи пользователей в определенный момент нахождения в корзине;\n",
    "- при выгрузке данных часть сведений не была учтена.\n",
    "\n",
    "Несмотря на лучшие результаты у таблицы с участниками, данные по которым были очищены, тем не менее, **ни один показатель не был равен ожидаемому по ТЗ результату конверсии в не менее 10%**. "
   ]
  },
  {
   "cell_type": "markdown",
   "id": "7375f64f",
   "metadata": {},
   "source": [
    "<a id=\"second_conclusion\"> </a>\n",
    "### Вывод по этапу"
   ]
  },
  {
   "cell_type": "markdown",
   "id": "OqGTPAoFnaOu",
   "metadata": {
    "id": "OqGTPAoFnaOu"
   },
   "source": [
    "Обобщив все результаты, для дальнейшего анализа мы возьмем предыдущую версию данных, куда входят посетители, попавшие в период распродажи и участвующие в двух тестах.\n",
    "Аргументом за такое решение могут быть:\n",
    "- не столь значительное отступление от ожидаемого числа участников теста (6000 человек) - менее двух раз, а не в четыре раза;\n",
    "- не столь значительное групповое различие по сравнению с очищенным данными (разница в пользователях между группами А и В везде крайне велика и значительно превышает порог 1%);\n",
    "- действия, которые могли бы быть скорректированы внешними факторами, такими как проведение другого теста или промоакции, одинаково влияют на пользователей из обеих групп, т.е. условия одинаковы: кроме того, данные показали, что новогодняя акция не способствовала значительному росту продаж и мы не знаем деталей второго теста;\n",
    "- хотя участники из датасета с очищенными данными показали несколько лучшие результаты конверсии, ни одна из версий не продемонстрировала ожидаемый эффект по улучшению метрик;\n",
    "\n",
    "В то же время:\n",
    "- ни одна из версий данных также не соответствовала аудитории в 15% от новых пользователей из региона ЕС;\n",
    "- ни одна из версий не соответствует временным параметрам событий;\n",
    "\n",
    "\n",
    "Все указанное выше говорит о том, что **тест был проведен со значительными нарушениями и ни один из вариантов данных не удовлетворяет требованиям ТЗ**. \n",
    "В нашем случае нам придется выбрать лучший вариант из двух худших - и преимущество (по причинам, изложенным выше), на наш взгляд, остается за предпоследним вариантом данным с 3,5 тыс. участниками теста. "
   ]
  },
  {
   "cell_type": "markdown",
   "id": "8mcTp-UvwQYp",
   "metadata": {
    "id": "8mcTp-UvwQYp"
   },
   "source": [
    "<a id=\"eda\"> </a>  \n",
    "## Проведение исследовательского анализа данных"
   ]
  },
  {
   "cell_type": "markdown",
   "id": "EZM3qoLIwUti",
   "metadata": {
    "id": "EZM3qoLIwUti"
   },
   "source": [
    "<a id=\"eda_events\"> </a>  \n",
    "### Распределение количества событий на пользователя в выборках"
   ]
  },
  {
   "cell_type": "code",
   "execution_count": 142,
   "id": "2bcb5e44",
   "metadata": {},
   "outputs": [
    {
     "data": {
      "text/plain": [
       "3481"
      ]
     },
     "execution_count": 142,
     "metadata": {},
     "output_type": "execute_result"
    }
   ],
   "source": [
    "#выведем число пользователей \n",
    "\n",
    "rec_test['user_id'].nunique()"
   ]
  },
  {
   "cell_type": "code",
   "execution_count": 143,
   "id": "ZFVRikZZ5tOi",
   "metadata": {
    "colab": {
     "base_uri": "https://localhost:8080/",
     "height": 206
    },
    "id": "ZFVRikZZ5tOi",
    "outputId": "5b414942-593b-40e4-d8b9-d5bbb587efe0"
   },
   "outputs": [
    {
     "data": {
      "text/html": [
       "<div>\n",
       "<style scoped>\n",
       "    .dataframe tbody tr th:only-of-type {\n",
       "        vertical-align: middle;\n",
       "    }\n",
       "\n",
       "    .dataframe tbody tr th {\n",
       "        vertical-align: top;\n",
       "    }\n",
       "\n",
       "    .dataframe thead th {\n",
       "        text-align: right;\n",
       "    }\n",
       "</style>\n",
       "<table border=\"1\" class=\"dataframe\">\n",
       "  <thead>\n",
       "    <tr style=\"text-align: right;\">\n",
       "      <th>group</th>\n",
       "      <th>A_events</th>\n",
       "      <th>B_events</th>\n",
       "      <th>A_users</th>\n",
       "      <th>B_users</th>\n",
       "      <th>A_events_diff</th>\n",
       "      <th>B_events_diff</th>\n",
       "      <th>A_users_diff</th>\n",
       "      <th>B_users_diff</th>\n",
       "    </tr>\n",
       "    <tr>\n",
       "      <th>event_name</th>\n",
       "      <th></th>\n",
       "      <th></th>\n",
       "      <th></th>\n",
       "      <th></th>\n",
       "      <th></th>\n",
       "      <th></th>\n",
       "      <th></th>\n",
       "      <th></th>\n",
       "    </tr>\n",
       "  </thead>\n",
       "  <tbody>\n",
       "    <tr>\n",
       "      <th>login</th>\n",
       "      <td>8124</td>\n",
       "      <td>2471</td>\n",
       "      <td>2604</td>\n",
       "      <td>877</td>\n",
       "      <td>NaN</td>\n",
       "      <td>NaN</td>\n",
       "      <td>NaN</td>\n",
       "      <td>NaN</td>\n",
       "    </tr>\n",
       "    <tr>\n",
       "      <th>product_page</th>\n",
       "      <td>5227</td>\n",
       "      <td>1327</td>\n",
       "      <td>1685</td>\n",
       "      <td>493</td>\n",
       "      <td>-2897.0</td>\n",
       "      <td>-1144.0</td>\n",
       "      <td>-919.0</td>\n",
       "      <td>-384.0</td>\n",
       "    </tr>\n",
       "    <tr>\n",
       "      <th>product_cart</th>\n",
       "      <td>2422</td>\n",
       "      <td>653</td>\n",
       "      <td>782</td>\n",
       "      <td>244</td>\n",
       "      <td>-2805.0</td>\n",
       "      <td>-674.0</td>\n",
       "      <td>-903.0</td>\n",
       "      <td>-249.0</td>\n",
       "    </tr>\n",
       "    <tr>\n",
       "      <th>purchase</th>\n",
       "      <td>2536</td>\n",
       "      <td>660</td>\n",
       "      <td>833</td>\n",
       "      <td>249</td>\n",
       "      <td>114.0</td>\n",
       "      <td>7.0</td>\n",
       "      <td>51.0</td>\n",
       "      <td>5.0</td>\n",
       "    </tr>\n",
       "  </tbody>\n",
       "</table>\n",
       "</div>"
      ],
      "text/plain": [
       "group         A_events  B_events  A_users  B_users  A_events_diff  \\\n",
       "event_name                                                          \n",
       "login             8124      2471     2604      877            NaN   \n",
       "product_page      5227      1327     1685      493        -2897.0   \n",
       "product_cart      2422       653      782      244        -2805.0   \n",
       "purchase          2536       660      833      249          114.0   \n",
       "\n",
       "group         B_events_diff  A_users_diff  B_users_diff  \n",
       "event_name                                               \n",
       "login                   NaN           NaN           NaN  \n",
       "product_page        -1144.0        -919.0        -384.0  \n",
       "product_cart         -674.0        -903.0        -249.0  \n",
       "purchase                7.0          51.0           5.0  "
      ]
     },
     "execution_count": 143,
     "metadata": {},
     "output_type": "execute_result"
    }
   ],
   "source": [
    "#выведем еще раз сводную таблицу\n",
    "\n",
    "steps = check_conversion(rec_test)\n",
    "steps"
   ]
  },
  {
   "cell_type": "code",
   "execution_count": 144,
   "id": "oJLnxvPS65-h",
   "metadata": {
    "colab": {
     "base_uri": "https://localhost:8080/",
     "height": 447
    },
    "id": "oJLnxvPS65-h",
    "outputId": "8b861cd3-4449-488b-92c6-00dff94d9697"
   },
   "outputs": [
    {
     "data": {
      "image/png": "[encoded data removed]",
      "text/plain": [
       "<Figure size 1080x576 with 2 Axes>"
      ]
     },
     "metadata": {},
     "output_type": "display_data"
    }
   ],
   "source": [
    "#строим круговую диаграмму по процентному соотношению пользователей\n",
    "\n",
    "plt.figure(figsize=(15, 8))\n",
    "\n",
    "ax1 = plt.subplot(1, 2, 1)\n",
    "steps.plot(kind='pie',  y='A_users', autopct='%.0f%%', grid=True, legend=False, colors=palette, ax=ax1)\n",
    "ax1.set_title(f'Процентное соотношение пользователей:\\nгруппа А', fontsize=15)\n",
    "plt.ylabel('')\n",
    "\n",
    "ax2 = plt.subplot(1, 2, 2)\n",
    "steps.plot(kind='pie',  y='B_users', autopct='%.0f%%', grid=True, legend=False, colors=palette, ax=ax2)\n",
    "ax2.set_title(f'Процентное соотношение пользователей:\\nгруппа В', fontsize=15)\n",
    "plt.ylabel('');"
   ]
  },
  {
   "cell_type": "code",
   "execution_count": 145,
   "id": "S6jliJkU7eQA",
   "metadata": {
    "colab": {
     "base_uri": "https://localhost:8080/",
     "height": 447
    },
    "id": "S6jliJkU7eQA",
    "outputId": "ee7ae434-6969-4d2b-e449-62c551ce0130"
   },
   "outputs": [
    {
     "data": {
      "image/png": "[encoded data removed]",
      "text/plain": [
       "<Figure size 1080x576 with 2 Axes>"
      ]
     },
     "metadata": {},
     "output_type": "display_data"
    }
   ],
   "source": [
    "#строим круговую диаграмму по процентному соотношению событий\n",
    "\n",
    "plt.figure(figsize=(15, 8))\n",
    "\n",
    "ax1 = plt.subplot(1, 2, 1)\n",
    "steps.plot(kind='pie',  y='A_events', autopct='%.0f%%', grid=True, legend=False, colors=palette, ax=ax1)\n",
    "ax1.set_title(f'Процентное соотношение действий:\\nгруппа А', fontsize=15)\n",
    "plt.ylabel('')\n",
    "\n",
    "#строим круговую диаграмму\n",
    "ax2 = plt.subplot(1, 2, 2)\n",
    "steps.plot(kind='pie',  y='B_events', autopct='%.0f%%', grid=True, legend=False, colors=palette, ax=ax2)\n",
    "ax2.set_title(f'Процентное соотношение действий:\\nгруппа В', fontsize=15)\n",
    "plt.ylabel('');"
   ]
  },
  {
   "cell_type": "markdown",
   "id": "mIt5oHEO9C8s",
   "metadata": {
    "id": "mIt5oHEO9C8s"
   },
   "source": [
    "Как мы установили ранее, группа А превышает численность группы В в три раза. Соответственно, единственным верным вариантом сравнения этих групп будет процентное соотношение. \n",
    "Распределение событий по уникальным пользователем выявило отсутствие особо значимых различий между двумя группами. Так, посещают страницу корзины и покупок около 13-14% пользователей в обеих группах. Однако, группа А несколько чаще предпочитает посещать страницу с описанием товара (29%), в то время как участники из группы В чаще посещают стартовую страницу (вход в систему) - 47%. Распределение именно по числу событий в целом соответствует этим данным за минимальным отличием в 1% в ряде случаев. "
   ]
  },
  {
   "cell_type": "code",
   "execution_count": 146,
   "id": "XHGss6CRRmw2",
   "metadata": {
    "colab": {
     "base_uri": "https://localhost:8080/",
     "height": 335
    },
    "id": "XHGss6CRRmw2",
    "outputId": "19ef8f73-1712-4499-867e-9b3925ed8c21"
   },
   "outputs": [
    {
     "data": {
      "text/plain": [
       "'уникальных событий на пользователя:'"
      ]
     },
     "metadata": {},
     "output_type": "display_data"
    },
    {
     "data": {
      "text/plain": [
       "event_name    2.23\n",
       "dtype: float64"
      ]
     },
     "metadata": {},
     "output_type": "display_data"
    },
    {
     "data": {
      "text/plain": [
       "'уникальных событий на участников группы А:'"
      ]
     },
     "metadata": {},
     "output_type": "display_data"
    },
    {
     "data": {
      "text/plain": [
       "event_name    2.27\n",
       "dtype: float64"
      ]
     },
     "metadata": {},
     "output_type": "display_data"
    },
    {
     "data": {
      "text/plain": [
       "'уникальных событий на участников группы В:'"
      ]
     },
     "metadata": {},
     "output_type": "display_data"
    },
    {
     "data": {
      "text/plain": [
       "event_name    2.12\n",
       "dtype: float64"
      ]
     },
     "metadata": {},
     "output_type": "display_data"
    },
    {
     "data": {
      "text/plain": [
       "'всего событий на пользователя:'"
      ]
     },
     "metadata": {},
     "output_type": "display_data"
    },
    {
     "data": {
      "text/plain": [
       "event_name    6.73\n",
       "dtype: float64"
      ]
     },
     "metadata": {},
     "output_type": "display_data"
    },
    {
     "data": {
      "text/plain": [
       "'всего событий на участников группы А:'"
      ]
     },
     "metadata": {},
     "output_type": "display_data"
    },
    {
     "data": {
      "text/plain": [
       "event_name    7.03\n",
       "dtype: float64"
      ]
     },
     "metadata": {},
     "output_type": "display_data"
    },
    {
     "data": {
      "text/plain": [
       "'всего событий на участников группы В:'"
      ]
     },
     "metadata": {},
     "output_type": "display_data"
    },
    {
     "data": {
      "text/plain": [
       "event_name    5.83\n",
       "dtype: float64"
      ]
     },
     "metadata": {},
     "output_type": "display_data"
    }
   ],
   "source": [
    "#выявим, сколько в среднем событий приходится на пользователя\n",
    "\n",
    "display('уникальных событий на пользователя:', rec_test.groupby('user_id')\\\n",
    "        .agg({'event_name': 'nunique'}).mean().round(2))\n",
    "\n",
    "display('уникальных событий на участников группы А:', rec_test.query('group == \"A\"').groupby('user_id')\\\n",
    "        .agg({'event_name': 'nunique'}).mean().round(2))\n",
    "\n",
    "display('уникальных событий на участников группы В:', rec_test\n",
    "        .query('group == \"B\"').groupby('user_id')\\\n",
    "        .agg({'event_name': 'nunique'}).mean().round(2))\n",
    "\n",
    "display('всего событий на пользователя:', rec_test\n",
    "        .groupby('user_id')\\\n",
    "        .agg({'event_name': 'count'}).mean().round(2))\n",
    "\n",
    "display('всего событий на участников группы А:', rec_test.query('group == \"A\"')\n",
    "        .groupby('user_id')\\\n",
    "        .agg({'event_name': 'count'}).mean().round(2))\n",
    "\n",
    "display('всего событий на участников группы В:', rec_test.query('group == \"B\"')\n",
    "        .groupby('user_id')\\\n",
    "        .agg({'event_name': 'count'}).mean().round(2))"
   ]
  },
  {
   "cell_type": "markdown",
   "id": "RhaTmFL7S_m7",
   "metadata": {
    "id": "RhaTmFL7S_m7"
   },
   "source": [
    "Всего на каждого пользователя приходится два действия - предположим, что в их число входят наиболее популярные авторизация и просмотр страницы. В группе А это значение несколько больше, чем в группе В. Аналогичноая ситуация и с общим числом событий: на каждого участника теста приходится около 6.7 действий, в то время как участники группы А совершают чуть более 7, а группа В не достигает показателя в 6 событий. Все это говорит о том, что контрольная группа А проявляет большую активность по сравнению с другой тестовой группой."
   ]
  },
  {
   "cell_type": "markdown",
   "id": "cY5TCGHa9Goh",
   "metadata": {
    "id": "cY5TCGHa9Goh"
   },
   "source": [
    "<a id=\"eda_dates\"> </a> \n",
    "### Распределение числа событий по дням"
   ]
  },
  {
   "cell_type": "code",
   "execution_count": 147,
   "id": "FlWChIhX9fDH",
   "metadata": {
    "colab": {
     "base_uri": "https://localhost:8080/",
     "height": 833
    },
    "id": "FlWChIhX9fDH",
    "outputId": "66dbeff2-b2d9-4345-9c53-34155aca7783"
   },
   "outputs": [
    {
     "data": {
      "text/html": [
       "<div>\n",
       "<style scoped>\n",
       "    .dataframe tbody tr th:only-of-type {\n",
       "        vertical-align: middle;\n",
       "    }\n",
       "\n",
       "    .dataframe tbody tr th {\n",
       "        vertical-align: top;\n",
       "    }\n",
       "\n",
       "    .dataframe thead th {\n",
       "        text-align: right;\n",
       "    }\n",
       "</style>\n",
       "<table border=\"1\" class=\"dataframe\">\n",
       "  <thead>\n",
       "    <tr style=\"text-align: right;\">\n",
       "      <th>group</th>\n",
       "      <th>A_events</th>\n",
       "      <th>B_events</th>\n",
       "    </tr>\n",
       "    <tr>\n",
       "      <th>dt</th>\n",
       "      <th></th>\n",
       "      <th></th>\n",
       "    </tr>\n",
       "  </thead>\n",
       "  <tbody>\n",
       "    <tr>\n",
       "      <th>2020-12-07</th>\n",
       "      <td>318.0</td>\n",
       "      <td>356.0</td>\n",
       "    </tr>\n",
       "    <tr>\n",
       "      <th>2020-12-08</th>\n",
       "      <td>313.0</td>\n",
       "      <td>238.0</td>\n",
       "    </tr>\n",
       "    <tr>\n",
       "      <th>2020-12-09</th>\n",
       "      <td>371.0</td>\n",
       "      <td>338.0</td>\n",
       "    </tr>\n",
       "    <tr>\n",
       "      <th>2020-12-10</th>\n",
       "      <td>331.0</td>\n",
       "      <td>249.0</td>\n",
       "    </tr>\n",
       "    <tr>\n",
       "      <th>2020-12-11</th>\n",
       "      <td>356.0</td>\n",
       "      <td>161.0</td>\n",
       "    </tr>\n",
       "  </tbody>\n",
       "</table>\n",
       "</div>"
      ],
      "text/plain": [
       "group       A_events  B_events\n",
       "dt                            \n",
       "2020-12-07     318.0     356.0\n",
       "2020-12-08     313.0     238.0\n",
       "2020-12-09     371.0     338.0\n",
       "2020-12-10     331.0     249.0\n",
       "2020-12-11     356.0     161.0"
      ]
     },
     "execution_count": 147,
     "metadata": {},
     "output_type": "execute_result"
    }
   ],
   "source": [
    "#создадим сводную таблтцу по дням\n",
    "\n",
    "days = (rec_test\n",
    "          .pivot_table(index='dt', \n",
    "                       columns='group', \n",
    "                       values='user_id', \n",
    "                       aggfunc='count')\n",
    "          .rename(columns={'A': 'A_events', \n",
    "                           'B': 'B_events'})\n",
    ")\n",
    "\n",
    "days.head(5)"
   ]
  },
  {
   "cell_type": "code",
   "execution_count": 148,
   "id": "RLjly8ma9B3u",
   "metadata": {
    "colab": {
     "base_uri": "https://localhost:8080/",
     "height": 463
    },
    "id": "RLjly8ma9B3u",
    "outputId": "faabc152-7cc0-4447-8f41-f78ff8202b1c"
   },
   "outputs": [
    {
     "data": {
      "image/png": "[encoded data removed]",
      "text/plain": [
       "<Figure size 1080x432 with 1 Axes>"
      ]
     },
     "metadata": {},
     "output_type": "display_data"
    }
   ],
   "source": [
    "#выведем на график распределение событий по дням для каждой из групп\n",
    "\n",
    "ax =  (days.plot(kind='bar', y='A_events', \n",
    "                 color=palette[1], \n",
    "                 label='группа А')\n",
    "      )\n",
    "\n",
    "(\n",
    "    days\n",
    "    .plot(kind='bar', y='B_events',\n",
    "            title='Распределение событий по дням',\n",
    "            color=palette[7], figsize=(15, 6), \n",
    "          label='группа В', \n",
    "          ax=ax, xlabel='дата')\n",
    ");"
   ]
  },
  {
   "cell_type": "markdown",
   "id": "jRVZBQxXAeSk",
   "metadata": {
    "id": "jRVZBQxXAeSk"
   },
   "source": [
    "Как мы видим на диаграмме, ситуация менялась с течением времени как в рамках каждой из групп, так и в соотношении между ними. Так, в первые несколько дней количество событий в группе В превалировало или было близком к количеству событий группы А. После небольшого спада, с 14 декабря действия пользователей группы В зафиксировались примерно на одном уровне с двумя пиковыми значениями 16 и 21 декабря, после чего резко снизились и продолжили едва заметное снижение до конца месяца. Группа А, напротив, распределена несколько иначе, с особо выраженным пиковым значением 21 декабря. Пользователи этой группы начали проявлять резкую активность 14 декабря, и сразу после этой даты начали плавное снижение числа своих действий. \n",
    "\n",
    "Таким образом, обе группы похожи в своих действиях в отношении периода после 23 декабря включительно (снижение активности), в то время как в начале периода лидировала группа В, между этими датами активность в группе В была более умеренной, а у группы А - возрастающей. \n",
    "\n",
    "Наличие особой активности 21 декабря (в день, когда завершался набор в тестируемые группы) говорит о возможном проведении акции, распродажи или иного другого стимулирующего события, о котором нам неизвестно."
   ]
  },
  {
   "cell_type": "markdown",
   "id": "Srnbclp8Cbu6",
   "metadata": {
    "id": "Srnbclp8Cbu6"
   },
   "source": [
    "Посмотрим на распределение категорий событий для каждой из групп по дням"
   ]
  },
  {
   "cell_type": "code",
   "execution_count": 149,
   "id": "-5QDQe2kCyII",
   "metadata": {
    "id": "-5QDQe2kCyII"
   },
   "outputs": [],
   "source": [
    "def plotly_bar(data, x, y, text, title, xaxis, yaxis):\n",
    "    \"\"\"Функция содержит код для построения \n",
    "    интерактивного распределения.\n",
    "\n",
    "    Передаваемые на вход аргументы:\n",
    "    data - сгруппированная таблица\n",
    "    х, y - параметры столбцов\n",
    "    title - название диаграммы\n",
    "    xaxis, yaxis - подписи осей\n",
    "    \"\"\"\n",
    "    plt.figure(figsize=(20, 15))\n",
    "    fig = px.bar(data, \n",
    "             x=x, \n",
    "             y=y, \n",
    "             text=text, \n",
    "             color=text, \n",
    "             color_discrete_sequence=['#cee2c3',\n",
    "                                      '#a7d1aa',\n",
    "                                      '#7fbc9a',\n",
    "                                      '#5fa292',\n",
    "                                      '#4a848b',\n",
    "                                      '#3c617c',\n",
    "                                      '#334064',\n",
    "                                      '#26213f'])\n",
    "    fig.update_layout(xaxis={'categoryorder': 'total descending'})\n",
    "    fig.update_layout(title=title,\n",
    "                       xaxis_title=xaxis,\n",
    "                       yaxis_title=yaxis)\n",
    "    return fig"
   ]
  },
  {
   "cell_type": "code",
   "execution_count": 150,
   "id": "scilgBDOC8y9",
   "metadata": {
    "colab": {
     "base_uri": "https://localhost:8080/",
     "height": 424
    },
    "id": "scilgBDOC8y9",
    "outputId": "e968df78-1aa9-49ed-a847-e1a4a9d8ebb1"
   },
   "outputs": [
    {
     "data": {
      "text/html": [
       "<div>\n",
       "<style scoped>\n",
       "    .dataframe tbody tr th:only-of-type {\n",
       "        vertical-align: middle;\n",
       "    }\n",
       "\n",
       "    .dataframe tbody tr th {\n",
       "        vertical-align: top;\n",
       "    }\n",
       "\n",
       "    .dataframe thead th {\n",
       "        text-align: right;\n",
       "    }\n",
       "</style>\n",
       "<table border=\"1\" class=\"dataframe\">\n",
       "  <thead>\n",
       "    <tr style=\"text-align: right;\">\n",
       "      <th></th>\n",
       "      <th>dt</th>\n",
       "      <th>group</th>\n",
       "      <th>event_name</th>\n",
       "      <th>count</th>\n",
       "    </tr>\n",
       "  </thead>\n",
       "  <tbody>\n",
       "    <tr>\n",
       "      <th>112</th>\n",
       "      <td>2020-12-21</td>\n",
       "      <td>A</td>\n",
       "      <td>login</td>\n",
       "      <td>837</td>\n",
       "    </tr>\n",
       "    <tr>\n",
       "      <th>104</th>\n",
       "      <td>2020-12-20</td>\n",
       "      <td>A</td>\n",
       "      <td>login</td>\n",
       "      <td>627</td>\n",
       "    </tr>\n",
       "    <tr>\n",
       "      <th>96</th>\n",
       "      <td>2020-12-19</td>\n",
       "      <td>A</td>\n",
       "      <td>login</td>\n",
       "      <td>617</td>\n",
       "    </tr>\n",
       "    <tr>\n",
       "      <th>120</th>\n",
       "      <td>2020-12-22</td>\n",
       "      <td>A</td>\n",
       "      <td>login</td>\n",
       "      <td>554</td>\n",
       "    </tr>\n",
       "    <tr>\n",
       "      <th>113</th>\n",
       "      <td>2020-12-21</td>\n",
       "      <td>A</td>\n",
       "      <td>product_page</td>\n",
       "      <td>549</td>\n",
       "    </tr>\n",
       "  </tbody>\n",
       "</table>\n",
       "</div>"
      ],
      "text/plain": [
       "             dt group    event_name  count\n",
       "112  2020-12-21     A         login    837\n",
       "104  2020-12-20     A         login    627\n",
       "96   2020-12-19     A         login    617\n",
       "120  2020-12-22     A         login    554\n",
       "113  2020-12-21     A  product_page    549"
      ]
     },
     "execution_count": 150,
     "metadata": {},
     "output_type": "execute_result"
    }
   ],
   "source": [
    "#создадим таблицу, куда войдут данные по всем категориям действий\n",
    "\n",
    "events_categories = (rec_test\n",
    "             .groupby(['dt', 'group'])['event_name']\n",
    "             .value_counts()\n",
    "             .to_frame('count')\n",
    "             .reset_index()\n",
    "             .sort_values(by='count', ascending=False)\n",
    "            )\n",
    "\n",
    "events_categories.head(5)"
   ]
  },
  {
   "cell_type": "code",
   "execution_count": 151,
   "id": "d-Z1AVxU76Od",
   "metadata": {
    "id": "d-Z1AVxU76Od"
   },
   "outputs": [],
   "source": [
    "#посмотрим на распределение событий для группы А\n",
    "\n",
    "def plotly_bar(data, x, y, text, title, xaxis, yaxis):\n",
    "    plt.figure(figsize=(20, 15))\n",
    "    fig = px.bar(data, \n",
    "             x=x, \n",
    "             y=y, \n",
    "             text=text, \n",
    "             color=text, \n",
    "             color_discrete_sequence=['#cee2c3',\n",
    "                                      '#a7d1aa',\n",
    "                                      '#7fbc9a',\n",
    "                                      '#5fa292',\n",
    "                                      '#4a848b',\n",
    "                                      '#3c617c',\n",
    "                                      '#334064',\n",
    "                                      '#26213f'])\n",
    "    fig.update_layout(xaxis={'categoryorder': 'total descending'})\n",
    "    fig.update_layout(title=title,\n",
    "                       xaxis_title=xaxis,\n",
    "                       yaxis_title=yaxis)\n",
    "    return fig"
   ]
  },
  {
   "cell_type": "code",
   "execution_count": 152,
   "id": "LDtQkSYEDz2W",
   "metadata": {
    "colab": {
     "base_uri": "https://localhost:8080/",
     "height": 559
    },
    "id": "LDtQkSYEDz2W",
    "outputId": "265e57a1-e9a5-4673-bf1f-8914618d1c3e"
   },
   "outputs": [
    {
     "data": {
      "application/vnd.plotly.v1+json": {
       "config": {
        "plotlyServerURL": "https://plot.ly"
       },
       "data": [
        {
         "alignmentgroup": "True",
         "hovertemplate": "event_name=%{text}<br>dt=%{x}<br>count=%{y}<extra></extra>",
         "legendgroup": "login",
         "marker": {
          "color": "#cee2c3",
          "pattern": {
           "shape": ""
          }
         },
         "name": "login",
         "offsetgroup": "login",
         "orientation": "v",
         "showlegend": true,
         "text": [
          "login",
          "login",
          "login",
          "login",
          "login",
          "login",
          "login",
          "login",
          "login",
          "login",
          "login",
          "login",
          "login",
          "login",
          "login",
          "login",
          "login",
          "login",
          "login",
          "login",
          "login",
          "login",
          "login"
         ],
         "textposition": "auto",
         "type": "bar",
         "x": [
          "2020-12-21",
          "2020-12-20",
          "2020-12-19",
          "2020-12-22",
          "2020-12-18",
          "2020-12-17",
          "2020-12-14",
          "2020-12-15",
          "2020-12-16",
          "2020-12-23",
          "2020-12-24",
          "2020-12-25",
          "2020-12-26",
          "2020-12-27",
          "2020-12-28",
          "2020-12-29",
          "2020-12-11",
          "2020-12-09",
          "2020-12-12",
          "2020-12-10",
          "2020-12-13",
          "2020-12-07",
          "2020-12-08"
         ],
         "xaxis": "x",
         "y": [
          837,
          627,
          617,
          554,
          543,
          520,
          461,
          452,
          442,
          426,
          362,
          278,
          249,
          238,
          206,
          193,
          176,
          171,
          168,
          156,
          154,
          148,
          146
         ],
         "yaxis": "y"
        },
        {
         "alignmentgroup": "True",
         "hovertemplate": "event_name=%{text}<br>dt=%{x}<br>count=%{y}<extra></extra>",
         "legendgroup": "product_page",
         "marker": {
          "color": "#a7d1aa",
          "pattern": {
           "shape": ""
          }
         },
         "name": "product_page",
         "offsetgroup": "product_page",
         "orientation": "v",
         "showlegend": true,
         "text": [
          "product_page",
          "product_page",
          "product_page",
          "product_page",
          "product_page",
          "product_page",
          "product_page",
          "product_page",
          "product_page",
          "product_page",
          "product_page",
          "product_page",
          "product_page",
          "product_page",
          "product_page",
          "product_page",
          "product_page",
          "product_page",
          "product_page",
          "product_page",
          "product_page",
          "product_page",
          "product_page"
         ],
         "textposition": "auto",
         "type": "bar",
         "x": [
          "2020-12-21",
          "2020-12-19",
          "2020-12-20",
          "2020-12-18",
          "2020-12-22",
          "2020-12-17",
          "2020-12-15",
          "2020-12-16",
          "2020-12-14",
          "2020-12-23",
          "2020-12-24",
          "2020-12-25",
          "2020-12-26",
          "2020-12-27",
          "2020-12-28",
          "2020-12-29",
          "2020-12-09",
          "2020-12-08",
          "2020-12-11",
          "2020-12-12",
          "2020-12-07",
          "2020-12-13",
          "2020-12-10"
         ],
         "xaxis": "x",
         "y": [
          549,
          405,
          402,
          370,
          362,
          334,
          286,
          285,
          285,
          274,
          250,
          184,
          167,
          157,
          134,
          125,
          103,
          98,
          96,
          93,
          92,
          88,
          88
         ],
         "yaxis": "y"
        },
        {
         "alignmentgroup": "True",
         "hovertemplate": "event_name=%{text}<br>dt=%{x}<br>count=%{y}<extra></extra>",
         "legendgroup": "purchase",
         "marker": {
          "color": "#7fbc9a",
          "pattern": {
           "shape": ""
          }
         },
         "name": "purchase",
         "offsetgroup": "purchase",
         "orientation": "v",
         "showlegend": true,
         "text": [
          "purchase",
          "purchase",
          "purchase",
          "purchase",
          "purchase",
          "purchase",
          "purchase",
          "purchase",
          "purchase",
          "purchase",
          "purchase",
          "purchase",
          "purchase",
          "purchase",
          "purchase",
          "purchase",
          "purchase",
          "purchase",
          "purchase",
          "purchase",
          "purchase",
          "purchase",
          "purchase"
         ],
         "textposition": "auto",
         "type": "bar",
         "x": [
          "2020-12-21",
          "2020-12-20",
          "2020-12-19",
          "2020-12-17",
          "2020-12-18",
          "2020-12-22",
          "2020-12-16",
          "2020-12-15",
          "2020-12-23",
          "2020-12-14",
          "2020-12-24",
          "2020-12-25",
          "2020-12-26",
          "2020-12-27",
          "2020-12-28",
          "2020-12-09",
          "2020-12-29",
          "2020-12-07",
          "2020-12-10",
          "2020-12-11",
          "2020-12-12",
          "2020-12-08",
          "2020-12-13"
         ],
         "xaxis": "x",
         "y": [
          282,
          211,
          208,
          169,
          165,
          164,
          142,
          137,
          136,
          133,
          122,
          106,
          92,
          82,
          69,
          47,
          43,
          43,
          42,
          40,
          38,
          33,
          32
         ],
         "yaxis": "y"
        },
        {
         "alignmentgroup": "True",
         "hovertemplate": "event_name=%{text}<br>dt=%{x}<br>count=%{y}<extra></extra>",
         "legendgroup": "product_cart",
         "marker": {
          "color": "#5fa292",
          "pattern": {
           "shape": ""
          }
         },
         "name": "product_cart",
         "offsetgroup": "product_cart",
         "orientation": "v",
         "showlegend": true,
         "text": [
          "product_cart",
          "product_cart",
          "product_cart",
          "product_cart",
          "product_cart",
          "product_cart",
          "product_cart",
          "product_cart",
          "product_cart",
          "product_cart",
          "product_cart",
          "product_cart",
          "product_cart",
          "product_cart",
          "product_cart",
          "product_cart",
          "product_cart",
          "product_cart",
          "product_cart",
          "product_cart",
          "product_cart",
          "product_cart",
          "product_cart"
         ],
         "textposition": "auto",
         "type": "bar",
         "x": [
          "2020-12-21",
          "2020-12-19",
          "2020-12-20",
          "2020-12-17",
          "2020-12-18",
          "2020-12-22",
          "2020-12-15",
          "2020-12-16",
          "2020-12-14",
          "2020-12-23",
          "2020-12-24",
          "2020-12-26",
          "2020-12-25",
          "2020-12-27",
          "2020-12-28",
          "2020-12-29",
          "2020-12-09",
          "2020-12-12",
          "2020-12-10",
          "2020-12-11",
          "2020-12-08",
          "2020-12-07",
          "2020-12-13"
         ],
         "xaxis": "x",
         "y": [
          235,
          200,
          194,
          177,
          166,
          156,
          155,
          138,
          136,
          123,
          116,
          72,
          71,
          70,
          70,
          52,
          50,
          47,
          45,
          44,
          36,
          35,
          34
         ],
         "yaxis": "y"
        }
       ],
       "layout": {
        "barmode": "relative",
        "legend": {
         "title": {
          "text": "event_name"
         },
         "tracegroupgap": 0
        },
        "margin": {
         "t": 60
        },
        "template": {
         "data": {
          "bar": [
           {
            "error_x": {
             "color": "#2a3f5f"
            },
            "error_y": {
             "color": "#2a3f5f"
            },
            "marker": {
             "line": {
              "color": "#E5ECF6",
              "width": 0.5
             },
             "pattern": {
              "fillmode": "overlay",
              "size": 10,
              "solidity": 0.2
             }
            },
            "type": "bar"
           }
          ],
          "barpolar": [
           {
            "marker": {
             "line": {
              "color": "#E5ECF6",
              "width": 0.5
             },
             "pattern": {
              "fillmode": "overlay",
              "size": 10,
              "solidity": 0.2
             }
            },
            "type": "barpolar"
           }
          ],
          "carpet": [
           {
            "aaxis": {
             "endlinecolor": "#2a3f5f",
             "gridcolor": "white",
             "linecolor": "white",
             "minorgridcolor": "white",
             "startlinecolor": "#2a3f5f"
            },
            "baxis": {
             "endlinecolor": "#2a3f5f",
             "gridcolor": "white",
             "linecolor": "white",
             "minorgridcolor": "white",
             "startlinecolor": "#2a3f5f"
            },
            "type": "carpet"
           }
          ],
          "choropleth": [
           {
            "colorbar": {
             "outlinewidth": 0,
             "ticks": ""
            },
            "type": "choropleth"
           }
          ],
          "contour": [
           {
            "colorbar": {
             "outlinewidth": 0,
             "ticks": ""
            },
            "colorscale": [
             [
              0,
              "#0d0887"
             ],
             [
              0.1111111111111111,
              "#46039f"
             ],
             [
              0.2222222222222222,
              "#7201a8"
             ],
             [
              0.3333333333333333,
              "#9c179e"
             ],
             [
              0.4444444444444444,
              "#bd3786"
             ],
             [
              0.5555555555555556,
              "#d8576b"
             ],
             [
              0.6666666666666666,
              "#ed7953"
             ],
             [
              0.7777777777777778,
              "#fb9f3a"
             ],
             [
              0.8888888888888888,
              "#fdca26"
             ],
             [
              1,
              "#f0f921"
             ]
            ],
            "type": "contour"
           }
          ],
          "contourcarpet": [
           {
            "colorbar": {
             "outlinewidth": 0,
             "ticks": ""
            },
            "type": "contourcarpet"
           }
          ],
          "heatmap": [
           {
            "colorbar": {
             "outlinewidth": 0,
             "ticks": ""
            },
            "colorscale": [
             [
              0,
              "#0d0887"
             ],
             [
              0.1111111111111111,
              "#46039f"
             ],
             [
              0.2222222222222222,
              "#7201a8"
             ],
             [
              0.3333333333333333,
              "#9c179e"
             ],
             [
              0.4444444444444444,
              "#bd3786"
             ],
             [
              0.5555555555555556,
              "#d8576b"
             ],
             [
              0.6666666666666666,
              "#ed7953"
             ],
             [
              0.7777777777777778,
              "#fb9f3a"
             ],
             [
              0.8888888888888888,
              "#fdca26"
             ],
             [
              1,
              "#f0f921"
             ]
            ],
            "type": "heatmap"
           }
          ],
          "heatmapgl": [
           {
            "colorbar": {
             "outlinewidth": 0,
             "ticks": ""
            },
            "colorscale": [
             [
              0,
              "#0d0887"
             ],
             [
              0.1111111111111111,
              "#46039f"
             ],
             [
              0.2222222222222222,
              "#7201a8"
             ],
             [
              0.3333333333333333,
              "#9c179e"
             ],
             [
              0.4444444444444444,
              "#bd3786"
             ],
             [
              0.5555555555555556,
              "#d8576b"
             ],
             [
              0.6666666666666666,
              "#ed7953"
             ],
             [
              0.7777777777777778,
              "#fb9f3a"
             ],
             [
              0.8888888888888888,
              "#fdca26"
             ],
             [
              1,
              "#f0f921"
             ]
            ],
            "type": "heatmapgl"
           }
          ],
          "histogram": [
           {
            "marker": {
             "pattern": {
              "fillmode": "overlay",
              "size": 10,
              "solidity": 0.2
             }
            },
            "type": "histogram"
           }
          ],
          "histogram2d": [
           {
            "colorbar": {
             "outlinewidth": 0,
             "ticks": ""
            },
            "colorscale": [
             [
              0,
              "#0d0887"
             ],
             [
              0.1111111111111111,
              "#46039f"
             ],
             [
              0.2222222222222222,
              "#7201a8"
             ],
             [
              0.3333333333333333,
              "#9c179e"
             ],
             [
              0.4444444444444444,
              "#bd3786"
             ],
             [
              0.5555555555555556,
              "#d8576b"
             ],
             [
              0.6666666666666666,
              "#ed7953"
             ],
             [
              0.7777777777777778,
              "#fb9f3a"
             ],
             [
              0.8888888888888888,
              "#fdca26"
             ],
             [
              1,
              "#f0f921"
             ]
            ],
            "type": "histogram2d"
           }
          ],
          "histogram2dcontour": [
           {
            "colorbar": {
             "outlinewidth": 0,
             "ticks": ""
            },
            "colorscale": [
             [
              0,
              "#0d0887"
             ],
             [
              0.1111111111111111,
              "#46039f"
             ],
             [
              0.2222222222222222,
              "#7201a8"
             ],
             [
              0.3333333333333333,
              "#9c179e"
             ],
             [
              0.4444444444444444,
              "#bd3786"
             ],
             [
              0.5555555555555556,
              "#d8576b"
             ],
             [
              0.6666666666666666,
              "#ed7953"
             ],
             [
              0.7777777777777778,
              "#fb9f3a"
             ],
             [
              0.8888888888888888,
              "#fdca26"
             ],
             [
              1,
              "#f0f921"
             ]
            ],
            "type": "histogram2dcontour"
           }
          ],
          "mesh3d": [
           {
            "colorbar": {
             "outlinewidth": 0,
             "ticks": ""
            },
            "type": "mesh3d"
           }
          ],
          "parcoords": [
           {
            "line": {
             "colorbar": {
              "outlinewidth": 0,
              "ticks": ""
             }
            },
            "type": "parcoords"
           }
          ],
          "pie": [
           {
            "automargin": true,
            "type": "pie"
           }
          ],
          "scatter": [
           {
            "marker": {
             "colorbar": {
              "outlinewidth": 0,
              "ticks": ""
             }
            },
            "type": "scatter"
           }
          ],
          "scatter3d": [
           {
            "line": {
             "colorbar": {
              "outlinewidth": 0,
              "ticks": ""
             }
            },
            "marker": {
             "colorbar": {
              "outlinewidth": 0,
              "ticks": ""
             }
            },
            "type": "scatter3d"
           }
          ],
          "scattercarpet": [
           {
            "marker": {
             "colorbar": {
              "outlinewidth": 0,
              "ticks": ""
             }
            },
            "type": "scattercarpet"
           }
          ],
          "scattergeo": [
           {
            "marker": {
             "colorbar": {
              "outlinewidth": 0,
              "ticks": ""
             }
            },
            "type": "scattergeo"
           }
          ],
          "scattergl": [
           {
            "marker": {
             "colorbar": {
              "outlinewidth": 0,
              "ticks": ""
             }
            },
            "type": "scattergl"
           }
          ],
          "scattermapbox": [
           {
            "marker": {
             "colorbar": {
              "outlinewidth": 0,
              "ticks": ""
             }
            },
            "type": "scattermapbox"
           }
          ],
          "scatterpolar": [
           {
            "marker": {
             "colorbar": {
              "outlinewidth": 0,
              "ticks": ""
             }
            },
            "type": "scatterpolar"
           }
          ],
          "scatterpolargl": [
           {
            "marker": {
             "colorbar": {
              "outlinewidth": 0,
              "ticks": ""
             }
            },
            "type": "scatterpolargl"
           }
          ],
          "scatterternary": [
           {
            "marker": {
             "colorbar": {
              "outlinewidth": 0,
              "ticks": ""
             }
            },
            "type": "scatterternary"
           }
          ],
          "surface": [
           {
            "colorbar": {
             "outlinewidth": 0,
             "ticks": ""
            },
            "colorscale": [
             [
              0,
              "#0d0887"
             ],
             [
              0.1111111111111111,
              "#46039f"
             ],
             [
              0.2222222222222222,
              "#7201a8"
             ],
             [
              0.3333333333333333,
              "#9c179e"
             ],
             [
              0.4444444444444444,
              "#bd3786"
             ],
             [
              0.5555555555555556,
              "#d8576b"
             ],
             [
              0.6666666666666666,
              "#ed7953"
             ],
             [
              0.7777777777777778,
              "#fb9f3a"
             ],
             [
              0.8888888888888888,
              "#fdca26"
             ],
             [
              1,
              "#f0f921"
             ]
            ],
            "type": "surface"
           }
          ],
          "table": [
           {
            "cells": {
             "fill": {
              "color": "#EBF0F8"
             },
             "line": {
              "color": "white"
             }
            },
            "header": {
             "fill": {
              "color": "#C8D4E3"
             },
             "line": {
              "color": "white"
             }
            },
            "type": "table"
           }
          ]
         },
         "layout": {
          "annotationdefaults": {
           "arrowcolor": "#2a3f5f",
           "arrowhead": 0,
           "arrowwidth": 1
          },
          "autotypenumbers": "strict",
          "coloraxis": {
           "colorbar": {
            "outlinewidth": 0,
            "ticks": ""
           }
          },
          "colorscale": {
           "diverging": [
            [
             0,
             "#8e0152"
            ],
            [
             0.1,
             "#c51b7d"
            ],
            [
             0.2,
             "#de77ae"
            ],
            [
             0.3,
             "#f1b6da"
            ],
            [
             0.4,
             "#fde0ef"
            ],
            [
             0.5,
             "#f7f7f7"
            ],
            [
             0.6,
             "#e6f5d0"
            ],
            [
             0.7,
             "#b8e186"
            ],
            [
             0.8,
             "#7fbc41"
            ],
            [
             0.9,
             "#4d9221"
            ],
            [
             1,
             "#276419"
            ]
           ],
           "sequential": [
            [
             0,
             "#0d0887"
            ],
            [
             0.1111111111111111,
             "#46039f"
            ],
            [
             0.2222222222222222,
             "#7201a8"
            ],
            [
             0.3333333333333333,
             "#9c179e"
            ],
            [
             0.4444444444444444,
             "#bd3786"
            ],
            [
             0.5555555555555556,
             "#d8576b"
            ],
            [
             0.6666666666666666,
             "#ed7953"
            ],
            [
             0.7777777777777778,
             "#fb9f3a"
            ],
            [
             0.8888888888888888,
             "#fdca26"
            ],
            [
             1,
             "#f0f921"
            ]
           ],
           "sequentialminus": [
            [
             0,
             "#0d0887"
            ],
            [
             0.1111111111111111,
             "#46039f"
            ],
            [
             0.2222222222222222,
             "#7201a8"
            ],
            [
             0.3333333333333333,
             "#9c179e"
            ],
            [
             0.4444444444444444,
             "#bd3786"
            ],
            [
             0.5555555555555556,
             "#d8576b"
            ],
            [
             0.6666666666666666,
             "#ed7953"
            ],
            [
             0.7777777777777778,
             "#fb9f3a"
            ],
            [
             0.8888888888888888,
             "#fdca26"
            ],
            [
             1,
             "#f0f921"
            ]
           ]
          },
          "colorway": [
           "#636efa",
           "#EF553B",
           "#00cc96",
           "#ab63fa",
           "#FFA15A",
           "#19d3f3",
           "#FF6692",
           "#B6E880",
           "#FF97FF",
           "#FECB52"
          ],
          "font": {
           "color": "#2a3f5f"
          },
          "geo": {
           "bgcolor": "white",
           "lakecolor": "white",
           "landcolor": "#E5ECF6",
           "showlakes": true,
           "showland": true,
           "subunitcolor": "white"
          },
          "hoverlabel": {
           "align": "left"
          },
          "hovermode": "closest",
          "mapbox": {
           "style": "light"
          },
          "paper_bgcolor": "white",
          "plot_bgcolor": "#E5ECF6",
          "polar": {
           "angularaxis": {
            "gridcolor": "white",
            "linecolor": "white",
            "ticks": ""
           },
           "bgcolor": "#E5ECF6",
           "radialaxis": {
            "gridcolor": "white",
            "linecolor": "white",
            "ticks": ""
           }
          },
          "scene": {
           "xaxis": {
            "backgroundcolor": "#E5ECF6",
            "gridcolor": "white",
            "gridwidth": 2,
            "linecolor": "white",
            "showbackground": true,
            "ticks": "",
            "zerolinecolor": "white"
           },
           "yaxis": {
            "backgroundcolor": "#E5ECF6",
            "gridcolor": "white",
            "gridwidth": 2,
            "linecolor": "white",
            "showbackground": true,
            "ticks": "",
            "zerolinecolor": "white"
           },
           "zaxis": {
            "backgroundcolor": "#E5ECF6",
            "gridcolor": "white",
            "gridwidth": 2,
            "linecolor": "white",
            "showbackground": true,
            "ticks": "",
            "zerolinecolor": "white"
           }
          },
          "shapedefaults": {
           "line": {
            "color": "#2a3f5f"
           }
          },
          "ternary": {
           "aaxis": {
            "gridcolor": "white",
            "linecolor": "white",
            "ticks": ""
           },
           "baxis": {
            "gridcolor": "white",
            "linecolor": "white",
            "ticks": ""
           },
           "bgcolor": "#E5ECF6",
           "caxis": {
            "gridcolor": "white",
            "linecolor": "white",
            "ticks": ""
           }
          },
          "title": {
           "x": 0.05
          },
          "xaxis": {
           "automargin": true,
           "gridcolor": "white",
           "linecolor": "white",
           "ticks": "",
           "title": {
            "standoff": 15
           },
           "zerolinecolor": "white",
           "zerolinewidth": 2
          },
          "yaxis": {
           "automargin": true,
           "gridcolor": "white",
           "linecolor": "white",
           "ticks": "",
           "title": {
            "standoff": 15
           },
           "zerolinecolor": "white",
           "zerolinewidth": 2
          }
         }
        },
        "title": {
         "text": "Распределение действий по датам: группа А"
        },
        "xaxis": {
         "anchor": "y",
         "categoryorder": "total descending",
         "domain": [
          0,
          1
         ],
         "title": {
          "text": "дата"
         }
        },
        "yaxis": {
         "anchor": "x",
         "domain": [
          0,
          1
         ],
         "title": {
          "text": "значение"
         }
        }
       }
      },
      "text/html": [
       "<div>                            <div id=\"d85ff826-55f9-4bdf-a60e-2dabe8b465a4\" class=\"plotly-graph-div\" style=\"height:525px; width:100%;\"></div>            <script type=\"text/javascript\">                require([\"plotly\"], function(Plotly) {                    window.PLOTLYENV=window.PLOTLYENV || {};                                    if (document.getElementById(\"d85ff826-55f9-4bdf-a60e-2dabe8b465a4\")) {                    Plotly.newPlot(                        \"d85ff826-55f9-4bdf-a60e-2dabe8b465a4\",                        [{\"alignmentgroup\":\"True\",\"hovertemplate\":\"event_name=%{text}<br>dt=%{x}<br>count=%{y}<extra></extra>\",\"legendgroup\":\"login\",\"marker\":{\"color\":\"#cee2c3\",\"pattern\":{\"shape\":\"\"}},\"name\":\"login\",\"offsetgroup\":\"login\",\"orientation\":\"v\",\"showlegend\":true,\"text\":[\"login\",\"login\",\"login\",\"login\",\"login\",\"login\",\"login\",\"login\",\"login\",\"login\",\"login\",\"login\",\"login\",\"login\",\"login\",\"login\",\"login\",\"login\",\"login\",\"login\",\"login\",\"login\",\"login\"],\"textposition\":\"auto\",\"x\":[\"2020-12-21\",\"2020-12-20\",\"2020-12-19\",\"2020-12-22\",\"2020-12-18\",\"2020-12-17\",\"2020-12-14\",\"2020-12-15\",\"2020-12-16\",\"2020-12-23\",\"2020-12-24\",\"2020-12-25\",\"2020-12-26\",\"2020-12-27\",\"2020-12-28\",\"2020-12-29\",\"2020-12-11\",\"2020-12-09\",\"2020-12-12\",\"2020-12-10\",\"2020-12-13\",\"2020-12-07\",\"2020-12-08\"],\"xaxis\":\"x\",\"y\":[837,627,617,554,543,520,461,452,442,426,362,278,249,238,206,193,176,171,168,156,154,148,146],\"yaxis\":\"y\",\"type\":\"bar\"},{\"alignmentgroup\":\"True\",\"hovertemplate\":\"event_name=%{text}<br>dt=%{x}<br>count=%{y}<extra></extra>\",\"legendgroup\":\"product_page\",\"marker\":{\"color\":\"#a7d1aa\",\"pattern\":{\"shape\":\"\"}},\"name\":\"product_page\",\"offsetgroup\":\"product_page\",\"orientation\":\"v\",\"showlegend\":true,\"text\":[\"product_page\",\"product_page\",\"product_page\",\"product_page\",\"product_page\",\"product_page\",\"product_page\",\"product_page\",\"product_page\",\"product_page\",\"product_page\",\"product_page\",\"product_page\",\"product_page\",\"product_page\",\"product_page\",\"product_page\",\"product_page\",\"product_page\",\"product_page\",\"product_page\",\"product_page\",\"product_page\"],\"textposition\":\"auto\",\"x\":[\"2020-12-21\",\"2020-12-19\",\"2020-12-20\",\"2020-12-18\",\"2020-12-22\",\"2020-12-17\",\"2020-12-15\",\"2020-12-16\",\"2020-12-14\",\"2020-12-23\",\"2020-12-24\",\"2020-12-25\",\"2020-12-26\",\"2020-12-27\",\"2020-12-28\",\"2020-12-29\",\"2020-12-09\",\"2020-12-08\",\"2020-12-11\",\"2020-12-12\",\"2020-12-07\",\"2020-12-13\",\"2020-12-10\"],\"xaxis\":\"x\",\"y\":[549,405,402,370,362,334,286,285,285,274,250,184,167,157,134,125,103,98,96,93,92,88,88],\"yaxis\":\"y\",\"type\":\"bar\"},{\"alignmentgroup\":\"True\",\"hovertemplate\":\"event_name=%{text}<br>dt=%{x}<br>count=%{y}<extra></extra>\",\"legendgroup\":\"purchase\",\"marker\":{\"color\":\"#7fbc9a\",\"pattern\":{\"shape\":\"\"}},\"name\":\"purchase\",\"offsetgroup\":\"purchase\",\"orientation\":\"v\",\"showlegend\":true,\"text\":[\"purchase\",\"purchase\",\"purchase\",\"purchase\",\"purchase\",\"purchase\",\"purchase\",\"purchase\",\"purchase\",\"purchase\",\"purchase\",\"purchase\",\"purchase\",\"purchase\",\"purchase\",\"purchase\",\"purchase\",\"purchase\",\"purchase\",\"purchase\",\"purchase\",\"purchase\",\"purchase\"],\"textposition\":\"auto\",\"x\":[\"2020-12-21\",\"2020-12-20\",\"2020-12-19\",\"2020-12-17\",\"2020-12-18\",\"2020-12-22\",\"2020-12-16\",\"2020-12-15\",\"2020-12-23\",\"2020-12-14\",\"2020-12-24\",\"2020-12-25\",\"2020-12-26\",\"2020-12-27\",\"2020-12-28\",\"2020-12-09\",\"2020-12-29\",\"2020-12-07\",\"2020-12-10\",\"2020-12-11\",\"2020-12-12\",\"2020-12-08\",\"2020-12-13\"],\"xaxis\":\"x\",\"y\":[282,211,208,169,165,164,142,137,136,133,122,106,92,82,69,47,43,43,42,40,38,33,32],\"yaxis\":\"y\",\"type\":\"bar\"},{\"alignmentgroup\":\"True\",\"hovertemplate\":\"event_name=%{text}<br>dt=%{x}<br>count=%{y}<extra></extra>\",\"legendgroup\":\"product_cart\",\"marker\":{\"color\":\"#5fa292\",\"pattern\":{\"shape\":\"\"}},\"name\":\"product_cart\",\"offsetgroup\":\"product_cart\",\"orientation\":\"v\",\"showlegend\":true,\"text\":[\"product_cart\",\"product_cart\",\"product_cart\",\"product_cart\",\"product_cart\",\"product_cart\",\"product_cart\",\"product_cart\",\"product_cart\",\"product_cart\",\"product_cart\",\"product_cart\",\"product_cart\",\"product_cart\",\"product_cart\",\"product_cart\",\"product_cart\",\"product_cart\",\"product_cart\",\"product_cart\",\"product_cart\",\"product_cart\",\"product_cart\"],\"textposition\":\"auto\",\"x\":[\"2020-12-21\",\"2020-12-19\",\"2020-12-20\",\"2020-12-17\",\"2020-12-18\",\"2020-12-22\",\"2020-12-15\",\"2020-12-16\",\"2020-12-14\",\"2020-12-23\",\"2020-12-24\",\"2020-12-26\",\"2020-12-25\",\"2020-12-27\",\"2020-12-28\",\"2020-12-29\",\"2020-12-09\",\"2020-12-12\",\"2020-12-10\",\"2020-12-11\",\"2020-12-08\",\"2020-12-07\",\"2020-12-13\"],\"xaxis\":\"x\",\"y\":[235,200,194,177,166,156,155,138,136,123,116,72,71,70,70,52,50,47,45,44,36,35,34],\"yaxis\":\"y\",\"type\":\"bar\"}],                        {\"template\":{\"data\":{\"bar\":[{\"error_x\":{\"color\":\"#2a3f5f\"},\"error_y\":{\"color\":\"#2a3f5f\"},\"marker\":{\"line\":{\"color\":\"#E5ECF6\",\"width\":0.5},\"pattern\":{\"fillmode\":\"overlay\",\"size\":10,\"solidity\":0.2}},\"type\":\"bar\"}],\"barpolar\":[{\"marker\":{\"line\":{\"color\":\"#E5ECF6\",\"width\":0.5},\"pattern\":{\"fillmode\":\"overlay\",\"size\":10,\"solidity\":0.2}},\"type\":\"barpolar\"}],\"carpet\":[{\"aaxis\":{\"endlinecolor\":\"#2a3f5f\",\"gridcolor\":\"white\",\"linecolor\":\"white\",\"minorgridcolor\":\"white\",\"startlinecolor\":\"#2a3f5f\"},\"baxis\":{\"endlinecolor\":\"#2a3f5f\",\"gridcolor\":\"white\",\"linecolor\":\"white\",\"minorgridcolor\":\"white\",\"startlinecolor\":\"#2a3f5f\"},\"type\":\"carpet\"}],\"choropleth\":[{\"colorbar\":{\"outlinewidth\":0,\"ticks\":\"\"},\"type\":\"choropleth\"}],\"contour\":[{\"colorbar\":{\"outlinewidth\":0,\"ticks\":\"\"},\"colorscale\":[[0.0,\"#0d0887\"],[0.1111111111111111,\"#46039f\"],[0.2222222222222222,\"#7201a8\"],[0.3333333333333333,\"#9c179e\"],[0.4444444444444444,\"#bd3786\"],[0.5555555555555556,\"#d8576b\"],[0.6666666666666666,\"#ed7953\"],[0.7777777777777778,\"#fb9f3a\"],[0.8888888888888888,\"#fdca26\"],[1.0,\"#f0f921\"]],\"type\":\"contour\"}],\"contourcarpet\":[{\"colorbar\":{\"outlinewidth\":0,\"ticks\":\"\"},\"type\":\"contourcarpet\"}],\"heatmap\":[{\"colorbar\":{\"outlinewidth\":0,\"ticks\":\"\"},\"colorscale\":[[0.0,\"#0d0887\"],[0.1111111111111111,\"#46039f\"],[0.2222222222222222,\"#7201a8\"],[0.3333333333333333,\"#9c179e\"],[0.4444444444444444,\"#bd3786\"],[0.5555555555555556,\"#d8576b\"],[0.6666666666666666,\"#ed7953\"],[0.7777777777777778,\"#fb9f3a\"],[0.8888888888888888,\"#fdca26\"],[1.0,\"#f0f921\"]],\"type\":\"heatmap\"}],\"heatmapgl\":[{\"colorbar\":{\"outlinewidth\":0,\"ticks\":\"\"},\"colorscale\":[[0.0,\"#0d0887\"],[0.1111111111111111,\"#46039f\"],[0.2222222222222222,\"#7201a8\"],[0.3333333333333333,\"#9c179e\"],[0.4444444444444444,\"#bd3786\"],[0.5555555555555556,\"#d8576b\"],[0.6666666666666666,\"#ed7953\"],[0.7777777777777778,\"#fb9f3a\"],[0.8888888888888888,\"#fdca26\"],[1.0,\"#f0f921\"]],\"type\":\"heatmapgl\"}],\"histogram\":[{\"marker\":{\"pattern\":{\"fillmode\":\"overlay\",\"size\":10,\"solidity\":0.2}},\"type\":\"histogram\"}],\"histogram2d\":[{\"colorbar\":{\"outlinewidth\":0,\"ticks\":\"\"},\"colorscale\":[[0.0,\"#0d0887\"],[0.1111111111111111,\"#46039f\"],[0.2222222222222222,\"#7201a8\"],[0.3333333333333333,\"#9c179e\"],[0.4444444444444444,\"#bd3786\"],[0.5555555555555556,\"#d8576b\"],[0.6666666666666666,\"#ed7953\"],[0.7777777777777778,\"#fb9f3a\"],[0.8888888888888888,\"#fdca26\"],[1.0,\"#f0f921\"]],\"type\":\"histogram2d\"}],\"histogram2dcontour\":[{\"colorbar\":{\"outlinewidth\":0,\"ticks\":\"\"},\"colorscale\":[[0.0,\"#0d0887\"],[0.1111111111111111,\"#46039f\"],[0.2222222222222222,\"#7201a8\"],[0.3333333333333333,\"#9c179e\"],[0.4444444444444444,\"#bd3786\"],[0.5555555555555556,\"#d8576b\"],[0.6666666666666666,\"#ed7953\"],[0.7777777777777778,\"#fb9f3a\"],[0.8888888888888888,\"#fdca26\"],[1.0,\"#f0f921\"]],\"type\":\"histogram2dcontour\"}],\"mesh3d\":[{\"colorbar\":{\"outlinewidth\":0,\"ticks\":\"\"},\"type\":\"mesh3d\"}],\"parcoords\":[{\"line\":{\"colorbar\":{\"outlinewidth\":0,\"ticks\":\"\"}},\"type\":\"parcoords\"}],\"pie\":[{\"automargin\":true,\"type\":\"pie\"}],\"scatter\":[{\"marker\":{\"colorbar\":{\"outlinewidth\":0,\"ticks\":\"\"}},\"type\":\"scatter\"}],\"scatter3d\":[{\"line\":{\"colorbar\":{\"outlinewidth\":0,\"ticks\":\"\"}},\"marker\":{\"colorbar\":{\"outlinewidth\":0,\"ticks\":\"\"}},\"type\":\"scatter3d\"}],\"scattercarpet\":[{\"marker\":{\"colorbar\":{\"outlinewidth\":0,\"ticks\":\"\"}},\"type\":\"scattercarpet\"}],\"scattergeo\":[{\"marker\":{\"colorbar\":{\"outlinewidth\":0,\"ticks\":\"\"}},\"type\":\"scattergeo\"}],\"scattergl\":[{\"marker\":{\"colorbar\":{\"outlinewidth\":0,\"ticks\":\"\"}},\"type\":\"scattergl\"}],\"scattermapbox\":[{\"marker\":{\"colorbar\":{\"outlinewidth\":0,\"ticks\":\"\"}},\"type\":\"scattermapbox\"}],\"scatterpolar\":[{\"marker\":{\"colorbar\":{\"outlinewidth\":0,\"ticks\":\"\"}},\"type\":\"scatterpolar\"}],\"scatterpolargl\":[{\"marker\":{\"colorbar\":{\"outlinewidth\":0,\"ticks\":\"\"}},\"type\":\"scatterpolargl\"}],\"scatterternary\":[{\"marker\":{\"colorbar\":{\"outlinewidth\":0,\"ticks\":\"\"}},\"type\":\"scatterternary\"}],\"surface\":[{\"colorbar\":{\"outlinewidth\":0,\"ticks\":\"\"},\"colorscale\":[[0.0,\"#0d0887\"],[0.1111111111111111,\"#46039f\"],[0.2222222222222222,\"#7201a8\"],[0.3333333333333333,\"#9c179e\"],[0.4444444444444444,\"#bd3786\"],[0.5555555555555556,\"#d8576b\"],[0.6666666666666666,\"#ed7953\"],[0.7777777777777778,\"#fb9f3a\"],[0.8888888888888888,\"#fdca26\"],[1.0,\"#f0f921\"]],\"type\":\"surface\"}],\"table\":[{\"cells\":{\"fill\":{\"color\":\"#EBF0F8\"},\"line\":{\"color\":\"white\"}},\"header\":{\"fill\":{\"color\":\"#C8D4E3\"},\"line\":{\"color\":\"white\"}},\"type\":\"table\"}]},\"layout\":{\"annotationdefaults\":{\"arrowcolor\":\"#2a3f5f\",\"arrowhead\":0,\"arrowwidth\":1},\"autotypenumbers\":\"strict\",\"coloraxis\":{\"colorbar\":{\"outlinewidth\":0,\"ticks\":\"\"}},\"colorscale\":{\"diverging\":[[0,\"#8e0152\"],[0.1,\"#c51b7d\"],[0.2,\"#de77ae\"],[0.3,\"#f1b6da\"],[0.4,\"#fde0ef\"],[0.5,\"#f7f7f7\"],[0.6,\"#e6f5d0\"],[0.7,\"#b8e186\"],[0.8,\"#7fbc41\"],[0.9,\"#4d9221\"],[1,\"#276419\"]],\"sequential\":[[0.0,\"#0d0887\"],[0.1111111111111111,\"#46039f\"],[0.2222222222222222,\"#7201a8\"],[0.3333333333333333,\"#9c179e\"],[0.4444444444444444,\"#bd3786\"],[0.5555555555555556,\"#d8576b\"],[0.6666666666666666,\"#ed7953\"],[0.7777777777777778,\"#fb9f3a\"],[0.8888888888888888,\"#fdca26\"],[1.0,\"#f0f921\"]],\"sequentialminus\":[[0.0,\"#0d0887\"],[0.1111111111111111,\"#46039f\"],[0.2222222222222222,\"#7201a8\"],[0.3333333333333333,\"#9c179e\"],[0.4444444444444444,\"#bd3786\"],[0.5555555555555556,\"#d8576b\"],[0.6666666666666666,\"#ed7953\"],[0.7777777777777778,\"#fb9f3a\"],[0.8888888888888888,\"#fdca26\"],[1.0,\"#f0f921\"]]},\"colorway\":[\"#636efa\",\"#EF553B\",\"#00cc96\",\"#ab63fa\",\"#FFA15A\",\"#19d3f3\",\"#FF6692\",\"#B6E880\",\"#FF97FF\",\"#FECB52\"],\"font\":{\"color\":\"#2a3f5f\"},\"geo\":{\"bgcolor\":\"white\",\"lakecolor\":\"white\",\"landcolor\":\"#E5ECF6\",\"showlakes\":true,\"showland\":true,\"subunitcolor\":\"white\"},\"hoverlabel\":{\"align\":\"left\"},\"hovermode\":\"closest\",\"mapbox\":{\"style\":\"light\"},\"paper_bgcolor\":\"white\",\"plot_bgcolor\":\"#E5ECF6\",\"polar\":{\"angularaxis\":{\"gridcolor\":\"white\",\"linecolor\":\"white\",\"ticks\":\"\"},\"bgcolor\":\"#E5ECF6\",\"radialaxis\":{\"gridcolor\":\"white\",\"linecolor\":\"white\",\"ticks\":\"\"}},\"scene\":{\"xaxis\":{\"backgroundcolor\":\"#E5ECF6\",\"gridcolor\":\"white\",\"gridwidth\":2,\"linecolor\":\"white\",\"showbackground\":true,\"ticks\":\"\",\"zerolinecolor\":\"white\"},\"yaxis\":{\"backgroundcolor\":\"#E5ECF6\",\"gridcolor\":\"white\",\"gridwidth\":2,\"linecolor\":\"white\",\"showbackground\":true,\"ticks\":\"\",\"zerolinecolor\":\"white\"},\"zaxis\":{\"backgroundcolor\":\"#E5ECF6\",\"gridcolor\":\"white\",\"gridwidth\":2,\"linecolor\":\"white\",\"showbackground\":true,\"ticks\":\"\",\"zerolinecolor\":\"white\"}},\"shapedefaults\":{\"line\":{\"color\":\"#2a3f5f\"}},\"ternary\":{\"aaxis\":{\"gridcolor\":\"white\",\"linecolor\":\"white\",\"ticks\":\"\"},\"baxis\":{\"gridcolor\":\"white\",\"linecolor\":\"white\",\"ticks\":\"\"},\"bgcolor\":\"#E5ECF6\",\"caxis\":{\"gridcolor\":\"white\",\"linecolor\":\"white\",\"ticks\":\"\"}},\"title\":{\"x\":0.05},\"xaxis\":{\"automargin\":true,\"gridcolor\":\"white\",\"linecolor\":\"white\",\"ticks\":\"\",\"title\":{\"standoff\":15},\"zerolinecolor\":\"white\",\"zerolinewidth\":2},\"yaxis\":{\"automargin\":true,\"gridcolor\":\"white\",\"linecolor\":\"white\",\"ticks\":\"\",\"title\":{\"standoff\":15},\"zerolinecolor\":\"white\",\"zerolinewidth\":2}}},\"xaxis\":{\"anchor\":\"y\",\"domain\":[0.0,1.0],\"title\":{\"text\":\"\\u0434\\u0430\\u0442\\u0430\"},\"categoryorder\":\"total descending\"},\"yaxis\":{\"anchor\":\"x\",\"domain\":[0.0,1.0],\"title\":{\"text\":\"\\u0437\\u043d\\u0430\\u0447\\u0435\\u043d\\u0438\\u0435\"}},\"legend\":{\"title\":{\"text\":\"event_name\"},\"tracegroupgap\":0},\"margin\":{\"t\":60},\"barmode\":\"relative\",\"title\":{\"text\":\"\\u0420\\u0430\\u0441\\u043f\\u0440\\u0435\\u0434\\u0435\\u043b\\u0435\\u043d\\u0438\\u0435 \\u0434\\u0435\\u0439\\u0441\\u0442\\u0432\\u0438\\u0439 \\u043f\\u043e \\u0434\\u0430\\u0442\\u0430\\u043c: \\u0433\\u0440\\u0443\\u043f\\u043f\\u0430 \\u0410\"}},                        {\"responsive\": true}                    ).then(function(){\n",
       "                            \n",
       "var gd = document.getElementById('d85ff826-55f9-4bdf-a60e-2dabe8b465a4');\n",
       "var x = new MutationObserver(function (mutations, observer) {{\n",
       "        var display = window.getComputedStyle(gd).display;\n",
       "        if (!display || display === 'none') {{\n",
       "            console.log([gd, 'removed!']);\n",
       "            Plotly.purge(gd);\n",
       "            observer.disconnect();\n",
       "        }}\n",
       "}});\n",
       "\n",
       "// Listen for the removal of the full notebook cells\n",
       "var notebookContainer = gd.closest('#notebook-container');\n",
       "if (notebookContainer) {{\n",
       "    x.observe(notebookContainer, {childList: true});\n",
       "}}\n",
       "\n",
       "// Listen for the clearing of the current output cell\n",
       "var outputEl = gd.closest('.output');\n",
       "if (outputEl) {{\n",
       "    x.observe(outputEl, {childList: true});\n",
       "}}\n",
       "\n",
       "                        })                };                });            </script>        </div>"
      ]
     },
     "metadata": {},
     "output_type": "display_data"
    },
    {
     "data": {
      "text/plain": [
       "<Figure size 1440x1080 with 0 Axes>"
      ]
     },
     "metadata": {},
     "output_type": "display_data"
    }
   ],
   "source": [
    "#построим таблицу для группы А\n",
    "\n",
    "plotly_bar(events_categories.query('group == \"A\"'),\n",
    "           'dt', \n",
    "           'count', \n",
    "           'event_name', \n",
    "           'Распределение действий по датам: группа А', \n",
    "           'дата', \n",
    "           'значение')"
   ]
  },
  {
   "cell_type": "markdown",
   "id": "GHnm3heVFhsb",
   "metadata": {
    "id": "GHnm3heVFhsb"
   },
   "source": [
    "Для пользователей из группы А характерно преобладание в любой из дней такого действия, как авторизация на сайте, следом за которым идет посещение страницы продукта. Остальные два действия - посещение корзины и покупка - а целом равны по количеству обращений, с периодическим небольшим увеличением то одной, то другой категории."
   ]
  },
  {
   "cell_type": "code",
   "execution_count": 153,
   "id": "zH9cDfq-EeRy",
   "metadata": {
    "colab": {
     "base_uri": "https://localhost:8080/",
     "height": 559
    },
    "id": "zH9cDfq-EeRy",
    "outputId": "d75c1695-876f-43c8-c0c6-666e01b4bf35"
   },
   "outputs": [
    {
     "data": {
      "application/vnd.plotly.v1+json": {
       "config": {
        "plotlyServerURL": "https://plot.ly"
       },
       "data": [
        {
         "alignmentgroup": "True",
         "hovertemplate": "event_name=%{text}<br>dt=%{x}<br>count=%{y}<extra></extra>",
         "legendgroup": "login",
         "marker": {
          "color": "#cee2c3",
          "pattern": {
           "shape": ""
          }
         },
         "name": "login",
         "offsetgroup": "login",
         "orientation": "v",
         "showlegend": true,
         "text": [
          "login",
          "login",
          "login",
          "login",
          "login",
          "login",
          "login",
          "login",
          "login",
          "login",
          "login",
          "login",
          "login",
          "login",
          "login",
          "login",
          "login",
          "login",
          "login",
          "login",
          "login",
          "login",
          "login",
          "login"
         ],
         "textposition": "auto",
         "type": "bar",
         "x": [
          "2020-12-21",
          "2020-12-16",
          "2020-12-09",
          "2020-12-20",
          "2020-12-07",
          "2020-12-19",
          "2020-12-18",
          "2020-12-17",
          "2020-12-10",
          "2020-12-14",
          "2020-12-08",
          "2020-12-15",
          "2020-12-12",
          "2020-12-22",
          "2020-12-23",
          "2020-12-11",
          "2020-12-13",
          "2020-12-24",
          "2020-12-27",
          "2020-12-25",
          "2020-12-26",
          "2020-12-28",
          "2020-12-29",
          "2020-12-30"
         ],
         "xaxis": "x",
         "y": [
          190,
          165,
          161,
          155,
          155,
          139,
          127,
          125,
          124,
          120,
          113,
          109,
          102,
          96,
          95,
          84,
          81,
          72,
          56,
          56,
          55,
          53,
          36,
          2
         ],
         "yaxis": "y"
        },
        {
         "alignmentgroup": "True",
         "hovertemplate": "event_name=%{text}<br>dt=%{x}<br>count=%{y}<extra></extra>",
         "legendgroup": "product_page",
         "marker": {
          "color": "#a7d1aa",
          "pattern": {
           "shape": ""
          }
         },
         "name": "product_page",
         "offsetgroup": "product_page",
         "orientation": "v",
         "showlegend": true,
         "text": [
          "product_page",
          "product_page",
          "product_page",
          "product_page",
          "product_page",
          "product_page",
          "product_page",
          "product_page",
          "product_page",
          "product_page",
          "product_page",
          "product_page",
          "product_page",
          "product_page",
          "product_page",
          "product_page",
          "product_page",
          "product_page",
          "product_page",
          "product_page",
          "product_page",
          "product_page",
          "product_page",
          "product_page"
         ],
         "textposition": "auto",
         "type": "bar",
         "x": [
          "2020-12-21",
          "2020-12-07",
          "2020-12-09",
          "2020-12-16",
          "2020-12-20",
          "2020-12-19",
          "2020-12-17",
          "2020-12-10",
          "2020-12-18",
          "2020-12-08",
          "2020-12-14",
          "2020-12-15",
          "2020-12-12",
          "2020-12-23",
          "2020-12-11",
          "2020-12-22",
          "2020-12-13",
          "2020-12-24",
          "2020-12-26",
          "2020-12-25",
          "2020-12-28",
          "2020-12-27",
          "2020-12-29",
          "2020-12-30"
         ],
         "xaxis": "x",
         "y": [
          102,
          101,
          99,
          96,
          83,
          74,
          72,
          67,
          63,
          61,
          59,
          52,
          51,
          48,
          45,
          44,
          41,
          35,
          34,
          30,
          26,
          24,
          19,
          1
         ],
         "yaxis": "y"
        },
        {
         "alignmentgroup": "True",
         "hovertemplate": "event_name=%{text}<br>dt=%{x}<br>count=%{y}<extra></extra>",
         "legendgroup": "purchase",
         "marker": {
          "color": "#7fbc9a",
          "pattern": {
           "shape": ""
          }
         },
         "name": "purchase",
         "offsetgroup": "purchase",
         "orientation": "v",
         "showlegend": true,
         "text": [
          "purchase",
          "purchase",
          "purchase",
          "purchase",
          "purchase",
          "purchase",
          "purchase",
          "purchase",
          "purchase",
          "purchase",
          "purchase",
          "purchase",
          "purchase",
          "purchase",
          "purchase",
          "purchase",
          "purchase",
          "purchase",
          "purchase",
          "purchase",
          "purchase",
          "purchase",
          "purchase"
         ],
         "textposition": "auto",
         "type": "bar",
         "x": [
          "2020-12-07",
          "2020-12-21",
          "2020-12-16",
          "2020-12-09",
          "2020-12-20",
          "2020-12-17",
          "2020-12-19",
          "2020-12-08",
          "2020-12-14",
          "2020-12-15",
          "2020-12-18",
          "2020-12-22",
          "2020-12-10",
          "2020-12-13",
          "2020-12-12",
          "2020-12-23",
          "2020-12-27",
          "2020-12-24",
          "2020-12-11",
          "2020-12-26",
          "2020-12-29",
          "2020-12-25",
          "2020-12-28"
         ],
         "xaxis": "x",
         "y": [
          59,
          52,
          50,
          39,
          37,
          36,
          34,
          33,
          32,
          32,
          29,
          27,
          26,
          26,
          25,
          23,
          19,
          19,
          16,
          13,
          12,
          11,
          10
         ],
         "yaxis": "y"
        },
        {
         "alignmentgroup": "True",
         "hovertemplate": "event_name=%{text}<br>dt=%{x}<br>count=%{y}<extra></extra>",
         "legendgroup": "product_cart",
         "marker": {
          "color": "#5fa292",
          "pattern": {
           "shape": ""
          }
         },
         "name": "product_cart",
         "offsetgroup": "product_cart",
         "orientation": "v",
         "showlegend": true,
         "text": [
          "product_cart",
          "product_cart",
          "product_cart",
          "product_cart",
          "product_cart",
          "product_cart",
          "product_cart",
          "product_cart",
          "product_cart",
          "product_cart",
          "product_cart",
          "product_cart",
          "product_cart",
          "product_cart",
          "product_cart",
          "product_cart",
          "product_cart",
          "product_cart",
          "product_cart",
          "product_cart",
          "product_cart",
          "product_cart",
          "product_cart",
          "product_cart"
         ],
         "textposition": "auto",
         "type": "bar",
         "x": [
          "2020-12-16",
          "2020-12-21",
          "2020-12-17",
          "2020-12-07",
          "2020-12-19",
          "2020-12-18",
          "2020-12-09",
          "2020-12-14",
          "2020-12-20",
          "2020-12-10",
          "2020-12-08",
          "2020-12-15",
          "2020-12-24",
          "2020-12-23",
          "2020-12-12",
          "2020-12-22",
          "2020-12-11",
          "2020-12-13",
          "2020-12-27",
          "2020-12-26",
          "2020-12-25",
          "2020-12-28",
          "2020-12-29",
          "2020-12-30"
         ],
         "xaxis": "x",
         "y": [
          58,
          57,
          48,
          41,
          41,
          40,
          39,
          37,
          34,
          32,
          31,
          29,
          23,
          23,
          21,
          18,
          16,
          16,
          15,
          11,
          10,
          6,
          6,
          1
         ],
         "yaxis": "y"
        }
       ],
       "layout": {
        "barmode": "relative",
        "legend": {
         "title": {
          "text": "event_name"
         },
         "tracegroupgap": 0
        },
        "margin": {
         "t": 60
        },
        "template": {
         "data": {
          "bar": [
           {
            "error_x": {
             "color": "#2a3f5f"
            },
            "error_y": {
             "color": "#2a3f5f"
            },
            "marker": {
             "line": {
              "color": "#E5ECF6",
              "width": 0.5
             },
             "pattern": {
              "fillmode": "overlay",
              "size": 10,
              "solidity": 0.2
             }
            },
            "type": "bar"
           }
          ],
          "barpolar": [
           {
            "marker": {
             "line": {
              "color": "#E5ECF6",
              "width": 0.5
             },
             "pattern": {
              "fillmode": "overlay",
              "size": 10,
              "solidity": 0.2
             }
            },
            "type": "barpolar"
           }
          ],
          "carpet": [
           {
            "aaxis": {
             "endlinecolor": "#2a3f5f",
             "gridcolor": "white",
             "linecolor": "white",
             "minorgridcolor": "white",
             "startlinecolor": "#2a3f5f"
            },
            "baxis": {
             "endlinecolor": "#2a3f5f",
             "gridcolor": "white",
             "linecolor": "white",
             "minorgridcolor": "white",
             "startlinecolor": "#2a3f5f"
            },
            "type": "carpet"
           }
          ],
          "choropleth": [
           {
            "colorbar": {
             "outlinewidth": 0,
             "ticks": ""
            },
            "type": "choropleth"
           }
          ],
          "contour": [
           {
            "colorbar": {
             "outlinewidth": 0,
             "ticks": ""
            },
            "colorscale": [
             [
              0,
              "#0d0887"
             ],
             [
              0.1111111111111111,
              "#46039f"
             ],
             [
              0.2222222222222222,
              "#7201a8"
             ],
             [
              0.3333333333333333,
              "#9c179e"
             ],
             [
              0.4444444444444444,
              "#bd3786"
             ],
             [
              0.5555555555555556,
              "#d8576b"
             ],
             [
              0.6666666666666666,
              "#ed7953"
             ],
             [
              0.7777777777777778,
              "#fb9f3a"
             ],
             [
              0.8888888888888888,
              "#fdca26"
             ],
             [
              1,
              "#f0f921"
             ]
            ],
            "type": "contour"
           }
          ],
          "contourcarpet": [
           {
            "colorbar": {
             "outlinewidth": 0,
             "ticks": ""
            },
            "type": "contourcarpet"
           }
          ],
          "heatmap": [
           {
            "colorbar": {
             "outlinewidth": 0,
             "ticks": ""
            },
            "colorscale": [
             [
              0,
              "#0d0887"
             ],
             [
              0.1111111111111111,
              "#46039f"
             ],
             [
              0.2222222222222222,
              "#7201a8"
             ],
             [
              0.3333333333333333,
              "#9c179e"
             ],
             [
              0.4444444444444444,
              "#bd3786"
             ],
             [
              0.5555555555555556,
              "#d8576b"
             ],
             [
              0.6666666666666666,
              "#ed7953"
             ],
             [
              0.7777777777777778,
              "#fb9f3a"
             ],
             [
              0.8888888888888888,
              "#fdca26"
             ],
             [
              1,
              "#f0f921"
             ]
            ],
            "type": "heatmap"
           }
          ],
          "heatmapgl": [
           {
            "colorbar": {
             "outlinewidth": 0,
             "ticks": ""
            },
            "colorscale": [
             [
              0,
              "#0d0887"
             ],
             [
              0.1111111111111111,
              "#46039f"
             ],
             [
              0.2222222222222222,
              "#7201a8"
             ],
             [
              0.3333333333333333,
              "#9c179e"
             ],
             [
              0.4444444444444444,
              "#bd3786"
             ],
             [
              0.5555555555555556,
              "#d8576b"
             ],
             [
              0.6666666666666666,
              "#ed7953"
             ],
             [
              0.7777777777777778,
              "#fb9f3a"
             ],
             [
              0.8888888888888888,
              "#fdca26"
             ],
             [
              1,
              "#f0f921"
             ]
            ],
            "type": "heatmapgl"
           }
          ],
          "histogram": [
           {
            "marker": {
             "pattern": {
              "fillmode": "overlay",
              "size": 10,
              "solidity": 0.2
             }
            },
            "type": "histogram"
           }
          ],
          "histogram2d": [
           {
            "colorbar": {
             "outlinewidth": 0,
             "ticks": ""
            },
            "colorscale": [
             [
              0,
              "#0d0887"
             ],
             [
              0.1111111111111111,
              "#46039f"
             ],
             [
              0.2222222222222222,
              "#7201a8"
             ],
             [
              0.3333333333333333,
              "#9c179e"
             ],
             [
              0.4444444444444444,
              "#bd3786"
             ],
             [
              0.5555555555555556,
              "#d8576b"
             ],
             [
              0.6666666666666666,
              "#ed7953"
             ],
             [
              0.7777777777777778,
              "#fb9f3a"
             ],
             [
              0.8888888888888888,
              "#fdca26"
             ],
             [
              1,
              "#f0f921"
             ]
            ],
            "type": "histogram2d"
           }
          ],
          "histogram2dcontour": [
           {
            "colorbar": {
             "outlinewidth": 0,
             "ticks": ""
            },
            "colorscale": [
             [
              0,
              "#0d0887"
             ],
             [
              0.1111111111111111,
              "#46039f"
             ],
             [
              0.2222222222222222,
              "#7201a8"
             ],
             [
              0.3333333333333333,
              "#9c179e"
             ],
             [
              0.4444444444444444,
              "#bd3786"
             ],
             [
              0.5555555555555556,
              "#d8576b"
             ],
             [
              0.6666666666666666,
              "#ed7953"
             ],
             [
              0.7777777777777778,
              "#fb9f3a"
             ],
             [
              0.8888888888888888,
              "#fdca26"
             ],
             [
              1,
              "#f0f921"
             ]
            ],
            "type": "histogram2dcontour"
           }
          ],
          "mesh3d": [
           {
            "colorbar": {
             "outlinewidth": 0,
             "ticks": ""
            },
            "type": "mesh3d"
           }
          ],
          "parcoords": [
           {
            "line": {
             "colorbar": {
              "outlinewidth": 0,
              "ticks": ""
             }
            },
            "type": "parcoords"
           }
          ],
          "pie": [
           {
            "automargin": true,
            "type": "pie"
           }
          ],
          "scatter": [
           {
            "marker": {
             "colorbar": {
              "outlinewidth": 0,
              "ticks": ""
             }
            },
            "type": "scatter"
           }
          ],
          "scatter3d": [
           {
            "line": {
             "colorbar": {
              "outlinewidth": 0,
              "ticks": ""
             }
            },
            "marker": {
             "colorbar": {
              "outlinewidth": 0,
              "ticks": ""
             }
            },
            "type": "scatter3d"
           }
          ],
          "scattercarpet": [
           {
            "marker": {
             "colorbar": {
              "outlinewidth": 0,
              "ticks": ""
             }
            },
            "type": "scattercarpet"
           }
          ],
          "scattergeo": [
           {
            "marker": {
             "colorbar": {
              "outlinewidth": 0,
              "ticks": ""
             }
            },
            "type": "scattergeo"
           }
          ],
          "scattergl": [
           {
            "marker": {
             "colorbar": {
              "outlinewidth": 0,
              "ticks": ""
             }
            },
            "type": "scattergl"
           }
          ],
          "scattermapbox": [
           {
            "marker": {
             "colorbar": {
              "outlinewidth": 0,
              "ticks": ""
             }
            },
            "type": "scattermapbox"
           }
          ],
          "scatterpolar": [
           {
            "marker": {
             "colorbar": {
              "outlinewidth": 0,
              "ticks": ""
             }
            },
            "type": "scatterpolar"
           }
          ],
          "scatterpolargl": [
           {
            "marker": {
             "colorbar": {
              "outlinewidth": 0,
              "ticks": ""
             }
            },
            "type": "scatterpolargl"
           }
          ],
          "scatterternary": [
           {
            "marker": {
             "colorbar": {
              "outlinewidth": 0,
              "ticks": ""
             }
            },
            "type": "scatterternary"
           }
          ],
          "surface": [
           {
            "colorbar": {
             "outlinewidth": 0,
             "ticks": ""
            },
            "colorscale": [
             [
              0,
              "#0d0887"
             ],
             [
              0.1111111111111111,
              "#46039f"
             ],
             [
              0.2222222222222222,
              "#7201a8"
             ],
             [
              0.3333333333333333,
              "#9c179e"
             ],
             [
              0.4444444444444444,
              "#bd3786"
             ],
             [
              0.5555555555555556,
              "#d8576b"
             ],
             [
              0.6666666666666666,
              "#ed7953"
             ],
             [
              0.7777777777777778,
              "#fb9f3a"
             ],
             [
              0.8888888888888888,
              "#fdca26"
             ],
             [
              1,
              "#f0f921"
             ]
            ],
            "type": "surface"
           }
          ],
          "table": [
           {
            "cells": {
             "fill": {
              "color": "#EBF0F8"
             },
             "line": {
              "color": "white"
             }
            },
            "header": {
             "fill": {
              "color": "#C8D4E3"
             },
             "line": {
              "color": "white"
             }
            },
            "type": "table"
           }
          ]
         },
         "layout": {
          "annotationdefaults": {
           "arrowcolor": "#2a3f5f",
           "arrowhead": 0,
           "arrowwidth": 1
          },
          "autotypenumbers": "strict",
          "coloraxis": {
           "colorbar": {
            "outlinewidth": 0,
            "ticks": ""
           }
          },
          "colorscale": {
           "diverging": [
            [
             0,
             "#8e0152"
            ],
            [
             0.1,
             "#c51b7d"
            ],
            [
             0.2,
             "#de77ae"
            ],
            [
             0.3,
             "#f1b6da"
            ],
            [
             0.4,
             "#fde0ef"
            ],
            [
             0.5,
             "#f7f7f7"
            ],
            [
             0.6,
             "#e6f5d0"
            ],
            [
             0.7,
             "#b8e186"
            ],
            [
             0.8,
             "#7fbc41"
            ],
            [
             0.9,
             "#4d9221"
            ],
            [
             1,
             "#276419"
            ]
           ],
           "sequential": [
            [
             0,
             "#0d0887"
            ],
            [
             0.1111111111111111,
             "#46039f"
            ],
            [
             0.2222222222222222,
             "#7201a8"
            ],
            [
             0.3333333333333333,
             "#9c179e"
            ],
            [
             0.4444444444444444,
             "#bd3786"
            ],
            [
             0.5555555555555556,
             "#d8576b"
            ],
            [
             0.6666666666666666,
             "#ed7953"
            ],
            [
             0.7777777777777778,
             "#fb9f3a"
            ],
            [
             0.8888888888888888,
             "#fdca26"
            ],
            [
             1,
             "#f0f921"
            ]
           ],
           "sequentialminus": [
            [
             0,
             "#0d0887"
            ],
            [
             0.1111111111111111,
             "#46039f"
            ],
            [
             0.2222222222222222,
             "#7201a8"
            ],
            [
             0.3333333333333333,
             "#9c179e"
            ],
            [
             0.4444444444444444,
             "#bd3786"
            ],
            [
             0.5555555555555556,
             "#d8576b"
            ],
            [
             0.6666666666666666,
             "#ed7953"
            ],
            [
             0.7777777777777778,
             "#fb9f3a"
            ],
            [
             0.8888888888888888,
             "#fdca26"
            ],
            [
             1,
             "#f0f921"
            ]
           ]
          },
          "colorway": [
           "#636efa",
           "#EF553B",
           "#00cc96",
           "#ab63fa",
           "#FFA15A",
           "#19d3f3",
           "#FF6692",
           "#B6E880",
           "#FF97FF",
           "#FECB52"
          ],
          "font": {
           "color": "#2a3f5f"
          },
          "geo": {
           "bgcolor": "white",
           "lakecolor": "white",
           "landcolor": "#E5ECF6",
           "showlakes": true,
           "showland": true,
           "subunitcolor": "white"
          },
          "hoverlabel": {
           "align": "left"
          },
          "hovermode": "closest",
          "mapbox": {
           "style": "light"
          },
          "paper_bgcolor": "white",
          "plot_bgcolor": "#E5ECF6",
          "polar": {
           "angularaxis": {
            "gridcolor": "white",
            "linecolor": "white",
            "ticks": ""
           },
           "bgcolor": "#E5ECF6",
           "radialaxis": {
            "gridcolor": "white",
            "linecolor": "white",
            "ticks": ""
           }
          },
          "scene": {
           "xaxis": {
            "backgroundcolor": "#E5ECF6",
            "gridcolor": "white",
            "gridwidth": 2,
            "linecolor": "white",
            "showbackground": true,
            "ticks": "",
            "zerolinecolor": "white"
           },
           "yaxis": {
            "backgroundcolor": "#E5ECF6",
            "gridcolor": "white",
            "gridwidth": 2,
            "linecolor": "white",
            "showbackground": true,
            "ticks": "",
            "zerolinecolor": "white"
           },
           "zaxis": {
            "backgroundcolor": "#E5ECF6",
            "gridcolor": "white",
            "gridwidth": 2,
            "linecolor": "white",
            "showbackground": true,
            "ticks": "",
            "zerolinecolor": "white"
           }
          },
          "shapedefaults": {
           "line": {
            "color": "#2a3f5f"
           }
          },
          "ternary": {
           "aaxis": {
            "gridcolor": "white",
            "linecolor": "white",
            "ticks": ""
           },
           "baxis": {
            "gridcolor": "white",
            "linecolor": "white",
            "ticks": ""
           },
           "bgcolor": "#E5ECF6",
           "caxis": {
            "gridcolor": "white",
            "linecolor": "white",
            "ticks": ""
           }
          },
          "title": {
           "x": 0.05
          },
          "xaxis": {
           "automargin": true,
           "gridcolor": "white",
           "linecolor": "white",
           "ticks": "",
           "title": {
            "standoff": 15
           },
           "zerolinecolor": "white",
           "zerolinewidth": 2
          },
          "yaxis": {
           "automargin": true,
           "gridcolor": "white",
           "linecolor": "white",
           "ticks": "",
           "title": {
            "standoff": 15
           },
           "zerolinecolor": "white",
           "zerolinewidth": 2
          }
         }
        },
        "title": {
         "text": "Распределение действий по датам: группа B"
        },
        "xaxis": {
         "anchor": "y",
         "categoryorder": "total descending",
         "domain": [
          0,
          1
         ],
         "title": {
          "text": "дата"
         }
        },
        "yaxis": {
         "anchor": "x",
         "domain": [
          0,
          1
         ],
         "title": {
          "text": "значение"
         }
        }
       }
      },
      "text/html": [
       "<div>                            <div id=\"4ad76c11-6a4b-4f17-bc96-0470f8a9e4e8\" class=\"plotly-graph-div\" style=\"height:525px; width:100%;\"></div>            <script type=\"text/javascript\">                require([\"plotly\"], function(Plotly) {                    window.PLOTLYENV=window.PLOTLYENV || {};                                    if (document.getElementById(\"4ad76c11-6a4b-4f17-bc96-0470f8a9e4e8\")) {                    Plotly.newPlot(                        \"4ad76c11-6a4b-4f17-bc96-0470f8a9e4e8\",                        [{\"alignmentgroup\":\"True\",\"hovertemplate\":\"event_name=%{text}<br>dt=%{x}<br>count=%{y}<extra></extra>\",\"legendgroup\":\"login\",\"marker\":{\"color\":\"#cee2c3\",\"pattern\":{\"shape\":\"\"}},\"name\":\"login\",\"offsetgroup\":\"login\",\"orientation\":\"v\",\"showlegend\":true,\"text\":[\"login\",\"login\",\"login\",\"login\",\"login\",\"login\",\"login\",\"login\",\"login\",\"login\",\"login\",\"login\",\"login\",\"login\",\"login\",\"login\",\"login\",\"login\",\"login\",\"login\",\"login\",\"login\",\"login\",\"login\"],\"textposition\":\"auto\",\"x\":[\"2020-12-21\",\"2020-12-16\",\"2020-12-09\",\"2020-12-20\",\"2020-12-07\",\"2020-12-19\",\"2020-12-18\",\"2020-12-17\",\"2020-12-10\",\"2020-12-14\",\"2020-12-08\",\"2020-12-15\",\"2020-12-12\",\"2020-12-22\",\"2020-12-23\",\"2020-12-11\",\"2020-12-13\",\"2020-12-24\",\"2020-12-27\",\"2020-12-25\",\"2020-12-26\",\"2020-12-28\",\"2020-12-29\",\"2020-12-30\"],\"xaxis\":\"x\",\"y\":[190,165,161,155,155,139,127,125,124,120,113,109,102,96,95,84,81,72,56,56,55,53,36,2],\"yaxis\":\"y\",\"type\":\"bar\"},{\"alignmentgroup\":\"True\",\"hovertemplate\":\"event_name=%{text}<br>dt=%{x}<br>count=%{y}<extra></extra>\",\"legendgroup\":\"product_page\",\"marker\":{\"color\":\"#a7d1aa\",\"pattern\":{\"shape\":\"\"}},\"name\":\"product_page\",\"offsetgroup\":\"product_page\",\"orientation\":\"v\",\"showlegend\":true,\"text\":[\"product_page\",\"product_page\",\"product_page\",\"product_page\",\"product_page\",\"product_page\",\"product_page\",\"product_page\",\"product_page\",\"product_page\",\"product_page\",\"product_page\",\"product_page\",\"product_page\",\"product_page\",\"product_page\",\"product_page\",\"product_page\",\"product_page\",\"product_page\",\"product_page\",\"product_page\",\"product_page\",\"product_page\"],\"textposition\":\"auto\",\"x\":[\"2020-12-21\",\"2020-12-07\",\"2020-12-09\",\"2020-12-16\",\"2020-12-20\",\"2020-12-19\",\"2020-12-17\",\"2020-12-10\",\"2020-12-18\",\"2020-12-08\",\"2020-12-14\",\"2020-12-15\",\"2020-12-12\",\"2020-12-23\",\"2020-12-11\",\"2020-12-22\",\"2020-12-13\",\"2020-12-24\",\"2020-12-26\",\"2020-12-25\",\"2020-12-28\",\"2020-12-27\",\"2020-12-29\",\"2020-12-30\"],\"xaxis\":\"x\",\"y\":[102,101,99,96,83,74,72,67,63,61,59,52,51,48,45,44,41,35,34,30,26,24,19,1],\"yaxis\":\"y\",\"type\":\"bar\"},{\"alignmentgroup\":\"True\",\"hovertemplate\":\"event_name=%{text}<br>dt=%{x}<br>count=%{y}<extra></extra>\",\"legendgroup\":\"purchase\",\"marker\":{\"color\":\"#7fbc9a\",\"pattern\":{\"shape\":\"\"}},\"name\":\"purchase\",\"offsetgroup\":\"purchase\",\"orientation\":\"v\",\"showlegend\":true,\"text\":[\"purchase\",\"purchase\",\"purchase\",\"purchase\",\"purchase\",\"purchase\",\"purchase\",\"purchase\",\"purchase\",\"purchase\",\"purchase\",\"purchase\",\"purchase\",\"purchase\",\"purchase\",\"purchase\",\"purchase\",\"purchase\",\"purchase\",\"purchase\",\"purchase\",\"purchase\",\"purchase\"],\"textposition\":\"auto\",\"x\":[\"2020-12-07\",\"2020-12-21\",\"2020-12-16\",\"2020-12-09\",\"2020-12-20\",\"2020-12-17\",\"2020-12-19\",\"2020-12-08\",\"2020-12-14\",\"2020-12-15\",\"2020-12-18\",\"2020-12-22\",\"2020-12-10\",\"2020-12-13\",\"2020-12-12\",\"2020-12-23\",\"2020-12-27\",\"2020-12-24\",\"2020-12-11\",\"2020-12-26\",\"2020-12-29\",\"2020-12-25\",\"2020-12-28\"],\"xaxis\":\"x\",\"y\":[59,52,50,39,37,36,34,33,32,32,29,27,26,26,25,23,19,19,16,13,12,11,10],\"yaxis\":\"y\",\"type\":\"bar\"},{\"alignmentgroup\":\"True\",\"hovertemplate\":\"event_name=%{text}<br>dt=%{x}<br>count=%{y}<extra></extra>\",\"legendgroup\":\"product_cart\",\"marker\":{\"color\":\"#5fa292\",\"pattern\":{\"shape\":\"\"}},\"name\":\"product_cart\",\"offsetgroup\":\"product_cart\",\"orientation\":\"v\",\"showlegend\":true,\"text\":[\"product_cart\",\"product_cart\",\"product_cart\",\"product_cart\",\"product_cart\",\"product_cart\",\"product_cart\",\"product_cart\",\"product_cart\",\"product_cart\",\"product_cart\",\"product_cart\",\"product_cart\",\"product_cart\",\"product_cart\",\"product_cart\",\"product_cart\",\"product_cart\",\"product_cart\",\"product_cart\",\"product_cart\",\"product_cart\",\"product_cart\",\"product_cart\"],\"textposition\":\"auto\",\"x\":[\"2020-12-16\",\"2020-12-21\",\"2020-12-17\",\"2020-12-07\",\"2020-12-19\",\"2020-12-18\",\"2020-12-09\",\"2020-12-14\",\"2020-12-20\",\"2020-12-10\",\"2020-12-08\",\"2020-12-15\",\"2020-12-24\",\"2020-12-23\",\"2020-12-12\",\"2020-12-22\",\"2020-12-11\",\"2020-12-13\",\"2020-12-27\",\"2020-12-26\",\"2020-12-25\",\"2020-12-28\",\"2020-12-29\",\"2020-12-30\"],\"xaxis\":\"x\",\"y\":[58,57,48,41,41,40,39,37,34,32,31,29,23,23,21,18,16,16,15,11,10,6,6,1],\"yaxis\":\"y\",\"type\":\"bar\"}],                        {\"template\":{\"data\":{\"bar\":[{\"error_x\":{\"color\":\"#2a3f5f\"},\"error_y\":{\"color\":\"#2a3f5f\"},\"marker\":{\"line\":{\"color\":\"#E5ECF6\",\"width\":0.5},\"pattern\":{\"fillmode\":\"overlay\",\"size\":10,\"solidity\":0.2}},\"type\":\"bar\"}],\"barpolar\":[{\"marker\":{\"line\":{\"color\":\"#E5ECF6\",\"width\":0.5},\"pattern\":{\"fillmode\":\"overlay\",\"size\":10,\"solidity\":0.2}},\"type\":\"barpolar\"}],\"carpet\":[{\"aaxis\":{\"endlinecolor\":\"#2a3f5f\",\"gridcolor\":\"white\",\"linecolor\":\"white\",\"minorgridcolor\":\"white\",\"startlinecolor\":\"#2a3f5f\"},\"baxis\":{\"endlinecolor\":\"#2a3f5f\",\"gridcolor\":\"white\",\"linecolor\":\"white\",\"minorgridcolor\":\"white\",\"startlinecolor\":\"#2a3f5f\"},\"type\":\"carpet\"}],\"choropleth\":[{\"colorbar\":{\"outlinewidth\":0,\"ticks\":\"\"},\"type\":\"choropleth\"}],\"contour\":[{\"colorbar\":{\"outlinewidth\":0,\"ticks\":\"\"},\"colorscale\":[[0.0,\"#0d0887\"],[0.1111111111111111,\"#46039f\"],[0.2222222222222222,\"#7201a8\"],[0.3333333333333333,\"#9c179e\"],[0.4444444444444444,\"#bd3786\"],[0.5555555555555556,\"#d8576b\"],[0.6666666666666666,\"#ed7953\"],[0.7777777777777778,\"#fb9f3a\"],[0.8888888888888888,\"#fdca26\"],[1.0,\"#f0f921\"]],\"type\":\"contour\"}],\"contourcarpet\":[{\"colorbar\":{\"outlinewidth\":0,\"ticks\":\"\"},\"type\":\"contourcarpet\"}],\"heatmap\":[{\"colorbar\":{\"outlinewidth\":0,\"ticks\":\"\"},\"colorscale\":[[0.0,\"#0d0887\"],[0.1111111111111111,\"#46039f\"],[0.2222222222222222,\"#7201a8\"],[0.3333333333333333,\"#9c179e\"],[0.4444444444444444,\"#bd3786\"],[0.5555555555555556,\"#d8576b\"],[0.6666666666666666,\"#ed7953\"],[0.7777777777777778,\"#fb9f3a\"],[0.8888888888888888,\"#fdca26\"],[1.0,\"#f0f921\"]],\"type\":\"heatmap\"}],\"heatmapgl\":[{\"colorbar\":{\"outlinewidth\":0,\"ticks\":\"\"},\"colorscale\":[[0.0,\"#0d0887\"],[0.1111111111111111,\"#46039f\"],[0.2222222222222222,\"#7201a8\"],[0.3333333333333333,\"#9c179e\"],[0.4444444444444444,\"#bd3786\"],[0.5555555555555556,\"#d8576b\"],[0.6666666666666666,\"#ed7953\"],[0.7777777777777778,\"#fb9f3a\"],[0.8888888888888888,\"#fdca26\"],[1.0,\"#f0f921\"]],\"type\":\"heatmapgl\"}],\"histogram\":[{\"marker\":{\"pattern\":{\"fillmode\":\"overlay\",\"size\":10,\"solidity\":0.2}},\"type\":\"histogram\"}],\"histogram2d\":[{\"colorbar\":{\"outlinewidth\":0,\"ticks\":\"\"},\"colorscale\":[[0.0,\"#0d0887\"],[0.1111111111111111,\"#46039f\"],[0.2222222222222222,\"#7201a8\"],[0.3333333333333333,\"#9c179e\"],[0.4444444444444444,\"#bd3786\"],[0.5555555555555556,\"#d8576b\"],[0.6666666666666666,\"#ed7953\"],[0.7777777777777778,\"#fb9f3a\"],[0.8888888888888888,\"#fdca26\"],[1.0,\"#f0f921\"]],\"type\":\"histogram2d\"}],\"histogram2dcontour\":[{\"colorbar\":{\"outlinewidth\":0,\"ticks\":\"\"},\"colorscale\":[[0.0,\"#0d0887\"],[0.1111111111111111,\"#46039f\"],[0.2222222222222222,\"#7201a8\"],[0.3333333333333333,\"#9c179e\"],[0.4444444444444444,\"#bd3786\"],[0.5555555555555556,\"#d8576b\"],[0.6666666666666666,\"#ed7953\"],[0.7777777777777778,\"#fb9f3a\"],[0.8888888888888888,\"#fdca26\"],[1.0,\"#f0f921\"]],\"type\":\"histogram2dcontour\"}],\"mesh3d\":[{\"colorbar\":{\"outlinewidth\":0,\"ticks\":\"\"},\"type\":\"mesh3d\"}],\"parcoords\":[{\"line\":{\"colorbar\":{\"outlinewidth\":0,\"ticks\":\"\"}},\"type\":\"parcoords\"}],\"pie\":[{\"automargin\":true,\"type\":\"pie\"}],\"scatter\":[{\"marker\":{\"colorbar\":{\"outlinewidth\":0,\"ticks\":\"\"}},\"type\":\"scatter\"}],\"scatter3d\":[{\"line\":{\"colorbar\":{\"outlinewidth\":0,\"ticks\":\"\"}},\"marker\":{\"colorbar\":{\"outlinewidth\":0,\"ticks\":\"\"}},\"type\":\"scatter3d\"}],\"scattercarpet\":[{\"marker\":{\"colorbar\":{\"outlinewidth\":0,\"ticks\":\"\"}},\"type\":\"scattercarpet\"}],\"scattergeo\":[{\"marker\":{\"colorbar\":{\"outlinewidth\":0,\"ticks\":\"\"}},\"type\":\"scattergeo\"}],\"scattergl\":[{\"marker\":{\"colorbar\":{\"outlinewidth\":0,\"ticks\":\"\"}},\"type\":\"scattergl\"}],\"scattermapbox\":[{\"marker\":{\"colorbar\":{\"outlinewidth\":0,\"ticks\":\"\"}},\"type\":\"scattermapbox\"}],\"scatterpolar\":[{\"marker\":{\"colorbar\":{\"outlinewidth\":0,\"ticks\":\"\"}},\"type\":\"scatterpolar\"}],\"scatterpolargl\":[{\"marker\":{\"colorbar\":{\"outlinewidth\":0,\"ticks\":\"\"}},\"type\":\"scatterpolargl\"}],\"scatterternary\":[{\"marker\":{\"colorbar\":{\"outlinewidth\":0,\"ticks\":\"\"}},\"type\":\"scatterternary\"}],\"surface\":[{\"colorbar\":{\"outlinewidth\":0,\"ticks\":\"\"},\"colorscale\":[[0.0,\"#0d0887\"],[0.1111111111111111,\"#46039f\"],[0.2222222222222222,\"#7201a8\"],[0.3333333333333333,\"#9c179e\"],[0.4444444444444444,\"#bd3786\"],[0.5555555555555556,\"#d8576b\"],[0.6666666666666666,\"#ed7953\"],[0.7777777777777778,\"#fb9f3a\"],[0.8888888888888888,\"#fdca26\"],[1.0,\"#f0f921\"]],\"type\":\"surface\"}],\"table\":[{\"cells\":{\"fill\":{\"color\":\"#EBF0F8\"},\"line\":{\"color\":\"white\"}},\"header\":{\"fill\":{\"color\":\"#C8D4E3\"},\"line\":{\"color\":\"white\"}},\"type\":\"table\"}]},\"layout\":{\"annotationdefaults\":{\"arrowcolor\":\"#2a3f5f\",\"arrowhead\":0,\"arrowwidth\":1},\"autotypenumbers\":\"strict\",\"coloraxis\":{\"colorbar\":{\"outlinewidth\":0,\"ticks\":\"\"}},\"colorscale\":{\"diverging\":[[0,\"#8e0152\"],[0.1,\"#c51b7d\"],[0.2,\"#de77ae\"],[0.3,\"#f1b6da\"],[0.4,\"#fde0ef\"],[0.5,\"#f7f7f7\"],[0.6,\"#e6f5d0\"],[0.7,\"#b8e186\"],[0.8,\"#7fbc41\"],[0.9,\"#4d9221\"],[1,\"#276419\"]],\"sequential\":[[0.0,\"#0d0887\"],[0.1111111111111111,\"#46039f\"],[0.2222222222222222,\"#7201a8\"],[0.3333333333333333,\"#9c179e\"],[0.4444444444444444,\"#bd3786\"],[0.5555555555555556,\"#d8576b\"],[0.6666666666666666,\"#ed7953\"],[0.7777777777777778,\"#fb9f3a\"],[0.8888888888888888,\"#fdca26\"],[1.0,\"#f0f921\"]],\"sequentialminus\":[[0.0,\"#0d0887\"],[0.1111111111111111,\"#46039f\"],[0.2222222222222222,\"#7201a8\"],[0.3333333333333333,\"#9c179e\"],[0.4444444444444444,\"#bd3786\"],[0.5555555555555556,\"#d8576b\"],[0.6666666666666666,\"#ed7953\"],[0.7777777777777778,\"#fb9f3a\"],[0.8888888888888888,\"#fdca26\"],[1.0,\"#f0f921\"]]},\"colorway\":[\"#636efa\",\"#EF553B\",\"#00cc96\",\"#ab63fa\",\"#FFA15A\",\"#19d3f3\",\"#FF6692\",\"#B6E880\",\"#FF97FF\",\"#FECB52\"],\"font\":{\"color\":\"#2a3f5f\"},\"geo\":{\"bgcolor\":\"white\",\"lakecolor\":\"white\",\"landcolor\":\"#E5ECF6\",\"showlakes\":true,\"showland\":true,\"subunitcolor\":\"white\"},\"hoverlabel\":{\"align\":\"left\"},\"hovermode\":\"closest\",\"mapbox\":{\"style\":\"light\"},\"paper_bgcolor\":\"white\",\"plot_bgcolor\":\"#E5ECF6\",\"polar\":{\"angularaxis\":{\"gridcolor\":\"white\",\"linecolor\":\"white\",\"ticks\":\"\"},\"bgcolor\":\"#E5ECF6\",\"radialaxis\":{\"gridcolor\":\"white\",\"linecolor\":\"white\",\"ticks\":\"\"}},\"scene\":{\"xaxis\":{\"backgroundcolor\":\"#E5ECF6\",\"gridcolor\":\"white\",\"gridwidth\":2,\"linecolor\":\"white\",\"showbackground\":true,\"ticks\":\"\",\"zerolinecolor\":\"white\"},\"yaxis\":{\"backgroundcolor\":\"#E5ECF6\",\"gridcolor\":\"white\",\"gridwidth\":2,\"linecolor\":\"white\",\"showbackground\":true,\"ticks\":\"\",\"zerolinecolor\":\"white\"},\"zaxis\":{\"backgroundcolor\":\"#E5ECF6\",\"gridcolor\":\"white\",\"gridwidth\":2,\"linecolor\":\"white\",\"showbackground\":true,\"ticks\":\"\",\"zerolinecolor\":\"white\"}},\"shapedefaults\":{\"line\":{\"color\":\"#2a3f5f\"}},\"ternary\":{\"aaxis\":{\"gridcolor\":\"white\",\"linecolor\":\"white\",\"ticks\":\"\"},\"baxis\":{\"gridcolor\":\"white\",\"linecolor\":\"white\",\"ticks\":\"\"},\"bgcolor\":\"#E5ECF6\",\"caxis\":{\"gridcolor\":\"white\",\"linecolor\":\"white\",\"ticks\":\"\"}},\"title\":{\"x\":0.05},\"xaxis\":{\"automargin\":true,\"gridcolor\":\"white\",\"linecolor\":\"white\",\"ticks\":\"\",\"title\":{\"standoff\":15},\"zerolinecolor\":\"white\",\"zerolinewidth\":2},\"yaxis\":{\"automargin\":true,\"gridcolor\":\"white\",\"linecolor\":\"white\",\"ticks\":\"\",\"title\":{\"standoff\":15},\"zerolinecolor\":\"white\",\"zerolinewidth\":2}}},\"xaxis\":{\"anchor\":\"y\",\"domain\":[0.0,1.0],\"title\":{\"text\":\"\\u0434\\u0430\\u0442\\u0430\"},\"categoryorder\":\"total descending\"},\"yaxis\":{\"anchor\":\"x\",\"domain\":[0.0,1.0],\"title\":{\"text\":\"\\u0437\\u043d\\u0430\\u0447\\u0435\\u043d\\u0438\\u0435\"}},\"legend\":{\"title\":{\"text\":\"event_name\"},\"tracegroupgap\":0},\"margin\":{\"t\":60},\"barmode\":\"relative\",\"title\":{\"text\":\"\\u0420\\u0430\\u0441\\u043f\\u0440\\u0435\\u0434\\u0435\\u043b\\u0435\\u043d\\u0438\\u0435 \\u0434\\u0435\\u0439\\u0441\\u0442\\u0432\\u0438\\u0439 \\u043f\\u043e \\u0434\\u0430\\u0442\\u0430\\u043c: \\u0433\\u0440\\u0443\\u043f\\u043f\\u0430 B\"}},                        {\"responsive\": true}                    ).then(function(){\n",
       "                            \n",
       "var gd = document.getElementById('4ad76c11-6a4b-4f17-bc96-0470f8a9e4e8');\n",
       "var x = new MutationObserver(function (mutations, observer) {{\n",
       "        var display = window.getComputedStyle(gd).display;\n",
       "        if (!display || display === 'none') {{\n",
       "            console.log([gd, 'removed!']);\n",
       "            Plotly.purge(gd);\n",
       "            observer.disconnect();\n",
       "        }}\n",
       "}});\n",
       "\n",
       "// Listen for the removal of the full notebook cells\n",
       "var notebookContainer = gd.closest('#notebook-container');\n",
       "if (notebookContainer) {{\n",
       "    x.observe(notebookContainer, {childList: true});\n",
       "}}\n",
       "\n",
       "// Listen for the clearing of the current output cell\n",
       "var outputEl = gd.closest('.output');\n",
       "if (outputEl) {{\n",
       "    x.observe(outputEl, {childList: true});\n",
       "}}\n",
       "\n",
       "                        })                };                });            </script>        </div>"
      ]
     },
     "metadata": {},
     "output_type": "display_data"
    },
    {
     "data": {
      "text/plain": [
       "<Figure size 1440x1080 with 0 Axes>"
      ]
     },
     "metadata": {},
     "output_type": "display_data"
    }
   ],
   "source": [
    "#построим аналогичную таблицу для группы В\n",
    "\n",
    "plotly_bar(events_categories.query('group == \"B\"'),\n",
    "           'dt', \n",
    "           'count', \n",
    "           'event_name', \n",
    "           'Распределение действий по датам: группа B', \n",
    "           'дата', \n",
    "           'значение')"
   ]
  },
  {
   "cell_type": "markdown",
   "id": "U2iPEpuuGm8B",
   "metadata": {
    "id": "U2iPEpuuGm8B"
   },
   "source": [
    "\n",
    "Группа В не слишком отличается в распределении категорий посещения по датам: здесь также доминирует посещение стартовой страницы (логин), на которую приходится ежедневно около половина всех действий, второе по числу действий - посещение страницы товара. В наиболее пиковые даты пользователи несколько чаще заходят на страницу с товаром, в менее насыщенные дни с точки зрения посещения - предпочитают сразу переходить к покупке. "
   ]
  },
  {
   "cell_type": "markdown",
   "id": "AbjUOSDjGr5o",
   "metadata": {
    "id": "AbjUOSDjGr5o"
   },
   "source": [
    "<a id=\"eda_conv\"> </a> \n",
    "### Изменение конверсии в воронке в выборках на разных этапах"
   ]
  },
  {
   "cell_type": "markdown",
   "id": "tXghMcHPIJqE",
   "metadata": {
    "id": "tXghMcHPIJqE"
   },
   "source": [
    "На данном этапе мы вновь построим воронку событий. Однако, в отличие от предыдущего раза, мы обратим большее внимание на изменение конверсии в каждой из групп. \n",
    "Вновь ограничим наши данные участниками, которые успели провести в системе одинаковое время (т.е. 14 дней).\n"
   ]
  },
  {
   "cell_type": "code",
   "execution_count": 154,
   "id": "1Zdu0QBiNJT4",
   "metadata": {
    "colab": {
     "base_uri": "https://localhost:8080/",
     "height": 206
    },
    "id": "1Zdu0QBiNJT4",
    "outputId": "f13e43d8-d721-40b9-b1d2-bb565f5bbd86"
   },
   "outputs": [
    {
     "data": {
      "text/html": [
       "<div>\n",
       "<style scoped>\n",
       "    .dataframe tbody tr th:only-of-type {\n",
       "        vertical-align: middle;\n",
       "    }\n",
       "\n",
       "    .dataframe tbody tr th {\n",
       "        vertical-align: top;\n",
       "    }\n",
       "\n",
       "    .dataframe thead th {\n",
       "        text-align: right;\n",
       "    }\n",
       "</style>\n",
       "<table border=\"1\" class=\"dataframe\">\n",
       "  <thead>\n",
       "    <tr style=\"text-align: right;\">\n",
       "      <th>group</th>\n",
       "      <th>A_users</th>\n",
       "      <th>B_users</th>\n",
       "      <th>A_users_diff</th>\n",
       "      <th>B_users_diff</th>\n",
       "    </tr>\n",
       "    <tr>\n",
       "      <th>event_name</th>\n",
       "      <th></th>\n",
       "      <th></th>\n",
       "      <th></th>\n",
       "      <th></th>\n",
       "    </tr>\n",
       "  </thead>\n",
       "  <tbody>\n",
       "    <tr>\n",
       "      <th>login</th>\n",
       "      <td>2604</td>\n",
       "      <td>876</td>\n",
       "      <td>NaN</td>\n",
       "      <td>NaN</td>\n",
       "    </tr>\n",
       "    <tr>\n",
       "      <th>product_page</th>\n",
       "      <td>1685</td>\n",
       "      <td>493</td>\n",
       "      <td>-919.0</td>\n",
       "      <td>-383.0</td>\n",
       "    </tr>\n",
       "    <tr>\n",
       "      <th>product_cart</th>\n",
       "      <td>782</td>\n",
       "      <td>244</td>\n",
       "      <td>-903.0</td>\n",
       "      <td>-249.0</td>\n",
       "    </tr>\n",
       "    <tr>\n",
       "      <th>purchase</th>\n",
       "      <td>833</td>\n",
       "      <td>249</td>\n",
       "      <td>51.0</td>\n",
       "      <td>5.0</td>\n",
       "    </tr>\n",
       "  </tbody>\n",
       "</table>\n",
       "</div>"
      ],
      "text/plain": [
       "group         A_users  B_users  A_users_diff  B_users_diff\n",
       "event_name                                                \n",
       "login            2604      876           NaN           NaN\n",
       "product_page     1685      493        -919.0        -383.0\n",
       "product_cart      782      244        -903.0        -249.0\n",
       "purchase          833      249          51.0           5.0"
      ]
     },
     "execution_count": 154,
     "metadata": {},
     "output_type": "execute_result"
    }
   ],
   "source": [
    "#вновь выведем таблицу steps\n",
    "\n",
    "steps = check_conversion(rec_test.query('diff <= 14'))\n",
    "steps[['A_users', 'B_users', 'A_users_diff','B_users_diff']]\n"
   ]
  },
  {
   "cell_type": "code",
   "execution_count": 155,
   "id": "BlRQMbY8NJT6",
   "metadata": {
    "colab": {
     "base_uri": "https://localhost:8080/",
     "height": 542
    },
    "id": "BlRQMbY8NJT6",
    "outputId": "ce7cc8f8-5604-4a63-db86-1e4b334738d5"
   },
   "outputs": [
    {
     "data": {
      "application/vnd.plotly.v1+json": {
       "config": {
        "plotlyServerURL": "https://plot.ly"
       },
       "data": [
        {
         "marker": {
          "color": "cadetblue"
         },
         "name": "A_users",
         "opacity": 0.65,
         "textinfo": "value+percent previous",
         "textposition": "inside",
         "type": "funnel",
         "x": [
          2604,
          1685,
          782,
          833
         ],
         "y": [
          "login",
          "product_page",
          "product_cart",
          "purchase"
         ]
        },
        {
         "connector": {
          "line": {
           "color": "white",
           "dash": "dot",
           "width": 3
          }
         },
         "marker": {
          "color": "wheat"
         },
         "name": "B_users",
         "opacity": 0.65,
         "textinfo": "value+percent previous",
         "textposition": "inside",
         "type": "funnel",
         "x": [
          876,
          493,
          244,
          249
         ],
         "y": [
          "login",
          "product_page",
          "product_cart",
          "purchase"
         ]
        }
       ],
       "layout": {
        "template": {
         "data": {
          "bar": [
           {
            "error_x": {
             "color": "#2a3f5f"
            },
            "error_y": {
             "color": "#2a3f5f"
            },
            "marker": {
             "line": {
              "color": "#E5ECF6",
              "width": 0.5
             },
             "pattern": {
              "fillmode": "overlay",
              "size": 10,
              "solidity": 0.2
             }
            },
            "type": "bar"
           }
          ],
          "barpolar": [
           {
            "marker": {
             "line": {
              "color": "#E5ECF6",
              "width": 0.5
             },
             "pattern": {
              "fillmode": "overlay",
              "size": 10,
              "solidity": 0.2
             }
            },
            "type": "barpolar"
           }
          ],
          "carpet": [
           {
            "aaxis": {
             "endlinecolor": "#2a3f5f",
             "gridcolor": "white",
             "linecolor": "white",
             "minorgridcolor": "white",
             "startlinecolor": "#2a3f5f"
            },
            "baxis": {
             "endlinecolor": "#2a3f5f",
             "gridcolor": "white",
             "linecolor": "white",
             "minorgridcolor": "white",
             "startlinecolor": "#2a3f5f"
            },
            "type": "carpet"
           }
          ],
          "choropleth": [
           {
            "colorbar": {
             "outlinewidth": 0,
             "ticks": ""
            },
            "type": "choropleth"
           }
          ],
          "contour": [
           {
            "colorbar": {
             "outlinewidth": 0,
             "ticks": ""
            },
            "colorscale": [
             [
              0,
              "#0d0887"
             ],
             [
              0.1111111111111111,
              "#46039f"
             ],
             [
              0.2222222222222222,
              "#7201a8"
             ],
             [
              0.3333333333333333,
              "#9c179e"
             ],
             [
              0.4444444444444444,
              "#bd3786"
             ],
             [
              0.5555555555555556,
              "#d8576b"
             ],
             [
              0.6666666666666666,
              "#ed7953"
             ],
             [
              0.7777777777777778,
              "#fb9f3a"
             ],
             [
              0.8888888888888888,
              "#fdca26"
             ],
             [
              1,
              "#f0f921"
             ]
            ],
            "type": "contour"
           }
          ],
          "contourcarpet": [
           {
            "colorbar": {
             "outlinewidth": 0,
             "ticks": ""
            },
            "type": "contourcarpet"
           }
          ],
          "heatmap": [
           {
            "colorbar": {
             "outlinewidth": 0,
             "ticks": ""
            },
            "colorscale": [
             [
              0,
              "#0d0887"
             ],
             [
              0.1111111111111111,
              "#46039f"
             ],
             [
              0.2222222222222222,
              "#7201a8"
             ],
             [
              0.3333333333333333,
              "#9c179e"
             ],
             [
              0.4444444444444444,
              "#bd3786"
             ],
             [
              0.5555555555555556,
              "#d8576b"
             ],
             [
              0.6666666666666666,
              "#ed7953"
             ],
             [
              0.7777777777777778,
              "#fb9f3a"
             ],
             [
              0.8888888888888888,
              "#fdca26"
             ],
             [
              1,
              "#f0f921"
             ]
            ],
            "type": "heatmap"
           }
          ],
          "heatmapgl": [
           {
            "colorbar": {
             "outlinewidth": 0,
             "ticks": ""
            },
            "colorscale": [
             [
              0,
              "#0d0887"
             ],
             [
              0.1111111111111111,
              "#46039f"
             ],
             [
              0.2222222222222222,
              "#7201a8"
             ],
             [
              0.3333333333333333,
              "#9c179e"
             ],
             [
              0.4444444444444444,
              "#bd3786"
             ],
             [
              0.5555555555555556,
              "#d8576b"
             ],
             [
              0.6666666666666666,
              "#ed7953"
             ],
             [
              0.7777777777777778,
              "#fb9f3a"
             ],
             [
              0.8888888888888888,
              "#fdca26"
             ],
             [
              1,
              "#f0f921"
             ]
            ],
            "type": "heatmapgl"
           }
          ],
          "histogram": [
           {
            "marker": {
             "pattern": {
              "fillmode": "overlay",
              "size": 10,
              "solidity": 0.2
             }
            },
            "type": "histogram"
           }
          ],
          "histogram2d": [
           {
            "colorbar": {
             "outlinewidth": 0,
             "ticks": ""
            },
            "colorscale": [
             [
              0,
              "#0d0887"
             ],
             [
              0.1111111111111111,
              "#46039f"
             ],
             [
              0.2222222222222222,
              "#7201a8"
             ],
             [
              0.3333333333333333,
              "#9c179e"
             ],
             [
              0.4444444444444444,
              "#bd3786"
             ],
             [
              0.5555555555555556,
              "#d8576b"
             ],
             [
              0.6666666666666666,
              "#ed7953"
             ],
             [
              0.7777777777777778,
              "#fb9f3a"
             ],
             [
              0.8888888888888888,
              "#fdca26"
             ],
             [
              1,
              "#f0f921"
             ]
            ],
            "type": "histogram2d"
           }
          ],
          "histogram2dcontour": [
           {
            "colorbar": {
             "outlinewidth": 0,
             "ticks": ""
            },
            "colorscale": [
             [
              0,
              "#0d0887"
             ],
             [
              0.1111111111111111,
              "#46039f"
             ],
             [
              0.2222222222222222,
              "#7201a8"
             ],
             [
              0.3333333333333333,
              "#9c179e"
             ],
             [
              0.4444444444444444,
              "#bd3786"
             ],
             [
              0.5555555555555556,
              "#d8576b"
             ],
             [
              0.6666666666666666,
              "#ed7953"
             ],
             [
              0.7777777777777778,
              "#fb9f3a"
             ],
             [
              0.8888888888888888,
              "#fdca26"
             ],
             [
              1,
              "#f0f921"
             ]
            ],
            "type": "histogram2dcontour"
           }
          ],
          "mesh3d": [
           {
            "colorbar": {
             "outlinewidth": 0,
             "ticks": ""
            },
            "type": "mesh3d"
           }
          ],
          "parcoords": [
           {
            "line": {
             "colorbar": {
              "outlinewidth": 0,
              "ticks": ""
             }
            },
            "type": "parcoords"
           }
          ],
          "pie": [
           {
            "automargin": true,
            "type": "pie"
           }
          ],
          "scatter": [
           {
            "marker": {
             "colorbar": {
              "outlinewidth": 0,
              "ticks": ""
             }
            },
            "type": "scatter"
           }
          ],
          "scatter3d": [
           {
            "line": {
             "colorbar": {
              "outlinewidth": 0,
              "ticks": ""
             }
            },
            "marker": {
             "colorbar": {
              "outlinewidth": 0,
              "ticks": ""
             }
            },
            "type": "scatter3d"
           }
          ],
          "scattercarpet": [
           {
            "marker": {
             "colorbar": {
              "outlinewidth": 0,
              "ticks": ""
             }
            },
            "type": "scattercarpet"
           }
          ],
          "scattergeo": [
           {
            "marker": {
             "colorbar": {
              "outlinewidth": 0,
              "ticks": ""
             }
            },
            "type": "scattergeo"
           }
          ],
          "scattergl": [
           {
            "marker": {
             "colorbar": {
              "outlinewidth": 0,
              "ticks": ""
             }
            },
            "type": "scattergl"
           }
          ],
          "scattermapbox": [
           {
            "marker": {
             "colorbar": {
              "outlinewidth": 0,
              "ticks": ""
             }
            },
            "type": "scattermapbox"
           }
          ],
          "scatterpolar": [
           {
            "marker": {
             "colorbar": {
              "outlinewidth": 0,
              "ticks": ""
             }
            },
            "type": "scatterpolar"
           }
          ],
          "scatterpolargl": [
           {
            "marker": {
             "colorbar": {
              "outlinewidth": 0,
              "ticks": ""
             }
            },
            "type": "scatterpolargl"
           }
          ],
          "scatterternary": [
           {
            "marker": {
             "colorbar": {
              "outlinewidth": 0,
              "ticks": ""
             }
            },
            "type": "scatterternary"
           }
          ],
          "surface": [
           {
            "colorbar": {
             "outlinewidth": 0,
             "ticks": ""
            },
            "colorscale": [
             [
              0,
              "#0d0887"
             ],
             [
              0.1111111111111111,
              "#46039f"
             ],
             [
              0.2222222222222222,
              "#7201a8"
             ],
             [
              0.3333333333333333,
              "#9c179e"
             ],
             [
              0.4444444444444444,
              "#bd3786"
             ],
             [
              0.5555555555555556,
              "#d8576b"
             ],
             [
              0.6666666666666666,
              "#ed7953"
             ],
             [
              0.7777777777777778,
              "#fb9f3a"
             ],
             [
              0.8888888888888888,
              "#fdca26"
             ],
             [
              1,
              "#f0f921"
             ]
            ],
            "type": "surface"
           }
          ],
          "table": [
           {
            "cells": {
             "fill": {
              "color": "#EBF0F8"
             },
             "line": {
              "color": "white"
             }
            },
            "header": {
             "fill": {
              "color": "#C8D4E3"
             },
             "line": {
              "color": "white"
             }
            },
            "type": "table"
           }
          ]
         },
         "layout": {
          "annotationdefaults": {
           "arrowcolor": "#2a3f5f",
           "arrowhead": 0,
           "arrowwidth": 1
          },
          "autotypenumbers": "strict",
          "coloraxis": {
           "colorbar": {
            "outlinewidth": 0,
            "ticks": ""
           }
          },
          "colorscale": {
           "diverging": [
            [
             0,
             "#8e0152"
            ],
            [
             0.1,
             "#c51b7d"
            ],
            [
             0.2,
             "#de77ae"
            ],
            [
             0.3,
             "#f1b6da"
            ],
            [
             0.4,
             "#fde0ef"
            ],
            [
             0.5,
             "#f7f7f7"
            ],
            [
             0.6,
             "#e6f5d0"
            ],
            [
             0.7,
             "#b8e186"
            ],
            [
             0.8,
             "#7fbc41"
            ],
            [
             0.9,
             "#4d9221"
            ],
            [
             1,
             "#276419"
            ]
           ],
           "sequential": [
            [
             0,
             "#0d0887"
            ],
            [
             0.1111111111111111,
             "#46039f"
            ],
            [
             0.2222222222222222,
             "#7201a8"
            ],
            [
             0.3333333333333333,
             "#9c179e"
            ],
            [
             0.4444444444444444,
             "#bd3786"
            ],
            [
             0.5555555555555556,
             "#d8576b"
            ],
            [
             0.6666666666666666,
             "#ed7953"
            ],
            [
             0.7777777777777778,
             "#fb9f3a"
            ],
            [
             0.8888888888888888,
             "#fdca26"
            ],
            [
             1,
             "#f0f921"
            ]
           ],
           "sequentialminus": [
            [
             0,
             "#0d0887"
            ],
            [
             0.1111111111111111,
             "#46039f"
            ],
            [
             0.2222222222222222,
             "#7201a8"
            ],
            [
             0.3333333333333333,
             "#9c179e"
            ],
            [
             0.4444444444444444,
             "#bd3786"
            ],
            [
             0.5555555555555556,
             "#d8576b"
            ],
            [
             0.6666666666666666,
             "#ed7953"
            ],
            [
             0.7777777777777778,
             "#fb9f3a"
            ],
            [
             0.8888888888888888,
             "#fdca26"
            ],
            [
             1,
             "#f0f921"
            ]
           ]
          },
          "colorway": [
           "#636efa",
           "#EF553B",
           "#00cc96",
           "#ab63fa",
           "#FFA15A",
           "#19d3f3",
           "#FF6692",
           "#B6E880",
           "#FF97FF",
           "#FECB52"
          ],
          "font": {
           "color": "#2a3f5f"
          },
          "geo": {
           "bgcolor": "white",
           "lakecolor": "white",
           "landcolor": "#E5ECF6",
           "showlakes": true,
           "showland": true,
           "subunitcolor": "white"
          },
          "hoverlabel": {
           "align": "left"
          },
          "hovermode": "closest",
          "mapbox": {
           "style": "light"
          },
          "paper_bgcolor": "white",
          "plot_bgcolor": "#E5ECF6",
          "polar": {
           "angularaxis": {
            "gridcolor": "white",
            "linecolor": "white",
            "ticks": ""
           },
           "bgcolor": "#E5ECF6",
           "radialaxis": {
            "gridcolor": "white",
            "linecolor": "white",
            "ticks": ""
           }
          },
          "scene": {
           "xaxis": {
            "backgroundcolor": "#E5ECF6",
            "gridcolor": "white",
            "gridwidth": 2,
            "linecolor": "white",
            "showbackground": true,
            "ticks": "",
            "zerolinecolor": "white"
           },
           "yaxis": {
            "backgroundcolor": "#E5ECF6",
            "gridcolor": "white",
            "gridwidth": 2,
            "linecolor": "white",
            "showbackground": true,
            "ticks": "",
            "zerolinecolor": "white"
           },
           "zaxis": {
            "backgroundcolor": "#E5ECF6",
            "gridcolor": "white",
            "gridwidth": 2,
            "linecolor": "white",
            "showbackground": true,
            "ticks": "",
            "zerolinecolor": "white"
           }
          },
          "shapedefaults": {
           "line": {
            "color": "#2a3f5f"
           }
          },
          "ternary": {
           "aaxis": {
            "gridcolor": "white",
            "linecolor": "white",
            "ticks": ""
           },
           "baxis": {
            "gridcolor": "white",
            "linecolor": "white",
            "ticks": ""
           },
           "bgcolor": "#E5ECF6",
           "caxis": {
            "gridcolor": "white",
            "linecolor": "white",
            "ticks": ""
           }
          },
          "title": {
           "x": 0.05
          },
          "xaxis": {
           "automargin": true,
           "gridcolor": "white",
           "linecolor": "white",
           "ticks": "",
           "title": {
            "standoff": 15
           },
           "zerolinecolor": "white",
           "zerolinewidth": 2
          },
          "yaxis": {
           "automargin": true,
           "gridcolor": "white",
           "linecolor": "white",
           "ticks": "",
           "title": {
            "standoff": 15
           },
           "zerolinecolor": "white",
           "zerolinewidth": 2
          }
         }
        },
        "title": {
         "text": "Конверсия: действия пользователей"
        }
       }
      },
      "text/html": [
       "<div>                            <div id=\"ca5e66c6-5dc8-4310-8979-602ccc5e62eb\" class=\"plotly-graph-div\" style=\"height:525px; width:100%;\"></div>            <script type=\"text/javascript\">                require([\"plotly\"], function(Plotly) {                    window.PLOTLYENV=window.PLOTLYENV || {};                                    if (document.getElementById(\"ca5e66c6-5dc8-4310-8979-602ccc5e62eb\")) {                    Plotly.newPlot(                        \"ca5e66c6-5dc8-4310-8979-602ccc5e62eb\",                        [{\"marker\":{\"color\":\"cadetblue\"},\"name\":\"A_users\",\"opacity\":0.65,\"textinfo\":\"value+percent previous\",\"textposition\":\"inside\",\"x\":[2604,1685,782,833],\"y\":[\"login\",\"product_page\",\"product_cart\",\"purchase\"],\"type\":\"funnel\"},{\"connector\":{\"line\":{\"color\":\"white\",\"dash\":\"dot\",\"width\":3}},\"marker\":{\"color\":\"wheat\"},\"name\":\"B_users\",\"opacity\":0.65,\"textinfo\":\"value+percent previous\",\"textposition\":\"inside\",\"x\":[876,493,244,249],\"y\":[\"login\",\"product_page\",\"product_cart\",\"purchase\"],\"type\":\"funnel\"}],                        {\"template\":{\"data\":{\"bar\":[{\"error_x\":{\"color\":\"#2a3f5f\"},\"error_y\":{\"color\":\"#2a3f5f\"},\"marker\":{\"line\":{\"color\":\"#E5ECF6\",\"width\":0.5},\"pattern\":{\"fillmode\":\"overlay\",\"size\":10,\"solidity\":0.2}},\"type\":\"bar\"}],\"barpolar\":[{\"marker\":{\"line\":{\"color\":\"#E5ECF6\",\"width\":0.5},\"pattern\":{\"fillmode\":\"overlay\",\"size\":10,\"solidity\":0.2}},\"type\":\"barpolar\"}],\"carpet\":[{\"aaxis\":{\"endlinecolor\":\"#2a3f5f\",\"gridcolor\":\"white\",\"linecolor\":\"white\",\"minorgridcolor\":\"white\",\"startlinecolor\":\"#2a3f5f\"},\"baxis\":{\"endlinecolor\":\"#2a3f5f\",\"gridcolor\":\"white\",\"linecolor\":\"white\",\"minorgridcolor\":\"white\",\"startlinecolor\":\"#2a3f5f\"},\"type\":\"carpet\"}],\"choropleth\":[{\"colorbar\":{\"outlinewidth\":0,\"ticks\":\"\"},\"type\":\"choropleth\"}],\"contour\":[{\"colorbar\":{\"outlinewidth\":0,\"ticks\":\"\"},\"colorscale\":[[0.0,\"#0d0887\"],[0.1111111111111111,\"#46039f\"],[0.2222222222222222,\"#7201a8\"],[0.3333333333333333,\"#9c179e\"],[0.4444444444444444,\"#bd3786\"],[0.5555555555555556,\"#d8576b\"],[0.6666666666666666,\"#ed7953\"],[0.7777777777777778,\"#fb9f3a\"],[0.8888888888888888,\"#fdca26\"],[1.0,\"#f0f921\"]],\"type\":\"contour\"}],\"contourcarpet\":[{\"colorbar\":{\"outlinewidth\":0,\"ticks\":\"\"},\"type\":\"contourcarpet\"}],\"heatmap\":[{\"colorbar\":{\"outlinewidth\":0,\"ticks\":\"\"},\"colorscale\":[[0.0,\"#0d0887\"],[0.1111111111111111,\"#46039f\"],[0.2222222222222222,\"#7201a8\"],[0.3333333333333333,\"#9c179e\"],[0.4444444444444444,\"#bd3786\"],[0.5555555555555556,\"#d8576b\"],[0.6666666666666666,\"#ed7953\"],[0.7777777777777778,\"#fb9f3a\"],[0.8888888888888888,\"#fdca26\"],[1.0,\"#f0f921\"]],\"type\":\"heatmap\"}],\"heatmapgl\":[{\"colorbar\":{\"outlinewidth\":0,\"ticks\":\"\"},\"colorscale\":[[0.0,\"#0d0887\"],[0.1111111111111111,\"#46039f\"],[0.2222222222222222,\"#7201a8\"],[0.3333333333333333,\"#9c179e\"],[0.4444444444444444,\"#bd3786\"],[0.5555555555555556,\"#d8576b\"],[0.6666666666666666,\"#ed7953\"],[0.7777777777777778,\"#fb9f3a\"],[0.8888888888888888,\"#fdca26\"],[1.0,\"#f0f921\"]],\"type\":\"heatmapgl\"}],\"histogram\":[{\"marker\":{\"pattern\":{\"fillmode\":\"overlay\",\"size\":10,\"solidity\":0.2}},\"type\":\"histogram\"}],\"histogram2d\":[{\"colorbar\":{\"outlinewidth\":0,\"ticks\":\"\"},\"colorscale\":[[0.0,\"#0d0887\"],[0.1111111111111111,\"#46039f\"],[0.2222222222222222,\"#7201a8\"],[0.3333333333333333,\"#9c179e\"],[0.4444444444444444,\"#bd3786\"],[0.5555555555555556,\"#d8576b\"],[0.6666666666666666,\"#ed7953\"],[0.7777777777777778,\"#fb9f3a\"],[0.8888888888888888,\"#fdca26\"],[1.0,\"#f0f921\"]],\"type\":\"histogram2d\"}],\"histogram2dcontour\":[{\"colorbar\":{\"outlinewidth\":0,\"ticks\":\"\"},\"colorscale\":[[0.0,\"#0d0887\"],[0.1111111111111111,\"#46039f\"],[0.2222222222222222,\"#7201a8\"],[0.3333333333333333,\"#9c179e\"],[0.4444444444444444,\"#bd3786\"],[0.5555555555555556,\"#d8576b\"],[0.6666666666666666,\"#ed7953\"],[0.7777777777777778,\"#fb9f3a\"],[0.8888888888888888,\"#fdca26\"],[1.0,\"#f0f921\"]],\"type\":\"histogram2dcontour\"}],\"mesh3d\":[{\"colorbar\":{\"outlinewidth\":0,\"ticks\":\"\"},\"type\":\"mesh3d\"}],\"parcoords\":[{\"line\":{\"colorbar\":{\"outlinewidth\":0,\"ticks\":\"\"}},\"type\":\"parcoords\"}],\"pie\":[{\"automargin\":true,\"type\":\"pie\"}],\"scatter\":[{\"marker\":{\"colorbar\":{\"outlinewidth\":0,\"ticks\":\"\"}},\"type\":\"scatter\"}],\"scatter3d\":[{\"line\":{\"colorbar\":{\"outlinewidth\":0,\"ticks\":\"\"}},\"marker\":{\"colorbar\":{\"outlinewidth\":0,\"ticks\":\"\"}},\"type\":\"scatter3d\"}],\"scattercarpet\":[{\"marker\":{\"colorbar\":{\"outlinewidth\":0,\"ticks\":\"\"}},\"type\":\"scattercarpet\"}],\"scattergeo\":[{\"marker\":{\"colorbar\":{\"outlinewidth\":0,\"ticks\":\"\"}},\"type\":\"scattergeo\"}],\"scattergl\":[{\"marker\":{\"colorbar\":{\"outlinewidth\":0,\"ticks\":\"\"}},\"type\":\"scattergl\"}],\"scattermapbox\":[{\"marker\":{\"colorbar\":{\"outlinewidth\":0,\"ticks\":\"\"}},\"type\":\"scattermapbox\"}],\"scatterpolar\":[{\"marker\":{\"colorbar\":{\"outlinewidth\":0,\"ticks\":\"\"}},\"type\":\"scatterpolar\"}],\"scatterpolargl\":[{\"marker\":{\"colorbar\":{\"outlinewidth\":0,\"ticks\":\"\"}},\"type\":\"scatterpolargl\"}],\"scatterternary\":[{\"marker\":{\"colorbar\":{\"outlinewidth\":0,\"ticks\":\"\"}},\"type\":\"scatterternary\"}],\"surface\":[{\"colorbar\":{\"outlinewidth\":0,\"ticks\":\"\"},\"colorscale\":[[0.0,\"#0d0887\"],[0.1111111111111111,\"#46039f\"],[0.2222222222222222,\"#7201a8\"],[0.3333333333333333,\"#9c179e\"],[0.4444444444444444,\"#bd3786\"],[0.5555555555555556,\"#d8576b\"],[0.6666666666666666,\"#ed7953\"],[0.7777777777777778,\"#fb9f3a\"],[0.8888888888888888,\"#fdca26\"],[1.0,\"#f0f921\"]],\"type\":\"surface\"}],\"table\":[{\"cells\":{\"fill\":{\"color\":\"#EBF0F8\"},\"line\":{\"color\":\"white\"}},\"header\":{\"fill\":{\"color\":\"#C8D4E3\"},\"line\":{\"color\":\"white\"}},\"type\":\"table\"}]},\"layout\":{\"annotationdefaults\":{\"arrowcolor\":\"#2a3f5f\",\"arrowhead\":0,\"arrowwidth\":1},\"autotypenumbers\":\"strict\",\"coloraxis\":{\"colorbar\":{\"outlinewidth\":0,\"ticks\":\"\"}},\"colorscale\":{\"diverging\":[[0,\"#8e0152\"],[0.1,\"#c51b7d\"],[0.2,\"#de77ae\"],[0.3,\"#f1b6da\"],[0.4,\"#fde0ef\"],[0.5,\"#f7f7f7\"],[0.6,\"#e6f5d0\"],[0.7,\"#b8e186\"],[0.8,\"#7fbc41\"],[0.9,\"#4d9221\"],[1,\"#276419\"]],\"sequential\":[[0.0,\"#0d0887\"],[0.1111111111111111,\"#46039f\"],[0.2222222222222222,\"#7201a8\"],[0.3333333333333333,\"#9c179e\"],[0.4444444444444444,\"#bd3786\"],[0.5555555555555556,\"#d8576b\"],[0.6666666666666666,\"#ed7953\"],[0.7777777777777778,\"#fb9f3a\"],[0.8888888888888888,\"#fdca26\"],[1.0,\"#f0f921\"]],\"sequentialminus\":[[0.0,\"#0d0887\"],[0.1111111111111111,\"#46039f\"],[0.2222222222222222,\"#7201a8\"],[0.3333333333333333,\"#9c179e\"],[0.4444444444444444,\"#bd3786\"],[0.5555555555555556,\"#d8576b\"],[0.6666666666666666,\"#ed7953\"],[0.7777777777777778,\"#fb9f3a\"],[0.8888888888888888,\"#fdca26\"],[1.0,\"#f0f921\"]]},\"colorway\":[\"#636efa\",\"#EF553B\",\"#00cc96\",\"#ab63fa\",\"#FFA15A\",\"#19d3f3\",\"#FF6692\",\"#B6E880\",\"#FF97FF\",\"#FECB52\"],\"font\":{\"color\":\"#2a3f5f\"},\"geo\":{\"bgcolor\":\"white\",\"lakecolor\":\"white\",\"landcolor\":\"#E5ECF6\",\"showlakes\":true,\"showland\":true,\"subunitcolor\":\"white\"},\"hoverlabel\":{\"align\":\"left\"},\"hovermode\":\"closest\",\"mapbox\":{\"style\":\"light\"},\"paper_bgcolor\":\"white\",\"plot_bgcolor\":\"#E5ECF6\",\"polar\":{\"angularaxis\":{\"gridcolor\":\"white\",\"linecolor\":\"white\",\"ticks\":\"\"},\"bgcolor\":\"#E5ECF6\",\"radialaxis\":{\"gridcolor\":\"white\",\"linecolor\":\"white\",\"ticks\":\"\"}},\"scene\":{\"xaxis\":{\"backgroundcolor\":\"#E5ECF6\",\"gridcolor\":\"white\",\"gridwidth\":2,\"linecolor\":\"white\",\"showbackground\":true,\"ticks\":\"\",\"zerolinecolor\":\"white\"},\"yaxis\":{\"backgroundcolor\":\"#E5ECF6\",\"gridcolor\":\"white\",\"gridwidth\":2,\"linecolor\":\"white\",\"showbackground\":true,\"ticks\":\"\",\"zerolinecolor\":\"white\"},\"zaxis\":{\"backgroundcolor\":\"#E5ECF6\",\"gridcolor\":\"white\",\"gridwidth\":2,\"linecolor\":\"white\",\"showbackground\":true,\"ticks\":\"\",\"zerolinecolor\":\"white\"}},\"shapedefaults\":{\"line\":{\"color\":\"#2a3f5f\"}},\"ternary\":{\"aaxis\":{\"gridcolor\":\"white\",\"linecolor\":\"white\",\"ticks\":\"\"},\"baxis\":{\"gridcolor\":\"white\",\"linecolor\":\"white\",\"ticks\":\"\"},\"bgcolor\":\"#E5ECF6\",\"caxis\":{\"gridcolor\":\"white\",\"linecolor\":\"white\",\"ticks\":\"\"}},\"title\":{\"x\":0.05},\"xaxis\":{\"automargin\":true,\"gridcolor\":\"white\",\"linecolor\":\"white\",\"ticks\":\"\",\"title\":{\"standoff\":15},\"zerolinecolor\":\"white\",\"zerolinewidth\":2},\"yaxis\":{\"automargin\":true,\"gridcolor\":\"white\",\"linecolor\":\"white\",\"ticks\":\"\",\"title\":{\"standoff\":15},\"zerolinecolor\":\"white\",\"zerolinewidth\":2}}},\"title\":{\"text\":\"\\u041a\\u043e\\u043d\\u0432\\u0435\\u0440\\u0441\\u0438\\u044f: \\u0434\\u0435\\u0439\\u0441\\u0442\\u0432\\u0438\\u044f \\u043f\\u043e\\u043b\\u044c\\u0437\\u043e\\u0432\\u0430\\u0442\\u0435\\u043b\\u0435\\u0439\"}},                        {\"responsive\": true}                    ).then(function(){\n",
       "                            \n",
       "var gd = document.getElementById('ca5e66c6-5dc8-4310-8979-602ccc5e62eb');\n",
       "var x = new MutationObserver(function (mutations, observer) {{\n",
       "        var display = window.getComputedStyle(gd).display;\n",
       "        if (!display || display === 'none') {{\n",
       "            console.log([gd, 'removed!']);\n",
       "            Plotly.purge(gd);\n",
       "            observer.disconnect();\n",
       "        }}\n",
       "}});\n",
       "\n",
       "// Listen for the removal of the full notebook cells\n",
       "var notebookContainer = gd.closest('#notebook-container');\n",
       "if (notebookContainer) {{\n",
       "    x.observe(notebookContainer, {childList: true});\n",
       "}}\n",
       "\n",
       "// Listen for the clearing of the current output cell\n",
       "var outputEl = gd.closest('.output');\n",
       "if (outputEl) {{\n",
       "    x.observe(outputEl, {childList: true});\n",
       "}}\n",
       "\n",
       "                        })                };                });            </script>        </div>"
      ]
     },
     "metadata": {},
     "output_type": "display_data"
    }
   ],
   "source": [
    "#визуализируем данны\n",
    "\n",
    "funnel(steps, 'A_users', 'B_users', 'действия пользователей')"
   ]
  },
  {
   "cell_type": "markdown",
   "id": "hNuTcYQ-T7zf",
   "metadata": {
    "id": "hNuTcYQ-T7zf"
   },
   "source": [
    "- На этапах перехода со страницы авторизации на на страницу продукта и со страницы продукта к корзине в группе А отсеялось почти одинаковое количество человек - более 900, в группе В эти значения отличаются в большую сторону;\n",
    "- конверсия с первого на второй этап составила 65 у группы А и 56% у группы В;\n",
    "- конверсия на следующем этапе больше у группы В - 49% против 46% у группы А, однако процент от изначальных пользователей выше у первой группы (30 и 28% соответственно);\n",
    "- конверсия между переходами от корзины к странице покупки у обеих групп имеет более высокое значение, чем этапом ранее (что, как мы предположили, может говорить или о возможности перехода к оплате прямо со страницы товара, либо об ошибках на сайте), у группы А здесь показатели лучше - 107%, а также 32% от первого этапа (у группы В эти показатели равны 102 и 28%)."
   ]
  },
  {
   "cell_type": "markdown",
   "id": "5NeHKQlqUZig",
   "metadata": {
    "id": "5NeHKQlqUZig"
   },
   "source": [
    "<a id=\"third_conclusion\"> </a>\n",
    "### Особенности данных перед проведением A/B-тестирования, вывод по разделу"
   ]
  },
  {
   "cell_type": "markdown",
   "id": "67ad3a7c",
   "metadata": {},
   "source": [
    "Перед проведением А/B теста еще раз охарактеризуем наши данные и подведем выводы по разделу.\n",
    "По итогам исследования и очистки данных мы получили следующую картину:\n",
    "- 3481 уникальных пользователей, из которых в группе А - 2604 человека, в группе В - 877 (соотношение: 1 к 3);\n",
    "- большая часть действий в обеих группах приходится на авторизацию (44%), далее идет посещение страницы продукта (29%), примерно одинаковые доли приходятся на покупки и корзину; разница в этих показателях между группами незначительна (не более 4%);\n",
    "- всего на пользователя приходится 2.23 уникальных события и 6.7 событий в среднем, для группы А эти доли несколько больше, для группы В - меньше;\n",
    "- наибольшая активность по дням приходится на середину исследуемого периода с пиковым значением 21 декабря, активность группы А более резкая, у В - более равномерная, особенно, до 20х чисел;\n",
    "- для обеих групп в целом характерно пропорциональное распределение тех или иных действий в любые из дней (лидерство за авторизацией, просмотр страницы и попеременное преобладание то просмотра корзины, то страницы оплаты);\n",
    "- группа А отличается лучшей конверсией при переходе с 1 на 2 действие и с 3 на 4, единственное преобладание у категории В - конверсия при переходе со страницы продукта в корзину, практически все процентные показатели по воронке лучше у группы А.\n",
    "\n",
    "**Для успешного проведения A/B теста необходимы следующие условия**:\n",
    "\n",
    "- количество пользователей в различных группах различается не более, чем на 1% - *условие не соблюдено*, крайне высокое различие;\n",
    "- различие ключевых метрик по группам не превышает 1% и не имеет статистической значимости - *условие частично соблюдено:* процентное соотношение в разделении по событиям довольно близкое, однако имеется различие по активностям в те или иные даты, а также конверсии;\n",
    "- попавший в одну из групп посетитель остаётся в этой группе до конца теста - *условие соблюдено*, пользователей, которые находятся одновременно в двух группах, нет."
   ]
  },
  {
   "cell_type": "markdown",
   "id": "2a723097",
   "metadata": {},
   "source": [
    "<a id=\"results\"> </a>\n",
    "## Оценка результатов A/В-тестирования"
   ]
  },
  {
   "cell_type": "markdown",
   "id": "f161cc7f",
   "metadata": {},
   "source": [
    "<a id=\"ab_results\"> </a>\n",
    "### Выводы о характере результатов A/В теста"
   ]
  },
  {
   "cell_type": "markdown",
   "id": "hQtgTowPWLS-",
   "metadata": {
    "id": "hQtgTowPWLS-"
   },
   "source": [
    "По итогам проведенного выше анализа можно сделать следующие выводы о характере результатов тестирования.\n",
    "\n",
    "На наш взгляд, **результаты не являются достоверными по следующим причинам**.\n",
    "\n",
    "1) **Неполнота данных по сравнению с требованиями ТЗ**. Это и отсутствие данных с 30 декабря по 4 января (из-за чего сократилось число пользователей, чей потенциальный лайфтайм равен 14 дням, и большое количеств о бездействующих пользователей в изначальном датафрейме. Все это привело к тому, что ожидаемое число участников теста снизилось с 6000 до 3500, т.е. почти в 2 раза. \n",
    "\n",
    "2) **Значительное неравенство между двумя тестовыми группами**. В идеальном тесте различие не должно превышать 1%, однако, в нашем случае контрольная группа А в три раза больше экспериментальной группы В. Соответственно, выборки неоднородные по своему характеру. \n",
    "\n",
    "3) **Неудачный временной промежуток для тестирования**. Во-первых, пересечение с новогодней акцией: хотя она не сильно отразилась на действиях в обеих группах (и у группы А, и у группы В заксировано снижение после 24 декабря), тем не менее, идеальный тест должен проходить без вмешательства внешних факторов, которые могут повлиять на его результаты. Кроме того, имеется подозрение на проведение 21 декабря (в день финального включения пользователей в тест) каких-либо распродаж или прочих акций, что объясняет небывалый рост активности в группе А, а также пиковое значение (пусть и не столь высокое) в группе В. Кроме того, обе группы различаются по своему стартовому положению: в начале проведения теста группа В проявляла куда большую активность, чем группа А, после чего у группы А начался резкий рост.\n",
    "\n",
    "4) **Наличие ряда пользователей в параллельном тесте**: как мы выяснили, значительное число пользователей одновременно принимало участие во втором тесте, подробности которого нам неизвестны. Учитывая, что участники были из обеих групп, мы не стали удалять таких пользователей, однако, параллельные тестирования не должны проводиться, чтобы не повлиять на чистоту результатов. \n",
    "\n",
    "5) **Тестирование не показало ожидаемых результатов касательно увеличения метрик группы В**. Более того, конверсионная последовательность неоднородна: на последнем этапе в обеих группах больше пользователей, чем на предыдущем. Если это не вызвано ошибкой, об этом нужно указывать информацию в ТЗ (чтобы рассматривать иные варианты конверсии).\n",
    "\n",
    "6) **Наличие мусорных данных в исходных данных о тестировании**: таких, как пользователи из другого региона, пользователи с более поздней регистрацией. \n",
    "\n",
    "7) **Формальный подход к проведению тестирования, допущение ошибок при работе с данными**: при первом взгляде на данные у нас имелось соответствие ТЗ (количество пользователей, % от европейцев), которое было опровергнуто после более детального знакомства с датафреймами. \n",
    "\n",
    "7) **Потенциальные технические проблемы, в том числе с которыми столкнулась группа В**: именно на нее приходится большой процент пропусков активности, особый рост активности в первые дни и прочие странности.\n",
    "\n",
    "Тестирование не соответствует ТЗ в целом: как видно из описания выше, многие пункты не были соблюдены, следовательно, **полученные результаты не отображают поставленных перед тестом задач**. Рекомендуется провести новое тестирование, обратив особое внимание на качество и характер данных."
   ]
  },
  {
   "cell_type": "markdown",
   "id": "ca8669c9",
   "metadata": {},
   "source": [
    "<a id=\"test_st_diff\"> </a>  \n",
    "### Проверка статистической разницы долей z-критерием"
   ]
  },
  {
   "cell_type": "code",
   "execution_count": 156,
   "id": "c4f7d06b",
   "metadata": {},
   "outputs": [
    {
     "data": {
      "text/html": [
       "<div>\n",
       "<style scoped>\n",
       "    .dataframe tbody tr th:only-of-type {\n",
       "        vertical-align: middle;\n",
       "    }\n",
       "\n",
       "    .dataframe tbody tr th {\n",
       "        vertical-align: top;\n",
       "    }\n",
       "\n",
       "    .dataframe thead th {\n",
       "        text-align: right;\n",
       "    }\n",
       "</style>\n",
       "<table border=\"1\" class=\"dataframe\">\n",
       "  <thead>\n",
       "    <tr style=\"text-align: right;\">\n",
       "      <th>group</th>\n",
       "      <th>A_users</th>\n",
       "      <th>B_users</th>\n",
       "      <th>A_users_diff</th>\n",
       "      <th>B_users_diff</th>\n",
       "    </tr>\n",
       "    <tr>\n",
       "      <th>event_name</th>\n",
       "      <th></th>\n",
       "      <th></th>\n",
       "      <th></th>\n",
       "      <th></th>\n",
       "    </tr>\n",
       "  </thead>\n",
       "  <tbody>\n",
       "    <tr>\n",
       "      <th>login</th>\n",
       "      <td>2604</td>\n",
       "      <td>877</td>\n",
       "      <td>NaN</td>\n",
       "      <td>NaN</td>\n",
       "    </tr>\n",
       "    <tr>\n",
       "      <th>product_page</th>\n",
       "      <td>1685</td>\n",
       "      <td>493</td>\n",
       "      <td>-919.0</td>\n",
       "      <td>-384.0</td>\n",
       "    </tr>\n",
       "    <tr>\n",
       "      <th>product_cart</th>\n",
       "      <td>782</td>\n",
       "      <td>244</td>\n",
       "      <td>-903.0</td>\n",
       "      <td>-249.0</td>\n",
       "    </tr>\n",
       "    <tr>\n",
       "      <th>purchase</th>\n",
       "      <td>833</td>\n",
       "      <td>249</td>\n",
       "      <td>51.0</td>\n",
       "      <td>5.0</td>\n",
       "    </tr>\n",
       "  </tbody>\n",
       "</table>\n",
       "</div>"
      ],
      "text/plain": [
       "group         A_users  B_users  A_users_diff  B_users_diff\n",
       "event_name                                                \n",
       "login            2604      877           NaN           NaN\n",
       "product_page     1685      493        -919.0        -384.0\n",
       "product_cart      782      244        -903.0        -249.0\n",
       "purchase          833      249          51.0           5.0"
      ]
     },
     "execution_count": 156,
     "metadata": {},
     "output_type": "execute_result"
    }
   ],
   "source": [
    "#еще раз вызовем функцию для создания переменной, в которую войдут данные о событиях всех групп\n",
    "\n",
    "steps = check_conversion(rec_test)\n",
    "steps = steps[['A_users', 'B_users', 'A_users_diff','B_users_diff']]\n",
    "steps"
   ]
  },
  {
   "cell_type": "markdown",
   "id": "34e4b7b2",
   "metadata": {},
   "source": [
    "Сравнение пропорций двух генеральных совокупностей осуществим по выборкам из них путем проверки гипотезы о равенстве долей посредством Z-теста. Для проведения теста мы будем использовать доли клиентов, совершивших то или иное событие, от общего числа уникальных пользователей в группе.\n",
    "\n",
    "Сформулируем общие гипотезы:\n",
    "- Н0 - статистически значимые различия между долями пользователей, совершивших то или иное действие, отсутствуют. \n",
    "- альтернативная гипотеза - имеются статистические различия между долями пользователей, совершивших то или ное действие."
   ]
  },
  {
   "cell_type": "markdown",
   "id": "a1a3cae8",
   "metadata": {},
   "source": [
    "Установим уровень статистической значимости теста на значение в 0.05. При уменьшении уровня статистической значимости снижается критический промежуток, при попадании в который нулевую гипотезу отвергают (увеличивается вероятность ошибки второго рода, т.е. возможность неверного принятия гипотезы). Мы предпочтем допустить ошибку первого рода и увеличить вероятность неверного отклонения верной гипотезы, однако, не будем сильно завышать уровень. Таким образом, уровень в 0.05 представляется наиболее подходящим вариантом. \n",
    "\n",
    "Также нам потребуется поправка Бонферрони, так как на одном наборе данных мы проводим три статистических теста.  "
   ]
  },
  {
   "cell_type": "code",
   "execution_count": 157,
   "id": "0d1a6be3",
   "metadata": {},
   "outputs": [],
   "source": [
    "#cоздадим переменную, в которую включим все необходимые расчеты для получения p-value через величину Z.\n",
    "\n",
    "def z_stat(next):\n",
    "    previous = np.array(steps[['A_users', 'B_users']])[0]\n",
    "    p1 = next[0]/previous[0]  \n",
    "    p2 = next[1]/previous[1]\n",
    "    p_combined = (next[0] + next[1]) / (previous[0] + previous[1])\n",
    "    difference = p1 - p2 \n",
    "    z_value = difference / mth.sqrt(p_combined * (1 - p_combined) * (1/previous[0] + 1/previous[1]))\n",
    "    distr = st.norm(0, 1) \n",
    "    alpha = 0.05 / 3\n",
    "    p_value = (1 - distr.cdf(abs(z_value))) * 2\n",
    "    print('p-значение: ', p_value.round(3))\n",
    "    if p_value < alpha:\n",
    "        print('Отвергаем нулевую гипотезу: между долями есть значимая разница')\n",
    "    else:\n",
    "        print(\n",
    "        'Не получилось отвергнуть нулевую гипотезу, нет оснований считать доли разными') "
   ]
  },
  {
   "cell_type": "code",
   "execution_count": 158,
   "id": "ae3bb548",
   "metadata": {},
   "outputs": [
    {
     "name": "stdout",
     "output_type": "stream",
     "text": [
      "проверка события product_page\n",
      "p-значение:  0.0\n",
      "Отвергаем нулевую гипотезу: между долями есть значимая разница\n",
      "\n",
      "проверка события product_cart\n",
      "p-значение:  0.215\n",
      "Не получилось отвергнуть нулевую гипотезу, нет оснований считать доли разными\n",
      "\n",
      "проверка события purchase\n",
      "p-значение:  0.047\n",
      "Не получилось отвергнуть нулевую гипотезу, нет оснований считать доли разными\n",
      "\n"
     ]
    }
   ],
   "source": [
    "#пройдем с помощью цикла по всем значениям\n",
    "\n",
    "for i in range(1, len(steps)):\n",
    "    print(f\"проверка события {steps.index[i]}\")\n",
    "    next_event = np.array(steps[['A_users', 'B_users']])[i]\n",
    "    z_stat(next_event)\n",
    "    print()"
   ]
  },
  {
   "cell_type": "markdown",
   "id": "4ae42878",
   "metadata": {},
   "source": [
    "Согласно полученным результатам, мы отвергли только одну нулевую гипотезу о равенстве долей пользователей групп А и В, совершивших просмотр страницы продукта. Как мы помним из ранее проведенного исследования, действительно, пропорции между в этой категории между группами различались в наибольшей степени, в то время как в остальных были достаточно близки, что и подтвердили результаты z-теста. "
   ]
  },
  {
   "cell_type": "markdown",
   "id": "f7f2a1df",
   "metadata": {},
   "source": [
    "<a id=\"conclusion\"> </a>\n",
    "\n",
    "## Выводы"
   ]
  },
  {
   "cell_type": "markdown",
   "id": "40a90165",
   "metadata": {},
   "source": [
    "1) **Рассмотренное A/B тестирование признано неудачным ввиду большого числа ошибок**, таких как неполнота данных, неудачный временной промежуток, пересечение пользователей между тестами и с маркетинговыми событиями, наличие мусорных данных и возможных технических проблем, с которыми столкнулись пользователи, а также отсутствие ожидаемых метрик в 10%.\n",
    "**Главные претензии к тесту**: \n",
    "- значительное неравенство тестируемых групп (75% в пользу А);\n",
    "- допущение формального подхода к тестированию, где недостаточная проверка данных привела к ряду серьезных ошибок;\n",
    "- отсутствие большого числа дополнительных данных (начиная от данных по действиям после 30 декабря, заканчивая описанием структуры сайта, возможностями перехода между страницами и т.д. для более точного вычисления конверсии);\n",
    "\n",
    "2) Ввиду необходимости очистки данных была потерена значительная часть участников тестирования. **Полученные после обработки данные не соответствовали требованиям ТЗ**: из 6 тысяч участников в нашем распоряжении осталось всего около 3,5 тысяч человек, большинство пунктов ТЗ не были соблюдены. Соответственно, **полученные результаты не отображают поставленных перед тестом задач заказчиком**. Его результаты могут быть использованы в работе с осторожностью.\n",
    "\n",
    "3) Проверка z-тестом показала, что **между долями пользователей групп А и В отсутствует значимое различие при совершении конверсий при переходе со страницы продукта на страницу корзины и из нее - на страницу покупки**. Это подтверждают и не столь значительные различия в воронке конверсии, где максимальное отличие приходится на первый этап воронки (от авторизации - к странице с товаром), а также близкие пропорции распределения действий пользователей по группам. \n",
    "Следовательно, учитывая все несовершенство теста и полученные результаты, **можно предположить, что новая система рекомендации, которая тестировалась на группе В, не оправдала себя на текущий момент или ее тестирование сопровождалось большим числом ошибок**, ввиду которых возникли проблемы с данными по этой группе. \n",
    "\n",
    "**Рекомендации**\n",
    "- для выявления тех или иных закономерностей крайне рекомендуется **провести тестирование повторно, уделяя более значительное внимание отбору данных для проведения теста** и учитывая возможные факторы, которые будут влиять на него (маркетинговые события, другие тесты и т.д.);\n",
    "\n",
    "- перед проведением А/B теста рекомендуется **провести предварительный А/А тест для проверки корректности полученных данных**;\n",
    "\n",
    "- для более точной обработки данных рекомендуется **сообщать о структуре сайта**, возможности перехода между разделами и т.д. для выявления более точной конверсии;\n",
    "\n",
    "- **провести проверку технической стороны работы сайта** с целью возможного выявления ошибок и их недопущения при дальнейших тестированиях."
   ]
  }
 ],
 "metadata": {
  "ExecuteTimeLog": [
   {
    "duration": 1432,
    "start_time": "2023-01-26T08:16:45.796Z"
   },
   {
    "duration": 5,
    "start_time": "2023-01-26T08:16:47.231Z"
   },
   {
    "duration": 11,
    "start_time": "2023-01-26T08:16:47.237Z"
   },
   {
    "duration": 1205,
    "start_time": "2023-01-26T08:16:47.250Z"
   },
   {
    "duration": 13,
    "start_time": "2023-01-26T08:16:48.457Z"
   },
   {
    "duration": 12,
    "start_time": "2023-01-26T08:16:48.471Z"
   },
   {
    "duration": 12,
    "start_time": "2023-01-26T08:16:48.484Z"
   },
   {
    "duration": 18,
    "start_time": "2023-01-26T08:16:48.497Z"
   },
   {
    "duration": 97,
    "start_time": "2023-01-26T08:16:48.516Z"
   },
   {
    "duration": 3,
    "start_time": "2023-01-26T08:16:48.615Z"
   },
   {
    "duration": 11,
    "start_time": "2023-01-26T08:16:48.638Z"
   },
   {
    "duration": 311,
    "start_time": "2023-01-26T08:16:48.651Z"
   },
   {
    "duration": 46,
    "start_time": "2023-01-26T08:16:48.963Z"
   },
   {
    "duration": 25,
    "start_time": "2023-01-26T08:16:49.037Z"
   },
   {
    "duration": 12,
    "start_time": "2023-01-26T08:16:49.063Z"
   },
   {
    "duration": 12,
    "start_time": "2023-01-26T08:16:49.077Z"
   },
   {
    "duration": 21,
    "start_time": "2023-01-26T08:16:49.091Z"
   },
   {
    "duration": 38,
    "start_time": "2023-01-26T08:16:49.114Z"
   },
   {
    "duration": 103,
    "start_time": "2023-01-26T08:16:49.154Z"
   },
   {
    "duration": 285,
    "start_time": "2023-01-26T08:16:49.258Z"
   },
   {
    "duration": 6,
    "start_time": "2023-01-26T08:16:49.545Z"
   },
   {
    "duration": 41,
    "start_time": "2023-01-26T08:16:49.553Z"
   },
   {
    "duration": 178,
    "start_time": "2023-01-26T08:16:49.595Z"
   },
   {
    "duration": 9,
    "start_time": "2023-01-26T08:16:49.775Z"
   },
   {
    "duration": 10,
    "start_time": "2023-01-26T08:16:49.786Z"
   },
   {
    "duration": 352,
    "start_time": "2023-01-26T08:16:49.798Z"
   },
   {
    "duration": 12,
    "start_time": "2023-01-26T08:16:50.152Z"
   },
   {
    "duration": 7,
    "start_time": "2023-01-26T08:16:50.168Z"
   },
   {
    "duration": 37,
    "start_time": "2023-01-26T08:16:50.177Z"
   },
   {
    "duration": 27,
    "start_time": "2023-01-26T08:16:50.216Z"
   },
   {
    "duration": 24,
    "start_time": "2023-01-26T08:16:50.245Z"
   },
   {
    "duration": 11,
    "start_time": "2023-01-26T08:16:50.271Z"
   },
   {
    "duration": 6,
    "start_time": "2023-01-26T08:16:50.283Z"
   },
   {
    "duration": 172,
    "start_time": "2023-01-26T08:16:50.291Z"
   },
   {
    "duration": 12,
    "start_time": "2023-01-26T08:16:50.464Z"
   },
   {
    "duration": 36,
    "start_time": "2023-01-26T08:16:50.478Z"
   },
   {
    "duration": 27,
    "start_time": "2023-01-26T08:16:50.516Z"
   },
   {
    "duration": 20,
    "start_time": "2023-01-26T08:16:50.544Z"
   },
   {
    "duration": 490,
    "start_time": "2023-01-26T08:16:50.566Z"
   },
   {
    "duration": 214,
    "start_time": "2023-01-26T08:16:51.058Z"
   },
   {
    "duration": 12,
    "start_time": "2023-01-26T08:16:51.273Z"
   },
   {
    "duration": 8,
    "start_time": "2023-01-26T08:16:51.287Z"
   },
   {
    "duration": 21,
    "start_time": "2023-01-26T08:16:51.296Z"
   },
   {
    "duration": 32,
    "start_time": "2023-01-26T08:16:51.318Z"
   },
   {
    "duration": 14,
    "start_time": "2023-01-26T08:16:51.351Z"
   },
   {
    "duration": 13,
    "start_time": "2023-01-26T08:16:51.367Z"
   },
   {
    "duration": 24,
    "start_time": "2023-01-26T08:16:51.381Z"
   },
   {
    "duration": 6,
    "start_time": "2023-01-26T08:16:51.406Z"
   },
   {
    "duration": 31,
    "start_time": "2023-01-26T08:16:51.414Z"
   },
   {
    "duration": 1126,
    "start_time": "2023-01-26T08:16:51.446Z"
   },
   {
    "duration": 9,
    "start_time": "2023-01-26T08:16:52.574Z"
   },
   {
    "duration": 26,
    "start_time": "2023-01-26T08:16:52.585Z"
   },
   {
    "duration": 14,
    "start_time": "2023-01-26T08:16:52.613Z"
   },
   {
    "duration": 21,
    "start_time": "2023-01-26T08:16:52.629Z"
   },
   {
    "duration": 13,
    "start_time": "2023-01-26T08:16:52.652Z"
   },
   {
    "duration": 27,
    "start_time": "2023-01-26T08:16:52.666Z"
   },
   {
    "duration": 6,
    "start_time": "2023-01-26T08:16:52.695Z"
   },
   {
    "duration": 6,
    "start_time": "2023-01-26T08:16:52.737Z"
   },
   {
    "duration": 53,
    "start_time": "2023-01-26T08:16:52.745Z"
   },
   {
    "duration": 199,
    "start_time": "2023-01-26T08:16:52.800Z"
   },
   {
    "duration": 61,
    "start_time": "2023-01-26T08:16:53.000Z"
   },
   {
    "duration": 10,
    "start_time": "2023-01-26T08:16:53.063Z"
   },
   {
    "duration": 69,
    "start_time": "2023-01-26T08:16:53.074Z"
   },
   {
    "duration": 63,
    "start_time": "2023-01-26T08:16:53.145Z"
   },
   {
    "duration": 201,
    "start_time": "2023-01-26T08:16:53.210Z"
   },
   {
    "duration": 203,
    "start_time": "2023-01-26T08:16:53.413Z"
   },
   {
    "duration": 84,
    "start_time": "2023-01-26T08:16:53.618Z"
   },
   {
    "duration": 44,
    "start_time": "2023-01-26T08:16:53.704Z"
   },
   {
    "duration": 373,
    "start_time": "2023-01-26T08:16:53.749Z"
   },
   {
    "duration": 4,
    "start_time": "2023-01-26T08:16:54.123Z"
   },
   {
    "duration": 32,
    "start_time": "2023-01-26T08:16:54.129Z"
   },
   {
    "duration": 4,
    "start_time": "2023-01-26T08:16:54.162Z"
   },
   {
    "duration": 320,
    "start_time": "2023-01-26T08:16:54.167Z"
   },
   {
    "duration": 72,
    "start_time": "2023-01-26T08:16:54.488Z"
   },
   {
    "duration": 40,
    "start_time": "2023-01-26T08:16:54.562Z"
   },
   {
    "duration": 15,
    "start_time": "2023-01-26T08:16:54.603Z"
   },
   {
    "duration": 50,
    "start_time": "2023-01-26T08:16:54.620Z"
   },
   {
    "duration": 5,
    "start_time": "2023-01-26T08:16:54.671Z"
   },
   {
    "duration": 14,
    "start_time": "2023-01-26T08:16:54.677Z"
   },
   {
    "duration": 16,
    "start_time": "2023-01-26T08:28:54.079Z"
   },
   {
    "duration": 31,
    "start_time": "2023-01-26T08:53:09.250Z"
   },
   {
    "duration": 5,
    "start_time": "2023-01-26T08:53:20.722Z"
   },
   {
    "duration": 1456,
    "start_time": "2023-02-19T10:41:03.577Z"
   },
   {
    "duration": 5,
    "start_time": "2023-02-19T10:41:05.035Z"
   },
   {
    "duration": 18,
    "start_time": "2023-02-19T10:41:05.041Z"
   },
   {
    "duration": 926,
    "start_time": "2023-02-19T10:41:05.062Z"
   },
   {
    "duration": 11,
    "start_time": "2023-02-19T10:41:05.990Z"
   },
   {
    "duration": 8,
    "start_time": "2023-02-19T10:41:06.002Z"
   },
   {
    "duration": 12,
    "start_time": "2023-02-19T10:41:06.012Z"
   },
   {
    "duration": 8,
    "start_time": "2023-02-19T10:41:06.026Z"
   },
   {
    "duration": 106,
    "start_time": "2023-02-19T10:41:06.035Z"
   },
   {
    "duration": 2,
    "start_time": "2023-02-19T10:41:06.144Z"
   },
   {
    "duration": 14,
    "start_time": "2023-02-19T10:41:06.148Z"
   },
   {
    "duration": 287,
    "start_time": "2023-02-19T10:41:06.164Z"
   },
   {
    "duration": 66,
    "start_time": "2023-02-19T10:41:06.452Z"
   },
   {
    "duration": 22,
    "start_time": "2023-02-19T10:41:06.520Z"
   },
   {
    "duration": 12,
    "start_time": "2023-02-19T10:41:06.543Z"
   },
   {
    "duration": 13,
    "start_time": "2023-02-19T10:41:06.557Z"
   },
   {
    "duration": 46,
    "start_time": "2023-02-19T10:41:06.574Z"
   },
   {
    "duration": 26,
    "start_time": "2023-02-19T10:41:06.622Z"
   },
   {
    "duration": 120,
    "start_time": "2023-02-19T10:41:06.651Z"
   },
   {
    "duration": 294,
    "start_time": "2023-02-19T10:41:06.773Z"
   },
   {
    "duration": 7,
    "start_time": "2023-02-19T10:41:07.069Z"
   },
   {
    "duration": 63,
    "start_time": "2023-02-19T10:41:07.078Z"
   },
   {
    "duration": 160,
    "start_time": "2023-02-19T10:41:07.142Z"
   },
   {
    "duration": 10,
    "start_time": "2023-02-19T10:41:07.310Z"
   },
   {
    "duration": 15,
    "start_time": "2023-02-19T10:41:07.322Z"
   },
   {
    "duration": 310,
    "start_time": "2023-02-19T10:41:07.339Z"
   },
   {
    "duration": 13,
    "start_time": "2023-02-19T10:41:07.650Z"
   },
   {
    "duration": 7,
    "start_time": "2023-02-19T10:41:07.667Z"
   },
   {
    "duration": 52,
    "start_time": "2023-02-19T10:41:07.675Z"
   },
   {
    "duration": 6,
    "start_time": "2023-02-19T10:41:07.729Z"
   },
   {
    "duration": 9,
    "start_time": "2023-02-19T10:41:07.737Z"
   },
   {
    "duration": 9,
    "start_time": "2023-02-19T10:41:07.747Z"
   },
   {
    "duration": 6,
    "start_time": "2023-02-19T10:41:07.758Z"
   },
   {
    "duration": 152,
    "start_time": "2023-02-19T10:41:07.766Z"
   },
   {
    "duration": 9,
    "start_time": "2023-02-19T10:41:07.920Z"
   },
   {
    "duration": 19,
    "start_time": "2023-02-19T10:41:07.931Z"
   },
   {
    "duration": 14,
    "start_time": "2023-02-19T10:41:07.951Z"
   },
   {
    "duration": 14,
    "start_time": "2023-02-19T10:41:07.967Z"
   },
   {
    "duration": 512,
    "start_time": "2023-02-19T10:41:08.010Z"
   },
   {
    "duration": 275,
    "start_time": "2023-02-19T10:41:08.523Z"
   },
   {
    "duration": 16,
    "start_time": "2023-02-19T10:41:08.800Z"
   },
   {
    "duration": 10,
    "start_time": "2023-02-19T10:41:08.818Z"
   },
   {
    "duration": 18,
    "start_time": "2023-02-19T10:41:08.830Z"
   },
   {
    "duration": 17,
    "start_time": "2023-02-19T10:41:08.849Z"
   },
   {
    "duration": 44,
    "start_time": "2023-02-19T10:41:08.867Z"
   },
   {
    "duration": 8,
    "start_time": "2023-02-19T10:41:08.912Z"
   },
   {
    "duration": 18,
    "start_time": "2023-02-19T10:41:08.921Z"
   },
   {
    "duration": 5,
    "start_time": "2023-02-19T10:41:08.941Z"
   },
   {
    "duration": 12,
    "start_time": "2023-02-19T10:41:08.947Z"
   },
   {
    "duration": 1020,
    "start_time": "2023-02-19T10:41:08.960Z"
   },
   {
    "duration": 9,
    "start_time": "2023-02-19T10:41:09.982Z"
   },
   {
    "duration": 13,
    "start_time": "2023-02-19T10:41:09.992Z"
   },
   {
    "duration": 5,
    "start_time": "2023-02-19T10:41:10.007Z"
   },
   {
    "duration": 19,
    "start_time": "2023-02-19T10:41:10.013Z"
   },
   {
    "duration": 13,
    "start_time": "2023-02-19T10:41:10.033Z"
   },
   {
    "duration": 29,
    "start_time": "2023-02-19T10:41:10.048Z"
   },
   {
    "duration": 31,
    "start_time": "2023-02-19T10:41:10.079Z"
   },
   {
    "duration": 7,
    "start_time": "2023-02-19T10:41:10.112Z"
   },
   {
    "duration": 47,
    "start_time": "2023-02-19T10:41:10.121Z"
   },
   {
    "duration": 173,
    "start_time": "2023-02-19T10:41:10.170Z"
   },
   {
    "duration": 74,
    "start_time": "2023-02-19T10:41:10.345Z"
   },
   {
    "duration": 9,
    "start_time": "2023-02-19T10:41:10.421Z"
   },
   {
    "duration": 9,
    "start_time": "2023-02-19T10:41:10.432Z"
   },
   {
    "duration": 103,
    "start_time": "2023-02-19T10:41:10.442Z"
   },
   {
    "duration": 235,
    "start_time": "2023-02-19T10:41:10.547Z"
   },
   {
    "duration": 206,
    "start_time": "2023-02-19T10:41:10.784Z"
   },
   {
    "duration": 92,
    "start_time": "2023-02-19T10:41:10.992Z"
   },
   {
    "duration": 43,
    "start_time": "2023-02-19T10:41:11.086Z"
   },
   {
    "duration": 471,
    "start_time": "2023-02-19T10:41:11.131Z"
   },
   {
    "duration": 6,
    "start_time": "2023-02-19T10:41:11.604Z"
   },
   {
    "duration": 41,
    "start_time": "2023-02-19T10:41:11.612Z"
   },
   {
    "duration": 6,
    "start_time": "2023-02-19T10:41:11.655Z"
   },
   {
    "duration": 247,
    "start_time": "2023-02-19T10:41:11.663Z"
   },
   {
    "duration": 65,
    "start_time": "2023-02-19T10:41:11.911Z"
   },
   {
    "duration": 72,
    "start_time": "2023-02-19T10:41:11.977Z"
   },
   {
    "duration": 14,
    "start_time": "2023-02-19T10:41:12.052Z"
   },
   {
    "duration": 50,
    "start_time": "2023-02-19T10:41:12.068Z"
   },
   {
    "duration": 5,
    "start_time": "2023-02-19T10:41:12.120Z"
   },
   {
    "duration": 14,
    "start_time": "2023-02-19T10:41:12.126Z"
   },
   {
    "duration": 3,
    "start_time": "2023-02-19T17:41:59.168Z"
   },
   {
    "duration": 3,
    "start_time": "2023-02-19T17:41:59.181Z"
   },
   {
    "duration": 2,
    "start_time": "2023-02-19T17:41:59.194Z"
   },
   {
    "duration": 524,
    "start_time": "2023-02-19T17:41:59.208Z"
   },
   {
    "duration": 7,
    "start_time": "2023-02-19T17:41:59.734Z"
   },
   {
    "duration": 14,
    "start_time": "2023-02-19T17:41:59.742Z"
   },
   {
    "duration": 8,
    "start_time": "2023-02-19T17:41:59.758Z"
   },
   {
    "duration": 9,
    "start_time": "2023-02-19T17:41:59.767Z"
   },
   {
    "duration": 102,
    "start_time": "2023-02-19T17:41:59.778Z"
   },
   {
    "duration": 7,
    "start_time": "2023-02-19T17:41:59.881Z"
   },
   {
    "duration": 12,
    "start_time": "2023-02-19T17:41:59.910Z"
   },
   {
    "duration": 266,
    "start_time": "2023-02-19T17:41:59.924Z"
   },
   {
    "duration": 60,
    "start_time": "2023-02-19T17:42:00.193Z"
   },
   {
    "duration": 58,
    "start_time": "2023-02-19T17:42:00.255Z"
   },
   {
    "duration": 12,
    "start_time": "2023-02-19T17:42:00.314Z"
   },
   {
    "duration": 30,
    "start_time": "2023-02-19T17:42:00.327Z"
   },
   {
    "duration": 11,
    "start_time": "2023-02-19T17:42:00.359Z"
   },
   {
    "duration": 26,
    "start_time": "2023-02-19T17:42:00.372Z"
   },
   {
    "duration": 102,
    "start_time": "2023-02-19T17:42:00.399Z"
   },
   {
    "duration": 252,
    "start_time": "2023-02-19T17:42:00.510Z"
   },
   {
    "duration": 6,
    "start_time": "2023-02-19T17:42:00.764Z"
   },
   {
    "duration": 59,
    "start_time": "2023-02-19T17:42:00.771Z"
   },
   {
    "duration": 153,
    "start_time": "2023-02-19T17:42:00.832Z"
   },
   {
    "duration": 7,
    "start_time": "2023-02-19T17:42:00.987Z"
   },
   {
    "duration": 24,
    "start_time": "2023-02-19T17:42:00.996Z"
   },
   {
    "duration": 339,
    "start_time": "2023-02-19T17:42:01.022Z"
   },
   {
    "duration": 12,
    "start_time": "2023-02-19T17:42:01.362Z"
   },
   {
    "duration": 14,
    "start_time": "2023-02-19T17:42:01.375Z"
   },
   {
    "duration": 61,
    "start_time": "2023-02-19T17:42:01.390Z"
   },
   {
    "duration": 6,
    "start_time": "2023-02-19T17:42:01.452Z"
   },
   {
    "duration": 102,
    "start_time": "2023-02-19T17:42:01.462Z"
   },
   {
    "duration": 17,
    "start_time": "2023-02-19T17:42:01.566Z"
   },
   {
    "duration": 18,
    "start_time": "2023-02-19T17:42:01.584Z"
   },
   {
    "duration": 144,
    "start_time": "2023-02-19T17:42:01.603Z"
   },
   {
    "duration": 10,
    "start_time": "2023-02-19T17:42:01.748Z"
   },
   {
    "duration": 27,
    "start_time": "2023-02-19T17:42:01.759Z"
   },
   {
    "duration": 22,
    "start_time": "2023-02-19T17:42:01.788Z"
   },
   {
    "duration": 17,
    "start_time": "2023-02-19T17:42:01.811Z"
   },
   {
    "duration": 418,
    "start_time": "2023-02-19T17:42:01.830Z"
   },
   {
    "duration": 218,
    "start_time": "2023-02-19T17:42:02.250Z"
   },
   {
    "duration": 12,
    "start_time": "2023-02-19T17:42:02.470Z"
   },
   {
    "duration": 10,
    "start_time": "2023-02-19T17:42:02.484Z"
   },
   {
    "duration": 22,
    "start_time": "2023-02-19T17:42:02.495Z"
   },
   {
    "duration": 17,
    "start_time": "2023-02-19T17:42:02.519Z"
   },
   {
    "duration": 15,
    "start_time": "2023-02-19T17:42:02.538Z"
   },
   {
    "duration": 8,
    "start_time": "2023-02-19T17:42:02.554Z"
   },
   {
    "duration": 56,
    "start_time": "2023-02-19T17:42:02.564Z"
   },
   {
    "duration": 7,
    "start_time": "2023-02-19T17:42:02.622Z"
   },
   {
    "duration": 12,
    "start_time": "2023-02-19T17:42:02.630Z"
   },
   {
    "duration": 1038,
    "start_time": "2023-02-19T17:42:02.643Z"
   },
   {
    "duration": 8,
    "start_time": "2023-02-19T17:42:03.683Z"
   },
   {
    "duration": 27,
    "start_time": "2023-02-19T17:42:03.693Z"
   },
   {
    "duration": 7,
    "start_time": "2023-02-19T17:42:03.722Z"
   },
   {
    "duration": 19,
    "start_time": "2023-02-19T17:42:03.731Z"
   },
   {
    "duration": 13,
    "start_time": "2023-02-19T17:42:03.751Z"
   },
   {
    "duration": 61,
    "start_time": "2023-02-19T17:42:03.765Z"
   },
   {
    "duration": 5,
    "start_time": "2023-02-19T17:42:03.827Z"
   },
   {
    "duration": 5,
    "start_time": "2023-02-19T17:42:03.834Z"
   },
   {
    "duration": 47,
    "start_time": "2023-02-19T17:42:03.841Z"
   },
   {
    "duration": 25,
    "start_time": "2023-02-19T17:42:03.889Z"
   },
   {
    "duration": 35,
    "start_time": "2023-02-19T17:42:03.915Z"
   },
   {
    "duration": 9,
    "start_time": "2023-02-19T17:42:03.952Z"
   },
   {
    "duration": 6,
    "start_time": "2023-02-19T17:42:03.963Z"
   },
   {
    "duration": 71,
    "start_time": "2023-02-19T17:42:03.971Z"
   },
   {
    "duration": 216,
    "start_time": "2023-02-19T17:42:04.044Z"
   },
   {
    "duration": 210,
    "start_time": "2023-02-19T17:42:04.261Z"
   },
   {
    "duration": 86,
    "start_time": "2023-02-19T17:42:04.473Z"
   },
   {
    "duration": 20,
    "start_time": "2023-02-19T17:42:04.561Z"
   },
   {
    "duration": 501,
    "start_time": "2023-02-19T17:42:04.583Z"
   },
   {
    "duration": 6,
    "start_time": "2023-02-19T17:42:05.086Z"
   },
   {
    "duration": 34,
    "start_time": "2023-02-19T17:42:05.093Z"
   },
   {
    "duration": 4,
    "start_time": "2023-02-19T17:42:05.129Z"
   },
   {
    "duration": 91,
    "start_time": "2023-02-19T17:42:05.135Z"
   },
   {
    "duration": 82,
    "start_time": "2023-02-19T17:42:05.228Z"
   },
   {
    "duration": 43,
    "start_time": "2023-02-19T17:42:05.312Z"
   },
   {
    "duration": 10,
    "start_time": "2023-02-19T17:42:05.356Z"
   },
   {
    "duration": 56,
    "start_time": "2023-02-19T17:42:05.368Z"
   },
   {
    "duration": 4,
    "start_time": "2023-02-19T17:42:05.426Z"
   },
   {
    "duration": 15,
    "start_time": "2023-02-19T17:42:05.432Z"
   }
  ],
  "colab": {
   "provenance": []
  },
  "kernelspec": {
   "display_name": "Python 3 (ipykernel)",
   "language": "python",
   "name": "python3"
  },
  "language_info": {
   "codemirror_mode": {
    "name": "ipython",
    "version": 3
   },
   "file_extension": ".py",
   "mimetype": "text/x-python",
   "name": "python",
   "nbconvert_exporter": "python",
   "pygments_lexer": "ipython3",
   "version": "3.9.5"
  },
  "toc": {
   "base_numbering": 1,
   "nav_menu": {},
   "number_sections": true,
   "sideBar": true,
   "skip_h1_title": true,
   "title_cell": "Table of Contents",
   "title_sidebar": "Contents",
   "toc_cell": false,
   "toc_position": {},
   "toc_section_display": true,
   "toc_window_display": false
  }
 },
 "nbformat": 4,
 "nbformat_minor": 5
}
