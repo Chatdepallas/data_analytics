{
 "cells": [
  {
   "cell_type": "markdown",
   "metadata": {},
   "source": [
    "# Анализ базы данных книжного сервиса"
   ]
  },
  {
   "cell_type": "markdown",
   "metadata": {},
   "source": [
    "**Цель проекта**:  анализ информации, содержащейся в базе данных сервиса для чтения книг для последующего формулирования ценностного предложения для нового продукта."
   ]
  },
  {
   "cell_type": "markdown",
   "metadata": {},
   "source": [
    "**Этапы реализации проекта:** \n",
    "\n",
    "[1. Загрузка библиотек, выгрузка примеров данных, изучение общей информации о таблице](#general)\n",
    "\n",
    "[2. Подсчет книг, вышедших после 1 января 2000 года](#book)\n",
    "\n",
    "[3. Подсчет количества обзоров и средней оценки для книг](#reviews_scores)\n",
    "\n",
    "[4. Определение издательства с наибольшим количеством книг свыше 50 страниц](#publisher)\n",
    "\n",
    "[5. Определение автора с самой высокой средней оценкой книг (свыше 50 оценок)](#author)\n",
    "\n",
    "[6. Подсчет среднего количества обзоров от пользователей, которые поставили больше 50 оценок](#users)\n",
    "\n",
    "[7. Выводы](#conclusion)"
   ]
  },
  {
   "cell_type": "markdown",
   "metadata": {},
   "source": [
    "<a id=\"general\"> </a>\n",
    "## Загрузка библиотек, выгрузка примеров данных, изучение общей информации о таблице"
   ]
  },
  {
   "cell_type": "code",
   "execution_count": 17,
   "metadata": {},
   "outputs": [],
   "source": [
    "# импортируем библиотеки\n",
    "import pandas as pd\n",
    "from sqlalchemy import create_engine\n",
    "\n",
    "# устанавливаем параметры\n",
    "db_config = {} # название базы данных\n",
    "connection_string = 'postgresql://{}:{}@{}:{}/{}'.format(db_config['user'],\n",
    " db_config['pwd'],\n",
    " db_config['host'],\n",
    " db_config['port'],\n",
    " db_config['db'])\n",
    "\n",
    "# сохраняем коннектор\n",
    "engine = create_engine(connection_string, connect_args={'sslmode':'require'}) "
   ]
  },
  {
   "cell_type": "code",
   "execution_count": 18,
   "metadata": {},
   "outputs": [],
   "source": [
    "#создадим функцию, которая упростит выдачу результата запросов\n",
    "\n",
    "def sql_query(this_query):\n",
    "    return pd.io.sql.read_sql(this_query, con = engine) "
   ]
  },
  {
   "cell_type": "markdown",
   "metadata": {},
   "source": [
    "В распоряжении компании имеются **следующие таблицы**:\n",
    "- `books` (информация о книгах)\n",
    "- `authors` (информация об авторах)\n",
    "- `publishers` (информация об издателях)\n",
    "- `ratings` (информация о рейтинге)\n",
    "- `reviews` (информация об обзорах)"
   ]
  },
  {
   "cell_type": "code",
   "execution_count": 19,
   "metadata": {},
   "outputs": [
    {
     "data": {
      "text/html": [
       "<div>\n",
       "<style scoped>\n",
       "    .dataframe tbody tr th:only-of-type {\n",
       "        vertical-align: middle;\n",
       "    }\n",
       "\n",
       "    .dataframe tbody tr th {\n",
       "        vertical-align: top;\n",
       "    }\n",
       "\n",
       "    .dataframe thead th {\n",
       "        text-align: right;\n",
       "    }\n",
       "</style>\n",
       "<table border=\"1\" class=\"dataframe\">\n",
       "  <thead>\n",
       "    <tr style=\"text-align: right;\">\n",
       "      <th></th>\n",
       "      <th>book_id</th>\n",
       "      <th>author_id</th>\n",
       "      <th>title</th>\n",
       "      <th>num_pages</th>\n",
       "      <th>publication_date</th>\n",
       "      <th>publisher_id</th>\n",
       "    </tr>\n",
       "  </thead>\n",
       "  <tbody>\n",
       "    <tr>\n",
       "      <th>0</th>\n",
       "      <td>1</td>\n",
       "      <td>546</td>\n",
       "      <td>'Salem's Lot</td>\n",
       "      <td>594</td>\n",
       "      <td>2005-11-01</td>\n",
       "      <td>93</td>\n",
       "    </tr>\n",
       "    <tr>\n",
       "      <th>1</th>\n",
       "      <td>2</td>\n",
       "      <td>465</td>\n",
       "      <td>1 000 Places to See Before You Die</td>\n",
       "      <td>992</td>\n",
       "      <td>2003-05-22</td>\n",
       "      <td>336</td>\n",
       "    </tr>\n",
       "    <tr>\n",
       "      <th>2</th>\n",
       "      <td>3</td>\n",
       "      <td>407</td>\n",
       "      <td>13 Little Blue Envelopes (Little Blue Envelope...</td>\n",
       "      <td>322</td>\n",
       "      <td>2010-12-21</td>\n",
       "      <td>135</td>\n",
       "    </tr>\n",
       "    <tr>\n",
       "      <th>3</th>\n",
       "      <td>4</td>\n",
       "      <td>82</td>\n",
       "      <td>1491: New Revelations of the Americas Before C...</td>\n",
       "      <td>541</td>\n",
       "      <td>2006-10-10</td>\n",
       "      <td>309</td>\n",
       "    </tr>\n",
       "    <tr>\n",
       "      <th>4</th>\n",
       "      <td>5</td>\n",
       "      <td>125</td>\n",
       "      <td>1776</td>\n",
       "      <td>386</td>\n",
       "      <td>2006-07-04</td>\n",
       "      <td>268</td>\n",
       "    </tr>\n",
       "  </tbody>\n",
       "</table>\n",
       "</div>"
      ],
      "text/plain": [
       "   book_id  author_id                                              title  \\\n",
       "0        1        546                                       'Salem's Lot   \n",
       "1        2        465                 1 000 Places to See Before You Die   \n",
       "2        3        407  13 Little Blue Envelopes (Little Blue Envelope...   \n",
       "3        4         82  1491: New Revelations of the Americas Before C...   \n",
       "4        5        125                                               1776   \n",
       "\n",
       "   num_pages publication_date  publisher_id  \n",
       "0        594       2005-11-01            93  \n",
       "1        992       2003-05-22           336  \n",
       "2        322       2010-12-21           135  \n",
       "3        541       2006-10-10           309  \n",
       "4        386       2006-07-04           268  "
      ]
     },
     "execution_count": 19,
     "metadata": {},
     "output_type": "execute_result"
    }
   ],
   "source": [
    "#выведем первые 5 строк таблицы books\n",
    "\n",
    "query = '''\n",
    "    SELECT*\n",
    "    FROM books\n",
    "    LIMIT 5\n",
    "    '''\n",
    "sql_query(query)"
   ]
  },
  {
   "cell_type": "markdown",
   "metadata": {},
   "source": [
    "**Таблица `books`**\n",
    "\n",
    "Содержит данные о книгах:\n",
    "\n",
    "- `book_id` — идентификатор книги;\n",
    "- `author_id` — идентификатор автора;\n",
    "- `title` — название книги;\n",
    "- `num_pages` — количество страниц;\n",
    "- `publication_date` — дата публикации книги;\n",
    "- `publisher_id` — идентификатор издателя."
   ]
  },
  {
   "cell_type": "code",
   "execution_count": 20,
   "metadata": {},
   "outputs": [
    {
     "data": {
      "text/html": [
       "<div>\n",
       "<style scoped>\n",
       "    .dataframe tbody tr th:only-of-type {\n",
       "        vertical-align: middle;\n",
       "    }\n",
       "\n",
       "    .dataframe tbody tr th {\n",
       "        vertical-align: top;\n",
       "    }\n",
       "\n",
       "    .dataframe thead th {\n",
       "        text-align: right;\n",
       "    }\n",
       "</style>\n",
       "<table border=\"1\" class=\"dataframe\">\n",
       "  <thead>\n",
       "    <tr style=\"text-align: right;\">\n",
       "      <th></th>\n",
       "      <th>author_id</th>\n",
       "      <th>author</th>\n",
       "    </tr>\n",
       "  </thead>\n",
       "  <tbody>\n",
       "    <tr>\n",
       "      <th>0</th>\n",
       "      <td>1</td>\n",
       "      <td>A.S. Byatt</td>\n",
       "    </tr>\n",
       "    <tr>\n",
       "      <th>1</th>\n",
       "      <td>2</td>\n",
       "      <td>Aesop/Laura Harris/Laura Gibbs</td>\n",
       "    </tr>\n",
       "    <tr>\n",
       "      <th>2</th>\n",
       "      <td>3</td>\n",
       "      <td>Agatha Christie</td>\n",
       "    </tr>\n",
       "    <tr>\n",
       "      <th>3</th>\n",
       "      <td>4</td>\n",
       "      <td>Alan Brennert</td>\n",
       "    </tr>\n",
       "    <tr>\n",
       "      <th>4</th>\n",
       "      <td>5</td>\n",
       "      <td>Alan Moore/David   Lloyd</td>\n",
       "    </tr>\n",
       "  </tbody>\n",
       "</table>\n",
       "</div>"
      ],
      "text/plain": [
       "   author_id                          author\n",
       "0          1                      A.S. Byatt\n",
       "1          2  Aesop/Laura Harris/Laura Gibbs\n",
       "2          3                 Agatha Christie\n",
       "3          4                   Alan Brennert\n",
       "4          5        Alan Moore/David   Lloyd"
      ]
     },
     "execution_count": 20,
     "metadata": {},
     "output_type": "execute_result"
    }
   ],
   "source": [
    "#выведем первые 5 строк таблицы authors\n",
    "\n",
    "query = '''\n",
    "    SELECT*\n",
    "    FROM authors\n",
    "    LIMIT 5\n",
    "    '''\n",
    "sql_query(query)"
   ]
  },
  {
   "cell_type": "markdown",
   "metadata": {},
   "source": [
    "**Таблица `authors`**\n",
    "\n",
    "Содержит данные об авторах:\n",
    "\n",
    "- `author_id` — идентификатор автора;\n",
    "- `author` — имя автора."
   ]
  },
  {
   "cell_type": "code",
   "execution_count": 21,
   "metadata": {},
   "outputs": [
    {
     "data": {
      "text/html": [
       "<div>\n",
       "<style scoped>\n",
       "    .dataframe tbody tr th:only-of-type {\n",
       "        vertical-align: middle;\n",
       "    }\n",
       "\n",
       "    .dataframe tbody tr th {\n",
       "        vertical-align: top;\n",
       "    }\n",
       "\n",
       "    .dataframe thead th {\n",
       "        text-align: right;\n",
       "    }\n",
       "</style>\n",
       "<table border=\"1\" class=\"dataframe\">\n",
       "  <thead>\n",
       "    <tr style=\"text-align: right;\">\n",
       "      <th></th>\n",
       "      <th>publisher_id</th>\n",
       "      <th>publisher</th>\n",
       "    </tr>\n",
       "  </thead>\n",
       "  <tbody>\n",
       "    <tr>\n",
       "      <th>0</th>\n",
       "      <td>1</td>\n",
       "      <td>Ace</td>\n",
       "    </tr>\n",
       "    <tr>\n",
       "      <th>1</th>\n",
       "      <td>2</td>\n",
       "      <td>Ace Book</td>\n",
       "    </tr>\n",
       "    <tr>\n",
       "      <th>2</th>\n",
       "      <td>3</td>\n",
       "      <td>Ace Books</td>\n",
       "    </tr>\n",
       "    <tr>\n",
       "      <th>3</th>\n",
       "      <td>4</td>\n",
       "      <td>Ace Hardcover</td>\n",
       "    </tr>\n",
       "    <tr>\n",
       "      <th>4</th>\n",
       "      <td>5</td>\n",
       "      <td>Addison Wesley Publishing Company</td>\n",
       "    </tr>\n",
       "  </tbody>\n",
       "</table>\n",
       "</div>"
      ],
      "text/plain": [
       "   publisher_id                          publisher\n",
       "0             1                                Ace\n",
       "1             2                           Ace Book\n",
       "2             3                          Ace Books\n",
       "3             4                      Ace Hardcover\n",
       "4             5  Addison Wesley Publishing Company"
      ]
     },
     "execution_count": 21,
     "metadata": {},
     "output_type": "execute_result"
    }
   ],
   "source": [
    "#выведем первые 5 строк таблицы publishers\n",
    "\n",
    "query = '''\n",
    "    SELECT*\n",
    "    FROM publishers\n",
    "    LIMIT 5\n",
    "    '''\n",
    "sql_query(query)"
   ]
  },
  {
   "cell_type": "markdown",
   "metadata": {},
   "source": [
    "**Таблица `publishers`**\n",
    "\n",
    "Содержит данные об издательствах:\n",
    "\n",
    "- `publisher_id` — идентификатор издательства;\n",
    "- `publisher` — название издательства;"
   ]
  },
  {
   "cell_type": "code",
   "execution_count": 22,
   "metadata": {},
   "outputs": [
    {
     "data": {
      "text/html": [
       "<div>\n",
       "<style scoped>\n",
       "    .dataframe tbody tr th:only-of-type {\n",
       "        vertical-align: middle;\n",
       "    }\n",
       "\n",
       "    .dataframe tbody tr th {\n",
       "        vertical-align: top;\n",
       "    }\n",
       "\n",
       "    .dataframe thead th {\n",
       "        text-align: right;\n",
       "    }\n",
       "</style>\n",
       "<table border=\"1\" class=\"dataframe\">\n",
       "  <thead>\n",
       "    <tr style=\"text-align: right;\">\n",
       "      <th></th>\n",
       "      <th>rating_id</th>\n",
       "      <th>book_id</th>\n",
       "      <th>username</th>\n",
       "      <th>rating</th>\n",
       "    </tr>\n",
       "  </thead>\n",
       "  <tbody>\n",
       "    <tr>\n",
       "      <th>0</th>\n",
       "      <td>1</td>\n",
       "      <td>1</td>\n",
       "      <td>ryanfranco</td>\n",
       "      <td>4</td>\n",
       "    </tr>\n",
       "    <tr>\n",
       "      <th>1</th>\n",
       "      <td>2</td>\n",
       "      <td>1</td>\n",
       "      <td>grantpatricia</td>\n",
       "      <td>2</td>\n",
       "    </tr>\n",
       "    <tr>\n",
       "      <th>2</th>\n",
       "      <td>3</td>\n",
       "      <td>1</td>\n",
       "      <td>brandtandrea</td>\n",
       "      <td>5</td>\n",
       "    </tr>\n",
       "    <tr>\n",
       "      <th>3</th>\n",
       "      <td>4</td>\n",
       "      <td>2</td>\n",
       "      <td>lorichen</td>\n",
       "      <td>3</td>\n",
       "    </tr>\n",
       "    <tr>\n",
       "      <th>4</th>\n",
       "      <td>5</td>\n",
       "      <td>2</td>\n",
       "      <td>mariokeller</td>\n",
       "      <td>2</td>\n",
       "    </tr>\n",
       "  </tbody>\n",
       "</table>\n",
       "</div>"
      ],
      "text/plain": [
       "   rating_id  book_id       username  rating\n",
       "0          1        1     ryanfranco       4\n",
       "1          2        1  grantpatricia       2\n",
       "2          3        1   brandtandrea       5\n",
       "3          4        2       lorichen       3\n",
       "4          5        2    mariokeller       2"
      ]
     },
     "execution_count": 22,
     "metadata": {},
     "output_type": "execute_result"
    }
   ],
   "source": [
    "#выведем первые 5 строк таблицы ratings\n",
    "\n",
    "query = '''\n",
    "    SELECT*\n",
    "    FROM ratings\n",
    "    LIMIT 5\n",
    "    '''\n",
    "sql_query(query)"
   ]
  },
  {
   "cell_type": "markdown",
   "metadata": {},
   "source": [
    "**Таблица `ratings`**\n",
    "\n",
    "Содержит данные о пользовательских оценках книг:\n",
    "\n",
    "- `rating_id` — идентификатор оценки;\n",
    "- `book_id` — идентификатор книги;\n",
    "- `username` — имя пользователя, оставившего оценку;\n",
    "- `rating` — оценка книги."
   ]
  },
  {
   "cell_type": "code",
   "execution_count": 23,
   "metadata": {},
   "outputs": [
    {
     "data": {
      "text/html": [
       "<div>\n",
       "<style scoped>\n",
       "    .dataframe tbody tr th:only-of-type {\n",
       "        vertical-align: middle;\n",
       "    }\n",
       "\n",
       "    .dataframe tbody tr th {\n",
       "        vertical-align: top;\n",
       "    }\n",
       "\n",
       "    .dataframe thead th {\n",
       "        text-align: right;\n",
       "    }\n",
       "</style>\n",
       "<table border=\"1\" class=\"dataframe\">\n",
       "  <thead>\n",
       "    <tr style=\"text-align: right;\">\n",
       "      <th></th>\n",
       "      <th>review_id</th>\n",
       "      <th>book_id</th>\n",
       "      <th>username</th>\n",
       "      <th>text</th>\n",
       "    </tr>\n",
       "  </thead>\n",
       "  <tbody>\n",
       "    <tr>\n",
       "      <th>0</th>\n",
       "      <td>1</td>\n",
       "      <td>1</td>\n",
       "      <td>brandtandrea</td>\n",
       "      <td>Mention society tell send professor analysis. ...</td>\n",
       "    </tr>\n",
       "    <tr>\n",
       "      <th>1</th>\n",
       "      <td>2</td>\n",
       "      <td>1</td>\n",
       "      <td>ryanfranco</td>\n",
       "      <td>Foot glass pretty audience hit themselves. Amo...</td>\n",
       "    </tr>\n",
       "    <tr>\n",
       "      <th>2</th>\n",
       "      <td>3</td>\n",
       "      <td>2</td>\n",
       "      <td>lorichen</td>\n",
       "      <td>Listen treat keep worry. Miss husband tax but ...</td>\n",
       "    </tr>\n",
       "    <tr>\n",
       "      <th>3</th>\n",
       "      <td>4</td>\n",
       "      <td>3</td>\n",
       "      <td>johnsonamanda</td>\n",
       "      <td>Finally month interesting blue could nature cu...</td>\n",
       "    </tr>\n",
       "    <tr>\n",
       "      <th>4</th>\n",
       "      <td>5</td>\n",
       "      <td>3</td>\n",
       "      <td>scotttamara</td>\n",
       "      <td>Nation purpose heavy give wait song will. List...</td>\n",
       "    </tr>\n",
       "  </tbody>\n",
       "</table>\n",
       "</div>"
      ],
      "text/plain": [
       "   review_id  book_id       username  \\\n",
       "0          1        1   brandtandrea   \n",
       "1          2        1     ryanfranco   \n",
       "2          3        2       lorichen   \n",
       "3          4        3  johnsonamanda   \n",
       "4          5        3    scotttamara   \n",
       "\n",
       "                                                text  \n",
       "0  Mention society tell send professor analysis. ...  \n",
       "1  Foot glass pretty audience hit themselves. Amo...  \n",
       "2  Listen treat keep worry. Miss husband tax but ...  \n",
       "3  Finally month interesting blue could nature cu...  \n",
       "4  Nation purpose heavy give wait song will. List...  "
      ]
     },
     "execution_count": 23,
     "metadata": {},
     "output_type": "execute_result"
    }
   ],
   "source": [
    "#выведем первые 5 строк таблицы reviews\n",
    "\n",
    "query = '''\n",
    "    SELECT*\n",
    "    FROM reviews\n",
    "    LIMIT 5\n",
    "    '''\n",
    "sql_query(query)"
   ]
  },
  {
   "cell_type": "markdown",
   "metadata": {},
   "source": [
    "**Таблица `reviews`**\n",
    "\n",
    "Содержит данные о пользовательских обзорах на книги:\n",
    "\n",
    "- `review_id` — идентификатор обзора;\n",
    "- `book_id` — идентификатор книги;\n",
    "- `username` — имя пользователя, написавшего обзор;\n",
    "- `text` — текст обзора."
   ]
  },
  {
   "cell_type": "markdown",
   "metadata": {},
   "source": [
    "<a id=\"book\"> </a>\n",
    "## Подсчет книг, вышедших после 1 января 2000 года"
   ]
  },
  {
   "cell_type": "markdown",
   "metadata": {},
   "source": [
    "Определим, сколько книг вышло после 1 января 2000 года включительно"
   ]
  },
  {
   "cell_type": "code",
   "execution_count": 24,
   "metadata": {},
   "outputs": [
    {
     "data": {
      "text/html": [
       "<div>\n",
       "<style scoped>\n",
       "    .dataframe tbody tr th:only-of-type {\n",
       "        vertical-align: middle;\n",
       "    }\n",
       "\n",
       "    .dataframe tbody tr th {\n",
       "        vertical-align: top;\n",
       "    }\n",
       "\n",
       "    .dataframe thead th {\n",
       "        text-align: right;\n",
       "    }\n",
       "</style>\n",
       "<table border=\"1\" class=\"dataframe\">\n",
       "  <thead>\n",
       "    <tr style=\"text-align: right;\">\n",
       "      <th></th>\n",
       "      <th>min</th>\n",
       "      <th>max</th>\n",
       "    </tr>\n",
       "  </thead>\n",
       "  <tbody>\n",
       "    <tr>\n",
       "      <th>0</th>\n",
       "      <td>1952-12-01</td>\n",
       "      <td>2020-03-31</td>\n",
       "    </tr>\n",
       "  </tbody>\n",
       "</table>\n",
       "</div>"
      ],
      "text/plain": [
       "          min         max\n",
       "0  1952-12-01  2020-03-31"
      ]
     },
     "execution_count": 24,
     "metadata": {},
     "output_type": "execute_result"
    }
   ],
   "source": [
    "#дополнительно уточним, за какой период у нас имеется информация о данных\n",
    "\n",
    "query = '''\n",
    "    SELECT MIN(publication_date), MAX(publication_date)\n",
    "    FROM books\n",
    "    '''\n",
    "sql_query(query)"
   ]
  },
  {
   "cell_type": "code",
   "execution_count": 25,
   "metadata": {},
   "outputs": [
    {
     "data": {
      "text/html": [
       "<div>\n",
       "<style scoped>\n",
       "    .dataframe tbody tr th:only-of-type {\n",
       "        vertical-align: middle;\n",
       "    }\n",
       "\n",
       "    .dataframe tbody tr th {\n",
       "        vertical-align: top;\n",
       "    }\n",
       "\n",
       "    .dataframe thead th {\n",
       "        text-align: right;\n",
       "    }\n",
       "</style>\n",
       "<table border=\"1\" class=\"dataframe\">\n",
       "  <thead>\n",
       "    <tr style=\"text-align: right;\">\n",
       "      <th></th>\n",
       "      <th>count</th>\n",
       "    </tr>\n",
       "  </thead>\n",
       "  <tbody>\n",
       "    <tr>\n",
       "      <th>0</th>\n",
       "      <td>821</td>\n",
       "    </tr>\n",
       "  </tbody>\n",
       "</table>\n",
       "</div>"
      ],
      "text/plain": [
       "   count\n",
       "0    821"
      ]
     },
     "execution_count": 25,
     "metadata": {},
     "output_type": "execute_result"
    }
   ],
   "source": [
    "#выполним запрос \n",
    "\n",
    "query = '''\n",
    "    SELECT COUNT(book_id)\n",
    "    FROM books\n",
    "    WHERE publication_date >= '2000-01-01'\n",
    "    '''\n",
    "sql_query(query)"
   ]
  },
  {
   "cell_type": "markdown",
   "metadata": {},
   "source": [
    "В период с 1 января 2000 года по 31 марта 2020 года вышла 821 книга, включенная в базу данных."
   ]
  },
  {
   "cell_type": "markdown",
   "metadata": {},
   "source": [
    "<a id=\"reviews_scores\"> </a>\n",
    "## Подсчет количества обзоров и средней оценки для книг"
   ]
  },
  {
   "cell_type": "code",
   "execution_count": 26,
   "metadata": {},
   "outputs": [
    {
     "data": {
      "text/html": [
       "<div>\n",
       "<style scoped>\n",
       "    .dataframe tbody tr th:only-of-type {\n",
       "        vertical-align: middle;\n",
       "    }\n",
       "\n",
       "    .dataframe tbody tr th {\n",
       "        vertical-align: top;\n",
       "    }\n",
       "\n",
       "    .dataframe thead th {\n",
       "        text-align: right;\n",
       "    }\n",
       "</style>\n",
       "<table border=\"1\" class=\"dataframe\">\n",
       "  <thead>\n",
       "    <tr style=\"text-align: right;\">\n",
       "      <th></th>\n",
       "      <th>min</th>\n",
       "      <th>max</th>\n",
       "    </tr>\n",
       "  </thead>\n",
       "  <tbody>\n",
       "    <tr>\n",
       "      <th>0</th>\n",
       "      <td>1</td>\n",
       "      <td>5</td>\n",
       "    </tr>\n",
       "  </tbody>\n",
       "</table>\n",
       "</div>"
      ],
      "text/plain": [
       "   min  max\n",
       "0    1    5"
      ]
     },
     "execution_count": 26,
     "metadata": {},
     "output_type": "execute_result"
    }
   ],
   "source": [
    "#дополнительно уточним, какой у нас имеется самый высокий и самый низкий рейтинг\n",
    "\n",
    "query = '''\n",
    "    SELECT MIN(rating), MAX(rating)\n",
    "    FROM ratings\n",
    "    '''\n",
    "sql_query(query)"
   ]
  },
  {
   "cell_type": "code",
   "execution_count": 27,
   "metadata": {},
   "outputs": [
    {
     "data": {
      "text/html": [
       "<div>\n",
       "<style scoped>\n",
       "    .dataframe tbody tr th:only-of-type {\n",
       "        vertical-align: middle;\n",
       "    }\n",
       "\n",
       "    .dataframe tbody tr th {\n",
       "        vertical-align: top;\n",
       "    }\n",
       "\n",
       "    .dataframe thead th {\n",
       "        text-align: right;\n",
       "    }\n",
       "</style>\n",
       "<table border=\"1\" class=\"dataframe\">\n",
       "  <thead>\n",
       "    <tr style=\"text-align: right;\">\n",
       "      <th></th>\n",
       "      <th>count</th>\n",
       "    </tr>\n",
       "  </thead>\n",
       "  <tbody>\n",
       "    <tr>\n",
       "      <th>0</th>\n",
       "      <td>2793</td>\n",
       "    </tr>\n",
       "  </tbody>\n",
       "</table>\n",
       "</div>"
      ],
      "text/plain": [
       "   count\n",
       "0   2793"
      ]
     },
     "execution_count": 27,
     "metadata": {},
     "output_type": "execute_result"
    }
   ],
   "source": [
    "#проверим количество обзоров\n",
    "\n",
    "query = '''\n",
    "        SELECT COUNT(review_id) \n",
    "        FROM reviews\n",
    "        '''\n",
    "\n",
    "sql_query(query)"
   ]
  },
  {
   "cell_type": "code",
   "execution_count": 28,
   "metadata": {},
   "outputs": [
    {
     "data": {
      "text/html": [
       "<div>\n",
       "<style scoped>\n",
       "    .dataframe tbody tr th:only-of-type {\n",
       "        vertical-align: middle;\n",
       "    }\n",
       "\n",
       "    .dataframe tbody tr th {\n",
       "        vertical-align: top;\n",
       "    }\n",
       "\n",
       "    .dataframe thead th {\n",
       "        text-align: right;\n",
       "    }\n",
       "</style>\n",
       "<table border=\"1\" class=\"dataframe\">\n",
       "  <thead>\n",
       "    <tr style=\"text-align: right;\">\n",
       "      <th></th>\n",
       "      <th>book_id</th>\n",
       "      <th>title</th>\n",
       "      <th>review_count</th>\n",
       "      <th>avg_rating</th>\n",
       "    </tr>\n",
       "  </thead>\n",
       "  <tbody>\n",
       "    <tr>\n",
       "      <th>0</th>\n",
       "      <td>86</td>\n",
       "      <td>Arrows of the Queen (Heralds of Valdemar  #1)</td>\n",
       "      <td>2</td>\n",
       "      <td>5.00</td>\n",
       "    </tr>\n",
       "    <tr>\n",
       "      <th>1</th>\n",
       "      <td>901</td>\n",
       "      <td>The Walking Dead  Book One (The Walking Dead #...</td>\n",
       "      <td>2</td>\n",
       "      <td>5.00</td>\n",
       "    </tr>\n",
       "    <tr>\n",
       "      <th>2</th>\n",
       "      <td>390</td>\n",
       "      <td>Light in August</td>\n",
       "      <td>2</td>\n",
       "      <td>5.00</td>\n",
       "    </tr>\n",
       "    <tr>\n",
       "      <th>3</th>\n",
       "      <td>972</td>\n",
       "      <td>Wherever You Go  There You Are: Mindfulness Me...</td>\n",
       "      <td>2</td>\n",
       "      <td>5.00</td>\n",
       "    </tr>\n",
       "    <tr>\n",
       "      <th>4</th>\n",
       "      <td>136</td>\n",
       "      <td>Captivating: Unveiling the Mystery of a Woman'...</td>\n",
       "      <td>2</td>\n",
       "      <td>5.00</td>\n",
       "    </tr>\n",
       "    <tr>\n",
       "      <th>...</th>\n",
       "      <td>...</td>\n",
       "      <td>...</td>\n",
       "      <td>...</td>\n",
       "      <td>...</td>\n",
       "    </tr>\n",
       "    <tr>\n",
       "      <th>995</th>\n",
       "      <td>915</td>\n",
       "      <td>The World Is Flat: A Brief History of the Twen...</td>\n",
       "      <td>3</td>\n",
       "      <td>2.25</td>\n",
       "    </tr>\n",
       "    <tr>\n",
       "      <th>996</th>\n",
       "      <td>316</td>\n",
       "      <td>His Excellency: George Washington</td>\n",
       "      <td>2</td>\n",
       "      <td>2.00</td>\n",
       "    </tr>\n",
       "    <tr>\n",
       "      <th>997</th>\n",
       "      <td>202</td>\n",
       "      <td>Drowning Ruth</td>\n",
       "      <td>3</td>\n",
       "      <td>2.00</td>\n",
       "    </tr>\n",
       "    <tr>\n",
       "      <th>998</th>\n",
       "      <td>371</td>\n",
       "      <td>Junky</td>\n",
       "      <td>2</td>\n",
       "      <td>2.00</td>\n",
       "    </tr>\n",
       "    <tr>\n",
       "      <th>999</th>\n",
       "      <td>303</td>\n",
       "      <td>Harvesting the Heart</td>\n",
       "      <td>2</td>\n",
       "      <td>1.50</td>\n",
       "    </tr>\n",
       "  </tbody>\n",
       "</table>\n",
       "<p>1000 rows × 4 columns</p>\n",
       "</div>"
      ],
      "text/plain": [
       "     book_id                                              title  review_count  \\\n",
       "0         86      Arrows of the Queen (Heralds of Valdemar  #1)             2   \n",
       "1        901  The Walking Dead  Book One (The Walking Dead #...             2   \n",
       "2        390                                    Light in August             2   \n",
       "3        972  Wherever You Go  There You Are: Mindfulness Me...             2   \n",
       "4        136  Captivating: Unveiling the Mystery of a Woman'...             2   \n",
       "..       ...                                                ...           ...   \n",
       "995      915  The World Is Flat: A Brief History of the Twen...             3   \n",
       "996      316                  His Excellency: George Washington             2   \n",
       "997      202                                      Drowning Ruth             3   \n",
       "998      371                                              Junky             2   \n",
       "999      303                               Harvesting the Heart             2   \n",
       "\n",
       "     avg_rating  \n",
       "0          5.00  \n",
       "1          5.00  \n",
       "2          5.00  \n",
       "3          5.00  \n",
       "4          5.00  \n",
       "..          ...  \n",
       "995        2.25  \n",
       "996        2.00  \n",
       "997        2.00  \n",
       "998        2.00  \n",
       "999        1.50  \n",
       "\n",
       "[1000 rows x 4 columns]"
      ]
     },
     "execution_count": 28,
     "metadata": {},
     "output_type": "execute_result"
    }
   ],
   "source": [
    "#выполним запрос и сделаем сортировку по рейтингу\n",
    "\n",
    "query = '''\n",
    "    SELECT b.book_id, \n",
    "        b.title,\n",
    "        COUNT(DISTINCT r.review_id) as review_count,\n",
    "        ROUND(AVG(rt.rating), 2) as avg_rating\n",
    "    FROM books as b\n",
    "    LEFT JOIN reviews as r ON b.book_id = r.book_id\n",
    "    LEFT JOIN ratings as rt ON b.book_id = rt.book_id\n",
    "    GROUP BY b.book_id\n",
    "    ORDER BY avg_rating DESC;\n",
    "    '''\n",
    "sql_query(query)"
   ]
  },
  {
   "cell_type": "code",
   "execution_count": 29,
   "metadata": {},
   "outputs": [
    {
     "data": {
      "text/html": [
       "<div>\n",
       "<style scoped>\n",
       "    .dataframe tbody tr th:only-of-type {\n",
       "        vertical-align: middle;\n",
       "    }\n",
       "\n",
       "    .dataframe tbody tr th {\n",
       "        vertical-align: top;\n",
       "    }\n",
       "\n",
       "    .dataframe thead th {\n",
       "        text-align: right;\n",
       "    }\n",
       "</style>\n",
       "<table border=\"1\" class=\"dataframe\">\n",
       "  <thead>\n",
       "    <tr style=\"text-align: right;\">\n",
       "      <th></th>\n",
       "      <th>book_id</th>\n",
       "      <th>title</th>\n",
       "      <th>review_count</th>\n",
       "      <th>avg_rating</th>\n",
       "    </tr>\n",
       "  </thead>\n",
       "  <tbody>\n",
       "    <tr>\n",
       "      <th>0</th>\n",
       "      <td>948</td>\n",
       "      <td>Twilight (Twilight  #1)</td>\n",
       "      <td>7</td>\n",
       "      <td>3.66</td>\n",
       "    </tr>\n",
       "    <tr>\n",
       "      <th>1</th>\n",
       "      <td>302</td>\n",
       "      <td>Harry Potter and the Prisoner of Azkaban (Harr...</td>\n",
       "      <td>6</td>\n",
       "      <td>4.41</td>\n",
       "    </tr>\n",
       "    <tr>\n",
       "      <th>2</th>\n",
       "      <td>299</td>\n",
       "      <td>Harry Potter and the Chamber of Secrets (Harry...</td>\n",
       "      <td>6</td>\n",
       "      <td>4.29</td>\n",
       "    </tr>\n",
       "    <tr>\n",
       "      <th>3</th>\n",
       "      <td>656</td>\n",
       "      <td>The Book Thief</td>\n",
       "      <td>6</td>\n",
       "      <td>4.26</td>\n",
       "    </tr>\n",
       "    <tr>\n",
       "      <th>4</th>\n",
       "      <td>734</td>\n",
       "      <td>The Glass Castle</td>\n",
       "      <td>6</td>\n",
       "      <td>4.21</td>\n",
       "    </tr>\n",
       "    <tr>\n",
       "      <th>...</th>\n",
       "      <td>...</td>\n",
       "      <td>...</td>\n",
       "      <td>...</td>\n",
       "      <td>...</td>\n",
       "    </tr>\n",
       "    <tr>\n",
       "      <th>995</th>\n",
       "      <td>191</td>\n",
       "      <td>Disney's Beauty and the Beast (A Little Golden...</td>\n",
       "      <td>0</td>\n",
       "      <td>4.00</td>\n",
       "    </tr>\n",
       "    <tr>\n",
       "      <th>996</th>\n",
       "      <td>387</td>\n",
       "      <td>Leonardo's Notebooks</td>\n",
       "      <td>0</td>\n",
       "      <td>4.00</td>\n",
       "    </tr>\n",
       "    <tr>\n",
       "      <th>997</th>\n",
       "      <td>221</td>\n",
       "      <td>Essential Tales and Poems</td>\n",
       "      <td>0</td>\n",
       "      <td>4.00</td>\n",
       "    </tr>\n",
       "    <tr>\n",
       "      <th>998</th>\n",
       "      <td>83</td>\n",
       "      <td>Anne Rice's The Vampire Lestat: A Graphic Novel</td>\n",
       "      <td>0</td>\n",
       "      <td>3.67</td>\n",
       "    </tr>\n",
       "    <tr>\n",
       "      <th>999</th>\n",
       "      <td>808</td>\n",
       "      <td>The Natural Way to Draw</td>\n",
       "      <td>0</td>\n",
       "      <td>3.00</td>\n",
       "    </tr>\n",
       "  </tbody>\n",
       "</table>\n",
       "<p>1000 rows × 4 columns</p>\n",
       "</div>"
      ],
      "text/plain": [
       "     book_id                                              title  review_count  \\\n",
       "0        948                            Twilight (Twilight  #1)             7   \n",
       "1        302  Harry Potter and the Prisoner of Azkaban (Harr...             6   \n",
       "2        299  Harry Potter and the Chamber of Secrets (Harry...             6   \n",
       "3        656                                     The Book Thief             6   \n",
       "4        734                                   The Glass Castle             6   \n",
       "..       ...                                                ...           ...   \n",
       "995      191  Disney's Beauty and the Beast (A Little Golden...             0   \n",
       "996      387                               Leonardo's Notebooks             0   \n",
       "997      221                          Essential Tales and Poems             0   \n",
       "998       83    Anne Rice's The Vampire Lestat: A Graphic Novel             0   \n",
       "999      808                            The Natural Way to Draw             0   \n",
       "\n",
       "     avg_rating  \n",
       "0          3.66  \n",
       "1          4.41  \n",
       "2          4.29  \n",
       "3          4.26  \n",
       "4          4.21  \n",
       "..          ...  \n",
       "995        4.00  \n",
       "996        4.00  \n",
       "997        4.00  \n",
       "998        3.67  \n",
       "999        3.00  \n",
       "\n",
       "[1000 rows x 4 columns]"
      ]
     },
     "execution_count": 29,
     "metadata": {},
     "output_type": "execute_result"
    }
   ],
   "source": [
    "#выполним запрос и сделаем сортировку по количеству ревью \n",
    "\n",
    "query = '''\n",
    "    SELECT b.book_id, \n",
    "        b.title,\n",
    "        COUNT(DISTINCT r.review_id) as review_count,\n",
    "        ROUND(AVG(rt.rating), 2) as avg_rating\n",
    "    FROM books as b\n",
    "    LEFT JOIN reviews as r ON b.book_id = r.book_id\n",
    "    LEFT JOIN ratings as rt ON b.book_id = rt.book_id\n",
    "    GROUP BY b.book_id\n",
    "    ORDER BY review_count DESC, avg_rating DESC;\n",
    "    '''\n",
    "sql_query(query)"
   ]
  },
  {
   "cell_type": "markdown",
   "metadata": {},
   "source": [
    "Для каждой книги получено количество ревью и средний рейтинг. В базе данных наилучшие книги получили средний рейтинг равный пяти, наихудшая - 1.5. Если сделать сортировку по количеству ревью, то максимальные отзывы получила такая книга, как \"Сумерки\" ('Twilight', 7 отзывов при среднем рейтинге 3.66)."
   ]
  },
  {
   "cell_type": "markdown",
   "metadata": {},
   "source": [
    "<a id=\"publisher\"> </a>\n",
    "## Определение издательства с наибольшим количеством книг свыше 50 страниц"
   ]
  },
  {
   "cell_type": "code",
   "execution_count": 30,
   "metadata": {},
   "outputs": [
    {
     "data": {
      "text/html": [
       "<div>\n",
       "<style scoped>\n",
       "    .dataframe tbody tr th:only-of-type {\n",
       "        vertical-align: middle;\n",
       "    }\n",
       "\n",
       "    .dataframe tbody tr th {\n",
       "        vertical-align: top;\n",
       "    }\n",
       "\n",
       "    .dataframe thead th {\n",
       "        text-align: right;\n",
       "    }\n",
       "</style>\n",
       "<table border=\"1\" class=\"dataframe\">\n",
       "  <thead>\n",
       "    <tr style=\"text-align: right;\">\n",
       "      <th></th>\n",
       "      <th>publisher_id</th>\n",
       "      <th>publisher</th>\n",
       "      <th>books_number</th>\n",
       "    </tr>\n",
       "  </thead>\n",
       "  <tbody>\n",
       "    <tr>\n",
       "      <th>0</th>\n",
       "      <td>212</td>\n",
       "      <td>Penguin Books</td>\n",
       "      <td>42</td>\n",
       "    </tr>\n",
       "  </tbody>\n",
       "</table>\n",
       "</div>"
      ],
      "text/plain": [
       "   publisher_id      publisher  books_number\n",
       "0           212  Penguin Books            42"
      ]
     },
     "execution_count": 30,
     "metadata": {},
     "output_type": "execute_result"
    }
   ],
   "source": [
    "#выполним запрос \n",
    "\n",
    "query = '''\n",
    "    WITH b AS\n",
    "        (SELECT book_id, publisher_id\n",
    "        FROM books\n",
    "        WHERE num_pages > 50)\n",
    "    \n",
    "    \n",
    "    SELECT p.publisher_id, \n",
    "           p.publisher, \n",
    "           COUNT(b.book_id) AS books_number\n",
    "    FROM publishers as p\n",
    "    LEFT JOIN b ON p.publisher_id = b.publisher_id\n",
    "    GROUP BY p.publisher_id\n",
    "    ORDER BY books_number DESC\n",
    "    LIMIT 1;\n",
    "    '''\n",
    "sql_query(query)"
   ]
  },
  {
   "cell_type": "markdown",
   "metadata": {},
   "source": [
    "Большое всего книг толщиной от 50 страниц, включенных в базу данных, выпустило британское издательство Penguin Books, а именно - 42 книги. "
   ]
  },
  {
   "cell_type": "markdown",
   "metadata": {},
   "source": [
    "<a id=\"author\"> </a>\n",
    "## Определение автора с самой высокой средней оценкой книг (свыше 50 оценок)"
   ]
  },
  {
   "cell_type": "code",
   "execution_count": 31,
   "metadata": {},
   "outputs": [
    {
     "data": {
      "text/html": [
       "<div>\n",
       "<style scoped>\n",
       "    .dataframe tbody tr th:only-of-type {\n",
       "        vertical-align: middle;\n",
       "    }\n",
       "\n",
       "    .dataframe tbody tr th {\n",
       "        vertical-align: top;\n",
       "    }\n",
       "\n",
       "    .dataframe thead th {\n",
       "        text-align: right;\n",
       "    }\n",
       "</style>\n",
       "<table border=\"1\" class=\"dataframe\">\n",
       "  <thead>\n",
       "    <tr style=\"text-align: right;\">\n",
       "      <th></th>\n",
       "      <th>author_id</th>\n",
       "      <th>author</th>\n",
       "      <th>avg_rating</th>\n",
       "    </tr>\n",
       "  </thead>\n",
       "  <tbody>\n",
       "    <tr>\n",
       "      <th>0</th>\n",
       "      <td>236</td>\n",
       "      <td>J.K. Rowling/Mary GrandPré</td>\n",
       "      <td>4.287097</td>\n",
       "    </tr>\n",
       "  </tbody>\n",
       "</table>\n",
       "</div>"
      ],
      "text/plain": [
       "   author_id                      author  avg_rating\n",
       "0        236  J.K. Rowling/Mary GrandPré    4.287097"
      ]
     },
     "execution_count": 31,
     "metadata": {},
     "output_type": "execute_result"
    }
   ],
   "source": [
    "#выполним запрос \n",
    "\n",
    "query = '''\n",
    "    WITH rt AS \n",
    "        (SELECT b.book_id, COUNT(r.rating_id) as cnt\n",
    "        FROM books as b\n",
    "        RIGHT JOIN ratings as r ON b.book_id = r.book_id\n",
    "        GROUP BY b.book_id\n",
    "        HAVING COUNT(r.rating_id) >= 50),\n",
    "        \n",
    "    br AS\n",
    "        (SELECT \n",
    "            bk.book_id, \n",
    "            bk.author_id,\n",
    "            r.rating\n",
    "        FROM books as bk\n",
    "        RIGHT JOIN ratings as r ON bk.book_id = r.book_id)\n",
    "    \n",
    "    SELECT a.author_id,\n",
    "           a.author, \n",
    "           AVG(br.rating) AS avg_rating\n",
    "    FROM authors as a\n",
    "    LEFT JOIN br ON a.author_id = br.author_id\n",
    "    RIGHT JOIN rt ON br.book_id = rt.book_id\n",
    "    GROUP BY a.author_id\n",
    "    ORDER BY avg_rating DESC\n",
    "    LIMIT 1;\n",
    "    '''\n",
    "sql_query(query)"
   ]
  },
  {
   "cell_type": "markdown",
   "metadata": {},
   "source": [
    "Наилучший средний рейтинг - 4.287 - получили работы писательницы Джоан Роулинг и иллюстратора Мэри Грандпре: именно книги о волшебном мире Гарри Поттера способствовали столь высокой оценке их творчества. "
   ]
  },
  {
   "cell_type": "markdown",
   "metadata": {},
   "source": [
    "<a id=\"users\"> </a>\n",
    "## Подсчет среднего количества обзоров от пользователей, которые поставили больше 50 оценок"
   ]
  },
  {
   "cell_type": "code",
   "execution_count": 32,
   "metadata": {},
   "outputs": [
    {
     "data": {
      "text/html": [
       "<div>\n",
       "<style scoped>\n",
       "    .dataframe tbody tr th:only-of-type {\n",
       "        vertical-align: middle;\n",
       "    }\n",
       "\n",
       "    .dataframe tbody tr th {\n",
       "        vertical-align: top;\n",
       "    }\n",
       "\n",
       "    .dataframe thead th {\n",
       "        text-align: right;\n",
       "    }\n",
       "</style>\n",
       "<table border=\"1\" class=\"dataframe\">\n",
       "  <thead>\n",
       "    <tr style=\"text-align: right;\">\n",
       "      <th></th>\n",
       "      <th>avg_count</th>\n",
       "    </tr>\n",
       "  </thead>\n",
       "  <tbody>\n",
       "    <tr>\n",
       "      <th>0</th>\n",
       "      <td>24.0</td>\n",
       "    </tr>\n",
       "  </tbody>\n",
       "</table>\n",
       "</div>"
      ],
      "text/plain": [
       "   avg_count\n",
       "0       24.0"
      ]
     },
     "execution_count": 32,
     "metadata": {},
     "output_type": "execute_result"
    }
   ],
   "source": [
    "#выполним запрос \n",
    "\n",
    "query = '''\n",
    "    SELECT ROUND(AVG(rv_cnt)) as avg_count\n",
    "    FROM \n",
    "        (SELECT username, COUNT(review_id) as rv_cnt\n",
    "            FROM reviews\n",
    "            GROUP BY username\n",
    "            HAVING username IN \n",
    "                (SELECT username\n",
    "                FROM ratings\n",
    "                GROUP BY username\n",
    "                HAVING COUNT(rating_id) >= 50)) as av;\n",
    "    '''\n",
    "\n",
    "sql_query(query)"
   ]
  },
  {
   "cell_type": "markdown",
   "metadata": {},
   "source": [
    "На каждого наиболее активного пользователя с точки зрения оценок книг (от 50 и выше) приходится в среднем 24 обзора."
   ]
  },
  {
   "cell_type": "markdown",
   "metadata": {},
   "source": [
    "<a id=\"conclusion\"> </a>\n",
    "## Выводы"
   ]
  },
  {
   "cell_type": "markdown",
   "metadata": {},
   "source": [
    "По итогам проведенного исследования получены следующие **результаты**.\n",
    "\n",
    "   1) Книжный сервис имеет в своей базе 821 книгу, вышедшую в XXI веке.\n",
    "   \n",
    "   2) Книжный сервис позволяет оценивать книги по шкале от 0 до 5. Наилучшие книги получили средний рейтинг 5.0, наихудшая - 1.5. Максимальное число отзывов (7) получила нашумевшая юношеская сага \"Сумерки\". В числе лидеров по числу обзоров также романы о Гарри Поттере.\n",
    "   \n",
    "   3) Наибольшее число книг в сервисе объемом от 50 страниц принадлежат издательству Penguin Books - 42 книги;\n",
    "    \n",
    "   4) Наивысший средний рейтинг получил авторский дуэт, работавший над вселенной Гарри Поттерав в лице писательницы Джоан Роулинг и иллюстратора Мэри Грандпре: они получили наивысший средний рейтинг, равный 4.287 баллов, среди авторов, работы которых были оценены не менее 50 пользователями.\n",
    "   \n",
    "   5) Самые активные пользователи, которые прочитали и оценили не менее 50 книг, написали в среднем по 24 обзора. "
   ]
  }
 ],
 "metadata": {
  "ExecuteTimeLog": [
   {
    "duration": 5432,
    "start_time": "2023-01-26T09:45:49.316Z"
   },
   {
    "duration": 3,
    "start_time": "2023-01-26T09:46:02.553Z"
   },
   {
    "duration": 56,
    "start_time": "2023-01-26T09:46:17.349Z"
   },
   {
    "duration": 46,
    "start_time": "2023-01-26T09:46:27.819Z"
   },
   {
    "duration": 12,
    "start_time": "2023-01-26T09:46:38.622Z"
   },
   {
    "duration": 46,
    "start_time": "2023-01-26T09:46:47.954Z"
   },
   {
    "duration": 26,
    "start_time": "2023-01-26T09:46:56.583Z"
   },
   {
    "duration": 46,
    "start_time": "2023-01-26T09:47:06.940Z"
   },
   {
    "duration": 14,
    "start_time": "2023-01-26T09:47:14.902Z"
   },
   {
    "duration": 63,
    "start_time": "2023-01-26T09:47:21.749Z"
   },
   {
    "duration": 12,
    "start_time": "2023-01-26T09:47:29.576Z"
   },
   {
    "duration": 40,
    "start_time": "2023-01-26T09:47:37.614Z"
   },
   {
    "duration": 12,
    "start_time": "2023-01-26T09:47:50.869Z"
   },
   {
    "duration": 10,
    "start_time": "2023-01-26T09:47:56.187Z"
   },
   {
    "duration": 12,
    "start_time": "2023-01-26T09:48:18.388Z"
   },
   {
    "duration": 29,
    "start_time": "2023-01-26T09:48:23.324Z"
   },
   {
    "duration": 11,
    "start_time": "2023-01-26T09:48:46.462Z"
   },
   {
    "duration": 18,
    "start_time": "2023-01-26T09:49:08.535Z"
   },
   {
    "duration": 14,
    "start_time": "2023-01-26T09:49:26.349Z"
   },
   {
    "duration": 39,
    "start_time": "2023-01-26T09:54:00.526Z"
   },
   {
    "duration": 12318,
    "start_time": "2023-01-26T10:12:56.709Z"
   },
   {
    "duration": 4,
    "start_time": "2023-01-26T10:13:09.029Z"
   },
   {
    "duration": 174,
    "start_time": "2023-01-26T10:13:09.035Z"
   },
   {
    "duration": 12,
    "start_time": "2023-01-26T10:13:09.211Z"
   },
   {
    "duration": 87,
    "start_time": "2023-01-26T10:13:09.225Z"
   },
   {
    "duration": 80,
    "start_time": "2023-01-26T10:13:09.313Z"
   },
   {
    "duration": 76,
    "start_time": "2023-01-26T10:13:09.395Z"
   },
   {
    "duration": 57,
    "start_time": "2023-01-26T10:13:09.473Z"
   },
   {
    "duration": 69,
    "start_time": "2023-01-26T10:13:09.532Z"
   },
   {
    "duration": 82,
    "start_time": "2023-01-26T10:13:09.603Z"
   },
   {
    "duration": 72,
    "start_time": "2023-01-26T10:13:09.687Z"
   },
   {
    "duration": 29,
    "start_time": "2023-01-26T10:13:09.760Z"
   },
   {
    "duration": 35,
    "start_time": "2023-01-26T10:13:09.790Z"
   },
   {
    "duration": 43,
    "start_time": "2023-01-26T10:13:09.828Z"
   },
   {
    "duration": 41,
    "start_time": "2023-01-26T10:13:09.873Z"
   },
   {
    "duration": 22,
    "start_time": "2023-01-26T10:13:50.833Z"
   },
   {
    "duration": 19,
    "start_time": "2023-01-26T10:13:55.853Z"
   },
   {
    "duration": 18,
    "start_time": "2023-01-26T10:18:15.743Z"
   },
   {
    "duration": 20,
    "start_time": "2023-01-26T10:18:19.844Z"
   },
   {
    "duration": 22,
    "start_time": "2023-01-26T10:18:29.103Z"
   },
   {
    "duration": 27,
    "start_time": "2023-01-26T10:24:13.879Z"
   },
   {
    "duration": 202,
    "start_time": "2023-01-26T10:25:22.778Z"
   },
   {
    "duration": 5,
    "start_time": "2023-01-26T10:25:33.632Z"
   },
   {
    "duration": 101,
    "start_time": "2023-01-26T10:25:51.307Z"
   },
   {
    "duration": 45,
    "start_time": "2023-01-26T10:26:11.936Z"
   },
   {
    "duration": 39,
    "start_time": "2023-01-26T10:27:09.788Z"
   },
   {
    "duration": 42,
    "start_time": "2023-01-26T10:30:56.081Z"
   },
   {
    "duration": 11524,
    "start_time": "2023-01-26T23:10:25.401Z"
   },
   {
    "duration": 3,
    "start_time": "2023-01-26T23:10:36.927Z"
   },
   {
    "duration": 79,
    "start_time": "2023-01-26T23:10:36.931Z"
   },
   {
    "duration": 12,
    "start_time": "2023-01-26T23:10:37.011Z"
   },
   {
    "duration": 17,
    "start_time": "2023-01-26T23:10:37.025Z"
   },
   {
    "duration": 14,
    "start_time": "2023-01-26T23:10:37.044Z"
   },
   {
    "duration": 54,
    "start_time": "2023-01-26T23:10:37.059Z"
   },
   {
    "duration": 30,
    "start_time": "2023-01-26T23:10:37.115Z"
   },
   {
    "duration": 32,
    "start_time": "2023-01-26T23:10:37.147Z"
   },
   {
    "duration": 29,
    "start_time": "2023-01-26T23:10:37.180Z"
   },
   {
    "duration": 16,
    "start_time": "2023-01-26T23:10:37.210Z"
   },
   {
    "duration": 68,
    "start_time": "2023-01-26T23:10:37.227Z"
   },
   {
    "duration": 28,
    "start_time": "2023-01-26T23:10:37.297Z"
   },
   {
    "duration": 40,
    "start_time": "2023-01-26T23:10:37.327Z"
   },
   {
    "duration": 70,
    "start_time": "2023-01-26T23:10:37.369Z"
   },
   {
    "duration": 29,
    "start_time": "2023-01-26T23:10:37.441Z"
   },
   {
    "duration": 5411,
    "start_time": "2023-02-19T10:44:33.910Z"
   },
   {
    "duration": 2,
    "start_time": "2023-02-19T10:44:39.324Z"
   },
   {
    "duration": 55,
    "start_time": "2023-02-19T10:44:39.329Z"
   },
   {
    "duration": 9,
    "start_time": "2023-02-19T10:44:39.387Z"
   },
   {
    "duration": 10,
    "start_time": "2023-02-19T10:44:39.398Z"
   },
   {
    "duration": 27,
    "start_time": "2023-02-19T10:44:39.409Z"
   },
   {
    "duration": 11,
    "start_time": "2023-02-19T10:44:39.437Z"
   },
   {
    "duration": 11,
    "start_time": "2023-02-19T10:44:39.449Z"
   },
   {
    "duration": 9,
    "start_time": "2023-02-19T10:44:39.462Z"
   },
   {
    "duration": 11,
    "start_time": "2023-02-19T10:44:39.473Z"
   },
   {
    "duration": 10,
    "start_time": "2023-02-19T10:44:39.485Z"
   },
   {
    "duration": 43,
    "start_time": "2023-02-19T10:44:39.496Z"
   },
   {
    "duration": 30,
    "start_time": "2023-02-19T10:44:39.541Z"
   },
   {
    "duration": 12,
    "start_time": "2023-02-19T10:44:39.573Z"
   },
   {
    "duration": 17,
    "start_time": "2023-02-19T10:44:39.586Z"
   },
   {
    "duration": 21,
    "start_time": "2023-02-19T10:44:39.605Z"
   },
   {
    "duration": 4,
    "start_time": "2023-02-19T17:39:16.484Z"
   },
   {
    "duration": 7,
    "start_time": "2023-02-19T17:39:16.493Z"
   },
   {
    "duration": 48,
    "start_time": "2023-02-19T17:39:16.503Z"
   },
   {
    "duration": 11,
    "start_time": "2023-02-19T17:39:16.553Z"
   },
   {
    "duration": 227,
    "start_time": "2023-02-19T17:39:16.565Z"
   },
   {
    "duration": 23,
    "start_time": "2023-02-19T17:39:16.795Z"
   },
   {
    "duration": 19,
    "start_time": "2023-02-19T17:39:16.820Z"
   },
   {
    "duration": 18,
    "start_time": "2023-02-19T17:39:16.841Z"
   },
   {
    "duration": 21,
    "start_time": "2023-02-19T17:39:16.861Z"
   },
   {
    "duration": 15,
    "start_time": "2023-02-19T17:39:16.884Z"
   },
   {
    "duration": 14,
    "start_time": "2023-02-19T17:39:16.900Z"
   },
   {
    "duration": 31,
    "start_time": "2023-02-19T17:39:16.917Z"
   },
   {
    "duration": 26,
    "start_time": "2023-02-19T17:39:16.950Z"
   },
   {
    "duration": 11,
    "start_time": "2023-02-19T17:39:16.978Z"
   },
   {
    "duration": 16,
    "start_time": "2023-02-19T17:39:16.991Z"
   },
   {
    "duration": 12,
    "start_time": "2023-02-19T17:39:17.009Z"
   }
  ],
  "kernelspec": {
   "display_name": "Python 3 (ipykernel)",
   "language": "python",
   "name": "python3"
  },
  "language_info": {
   "codemirror_mode": {
    "name": "ipython",
    "version": 3
   },
   "file_extension": ".py",
   "mimetype": "text/x-python",
   "name": "python",
   "nbconvert_exporter": "python",
   "pygments_lexer": "ipython3",
   "version": "3.9.5"
  },
  "toc": {
   "base_numbering": 1,
   "nav_menu": {},
   "number_sections": false,
   "sideBar": true,
   "skip_h1_title": false,
   "title_cell": "Table of Contents",
   "title_sidebar": "Contents",
   "toc_cell": false,
   "toc_position": {
    "height": "calc(100% - 180px)",
    "left": "10px",
    "top": "150px",
    "width": "266.165px"
   },
   "toc_section_display": true,
   "toc_window_display": true
  }
 },
 "nbformat": 4,
 "nbformat_minor": 2
}
