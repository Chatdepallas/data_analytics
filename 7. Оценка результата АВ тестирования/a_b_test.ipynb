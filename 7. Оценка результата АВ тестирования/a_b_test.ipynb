{
 "cells": [
  {
   "cell_type": "markdown",
   "metadata": {},
   "source": [
    " "
   ]
  },
  {
   "cell_type": "markdown",
   "metadata": {},
   "source": [
    "# Проведение A/B-теста: увеличение выручки"
   ]
  },
  {
   "cell_type": "markdown",
   "metadata": {},
   "source": [
    "**Цель проекта**: проведение A/B-теста среди пользователей Интернет-магазина\n",
    "\n",
    "**Этапы реализации проекта:** \n",
    "\n",
    "[1. Подготовительный этап: загрузка библиотек, выгрузка данных, изучение общей информации о датафреймах, предобработка данных](#first_stage)\n",
    "- [1.1. Загрузка библиотек, выгрузка данных, изучение общей информации о датафреймах](#general)\n",
    "\n",
    "- [1.2. Предобработка данных](#preprocessing)\n",
    "\n",
    "- [1.3. Создание объединенной таблицы для расчетов](#data_united)\n",
    "\n",
    "- [1.4. Вывод по этапу](#first_conclusion)\n",
    "\n",
    "\n",
    "[2. Анализ A/B-теста](#third_stage)\n",
    "\n",
    "- [2.1. Построение графика кумулятивной выручки по группам](#cumulative_revenue)\n",
    "\n",
    "- [2.2. Построение графика кумулятивного среднего чека по группам](#cumulative_average)\n",
    "\n",
    "- [2.3. Построение графика относительного изменения кумулятивного среднего чека группы B к группе A](#cumulative_average_ba)\n",
    "\n",
    "- [2.4. Построение графика кумулятивного среднего количества заказов по группам](#cumulative_orders)\n",
    "\n",
    "- [2.5. Построение графика относительного изменения кумулятивного среднего количества заказов группы B к группе A](#cumulative_orders_ba)\n",
    "\n",
    "- [2.6. Построение точечного графика количества заказов по пользователям](#scatter_orders)\n",
    "\n",
    "- [2.7. Подсчет 95-й и 99-й перцентили количества заказов на пользователя](#percentiles_orders)\n",
    "\n",
    "- [2.8. Построение точечного графика стоимостей заказов](#scatter_revenue)\n",
    "\n",
    "- [2.9. Подсчет 95-й и 99-й перцентили стоимости заказов](#percentiles_revenue)\n",
    "\n",
    "- [2.10. Подсчет статистической значимости различий в среднем количестве заказов между группами по «сырым» данным](#st_significance_orders_row)\n",
    "\n",
    "- [2.11. Подсчет статистической значимости различий в среднем чеке заказа между группами по «сырым» данным](#st_significance_revenue_row)\n",
    "\n",
    "- [2.12. Подсчет статистической значимости различий в среднем количестве заказов между группами по «очищенным» данным](#st_significance_orders_cleaned)\n",
    "\n",
    "- [2.13. Подсчет статистической значимости различий в среднем чеке заказа между группами по «очищенным» данным](#st_significance_revenue_cleaned)\n",
    "\n",
    "- [2.14. Результаты теста, выводы по этапу](#third_conclusion)\n",
    "\n",
    "\n",
    "[3. Выводы](#conclusion)"
   ]
  },
  {
   "cell_type": "markdown",
   "metadata": {},
   "source": [
    "<a id=\"first_stage\"> </a>\n",
    "## Подготовительный этап: загрузка библиотек, выгрузка данных, изучение общей информации о датафреймах, предобработка данных"
   ]
  },
  {
   "cell_type": "markdown",
   "metadata": {},
   "source": [
    "<a id=\"general\"> </a>\n",
    "### Загрузка библиотек, выгрузка данных, изучение общей информации о датафреймах"
   ]
  },
  {
   "cell_type": "code",
   "execution_count": 1,
   "metadata": {},
   "outputs": [],
   "source": [
    "import pandas as pd\n",
    "import numpy as np\n",
    "import seaborn as sns\n",
    "from datetime import datetime, timedelta\n",
    "from matplotlib import pyplot as plt\n",
    "from scipy import stats as st"
   ]
  },
  {
   "cell_type": "code",
   "execution_count": 2,
   "metadata": {},
   "outputs": [],
   "source": [
    "#создадим переменную, в которую поместим палитру для графиков\n",
    "\n",
    "palette = sns.cubehelix_palette(start=.3, rot=-.6, n_colors=15)"
   ]
  },
  {
   "cell_type": "code",
   "execution_count": 3,
   "metadata": {},
   "outputs": [],
   "source": [
    "#установим ширину отображения столбцов\n",
    "\n",
    "pd.options.display.max_colwidth = 120"
   ]
  },
  {
   "cell_type": "code",
   "execution_count": 4,
   "metadata": {},
   "outputs": [
    {
     "data": {
      "text/plain": [
       "'orders'"
      ]
     },
     "metadata": {},
     "output_type": "display_data"
    },
    {
     "data": {
      "text/html": [
       "<div>\n",
       "<style scoped>\n",
       "    .dataframe tbody tr th:only-of-type {\n",
       "        vertical-align: middle;\n",
       "    }\n",
       "\n",
       "    .dataframe tbody tr th {\n",
       "        vertical-align: top;\n",
       "    }\n",
       "\n",
       "    .dataframe thead th {\n",
       "        text-align: right;\n",
       "    }\n",
       "</style>\n",
       "<table border=\"1\" class=\"dataframe\">\n",
       "  <thead>\n",
       "    <tr style=\"text-align: right;\">\n",
       "      <th></th>\n",
       "      <th>transactionId</th>\n",
       "      <th>visitorId</th>\n",
       "      <th>date</th>\n",
       "      <th>revenue</th>\n",
       "      <th>group</th>\n",
       "    </tr>\n",
       "  </thead>\n",
       "  <tbody>\n",
       "    <tr>\n",
       "      <th>0</th>\n",
       "      <td>3667963787</td>\n",
       "      <td>3312258926</td>\n",
       "      <td>2019-08-15</td>\n",
       "      <td>1650</td>\n",
       "      <td>B</td>\n",
       "    </tr>\n",
       "    <tr>\n",
       "      <th>1</th>\n",
       "      <td>2804400009</td>\n",
       "      <td>3642806036</td>\n",
       "      <td>2019-08-15</td>\n",
       "      <td>730</td>\n",
       "      <td>B</td>\n",
       "    </tr>\n",
       "    <tr>\n",
       "      <th>2</th>\n",
       "      <td>2961555356</td>\n",
       "      <td>4069496402</td>\n",
       "      <td>2019-08-15</td>\n",
       "      <td>400</td>\n",
       "      <td>A</td>\n",
       "    </tr>\n",
       "    <tr>\n",
       "      <th>3</th>\n",
       "      <td>3797467345</td>\n",
       "      <td>1196621759</td>\n",
       "      <td>2019-08-15</td>\n",
       "      <td>9759</td>\n",
       "      <td>B</td>\n",
       "    </tr>\n",
       "    <tr>\n",
       "      <th>4</th>\n",
       "      <td>2282983706</td>\n",
       "      <td>2322279887</td>\n",
       "      <td>2019-08-15</td>\n",
       "      <td>2308</td>\n",
       "      <td>B</td>\n",
       "    </tr>\n",
       "  </tbody>\n",
       "</table>\n",
       "</div>"
      ],
      "text/plain": [
       "   transactionId   visitorId        date  revenue group\n",
       "0     3667963787  3312258926  2019-08-15     1650     B\n",
       "1     2804400009  3642806036  2019-08-15      730     B\n",
       "2     2961555356  4069496402  2019-08-15      400     A\n",
       "3     3797467345  1196621759  2019-08-15     9759     B\n",
       "4     2282983706  2322279887  2019-08-15     2308     B"
      ]
     },
     "metadata": {},
     "output_type": "display_data"
    },
    {
     "data": {
      "text/plain": [
       "'visitors'"
      ]
     },
     "metadata": {},
     "output_type": "display_data"
    },
    {
     "data": {
      "text/html": [
       "<div>\n",
       "<style scoped>\n",
       "    .dataframe tbody tr th:only-of-type {\n",
       "        vertical-align: middle;\n",
       "    }\n",
       "\n",
       "    .dataframe tbody tr th {\n",
       "        vertical-align: top;\n",
       "    }\n",
       "\n",
       "    .dataframe thead th {\n",
       "        text-align: right;\n",
       "    }\n",
       "</style>\n",
       "<table border=\"1\" class=\"dataframe\">\n",
       "  <thead>\n",
       "    <tr style=\"text-align: right;\">\n",
       "      <th></th>\n",
       "      <th>date</th>\n",
       "      <th>group</th>\n",
       "      <th>visitors</th>\n",
       "    </tr>\n",
       "  </thead>\n",
       "  <tbody>\n",
       "    <tr>\n",
       "      <th>0</th>\n",
       "      <td>2019-08-01</td>\n",
       "      <td>A</td>\n",
       "      <td>719</td>\n",
       "    </tr>\n",
       "    <tr>\n",
       "      <th>1</th>\n",
       "      <td>2019-08-02</td>\n",
       "      <td>A</td>\n",
       "      <td>619</td>\n",
       "    </tr>\n",
       "    <tr>\n",
       "      <th>2</th>\n",
       "      <td>2019-08-03</td>\n",
       "      <td>A</td>\n",
       "      <td>507</td>\n",
       "    </tr>\n",
       "    <tr>\n",
       "      <th>3</th>\n",
       "      <td>2019-08-04</td>\n",
       "      <td>A</td>\n",
       "      <td>717</td>\n",
       "    </tr>\n",
       "    <tr>\n",
       "      <th>4</th>\n",
       "      <td>2019-08-05</td>\n",
       "      <td>A</td>\n",
       "      <td>756</td>\n",
       "    </tr>\n",
       "  </tbody>\n",
       "</table>\n",
       "</div>"
      ],
      "text/plain": [
       "         date group  visitors\n",
       "0  2019-08-01     A       719\n",
       "1  2019-08-02     A       619\n",
       "2  2019-08-03     A       507\n",
       "3  2019-08-04     A       717\n",
       "4  2019-08-05     A       756"
      ]
     },
     "metadata": {},
     "output_type": "display_data"
    }
   ],
   "source": [
    "#выгружаем датасеты \n",
    "\n",
    "try:\n",
    "    orders, visitors = (\n",
    "        pd.read_csv('/datasets/orders.csv'),  #заказы\n",
    "        pd.read_csv('/datasets/visitors.csv') #посетители\n",
    "    )  \n",
    "\n",
    "except:\n",
    "    orders, visitors = (\n",
    "        pd.read_csv('C:/datasets/abtests/orders.csv'),  #заказы\n",
    "        pd.read_csv('C:/datasets/abtests/visitors.csv') #посетители\n",
    "    )\n",
    "\n",
    "display('orders', orders.head(5))\n",
    "display('visitors', visitors.head(5))"
   ]
  },
  {
   "cell_type": "markdown",
   "metadata": {},
   "source": [
    "**Структура датафрейма `orders`**:\n",
    "- `transactionId` — идентификатор заказа;\n",
    "- `visitorId` — идентификатор пользователя, совершившего заказ;\n",
    "- `date` — дата, когда был совершён заказ;\n",
    "- `revenue` — выручка заказа;\n",
    "- `group` — группа A/B-теста, в которую попал заказ\n",
    "\n",
    "**Структура датафрейма `visitors`**\n",
    "- `date` — дата;\n",
    "- `group` — группа A/B-теста;\n",
    "- `visitors` — количество пользователей в указанную дату в указанной группе A/B-теста"
   ]
  },
  {
   "cell_type": "code",
   "execution_count": 5,
   "metadata": {},
   "outputs": [
    {
     "name": "stdout",
     "output_type": "stream",
     "text": [
      "<class 'pandas.core.frame.DataFrame'>\n",
      "RangeIndex: 1197 entries, 0 to 1196\n",
      "Data columns (total 5 columns):\n",
      " #   Column         Non-Null Count  Dtype \n",
      "---  ------         --------------  ----- \n",
      " 0   transactionId  1197 non-null   int64 \n",
      " 1   visitorId      1197 non-null   int64 \n",
      " 2   date           1197 non-null   object\n",
      " 3   revenue        1197 non-null   int64 \n",
      " 4   group          1197 non-null   object\n",
      "dtypes: int64(3), object(2)\n",
      "memory usage: 46.9+ KB\n"
     ]
    },
    {
     "data": {
      "text/plain": [
       "'info orders'"
      ]
     },
     "metadata": {},
     "output_type": "display_data"
    },
    {
     "data": {
      "text/plain": [
       "None"
      ]
     },
     "metadata": {},
     "output_type": "display_data"
    },
    {
     "name": "stdout",
     "output_type": "stream",
     "text": [
      "<class 'pandas.core.frame.DataFrame'>\n",
      "RangeIndex: 62 entries, 0 to 61\n",
      "Data columns (total 3 columns):\n",
      " #   Column    Non-Null Count  Dtype \n",
      "---  ------    --------------  ----- \n",
      " 0   date      62 non-null     object\n",
      " 1   group     62 non-null     object\n",
      " 2   visitors  62 non-null     int64 \n",
      "dtypes: int64(1), object(2)\n",
      "memory usage: 1.6+ KB\n"
     ]
    },
    {
     "data": {
      "text/plain": [
       "'info visitors'"
      ]
     },
     "metadata": {},
     "output_type": "display_data"
    },
    {
     "data": {
      "text/plain": [
       "None"
      ]
     },
     "metadata": {},
     "output_type": "display_data"
    }
   ],
   "source": [
    "#выведем общую информацию о датафреймах\n",
    "\n",
    "display('info orders', orders.info())\n",
    "display('info visitors', visitors.info())"
   ]
  },
  {
   "cell_type": "markdown",
   "metadata": {},
   "source": [
    "Большая часть значений во всех датафреймов является числовой. Присутствуют несколько object-столбцов, включая, в том числе, столбец `date`, который необходимо привести к временному типу."
   ]
  },
  {
   "cell_type": "markdown",
   "metadata": {},
   "source": [
    "<a id=\"preprocessing\"> </a>\n",
    "### Предобработка данных"
   ]
  },
  {
   "cell_type": "code",
   "execution_count": 6,
   "metadata": {
    "scrolled": true
   },
   "outputs": [
    {
     "data": {
      "text/plain": [
       "'orders'"
      ]
     },
     "metadata": {},
     "output_type": "display_data"
    },
    {
     "data": {
      "text/html": [
       "<div>\n",
       "<style scoped>\n",
       "    .dataframe tbody tr th:only-of-type {\n",
       "        vertical-align: middle;\n",
       "    }\n",
       "\n",
       "    .dataframe tbody tr th {\n",
       "        vertical-align: top;\n",
       "    }\n",
       "\n",
       "    .dataframe thead th {\n",
       "        text-align: right;\n",
       "    }\n",
       "</style>\n",
       "<table border=\"1\" class=\"dataframe\">\n",
       "  <thead>\n",
       "    <tr style=\"text-align: right;\">\n",
       "      <th></th>\n",
       "      <th>transaction_id</th>\n",
       "      <th>visitor_id</th>\n",
       "      <th>date</th>\n",
       "      <th>revenue</th>\n",
       "      <th>group</th>\n",
       "    </tr>\n",
       "  </thead>\n",
       "  <tbody>\n",
       "    <tr>\n",
       "      <th>0</th>\n",
       "      <td>3667963787</td>\n",
       "      <td>3312258926</td>\n",
       "      <td>2019-08-15</td>\n",
       "      <td>1650</td>\n",
       "      <td>B</td>\n",
       "    </tr>\n",
       "    <tr>\n",
       "      <th>1</th>\n",
       "      <td>2804400009</td>\n",
       "      <td>3642806036</td>\n",
       "      <td>2019-08-15</td>\n",
       "      <td>730</td>\n",
       "      <td>B</td>\n",
       "    </tr>\n",
       "    <tr>\n",
       "      <th>2</th>\n",
       "      <td>2961555356</td>\n",
       "      <td>4069496402</td>\n",
       "      <td>2019-08-15</td>\n",
       "      <td>400</td>\n",
       "      <td>A</td>\n",
       "    </tr>\n",
       "    <tr>\n",
       "      <th>3</th>\n",
       "      <td>3797467345</td>\n",
       "      <td>1196621759</td>\n",
       "      <td>2019-08-15</td>\n",
       "      <td>9759</td>\n",
       "      <td>B</td>\n",
       "    </tr>\n",
       "    <tr>\n",
       "      <th>4</th>\n",
       "      <td>2282983706</td>\n",
       "      <td>2322279887</td>\n",
       "      <td>2019-08-15</td>\n",
       "      <td>2308</td>\n",
       "      <td>B</td>\n",
       "    </tr>\n",
       "  </tbody>\n",
       "</table>\n",
       "</div>"
      ],
      "text/plain": [
       "   transaction_id  visitor_id        date  revenue group\n",
       "0      3667963787  3312258926  2019-08-15     1650     B\n",
       "1      2804400009  3642806036  2019-08-15      730     B\n",
       "2      2961555356  4069496402  2019-08-15      400     A\n",
       "3      3797467345  1196621759  2019-08-15     9759     B\n",
       "4      2282983706  2322279887  2019-08-15     2308     B"
      ]
     },
     "metadata": {},
     "output_type": "display_data"
    },
    {
     "data": {
      "text/plain": [
       "'visitors'"
      ]
     },
     "metadata": {},
     "output_type": "display_data"
    },
    {
     "data": {
      "text/html": [
       "<div>\n",
       "<style scoped>\n",
       "    .dataframe tbody tr th:only-of-type {\n",
       "        vertical-align: middle;\n",
       "    }\n",
       "\n",
       "    .dataframe tbody tr th {\n",
       "        vertical-align: top;\n",
       "    }\n",
       "\n",
       "    .dataframe thead th {\n",
       "        text-align: right;\n",
       "    }\n",
       "</style>\n",
       "<table border=\"1\" class=\"dataframe\">\n",
       "  <thead>\n",
       "    <tr style=\"text-align: right;\">\n",
       "      <th></th>\n",
       "      <th>date</th>\n",
       "      <th>group</th>\n",
       "      <th>visitors</th>\n",
       "    </tr>\n",
       "  </thead>\n",
       "  <tbody>\n",
       "    <tr>\n",
       "      <th>0</th>\n",
       "      <td>2019-08-01</td>\n",
       "      <td>A</td>\n",
       "      <td>719</td>\n",
       "    </tr>\n",
       "    <tr>\n",
       "      <th>1</th>\n",
       "      <td>2019-08-02</td>\n",
       "      <td>A</td>\n",
       "      <td>619</td>\n",
       "    </tr>\n",
       "    <tr>\n",
       "      <th>2</th>\n",
       "      <td>2019-08-03</td>\n",
       "      <td>A</td>\n",
       "      <td>507</td>\n",
       "    </tr>\n",
       "    <tr>\n",
       "      <th>3</th>\n",
       "      <td>2019-08-04</td>\n",
       "      <td>A</td>\n",
       "      <td>717</td>\n",
       "    </tr>\n",
       "    <tr>\n",
       "      <th>4</th>\n",
       "      <td>2019-08-05</td>\n",
       "      <td>A</td>\n",
       "      <td>756</td>\n",
       "    </tr>\n",
       "  </tbody>\n",
       "</table>\n",
       "</div>"
      ],
      "text/plain": [
       "         date group  visitors\n",
       "0  2019-08-01     A       719\n",
       "1  2019-08-02     A       619\n",
       "2  2019-08-03     A       507\n",
       "3  2019-08-04     A       717\n",
       "4  2019-08-05     A       756"
      ]
     },
     "metadata": {},
     "output_type": "display_data"
    }
   ],
   "source": [
    "#переведем наименования столбцов в нижний регистр\n",
    "#добавим нижний пробел для соблюдения стиля\n",
    "\n",
    "for title in [orders, visitors]:\n",
    "    title.columns = [x.lower() for x in title.columns.values]\n",
    "\n",
    "orders.rename(columns = {'transactionid':'transaction_id', 'visitorid':'visitor_id'}, inplace = True)\n",
    "\n",
    "display('orders', orders.head(5))\n",
    "display('visitors', visitors.head(5))"
   ]
  },
  {
   "cell_type": "code",
   "execution_count": 7,
   "metadata": {},
   "outputs": [],
   "source": [
    "#уберем в датафрейме возможные лишние пробелы\n",
    "\n",
    "for col in [orders, visitors]:\n",
    "    title.columns = [x.strip() for x in title.columns.values]\n",
    "\n",
    "    for col in title.columns:\n",
    "        if title[col].dtypes == 'object':\n",
    "            title[col] = title[col].map(lambda x: x.strip())"
   ]
  },
  {
   "cell_type": "code",
   "execution_count": 8,
   "metadata": {},
   "outputs": [
    {
     "name": "stdout",
     "output_type": "stream",
     "text": [
      "datetime64[ns]\n",
      "datetime64[ns]\n"
     ]
    }
   ],
   "source": [
    "#преобразуем временные данные \n",
    "\n",
    "for df in [orders, visitors]:\n",
    "    df['date'] = pd.to_datetime(df['date'])\n",
    "    print(df['date'].dtypes)"
   ]
  },
  {
   "cell_type": "code",
   "execution_count": 9,
   "metadata": {},
   "outputs": [
    {
     "name": "stdout",
     "output_type": "stream",
     "text": [
      "охватываемй период: с 2019-08-01 по 2019-08-31\n",
      "охватываемй период: с 2019-08-01 по 2019-08-31\n"
     ]
    }
   ],
   "source": [
    "#убедимся, что датасеты охватывают одинаковый период времени\n",
    "\n",
    "for df in [orders, visitors]:\n",
    "    print(f\"охватываемй период: с {min(df['date'].dt.date)} по {max(df['date'].dt.date)}\")"
   ]
  },
  {
   "cell_type": "code",
   "execution_count": 10,
   "metadata": {},
   "outputs": [
    {
     "name": "stdout",
     "output_type": "stream",
     "text": [
      "['B' 'A']\n",
      "['A' 'B']\n"
     ]
    }
   ],
   "source": [
    "#убедимся, что в столбцах group присутствуют только группы А и В\n",
    "\n",
    "for df in [orders, visitors]:\n",
    "    print(df['group'].unique())"
   ]
  },
  {
   "cell_type": "code",
   "execution_count": 11,
   "metadata": {},
   "outputs": [
    {
     "data": {
      "text/plain": [
       "(transaction_id    0\n",
       " visitor_id        0\n",
       " date              0\n",
       " revenue           0\n",
       " group             0\n",
       " dtype: int64,\n",
       " date        0\n",
       " group       0\n",
       " visitors    0\n",
       " dtype: int64)"
      ]
     },
     "execution_count": 11,
     "metadata": {},
     "output_type": "execute_result"
    }
   ],
   "source": [
    "#Проверим наличие пропусков в датафреймах\n",
    "\n",
    "orders.isna().sum(), visitors.isna().sum()"
   ]
  },
  {
   "cell_type": "code",
   "execution_count": 12,
   "metadata": {},
   "outputs": [
    {
     "data": {
      "text/plain": [
       "(0, 0)"
      ]
     },
     "execution_count": 12,
     "metadata": {},
     "output_type": "execute_result"
    }
   ],
   "source": [
    "#Проверим наличие явных дубликатов в датафреймах\n",
    "\n",
    "orders.duplicated().sum(), visitors.duplicated().sum()"
   ]
  },
  {
   "cell_type": "markdown",
   "metadata": {},
   "source": [
    "В используемых датафреймах отсутствуют дубликаты, а также пропуски. Среди всех данных имеются два численных столбца - `revenue` и `visitors` Выявим, имеются ли среди них аномалии."
   ]
  },
  {
   "cell_type": "code",
   "execution_count": 13,
   "metadata": {
    "scrolled": true
   },
   "outputs": [
    {
     "data": {
      "image/png": "[encoded data removed]",
      "text/plain": [
       "<Figure size 1080x216 with 1 Axes>"
      ]
     },
     "metadata": {
      "needs_background": "light"
     },
     "output_type": "display_data"
    }
   ],
   "source": [
    "#выведем диаграмму размаха столбца visitors датафрейма visitors\n",
    "\n",
    "visitors.boxplot(column='visitors', vert = False, figsize=(15, 3));"
   ]
  },
  {
   "cell_type": "code",
   "execution_count": 14,
   "metadata": {},
   "outputs": [
    {
     "data": {
      "image/png": "[encoded data removed]",
      "text/plain": [
       "<Figure size 1080x216 with 1 Axes>"
      ]
     },
     "metadata": {
      "needs_background": "light"
     },
     "output_type": "display_data"
    }
   ],
   "source": [
    "#выведем диаграмму размаха столбца revenue датафрейма orders\n",
    "\n",
    "orders.boxplot(column='revenue', vert = False, figsize=(15, 3));"
   ]
  },
  {
   "cell_type": "markdown",
   "metadata": {},
   "source": [
    "Данные в столбце `visitors` не выходят за пределы размаха, однако в столбце `revenue` возможны выбросы. Вернемся к ним на следующем этапе."
   ]
  },
  {
   "cell_type": "markdown",
   "metadata": {},
   "source": [
    "Для успешного проведения A/B теста необходимы следующие условия:\n",
    "\n",
    "- количество пользователей в различных группах различается не более, чем на 1%;\n",
    "- различие ключевых метрик по группам не превышает 1% и не имеет статистической значимости;\n",
    "- попавший в одну из групп посетитель остаётся в этой группе до конца теста.\n",
    "\n",
    "Для начала убедимся, что количество пользователей в обеих группах совпадает, а также что пользователи, которые могли по ошибке оказаться и в группе А, и в группе В, отсутствуют."
   ]
  },
  {
   "cell_type": "code",
   "execution_count": 15,
   "metadata": {
    "scrolled": false
   },
   "outputs": [
    {
     "data": {
      "text/plain": [
       "'Уникальных покупателей'"
      ]
     },
     "metadata": {},
     "output_type": "display_data"
    },
    {
     "data": {
      "text/html": [
       "<div>\n",
       "<style scoped>\n",
       "    .dataframe tbody tr th:only-of-type {\n",
       "        vertical-align: middle;\n",
       "    }\n",
       "\n",
       "    .dataframe tbody tr th {\n",
       "        vertical-align: top;\n",
       "    }\n",
       "\n",
       "    .dataframe thead th {\n",
       "        text-align: right;\n",
       "    }\n",
       "</style>\n",
       "<table border=\"1\" class=\"dataframe\">\n",
       "  <thead>\n",
       "    <tr style=\"text-align: right;\">\n",
       "      <th></th>\n",
       "      <th>visitors</th>\n",
       "    </tr>\n",
       "    <tr>\n",
       "      <th>group</th>\n",
       "      <th></th>\n",
       "    </tr>\n",
       "  </thead>\n",
       "  <tbody>\n",
       "    <tr>\n",
       "      <th>A</th>\n",
       "      <td>503</td>\n",
       "    </tr>\n",
       "    <tr>\n",
       "      <th>B</th>\n",
       "      <td>586</td>\n",
       "    </tr>\n",
       "  </tbody>\n",
       "</table>\n",
       "</div>"
      ],
      "text/plain": [
       "       visitors\n",
       "group          \n",
       "A           503\n",
       "B           586"
      ]
     },
     "metadata": {},
     "output_type": "display_data"
    },
    {
     "data": {
      "text/plain": [
       "'Всего покупателей'"
      ]
     },
     "metadata": {},
     "output_type": "display_data"
    },
    {
     "data": {
      "text/html": [
       "<div>\n",
       "<style scoped>\n",
       "    .dataframe tbody tr th:only-of-type {\n",
       "        vertical-align: middle;\n",
       "    }\n",
       "\n",
       "    .dataframe tbody tr th {\n",
       "        vertical-align: top;\n",
       "    }\n",
       "\n",
       "    .dataframe thead th {\n",
       "        text-align: right;\n",
       "    }\n",
       "</style>\n",
       "<table border=\"1\" class=\"dataframe\">\n",
       "  <thead>\n",
       "    <tr style=\"text-align: right;\">\n",
       "      <th></th>\n",
       "      <th>visitors</th>\n",
       "    </tr>\n",
       "    <tr>\n",
       "      <th>group</th>\n",
       "      <th></th>\n",
       "    </tr>\n",
       "  </thead>\n",
       "  <tbody>\n",
       "    <tr>\n",
       "      <th>A</th>\n",
       "      <td>557</td>\n",
       "    </tr>\n",
       "    <tr>\n",
       "      <th>B</th>\n",
       "      <td>640</td>\n",
       "    </tr>\n",
       "  </tbody>\n",
       "</table>\n",
       "</div>"
      ],
      "text/plain": [
       "       visitors\n",
       "group          \n",
       "A           557\n",
       "B           640"
      ]
     },
     "metadata": {},
     "output_type": "display_data"
    },
    {
     "data": {
      "text/plain": [
       "'Bсего посетителей'"
      ]
     },
     "metadata": {},
     "output_type": "display_data"
    },
    {
     "data": {
      "text/html": [
       "<div>\n",
       "<style scoped>\n",
       "    .dataframe tbody tr th:only-of-type {\n",
       "        vertical-align: middle;\n",
       "    }\n",
       "\n",
       "    .dataframe tbody tr th {\n",
       "        vertical-align: top;\n",
       "    }\n",
       "\n",
       "    .dataframe thead th {\n",
       "        text-align: right;\n",
       "    }\n",
       "</style>\n",
       "<table border=\"1\" class=\"dataframe\">\n",
       "  <thead>\n",
       "    <tr style=\"text-align: right;\">\n",
       "      <th></th>\n",
       "      <th>visitors</th>\n",
       "    </tr>\n",
       "    <tr>\n",
       "      <th>group</th>\n",
       "      <th></th>\n",
       "    </tr>\n",
       "  </thead>\n",
       "  <tbody>\n",
       "    <tr>\n",
       "      <th>A</th>\n",
       "      <td>18736</td>\n",
       "    </tr>\n",
       "    <tr>\n",
       "      <th>B</th>\n",
       "      <td>18916</td>\n",
       "    </tr>\n",
       "  </tbody>\n",
       "</table>\n",
       "</div>"
      ],
      "text/plain": [
       "       visitors\n",
       "group          \n",
       "A         18736\n",
       "B         18916"
      ]
     },
     "metadata": {},
     "output_type": "display_data"
    }
   ],
   "source": [
    "#проверим, как много пользователей и посетителей оказалось в обеих группах\n",
    "\n",
    "unique_buyers_by_group = (\n",
    "    orders\n",
    "    .pivot_table(index='group', \n",
    "                       values='visitor_id', \n",
    "                       aggfunc='nunique')\n",
    "    .rename(columns={'visitor_id': 'visitors'})\n",
    ")\n",
    "\n",
    "visitors_by_group = (\n",
    "    visitors\n",
    "    .pivot_table(index='group', \n",
    "                 values='visitors', \n",
    "                 aggfunc='sum')\n",
    ")\n",
    "\n",
    "buyers_by_group = (\n",
    "    orders\n",
    "    .pivot_table(index='group', \n",
    "                 values='visitor_id', \n",
    "                 aggfunc='count')\n",
    "    .rename(columns={'visitor_id': 'visitors'})\n",
    "\n",
    ")\n",
    "\n",
    "display('Уникальных покупателей', unique_buyers_by_group)\n",
    "display('Всего покупателей', buyers_by_group)\n",
    "display('Bсего посетителей', visitors_by_group)"
   ]
  },
  {
   "cell_type": "code",
   "execution_count": 16,
   "metadata": {},
   "outputs": [
    {
     "data": {
      "text/plain": [
       "'уникальных покупателей группы В больше на: 16.50%'"
      ]
     },
     "metadata": {},
     "output_type": "display_data"
    },
    {
     "data": {
      "text/plain": [
       "'покупателей группы В больше на: 14.90%'"
      ]
     },
     "metadata": {},
     "output_type": "display_data"
    },
    {
     "data": {
      "text/plain": [
       "'посетителей группы В больше на: 0.96%'"
      ]
     },
     "metadata": {},
     "output_type": "display_data"
    }
   ],
   "source": [
    "#сравним полученные по группам результаты\n",
    "\n",
    "display('уникальных покупателей группы В больше на: {:.2%}'\n",
    "        .format((unique_buyers_by_group['visitors'][1] \\\n",
    "                 / unique_buyers_by_group['visitors'][0]) - 1)\n",
    "       )\n",
    "\n",
    "display('покупателей группы В больше на: {:.2%}'\n",
    "        .format((buyers_by_group['visitors'][1] \\\n",
    "                 / buyers_by_group['visitors'][0]) - 1)\n",
    "       )\n",
    "\n",
    "display(\n",
    "'посетителей группы В больше на: {:.2%}'\n",
    "        .format(visitors_by_group['visitors'][1] \\\n",
    "                / visitors_by_group['visitors'][0] - 1 )\n",
    ")"
   ]
  },
  {
   "cell_type": "markdown",
   "metadata": {},
   "source": [
    "Количество посетителей интернет-магазина обеих групп примерно равно, разница не превышает 1%, что соответствует условиям теста. Однако, группа В гораздо активнее совершает покупки - на 16,5%. Учитывая, что значительную часть теста мы будем работать именно с данными о покупках, такая ассиметрия может негативно повлиять на итоговый результат.  "
   ]
  },
  {
   "cell_type": "code",
   "execution_count": 17,
   "metadata": {},
   "outputs": [
    {
     "data": {
      "text/plain": [
       "'% уникальных покупателей от посетителей'"
      ]
     },
     "metadata": {},
     "output_type": "display_data"
    },
    {
     "data": {
      "text/html": [
       "<div>\n",
       "<style scoped>\n",
       "    .dataframe tbody tr th:only-of-type {\n",
       "        vertical-align: middle;\n",
       "    }\n",
       "\n",
       "    .dataframe tbody tr th {\n",
       "        vertical-align: top;\n",
       "    }\n",
       "\n",
       "    .dataframe thead th {\n",
       "        text-align: right;\n",
       "    }\n",
       "</style>\n",
       "<table border=\"1\" class=\"dataframe\">\n",
       "  <thead>\n",
       "    <tr style=\"text-align: right;\">\n",
       "      <th></th>\n",
       "      <th>visitors</th>\n",
       "    </tr>\n",
       "    <tr>\n",
       "      <th>group</th>\n",
       "      <th></th>\n",
       "    </tr>\n",
       "  </thead>\n",
       "  <tbody>\n",
       "    <tr>\n",
       "      <th>A</th>\n",
       "      <td>0.027</td>\n",
       "    </tr>\n",
       "    <tr>\n",
       "      <th>B</th>\n",
       "      <td>0.031</td>\n",
       "    </tr>\n",
       "  </tbody>\n",
       "</table>\n",
       "</div>"
      ],
      "text/plain": [
       "       visitors\n",
       "group          \n",
       "A         0.027\n",
       "B         0.031"
      ]
     },
     "metadata": {},
     "output_type": "display_data"
    },
    {
     "data": {
      "text/plain": [
       "'% Покупателей от посетителей'"
      ]
     },
     "metadata": {},
     "output_type": "display_data"
    },
    {
     "data": {
      "text/html": [
       "<div>\n",
       "<style scoped>\n",
       "    .dataframe tbody tr th:only-of-type {\n",
       "        vertical-align: middle;\n",
       "    }\n",
       "\n",
       "    .dataframe tbody tr th {\n",
       "        vertical-align: top;\n",
       "    }\n",
       "\n",
       "    .dataframe thead th {\n",
       "        text-align: right;\n",
       "    }\n",
       "</style>\n",
       "<table border=\"1\" class=\"dataframe\">\n",
       "  <thead>\n",
       "    <tr style=\"text-align: right;\">\n",
       "      <th></th>\n",
       "      <th>visitors</th>\n",
       "    </tr>\n",
       "    <tr>\n",
       "      <th>group</th>\n",
       "      <th></th>\n",
       "    </tr>\n",
       "  </thead>\n",
       "  <tbody>\n",
       "    <tr>\n",
       "      <th>A</th>\n",
       "      <td>0.030</td>\n",
       "    </tr>\n",
       "    <tr>\n",
       "      <th>B</th>\n",
       "      <td>0.034</td>\n",
       "    </tr>\n",
       "  </tbody>\n",
       "</table>\n",
       "</div>"
      ],
      "text/plain": [
       "       visitors\n",
       "group          \n",
       "A         0.030\n",
       "B         0.034"
      ]
     },
     "metadata": {},
     "output_type": "display_data"
    }
   ],
   "source": [
    "#выведем, какой процент составляют покупатели от всех посетителей интернет-магазина\n",
    "\n",
    "display('% уникальных покупателей от посетителей', (unique_buyers_by_group / visitors_by_group).round(3))\n",
    "display('% Покупателей от посетителей', (buyers_by_group / visitors_by_group).round(3))"
   ]
  },
  {
   "cell_type": "markdown",
   "metadata": {},
   "source": [
    "По условиям нам не обозначено, данные о каких именно посетителях находятся в стобце visitors одноименного датафрейма: уникальных или всех, кто посетил интернет-магазин более одного раза в день. Именно поэтому в расчетах процентного соотношения покупателей от посетителей были взяты как уникальные, так и все пользователи. Тем не менее, значительной разницы между ними не обнаружено: общее количесто покупателей достаточно мало и составляет около 3% всех посетителей в каждой из групп. "
   ]
  },
  {
   "cell_type": "code",
   "execution_count": 18,
   "metadata": {},
   "outputs": [
    {
     "data": {
      "text/plain": [
       "58"
      ]
     },
     "execution_count": 18,
     "metadata": {},
     "output_type": "execute_result"
    }
   ],
   "source": [
    "#выявим возможное нахождение пользователей в одних и тех же группах\n",
    "\n",
    "common_users = (\n",
    "    set(orders\n",
    "    .query('group == \"A\"')['visitor_id'])\n",
    "    .intersection(set(orders.query('group == \"B\"')['visitor_id'])\n",
    "                 )\n",
    ")\n",
    "\n",
    "len(common_users)"
   ]
  },
  {
   "cell_type": "code",
   "execution_count": 19,
   "metadata": {},
   "outputs": [
    {
     "data": {
      "text/plain": [
       "'пересекающихся пользователей: 5.63%'"
      ]
     },
     "metadata": {},
     "output_type": "display_data"
    },
    {
     "data": {
      "text/plain": [
       "'всего заказов на пересекающихся пользователей: 4.85%'"
      ]
     },
     "metadata": {},
     "output_type": "display_data"
    }
   ],
   "source": [
    "#проверим, какую часть пользователей составляют полученные значения,\n",
    "#а также какой процент всех данных приходится на них\n",
    "\n",
    "display('пересекающихся пользователей: {:.2%}'\n",
    "        .format(len(common_users) / orders['visitor_id'].nunique()))\n",
    "\n",
    "display('всего заказов на пересекающихся пользователей: {:.2%}'\n",
    "        .format(len(common_users) / len(orders)))"
   ]
  },
  {
   "cell_type": "markdown",
   "metadata": {},
   "source": [
    "Пользователей, которые попали одновременно в обе исследуемые группы, оказалось более 5%. С одной стороны, их присутствие может искажать характеристки поведения обеих групп. С другой стороны, общее число посетителей в датафрейме `visitors` включает, в том числе, и этих пользователей, и при удалении пользователей из данных `orders`, необходимо также скорректировать число посетителей, однако, датафрейм `visitors` включает только обобщенные даты по дням без возможности установить, когда и сколько раз каждый из покупателей посещал интернет-магазин. Тем не менее, как было установлено выше, число покупателей среди всех посетителей является не столь значительным и их сокращение на 5% не изменит общую долю посетителей, однако обеспечит большую точность данных при расчетах платежных метрик."
   ]
  },
  {
   "cell_type": "code",
   "execution_count": 20,
   "metadata": {},
   "outputs": [
    {
     "data": {
      "text/plain": [
       "'число записей до удаления:'"
      ]
     },
     "metadata": {},
     "output_type": "display_data"
    },
    {
     "data": {
      "text/plain": [
       "1197"
      ]
     },
     "metadata": {},
     "output_type": "display_data"
    },
    {
     "data": {
      "text/plain": [
       "'число записей после удаления:'"
      ]
     },
     "metadata": {},
     "output_type": "display_data"
    },
    {
     "data": {
      "text/plain": [
       "1016"
      ]
     },
     "metadata": {},
     "output_type": "display_data"
    }
   ],
   "source": [
    "#удаляем пересекающихся пользователей \n",
    "\n",
    "display('число записей до удаления:', len(orders))\n",
    "orders = orders.query('visitor_id not in @common_users')\n",
    "display('число записей после удаления:', len(orders))"
   ]
  },
  {
   "cell_type": "markdown",
   "metadata": {},
   "source": [
    "<a id=\"data_united\"> </a>                  \n",
    "\n",
    "### Создание объединенной таблицы для расчетов"
   ]
  },
  {
   "cell_type": "markdown",
   "metadata": {},
   "source": [
    "Для дальнейших расчетов нам потребуется создать объединенную таблицу, в которую войдут:\n",
    "- количество покупателей для каждой группы по датам;\n",
    "- информация о количестве заказов для каждой группы по датам;\n",
    "- информация о суммарной выручке для каждой группы по датам;\n",
    "- кумулятивное число заказов для каждой группы по датам;\n",
    "- кумулятивная выручка для каждой группы по датам;\n",
    "- количество пользователей для каждой группы по датам;\n",
    "- кумулятивное количество пользователей для каждой группы по датам"
   ]
  },
  {
   "cell_type": "code",
   "execution_count": 21,
   "metadata": {},
   "outputs": [
    {
     "data": {
      "text/plain": [
       "'A'"
      ]
     },
     "metadata": {},
     "output_type": "display_data"
    },
    {
     "data": {
      "text/html": [
       "<div>\n",
       "<style scoped>\n",
       "    .dataframe tbody tr th:only-of-type {\n",
       "        vertical-align: middle;\n",
       "    }\n",
       "\n",
       "    .dataframe tbody tr th {\n",
       "        vertical-align: top;\n",
       "    }\n",
       "\n",
       "    .dataframe thead th {\n",
       "        text-align: right;\n",
       "    }\n",
       "</style>\n",
       "<table border=\"1\" class=\"dataframe\">\n",
       "  <thead>\n",
       "    <tr style=\"text-align: right;\">\n",
       "      <th></th>\n",
       "      <th>date</th>\n",
       "      <th>orders_A</th>\n",
       "      <th>buyers_A</th>\n",
       "      <th>revenue_A</th>\n",
       "    </tr>\n",
       "  </thead>\n",
       "  <tbody>\n",
       "    <tr>\n",
       "      <th>0</th>\n",
       "      <td>2019-08-01</td>\n",
       "      <td>23</td>\n",
       "      <td>19</td>\n",
       "      <td>142779</td>\n",
       "    </tr>\n",
       "    <tr>\n",
       "      <th>1</th>\n",
       "      <td>2019-08-02</td>\n",
       "      <td>19</td>\n",
       "      <td>18</td>\n",
       "      <td>91602</td>\n",
       "    </tr>\n",
       "    <tr>\n",
       "      <th>2</th>\n",
       "      <td>2019-08-03</td>\n",
       "      <td>24</td>\n",
       "      <td>24</td>\n",
       "      <td>112473</td>\n",
       "    </tr>\n",
       "  </tbody>\n",
       "</table>\n",
       "</div>"
      ],
      "text/plain": [
       "        date  orders_A  buyers_A  revenue_A\n",
       "0 2019-08-01        23        19     142779\n",
       "1 2019-08-02        19        18      91602\n",
       "2 2019-08-03        24        24     112473"
      ]
     },
     "metadata": {},
     "output_type": "display_data"
    },
    {
     "data": {
      "text/plain": [
       "'B'"
      ]
     },
     "metadata": {},
     "output_type": "display_data"
    },
    {
     "data": {
      "text/html": [
       "<div>\n",
       "<style scoped>\n",
       "    .dataframe tbody tr th:only-of-type {\n",
       "        vertical-align: middle;\n",
       "    }\n",
       "\n",
       "    .dataframe tbody tr th {\n",
       "        vertical-align: top;\n",
       "    }\n",
       "\n",
       "    .dataframe thead th {\n",
       "        text-align: right;\n",
       "    }\n",
       "</style>\n",
       "<table border=\"1\" class=\"dataframe\">\n",
       "  <thead>\n",
       "    <tr style=\"text-align: right;\">\n",
       "      <th></th>\n",
       "      <th>date</th>\n",
       "      <th>orders_B</th>\n",
       "      <th>buyers_B</th>\n",
       "      <th>revenue_B</th>\n",
       "    </tr>\n",
       "  </thead>\n",
       "  <tbody>\n",
       "    <tr>\n",
       "      <th>0</th>\n",
       "      <td>2019-08-01</td>\n",
       "      <td>17</td>\n",
       "      <td>17</td>\n",
       "      <td>59758</td>\n",
       "    </tr>\n",
       "    <tr>\n",
       "      <th>1</th>\n",
       "      <td>2019-08-02</td>\n",
       "      <td>23</td>\n",
       "      <td>22</td>\n",
       "      <td>162043</td>\n",
       "    </tr>\n",
       "    <tr>\n",
       "      <th>2</th>\n",
       "      <td>2019-08-03</td>\n",
       "      <td>14</td>\n",
       "      <td>14</td>\n",
       "      <td>67049</td>\n",
       "    </tr>\n",
       "  </tbody>\n",
       "</table>\n",
       "</div>"
      ],
      "text/plain": [
       "        date  orders_B  buyers_B  revenue_B\n",
       "0 2019-08-01        17        17      59758\n",
       "1 2019-08-02        23        22     162043\n",
       "2 2019-08-03        14        14      67049"
      ]
     },
     "metadata": {},
     "output_type": "display_data"
    }
   ],
   "source": [
    "#создадим переменные для каждой группы, куда войдут данные о числе покупателей, \n",
    "#числе покупок и сумме выручки по дням\n",
    "\n",
    "orders_per_date_A = (\n",
    "    orders.query('group == \"A\"')\n",
    "    .groupby('date', as_index=False)\n",
    "    .agg({'transaction_id': 'nunique', \n",
    "          'visitor_id': 'nunique', \n",
    "          'revenue': 'sum'})\n",
    "    .rename(columns={'transaction_id': 'orders_A', \n",
    "                     'visitor_id': 'buyers_A', \n",
    "                     'revenue': 'revenue_A'})\n",
    ")\n",
    "\n",
    "orders_per_date_B = (\n",
    "    orders.query('group == \"B\"')\n",
    "    .groupby('date', as_index=False)\n",
    "    .agg({'transaction_id': 'nunique', \n",
    "          'visitor_id': 'nunique', \n",
    "          'revenue': 'sum'})\n",
    "    .rename(columns={'transaction_id': 'orders_B', \n",
    "                     'visitor_id': 'buyers_B', \n",
    "                     'revenue': 'revenue_B'})\n",
    ")\n",
    "display('A', orders_per_date_A.head(3))\n",
    "display('B', orders_per_date_B.head(3))"
   ]
  },
  {
   "cell_type": "code",
   "execution_count": 22,
   "metadata": {},
   "outputs": [
    {
     "data": {
      "text/plain": [
       "'A'"
      ]
     },
     "metadata": {},
     "output_type": "display_data"
    },
    {
     "data": {
      "text/html": [
       "<div>\n",
       "<style scoped>\n",
       "    .dataframe tbody tr th:only-of-type {\n",
       "        vertical-align: middle;\n",
       "    }\n",
       "\n",
       "    .dataframe tbody tr th {\n",
       "        vertical-align: top;\n",
       "    }\n",
       "\n",
       "    .dataframe thead th {\n",
       "        text-align: right;\n",
       "    }\n",
       "</style>\n",
       "<table border=\"1\" class=\"dataframe\">\n",
       "  <thead>\n",
       "    <tr style=\"text-align: right;\">\n",
       "      <th></th>\n",
       "      <th>date</th>\n",
       "      <th>cmlt_orders_A</th>\n",
       "      <th>cmlt_buyers_A</th>\n",
       "      <th>cmlt_revenue_A</th>\n",
       "    </tr>\n",
       "  </thead>\n",
       "  <tbody>\n",
       "    <tr>\n",
       "      <th>0</th>\n",
       "      <td>2019-08-01</td>\n",
       "      <td>23</td>\n",
       "      <td>19</td>\n",
       "      <td>142779</td>\n",
       "    </tr>\n",
       "    <tr>\n",
       "      <th>1</th>\n",
       "      <td>2019-08-02</td>\n",
       "      <td>42</td>\n",
       "      <td>37</td>\n",
       "      <td>234381</td>\n",
       "    </tr>\n",
       "    <tr>\n",
       "      <th>2</th>\n",
       "      <td>2019-08-03</td>\n",
       "      <td>66</td>\n",
       "      <td>61</td>\n",
       "      <td>346854</td>\n",
       "    </tr>\n",
       "  </tbody>\n",
       "</table>\n",
       "</div>"
      ],
      "text/plain": [
       "        date  cmlt_orders_A  cmlt_buyers_A  cmlt_revenue_A\n",
       "0 2019-08-01             23             19          142779\n",
       "1 2019-08-02             42             37          234381\n",
       "2 2019-08-03             66             61          346854"
      ]
     },
     "metadata": {},
     "output_type": "display_data"
    },
    {
     "data": {
      "text/plain": [
       "'B'"
      ]
     },
     "metadata": {},
     "output_type": "display_data"
    },
    {
     "data": {
      "text/html": [
       "<div>\n",
       "<style scoped>\n",
       "    .dataframe tbody tr th:only-of-type {\n",
       "        vertical-align: middle;\n",
       "    }\n",
       "\n",
       "    .dataframe tbody tr th {\n",
       "        vertical-align: top;\n",
       "    }\n",
       "\n",
       "    .dataframe thead th {\n",
       "        text-align: right;\n",
       "    }\n",
       "</style>\n",
       "<table border=\"1\" class=\"dataframe\">\n",
       "  <thead>\n",
       "    <tr style=\"text-align: right;\">\n",
       "      <th></th>\n",
       "      <th>date</th>\n",
       "      <th>cmlt_orders_B</th>\n",
       "      <th>cmlt_buyers_B</th>\n",
       "      <th>cmlt_revenue_B</th>\n",
       "    </tr>\n",
       "  </thead>\n",
       "  <tbody>\n",
       "    <tr>\n",
       "      <th>0</th>\n",
       "      <td>2019-08-01</td>\n",
       "      <td>17</td>\n",
       "      <td>17</td>\n",
       "      <td>59758</td>\n",
       "    </tr>\n",
       "    <tr>\n",
       "      <th>1</th>\n",
       "      <td>2019-08-02</td>\n",
       "      <td>40</td>\n",
       "      <td>39</td>\n",
       "      <td>221801</td>\n",
       "    </tr>\n",
       "    <tr>\n",
       "      <th>2</th>\n",
       "      <td>2019-08-03</td>\n",
       "      <td>54</td>\n",
       "      <td>53</td>\n",
       "      <td>288850</td>\n",
       "    </tr>\n",
       "  </tbody>\n",
       "</table>\n",
       "</div>"
      ],
      "text/plain": [
       "        date  cmlt_orders_B  cmlt_buyers_B  cmlt_revenue_B\n",
       "0 2019-08-01             17             17           59758\n",
       "1 2019-08-02             40             39          221801\n",
       "2 2019-08-03             54             53          288850"
      ]
     },
     "metadata": {},
     "output_type": "display_data"
    }
   ],
   "source": [
    "#создадим переменные, куда войдут кумулятивные данные по каждой группе\n",
    "\n",
    "cmlt_orders_per_date_A = (\n",
    "    orders_per_date_A\n",
    "    .apply(lambda x: orders_per_date_A[orders_per_date_A['date'] <= x['date']]\n",
    "                            .agg({'date' : 'max', \n",
    "                                  'orders_A' : 'sum', \n",
    "                                  'buyers_A' : 'sum', \n",
    "                                  'revenue_A' : 'sum'}), axis=1)\n",
    "    .rename(columns={'orders_A': \n",
    "                     'cmlt_orders_A', \n",
    "                     'buyers_A': 'cmlt_buyers_A', \n",
    "                     'revenue_A': 'cmlt_revenue_A'})\n",
    ")\n",
    "\n",
    "\n",
    "cmlt_orders_per_date_B = (\n",
    "    orders_per_date_B\n",
    "    .apply(lambda x: orders_per_date_B[orders_per_date_B['date'] <= x['date']]\n",
    "                            .agg({'date' : 'max', \n",
    "                                  'orders_B' : 'sum', \n",
    "                                  'buyers_B' : 'sum', \n",
    "                                  'revenue_B' : 'sum'}), axis=1)\n",
    "    .rename(columns={'orders_B': 'cmlt_orders_B', \n",
    "                     'buyers_B': 'cmlt_buyers_B', \n",
    "                     'revenue_B': 'cmlt_revenue_B'})\n",
    ")\n",
    "\n",
    "display('A', cmlt_orders_per_date_A.head(3))\n",
    "display('B', cmlt_orders_per_date_B.head(3))"
   ]
  },
  {
   "cell_type": "code",
   "execution_count": 23,
   "metadata": {},
   "outputs": [
    {
     "data": {
      "text/plain": [
       "'A'"
      ]
     },
     "metadata": {},
     "output_type": "display_data"
    },
    {
     "data": {
      "text/html": [
       "<div>\n",
       "<style scoped>\n",
       "    .dataframe tbody tr th:only-of-type {\n",
       "        vertical-align: middle;\n",
       "    }\n",
       "\n",
       "    .dataframe tbody tr th {\n",
       "        vertical-align: top;\n",
       "    }\n",
       "\n",
       "    .dataframe thead th {\n",
       "        text-align: right;\n",
       "    }\n",
       "</style>\n",
       "<table border=\"1\" class=\"dataframe\">\n",
       "  <thead>\n",
       "    <tr style=\"text-align: right;\">\n",
       "      <th></th>\n",
       "      <th>date</th>\n",
       "      <th>visitors_A</th>\n",
       "    </tr>\n",
       "  </thead>\n",
       "  <tbody>\n",
       "    <tr>\n",
       "      <th>0</th>\n",
       "      <td>2019-08-01</td>\n",
       "      <td>719</td>\n",
       "    </tr>\n",
       "    <tr>\n",
       "      <th>1</th>\n",
       "      <td>2019-08-02</td>\n",
       "      <td>619</td>\n",
       "    </tr>\n",
       "    <tr>\n",
       "      <th>2</th>\n",
       "      <td>2019-08-03</td>\n",
       "      <td>507</td>\n",
       "    </tr>\n",
       "  </tbody>\n",
       "</table>\n",
       "</div>"
      ],
      "text/plain": [
       "        date  visitors_A\n",
       "0 2019-08-01         719\n",
       "1 2019-08-02         619\n",
       "2 2019-08-03         507"
      ]
     },
     "metadata": {},
     "output_type": "display_data"
    },
    {
     "data": {
      "text/plain": [
       "'B'"
      ]
     },
     "metadata": {},
     "output_type": "display_data"
    },
    {
     "data": {
      "text/html": [
       "<div>\n",
       "<style scoped>\n",
       "    .dataframe tbody tr th:only-of-type {\n",
       "        vertical-align: middle;\n",
       "    }\n",
       "\n",
       "    .dataframe tbody tr th {\n",
       "        vertical-align: top;\n",
       "    }\n",
       "\n",
       "    .dataframe thead th {\n",
       "        text-align: right;\n",
       "    }\n",
       "</style>\n",
       "<table border=\"1\" class=\"dataframe\">\n",
       "  <thead>\n",
       "    <tr style=\"text-align: right;\">\n",
       "      <th></th>\n",
       "      <th>date</th>\n",
       "      <th>visitors_B</th>\n",
       "    </tr>\n",
       "  </thead>\n",
       "  <tbody>\n",
       "    <tr>\n",
       "      <th>31</th>\n",
       "      <td>2019-08-01</td>\n",
       "      <td>713</td>\n",
       "    </tr>\n",
       "    <tr>\n",
       "      <th>32</th>\n",
       "      <td>2019-08-02</td>\n",
       "      <td>581</td>\n",
       "    </tr>\n",
       "    <tr>\n",
       "      <th>33</th>\n",
       "      <td>2019-08-03</td>\n",
       "      <td>509</td>\n",
       "    </tr>\n",
       "  </tbody>\n",
       "</table>\n",
       "</div>"
      ],
      "text/plain": [
       "         date  visitors_B\n",
       "31 2019-08-01         713\n",
       "32 2019-08-02         581\n",
       "33 2019-08-03         509"
      ]
     },
     "metadata": {},
     "output_type": "display_data"
    }
   ],
   "source": [
    "#выделим данные по посетителям в каждой группе в отдельные переменные\n",
    "\n",
    "visitors_per_date_A = (\n",
    "    visitors\n",
    "    .query('group == \"A\"')[['date', 'visitors']]\n",
    "    .rename(columns={'visitors': 'visitors_A'})\n",
    ")\n",
    "\n",
    "visitors_per_date_B = (\n",
    "    visitors\n",
    "    .query('group == \"B\"')[['date', 'visitors']]\n",
    "    .rename(columns={'visitors': 'visitors_B'})\n",
    ")\n",
    "                       \n",
    "display('A', visitors_per_date_A.head(3))\n",
    "display('B', visitors_per_date_B.head(3))"
   ]
  },
  {
   "cell_type": "code",
   "execution_count": 24,
   "metadata": {},
   "outputs": [
    {
     "data": {
      "text/plain": [
       "'A'"
      ]
     },
     "metadata": {},
     "output_type": "display_data"
    },
    {
     "data": {
      "text/html": [
       "<div>\n",
       "<style scoped>\n",
       "    .dataframe tbody tr th:only-of-type {\n",
       "        vertical-align: middle;\n",
       "    }\n",
       "\n",
       "    .dataframe tbody tr th {\n",
       "        vertical-align: top;\n",
       "    }\n",
       "\n",
       "    .dataframe thead th {\n",
       "        text-align: right;\n",
       "    }\n",
       "</style>\n",
       "<table border=\"1\" class=\"dataframe\">\n",
       "  <thead>\n",
       "    <tr style=\"text-align: right;\">\n",
       "      <th></th>\n",
       "      <th>date</th>\n",
       "      <th>cmlt_visitors_A</th>\n",
       "    </tr>\n",
       "  </thead>\n",
       "  <tbody>\n",
       "    <tr>\n",
       "      <th>0</th>\n",
       "      <td>2019-08-01</td>\n",
       "      <td>719</td>\n",
       "    </tr>\n",
       "    <tr>\n",
       "      <th>1</th>\n",
       "      <td>2019-08-02</td>\n",
       "      <td>1338</td>\n",
       "    </tr>\n",
       "    <tr>\n",
       "      <th>2</th>\n",
       "      <td>2019-08-03</td>\n",
       "      <td>1845</td>\n",
       "    </tr>\n",
       "  </tbody>\n",
       "</table>\n",
       "</div>"
      ],
      "text/plain": [
       "        date  cmlt_visitors_A\n",
       "0 2019-08-01              719\n",
       "1 2019-08-02             1338\n",
       "2 2019-08-03             1845"
      ]
     },
     "metadata": {},
     "output_type": "display_data"
    },
    {
     "data": {
      "text/plain": [
       "'B'"
      ]
     },
     "metadata": {},
     "output_type": "display_data"
    },
    {
     "data": {
      "text/html": [
       "<div>\n",
       "<style scoped>\n",
       "    .dataframe tbody tr th:only-of-type {\n",
       "        vertical-align: middle;\n",
       "    }\n",
       "\n",
       "    .dataframe tbody tr th {\n",
       "        vertical-align: top;\n",
       "    }\n",
       "\n",
       "    .dataframe thead th {\n",
       "        text-align: right;\n",
       "    }\n",
       "</style>\n",
       "<table border=\"1\" class=\"dataframe\">\n",
       "  <thead>\n",
       "    <tr style=\"text-align: right;\">\n",
       "      <th></th>\n",
       "      <th>date</th>\n",
       "      <th>cmlt_visitors_B</th>\n",
       "    </tr>\n",
       "  </thead>\n",
       "  <tbody>\n",
       "    <tr>\n",
       "      <th>31</th>\n",
       "      <td>2019-08-01</td>\n",
       "      <td>713</td>\n",
       "    </tr>\n",
       "    <tr>\n",
       "      <th>32</th>\n",
       "      <td>2019-08-02</td>\n",
       "      <td>1294</td>\n",
       "    </tr>\n",
       "    <tr>\n",
       "      <th>33</th>\n",
       "      <td>2019-08-03</td>\n",
       "      <td>1803</td>\n",
       "    </tr>\n",
       "  </tbody>\n",
       "</table>\n",
       "</div>"
      ],
      "text/plain": [
       "         date  cmlt_visitors_B\n",
       "31 2019-08-01              713\n",
       "32 2019-08-02             1294\n",
       "33 2019-08-03             1803"
      ]
     },
     "metadata": {},
     "output_type": "display_data"
    }
   ],
   "source": [
    "#создадим переменные, куда войдут кумулятивные данные по каждой группе\n",
    "\n",
    "cmlt_visitors_per_date_A = (\n",
    "    visitors_per_date_A\n",
    "    .apply(lambda x: visitors_per_date_A[visitors_per_date_A['date'] <= x['date']]\n",
    "           .agg({'date' : 'max', 'visitors_A' : 'sum'}), axis=1)\n",
    "    .rename(columns={'visitors_A': 'cmlt_visitors_A'})\n",
    ")\n",
    "\n",
    "\n",
    "cmlt_visitors_per_date_B = (\n",
    "    visitors_per_date_B\n",
    "    .apply(lambda x: visitors_per_date_B[visitors_per_date_B['date'] <= x['date']]\n",
    "           .agg({'date' : 'max', 'visitors_B' : 'sum'}), axis=1)\n",
    "    .rename(columns={'visitors_B': 'cmlt_visitors_B'})\n",
    ")\n",
    "\n",
    "display('A', cmlt_visitors_per_date_A.head(3))\n",
    "display('B', cmlt_visitors_per_date_B.head(3))"
   ]
  },
  {
   "cell_type": "code",
   "execution_count": 25,
   "metadata": {},
   "outputs": [
    {
     "data": {
      "text/html": [
       "<div>\n",
       "<style scoped>\n",
       "    .dataframe tbody tr th:only-of-type {\n",
       "        vertical-align: middle;\n",
       "    }\n",
       "\n",
       "    .dataframe tbody tr th {\n",
       "        vertical-align: top;\n",
       "    }\n",
       "\n",
       "    .dataframe thead th {\n",
       "        text-align: right;\n",
       "    }\n",
       "</style>\n",
       "<table border=\"1\" class=\"dataframe\">\n",
       "  <thead>\n",
       "    <tr style=\"text-align: right;\">\n",
       "      <th></th>\n",
       "      <th>date</th>\n",
       "      <th>orders_A</th>\n",
       "      <th>buyers_A</th>\n",
       "      <th>revenue_A</th>\n",
       "      <th>cmlt_orders_A</th>\n",
       "      <th>cmlt_buyers_A</th>\n",
       "      <th>cmlt_revenue_A</th>\n",
       "      <th>visitors_A</th>\n",
       "      <th>cmlt_visitors_A</th>\n",
       "      <th>orders_B</th>\n",
       "      <th>buyers_B</th>\n",
       "      <th>revenue_B</th>\n",
       "      <th>cmlt_orders_B</th>\n",
       "      <th>cmlt_buyers_B</th>\n",
       "      <th>cmlt_revenue_B</th>\n",
       "      <th>visitors_B</th>\n",
       "      <th>cmlt_visitors_B</th>\n",
       "    </tr>\n",
       "  </thead>\n",
       "  <tbody>\n",
       "    <tr>\n",
       "      <th>0</th>\n",
       "      <td>2019-08-01</td>\n",
       "      <td>23</td>\n",
       "      <td>19</td>\n",
       "      <td>142779</td>\n",
       "      <td>23</td>\n",
       "      <td>19</td>\n",
       "      <td>142779</td>\n",
       "      <td>719</td>\n",
       "      <td>719</td>\n",
       "      <td>17</td>\n",
       "      <td>17</td>\n",
       "      <td>59758</td>\n",
       "      <td>17</td>\n",
       "      <td>17</td>\n",
       "      <td>59758</td>\n",
       "      <td>713</td>\n",
       "      <td>713</td>\n",
       "    </tr>\n",
       "    <tr>\n",
       "      <th>1</th>\n",
       "      <td>2019-08-02</td>\n",
       "      <td>19</td>\n",
       "      <td>18</td>\n",
       "      <td>91602</td>\n",
       "      <td>42</td>\n",
       "      <td>37</td>\n",
       "      <td>234381</td>\n",
       "      <td>619</td>\n",
       "      <td>1338</td>\n",
       "      <td>23</td>\n",
       "      <td>22</td>\n",
       "      <td>162043</td>\n",
       "      <td>40</td>\n",
       "      <td>39</td>\n",
       "      <td>221801</td>\n",
       "      <td>581</td>\n",
       "      <td>1294</td>\n",
       "    </tr>\n",
       "    <tr>\n",
       "      <th>2</th>\n",
       "      <td>2019-08-03</td>\n",
       "      <td>24</td>\n",
       "      <td>24</td>\n",
       "      <td>112473</td>\n",
       "      <td>66</td>\n",
       "      <td>61</td>\n",
       "      <td>346854</td>\n",
       "      <td>507</td>\n",
       "      <td>1845</td>\n",
       "      <td>14</td>\n",
       "      <td>14</td>\n",
       "      <td>67049</td>\n",
       "      <td>54</td>\n",
       "      <td>53</td>\n",
       "      <td>288850</td>\n",
       "      <td>509</td>\n",
       "      <td>1803</td>\n",
       "    </tr>\n",
       "    <tr>\n",
       "      <th>3</th>\n",
       "      <td>2019-08-04</td>\n",
       "      <td>11</td>\n",
       "      <td>11</td>\n",
       "      <td>41176</td>\n",
       "      <td>77</td>\n",
       "      <td>72</td>\n",
       "      <td>388030</td>\n",
       "      <td>717</td>\n",
       "      <td>2562</td>\n",
       "      <td>14</td>\n",
       "      <td>13</td>\n",
       "      <td>96890</td>\n",
       "      <td>68</td>\n",
       "      <td>66</td>\n",
       "      <td>385740</td>\n",
       "      <td>770</td>\n",
       "      <td>2573</td>\n",
       "    </tr>\n",
       "    <tr>\n",
       "      <th>4</th>\n",
       "      <td>2019-08-05</td>\n",
       "      <td>22</td>\n",
       "      <td>22</td>\n",
       "      <td>86383</td>\n",
       "      <td>99</td>\n",
       "      <td>94</td>\n",
       "      <td>474413</td>\n",
       "      <td>756</td>\n",
       "      <td>3318</td>\n",
       "      <td>21</td>\n",
       "      <td>21</td>\n",
       "      <td>89908</td>\n",
       "      <td>89</td>\n",
       "      <td>87</td>\n",
       "      <td>475648</td>\n",
       "      <td>707</td>\n",
       "      <td>3280</td>\n",
       "    </tr>\n",
       "  </tbody>\n",
       "</table>\n",
       "</div>"
      ],
      "text/plain": [
       "        date  orders_A  buyers_A  revenue_A  cmlt_orders_A  cmlt_buyers_A  \\\n",
       "0 2019-08-01        23        19     142779             23             19   \n",
       "1 2019-08-02        19        18      91602             42             37   \n",
       "2 2019-08-03        24        24     112473             66             61   \n",
       "3 2019-08-04        11        11      41176             77             72   \n",
       "4 2019-08-05        22        22      86383             99             94   \n",
       "\n",
       "   cmlt_revenue_A  visitors_A  cmlt_visitors_A  orders_B  buyers_B  revenue_B  \\\n",
       "0          142779         719              719        17        17      59758   \n",
       "1          234381         619             1338        23        22     162043   \n",
       "2          346854         507             1845        14        14      67049   \n",
       "3          388030         717             2562        14        13      96890   \n",
       "4          474413         756             3318        21        21      89908   \n",
       "\n",
       "   cmlt_orders_B  cmlt_buyers_B  cmlt_revenue_B  visitors_B  cmlt_visitors_B  \n",
       "0             17             17           59758         713              713  \n",
       "1             40             39          221801         581             1294  \n",
       "2             54             53          288850         509             1803  \n",
       "3             68             66          385740         770             2573  \n",
       "4             89             87          475648         707             3280  "
      ]
     },
     "execution_count": 25,
     "metadata": {},
     "output_type": "execute_result"
    }
   ],
   "source": [
    "#объединим полученные таблицы\n",
    "\n",
    "data = (\n",
    "    orders_per_date_A\n",
    "    .merge(cmlt_orders_per_date_A, \n",
    "           left_on='date', \n",
    "           right_on='date', \n",
    "           how='left')\n",
    "    .merge(visitors_per_date_A, \n",
    "           left_on='date', \n",
    "           right_on='date', \n",
    "           how='left')\n",
    "    .merge(cmlt_visitors_per_date_A, \n",
    "           left_on='date', \n",
    "           right_on='date', \n",
    "           how='left')\n",
    "    .merge(orders_per_date_B, \n",
    "           left_on='date', \n",
    "           right_on='date', \n",
    "           how='left')\n",
    "    .merge(cmlt_orders_per_date_B, \n",
    "           left_on='date', \n",
    "           right_on='date', \n",
    "           how='left')\n",
    "    .merge(visitors_per_date_B, \n",
    "           left_on='date', \n",
    "           right_on='date', \n",
    "           how='left')\n",
    "    .merge(cmlt_visitors_per_date_B, \n",
    "           left_on='date', \n",
    "           right_on='date', \n",
    "           how='left')\n",
    ").sort_values(by=['date'])\n",
    "\n",
    "data.head(5)"
   ]
  },
  {
   "cell_type": "markdown",
   "metadata": {},
   "source": [
    "<a id=\"first_conclusion\"> </a>                  \n",
    "\n",
    "### Вывод по этапу\n",
    "\n",
    "- наименования столбцов приведены к единому стилю, удалены возможные пробелы, выявлено отсутствие дубликатов и пропусков, отмечена возможная аномалия в столбце `revenue`, ряд данных приведен к временному типу;\n",
    "- выявлена разница между количеством пользователей и покупателей в каждой из групп, процентное соотношение покупателей от пользователей, обнаружены и удалены из датафрейма пересекающиеся пользователи;\n",
    "- создана отдельная таблица для использования в дальнейших расчетах, куда вошли общие и кумулятивные данные по дням по посетителям и покупателям из каждой группы."
   ]
  },
  {
   "cell_type": "markdown",
   "metadata": {},
   "source": [
    "<a id=\"third_stage\"> </a>   \n",
    "\n",
    "\n",
    "## Анализ A/B-теста"
   ]
  },
  {
   "cell_type": "markdown",
   "metadata": {},
   "source": [
    "<a id=\"cumulative_revenue\"> </a>   \n",
    "\n",
    "\n",
    "### Построение графика кумулятивной выручки по группам"
   ]
  },
  {
   "cell_type": "code",
   "execution_count": 26,
   "metadata": {},
   "outputs": [
    {
     "data": {
      "image/png": "[encoded data removed]",
      "text/plain": [
       "<Figure size 1080x288 with 1 Axes>"
      ]
     },
     "metadata": {
      "needs_background": "light"
     },
     "output_type": "display_data"
    }
   ],
   "source": [
    "#постром график\n",
    "\n",
    "plt.figure(figsize=(15,4))\n",
    "plt.plot(data['date'], \n",
    "         data['cmlt_revenue_A'], \n",
    "         label='A', \n",
    "         color=palette[5])\n",
    "plt.plot(data['date'], data['cmlt_revenue_B'], \n",
    "         label='B', \n",
    "         color=palette[12])\n",
    "plt.xlabel('дата')\n",
    "plt.ylabel('размер выручки')\n",
    "plt.legend(loc = 'best')\n",
    "plt.ticklabel_format(style='plain', axis='y')\n",
    "plt.grid(True)\n",
    "plt.title('График кумулятивной выручки по группам')\n",
    "plt.show()"
   ]
  },
  {
   "cell_type": "markdown",
   "metadata": {},
   "source": [
    "Выручка групп А и В была практически одинаковой в первые пять дней, после чего выручка группы В постепенно начала уходить в отрыв, который резко увеличился к двадцатым числам августа - вероятно, в этот период были сделаны особо дорогие заказы или их число увеличилось. Рост выручки группы А характеризуется большей плавностью, без значительных скачков. По итогам месяца кумулятивная выручка группы В превалировала над кумулятивной выручкой группы А почти на 2 млн единиц. "
   ]
  },
  {
   "cell_type": "markdown",
   "metadata": {},
   "source": [
    "<a id=\"cumulative_average\"> </a>   \n",
    "\n",
    "\n",
    "### Построение графика кумулятивного среднего чека по группам"
   ]
  },
  {
   "cell_type": "code",
   "execution_count": 27,
   "metadata": {},
   "outputs": [
    {
     "data": {
      "image/png": "[encoded data removed]",
      "text/plain": [
       "<Figure size 1080x288 with 1 Axes>"
      ]
     },
     "metadata": {
      "needs_background": "light"
     },
     "output_type": "display_data"
    }
   ],
   "source": [
    "#для получения размера среднего чека по группам разделим выручку на число заказов\n",
    "\n",
    "plt.figure(figsize=(15,4))\n",
    "plt.plot(data['date'], data['cmlt_revenue_A']\\\n",
    "         /data['cmlt_orders_A'], \n",
    "         label='A', \n",
    "         color=palette[5])\n",
    "plt.plot(data['date'], data['cmlt_revenue_B']\\\n",
    "         /data['cmlt_orders_B'], \n",
    "         label='B', \n",
    "         color=palette[12])\n",
    "plt.xlabel('дата')\n",
    "plt.ylabel('размер чека')\n",
    "plt.legend(loc = 'best')\n",
    "plt.ticklabel_format(style='plain', axis='y')\n",
    "plt.grid(True)\n",
    "plt.title('График кумулятивного среднего чека по группам')\n",
    "plt.show()"
   ]
  },
  {
   "cell_type": "markdown",
   "metadata": {},
   "source": [
    "После снижения в первые пять дней средний размер чека группы А начал увеличиваться, достигнув максимального значения 13 августа в примерно 7300 единиц, превысив на тысячу единиц дневной показатель противоположной группы. Затем показатель незначительно уменьшился и почти до конца месяца стабилизировался на отметке, близкой к 7000 единиц, наметив небольшой рост по итогам периода. \n",
    "\n",
    "Как и в предыдущем графике, размер среднего кумулятивного чека группы В стабильно выше среднего кумулятивного чека второй группы пользователей. До 18 августа график находился в скачкообразном состоянии, переодически то понижаясь, то возрастая. После резкого роста с 7000 до более 10000 единиц, обусловленного, по всей видимости, особо дорогим заказом, средний чек группы В начал плавное снижение, остановившись к началу сентября на отметке чуть более 9000 единиц. "
   ]
  },
  {
   "cell_type": "markdown",
   "metadata": {},
   "source": [
    "<a id=\"cumulative_average_ba\"> </a>   \n",
    "\n",
    "\n",
    "### Построение графика относительного изменения кумулятивного среднего чека группы B к группе A"
   ]
  },
  {
   "cell_type": "code",
   "execution_count": 28,
   "metadata": {},
   "outputs": [
    {
     "data": {
      "image/png": "[encoded data removed]",
      "text/plain": [
       "<Figure size 1080x288 with 1 Axes>"
      ]
     },
     "metadata": {
      "needs_background": "light"
     },
     "output_type": "display_data"
    }
   ],
   "source": [
    "#построим график \n",
    "\n",
    "plt.figure(figsize=(15,4))\n",
    "plt.plot(data['date'], \n",
    "         (data['cmlt_revenue_B']/data['cmlt_orders_B'])\\\n",
    "         /(data['cmlt_revenue_A']/data['cmlt_orders_A'])-1, \n",
    "         color=palette[12])\n",
    "plt.xlabel('дата')\n",
    "plt.ylabel('изменение отношения размера чека')\n",
    "plt.ticklabel_format(style='plain', axis='y')\n",
    "plt.grid(True)\n",
    "plt.title('График относительного изменения кумулятивного среднего чека группы B к группе A')\n",
    "plt.axhline(y=0, color=palette[5], linestyle='--') \n",
    "plt.show()"
   ]
  },
  {
   "cell_type": "markdown",
   "metadata": {},
   "source": [
    "Как и на предыдущем графике, практически в течение всего периода отношение среднего чека группы В к группе А является положительным. Единственные исключения - первые дни августа и период около 13 числа: вполне возможно, что именно в это время была проведена особая работа с пользователями из этой группы, что повлияло на совершение дорогих заказов или роста их количества. "
   ]
  },
  {
   "cell_type": "markdown",
   "metadata": {},
   "source": [
    "<a id=\"cumulative_orders\"> </a>   \n",
    "\n",
    "\n",
    "### Построение графика кумулятивного среднего количества заказов по группам"
   ]
  },
  {
   "cell_type": "code",
   "execution_count": 29,
   "metadata": {
    "scrolled": true
   },
   "outputs": [
    {
     "data": {
      "image/png": "[encoded data removed]",
      "text/plain": [
       "<Figure size 1080x288 with 1 Axes>"
      ]
     },
     "metadata": {
      "needs_background": "light"
     },
     "output_type": "display_data"
    }
   ],
   "source": [
    "#для выявления среднего количества заказов разделим количество заказов на число покупателей\n",
    "\n",
    "plt.figure(figsize=(15,4))\n",
    "plt.plot(data['date'], data['cmlt_orders_A']\\\n",
    "         /data['cmlt_buyers_A'], label='A', color=palette[5])\n",
    "plt.plot(data['date'], data['cmlt_orders_B']\\\n",
    "         /data['cmlt_buyers_B'], label='B', color=palette[12])\n",
    "plt.xlabel('дата')\n",
    "plt.ylabel('количество заказов')\n",
    "plt.legend(loc = 'best')\n",
    "plt.ticklabel_format(style='plain', axis='y')\n",
    "plt.grid(True)\n",
    "plt.title('График кумулятивного среднего количества заказов по группам')\n",
    "plt.show()"
   ]
  },
  {
   "cell_type": "markdown",
   "metadata": {},
   "source": [
    "В отличие от предыдущих графиков, для группы А в среднем характерно чуть большее число заказов, чем для группы В. Однако, первая группа начала период с резкого падения показателя - с 1.2 до 1,05 заказов на покупателя, после чего продолжила небольшое снижение, пракически стабилизировавшись с середины месяца на отметке в примерно 1.03 заказа на покупателя. Группа В, напротив, начала период с роста, однако значительное время ее показатель также стабилен и близок к 1.01 заказа. "
   ]
  },
  {
   "cell_type": "code",
   "execution_count": 30,
   "metadata": {},
   "outputs": [
    {
     "data": {
      "image/png": "[encoded data removed]",
      "text/plain": [
       "<Figure size 1080x288 with 1 Axes>"
      ]
     },
     "metadata": {
      "needs_background": "light"
     },
     "output_type": "display_data"
    }
   ],
   "source": [
    "#построим график кумулятивной конверсии \n",
    "\n",
    "plt.figure(figsize=(15,4))\n",
    "plt.plot(data['date'], data['cmlt_orders_A'] \\\n",
    "         / data['cmlt_visitors_A'], \n",
    "         label='A', \n",
    "         color=palette[5])\n",
    "plt.plot(data['date'], data['cmlt_orders_B'] \\\n",
    "         / data['cmlt_visitors_B'], \n",
    "         label='B', \n",
    "         color=palette[12])\n",
    "plt.xlabel('дата')\n",
    "plt.ylabel('количество заказов')\n",
    "plt.legend(loc = 'best')\n",
    "plt.ticklabel_format(style='plain', axis='y')\n",
    "plt.grid(True)\n",
    "plt.title('График кумулятивной конверсии по группам')\n",
    "plt.show()"
   ]
  },
  {
   "cell_type": "markdown",
   "metadata": {},
   "source": [
    "После колебаний в первые несколько дней кумулятивная конверсия группы В в целом зафиксировалась на отметке в 3%, чуть снзившись к концу месяца. Группа А, начав с неплохого старта, затем продемонстрировала негативный рост, опустившись в итоге до 2,5%. "
   ]
  },
  {
   "cell_type": "markdown",
   "metadata": {},
   "source": [
    "<a id=\"cumulative_orders_ba\"> </a>   \n",
    "\n",
    "\n",
    "### Построение графика относительного изменения кумулятивного среднего количества заказов группы B к группе A"
   ]
  },
  {
   "cell_type": "code",
   "execution_count": 31,
   "metadata": {},
   "outputs": [
    {
     "data": {
      "image/png": "[encoded data removed]",
      "text/plain": [
       "<Figure size 1080x288 with 1 Axes>"
      ]
     },
     "metadata": {
      "needs_background": "light"
     },
     "output_type": "display_data"
    }
   ],
   "source": [
    "#для построения графика разделим среднее количества заказов группы В на аналогичный показатель группы А\n",
    "\n",
    "plt.figure(figsize=(15,4))\n",
    "plt.plot(data['date'], (data['cmlt_orders_B']/data['cmlt_buyers_B'])\\\n",
    "         /(data['cmlt_orders_A']/data['cmlt_buyers_A'])-1, color=palette[12])\n",
    "plt.xlabel('дата')\n",
    "plt.ylabel('изменение отношения количества заказов')\n",
    "plt.ticklabel_format(style='plain', axis='y')\n",
    "plt.grid(True)\n",
    "plt.title('График относительного изменения кумулятивного среднего количества заказов группы B к группе A')\n",
    "plt.axhline(y=0, color=palette[5], linestyle='--') \n",
    "plt.show()"
   ]
  },
  {
   "cell_type": "markdown",
   "metadata": {},
   "source": [
    "За весь период кумулятивное среднее количество заказов группы В так и не превысило аналогичный показатель для А, однако продемонстрировало стабильный, хотя и не слишком ярко выраженный рост практически с самого начала месяца."
   ]
  },
  {
   "cell_type": "code",
   "execution_count": 32,
   "metadata": {},
   "outputs": [
    {
     "data": {
      "image/png": "[encoded data removed]",
      "text/plain": [
       "<Figure size 1080x288 with 1 Axes>"
      ]
     },
     "metadata": {
      "needs_background": "light"
     },
     "output_type": "display_data"
    }
   ],
   "source": [
    "#Построим график относительного различия кумулятивных конверсий\n",
    "\n",
    "plt.figure(figsize=(15,4))\n",
    "plt.plot(data['date'], (data['cmlt_orders_B']/data['cmlt_visitors_B'])\\\n",
    "         /(data['cmlt_orders_A']/data['cmlt_visitors_A'])-1, color=palette[12])\n",
    "plt.xlabel('дата')\n",
    "plt.ylabel('изменение отношения количества заказов')\n",
    "plt.ticklabel_format(style='plain', axis='y')\n",
    "plt.grid(True)\n",
    "plt.title('График относительного различия кумулятивных конверсий')\n",
    "plt.axhline(y=0, color=palette[5], linestyle='--') \n",
    "plt.show()"
   ]
  },
  {
   "cell_type": "markdown",
   "metadata": {},
   "source": [
    "График подтверждает: отношение кумулятивной конверсии В к аналогичному показателю группы А на большей части пути стабильно с небольшой динамикой и начиная с 6 августа приобретает положительное значение. "
   ]
  },
  {
   "cell_type": "markdown",
   "metadata": {},
   "source": [
    "<a id=\"scatter_orders\"> </a>   \n",
    "\n",
    "\n",
    "### Построение точечного графика количества заказов по пользователям"
   ]
  },
  {
   "cell_type": "code",
   "execution_count": 33,
   "metadata": {},
   "outputs": [
    {
     "data": {
      "text/html": [
       "<div>\n",
       "<style scoped>\n",
       "    .dataframe tbody tr th:only-of-type {\n",
       "        vertical-align: middle;\n",
       "    }\n",
       "\n",
       "    .dataframe tbody tr th {\n",
       "        vertical-align: top;\n",
       "    }\n",
       "\n",
       "    .dataframe thead th {\n",
       "        text-align: right;\n",
       "    }\n",
       "</style>\n",
       "<table border=\"1\" class=\"dataframe\">\n",
       "  <thead>\n",
       "    <tr style=\"text-align: right;\">\n",
       "      <th></th>\n",
       "      <th>buyers</th>\n",
       "      <th>orders</th>\n",
       "    </tr>\n",
       "  </thead>\n",
       "  <tbody>\n",
       "    <tr>\n",
       "      <th>908</th>\n",
       "      <td>3967698036</td>\n",
       "      <td>3</td>\n",
       "    </tr>\n",
       "    <tr>\n",
       "      <th>55</th>\n",
       "      <td>249864742</td>\n",
       "      <td>3</td>\n",
       "    </tr>\n",
       "    <tr>\n",
       "      <th>478</th>\n",
       "      <td>2108163459</td>\n",
       "      <td>3</td>\n",
       "    </tr>\n",
       "    <tr>\n",
       "      <th>687</th>\n",
       "      <td>2988190573</td>\n",
       "      <td>3</td>\n",
       "    </tr>\n",
       "    <tr>\n",
       "      <th>890</th>\n",
       "      <td>3908431265</td>\n",
       "      <td>3</td>\n",
       "    </tr>\n",
       "  </tbody>\n",
       "</table>\n",
       "</div>"
      ],
      "text/plain": [
       "         buyers  orders\n",
       "908  3967698036       3\n",
       "55    249864742       3\n",
       "478  2108163459       3\n",
       "687  2988190573       3\n",
       "890  3908431265       3"
      ]
     },
     "execution_count": 33,
     "metadata": {},
     "output_type": "execute_result"
    }
   ],
   "source": [
    "#создадим переменную, в которую вынесем число заказов по пользователям\n",
    "\n",
    "ordersByUsers = (\n",
    "    orders.groupby('visitor_id', as_index=False)\n",
    "    .agg({'transaction_id': 'nunique'})\n",
    "    .rename(columns={'transaction_id': 'orders', 'visitor_id': 'buyers'})\n",
    ")\n",
    "\n",
    "ordersByUsers.sort_values(by='orders', ascending=False).head(5)"
   ]
  },
  {
   "cell_type": "code",
   "execution_count": 34,
   "metadata": {},
   "outputs": [
    {
     "data": {
      "image/png": "[encoded data removed]",
      "text/plain": [
       "<Figure size 1080x360 with 1 Axes>"
      ]
     },
     "metadata": {
      "needs_background": "light"
     },
     "output_type": "display_data"
    }
   ],
   "source": [
    "#выведем данные на график \n",
    "\n",
    "plt.figure(figsize=(15,5))\n",
    "x_values = pd.Series(range(0, len(ordersByUsers)))\n",
    "plt.scatter(x_values, ordersByUsers['orders'], color=palette[12]) \n",
    "plt.xlabel('номера наблюдений')\n",
    "plt.ylabel('число заказов')\n",
    "plt.grid(True)\n",
    "plt.title('Точечный график количества заказов по пользователям')\n",
    "plt.show()"
   ]
  },
  {
   "cell_type": "markdown",
   "metadata": {},
   "source": [
    "Большинство пользователей предпочитают совершать 1-2 заказа, три заказа встречаются уже в единичных случаях."
   ]
  },
  {
   "cell_type": "markdown",
   "metadata": {},
   "source": [
    "<a id=\"percentiles_orders\"> </a>   \n",
    "\n",
    "\n",
    "### Подсчет 95-й и 99-й перцентили количества заказов на пользователя"
   ]
  },
  {
   "cell_type": "code",
   "execution_count": 35,
   "metadata": {},
   "outputs": [
    {
     "data": {
      "text/plain": [
       "array([1., 2.])"
      ]
     },
     "execution_count": 35,
     "metadata": {},
     "output_type": "execute_result"
    }
   ],
   "source": [
    "#подсчитаем перцентили с помощью метода percentile()\n",
    "\n",
    "np.percentile(ordersByUsers['orders'], [95, 99])"
   ]
  },
  {
   "cell_type": "markdown",
   "metadata": {},
   "source": [
    "Согласно полученным данным, на 5% покупателей приходится более 1 заказа, а более 2 покупок совершил всего 1% пользователей."
   ]
  },
  {
   "cell_type": "markdown",
   "metadata": {},
   "source": [
    "<a id=\"scatter_revenue\"> </a>   \n",
    "\n",
    "### Построение точечного графика стоимостей заказов"
   ]
  },
  {
   "cell_type": "markdown",
   "metadata": {},
   "source": [
    "Диаграмма размаха, построенная в предыдущей главе, показала возможное наличие выбросов. \n",
    "Оценим стоимость заказов, построив точечный график по данным orders"
   ]
  },
  {
   "cell_type": "code",
   "execution_count": 36,
   "metadata": {},
   "outputs": [
    {
     "data": {
      "image/png": "[encoded data removed]",
      "text/plain": [
       "<Figure size 1080x360 with 1 Axes>"
      ]
     },
     "metadata": {
      "needs_background": "light"
     },
     "output_type": "display_data"
    }
   ],
   "source": [
    "#выведем данные по стоимости заказов на график \n",
    "\n",
    "plt.figure(figsize=(15,5))\n",
    "x_values = pd.Series(range(0,len(orders['revenue'])))\n",
    "plt.scatter(x_values, orders['revenue'], color=palette[12]) \n",
    "plt.xlabel('номера наблюдений')\n",
    "plt.ylabel('стоимость заказа')\n",
    "plt.grid(True)\n",
    "plt.title('Точечный график стоимостей заказов')\n",
    "plt.ticklabel_format(style='plain', axis='y')\n",
    "plt.show()"
   ]
  },
  {
   "cell_type": "markdown",
   "metadata": {},
   "source": [
    "Действительно, на графике значительно выбиваются два заказа: на 200 тысяч и на более чем 1,2 млн единиц. Есть несколько отдельных заказов, которые также, согласно графику, превышают общие показатели, но незначительно."
   ]
  },
  {
   "cell_type": "markdown",
   "metadata": {},
   "source": [
    "<a id=\"percentiles_revenue\"> </a>   \n",
    "\n",
    "\n",
    "### Подсчет 95-й и 99-й перцентили стоимости заказов"
   ]
  },
  {
   "cell_type": "code",
   "execution_count": 37,
   "metadata": {},
   "outputs": [
    {
     "data": {
      "text/plain": [
       "array([26785., 53904.])"
      ]
     },
     "execution_count": 37,
     "metadata": {},
     "output_type": "execute_result"
    }
   ],
   "source": [
    "#подсчитаем перцентили с помощью метода percentile()\n",
    "\n",
    "np.percentile(orders['revenue'], [95, 99])"
   ]
  },
  {
   "cell_type": "markdown",
   "metadata": {},
   "source": [
    "Согласно полученным данным, 95% заказов не превышают 26.8 тысяч, и всего 1% заказов имеют чек дороже почти 54 тыс. единиц. "
   ]
  },
  {
   "cell_type": "markdown",
   "metadata": {},
   "source": [
    "<a id=\"st_significance_orders_row\"> </a>   \n",
    "\n",
    "\n",
    "### Подсчет статистической значимости различий в среднем количестве заказов между группами по «сырым» данным"
   ]
  },
  {
   "cell_type": "markdown",
   "metadata": {},
   "source": [
    "Сформулируем гипотезы:\n",
    "- Н0 - статистически значимые различия в среднем числе заказов между группами А и В отсутствуют. \n",
    "- альтернативная гипотеза - имеются различия в среднем количестве заказов между группами."
   ]
  },
  {
   "cell_type": "code",
   "execution_count": 38,
   "metadata": {},
   "outputs": [
    {
     "data": {
      "text/html": [
       "<div>\n",
       "<style scoped>\n",
       "    .dataframe tbody tr th:only-of-type {\n",
       "        vertical-align: middle;\n",
       "    }\n",
       "\n",
       "    .dataframe tbody tr th {\n",
       "        vertical-align: top;\n",
       "    }\n",
       "\n",
       "    .dataframe thead th {\n",
       "        text-align: right;\n",
       "    }\n",
       "</style>\n",
       "<table border=\"1\" class=\"dataframe\">\n",
       "  <thead>\n",
       "    <tr style=\"text-align: right;\">\n",
       "      <th></th>\n",
       "      <th>visitor_id</th>\n",
       "      <th>orders</th>\n",
       "    </tr>\n",
       "  </thead>\n",
       "  <tbody>\n",
       "    <tr>\n",
       "      <th>58</th>\n",
       "      <td>611059232</td>\n",
       "      <td>3</td>\n",
       "    </tr>\n",
       "    <tr>\n",
       "      <th>211</th>\n",
       "      <td>2108163459</td>\n",
       "      <td>3</td>\n",
       "    </tr>\n",
       "    <tr>\n",
       "      <th>310</th>\n",
       "      <td>2988190573</td>\n",
       "      <td>3</td>\n",
       "    </tr>\n",
       "    <tr>\n",
       "      <th>409</th>\n",
       "      <td>3908431265</td>\n",
       "      <td>3</td>\n",
       "    </tr>\n",
       "    <tr>\n",
       "      <th>416</th>\n",
       "      <td>3967698036</td>\n",
       "      <td>3</td>\n",
       "    </tr>\n",
       "  </tbody>\n",
       "</table>\n",
       "</div>"
      ],
      "text/plain": [
       "     visitor_id  orders\n",
       "58    611059232       3\n",
       "211  2108163459       3\n",
       "310  2988190573       3\n",
       "409  3908431265       3\n",
       "416  3967698036       3"
      ]
     },
     "metadata": {},
     "output_type": "display_data"
    },
    {
     "data": {
      "text/html": [
       "<div>\n",
       "<style scoped>\n",
       "    .dataframe tbody tr th:only-of-type {\n",
       "        vertical-align: middle;\n",
       "    }\n",
       "\n",
       "    .dataframe tbody tr th {\n",
       "        vertical-align: top;\n",
       "    }\n",
       "\n",
       "    .dataframe thead th {\n",
       "        text-align: right;\n",
       "    }\n",
       "</style>\n",
       "<table border=\"1\" class=\"dataframe\">\n",
       "  <thead>\n",
       "    <tr style=\"text-align: right;\">\n",
       "      <th></th>\n",
       "      <th>visitor_id</th>\n",
       "      <th>orders</th>\n",
       "    </tr>\n",
       "  </thead>\n",
       "  <tbody>\n",
       "    <tr>\n",
       "      <th>347</th>\n",
       "      <td>2742574263</td>\n",
       "      <td>3</td>\n",
       "    </tr>\n",
       "    <tr>\n",
       "      <th>33</th>\n",
       "      <td>249864742</td>\n",
       "      <td>3</td>\n",
       "    </tr>\n",
       "    <tr>\n",
       "      <th>486</th>\n",
       "      <td>3935952912</td>\n",
       "      <td>2</td>\n",
       "    </tr>\n",
       "    <tr>\n",
       "      <th>256</th>\n",
       "      <td>2025197455</td>\n",
       "      <td>2</td>\n",
       "    </tr>\n",
       "    <tr>\n",
       "      <th>418</th>\n",
       "      <td>3332057097</td>\n",
       "      <td>2</td>\n",
       "    </tr>\n",
       "  </tbody>\n",
       "</table>\n",
       "</div>"
      ],
      "text/plain": [
       "     visitor_id  orders\n",
       "347  2742574263       3\n",
       "33    249864742       3\n",
       "486  3935952912       2\n",
       "256  2025197455       2\n",
       "418  3332057097       2"
      ]
     },
     "metadata": {},
     "output_type": "display_data"
    }
   ],
   "source": [
    "#создадим переменные для каждой группы с информацией о числе заказов\n",
    "\n",
    "orders_by_user_A = (\n",
    "    orders[orders['group'] == 'A']\n",
    "    .groupby('visitor_id', as_index=False)\n",
    "    .agg({'transaction_id': pd.Series.nunique})\n",
    "    .rename(columns={'transaction_id': 'orders'})\n",
    ")\n",
    "\n",
    "orders_by_user_B = (\n",
    "    orders[orders['group'] == 'B']\n",
    "    .groupby('visitor_id', as_index=False)\n",
    "    .agg({'transaction_id': pd.Series.nunique})\n",
    "    .rename(columns={'transaction_id': 'orders'})\n",
    ")\n",
    "\n",
    "display(orders_by_user_A.sort_values(by='orders', ascending=False).head(5))\n",
    "display(orders_by_user_B.sort_values(by='orders', ascending=False).head(5))"
   ]
  },
  {
   "cell_type": "markdown",
   "metadata": {},
   "source": [
    "Подготовим выборки к проверке критерием Манна-Уитни и добавим информацию о количестве заказов всех посетителей:  число элементов в каждой переменной будут означать это количество пользователей, сумма всех элементов — количество заказов, в том числе с учетом нулевых."
   ]
  },
  {
   "cell_type": "code",
   "execution_count": 39,
   "metadata": {},
   "outputs": [
    {
     "data": {
      "text/plain": [
       "(0    1\n",
       " 1    1\n",
       " 2    1\n",
       " Name: orders, dtype: int64,\n",
       " 0    1\n",
       " 1    1\n",
       " 2    1\n",
       " Name: orders, dtype: int64)"
      ]
     },
     "execution_count": 39,
     "metadata": {},
     "output_type": "execute_result"
    }
   ],
   "source": [
    "#создадим два объекта с информацией о количестве заказов всех посетителей по группам\n",
    "\n",
    "sample_A = pd.concat(\n",
    "    [\n",
    "        orders_by_user_A['orders'],\n",
    "        pd.Series(\n",
    "            0,\n",
    "            index=np.arange(\n",
    "                data['visitors_A'].sum() - len(orders_by_user_A['orders'])\n",
    "            ),\n",
    "            name='orders',\n",
    "        ),\n",
    "    ],\n",
    "    axis=0,\n",
    ")\n",
    "\n",
    "sample_B = pd.concat(\n",
    "    [\n",
    "        orders_by_user_B['orders'],\n",
    "        pd.Series(\n",
    "            0,\n",
    "            index=np.arange(\n",
    "                data['visitors_B'].sum() - len(orders_by_user_B['orders'])\n",
    "            ),\n",
    "            name='orders',\n",
    "        ),\n",
    "    ],\n",
    "    axis=0,\n",
    ")\n",
    "\n",
    "sample_A.head(3), sample_B.head(3)"
   ]
  },
  {
   "cell_type": "markdown",
   "metadata": {},
   "source": [
    "Для подсчета статистической значимости различий в среднем количестве заказов между группами используем непараметрический тест Манна-Уитни, который сравнит значения, выстроенные по рангам. Критическим уровнем статистической значимости для теста примем 0.05."
   ]
  },
  {
   "cell_type": "code",
   "execution_count": 40,
   "metadata": {},
   "outputs": [
    {
     "data": {
      "text/plain": [
       "'p-value равен: 0.011'"
      ]
     },
     "metadata": {},
     "output_type": "display_data"
    },
    {
     "data": {
      "text/plain": [
       "'отвергаем нулевую гипотезу: разница статистически значима'"
      ]
     },
     "metadata": {},
     "output_type": "display_data"
    },
    {
     "data": {
      "text/plain": [
       "'относительный прирост группы В равен 15.98%'"
      ]
     },
     "metadata": {},
     "output_type": "display_data"
    }
   ],
   "source": [
    "#проверим критерием Манна-Уитни статистическую значимость различий \n",
    "#в среднем количестве заказов между группами \n",
    "\n",
    "pvalue = st.mannwhitneyu(sample_A, sample_B)[1]\n",
    "\n",
    "display(\"p-value равен: {0:.3f}\".format(pvalue))\n",
    "if pvalue < 0.05:\n",
    "    display('отвергаем нулевую гипотезу: разница статистически значима')\n",
    "else:\n",
    "    display(\n",
    "        'не получилось отвергнуть нулевую гипотезу, вывод о различии сделать нельзя')\n",
    "\n",
    "display(\"относительный прирост группы В равен {:.2%}\".format(sample_B.mean() / sample_A.mean() - 1))"
   ]
  },
  {
   "cell_type": "markdown",
   "metadata": {},
   "source": [
    "Полученный р-value меньше 0.05. Значит, нулевую гипотезу о том, что статистически значимых различий в среднем числе заказов между группами нет, можно отвергнуть. \n",
    "Относительный прирост среднего числа заказов группы B равен 16%"
   ]
  },
  {
   "cell_type": "markdown",
   "metadata": {},
   "source": [
    "<a id=\"st_significance_revenue_row\"> </a>   \n",
    "\n",
    "### Подсчет статистической значимости различий в среднем чеке заказа между группами по «сырым» данным"
   ]
  },
  {
   "cell_type": "markdown",
   "metadata": {},
   "source": [
    "Вновь обозначим нулевую гипотезу: статистически значимые различия в среднем чеке заказов между группами А и В отсутствуют. Альтернативная будет предусматривать наличие различий."
   ]
  },
  {
   "cell_type": "code",
   "execution_count": 41,
   "metadata": {},
   "outputs": [
    {
     "data": {
      "text/plain": [
       "'p-value равен: 0.829'"
      ]
     },
     "metadata": {},
     "output_type": "display_data"
    },
    {
     "data": {
      "text/plain": [
       "'не получилось отвергнуть нулевую гипотезу, вывод о различии сделать нельзя'"
      ]
     },
     "metadata": {},
     "output_type": "display_data"
    },
    {
     "data": {
      "text/plain": [
       "'относительный прирост группы В равен 28.66%'"
      ]
     },
     "metadata": {},
     "output_type": "display_data"
    }
   ],
   "source": [
    "#проверим критерием Манна-Уитни статистическую значимость различий\n",
    "#передадим данные о выручке с заказов\n",
    "\n",
    "pvalue = st.mannwhitneyu(orders[orders['group']=='A']['revenue'], \\\n",
    "                         orders[orders['group']=='B']['revenue'])[1]\n",
    "\n",
    "display(\"p-value равен: {0:.3f}\".format(pvalue))\n",
    "if pvalue < 0.05:\n",
    "    display('отвергаем нулевую гипотезу: разница статистически значима')\n",
    "else:\n",
    "    display(\n",
    "        'не получилось отвергнуть нулевую гипотезу, вывод о различии сделать нельзя')\n",
    "\n",
    "display(\"относительный прирост группы В равен {:.2%}\"\n",
    "        .format(orders[orders['group']=='B']['revenue'].mean()\\\n",
    "                /orders[orders['group']=='A']['revenue'].mean() - 1))"
   ]
  },
  {
   "cell_type": "markdown",
   "metadata": {},
   "source": [
    "В данном случае р-value значительно превышает 0.05, нулевую гипотезу не отвергаем, однако средний чек группы B почти на 29% выше среднего чека группы A."
   ]
  },
  {
   "cell_type": "markdown",
   "metadata": {},
   "source": [
    "<a id=\"st_significance_orders_cleaned\"> </a>   \n",
    "\n",
    "\n",
    "### Подсчет статистической значимости различий в среднем количестве заказов между группами по «очищенным» данным"
   ]
  },
  {
   "cell_type": "markdown",
   "metadata": {},
   "source": [
    "Ранее нами было установлено, что 5% заказов по своей стоимости превышают почти 27 тысяч единиц, из которых 1% заказов имеют чек дороже 54 тысячи единиц, а также то, что на 5% покупателей приходится 2 заказа, а 1% пользователей совершили 3 заказа. \n",
    "\n",
    "Примем за аномальных пользователей тех, кто совершил более 1 заказа или или осуществил заказ дороже 26 785 единиц."
   ]
  },
  {
   "cell_type": "code",
   "execution_count": 42,
   "metadata": {},
   "outputs": [
    {
     "data": {
      "text/plain": [
       "568     113298937\n",
       "1099    148427295\n",
       "928     204675465\n",
       "33      249864742\n",
       "684     358944393\n",
       "Name: visitor_id, dtype: int64"
      ]
     },
     "metadata": {},
     "output_type": "display_data"
    },
    {
     "data": {
      "text/plain": [
       "'всего аномальных пользователей:'"
      ]
     },
     "metadata": {},
     "output_type": "display_data"
    },
    {
     "data": {
      "text/plain": [
       "86"
      ]
     },
     "metadata": {},
     "output_type": "display_data"
    },
    {
     "data": {
      "text/plain": [
       "'процент от всех пользователей: 8.8'"
      ]
     },
     "execution_count": 42,
     "metadata": {},
     "output_type": "execute_result"
    }
   ],
   "source": [
    "#выделим таких пользователей в отдельную группу \n",
    "\n",
    "abnormal_users_number = pd.concat(\n",
    "    [\n",
    "        orders_by_user_A[orders_by_user_A['orders'] > 1]['visitor_id'],\n",
    "        orders_by_user_B[orders_by_user_B['orders'] > 1]['visitor_id'],\n",
    "    ],\n",
    "    axis=0\n",
    ")\n",
    "\n",
    "abnormal_users_expensive = orders[orders['revenue'] > 26785]['visitor_id']\n",
    "\n",
    "abnormal_users = (\n",
    "    pd.concat([abnormal_users_number, abnormal_users_expensive], axis=0)\n",
    "    .drop_duplicates()\n",
    "    .sort_values()\n",
    ")\n",
    "\n",
    "display(abnormal_users.head(5))\n",
    "display('всего аномальных пользователей:', abnormal_users.shape[0])\n",
    "\n",
    "'процент от всех пользователей: {0:.1f}'.format(abnormal_users.shape[0] /\\\n",
    "                                                orders['visitor_id'].nunique() * 100)"
   ]
  },
  {
   "cell_type": "markdown",
   "metadata": {},
   "source": [
    "В сумме аномальные пользователи составили около 9% от всех пользователей, включенных в данные. Проверим, как изменится статистическая зависимость, исключив их из анализа"
   ]
  },
  {
   "cell_type": "code",
   "execution_count": 43,
   "metadata": {},
   "outputs": [
    {
     "data": {
      "text/plain": [
       "(0    1\n",
       " 1    1\n",
       " 2    1\n",
       " Name: orders, dtype: int64,\n",
       " 0    1\n",
       " 1    1\n",
       " 2    1\n",
       " Name: orders, dtype: int64)"
      ]
     },
     "execution_count": 43,
     "metadata": {},
     "output_type": "execute_result"
    }
   ],
   "source": [
    "#повторим группировку по числу заказов, исключив аномальных пользователей\n",
    "\n",
    "sample_A_fltr = pd.concat(\n",
    "    [\n",
    "        orders_by_user_A[np.logical_not(orders_by_user_A['visitor_id'].isin(abnormal_users))\n",
    "                        ]['orders'],\n",
    "        pd.Series(\n",
    "            0,\n",
    "            index=np.arange(\n",
    "                data['visitors_A'].sum() - len(orders_by_user_A['orders'])\n",
    "            ),\n",
    "            name='orders',\n",
    "        ),\n",
    "    ],\n",
    "    axis=0,\n",
    ")\n",
    "\n",
    "sample_B_fltr = pd.concat(\n",
    "    [\n",
    "    orders_by_user_B[np.logical_not(orders_by_user_B['visitor_id'].isin(abnormal_users))\n",
    "                        ]['orders'],\n",
    "        pd.Series(\n",
    "            0,\n",
    "            index=np.arange(\n",
    "                data['visitors_B'].sum() - len(orders_by_user_B['orders'])\n",
    "            ),\n",
    "            name='orders',\n",
    "        ),\n",
    "    ],\n",
    "    axis=0,\n",
    ")\n",
    "\n",
    "sample_A_fltr.head(3), sample_B_fltr.head(3)"
   ]
  },
  {
   "cell_type": "code",
   "execution_count": 44,
   "metadata": {},
   "outputs": [
    {
     "data": {
      "text/plain": [
       "'p-value равен: 0.016'"
      ]
     },
     "metadata": {},
     "output_type": "display_data"
    },
    {
     "data": {
      "text/plain": [
       "'отвергаем нулевую гипотезу: разница статистически значима'"
      ]
     },
     "metadata": {},
     "output_type": "display_data"
    },
    {
     "data": {
      "text/plain": [
       "'относительный прирост группы В равен 17.39%'"
      ]
     },
     "metadata": {},
     "output_type": "display_data"
    }
   ],
   "source": [
    "#проверим критерием Манна-Уитни статистическую значимость различий \n",
    "#в среднем количестве заказов между группами \n",
    "\n",
    "pvalue = st.mannwhitneyu(sample_A_fltr, sample_B_fltr)[1]\n",
    "\n",
    "display(\"p-value равен: {0:.3f}\".format(pvalue))\n",
    "if pvalue < 0.05:\n",
    "    display('отвергаем нулевую гипотезу: разница статистически значима')\n",
    "else:\n",
    "    display(\n",
    "        'не получилось отвергнуть нулевую гипотезу, вывод о различии сделать нельзя')\n",
    "\n",
    "display(\"относительный прирост группы В равен {:.2%}\".format(sample_B_fltr.mean() /\\\n",
    "                                                             sample_A_fltr.mean() - 1))"
   ]
  },
  {
   "cell_type": "markdown",
   "metadata": {},
   "source": [
    "По сравнению с предыдущими вычислениями, p-value практически не изменился и нулевую гипотезу, что значимых различий нет, по-прежнему можно отвергнуть. Относительный прирост среднего числа заказов группы B увеличился на чуть более 1% и составил 17,4%"
   ]
  },
  {
   "cell_type": "markdown",
   "metadata": {},
   "source": [
    "<a id=\"st_significance_revenue_cleaned\"> </a>   \n",
    "\n",
    "\n",
    "### Подсчет статистической значимости различий в среднем чеке заказа между группами по «очищенным» данным"
   ]
  },
  {
   "cell_type": "code",
   "execution_count": 45,
   "metadata": {},
   "outputs": [
    {
     "data": {
      "text/plain": [
       "'p-value равен: 0.727'"
      ]
     },
     "metadata": {},
     "output_type": "display_data"
    },
    {
     "data": {
      "text/plain": [
       "'не получилось отвергнуть нулевую гипотезу, вывод о различии сделать нельзя'"
      ]
     },
     "metadata": {},
     "output_type": "display_data"
    },
    {
     "data": {
      "text/plain": [
       "'относительный прирост группы В равен -3.37%'"
      ]
     },
     "metadata": {},
     "output_type": "display_data"
    }
   ],
   "source": [
    "#проверим критерием Манна-Уитни статистическую значимость различий\n",
    "#передадим данные о выручке с заказов\n",
    "\n",
    "pvalue = st.mannwhitneyu(orders[\n",
    "            np.logical_and(orders['group']=='A', \\\n",
    "                           np.logical_not(orders['visitor_id'].isin(abnormal_users)))\n",
    "        ]['revenue'], orders[\n",
    "            np.logical_and(orders['group']=='B', \\\n",
    "                           np.logical_not(orders['visitor_id'].isin(abnormal_users)))\n",
    "        ]['revenue'])[1]\n",
    "\n",
    "display(\"p-value равен: {0:.3f}\".format(pvalue))\n",
    "if pvalue < 0.05:\n",
    "    display('отвергаем нулевую гипотезу: разница статистически значима')\n",
    "else:\n",
    "    display(\n",
    "        'не получилось отвергнуть нулевую гипотезу, вывод о различии сделать нельзя')\n",
    "\n",
    "display(\"относительный прирост группы В равен {:.2%}\"\n",
    "        .format(orders[\n",
    "    np.logical_and(orders['group']=='B', \\\n",
    "                   np.logical_not(orders['visitor_id'].isin(abnormal_users)))\n",
    "]['revenue'].mean()/orders[\n",
    "    np.logical_and(orders['group']=='A', \\\n",
    "                   np.logical_not(orders['visitor_id'].isin(abnormal_users)))\n",
    "]['revenue'].mean() -1))"
   ]
  },
  {
   "cell_type": "markdown",
   "metadata": {},
   "source": [
    "Как и в предыдущем случае, нулевая гипотеза о том, что статистической значимости различий в среднем чеке заказа между группами нет, не отвергается, p-value уменьшился, но незначительно. Тем не менее, исключение особо дорогих заказов из датафрейма в большей степени повлияло на результаты: теперь лидирующую позицию по среднему чеку занимает группа А, хотя эта разница не столь значима - всего 3%."
   ]
  },
  {
   "cell_type": "markdown",
   "metadata": {},
   "source": [
    "<a id=\"third_conclusion\"> </a>   \n",
    "\n",
    "\n",
    "### Результаты теста, выводы по этапу"
   ]
  },
  {
   "cell_type": "markdown",
   "metadata": {},
   "source": [
    "Используя **неочищенные данные** выявлены следующие различия в группах А и В:\n",
    "- **Кумулятивная выручка группы В в целом выше, чем кумулятивная выручка группы А** и резко увеличивается к третьей половине августа, в то время как рост показателя группы А является плавным на протяжении всего периода. Итоговая разница в показателях составила около 2 млн единиц.\n",
    "- К третей половине августа также происходит **резкий рост кумулятивного размера среднего чека группы В** - примерно на 3000 единиц, после чего несколько снижается. Итоговая разница составила около 2000 единиц.\n",
    "- **Отношение кумулятивного среднего чека группы В к группе А** в течение большей части месяца **является положительным**, за исключением самого начала периода и около 13 августа. Максимальное различие в самый пиковый период составляет свыше 40% в пользу В, снизившись к концу месяца до 30%.\n",
    "- **Кумулятивное среднее количества заказов по группам** - отношение числа заказов к числу покупателей - в большей степени **выше для группы А, однако разница незначительна** и в целом представители обеих групп практически с начала периода совершают не более 1 заказа. Данный показатель для группы В стабильно растет, хотя по итогам месяца так и не сравнялся с группой А.\n",
    "- **Кумулятивная конверсия группы В выше, чем для группы А**. Конверсия для группы В стабильна начиная со второй трети периода и составляет около 3%. Конверсия группы А после хорошего старта постепенно снижается, придя к значению 2,5%., потеряв после 6 августа положительное отношение к конверсии группы В.\n",
    "- **Основная масса покупателей совершает всего один заказ**: 2 покупки встречаются гораздо реже, на них приходится всего 5%, а покупателей, который вернулись за третей покупкой, всего 1%.\n",
    "- **Подавляющее большинство заказов (95%) не превышают 26.8 тысяч единиц**. Крайне редко встречаются заказы от 54 тысячи и выше - как, например, два аномальных заказа в 200 тысяч и более 1,2 млн.\n",
    "- По итогам проверки критерием Манна-Уитни установлено, что  **статистически значимые различия в среднем числе заказов между группами имеются**, нулевая гипотеза об отсутствии разницы была отвергнута. Относительный прирост среднего числа заказов группы В по отношению к группе А составил около 16%.\n",
    "- Полученные данные проверки критерием Манна-Уитни **не позволяют сделать вывод о различии среднего чека заказов групп А и В**, нулевая гипотеза подтвердилась. В то же время, средний чек группы B почти на 29% выше среднего чека группы A.\n",
    "\n",
    "После удаления аномальных покупателей, которые совершили более 1 заказа или заказы стоимостью около 27 тысяч единиц, получены следующие выводы:\n",
    "\n",
    "- Повторной проверкой критерием Манна-Уитни **подтвердились ранее полученные выводы о наличии разницы в среднем количестве заказов между группами** и необходимости принятия альтернативной гипотезы. Относительный прирост среднего числа заказов группы B после очистки данных незначительно увеличился.\n",
    "-  Нулевая **гипотеза о том, что статистической значимости различий в среднем чеке заказа между группами нет, по-прежнему не может быть отвергнута** после повторной проверки.  Однако теперь относительная разница в среднем чеке между группами стала менее выраженной  и снизилась с 29% в пользу В по итогам первого теста на 3% в пользу А. \n"
   ]
  },
  {
   "cell_type": "markdown",
   "metadata": {},
   "source": [
    "<a id=\"conclusion\"> </a>   \n",
    "\n",
    "\n",
    "## Выводы"
   ]
  },
  {
   "cell_type": "markdown",
   "metadata": {},
   "source": [
    "**Выводы по итогам А/В теста**\n",
    "- **Практически по всем показателям, полученных с помощью \"сырых\" данных**, таких как кумулятивная выручка, кумулятивный среднего чека, кумулятивная конверсия, **лидирует группа В**.\n",
    "- По итогам проведенного теста как по \"сырым\", так и очищенным данным, **зафиксирована разница в среднем количестве заказов между группами**, где по относительным показателям **среднее число заказов группы В превалирует над группой А на 16-17%**.\n",
    "- Проведенный тест не опровергнул гипотезу о том, что **статистическая значимость в среднем чеке заказа между группами отсутствует**. Очистка теста от аномальных пользователей подтвердила, что **средние чеки групп почти равны**, снизив это значение с 29% в пользу В до 3% за лидерством группы А. .\n",
    "\n",
    "В то же время, следует отметить следующие моменты:\n",
    "- **между количеством покупателей в группах А и В имеется значительная разница в 16% в пользу В**, что могло повлиять на итоговые результаты;\n",
    "- **информация о посетителях интернет-магазина дана в обобщенной форме**, без возможности установить, кто из покупателей посещал сайт в какие из дней и какое количество раз, что снизило точность расчетов;\n",
    "- **в данных обнаружены ошибки**, такие как пересечение пользователей в обеих группах\n",
    "- **общее количество покупателей в числе всех посетителей достаточно мало** - около 3% в каждой группе или всего около 1200 уникальных пользователей, хотя основные расчеты делаются именно на основании данных покупок.\n",
    "\n",
    "Соответственно, принимая во внимание все перечисленные недостатки, а также то, что по итогам можно теста у нас не обнаружилось победителя по разнице размера чеков между группами при вероятно большей доле заказов покупателями, отнесенных в группу В, можно  сделать вывод, что **зафиксировать победу одной из групп не представляется возможным, тест следует продолжить**, устранив недостатки в данных. "
   ]
  }
 ],
 "metadata": {
  "ExecuteTimeLog": [
   {
    "duration": 1268,
    "start_time": "2022-11-10T21:53:32.654Z"
   },
   {
    "duration": 4,
    "start_time": "2022-11-10T21:54:05.534Z"
   },
   {
    "duration": 190,
    "start_time": "2022-11-10T21:57:10.369Z"
   },
   {
    "duration": 30,
    "start_time": "2022-11-10T22:01:31.097Z"
   },
   {
    "duration": 92,
    "start_time": "2022-11-10T22:02:54.404Z"
   },
   {
    "duration": 6,
    "start_time": "2022-11-10T22:03:05.833Z"
   },
   {
    "duration": 12,
    "start_time": "2022-11-10T22:04:38.946Z"
   },
   {
    "duration": 20,
    "start_time": "2022-11-10T22:04:47.470Z"
   },
   {
    "duration": 20,
    "start_time": "2022-11-10T22:05:12.729Z"
   },
   {
    "duration": 19,
    "start_time": "2022-11-10T22:05:50.181Z"
   },
   {
    "duration": 13,
    "start_time": "2022-11-10T22:06:31.303Z"
   },
   {
    "duration": 79,
    "start_time": "2022-11-10T22:08:54.528Z"
   },
   {
    "duration": 7,
    "start_time": "2022-11-10T22:09:17.120Z"
   },
   {
    "duration": 21,
    "start_time": "2022-11-10T22:09:25.831Z"
   },
   {
    "duration": 26,
    "start_time": "2022-11-10T22:11:22.411Z"
   },
   {
    "duration": 24,
    "start_time": "2022-11-10T22:11:35.701Z"
   },
   {
    "duration": 16,
    "start_time": "2022-11-10T22:14:30.697Z"
   },
   {
    "duration": 10,
    "start_time": "2022-11-10T22:14:50.992Z"
   },
   {
    "duration": 9,
    "start_time": "2022-11-10T22:15:07.065Z"
   },
   {
    "duration": 76,
    "start_time": "2022-11-10T22:15:15.315Z"
   },
   {
    "duration": 23,
    "start_time": "2022-11-10T22:15:20.973Z"
   },
   {
    "duration": 8,
    "start_time": "2022-11-10T22:18:15.656Z"
   },
   {
    "duration": 11,
    "start_time": "2022-11-10T22:18:22.952Z"
   },
   {
    "duration": 11,
    "start_time": "2022-11-10T22:18:43.975Z"
   },
   {
    "duration": 5,
    "start_time": "2022-11-10T22:20:06.149Z"
   },
   {
    "duration": 9,
    "start_time": "2022-11-10T22:20:20.304Z"
   },
   {
    "duration": 7,
    "start_time": "2022-11-10T22:21:44.585Z"
   },
   {
    "duration": 8,
    "start_time": "2022-11-10T22:21:50.091Z"
   },
   {
    "duration": 16,
    "start_time": "2022-11-10T22:23:30.788Z"
   },
   {
    "duration": 6,
    "start_time": "2022-11-10T22:24:41.736Z"
   },
   {
    "duration": 8,
    "start_time": "2022-11-10T22:24:43.975Z"
   },
   {
    "duration": 18,
    "start_time": "2022-11-10T22:24:56.069Z"
   },
   {
    "duration": 1139,
    "start_time": "2022-11-10T22:28:29.607Z"
   },
   {
    "duration": 1093,
    "start_time": "2022-11-10T22:28:39.590Z"
   },
   {
    "duration": 4,
    "start_time": "2022-11-10T22:28:51.284Z"
   },
   {
    "duration": 3,
    "start_time": "2022-11-10T22:30:03.908Z"
   },
   {
    "duration": 10,
    "start_time": "2022-11-10T22:30:09.197Z"
   },
   {
    "duration": 6,
    "start_time": "2022-11-10T22:30:41.591Z"
   },
   {
    "duration": 7,
    "start_time": "2022-11-10T22:31:26.955Z"
   },
   {
    "duration": 24,
    "start_time": "2022-11-10T22:31:31.443Z"
   },
   {
    "duration": 10,
    "start_time": "2022-11-10T22:31:43.380Z"
   },
   {
    "duration": 4,
    "start_time": "2022-11-10T22:32:56.189Z"
   },
   {
    "duration": 73,
    "start_time": "2022-11-10T22:35:22.288Z"
   },
   {
    "duration": 5,
    "start_time": "2022-11-10T22:36:06.143Z"
   },
   {
    "duration": 5,
    "start_time": "2022-11-10T22:36:44.552Z"
   },
   {
    "duration": 12,
    "start_time": "2022-11-10T22:37:27.907Z"
   },
   {
    "duration": 10,
    "start_time": "2022-11-10T22:37:57.544Z"
   },
   {
    "duration": 5,
    "start_time": "2022-11-10T22:40:21.057Z"
   },
   {
    "duration": 6,
    "start_time": "2022-11-10T22:40:33.797Z"
   },
   {
    "duration": 78,
    "start_time": "2022-11-10T22:40:40.455Z"
   },
   {
    "duration": 4,
    "start_time": "2022-11-10T22:40:45.201Z"
   },
   {
    "duration": 5,
    "start_time": "2022-11-10T22:42:04.122Z"
   },
   {
    "duration": 67,
    "start_time": "2022-11-10T22:42:45.277Z"
   },
   {
    "duration": 12,
    "start_time": "2022-11-10T22:42:49.972Z"
   },
   {
    "duration": 73,
    "start_time": "2022-11-10T22:42:58.182Z"
   },
   {
    "duration": 6,
    "start_time": "2022-11-10T22:44:06.477Z"
   },
   {
    "duration": 8,
    "start_time": "2022-11-10T22:44:22.952Z"
   },
   {
    "duration": 3,
    "start_time": "2022-11-10T22:44:48.779Z"
   },
   {
    "duration": 4,
    "start_time": "2022-11-10T22:44:53.779Z"
   },
   {
    "duration": 8,
    "start_time": "2022-11-10T22:45:09.805Z"
   },
   {
    "duration": 8,
    "start_time": "2022-11-10T22:45:31.780Z"
   },
   {
    "duration": 71,
    "start_time": "2022-11-10T22:45:43.090Z"
   },
   {
    "duration": 72,
    "start_time": "2022-11-10T22:45:50.637Z"
   },
   {
    "duration": 75,
    "start_time": "2022-11-10T22:46:00.676Z"
   },
   {
    "duration": 7,
    "start_time": "2022-11-10T22:46:05.138Z"
   },
   {
    "duration": 11,
    "start_time": "2022-11-10T22:46:46.857Z"
   },
   {
    "duration": 20,
    "start_time": "2022-11-10T22:46:57.006Z"
   },
   {
    "duration": 9,
    "start_time": "2022-11-10T22:48:49.629Z"
   },
   {
    "duration": 8,
    "start_time": "2022-11-10T22:49:59.133Z"
   },
   {
    "duration": 160,
    "start_time": "2022-11-10T22:50:21.509Z"
   },
   {
    "duration": 181,
    "start_time": "2022-11-10T22:50:27.642Z"
   },
   {
    "duration": 166,
    "start_time": "2022-11-10T22:51:00.242Z"
   },
   {
    "duration": 176,
    "start_time": "2022-11-10T22:51:39.459Z"
   },
   {
    "duration": 176,
    "start_time": "2022-11-10T22:51:53.156Z"
   },
   {
    "duration": 154,
    "start_time": "2022-11-10T22:54:04.504Z"
   },
   {
    "duration": 103,
    "start_time": "2022-11-10T22:54:11.622Z"
   },
   {
    "duration": 183,
    "start_time": "2022-11-10T22:54:37.902Z"
   },
   {
    "duration": 73,
    "start_time": "2022-11-10T22:55:19.929Z"
   },
   {
    "duration": 99,
    "start_time": "2022-11-10T22:55:23.880Z"
   },
   {
    "duration": 14,
    "start_time": "2022-11-10T22:55:36.103Z"
   },
   {
    "duration": 123,
    "start_time": "2022-11-10T22:55:42.418Z"
   },
   {
    "duration": 71,
    "start_time": "2022-11-10T22:55:46.431Z"
   },
   {
    "duration": 72,
    "start_time": "2022-11-10T22:55:55.454Z"
   },
   {
    "duration": 109,
    "start_time": "2022-11-10T22:56:00.715Z"
   },
   {
    "duration": 139,
    "start_time": "2022-11-10T22:56:28.052Z"
   },
   {
    "duration": 107,
    "start_time": "2022-11-10T22:57:56.372Z"
   },
   {
    "duration": 106,
    "start_time": "2022-11-10T22:58:34.779Z"
   },
   {
    "duration": 99,
    "start_time": "2022-11-10T22:58:57.761Z"
   },
   {
    "duration": 81,
    "start_time": "2022-11-10T23:01:25.014Z"
   },
   {
    "duration": 2,
    "start_time": "2022-11-10T23:08:32.682Z"
   },
   {
    "duration": 11,
    "start_time": "2022-11-10T23:08:47.342Z"
   },
   {
    "duration": 24,
    "start_time": "2022-11-10T23:17:17.973Z"
   },
   {
    "duration": 10,
    "start_time": "2022-11-10T23:18:44.801Z"
   },
   {
    "duration": 13,
    "start_time": "2022-11-10T23:18:48.388Z"
   },
   {
    "duration": 18,
    "start_time": "2022-11-10T23:19:01.695Z"
   },
   {
    "duration": 11,
    "start_time": "2022-11-10T23:19:23.390Z"
   },
   {
    "duration": 15,
    "start_time": "2022-11-10T23:19:28.349Z"
   },
   {
    "duration": 23,
    "start_time": "2022-11-10T23:19:40.004Z"
   },
   {
    "duration": 25,
    "start_time": "2022-11-10T23:20:03.552Z"
   },
   {
    "duration": 12,
    "start_time": "2022-11-10T23:21:32.864Z"
   },
   {
    "duration": 12,
    "start_time": "2022-11-10T23:21:36.123Z"
   },
   {
    "duration": 12,
    "start_time": "2022-11-10T23:22:06.200Z"
   },
   {
    "duration": 13,
    "start_time": "2022-11-10T23:22:14.015Z"
   },
   {
    "duration": 13,
    "start_time": "2022-11-10T23:23:49.789Z"
   },
   {
    "duration": 91,
    "start_time": "2022-11-10T23:27:31.391Z"
   },
   {
    "duration": 73,
    "start_time": "2022-11-10T23:27:36.885Z"
   },
   {
    "duration": 73,
    "start_time": "2022-11-10T23:27:53.406Z"
   },
   {
    "duration": 1136,
    "start_time": "2022-11-10T23:28:08.863Z"
   },
   {
    "duration": 1284,
    "start_time": "2022-11-10T23:28:28.751Z"
   },
   {
    "duration": 5,
    "start_time": "2022-11-10T23:28:51.150Z"
   },
   {
    "duration": 9,
    "start_time": "2022-11-10T23:29:00.348Z"
   },
   {
    "duration": 9,
    "start_time": "2022-11-10T23:29:09.641Z"
   },
   {
    "duration": 8,
    "start_time": "2022-11-10T23:29:18.841Z"
   },
   {
    "duration": 81,
    "start_time": "2022-11-10T23:30:38.197Z"
   },
   {
    "duration": 5,
    "start_time": "2022-11-10T23:31:00.577Z"
   },
   {
    "duration": 3,
    "start_time": "2022-11-10T23:31:32.898Z"
   },
   {
    "duration": 5,
    "start_time": "2022-11-10T23:31:40.913Z"
   },
   {
    "duration": 5,
    "start_time": "2022-11-10T23:32:41.797Z"
   },
   {
    "duration": 75,
    "start_time": "2022-11-10T23:34:41.019Z"
   },
   {
    "duration": 25,
    "start_time": "2022-11-10T23:34:51.567Z"
   },
   {
    "duration": 2,
    "start_time": "2022-11-10T23:35:17.884Z"
   },
   {
    "duration": 28,
    "start_time": "2022-11-10T23:35:42.444Z"
   },
   {
    "duration": 4,
    "start_time": "2022-11-10T23:36:52.801Z"
   },
   {
    "duration": 3,
    "start_time": "2022-11-10T23:36:58.012Z"
   },
   {
    "duration": 4,
    "start_time": "2022-11-10T23:37:00.874Z"
   },
   {
    "duration": 7,
    "start_time": "2022-11-10T23:37:16.437Z"
   },
   {
    "duration": 7,
    "start_time": "2022-11-10T23:40:38.039Z"
   },
   {
    "duration": 75,
    "start_time": "2022-11-10T23:44:28.596Z"
   },
   {
    "duration": 5,
    "start_time": "2022-11-10T23:45:41.509Z"
   },
   {
    "duration": 11,
    "start_time": "2022-11-10T23:45:52.304Z"
   },
   {
    "duration": 9,
    "start_time": "2022-11-10T23:45:59.939Z"
   },
   {
    "duration": 6,
    "start_time": "2022-11-10T23:46:42.728Z"
   },
   {
    "duration": 22,
    "start_time": "2022-11-10T23:48:11.876Z"
   },
   {
    "duration": 16,
    "start_time": "2022-11-10T23:48:32.614Z"
   },
   {
    "duration": 20,
    "start_time": "2022-11-10T23:49:20.901Z"
   },
   {
    "duration": 16,
    "start_time": "2022-11-10T23:51:54.571Z"
   },
   {
    "duration": 1093,
    "start_time": "2022-11-10T23:52:13.601Z"
   },
   {
    "duration": 23,
    "start_time": "2022-11-10T23:52:36.341Z"
   },
   {
    "duration": 22,
    "start_time": "2022-11-10T23:52:54.961Z"
   },
   {
    "duration": 24,
    "start_time": "2022-11-10T23:53:29.238Z"
   },
   {
    "duration": 22,
    "start_time": "2022-11-10T23:53:43.304Z"
   },
   {
    "duration": 14,
    "start_time": "2022-11-10T23:53:49.200Z"
   },
   {
    "duration": 21,
    "start_time": "2022-11-10T23:54:21.583Z"
   },
   {
    "duration": 15,
    "start_time": "2022-11-10T23:54:37.371Z"
   },
   {
    "duration": 11,
    "start_time": "2022-11-10T23:54:57.478Z"
   },
   {
    "duration": 13,
    "start_time": "2022-11-10T23:55:20.458Z"
   },
   {
    "duration": 14,
    "start_time": "2022-11-10T23:55:24.171Z"
   },
   {
    "duration": 20,
    "start_time": "2022-11-10T23:55:42.304Z"
   },
   {
    "duration": 19,
    "start_time": "2022-11-10T23:56:32.367Z"
   },
   {
    "duration": 18,
    "start_time": "2022-11-10T23:58:54.127Z"
   },
   {
    "duration": 9,
    "start_time": "2022-11-10T23:59:05.096Z"
   },
   {
    "duration": 7,
    "start_time": "2022-11-11T00:00:14.406Z"
   },
   {
    "duration": 11,
    "start_time": "2022-11-11T00:00:28.306Z"
   },
   {
    "duration": 1273,
    "start_time": "2022-11-11T07:55:00.280Z"
   },
   {
    "duration": 4,
    "start_time": "2022-11-11T07:55:01.555Z"
   },
   {
    "duration": 209,
    "start_time": "2022-11-11T07:55:01.560Z"
   },
   {
    "duration": 29,
    "start_time": "2022-11-11T07:55:01.771Z"
   },
   {
    "duration": 21,
    "start_time": "2022-11-11T07:55:01.802Z"
   },
   {
    "duration": 7,
    "start_time": "2022-11-11T07:55:01.824Z"
   },
   {
    "duration": 13,
    "start_time": "2022-11-11T07:55:01.832Z"
   },
   {
    "duration": 13,
    "start_time": "2022-11-11T07:55:01.846Z"
   },
   {
    "duration": 12,
    "start_time": "2022-11-11T07:55:01.860Z"
   },
   {
    "duration": 9,
    "start_time": "2022-11-11T07:55:01.874Z"
   },
   {
    "duration": 23,
    "start_time": "2022-11-11T07:55:01.884Z"
   },
   {
    "duration": 11,
    "start_time": "2022-11-11T07:55:01.908Z"
   },
   {
    "duration": 94,
    "start_time": "2022-11-11T07:55:01.921Z"
   },
   {
    "duration": 0,
    "start_time": "2022-11-11T07:55:02.017Z"
   },
   {
    "duration": 0,
    "start_time": "2022-11-11T07:55:02.018Z"
   },
   {
    "duration": 0,
    "start_time": "2022-11-11T07:55:02.019Z"
   },
   {
    "duration": 0,
    "start_time": "2022-11-11T07:55:02.021Z"
   },
   {
    "duration": 7,
    "start_time": "2022-11-11T07:55:24.526Z"
   },
   {
    "duration": 10,
    "start_time": "2022-11-11T07:55:57.631Z"
   },
   {
    "duration": 4,
    "start_time": "2022-11-11T07:58:52.289Z"
   },
   {
    "duration": 3,
    "start_time": "2022-11-11T07:59:06.116Z"
   },
   {
    "duration": 3,
    "start_time": "2022-11-11T07:59:10.423Z"
   },
   {
    "duration": 3,
    "start_time": "2022-11-11T07:59:34.846Z"
   },
   {
    "duration": 3,
    "start_time": "2022-11-11T08:00:01.256Z"
   },
   {
    "duration": 74,
    "start_time": "2022-11-11T08:00:17.009Z"
   },
   {
    "duration": 17,
    "start_time": "2022-11-11T08:01:39.848Z"
   },
   {
    "duration": 11,
    "start_time": "2022-11-11T08:01:49.268Z"
   },
   {
    "duration": 8,
    "start_time": "2022-11-11T08:16:48.489Z"
   },
   {
    "duration": 3,
    "start_time": "2022-11-11T08:41:30.053Z"
   },
   {
    "duration": 11,
    "start_time": "2022-11-11T08:41:33.112Z"
   },
   {
    "duration": 9,
    "start_time": "2022-11-11T08:41:40.543Z"
   },
   {
    "duration": 6,
    "start_time": "2022-11-11T08:42:59.551Z"
   },
   {
    "duration": 6,
    "start_time": "2022-11-11T08:43:49.732Z"
   },
   {
    "duration": 17,
    "start_time": "2022-11-11T08:47:54.626Z"
   },
   {
    "duration": 21,
    "start_time": "2022-11-11T08:48:02.499Z"
   },
   {
    "duration": 16,
    "start_time": "2022-11-11T08:48:35.860Z"
   },
   {
    "duration": 152,
    "start_time": "2022-11-11T08:56:42.602Z"
   },
   {
    "duration": 145,
    "start_time": "2022-11-11T08:57:47.015Z"
   },
   {
    "duration": 139,
    "start_time": "2022-11-11T08:58:03.734Z"
   },
   {
    "duration": 162,
    "start_time": "2022-11-11T08:58:21.273Z"
   },
   {
    "duration": 11,
    "start_time": "2022-11-11T09:02:18.844Z"
   },
   {
    "duration": 11,
    "start_time": "2022-11-11T09:03:26.733Z"
   },
   {
    "duration": 161,
    "start_time": "2022-11-11T09:03:45.264Z"
   },
   {
    "duration": 148,
    "start_time": "2022-11-11T09:04:23.954Z"
   },
   {
    "duration": 164,
    "start_time": "2022-11-11T09:06:26.813Z"
   },
   {
    "duration": 160,
    "start_time": "2022-11-11T09:06:32.654Z"
   },
   {
    "duration": 113,
    "start_time": "2022-11-11T09:32:11.768Z"
   },
   {
    "duration": 25,
    "start_time": "2022-11-11T09:33:15.248Z"
   },
   {
    "duration": 8,
    "start_time": "2022-11-11T09:33:32.177Z"
   },
   {
    "duration": 1330,
    "start_time": "2022-11-12T17:03:53.608Z"
   },
   {
    "duration": 5,
    "start_time": "2022-11-12T17:03:54.940Z"
   },
   {
    "duration": 302,
    "start_time": "2022-11-12T17:03:54.947Z"
   },
   {
    "duration": 40,
    "start_time": "2022-11-12T17:03:55.251Z"
   },
   {
    "duration": 27,
    "start_time": "2022-11-12T17:03:55.293Z"
   },
   {
    "duration": 6,
    "start_time": "2022-11-12T17:03:55.321Z"
   },
   {
    "duration": 31,
    "start_time": "2022-11-12T17:03:55.329Z"
   },
   {
    "duration": 13,
    "start_time": "2022-11-12T17:03:55.363Z"
   },
   {
    "duration": 7,
    "start_time": "2022-11-12T17:03:55.378Z"
   },
   {
    "duration": 9,
    "start_time": "2022-11-12T17:03:55.387Z"
   },
   {
    "duration": 14,
    "start_time": "2022-11-12T17:03:55.397Z"
   },
   {
    "duration": 11,
    "start_time": "2022-11-12T17:03:55.413Z"
   },
   {
    "duration": 131,
    "start_time": "2022-11-12T17:03:55.426Z"
   },
   {
    "duration": 0,
    "start_time": "2022-11-12T17:03:55.568Z"
   },
   {
    "duration": 129,
    "start_time": "2022-11-12T17:04:52.813Z"
   },
   {
    "duration": 129,
    "start_time": "2022-11-12T17:04:55.239Z"
   },
   {
    "duration": 48,
    "start_time": "2022-11-12T17:06:27.648Z"
   },
   {
    "duration": 10,
    "start_time": "2022-11-12T17:06:58.731Z"
   },
   {
    "duration": 7,
    "start_time": "2022-11-12T17:07:34.096Z"
   },
   {
    "duration": 18,
    "start_time": "2022-11-12T17:09:14.471Z"
   },
   {
    "duration": 191,
    "start_time": "2022-11-12T17:09:16.475Z"
   },
   {
    "duration": 135,
    "start_time": "2022-11-12T17:09:19.721Z"
   },
   {
    "duration": 10,
    "start_time": "2022-11-12T17:51:32.928Z"
   },
   {
    "duration": 8,
    "start_time": "2022-11-12T17:51:45.643Z"
   },
   {
    "duration": 216,
    "start_time": "2022-11-12T17:51:51.787Z"
   },
   {
    "duration": 56,
    "start_time": "2022-11-12T17:54:17.357Z"
   },
   {
    "duration": 43,
    "start_time": "2022-11-12T17:56:24.399Z"
   },
   {
    "duration": 45,
    "start_time": "2022-11-12T17:56:36.518Z"
   },
   {
    "duration": 43,
    "start_time": "2022-11-12T17:56:42.489Z"
   },
   {
    "duration": 12,
    "start_time": "2022-11-12T17:56:50.384Z"
   },
   {
    "duration": 46,
    "start_time": "2022-11-12T17:57:09.384Z"
   },
   {
    "duration": 218,
    "start_time": "2022-11-12T17:57:15.230Z"
   },
   {
    "duration": 255,
    "start_time": "2022-11-12T17:57:26.499Z"
   },
   {
    "duration": 17,
    "start_time": "2022-11-12T17:57:47.473Z"
   },
   {
    "duration": 11,
    "start_time": "2022-11-12T17:58:13.097Z"
   },
   {
    "duration": 190,
    "start_time": "2022-11-12T17:58:25.527Z"
   },
   {
    "duration": 190,
    "start_time": "2022-11-12T17:58:29.679Z"
   },
   {
    "duration": 175,
    "start_time": "2022-11-12T17:58:33.274Z"
   },
   {
    "duration": 218,
    "start_time": "2022-11-12T17:58:42.057Z"
   },
   {
    "duration": 185,
    "start_time": "2022-11-12T17:58:47.632Z"
   },
   {
    "duration": 180,
    "start_time": "2022-11-12T17:58:55.277Z"
   },
   {
    "duration": 10,
    "start_time": "2022-11-12T18:01:25.037Z"
   },
   {
    "duration": 10,
    "start_time": "2022-11-12T18:01:52.030Z"
   },
   {
    "duration": 11,
    "start_time": "2022-11-12T18:02:09.638Z"
   },
   {
    "duration": 409,
    "start_time": "2022-11-12T18:03:07.188Z"
   },
   {
    "duration": 55,
    "start_time": "2022-11-12T18:08:22.077Z"
   },
   {
    "duration": 103,
    "start_time": "2022-11-12T18:08:29.447Z"
   },
   {
    "duration": 144,
    "start_time": "2022-11-12T18:08:54.076Z"
   },
   {
    "duration": 183,
    "start_time": "2022-11-12T18:09:12.647Z"
   },
   {
    "duration": 107,
    "start_time": "2022-11-12T18:09:39.733Z"
   },
   {
    "duration": 105,
    "start_time": "2022-11-12T18:10:53.061Z"
   },
   {
    "duration": 105,
    "start_time": "2022-11-12T18:11:00.104Z"
   },
   {
    "duration": 122,
    "start_time": "2022-11-12T18:13:31.829Z"
   },
   {
    "duration": 146,
    "start_time": "2022-11-12T18:13:45.186Z"
   },
   {
    "duration": 150,
    "start_time": "2022-11-12T18:15:15.704Z"
   },
   {
    "duration": 162,
    "start_time": "2022-11-12T18:15:36.357Z"
   },
   {
    "duration": 167,
    "start_time": "2022-11-12T18:16:20.655Z"
   },
   {
    "duration": 141,
    "start_time": "2022-11-12T18:16:26.275Z"
   },
   {
    "duration": 164,
    "start_time": "2022-11-12T18:16:39.635Z"
   },
   {
    "duration": 166,
    "start_time": "2022-11-12T18:18:47.640Z"
   },
   {
    "duration": 111,
    "start_time": "2022-11-12T18:22:34.689Z"
   },
   {
    "duration": 144,
    "start_time": "2022-11-12T18:22:45.074Z"
   },
   {
    "duration": 84,
    "start_time": "2022-11-12T18:22:59.257Z"
   },
   {
    "duration": 137,
    "start_time": "2022-11-12T18:23:07.316Z"
   },
   {
    "duration": 271,
    "start_time": "2022-11-12T18:23:18.424Z"
   },
   {
    "duration": 170,
    "start_time": "2022-11-12T18:24:55.972Z"
   },
   {
    "duration": 180,
    "start_time": "2022-11-12T18:25:06.226Z"
   },
   {
    "duration": 11,
    "start_time": "2022-11-12T18:25:21.572Z"
   },
   {
    "duration": 11,
    "start_time": "2022-11-12T18:25:26.479Z"
   },
   {
    "duration": 180,
    "start_time": "2022-11-12T18:25:31.831Z"
   },
   {
    "duration": 164,
    "start_time": "2022-11-12T18:26:00.127Z"
   },
   {
    "duration": 13,
    "start_time": "2022-11-12T18:26:09.673Z"
   },
   {
    "duration": 189,
    "start_time": "2022-11-12T18:26:33.232Z"
   },
   {
    "duration": 19,
    "start_time": "2022-11-12T18:27:39.151Z"
   },
   {
    "duration": 131,
    "start_time": "2022-11-12T18:28:28.808Z"
   },
   {
    "duration": 173,
    "start_time": "2022-11-12T18:28:32.228Z"
   },
   {
    "duration": 196,
    "start_time": "2022-11-12T18:28:43.804Z"
   },
   {
    "duration": 199,
    "start_time": "2022-11-12T18:33:39.784Z"
   },
   {
    "duration": 197,
    "start_time": "2022-11-12T18:39:28.979Z"
   },
   {
    "duration": 210,
    "start_time": "2022-11-12T18:42:13.239Z"
   },
   {
    "duration": 787,
    "start_time": "2022-11-12T18:42:49.988Z"
   },
   {
    "duration": 11,
    "start_time": "2022-11-12T18:43:04.979Z"
   },
   {
    "duration": 46,
    "start_time": "2022-11-12T18:44:50.702Z"
   },
   {
    "duration": 48,
    "start_time": "2022-11-12T18:44:54.587Z"
   },
   {
    "duration": 55,
    "start_time": "2022-11-12T18:45:01.337Z"
   },
   {
    "duration": 55,
    "start_time": "2022-11-12T18:45:14.036Z"
   },
   {
    "duration": 170,
    "start_time": "2022-11-12T18:48:50.092Z"
   },
   {
    "duration": 11,
    "start_time": "2022-11-12T18:50:50.589Z"
   },
   {
    "duration": 205,
    "start_time": "2022-11-12T18:51:01.768Z"
   },
   {
    "duration": 204,
    "start_time": "2022-11-12T18:51:50.534Z"
   },
   {
    "duration": 198,
    "start_time": "2022-11-12T18:51:53.511Z"
   },
   {
    "duration": 5,
    "start_time": "2022-11-12T19:04:17.519Z"
   },
   {
    "duration": 180,
    "start_time": "2022-11-12T19:04:27.056Z"
   },
   {
    "duration": 14,
    "start_time": "2022-11-12T19:05:36.604Z"
   },
   {
    "duration": 17,
    "start_time": "2022-11-12T19:05:53.139Z"
   },
   {
    "duration": 298,
    "start_time": "2022-11-12T19:06:37.023Z"
   },
   {
    "duration": 227,
    "start_time": "2022-11-12T19:07:04.799Z"
   },
   {
    "duration": 207,
    "start_time": "2022-11-12T19:07:25.131Z"
   },
   {
    "duration": 224,
    "start_time": "2022-11-12T19:07:30.440Z"
   },
   {
    "duration": 187,
    "start_time": "2022-11-12T19:07:38.621Z"
   },
   {
    "duration": 193,
    "start_time": "2022-11-12T19:07:42.093Z"
   },
   {
    "duration": 199,
    "start_time": "2022-11-12T19:07:45.909Z"
   },
   {
    "duration": 184,
    "start_time": "2022-11-12T19:07:49.408Z"
   },
   {
    "duration": 191,
    "start_time": "2022-11-12T19:07:53.208Z"
   },
   {
    "duration": 193,
    "start_time": "2022-11-12T19:08:06.592Z"
   },
   {
    "duration": 202,
    "start_time": "2022-11-12T19:08:30.664Z"
   },
   {
    "duration": 7,
    "start_time": "2022-11-12T19:10:03.742Z"
   },
   {
    "duration": 6,
    "start_time": "2022-11-12T19:10:42.503Z"
   },
   {
    "duration": 10,
    "start_time": "2022-11-12T19:11:07.818Z"
   },
   {
    "duration": 10,
    "start_time": "2022-11-12T19:12:45.435Z"
   },
   {
    "duration": 198,
    "start_time": "2022-11-12T19:15:48.285Z"
   },
   {
    "duration": 189,
    "start_time": "2022-11-12T19:15:55.912Z"
   },
   {
    "duration": 331,
    "start_time": "2022-11-12T19:16:22.425Z"
   },
   {
    "duration": 447,
    "start_time": "2022-11-12T19:16:39.044Z"
   },
   {
    "duration": 192,
    "start_time": "2022-11-12T19:23:40.326Z"
   },
   {
    "duration": 274,
    "start_time": "2022-11-12T19:29:06.508Z"
   },
   {
    "duration": 17,
    "start_time": "2022-11-12T19:42:59.951Z"
   },
   {
    "duration": 59,
    "start_time": "2022-11-12T19:43:34.068Z"
   },
   {
    "duration": 12,
    "start_time": "2022-11-12T19:43:50.833Z"
   },
   {
    "duration": 6,
    "start_time": "2022-11-12T19:44:03.851Z"
   },
   {
    "duration": 11,
    "start_time": "2022-11-12T19:44:07.666Z"
   },
   {
    "duration": 26,
    "start_time": "2022-11-12T19:46:02.243Z"
   },
   {
    "duration": 169,
    "start_time": "2022-11-12T19:46:20.368Z"
   },
   {
    "duration": 31,
    "start_time": "2022-11-12T19:47:05.248Z"
   },
   {
    "duration": 204,
    "start_time": "2022-11-12T19:48:02.594Z"
   },
   {
    "duration": 204,
    "start_time": "2022-11-12T19:51:25.297Z"
   },
   {
    "duration": 153,
    "start_time": "2022-11-12T20:00:07.580Z"
   },
   {
    "duration": 45,
    "start_time": "2022-11-12T20:00:26.882Z"
   },
   {
    "duration": 151,
    "start_time": "2022-11-12T20:00:37.952Z"
   },
   {
    "duration": 14,
    "start_time": "2022-11-12T20:01:22.180Z"
   },
   {
    "duration": 317,
    "start_time": "2022-11-12T20:01:31.173Z"
   },
   {
    "duration": 68,
    "start_time": "2022-11-12T20:02:10.557Z"
   },
   {
    "duration": 321,
    "start_time": "2022-11-12T20:02:25.723Z"
   },
   {
    "duration": 11,
    "start_time": "2022-11-12T20:09:10.409Z"
   },
   {
    "duration": 43,
    "start_time": "2022-11-12T20:09:27.572Z"
   },
   {
    "duration": 11,
    "start_time": "2022-11-12T20:09:36.665Z"
   },
   {
    "duration": 10,
    "start_time": "2022-11-12T20:09:45.180Z"
   },
   {
    "duration": 11,
    "start_time": "2022-11-12T20:11:58.692Z"
   },
   {
    "duration": 11,
    "start_time": "2022-11-12T20:13:16.025Z"
   },
   {
    "duration": 114,
    "start_time": "2022-11-12T20:13:22.844Z"
   },
   {
    "duration": 121,
    "start_time": "2022-11-12T20:16:27.765Z"
   },
   {
    "duration": 117,
    "start_time": "2022-11-12T20:16:33.489Z"
   },
   {
    "duration": 119,
    "start_time": "2022-11-12T20:16:41.412Z"
   },
   {
    "duration": 126,
    "start_time": "2022-11-12T20:17:01.946Z"
   },
   {
    "duration": 134,
    "start_time": "2022-11-12T20:17:04.516Z"
   },
   {
    "duration": 108,
    "start_time": "2022-11-12T20:18:17.328Z"
   },
   {
    "duration": 117,
    "start_time": "2022-11-12T20:18:19.729Z"
   },
   {
    "duration": 251,
    "start_time": "2022-11-12T20:18:23.814Z"
   },
   {
    "duration": 136,
    "start_time": "2022-11-12T20:18:32.341Z"
   },
   {
    "duration": 137,
    "start_time": "2022-11-12T20:18:50.022Z"
   },
   {
    "duration": 134,
    "start_time": "2022-11-12T20:19:13.216Z"
   },
   {
    "duration": 152,
    "start_time": "2022-11-12T20:19:23.014Z"
   },
   {
    "duration": 138,
    "start_time": "2022-11-12T20:19:32.247Z"
   },
   {
    "duration": 133,
    "start_time": "2022-11-12T20:19:53.828Z"
   },
   {
    "duration": 129,
    "start_time": "2022-11-12T20:20:13.297Z"
   },
   {
    "duration": 186,
    "start_time": "2022-11-12T20:20:21.572Z"
   },
   {
    "duration": 5,
    "start_time": "2022-11-12T20:22:28.388Z"
   },
   {
    "duration": 6,
    "start_time": "2022-11-12T20:24:00.477Z"
   },
   {
    "duration": 12,
    "start_time": "2022-11-12T20:27:39.943Z"
   },
   {
    "duration": 147,
    "start_time": "2022-11-12T20:30:06.701Z"
   },
   {
    "duration": 148,
    "start_time": "2022-11-12T20:30:30.586Z"
   },
   {
    "duration": 158,
    "start_time": "2022-11-12T20:30:40.404Z"
   },
   {
    "duration": 4,
    "start_time": "2022-11-12T20:33:14.058Z"
   },
   {
    "duration": 12,
    "start_time": "2022-11-12T20:38:35.605Z"
   },
   {
    "duration": 71,
    "start_time": "2022-11-12T20:39:57.867Z"
   },
   {
    "duration": 146,
    "start_time": "2022-11-12T20:40:16.251Z"
   },
   {
    "duration": 155,
    "start_time": "2022-11-12T20:40:34.350Z"
   },
   {
    "duration": 11,
    "start_time": "2022-11-12T21:18:35.824Z"
   },
   {
    "duration": 11,
    "start_time": "2022-11-12T21:20:37.499Z"
   },
   {
    "duration": 20,
    "start_time": "2022-11-12T21:21:13.297Z"
   },
   {
    "duration": 7,
    "start_time": "2022-11-12T21:21:58.224Z"
   },
   {
    "duration": 15,
    "start_time": "2022-11-12T21:22:07.972Z"
   },
   {
    "duration": 19,
    "start_time": "2022-11-12T21:22:35.302Z"
   },
   {
    "duration": 12,
    "start_time": "2022-11-12T21:35:04.209Z"
   },
   {
    "duration": 45,
    "start_time": "2022-11-12T21:36:10.432Z"
   },
   {
    "duration": 33,
    "start_time": "2022-11-12T21:36:27.273Z"
   },
   {
    "duration": 23,
    "start_time": "2022-11-12T21:37:27.565Z"
   },
   {
    "duration": 43,
    "start_time": "2022-11-12T21:38:03.352Z"
   },
   {
    "duration": 52,
    "start_time": "2022-11-12T21:38:10.222Z"
   },
   {
    "duration": 55,
    "start_time": "2022-11-12T21:42:22.585Z"
   },
   {
    "duration": 4,
    "start_time": "2022-11-12T21:42:32.300Z"
   },
   {
    "duration": 46,
    "start_time": "2022-11-12T21:43:39.167Z"
   },
   {
    "duration": 17,
    "start_time": "2022-11-12T21:44:23.152Z"
   },
   {
    "duration": 46,
    "start_time": "2022-11-12T21:46:39.651Z"
   },
   {
    "duration": 53,
    "start_time": "2022-11-12T21:46:45.108Z"
   },
   {
    "duration": 12,
    "start_time": "2022-11-12T21:47:07.227Z"
   },
   {
    "duration": 11,
    "start_time": "2022-11-12T21:48:35.005Z"
   },
   {
    "duration": 16,
    "start_time": "2022-11-12T21:49:04.769Z"
   },
   {
    "duration": 166,
    "start_time": "2022-11-12T21:49:17.879Z"
   },
   {
    "duration": 38,
    "start_time": "2022-11-12T21:49:57.508Z"
   },
   {
    "duration": 69,
    "start_time": "2022-11-12T21:50:12.348Z"
   },
   {
    "duration": 39,
    "start_time": "2022-11-12T21:50:44.494Z"
   },
   {
    "duration": 27,
    "start_time": "2022-11-12T21:51:12.745Z"
   },
   {
    "duration": 43,
    "start_time": "2022-11-12T21:51:25.319Z"
   },
   {
    "duration": 11,
    "start_time": "2022-11-12T21:52:18.137Z"
   },
   {
    "duration": 12,
    "start_time": "2022-11-12T21:52:49.663Z"
   },
   {
    "duration": 21,
    "start_time": "2022-11-12T21:53:34.102Z"
   },
   {
    "duration": 12,
    "start_time": "2022-11-12T21:54:36.971Z"
   },
   {
    "duration": 61,
    "start_time": "2022-11-12T21:56:12.011Z"
   },
   {
    "duration": 54,
    "start_time": "2022-11-12T21:56:36.088Z"
   },
   {
    "duration": 57,
    "start_time": "2022-11-12T21:57:04.371Z"
   },
   {
    "duration": 55,
    "start_time": "2022-11-12T21:57:11.332Z"
   },
   {
    "duration": 65,
    "start_time": "2022-11-12T21:57:39.230Z"
   },
   {
    "duration": 10,
    "start_time": "2022-11-12T22:00:15.381Z"
   },
   {
    "duration": 18,
    "start_time": "2022-11-12T22:00:24.700Z"
   },
   {
    "duration": 13,
    "start_time": "2022-11-12T22:00:35.978Z"
   },
   {
    "duration": 15,
    "start_time": "2022-11-12T22:00:50.069Z"
   },
   {
    "duration": 170,
    "start_time": "2022-11-12T22:03:45.993Z"
   },
   {
    "duration": 13,
    "start_time": "2022-11-12T22:03:48.524Z"
   },
   {
    "duration": 12,
    "start_time": "2022-11-12T22:04:55.313Z"
   },
   {
    "duration": 169,
    "start_time": "2022-11-12T22:05:00.780Z"
   },
   {
    "duration": 229,
    "start_time": "2022-11-12T22:05:14.490Z"
   },
   {
    "duration": 55,
    "start_time": "2022-11-12T22:06:51.669Z"
   },
   {
    "duration": 53,
    "start_time": "2022-11-12T22:09:21.141Z"
   },
   {
    "duration": 26,
    "start_time": "2022-11-12T22:09:54.526Z"
   },
   {
    "duration": 41,
    "start_time": "2022-11-12T22:10:11.098Z"
   },
   {
    "duration": 28,
    "start_time": "2022-11-12T22:11:42.390Z"
   },
   {
    "duration": 101,
    "start_time": "2022-11-12T22:12:41.795Z"
   },
   {
    "duration": 50,
    "start_time": "2022-11-12T22:14:08.093Z"
   },
   {
    "duration": 100,
    "start_time": "2022-11-12T22:14:27.215Z"
   },
   {
    "duration": 108,
    "start_time": "2022-11-12T22:14:34.157Z"
   },
   {
    "duration": 100,
    "start_time": "2022-11-12T22:15:07.494Z"
   },
   {
    "duration": 114,
    "start_time": "2022-11-12T22:17:18.879Z"
   },
   {
    "duration": 10,
    "start_time": "2022-11-12T22:17:53.508Z"
   },
   {
    "duration": 28,
    "start_time": "2022-11-12T22:18:04.070Z"
   },
   {
    "duration": 113,
    "start_time": "2022-11-12T22:18:06.520Z"
   },
   {
    "duration": 9,
    "start_time": "2022-11-12T22:18:19.288Z"
   },
   {
    "duration": 19,
    "start_time": "2022-11-12T22:18:31.080Z"
   },
   {
    "duration": 20,
    "start_time": "2022-11-12T22:19:13.315Z"
   },
   {
    "duration": 11,
    "start_time": "2022-11-12T22:20:35.937Z"
   },
   {
    "duration": 102,
    "start_time": "2022-11-12T22:21:27.210Z"
   },
   {
    "duration": 10,
    "start_time": "2022-11-12T22:22:36.758Z"
   },
   {
    "duration": 47,
    "start_time": "2022-11-12T22:22:56.051Z"
   },
   {
    "duration": 17,
    "start_time": "2022-11-12T22:23:17.749Z"
   },
   {
    "duration": 18,
    "start_time": "2022-11-12T22:24:42.248Z"
   },
   {
    "duration": 116,
    "start_time": "2022-11-12T22:27:04.243Z"
   },
   {
    "duration": 30,
    "start_time": "2022-11-12T22:28:27.687Z"
   },
   {
    "duration": 96,
    "start_time": "2022-11-12T22:29:26.481Z"
   },
   {
    "duration": 26,
    "start_time": "2022-11-12T22:29:29.484Z"
   },
   {
    "duration": 28,
    "start_time": "2022-11-12T22:31:13.712Z"
   },
   {
    "duration": 19,
    "start_time": "2022-11-12T22:31:54.224Z"
   },
   {
    "duration": 11,
    "start_time": "2022-11-12T22:32:04.867Z"
   },
   {
    "duration": 12,
    "start_time": "2022-11-12T22:32:51.162Z"
   },
   {
    "duration": 193,
    "start_time": "2022-11-12T22:33:02.175Z"
   },
   {
    "duration": 188,
    "start_time": "2022-11-12T22:34:41.010Z"
   },
   {
    "duration": 295,
    "start_time": "2022-11-12T22:36:17.778Z"
   },
   {
    "duration": 302,
    "start_time": "2022-11-12T22:36:35.030Z"
   },
   {
    "duration": 338,
    "start_time": "2022-11-12T22:38:21.951Z"
   },
   {
    "duration": 26,
    "start_time": "2022-11-12T22:40:07.936Z"
   },
   {
    "duration": 311,
    "start_time": "2022-11-12T22:40:22.870Z"
   },
   {
    "duration": 155,
    "start_time": "2022-11-12T22:43:41.909Z"
   },
   {
    "duration": 131,
    "start_time": "2022-11-12T22:44:08.134Z"
   },
   {
    "duration": 122,
    "start_time": "2022-11-12T22:45:26.682Z"
   },
   {
    "duration": 9,
    "start_time": "2022-11-12T22:46:21.894Z"
   },
   {
    "duration": 9,
    "start_time": "2022-11-12T22:47:00.400Z"
   },
   {
    "duration": 9,
    "start_time": "2022-11-12T22:47:52.960Z"
   },
   {
    "duration": 8,
    "start_time": "2022-11-12T22:52:32.750Z"
   },
   {
    "duration": 8,
    "start_time": "2022-11-12T22:57:32.311Z"
   },
   {
    "duration": 22,
    "start_time": "2022-11-12T22:58:37.750Z"
   },
   {
    "duration": 22,
    "start_time": "2022-11-12T23:04:57.840Z"
   },
   {
    "duration": 22,
    "start_time": "2022-11-12T23:05:17.530Z"
   },
   {
    "duration": 26,
    "start_time": "2022-11-12T23:05:26.998Z"
   },
   {
    "duration": 10,
    "start_time": "2022-11-12T23:06:21.024Z"
   },
   {
    "duration": 10,
    "start_time": "2022-11-12T23:06:25.616Z"
   },
   {
    "duration": 9,
    "start_time": "2022-11-12T23:07:17.168Z"
   },
   {
    "duration": 9,
    "start_time": "2022-11-12T23:07:51.804Z"
   },
   {
    "duration": 7,
    "start_time": "2022-11-12T23:08:38.848Z"
   },
   {
    "duration": 8,
    "start_time": "2022-11-12T23:10:05.403Z"
   },
   {
    "duration": 6,
    "start_time": "2022-11-12T23:10:22.262Z"
   },
   {
    "duration": 7,
    "start_time": "2022-11-12T23:11:00.580Z"
   },
   {
    "duration": 6,
    "start_time": "2022-11-12T23:11:08.131Z"
   },
   {
    "duration": 5,
    "start_time": "2022-11-12T23:11:22.740Z"
   },
   {
    "duration": 5,
    "start_time": "2022-11-12T23:11:24.196Z"
   },
   {
    "duration": 4,
    "start_time": "2022-11-12T23:15:45.379Z"
   },
   {
    "duration": 11,
    "start_time": "2022-11-12T23:15:48.780Z"
   },
   {
    "duration": 3,
    "start_time": "2022-11-12T23:15:56.808Z"
   },
   {
    "duration": 4,
    "start_time": "2022-11-12T23:16:00.987Z"
   },
   {
    "duration": 4,
    "start_time": "2022-11-12T23:16:04.147Z"
   },
   {
    "duration": 4,
    "start_time": "2022-11-12T23:16:20.354Z"
   },
   {
    "duration": 12,
    "start_time": "2022-11-12T23:16:25.306Z"
   },
   {
    "duration": 44,
    "start_time": "2022-11-12T23:24:49.685Z"
   },
   {
    "duration": 42,
    "start_time": "2022-11-12T23:24:54.405Z"
   },
   {
    "duration": 7,
    "start_time": "2022-11-12T23:25:08.993Z"
   },
   {
    "duration": 10,
    "start_time": "2022-11-12T23:27:28.645Z"
   },
   {
    "duration": 9,
    "start_time": "2022-11-12T23:27:48.659Z"
   },
   {
    "duration": 10,
    "start_time": "2022-11-12T23:28:42.148Z"
   },
   {
    "duration": 10,
    "start_time": "2022-11-12T23:28:47.200Z"
   },
   {
    "duration": 9,
    "start_time": "2022-11-12T23:29:38.516Z"
   },
   {
    "duration": 12,
    "start_time": "2022-11-12T23:30:08.588Z"
   },
   {
    "duration": 11,
    "start_time": "2022-11-12T23:30:14.415Z"
   },
   {
    "duration": 11,
    "start_time": "2022-11-12T23:37:29.466Z"
   },
   {
    "duration": 14,
    "start_time": "2022-11-12T23:37:34.540Z"
   },
   {
    "duration": 10,
    "start_time": "2022-11-12T23:38:11.546Z"
   },
   {
    "duration": 3,
    "start_time": "2022-11-12T23:38:32.932Z"
   },
   {
    "duration": 23,
    "start_time": "2022-11-12T23:39:07.039Z"
   },
   {
    "duration": 336,
    "start_time": "2022-11-12T23:45:17.043Z"
   },
   {
    "duration": 14,
    "start_time": "2022-11-12T23:47:18.382Z"
   },
   {
    "duration": 15,
    "start_time": "2022-11-12T23:51:03.202Z"
   },
   {
    "duration": 14,
    "start_time": "2022-11-12T23:51:39.957Z"
   },
   {
    "duration": 14,
    "start_time": "2022-11-12T23:51:42.752Z"
   },
   {
    "duration": 48,
    "start_time": "2022-11-12T23:52:20.525Z"
   },
   {
    "duration": 50,
    "start_time": "2022-11-12T23:52:36.778Z"
   },
   {
    "duration": 58,
    "start_time": "2022-11-12T23:52:43.742Z"
   },
   {
    "duration": 15,
    "start_time": "2022-11-12T23:52:46.884Z"
   },
   {
    "duration": 16,
    "start_time": "2022-11-12T23:53:01.860Z"
   },
   {
    "duration": 15,
    "start_time": "2022-11-12T23:53:07.998Z"
   },
   {
    "duration": 50,
    "start_time": "2022-11-12T23:53:57.770Z"
   },
   {
    "duration": 43,
    "start_time": "2022-11-12T23:54:10.092Z"
   },
   {
    "duration": 39,
    "start_time": "2022-11-12T23:54:15.732Z"
   },
   {
    "duration": 67,
    "start_time": "2022-11-12T23:54:24.861Z"
   },
   {
    "duration": 9,
    "start_time": "2022-11-12T23:54:28.472Z"
   },
   {
    "duration": 13,
    "start_time": "2022-11-12T23:54:51.971Z"
   },
   {
    "duration": 13,
    "start_time": "2022-11-12T23:54:58.715Z"
   },
   {
    "duration": 7,
    "start_time": "2022-11-12T23:55:08.430Z"
   },
   {
    "duration": 6,
    "start_time": "2022-11-12T23:55:18.237Z"
   },
   {
    "duration": 11,
    "start_time": "2022-11-13T00:04:24.361Z"
   },
   {
    "duration": 11,
    "start_time": "2022-11-13T00:05:04.729Z"
   },
   {
    "duration": 787,
    "start_time": "2022-11-13T00:05:22.852Z"
   },
   {
    "duration": 3,
    "start_time": "2022-11-13T00:06:01.467Z"
   },
   {
    "duration": 4,
    "start_time": "2022-11-13T00:06:08.697Z"
   },
   {
    "duration": 3,
    "start_time": "2022-11-13T00:06:14.067Z"
   },
   {
    "duration": 4,
    "start_time": "2022-11-13T00:06:25.562Z"
   },
   {
    "duration": 15,
    "start_time": "2022-11-13T00:09:19.217Z"
   },
   {
    "duration": 47,
    "start_time": "2022-11-13T00:09:22.699Z"
   },
   {
    "duration": 11,
    "start_time": "2022-11-13T00:09:27.178Z"
   },
   {
    "duration": 12,
    "start_time": "2022-11-13T00:09:41.556Z"
   },
   {
    "duration": 12,
    "start_time": "2022-11-13T00:09:48.683Z"
   },
   {
    "duration": 10,
    "start_time": "2022-11-13T00:10:01.403Z"
   },
   {
    "duration": 4,
    "start_time": "2022-11-13T00:10:27.291Z"
   },
   {
    "duration": 4,
    "start_time": "2022-11-13T00:10:37.679Z"
   },
   {
    "duration": 3,
    "start_time": "2022-11-13T00:10:43.796Z"
   },
   {
    "duration": 11,
    "start_time": "2022-11-13T00:10:47.860Z"
   },
   {
    "duration": 9,
    "start_time": "2022-11-13T00:12:11.505Z"
   },
   {
    "duration": 16,
    "start_time": "2022-11-13T00:12:27.534Z"
   },
   {
    "duration": 16,
    "start_time": "2022-11-13T00:12:34.980Z"
   },
   {
    "duration": 18,
    "start_time": "2022-11-13T00:12:53.342Z"
   },
   {
    "duration": 5,
    "start_time": "2022-11-13T00:13:48.980Z"
   },
   {
    "duration": 3,
    "start_time": "2022-11-13T00:14:17.524Z"
   },
   {
    "duration": 43,
    "start_time": "2022-11-13T00:14:42.551Z"
   },
   {
    "duration": 793,
    "start_time": "2022-11-13T00:14:51.992Z"
   },
   {
    "duration": 5,
    "start_time": "2022-11-13T00:15:13.468Z"
   },
   {
    "duration": 6,
    "start_time": "2022-11-13T00:15:49.428Z"
   },
   {
    "duration": 5,
    "start_time": "2022-11-13T00:16:00.577Z"
   },
   {
    "duration": 6,
    "start_time": "2022-11-13T00:16:10.770Z"
   },
   {
    "duration": 4,
    "start_time": "2022-11-13T00:16:22.962Z"
   },
   {
    "duration": 6,
    "start_time": "2022-11-13T00:16:38.695Z"
   },
   {
    "duration": 5,
    "start_time": "2022-11-13T00:16:49.845Z"
   },
   {
    "duration": 6,
    "start_time": "2022-11-13T00:17:11.436Z"
   },
   {
    "duration": 4,
    "start_time": "2022-11-13T00:17:33.232Z"
   },
   {
    "duration": 4,
    "start_time": "2022-11-13T00:17:38.508Z"
   },
   {
    "duration": 4,
    "start_time": "2022-11-13T00:17:48.553Z"
   },
   {
    "duration": 5,
    "start_time": "2022-11-13T00:17:56.316Z"
   },
   {
    "duration": 6,
    "start_time": "2022-11-13T00:18:06.511Z"
   },
   {
    "duration": 5,
    "start_time": "2022-11-13T00:18:23.125Z"
   },
   {
    "duration": 11,
    "start_time": "2022-11-13T00:21:57.912Z"
   },
   {
    "duration": 11,
    "start_time": "2022-11-13T00:22:05.939Z"
   },
   {
    "duration": 11,
    "start_time": "2022-11-13T00:22:09.288Z"
   },
   {
    "duration": 11,
    "start_time": "2022-11-13T00:22:13.873Z"
   },
   {
    "duration": 44,
    "start_time": "2022-11-13T00:22:47.260Z"
   },
   {
    "duration": 20,
    "start_time": "2022-11-13T00:22:58.455Z"
   },
   {
    "duration": 21,
    "start_time": "2022-11-13T00:23:30.173Z"
   },
   {
    "duration": 20,
    "start_time": "2022-11-13T00:24:05.902Z"
   },
   {
    "duration": 9,
    "start_time": "2022-11-13T00:24:25.156Z"
   },
   {
    "duration": 10,
    "start_time": "2022-11-13T00:24:30.803Z"
   },
   {
    "duration": 9,
    "start_time": "2022-11-13T00:24:36.802Z"
   },
   {
    "duration": 11,
    "start_time": "2022-11-13T00:24:58.638Z"
   },
   {
    "duration": 11,
    "start_time": "2022-11-13T00:25:33.502Z"
   },
   {
    "duration": 5,
    "start_time": "2022-11-13T00:30:39.087Z"
   },
   {
    "duration": 13,
    "start_time": "2022-11-13T00:31:52.792Z"
   },
   {
    "duration": 11,
    "start_time": "2022-11-13T00:32:00.620Z"
   },
   {
    "duration": 18,
    "start_time": "2022-11-13T00:33:01.698Z"
   },
   {
    "duration": 20,
    "start_time": "2022-11-13T00:33:09.480Z"
   },
   {
    "duration": 38,
    "start_time": "2022-11-13T00:34:34.258Z"
   },
   {
    "duration": 3,
    "start_time": "2022-11-13T00:35:51.096Z"
   },
   {
    "duration": 14,
    "start_time": "2022-11-13T00:36:07.351Z"
   },
   {
    "duration": 14,
    "start_time": "2022-11-13T00:36:35.350Z"
   },
   {
    "duration": 9,
    "start_time": "2022-11-13T00:37:54.654Z"
   },
   {
    "duration": 13,
    "start_time": "2022-11-13T00:37:59.130Z"
   },
   {
    "duration": 10,
    "start_time": "2022-11-13T00:38:03.307Z"
   },
   {
    "duration": 8,
    "start_time": "2022-11-13T00:38:55.766Z"
   },
   {
    "duration": 10,
    "start_time": "2022-11-13T00:39:00.726Z"
   },
   {
    "duration": 14,
    "start_time": "2022-11-13T00:39:29.066Z"
   },
   {
    "duration": 9,
    "start_time": "2022-11-13T00:39:51.761Z"
   },
   {
    "duration": 11,
    "start_time": "2022-11-13T00:40:10.914Z"
   },
   {
    "duration": 23,
    "start_time": "2022-11-13T00:40:27.133Z"
   },
   {
    "duration": 10,
    "start_time": "2022-11-13T00:40:48.626Z"
   },
   {
    "duration": 8,
    "start_time": "2022-11-13T00:40:53.877Z"
   },
   {
    "duration": 61,
    "start_time": "2022-11-13T00:41:19.589Z"
   },
   {
    "duration": 9,
    "start_time": "2022-11-13T00:41:24.638Z"
   },
   {
    "duration": 9,
    "start_time": "2022-11-13T00:41:34.658Z"
   },
   {
    "duration": 8,
    "start_time": "2022-11-13T00:42:07.232Z"
   },
   {
    "duration": 9,
    "start_time": "2022-11-13T00:45:20.661Z"
   },
   {
    "duration": 29,
    "start_time": "2022-11-13T00:45:31.076Z"
   },
   {
    "duration": 9,
    "start_time": "2022-11-13T00:45:33.947Z"
   },
   {
    "duration": 7,
    "start_time": "2022-11-13T00:45:37.772Z"
   },
   {
    "duration": 5,
    "start_time": "2022-11-13T00:46:29.320Z"
   },
   {
    "duration": 11,
    "start_time": "2022-11-13T00:48:48.642Z"
   },
   {
    "duration": 3,
    "start_time": "2022-11-13T00:49:04.146Z"
   },
   {
    "duration": 55,
    "start_time": "2022-11-13T00:49:30.271Z"
   },
   {
    "duration": 8,
    "start_time": "2022-11-13T00:50:53.020Z"
   },
   {
    "duration": 10,
    "start_time": "2022-11-13T00:51:35.099Z"
   },
   {
    "duration": 14,
    "start_time": "2022-11-13T00:52:06.796Z"
   },
   {
    "duration": 15,
    "start_time": "2022-11-13T00:52:09.142Z"
   },
   {
    "duration": 1132,
    "start_time": "2022-11-13T00:52:54.145Z"
   },
   {
    "duration": 5,
    "start_time": "2022-11-13T00:52:55.279Z"
   },
   {
    "duration": 99,
    "start_time": "2022-11-13T00:52:55.286Z"
   },
   {
    "duration": 28,
    "start_time": "2022-11-13T00:52:55.387Z"
   },
   {
    "duration": 44,
    "start_time": "2022-11-13T00:52:55.416Z"
   },
   {
    "duration": 6,
    "start_time": "2022-11-13T00:52:55.462Z"
   },
   {
    "duration": 12,
    "start_time": "2022-11-13T00:52:55.469Z"
   },
   {
    "duration": 6,
    "start_time": "2022-11-13T00:52:55.483Z"
   },
   {
    "duration": 9,
    "start_time": "2022-11-13T00:52:55.491Z"
   },
   {
    "duration": 7,
    "start_time": "2022-11-13T00:52:55.502Z"
   },
   {
    "duration": 8,
    "start_time": "2022-11-13T00:52:55.511Z"
   },
   {
    "duration": 8,
    "start_time": "2022-11-13T00:52:55.521Z"
   },
   {
    "duration": 147,
    "start_time": "2022-11-13T00:52:55.530Z"
   },
   {
    "duration": 103,
    "start_time": "2022-11-13T00:52:55.679Z"
   },
   {
    "duration": 30,
    "start_time": "2022-11-13T00:52:55.784Z"
   },
   {
    "duration": 6,
    "start_time": "2022-11-13T00:52:55.816Z"
   },
   {
    "duration": 42,
    "start_time": "2022-11-13T00:52:55.823Z"
   },
   {
    "duration": 8,
    "start_time": "2022-11-13T00:52:55.867Z"
   },
   {
    "duration": 7,
    "start_time": "2022-11-13T00:52:55.876Z"
   },
   {
    "duration": 17,
    "start_time": "2022-11-13T00:52:55.884Z"
   },
   {
    "duration": 12,
    "start_time": "2022-11-13T00:52:55.902Z"
   },
   {
    "duration": 13,
    "start_time": "2022-11-13T00:52:55.916Z"
   },
   {
    "duration": 50,
    "start_time": "2022-11-13T00:52:55.931Z"
   },
   {
    "duration": 121,
    "start_time": "2022-11-13T00:52:55.983Z"
   },
   {
    "duration": 17,
    "start_time": "2022-11-13T00:52:56.105Z"
   },
   {
    "duration": 105,
    "start_time": "2022-11-13T00:52:56.123Z"
   },
   {
    "duration": 47,
    "start_time": "2022-11-13T00:52:56.230Z"
   },
   {
    "duration": 9,
    "start_time": "2022-11-13T00:52:56.280Z"
   },
   {
    "duration": 7,
    "start_time": "2022-11-13T00:52:56.290Z"
   },
   {
    "duration": 12,
    "start_time": "2022-11-13T00:52:56.298Z"
   },
   {
    "duration": 18,
    "start_time": "2022-11-13T00:52:56.311Z"
   },
   {
    "duration": 14,
    "start_time": "2022-11-13T00:52:56.330Z"
   },
   {
    "duration": 246,
    "start_time": "2022-11-13T00:52:56.359Z"
   },
   {
    "duration": 12,
    "start_time": "2022-11-13T00:52:56.607Z"
   },
   {
    "duration": 206,
    "start_time": "2022-11-13T00:52:56.621Z"
   },
   {
    "duration": 295,
    "start_time": "2022-11-13T00:52:56.829Z"
   },
   {
    "duration": 183,
    "start_time": "2022-11-13T00:52:57.125Z"
   },
   {
    "duration": 260,
    "start_time": "2022-11-13T00:52:57.310Z"
   },
   {
    "duration": 10,
    "start_time": "2022-11-13T00:52:57.571Z"
   },
   {
    "duration": 142,
    "start_time": "2022-11-13T00:52:57.582Z"
   },
   {
    "duration": 4,
    "start_time": "2022-11-13T00:52:57.726Z"
   },
   {
    "duration": 213,
    "start_time": "2022-11-13T00:52:57.731Z"
   },
   {
    "duration": 17,
    "start_time": "2022-11-13T00:52:57.945Z"
   },
   {
    "duration": 135,
    "start_time": "2022-11-13T00:52:57.963Z"
   },
   {
    "duration": 8,
    "start_time": "2022-11-13T00:52:58.100Z"
   },
   {
    "duration": 24,
    "start_time": "2022-11-13T00:52:58.109Z"
   },
   {
    "duration": 28,
    "start_time": "2022-11-13T00:52:58.134Z"
   },
   {
    "duration": 10,
    "start_time": "2022-11-13T00:52:58.164Z"
   },
   {
    "duration": 11,
    "start_time": "2022-11-13T00:52:58.175Z"
   },
   {
    "duration": 21,
    "start_time": "2022-11-13T00:52:58.187Z"
   },
   {
    "duration": 13,
    "start_time": "2022-11-13T00:52:58.210Z"
   },
   {
    "duration": 24,
    "start_time": "2022-11-13T01:00:47.716Z"
   },
   {
    "duration": 25,
    "start_time": "2022-11-13T01:00:56.491Z"
   },
   {
    "duration": 111,
    "start_time": "2022-11-13T01:01:10.091Z"
   },
   {
    "duration": 33,
    "start_time": "2022-11-13T01:01:14.142Z"
   },
   {
    "duration": 23,
    "start_time": "2022-11-13T01:01:19.221Z"
   },
   {
    "duration": 13,
    "start_time": "2022-11-13T01:03:42.394Z"
   },
   {
    "duration": 10,
    "start_time": "2022-11-13T01:03:59.827Z"
   },
   {
    "duration": 22,
    "start_time": "2022-11-13T01:04:03.367Z"
   },
   {
    "duration": 123,
    "start_time": "2022-11-13T01:10:59.437Z"
   },
   {
    "duration": 222,
    "start_time": "2022-11-13T01:12:13.414Z"
   },
   {
    "duration": 444,
    "start_time": "2022-11-13T01:15:10.086Z"
   },
   {
    "duration": 464,
    "start_time": "2022-11-13T01:15:24.371Z"
   },
   {
    "duration": 51,
    "start_time": "2022-11-13T01:15:31.330Z"
   },
   {
    "duration": 431,
    "start_time": "2022-11-13T01:15:35.994Z"
   },
   {
    "duration": 458,
    "start_time": "2022-11-13T01:15:46.079Z"
   },
   {
    "duration": 311,
    "start_time": "2022-11-13T01:15:50.356Z"
   },
   {
    "duration": 242,
    "start_time": "2022-11-13T01:16:35.647Z"
   },
   {
    "duration": 218,
    "start_time": "2022-11-13T01:16:42.994Z"
   },
   {
    "duration": 222,
    "start_time": "2022-11-13T01:17:39.047Z"
   },
   {
    "duration": 224,
    "start_time": "2022-11-13T01:17:49.729Z"
   },
   {
    "duration": 266,
    "start_time": "2022-11-13T01:18:42.233Z"
   },
   {
    "duration": 244,
    "start_time": "2022-11-13T01:18:51.978Z"
   },
   {
    "duration": 255,
    "start_time": "2022-11-13T01:18:57.635Z"
   },
   {
    "duration": 245,
    "start_time": "2022-11-13T01:19:03.643Z"
   },
   {
    "duration": 256,
    "start_time": "2022-11-13T01:19:11.998Z"
   },
   {
    "duration": 223,
    "start_time": "2022-11-13T01:19:35.749Z"
   },
   {
    "duration": 222,
    "start_time": "2022-11-13T01:20:06.754Z"
   },
   {
    "duration": 185,
    "start_time": "2022-11-13T01:20:11.103Z"
   },
   {
    "duration": 215,
    "start_time": "2022-11-13T01:20:24.832Z"
   },
   {
    "duration": 232,
    "start_time": "2022-11-13T01:20:33.688Z"
   },
   {
    "duration": 3,
    "start_time": "2022-11-13T01:21:11.191Z"
   },
   {
    "duration": 232,
    "start_time": "2022-11-13T01:21:17.788Z"
   },
   {
    "duration": 227,
    "start_time": "2022-11-13T01:21:20.282Z"
   },
   {
    "duration": 3,
    "start_time": "2022-11-13T01:28:03.408Z"
   },
   {
    "duration": 3,
    "start_time": "2022-11-13T01:28:32.926Z"
   },
   {
    "duration": 10,
    "start_time": "2022-11-13T01:28:41.690Z"
   },
   {
    "duration": 3,
    "start_time": "2022-11-13T01:28:54.348Z"
   },
   {
    "duration": 10,
    "start_time": "2022-11-13T01:28:59.410Z"
   },
   {
    "duration": 11,
    "start_time": "2022-11-13T01:29:25.205Z"
   },
   {
    "duration": 179,
    "start_time": "2022-11-13T01:43:16.018Z"
   },
   {
    "duration": 14,
    "start_time": "2022-11-13T01:45:58.910Z"
   },
   {
    "duration": 193,
    "start_time": "2022-11-13T01:48:51.853Z"
   },
   {
    "duration": 58,
    "start_time": "2022-11-13T01:55:19.318Z"
   },
   {
    "duration": 285,
    "start_time": "2022-11-13T01:55:36.659Z"
   },
   {
    "duration": 1401,
    "start_time": "2022-11-13T10:38:23.686Z"
   },
   {
    "duration": 6,
    "start_time": "2022-11-13T10:38:26.535Z"
   },
   {
    "duration": 3,
    "start_time": "2022-11-13T10:38:29.018Z"
   },
   {
    "duration": 264,
    "start_time": "2022-11-13T10:38:33.502Z"
   },
   {
    "duration": 33,
    "start_time": "2022-11-13T10:38:50.529Z"
   },
   {
    "duration": 24,
    "start_time": "2022-11-13T10:39:09.645Z"
   },
   {
    "duration": 7,
    "start_time": "2022-11-13T10:39:17.700Z"
   },
   {
    "duration": 8,
    "start_time": "2022-11-13T10:39:20.837Z"
   },
   {
    "duration": 7,
    "start_time": "2022-11-13T10:39:26.791Z"
   },
   {
    "duration": 4,
    "start_time": "2022-11-13T10:39:30.392Z"
   },
   {
    "duration": 8,
    "start_time": "2022-11-13T10:39:37.012Z"
   },
   {
    "duration": 8,
    "start_time": "2022-11-13T10:39:48.057Z"
   },
   {
    "duration": 9,
    "start_time": "2022-11-13T10:39:51.220Z"
   },
   {
    "duration": 131,
    "start_time": "2022-11-13T10:40:08.586Z"
   },
   {
    "duration": 112,
    "start_time": "2022-11-13T10:40:15.034Z"
   },
   {
    "duration": 76,
    "start_time": "2022-11-13T10:44:00.317Z"
   },
   {
    "duration": 54,
    "start_time": "2022-11-13T10:44:16.446Z"
   },
   {
    "duration": 37,
    "start_time": "2022-11-13T10:44:45.360Z"
   },
   {
    "duration": 36,
    "start_time": "2022-11-13T10:45:21.323Z"
   },
   {
    "duration": 9,
    "start_time": "2022-11-13T10:46:15.200Z"
   },
   {
    "duration": 17,
    "start_time": "2022-11-13T10:48:50.543Z"
   },
   {
    "duration": 11,
    "start_time": "2022-11-13T10:52:55.391Z"
   },
   {
    "duration": 9,
    "start_time": "2022-11-13T10:53:06.574Z"
   },
   {
    "duration": 6,
    "start_time": "2022-11-13T10:55:28.037Z"
   },
   {
    "duration": 13,
    "start_time": "2022-11-13T10:55:38.218Z"
   },
   {
    "duration": 30,
    "start_time": "2022-11-13T11:01:16.036Z"
   },
   {
    "duration": 28,
    "start_time": "2022-11-13T11:01:23.499Z"
   },
   {
    "duration": 31,
    "start_time": "2022-11-13T11:01:38.496Z"
   },
   {
    "duration": 119,
    "start_time": "2022-11-13T11:02:25.716Z"
   },
   {
    "duration": 118,
    "start_time": "2022-11-13T11:02:49.861Z"
   },
   {
    "duration": 21,
    "start_time": "2022-11-13T11:04:05.827Z"
   },
   {
    "duration": 111,
    "start_time": "2022-11-13T11:04:40.715Z"
   },
   {
    "duration": 33,
    "start_time": "2022-11-13T11:04:57.210Z"
   },
   {
    "duration": 12,
    "start_time": "2022-11-13T11:12:48.283Z"
   },
   {
    "duration": 260,
    "start_time": "2022-11-13T11:16:02.514Z"
   },
   {
    "duration": 282,
    "start_time": "2022-11-13T11:17:26.263Z"
   },
   {
    "duration": 177,
    "start_time": "2022-11-13T11:17:43.401Z"
   },
   {
    "duration": 264,
    "start_time": "2022-11-13T11:17:56.054Z"
   },
   {
    "duration": 259,
    "start_time": "2022-11-13T11:18:14.764Z"
   },
   {
    "duration": 267,
    "start_time": "2022-11-13T11:18:19.575Z"
   },
   {
    "duration": 302,
    "start_time": "2022-11-13T11:23:48.568Z"
   },
   {
    "duration": 255,
    "start_time": "2022-11-13T11:23:53.859Z"
   },
   {
    "duration": 286,
    "start_time": "2022-11-13T11:23:59.844Z"
   },
   {
    "duration": 4,
    "start_time": "2022-11-13T11:25:19.673Z"
   },
   {
    "duration": 277,
    "start_time": "2022-11-13T11:25:32.376Z"
   },
   {
    "duration": 15,
    "start_time": "2022-11-13T11:26:03.778Z"
   },
   {
    "duration": 13,
    "start_time": "2022-11-13T11:26:28.219Z"
   },
   {
    "duration": 267,
    "start_time": "2022-11-13T11:26:37.876Z"
   },
   {
    "duration": 254,
    "start_time": "2022-11-13T11:27:03.804Z"
   },
   {
    "duration": 274,
    "start_time": "2022-11-13T11:27:11.031Z"
   },
   {
    "duration": 11,
    "start_time": "2022-11-13T11:27:26.681Z"
   },
   {
    "duration": 9,
    "start_time": "2022-11-13T11:27:54.616Z"
   },
   {
    "duration": 11,
    "start_time": "2022-11-13T11:28:03.833Z"
   },
   {
    "duration": 13,
    "start_time": "2022-11-13T11:28:09.491Z"
   },
   {
    "duration": 15,
    "start_time": "2022-11-13T11:28:18.444Z"
   },
   {
    "duration": 280,
    "start_time": "2022-11-13T11:29:28.376Z"
   },
   {
    "duration": 238,
    "start_time": "2022-11-13T11:29:36.144Z"
   },
   {
    "duration": 221,
    "start_time": "2022-11-13T11:29:41.070Z"
   },
   {
    "duration": 296,
    "start_time": "2022-11-13T11:29:45.116Z"
   },
   {
    "duration": 208,
    "start_time": "2022-11-13T11:29:50.395Z"
   },
   {
    "duration": 209,
    "start_time": "2022-11-13T11:29:57.622Z"
   },
   {
    "duration": 210,
    "start_time": "2022-11-13T11:30:28.484Z"
   },
   {
    "duration": 232,
    "start_time": "2022-11-13T11:33:18.466Z"
   },
   {
    "duration": 321,
    "start_time": "2022-11-13T11:35:10.145Z"
   },
   {
    "duration": 322,
    "start_time": "2022-11-13T11:35:21.412Z"
   },
   {
    "duration": 306,
    "start_time": "2022-11-13T11:35:25.484Z"
   },
   {
    "duration": 210,
    "start_time": "2022-11-13T11:36:59.722Z"
   },
   {
    "duration": 206,
    "start_time": "2022-11-13T11:37:59.058Z"
   },
   {
    "duration": 220,
    "start_time": "2022-11-13T11:38:05.175Z"
   },
   {
    "duration": 394,
    "start_time": "2022-11-13T11:39:12.459Z"
   },
   {
    "duration": 299,
    "start_time": "2022-11-13T11:39:16.760Z"
   },
   {
    "duration": 313,
    "start_time": "2022-11-13T11:39:28.446Z"
   },
   {
    "duration": 280,
    "start_time": "2022-11-13T11:39:38.162Z"
   },
   {
    "duration": 332,
    "start_time": "2022-11-13T11:39:44.920Z"
   },
   {
    "duration": 306,
    "start_time": "2022-11-13T11:40:59.692Z"
   },
   {
    "duration": 14,
    "start_time": "2022-11-13T11:41:54.968Z"
   },
   {
    "duration": 168,
    "start_time": "2022-11-13T11:42:10.025Z"
   },
   {
    "duration": 5,
    "start_time": "2022-11-13T11:42:50.689Z"
   },
   {
    "duration": 182,
    "start_time": "2022-11-13T11:43:21.364Z"
   },
   {
    "duration": 6,
    "start_time": "2022-11-13T11:44:21.308Z"
   },
   {
    "duration": 157,
    "start_time": "2022-11-13T11:48:24.405Z"
   },
   {
    "duration": 11,
    "start_time": "2022-11-13T11:50:34.867Z"
   },
   {
    "duration": 55,
    "start_time": "2022-11-13T11:57:59.219Z"
   },
   {
    "duration": 56,
    "start_time": "2022-11-13T11:58:14.074Z"
   },
   {
    "duration": 49,
    "start_time": "2022-11-13T11:58:16.396Z"
   },
   {
    "duration": 29,
    "start_time": "2022-11-13T11:58:27.081Z"
   },
   {
    "duration": 28,
    "start_time": "2022-11-13T11:58:45.142Z"
   },
   {
    "duration": 26,
    "start_time": "2022-11-13T11:59:38.874Z"
   },
   {
    "duration": 24,
    "start_time": "2022-11-13T11:59:44.883Z"
   },
   {
    "duration": 17,
    "start_time": "2022-11-13T12:03:27.172Z"
   },
   {
    "duration": 21,
    "start_time": "2022-11-13T12:09:26.278Z"
   },
   {
    "duration": 12,
    "start_time": "2022-11-13T12:10:13.692Z"
   },
   {
    "duration": 27,
    "start_time": "2022-11-13T12:10:35.090Z"
   },
   {
    "duration": 26,
    "start_time": "2022-11-13T12:11:28.999Z"
   },
   {
    "duration": 17,
    "start_time": "2022-11-13T12:15:05.139Z"
   },
   {
    "duration": 83,
    "start_time": "2022-11-13T12:45:12.410Z"
   },
   {
    "duration": 1214,
    "start_time": "2022-11-13T13:22:15.701Z"
   },
   {
    "duration": 5,
    "start_time": "2022-11-13T13:22:16.917Z"
   },
   {
    "duration": 15,
    "start_time": "2022-11-13T13:22:16.924Z"
   },
   {
    "duration": 126,
    "start_time": "2022-11-13T13:22:16.941Z"
   },
   {
    "duration": 36,
    "start_time": "2022-11-13T13:22:17.069Z"
   },
   {
    "duration": 23,
    "start_time": "2022-11-13T13:22:17.119Z"
   },
   {
    "duration": 7,
    "start_time": "2022-11-13T13:22:17.143Z"
   },
   {
    "duration": 24,
    "start_time": "2022-11-13T13:22:17.152Z"
   },
   {
    "duration": 6,
    "start_time": "2022-11-13T13:22:17.178Z"
   },
   {
    "duration": 11,
    "start_time": "2022-11-13T13:22:17.187Z"
   },
   {
    "duration": 31,
    "start_time": "2022-11-13T13:22:17.199Z"
   },
   {
    "duration": 18,
    "start_time": "2022-11-13T13:22:17.232Z"
   },
   {
    "duration": 14,
    "start_time": "2022-11-13T13:22:17.252Z"
   },
   {
    "duration": 142,
    "start_time": "2022-11-13T13:22:17.268Z"
   },
   {
    "duration": 127,
    "start_time": "2022-11-13T13:22:17.412Z"
   },
   {
    "duration": 34,
    "start_time": "2022-11-13T13:22:17.541Z"
   },
   {
    "duration": 8,
    "start_time": "2022-11-13T13:22:17.576Z"
   },
   {
    "duration": 46,
    "start_time": "2022-11-13T13:22:17.585Z"
   },
   {
    "duration": 10,
    "start_time": "2022-11-13T13:22:17.632Z"
   },
   {
    "duration": 8,
    "start_time": "2022-11-13T13:22:17.643Z"
   },
   {
    "duration": 17,
    "start_time": "2022-11-13T13:22:17.652Z"
   },
   {
    "duration": 56,
    "start_time": "2022-11-13T13:22:17.670Z"
   },
   {
    "duration": 135,
    "start_time": "2022-11-13T13:22:17.727Z"
   },
   {
    "duration": 22,
    "start_time": "2022-11-13T13:22:17.864Z"
   },
   {
    "duration": 138,
    "start_time": "2022-11-13T13:22:17.887Z"
   },
   {
    "duration": 31,
    "start_time": "2022-11-13T13:22:18.027Z"
   },
   {
    "duration": 11,
    "start_time": "2022-11-13T13:22:18.059Z"
   },
   {
    "duration": 288,
    "start_time": "2022-11-13T13:22:18.073Z"
   },
   {
    "duration": 13,
    "start_time": "2022-11-13T13:22:18.362Z"
   },
   {
    "duration": 266,
    "start_time": "2022-11-13T13:22:18.377Z"
   },
   {
    "duration": 13,
    "start_time": "2022-11-13T13:22:18.645Z"
   },
   {
    "duration": 306,
    "start_time": "2022-11-13T13:22:18.659Z"
   },
   {
    "duration": 242,
    "start_time": "2022-11-13T13:22:18.967Z"
   },
   {
    "duration": 312,
    "start_time": "2022-11-13T13:22:19.219Z"
   },
   {
    "duration": 288,
    "start_time": "2022-11-13T13:22:19.533Z"
   },
   {
    "duration": 235,
    "start_time": "2022-11-13T13:22:19.823Z"
   },
   {
    "duration": 307,
    "start_time": "2022-11-13T13:22:20.060Z"
   },
   {
    "duration": 283,
    "start_time": "2022-11-13T13:22:20.369Z"
   },
   {
    "duration": 12,
    "start_time": "2022-11-13T13:22:20.654Z"
   },
   {
    "duration": 192,
    "start_time": "2022-11-13T13:22:20.667Z"
   },
   {
    "duration": 6,
    "start_time": "2022-11-13T13:22:20.861Z"
   },
   {
    "duration": 199,
    "start_time": "2022-11-13T13:22:20.869Z"
   },
   {
    "duration": 6,
    "start_time": "2022-11-13T13:22:21.070Z"
   },
   {
    "duration": 148,
    "start_time": "2022-11-13T13:22:21.077Z"
   },
   {
    "duration": 9,
    "start_time": "2022-11-13T13:22:21.226Z"
   },
   {
    "duration": 36,
    "start_time": "2022-11-13T13:22:21.236Z"
   },
   {
    "duration": 13,
    "start_time": "2022-11-13T13:22:21.274Z"
   },
   {
    "duration": 36,
    "start_time": "2022-11-13T13:22:21.289Z"
   },
   {
    "duration": 10,
    "start_time": "2022-11-13T13:22:21.326Z"
   },
   {
    "duration": 32,
    "start_time": "2022-11-13T13:22:21.338Z"
   },
   {
    "duration": 20,
    "start_time": "2022-11-13T13:22:21.371Z"
   },
   {
    "duration": 208,
    "start_time": "2022-11-13T13:25:10.409Z"
   },
   {
    "duration": 113,
    "start_time": "2022-11-13T13:25:32.120Z"
   },
   {
    "duration": 1199,
    "start_time": "2022-11-13T14:07:13.423Z"
   },
   {
    "duration": 4,
    "start_time": "2022-11-13T14:07:14.624Z"
   },
   {
    "duration": 7,
    "start_time": "2022-11-13T14:07:14.629Z"
   },
   {
    "duration": 83,
    "start_time": "2022-11-13T14:07:14.638Z"
   },
   {
    "duration": 34,
    "start_time": "2022-11-13T14:07:14.723Z"
   },
   {
    "duration": 23,
    "start_time": "2022-11-13T14:07:14.759Z"
   },
   {
    "duration": 42,
    "start_time": "2022-11-13T14:07:14.784Z"
   },
   {
    "duration": 10,
    "start_time": "2022-11-13T14:07:14.828Z"
   },
   {
    "duration": 7,
    "start_time": "2022-11-13T14:07:14.840Z"
   },
   {
    "duration": 7,
    "start_time": "2022-11-13T14:07:14.850Z"
   },
   {
    "duration": 10,
    "start_time": "2022-11-13T14:07:14.858Z"
   },
   {
    "duration": 13,
    "start_time": "2022-11-13T14:07:14.870Z"
   },
   {
    "duration": 38,
    "start_time": "2022-11-13T14:07:14.884Z"
   },
   {
    "duration": 149,
    "start_time": "2022-11-13T14:07:14.923Z"
   },
   {
    "duration": 113,
    "start_time": "2022-11-13T14:07:15.074Z"
   },
   {
    "duration": 43,
    "start_time": "2022-11-13T14:07:15.188Z"
   },
   {
    "duration": 7,
    "start_time": "2022-11-13T14:07:15.232Z"
   },
   {
    "duration": 18,
    "start_time": "2022-11-13T14:07:15.241Z"
   },
   {
    "duration": 9,
    "start_time": "2022-11-13T14:07:15.261Z"
   },
   {
    "duration": 12,
    "start_time": "2022-11-13T14:07:15.272Z"
   },
   {
    "duration": 10,
    "start_time": "2022-11-13T14:07:15.321Z"
   },
   {
    "duration": 27,
    "start_time": "2022-11-13T14:07:15.333Z"
   },
   {
    "duration": 133,
    "start_time": "2022-11-13T14:07:15.362Z"
   },
   {
    "duration": 32,
    "start_time": "2022-11-13T14:07:15.497Z"
   },
   {
    "duration": 118,
    "start_time": "2022-11-13T14:07:15.530Z"
   },
   {
    "duration": 30,
    "start_time": "2022-11-13T14:07:15.650Z"
   },
   {
    "duration": 10,
    "start_time": "2022-11-13T14:07:15.681Z"
   },
   {
    "duration": 314,
    "start_time": "2022-11-13T14:07:15.696Z"
   },
   {
    "duration": 20,
    "start_time": "2022-11-13T14:07:16.011Z"
   },
   {
    "duration": 252,
    "start_time": "2022-11-13T14:07:16.032Z"
   },
   {
    "duration": 15,
    "start_time": "2022-11-13T14:07:16.286Z"
   },
   {
    "duration": 296,
    "start_time": "2022-11-13T14:07:16.303Z"
   },
   {
    "duration": 231,
    "start_time": "2022-11-13T14:07:16.601Z"
   },
   {
    "duration": 301,
    "start_time": "2022-11-13T14:07:16.834Z"
   },
   {
    "duration": 277,
    "start_time": "2022-11-13T14:07:17.136Z"
   },
   {
    "duration": 222,
    "start_time": "2022-11-13T14:07:17.415Z"
   },
   {
    "duration": 325,
    "start_time": "2022-11-13T14:07:17.639Z"
   },
   {
    "duration": 282,
    "start_time": "2022-11-13T14:07:17.966Z"
   },
   {
    "duration": 12,
    "start_time": "2022-11-13T14:07:18.249Z"
   },
   {
    "duration": 167,
    "start_time": "2022-11-13T14:07:18.262Z"
   },
   {
    "duration": 5,
    "start_time": "2022-11-13T14:07:18.431Z"
   },
   {
    "duration": 176,
    "start_time": "2022-11-13T14:07:18.438Z"
   },
   {
    "duration": 9,
    "start_time": "2022-11-13T14:07:18.616Z"
   },
   {
    "duration": 145,
    "start_time": "2022-11-13T14:07:18.627Z"
   },
   {
    "duration": 9,
    "start_time": "2022-11-13T14:07:18.774Z"
   },
   {
    "duration": 48,
    "start_time": "2022-11-13T14:07:18.785Z"
   },
   {
    "duration": 15,
    "start_time": "2022-11-13T14:07:18.836Z"
   },
   {
    "duration": 39,
    "start_time": "2022-11-13T14:07:18.852Z"
   },
   {
    "duration": 20,
    "start_time": "2022-11-13T14:07:18.892Z"
   },
   {
    "duration": 57,
    "start_time": "2022-11-13T14:07:18.914Z"
   },
   {
    "duration": 25,
    "start_time": "2022-11-13T14:07:18.973Z"
   },
   {
    "duration": 46,
    "start_time": "2023-02-16T14:19:05.270Z"
   },
   {
    "duration": 1310,
    "start_time": "2023-02-16T14:19:08.189Z"
   },
   {
    "duration": 4,
    "start_time": "2023-02-16T14:19:09.501Z"
   },
   {
    "duration": 2,
    "start_time": "2023-02-16T14:19:09.599Z"
   },
   {
    "duration": 156,
    "start_time": "2023-02-16T14:19:10.419Z"
   },
   {
    "duration": 25,
    "start_time": "2023-02-16T14:19:32.859Z"
   },
   {
    "duration": 17,
    "start_time": "2023-02-16T14:20:04.830Z"
   },
   {
    "duration": 5,
    "start_time": "2023-02-16T14:20:09.771Z"
   },
   {
    "duration": 8,
    "start_time": "2023-02-16T14:20:11.719Z"
   },
   {
    "duration": 6,
    "start_time": "2023-02-16T14:20:13.559Z"
   },
   {
    "duration": 4,
    "start_time": "2023-02-16T14:20:14.659Z"
   },
   {
    "duration": 9,
    "start_time": "2023-02-16T14:20:22.368Z"
   },
   {
    "duration": 7,
    "start_time": "2023-02-16T14:20:27.529Z"
   },
   {
    "duration": 162,
    "start_time": "2023-02-16T14:28:10.651Z"
   },
   {
    "duration": 127,
    "start_time": "2023-02-16T14:28:18.890Z"
   },
   {
    "duration": 49,
    "start_time": "2023-02-16T14:28:42.139Z"
   },
   {
    "duration": 9,
    "start_time": "2023-02-16T14:28:50.232Z"
   },
   {
    "duration": 19,
    "start_time": "2023-02-16T14:29:14.158Z"
   },
   {
    "duration": 12,
    "start_time": "2023-02-16T14:29:50.656Z"
   },
   {
    "duration": 6,
    "start_time": "2023-02-16T14:29:56.150Z"
   },
   {
    "duration": 12,
    "start_time": "2023-02-16T14:30:37.501Z"
   },
   {
    "duration": 1387,
    "start_time": "2023-02-18T11:11:38.652Z"
   },
   {
    "duration": 3,
    "start_time": "2023-02-18T11:11:40.042Z"
   },
   {
    "duration": 20,
    "start_time": "2023-02-18T11:11:40.047Z"
   },
   {
    "duration": 242,
    "start_time": "2023-02-18T11:11:40.069Z"
   },
   {
    "duration": 23,
    "start_time": "2023-02-18T11:11:40.317Z"
   },
   {
    "duration": 33,
    "start_time": "2023-02-18T11:11:40.342Z"
   },
   {
    "duration": 15,
    "start_time": "2023-02-18T11:11:40.377Z"
   },
   {
    "duration": 17,
    "start_time": "2023-02-18T11:11:40.394Z"
   },
   {
    "duration": 48,
    "start_time": "2023-02-18T11:11:40.414Z"
   },
   {
    "duration": 23,
    "start_time": "2023-02-18T11:11:40.466Z"
   },
   {
    "duration": 17,
    "start_time": "2023-02-18T11:11:40.491Z"
   },
   {
    "duration": 29,
    "start_time": "2023-02-18T11:11:40.513Z"
   },
   {
    "duration": 209,
    "start_time": "2023-02-18T11:11:40.544Z"
   },
   {
    "duration": 142,
    "start_time": "2023-02-18T11:11:40.755Z"
   },
   {
    "duration": 46,
    "start_time": "2023-02-18T11:11:40.899Z"
   },
   {
    "duration": 10,
    "start_time": "2023-02-18T11:11:40.947Z"
   },
   {
    "duration": 46,
    "start_time": "2023-02-18T11:11:40.959Z"
   },
   {
    "duration": 13,
    "start_time": "2023-02-18T11:11:41.007Z"
   },
   {
    "duration": 61,
    "start_time": "2023-02-18T11:11:41.021Z"
   },
   {
    "duration": 70,
    "start_time": "2023-02-18T11:11:41.084Z"
   },
   {
    "duration": 29,
    "start_time": "2023-02-18T11:11:41.155Z"
   },
   {
    "duration": 114,
    "start_time": "2023-02-18T11:11:41.186Z"
   },
   {
    "duration": 33,
    "start_time": "2023-02-18T11:11:41.306Z"
   },
   {
    "duration": 114,
    "start_time": "2023-02-18T11:11:41.341Z"
   },
   {
    "duration": 33,
    "start_time": "2023-02-18T11:11:41.457Z"
   },
   {
    "duration": 316,
    "start_time": "2023-02-18T11:11:41.492Z"
   },
   {
    "duration": 255,
    "start_time": "2023-02-18T11:11:41.816Z"
   },
   {
    "duration": 383,
    "start_time": "2023-02-18T11:11:42.075Z"
   },
   {
    "duration": 238,
    "start_time": "2023-02-18T11:11:42.460Z"
   },
   {
    "duration": 243,
    "start_time": "2023-02-18T11:11:42.703Z"
   },
   {
    "duration": 313,
    "start_time": "2023-02-18T11:11:42.947Z"
   },
   {
    "duration": 388,
    "start_time": "2023-02-18T11:11:43.261Z"
   },
   {
    "duration": 13,
    "start_time": "2023-02-18T11:11:43.651Z"
   },
   {
    "duration": 273,
    "start_time": "2023-02-18T11:11:43.666Z"
   },
   {
    "duration": 8,
    "start_time": "2023-02-18T11:11:43.941Z"
   },
   {
    "duration": 192,
    "start_time": "2023-02-18T11:11:43.950Z"
   },
   {
    "duration": 148,
    "start_time": "2023-02-18T11:11:55.489Z"
   },
   {
    "duration": 9,
    "start_time": "2023-02-18T11:12:01.588Z"
   },
   {
    "duration": 42,
    "start_time": "2023-02-18T11:12:27.614Z"
   },
   {
    "duration": 20,
    "start_time": "2023-02-18T11:13:42.254Z"
   },
   {
    "duration": 14,
    "start_time": "2023-02-18T11:13:51.597Z"
   },
   {
    "duration": 28,
    "start_time": "2023-02-18T11:14:00.940Z"
   },
   {
    "duration": 20,
    "start_time": "2023-02-18T11:14:19.224Z"
   },
   {
    "duration": 1276,
    "start_time": "2023-02-18T11:16:39.198Z"
   },
   {
    "duration": 4,
    "start_time": "2023-02-18T11:16:40.476Z"
   },
   {
    "duration": 5,
    "start_time": "2023-02-18T11:16:40.482Z"
   },
   {
    "duration": 99,
    "start_time": "2023-02-18T11:16:40.490Z"
   },
   {
    "duration": 35,
    "start_time": "2023-02-18T11:16:40.591Z"
   },
   {
    "duration": 44,
    "start_time": "2023-02-18T11:16:40.627Z"
   },
   {
    "duration": 7,
    "start_time": "2023-02-18T11:16:40.675Z"
   },
   {
    "duration": 12,
    "start_time": "2023-02-18T11:16:40.684Z"
   },
   {
    "duration": 17,
    "start_time": "2023-02-18T11:16:40.698Z"
   },
   {
    "duration": 38,
    "start_time": "2023-02-18T11:16:40.718Z"
   },
   {
    "duration": 16,
    "start_time": "2023-02-18T11:16:40.758Z"
   },
   {
    "duration": 15,
    "start_time": "2023-02-18T11:16:40.776Z"
   },
   {
    "duration": 156,
    "start_time": "2023-02-18T11:16:40.792Z"
   },
   {
    "duration": 129,
    "start_time": "2023-02-18T11:16:40.950Z"
   },
   {
    "duration": 65,
    "start_time": "2023-02-18T11:16:41.080Z"
   },
   {
    "duration": 13,
    "start_time": "2023-02-18T11:16:41.155Z"
   },
   {
    "duration": 22,
    "start_time": "2023-02-18T11:16:41.170Z"
   },
   {
    "duration": 19,
    "start_time": "2023-02-18T11:16:41.194Z"
   },
   {
    "duration": 18,
    "start_time": "2023-02-18T11:16:41.215Z"
   },
   {
    "duration": 17,
    "start_time": "2023-02-18T11:16:41.242Z"
   },
   {
    "duration": 26,
    "start_time": "2023-02-18T11:16:41.261Z"
   },
   {
    "duration": 138,
    "start_time": "2023-02-18T11:16:41.288Z"
   },
   {
    "duration": 24,
    "start_time": "2023-02-18T11:16:41.428Z"
   },
   {
    "duration": 110,
    "start_time": "2023-02-18T11:16:41.454Z"
   },
   {
    "duration": 59,
    "start_time": "2023-02-18T11:16:41.565Z"
   },
   {
    "duration": 312,
    "start_time": "2023-02-18T11:16:41.626Z"
   },
   {
    "duration": 241,
    "start_time": "2023-02-18T11:16:41.940Z"
   },
   {
    "duration": 370,
    "start_time": "2023-02-18T11:16:42.186Z"
   },
   {
    "duration": 225,
    "start_time": "2023-02-18T11:16:42.558Z"
   },
   {
    "duration": 242,
    "start_time": "2023-02-18T11:16:42.786Z"
   },
   {
    "duration": 331,
    "start_time": "2023-02-18T11:16:43.032Z"
   },
   {
    "duration": 382,
    "start_time": "2023-02-18T11:16:43.365Z"
   },
   {
    "duration": 14,
    "start_time": "2023-02-18T11:16:43.748Z"
   },
   {
    "duration": 212,
    "start_time": "2023-02-18T11:16:43.763Z"
   },
   {
    "duration": 5,
    "start_time": "2023-02-18T11:16:43.977Z"
   },
   {
    "duration": 182,
    "start_time": "2023-02-18T11:16:43.984Z"
   },
   {
    "duration": 6,
    "start_time": "2023-02-18T11:16:44.168Z"
   },
   {
    "duration": 150,
    "start_time": "2023-02-18T11:16:44.176Z"
   },
   {
    "duration": 13,
    "start_time": "2023-02-18T11:16:44.327Z"
   },
   {
    "duration": 33,
    "start_time": "2023-02-18T11:16:44.341Z"
   },
   {
    "duration": 51,
    "start_time": "2023-02-18T11:16:44.375Z"
   },
   {
    "duration": 19,
    "start_time": "2023-02-18T11:16:44.427Z"
   },
   {
    "duration": 10,
    "start_time": "2023-02-18T11:16:44.447Z"
   },
   {
    "duration": 26,
    "start_time": "2023-02-18T11:16:44.458Z"
   },
   {
    "duration": 38,
    "start_time": "2023-02-18T11:16:44.485Z"
   },
   {
    "duration": 1139,
    "start_time": "2023-02-19T18:01:43.673Z"
   },
   {
    "duration": 4,
    "start_time": "2023-02-19T18:01:44.814Z"
   },
   {
    "duration": 12,
    "start_time": "2023-02-19T18:01:44.819Z"
   },
   {
    "duration": 141,
    "start_time": "2023-02-19T18:01:44.832Z"
   },
   {
    "duration": 22,
    "start_time": "2023-02-19T18:01:44.975Z"
   },
   {
    "duration": 15,
    "start_time": "2023-02-19T18:01:44.998Z"
   },
   {
    "duration": 21,
    "start_time": "2023-02-19T18:01:45.015Z"
   },
   {
    "duration": 10,
    "start_time": "2023-02-19T18:01:45.039Z"
   },
   {
    "duration": 10,
    "start_time": "2023-02-19T18:01:45.050Z"
   },
   {
    "duration": 19,
    "start_time": "2023-02-19T18:01:45.062Z"
   },
   {
    "duration": 12,
    "start_time": "2023-02-19T18:01:45.083Z"
   },
   {
    "duration": 17,
    "start_time": "2023-02-19T18:01:45.097Z"
   },
   {
    "duration": 130,
    "start_time": "2023-02-19T18:01:45.116Z"
   },
   {
    "duration": 137,
    "start_time": "2023-02-19T18:01:45.248Z"
   },
   {
    "duration": 42,
    "start_time": "2023-02-19T18:01:45.387Z"
   },
   {
    "duration": 9,
    "start_time": "2023-02-19T18:01:45.430Z"
   },
   {
    "duration": 26,
    "start_time": "2023-02-19T18:01:45.440Z"
   },
   {
    "duration": 9,
    "start_time": "2023-02-19T18:01:45.468Z"
   },
   {
    "duration": 36,
    "start_time": "2023-02-19T18:01:45.478Z"
   },
   {
    "duration": 31,
    "start_time": "2023-02-19T18:01:45.515Z"
   },
   {
    "duration": 44,
    "start_time": "2023-02-19T18:01:45.547Z"
   },
   {
    "duration": 104,
    "start_time": "2023-02-19T18:01:45.593Z"
   },
   {
    "duration": 25,
    "start_time": "2023-02-19T18:01:45.698Z"
   },
   {
    "duration": 106,
    "start_time": "2023-02-19T18:01:45.724Z"
   },
   {
    "duration": 29,
    "start_time": "2023-02-19T18:01:45.832Z"
   },
   {
    "duration": 287,
    "start_time": "2023-02-19T18:01:45.863Z"
   },
   {
    "duration": 204,
    "start_time": "2023-02-19T18:01:46.152Z"
   },
   {
    "duration": 286,
    "start_time": "2023-02-19T18:01:46.359Z"
   },
   {
    "duration": 197,
    "start_time": "2023-02-19T18:01:46.646Z"
   },
   {
    "duration": 253,
    "start_time": "2023-02-19T18:01:46.845Z"
   },
   {
    "duration": 340,
    "start_time": "2023-02-19T18:01:47.100Z"
   },
   {
    "duration": 374,
    "start_time": "2023-02-19T18:01:47.441Z"
   },
   {
    "duration": 11,
    "start_time": "2023-02-19T18:01:47.817Z"
   },
   {
    "duration": 171,
    "start_time": "2023-02-19T18:01:47.829Z"
   },
   {
    "duration": 11,
    "start_time": "2023-02-19T18:01:48.001Z"
   },
   {
    "duration": 159,
    "start_time": "2023-02-19T18:01:48.014Z"
   },
   {
    "duration": 4,
    "start_time": "2023-02-19T18:01:48.174Z"
   },
   {
    "duration": 143,
    "start_time": "2023-02-19T18:01:48.180Z"
   },
   {
    "duration": 8,
    "start_time": "2023-02-19T18:01:48.324Z"
   },
   {
    "duration": 32,
    "start_time": "2023-02-19T18:01:48.334Z"
   },
   {
    "duration": 15,
    "start_time": "2023-02-19T18:01:48.368Z"
   },
   {
    "duration": 14,
    "start_time": "2023-02-19T18:01:48.410Z"
   },
   {
    "duration": 10,
    "start_time": "2023-02-19T18:01:48.426Z"
   },
   {
    "duration": 25,
    "start_time": "2023-02-19T18:01:48.437Z"
   },
   {
    "duration": 52,
    "start_time": "2023-02-19T18:01:48.463Z"
   }
  ],
  "kernelspec": {
   "display_name": "Python 3 (ipykernel)",
   "language": "python",
   "name": "python3"
  },
  "language_info": {
   "codemirror_mode": {
    "name": "ipython",
    "version": 3
   },
   "file_extension": ".py",
   "mimetype": "text/x-python",
   "name": "python",
   "nbconvert_exporter": "python",
   "pygments_lexer": "ipython3",
   "version": "3.9.5"
  },
  "toc": {
   "base_numbering": 1,
   "nav_menu": {
    "height": "228px",
    "width": "294px"
   },
   "number_sections": true,
   "sideBar": true,
   "skip_h1_title": true,
   "title_cell": "Table of Contents",
   "title_sidebar": "Contents",
   "toc_cell": false,
   "toc_position": {
    "height": "calc(100% - 180px)",
    "left": "10px",
    "top": "150px",
    "width": "265.188px"
   },
   "toc_section_display": true,
   "toc_window_display": true
  }
 },
 "nbformat": 4,
 "nbformat_minor": 2
}
