{
 "cells": [
  {
   "cell_type": "markdown",
   "id": "c81daeeb",
   "metadata": {
    "deletable": false,
    "id": "c81daeeb"
   },
   "source": [
    "# Исследование надежности заемщиков\n"
   ]
  },
  {
   "cell_type": "markdown",
   "id": "e1a5b912",
   "metadata": {},
   "source": [
    "<b>Цель проекта:</b> определение факторов, потенциально влияющих на своевременную выплату кредита\n",
    "\n",
    "<b>Этапы реализации проекта:</b>\n",
    "\n",
    "[1. Подготовительный этап](#preparing)\n",
    "\n",
    "[2. Предобработка данных](#preprocessing)\n",
    "\n",
    "[3. Анализ данных](#analysis)\n",
    "\n",
    "[4. Вывод](#conclusion)\n"
   ]
  },
  {
   "cell_type": "markdown",
   "id": "ad9fbf70",
   "metadata": {},
   "source": [
    "<a id=\"preparing\"> </a>"
   ]
  },
  {
   "cell_type": "markdown",
   "id": "744d7639",
   "metadata": {
    "deletable": false,
    "id": "744d7639"
   },
   "source": [
    "## Откройте таблицу и изучите общую информацию о данных"
   ]
  },
  {
   "cell_type": "markdown",
   "id": "e7a14c31",
   "metadata": {
    "deletable": false,
    "id": "e7a14c31"
   },
   "source": [
    "**Задание 1. Импортируйте библиотеку pandas. Считайте данные из csv-файла в датафрейм и сохраните в переменную `data`. Путь к файлу:**\n",
    "\n",
    "`/datasets/data.csv`"
   ]
  },
  {
   "cell_type": "code",
   "execution_count": 1,
   "id": "7bcf75c9",
   "metadata": {
    "deletable": false,
    "id": "7bcf75c9"
   },
   "outputs": [],
   "source": [
    "import pandas as pd\n",
    "\n",
    "data = pd.read_csv('/datasets/data.csv')"
   ]
  },
  {
   "cell_type": "markdown",
   "id": "b8038fe3",
   "metadata": {
    "deletable": false,
    "id": "b8038fe3"
   },
   "source": [
    "**Задание 2. Выведите первые 20 строчек датафрейма `data` на экран.**"
   ]
  },
  {
   "cell_type": "code",
   "execution_count": 2,
   "id": "2a7cab99",
   "metadata": {
    "deletable": false,
    "id": "2a7cab99",
    "outputId": "1a8f3ef2-d323-4ec2-ddf7-89670b5944c4"
   },
   "outputs": [
    {
     "data": {
      "text/html": [
       "<div>\n",
       "<style scoped>\n",
       "    .dataframe tbody tr th:only-of-type {\n",
       "        vertical-align: middle;\n",
       "    }\n",
       "\n",
       "    .dataframe tbody tr th {\n",
       "        vertical-align: top;\n",
       "    }\n",
       "\n",
       "    .dataframe thead th {\n",
       "        text-align: right;\n",
       "    }\n",
       "</style>\n",
       "<table border=\"1\" class=\"dataframe\">\n",
       "  <thead>\n",
       "    <tr style=\"text-align: right;\">\n",
       "      <th></th>\n",
       "      <th>children</th>\n",
       "      <th>days_employed</th>\n",
       "      <th>dob_years</th>\n",
       "      <th>education</th>\n",
       "      <th>education_id</th>\n",
       "      <th>family_status</th>\n",
       "      <th>family_status_id</th>\n",
       "      <th>gender</th>\n",
       "      <th>income_type</th>\n",
       "      <th>debt</th>\n",
       "      <th>total_income</th>\n",
       "      <th>purpose</th>\n",
       "    </tr>\n",
       "  </thead>\n",
       "  <tbody>\n",
       "    <tr>\n",
       "      <th>0</th>\n",
       "      <td>1</td>\n",
       "      <td>-8437.673028</td>\n",
       "      <td>42</td>\n",
       "      <td>высшее</td>\n",
       "      <td>0</td>\n",
       "      <td>женат / замужем</td>\n",
       "      <td>0</td>\n",
       "      <td>F</td>\n",
       "      <td>сотрудник</td>\n",
       "      <td>0</td>\n",
       "      <td>253875.639453</td>\n",
       "      <td>покупка жилья</td>\n",
       "    </tr>\n",
       "    <tr>\n",
       "      <th>1</th>\n",
       "      <td>1</td>\n",
       "      <td>-4024.803754</td>\n",
       "      <td>36</td>\n",
       "      <td>среднее</td>\n",
       "      <td>1</td>\n",
       "      <td>женат / замужем</td>\n",
       "      <td>0</td>\n",
       "      <td>F</td>\n",
       "      <td>сотрудник</td>\n",
       "      <td>0</td>\n",
       "      <td>112080.014102</td>\n",
       "      <td>приобретение автомобиля</td>\n",
       "    </tr>\n",
       "    <tr>\n",
       "      <th>2</th>\n",
       "      <td>0</td>\n",
       "      <td>-5623.422610</td>\n",
       "      <td>33</td>\n",
       "      <td>Среднее</td>\n",
       "      <td>1</td>\n",
       "      <td>женат / замужем</td>\n",
       "      <td>0</td>\n",
       "      <td>M</td>\n",
       "      <td>сотрудник</td>\n",
       "      <td>0</td>\n",
       "      <td>145885.952297</td>\n",
       "      <td>покупка жилья</td>\n",
       "    </tr>\n",
       "    <tr>\n",
       "      <th>3</th>\n",
       "      <td>3</td>\n",
       "      <td>-4124.747207</td>\n",
       "      <td>32</td>\n",
       "      <td>среднее</td>\n",
       "      <td>1</td>\n",
       "      <td>женат / замужем</td>\n",
       "      <td>0</td>\n",
       "      <td>M</td>\n",
       "      <td>сотрудник</td>\n",
       "      <td>0</td>\n",
       "      <td>267628.550329</td>\n",
       "      <td>дополнительное образование</td>\n",
       "    </tr>\n",
       "    <tr>\n",
       "      <th>4</th>\n",
       "      <td>0</td>\n",
       "      <td>340266.072047</td>\n",
       "      <td>53</td>\n",
       "      <td>среднее</td>\n",
       "      <td>1</td>\n",
       "      <td>гражданский брак</td>\n",
       "      <td>1</td>\n",
       "      <td>F</td>\n",
       "      <td>пенсионер</td>\n",
       "      <td>0</td>\n",
       "      <td>158616.077870</td>\n",
       "      <td>сыграть свадьбу</td>\n",
       "    </tr>\n",
       "    <tr>\n",
       "      <th>5</th>\n",
       "      <td>0</td>\n",
       "      <td>-926.185831</td>\n",
       "      <td>27</td>\n",
       "      <td>высшее</td>\n",
       "      <td>0</td>\n",
       "      <td>гражданский брак</td>\n",
       "      <td>1</td>\n",
       "      <td>M</td>\n",
       "      <td>компаньон</td>\n",
       "      <td>0</td>\n",
       "      <td>255763.565419</td>\n",
       "      <td>покупка жилья</td>\n",
       "    </tr>\n",
       "    <tr>\n",
       "      <th>6</th>\n",
       "      <td>0</td>\n",
       "      <td>-2879.202052</td>\n",
       "      <td>43</td>\n",
       "      <td>высшее</td>\n",
       "      <td>0</td>\n",
       "      <td>женат / замужем</td>\n",
       "      <td>0</td>\n",
       "      <td>F</td>\n",
       "      <td>компаньон</td>\n",
       "      <td>0</td>\n",
       "      <td>240525.971920</td>\n",
       "      <td>операции с жильем</td>\n",
       "    </tr>\n",
       "    <tr>\n",
       "      <th>7</th>\n",
       "      <td>0</td>\n",
       "      <td>-152.779569</td>\n",
       "      <td>50</td>\n",
       "      <td>СРЕДНЕЕ</td>\n",
       "      <td>1</td>\n",
       "      <td>женат / замужем</td>\n",
       "      <td>0</td>\n",
       "      <td>M</td>\n",
       "      <td>сотрудник</td>\n",
       "      <td>0</td>\n",
       "      <td>135823.934197</td>\n",
       "      <td>образование</td>\n",
       "    </tr>\n",
       "    <tr>\n",
       "      <th>8</th>\n",
       "      <td>2</td>\n",
       "      <td>-6929.865299</td>\n",
       "      <td>35</td>\n",
       "      <td>ВЫСШЕЕ</td>\n",
       "      <td>0</td>\n",
       "      <td>гражданский брак</td>\n",
       "      <td>1</td>\n",
       "      <td>F</td>\n",
       "      <td>сотрудник</td>\n",
       "      <td>0</td>\n",
       "      <td>95856.832424</td>\n",
       "      <td>на проведение свадьбы</td>\n",
       "    </tr>\n",
       "    <tr>\n",
       "      <th>9</th>\n",
       "      <td>0</td>\n",
       "      <td>-2188.756445</td>\n",
       "      <td>41</td>\n",
       "      <td>среднее</td>\n",
       "      <td>1</td>\n",
       "      <td>женат / замужем</td>\n",
       "      <td>0</td>\n",
       "      <td>M</td>\n",
       "      <td>сотрудник</td>\n",
       "      <td>0</td>\n",
       "      <td>144425.938277</td>\n",
       "      <td>покупка жилья для семьи</td>\n",
       "    </tr>\n",
       "    <tr>\n",
       "      <th>10</th>\n",
       "      <td>2</td>\n",
       "      <td>-4171.483647</td>\n",
       "      <td>36</td>\n",
       "      <td>высшее</td>\n",
       "      <td>0</td>\n",
       "      <td>женат / замужем</td>\n",
       "      <td>0</td>\n",
       "      <td>M</td>\n",
       "      <td>компаньон</td>\n",
       "      <td>0</td>\n",
       "      <td>113943.491460</td>\n",
       "      <td>покупка недвижимости</td>\n",
       "    </tr>\n",
       "    <tr>\n",
       "      <th>11</th>\n",
       "      <td>0</td>\n",
       "      <td>-792.701887</td>\n",
       "      <td>40</td>\n",
       "      <td>среднее</td>\n",
       "      <td>1</td>\n",
       "      <td>женат / замужем</td>\n",
       "      <td>0</td>\n",
       "      <td>F</td>\n",
       "      <td>сотрудник</td>\n",
       "      <td>0</td>\n",
       "      <td>77069.234271</td>\n",
       "      <td>покупка коммерческой недвижимости</td>\n",
       "    </tr>\n",
       "    <tr>\n",
       "      <th>12</th>\n",
       "      <td>0</td>\n",
       "      <td>NaN</td>\n",
       "      <td>65</td>\n",
       "      <td>среднее</td>\n",
       "      <td>1</td>\n",
       "      <td>гражданский брак</td>\n",
       "      <td>1</td>\n",
       "      <td>M</td>\n",
       "      <td>пенсионер</td>\n",
       "      <td>0</td>\n",
       "      <td>NaN</td>\n",
       "      <td>сыграть свадьбу</td>\n",
       "    </tr>\n",
       "    <tr>\n",
       "      <th>13</th>\n",
       "      <td>0</td>\n",
       "      <td>-1846.641941</td>\n",
       "      <td>54</td>\n",
       "      <td>неоконченное высшее</td>\n",
       "      <td>2</td>\n",
       "      <td>женат / замужем</td>\n",
       "      <td>0</td>\n",
       "      <td>F</td>\n",
       "      <td>сотрудник</td>\n",
       "      <td>0</td>\n",
       "      <td>130458.228857</td>\n",
       "      <td>приобретение автомобиля</td>\n",
       "    </tr>\n",
       "    <tr>\n",
       "      <th>14</th>\n",
       "      <td>0</td>\n",
       "      <td>-1844.956182</td>\n",
       "      <td>56</td>\n",
       "      <td>высшее</td>\n",
       "      <td>0</td>\n",
       "      <td>гражданский брак</td>\n",
       "      <td>1</td>\n",
       "      <td>F</td>\n",
       "      <td>компаньон</td>\n",
       "      <td>1</td>\n",
       "      <td>165127.911772</td>\n",
       "      <td>покупка жилой недвижимости</td>\n",
       "    </tr>\n",
       "    <tr>\n",
       "      <th>15</th>\n",
       "      <td>1</td>\n",
       "      <td>-972.364419</td>\n",
       "      <td>26</td>\n",
       "      <td>среднее</td>\n",
       "      <td>1</td>\n",
       "      <td>женат / замужем</td>\n",
       "      <td>0</td>\n",
       "      <td>F</td>\n",
       "      <td>сотрудник</td>\n",
       "      <td>0</td>\n",
       "      <td>116820.904450</td>\n",
       "      <td>строительство собственной недвижимости</td>\n",
       "    </tr>\n",
       "    <tr>\n",
       "      <th>16</th>\n",
       "      <td>0</td>\n",
       "      <td>-1719.934226</td>\n",
       "      <td>35</td>\n",
       "      <td>среднее</td>\n",
       "      <td>1</td>\n",
       "      <td>женат / замужем</td>\n",
       "      <td>0</td>\n",
       "      <td>F</td>\n",
       "      <td>сотрудник</td>\n",
       "      <td>0</td>\n",
       "      <td>289202.704229</td>\n",
       "      <td>недвижимость</td>\n",
       "    </tr>\n",
       "    <tr>\n",
       "      <th>17</th>\n",
       "      <td>0</td>\n",
       "      <td>-2369.999720</td>\n",
       "      <td>33</td>\n",
       "      <td>высшее</td>\n",
       "      <td>0</td>\n",
       "      <td>гражданский брак</td>\n",
       "      <td>1</td>\n",
       "      <td>M</td>\n",
       "      <td>сотрудник</td>\n",
       "      <td>0</td>\n",
       "      <td>90410.586745</td>\n",
       "      <td>строительство недвижимости</td>\n",
       "    </tr>\n",
       "    <tr>\n",
       "      <th>18</th>\n",
       "      <td>0</td>\n",
       "      <td>400281.136913</td>\n",
       "      <td>53</td>\n",
       "      <td>среднее</td>\n",
       "      <td>1</td>\n",
       "      <td>вдовец / вдова</td>\n",
       "      <td>2</td>\n",
       "      <td>F</td>\n",
       "      <td>пенсионер</td>\n",
       "      <td>0</td>\n",
       "      <td>56823.777243</td>\n",
       "      <td>на покупку подержанного автомобиля</td>\n",
       "    </tr>\n",
       "    <tr>\n",
       "      <th>19</th>\n",
       "      <td>0</td>\n",
       "      <td>-10038.818549</td>\n",
       "      <td>48</td>\n",
       "      <td>СРЕДНЕЕ</td>\n",
       "      <td>1</td>\n",
       "      <td>в разводе</td>\n",
       "      <td>3</td>\n",
       "      <td>F</td>\n",
       "      <td>сотрудник</td>\n",
       "      <td>0</td>\n",
       "      <td>242831.107982</td>\n",
       "      <td>на покупку своего автомобиля</td>\n",
       "    </tr>\n",
       "  </tbody>\n",
       "</table>\n",
       "</div>"
      ],
      "text/plain": [
       "    children  days_employed  dob_years            education  education_id  \\\n",
       "0          1   -8437.673028         42               высшее             0   \n",
       "1          1   -4024.803754         36              среднее             1   \n",
       "2          0   -5623.422610         33              Среднее             1   \n",
       "3          3   -4124.747207         32              среднее             1   \n",
       "4          0  340266.072047         53              среднее             1   \n",
       "5          0    -926.185831         27               высшее             0   \n",
       "6          0   -2879.202052         43               высшее             0   \n",
       "7          0    -152.779569         50              СРЕДНЕЕ             1   \n",
       "8          2   -6929.865299         35               ВЫСШЕЕ             0   \n",
       "9          0   -2188.756445         41              среднее             1   \n",
       "10         2   -4171.483647         36               высшее             0   \n",
       "11         0    -792.701887         40              среднее             1   \n",
       "12         0            NaN         65              среднее             1   \n",
       "13         0   -1846.641941         54  неоконченное высшее             2   \n",
       "14         0   -1844.956182         56               высшее             0   \n",
       "15         1    -972.364419         26              среднее             1   \n",
       "16         0   -1719.934226         35              среднее             1   \n",
       "17         0   -2369.999720         33               высшее             0   \n",
       "18         0  400281.136913         53              среднее             1   \n",
       "19         0  -10038.818549         48              СРЕДНЕЕ             1   \n",
       "\n",
       "       family_status  family_status_id gender income_type  debt  \\\n",
       "0    женат / замужем                 0      F   сотрудник     0   \n",
       "1    женат / замужем                 0      F   сотрудник     0   \n",
       "2    женат / замужем                 0      M   сотрудник     0   \n",
       "3    женат / замужем                 0      M   сотрудник     0   \n",
       "4   гражданский брак                 1      F   пенсионер     0   \n",
       "5   гражданский брак                 1      M   компаньон     0   \n",
       "6    женат / замужем                 0      F   компаньон     0   \n",
       "7    женат / замужем                 0      M   сотрудник     0   \n",
       "8   гражданский брак                 1      F   сотрудник     0   \n",
       "9    женат / замужем                 0      M   сотрудник     0   \n",
       "10   женат / замужем                 0      M   компаньон     0   \n",
       "11   женат / замужем                 0      F   сотрудник     0   \n",
       "12  гражданский брак                 1      M   пенсионер     0   \n",
       "13   женат / замужем                 0      F   сотрудник     0   \n",
       "14  гражданский брак                 1      F   компаньон     1   \n",
       "15   женат / замужем                 0      F   сотрудник     0   \n",
       "16   женат / замужем                 0      F   сотрудник     0   \n",
       "17  гражданский брак                 1      M   сотрудник     0   \n",
       "18    вдовец / вдова                 2      F   пенсионер     0   \n",
       "19         в разводе                 3      F   сотрудник     0   \n",
       "\n",
       "     total_income                                 purpose  \n",
       "0   253875.639453                           покупка жилья  \n",
       "1   112080.014102                 приобретение автомобиля  \n",
       "2   145885.952297                           покупка жилья  \n",
       "3   267628.550329              дополнительное образование  \n",
       "4   158616.077870                         сыграть свадьбу  \n",
       "5   255763.565419                           покупка жилья  \n",
       "6   240525.971920                       операции с жильем  \n",
       "7   135823.934197                             образование  \n",
       "8    95856.832424                   на проведение свадьбы  \n",
       "9   144425.938277                 покупка жилья для семьи  \n",
       "10  113943.491460                    покупка недвижимости  \n",
       "11   77069.234271       покупка коммерческой недвижимости  \n",
       "12            NaN                         сыграть свадьбу  \n",
       "13  130458.228857                 приобретение автомобиля  \n",
       "14  165127.911772              покупка жилой недвижимости  \n",
       "15  116820.904450  строительство собственной недвижимости  \n",
       "16  289202.704229                            недвижимость  \n",
       "17   90410.586745              строительство недвижимости  \n",
       "18   56823.777243      на покупку подержанного автомобиля  \n",
       "19  242831.107982            на покупку своего автомобиля  "
      ]
     },
     "execution_count": 2,
     "metadata": {},
     "output_type": "execute_result"
    }
   ],
   "source": [
    "data.head(20)"
   ]
  },
  {
   "cell_type": "markdown",
   "id": "1c12e233",
   "metadata": {
    "deletable": false,
    "id": "1c12e233"
   },
   "source": [
    "**Задание 3. Выведите основную информацию о датафрейме с помощью метода `info()`.**"
   ]
  },
  {
   "cell_type": "code",
   "execution_count": 3,
   "id": "2b757bca",
   "metadata": {
    "deletable": false,
    "id": "2b757bca",
    "outputId": "15376089-8dad-46c9-b520-c05248d43158"
   },
   "outputs": [
    {
     "name": "stdout",
     "output_type": "stream",
     "text": [
      "<class 'pandas.core.frame.DataFrame'>\n",
      "RangeIndex: 21525 entries, 0 to 21524\n",
      "Data columns (total 12 columns):\n",
      " #   Column            Non-Null Count  Dtype  \n",
      "---  ------            --------------  -----  \n",
      " 0   children          21525 non-null  int64  \n",
      " 1   days_employed     19351 non-null  float64\n",
      " 2   dob_years         21525 non-null  int64  \n",
      " 3   education         21525 non-null  object \n",
      " 4   education_id      21525 non-null  int64  \n",
      " 5   family_status     21525 non-null  object \n",
      " 6   family_status_id  21525 non-null  int64  \n",
      " 7   gender            21525 non-null  object \n",
      " 8   income_type       21525 non-null  object \n",
      " 9   debt              21525 non-null  int64  \n",
      " 10  total_income      19351 non-null  float64\n",
      " 11  purpose           21525 non-null  object \n",
      "dtypes: float64(2), int64(5), object(5)\n",
      "memory usage: 2.0+ MB\n"
     ]
    }
   ],
   "source": [
    "data.info()"
   ]
  },
  {
   "cell_type": "markdown",
   "id": "7854ee48",
   "metadata": {},
   "source": [
    "<a id=\"preprocessing\"> </a>"
   ]
  },
  {
   "cell_type": "markdown",
   "id": "333ec665",
   "metadata": {
    "deletable": false,
    "id": "333ec665"
   },
   "source": [
    "## Предобработка данных"
   ]
  },
  {
   "cell_type": "markdown",
   "id": "02d92d53",
   "metadata": {
    "deletable": false,
    "id": "02d92d53"
   },
   "source": [
    "### Удаление пропусков"
   ]
  },
  {
   "cell_type": "markdown",
   "id": "cd84967c",
   "metadata": {
    "deletable": false,
    "id": "cd84967c"
   },
   "source": [
    "**Задание 4. Выведите количество пропущенных значений для каждого столбца. Используйте комбинацию двух методов.**"
   ]
  },
  {
   "cell_type": "code",
   "execution_count": 4,
   "id": "7f9b2309",
   "metadata": {
    "deletable": false,
    "id": "7f9b2309",
    "outputId": "81f4d817-781c-465c-ed15-91ce4446810d"
   },
   "outputs": [
    {
     "data": {
      "text/plain": [
       "children               0\n",
       "days_employed       2174\n",
       "dob_years              0\n",
       "education              0\n",
       "education_id           0\n",
       "family_status          0\n",
       "family_status_id       0\n",
       "gender                 0\n",
       "income_type            0\n",
       "debt                   0\n",
       "total_income        2174\n",
       "purpose                0\n",
       "dtype: int64"
      ]
     },
     "execution_count": 4,
     "metadata": {},
     "output_type": "execute_result"
    }
   ],
   "source": [
    "data.isna().sum()"
   ]
  },
  {
   "cell_type": "markdown",
   "id": "db86e27b",
   "metadata": {
    "deletable": false,
    "id": "db86e27b"
   },
   "source": [
    "**Задание 5. В двух столбцах есть пропущенные значения. Один из них — `days_employed`. Пропуски в этом столбце вы обработаете на следующем этапе. Другой столбец с пропущенными значениями — `total_income` — хранит данные о доходах. На сумму дохода сильнее всего влияет тип занятости, поэтому заполнить пропуски в этом столбце нужно медианным значением по каждому типу из столбца `income_type`. Например, у человека с типом занятости `сотрудник` пропуск в столбце `total_income` должен быть заполнен медианным доходом среди всех записей с тем же типом.**"
   ]
  },
  {
   "cell_type": "code",
   "execution_count": 5,
   "id": "42006a93",
   "metadata": {
    "deletable": false,
    "id": "42006a93"
   },
   "outputs": [],
   "source": [
    "for t in data['income_type'].unique():\n",
    "    data.loc[(data['income_type'] == t) & (data['total_income'].isna()), 'total_income'] = \\\n",
    "    data.loc[(data['income_type'] == t), 'total_income'].median()"
   ]
  },
  {
   "cell_type": "markdown",
   "id": "89da5ece",
   "metadata": {
    "deletable": false,
    "id": "89da5ece"
   },
   "source": [
    "### Обработка аномальных значений"
   ]
  },
  {
   "cell_type": "markdown",
   "id": "57964554",
   "metadata": {
    "deletable": false,
    "id": "57964554"
   },
   "source": [
    "**Задание 6. В данных могут встречаться артефакты (аномалии) — значения, которые не отражают действительность и появились по какой-то ошибке. таким артефактом будет отрицательное количество дней трудового стажа в столбце `days_employed`. Для реальных данных это нормально. Обработайте значения в этом столбце: замените все отрицательные значения положительными с помощью метода `abs()`.**"
   ]
  },
  {
   "cell_type": "code",
   "execution_count": 6,
   "id": "f6f055bf",
   "metadata": {
    "deletable": false,
    "id": "f6f055bf"
   },
   "outputs": [],
   "source": [
    "data['days_employed'] = data['days_employed'].abs()"
   ]
  },
  {
   "cell_type": "markdown",
   "id": "6107dd2f",
   "metadata": {
    "deletable": false,
    "id": "6107dd2f"
   },
   "source": [
    "**Задание 7. Для каждого типа занятости выведите медианное значение трудового стажа `days_employed` в днях.**"
   ]
  },
  {
   "cell_type": "code",
   "execution_count": 7,
   "id": "85a5faf6",
   "metadata": {
    "deletable": false,
    "id": "85a5faf6",
    "outputId": "801ef80e-522b-4668-f34e-565af7432bcf"
   },
   "outputs": [
    {
     "data": {
      "text/plain": [
       "income_type\n",
       "безработный        366413.652744\n",
       "в декрете            3296.759962\n",
       "госслужащий          2689.368353\n",
       "компаньон            1547.382223\n",
       "пенсионер          365213.306266\n",
       "предприниматель       520.848083\n",
       "сотрудник            1574.202821\n",
       "студент               578.751554\n",
       "Name: days_employed, dtype: float64"
      ]
     },
     "execution_count": 7,
     "metadata": {},
     "output_type": "execute_result"
    }
   ],
   "source": [
    "data.groupby('income_type')['days_employed'].agg('median')"
   ]
  },
  {
   "cell_type": "markdown",
   "id": "38d1a030",
   "metadata": {
    "deletable": false,
    "id": "38d1a030"
   },
   "source": [
    "У двух типов (безработные и пенсионеры) получатся аномально большие значения. Исправить такие значения сложно, поэтому оставьте их как есть. Тем более этот столбец не понадобится вам для исследования."
   ]
  },
  {
   "cell_type": "markdown",
   "id": "d8a9f147",
   "metadata": {
    "deletable": false,
    "id": "d8a9f147"
   },
   "source": [
    "**Задание 8. Выведите перечень уникальных значений столбца `children`.**"
   ]
  },
  {
   "cell_type": "code",
   "execution_count": 8,
   "id": "ef5056eb",
   "metadata": {
    "deletable": false,
    "id": "ef5056eb",
    "outputId": "6975b15c-7f95-4697-d16d-a0c79b657b03"
   },
   "outputs": [
    {
     "data": {
      "text/plain": [
       "array([ 1,  0,  3,  2, -1,  4, 20,  5])"
      ]
     },
     "execution_count": 8,
     "metadata": {},
     "output_type": "execute_result"
    }
   ],
   "source": [
    "data['children'].unique()"
   ]
  },
  {
   "cell_type": "markdown",
   "id": "40b9ebf2",
   "metadata": {
    "deletable": false,
    "id": "40b9ebf2"
   },
   "source": [
    "**Задание 9. В столбце `children` есть два аномальных значения. Удалите строки, в которых встречаются такие аномальные значения из датафрейма `data`.**"
   ]
  },
  {
   "cell_type": "code",
   "execution_count": 9,
   "id": "3ff9801d",
   "metadata": {
    "deletable": false,
    "id": "3ff9801d"
   },
   "outputs": [],
   "source": [
    "data = data[(data['children'] != -1) & (data['children'] != 20)]"
   ]
  },
  {
   "cell_type": "markdown",
   "id": "bbc4d0ce",
   "metadata": {
    "deletable": false,
    "id": "bbc4d0ce"
   },
   "source": [
    "**Задание 10. Ещё раз выведите перечень уникальных значений столбца `children`, чтобы убедиться, что артефакты удалены.**"
   ]
  },
  {
   "cell_type": "code",
   "execution_count": 10,
   "id": "ad4fa8b7",
   "metadata": {
    "deletable": false,
    "id": "ad4fa8b7",
    "outputId": "b2097101-d49d-44d9-901b-32a65c9463d1"
   },
   "outputs": [
    {
     "data": {
      "text/plain": [
       "array([1, 0, 3, 2, 4, 5])"
      ]
     },
     "execution_count": 10,
     "metadata": {},
     "output_type": "execute_result"
    }
   ],
   "source": [
    "data['children'].unique()"
   ]
  },
  {
   "cell_type": "markdown",
   "id": "75440b63",
   "metadata": {
    "deletable": false,
    "id": "75440b63"
   },
   "source": [
    "### Удаление пропусков (продолжение)"
   ]
  },
  {
   "cell_type": "markdown",
   "id": "f4ea573f",
   "metadata": {
    "deletable": false,
    "id": "f4ea573f"
   },
   "source": [
    "**Задание 11. Заполните пропуски в столбце `days_employed` медианными значениями по каждого типа занятости `income_type`.**"
   ]
  },
  {
   "cell_type": "code",
   "execution_count": 11,
   "id": "af6b1a7e",
   "metadata": {
    "deletable": false,
    "id": "af6b1a7e"
   },
   "outputs": [],
   "source": [
    "for t in data['income_type'].unique():\n",
    "    data.loc[(data['income_type'] == t) & (data['days_employed'].isna()), 'days_employed'] = \\\n",
    "    data.loc[(data['income_type'] == t), 'days_employed'].median()"
   ]
  },
  {
   "cell_type": "markdown",
   "id": "2753f40d",
   "metadata": {
    "deletable": false,
    "id": "2753f40d"
   },
   "source": [
    "**Задание 12. Убедитесь, что все пропуски заполнены. Проверьте себя и ещё раз выведите количество пропущенных значений для каждого столбца с помощью двух методов.**"
   ]
  },
  {
   "cell_type": "code",
   "execution_count": 12,
   "id": "55f78bc2",
   "metadata": {
    "deletable": false,
    "id": "55f78bc2",
    "outputId": "8da1e4e1-358e-4e87-98c9-f261bce0a7b2"
   },
   "outputs": [
    {
     "data": {
      "text/plain": [
       "children            0\n",
       "days_employed       0\n",
       "dob_years           0\n",
       "education           0\n",
       "education_id        0\n",
       "family_status       0\n",
       "family_status_id    0\n",
       "gender              0\n",
       "income_type         0\n",
       "debt                0\n",
       "total_income        0\n",
       "purpose             0\n",
       "dtype: int64"
      ]
     },
     "execution_count": 12,
     "metadata": {},
     "output_type": "execute_result"
    }
   ],
   "source": [
    "data.isna().sum()"
   ]
  },
  {
   "cell_type": "markdown",
   "id": "ddc81e43",
   "metadata": {
    "deletable": false,
    "id": "ddc81e43"
   },
   "source": [
    "### Изменение типов данных"
   ]
  },
  {
   "cell_type": "markdown",
   "id": "42d19d24",
   "metadata": {
    "deletable": false,
    "id": "42d19d24"
   },
   "source": [
    "**Задание 13. Замените вещественный тип данных в столбце `total_income` на целочисленный с помощью метода `astype()`.**"
   ]
  },
  {
   "cell_type": "code",
   "execution_count": 13,
   "id": "920b65ad",
   "metadata": {
    "deletable": false,
    "id": "920b65ad"
   },
   "outputs": [],
   "source": [
    "data['total_income'] = data['total_income'].astype(int)"
   ]
  },
  {
   "cell_type": "markdown",
   "id": "80c420ba",
   "metadata": {
    "deletable": false,
    "id": "80c420ba"
   },
   "source": [
    "### Обработка дубликатов"
   ]
  },
  {
   "cell_type": "markdown",
   "id": "dc587695",
   "metadata": {
    "deletable": false,
    "id": "dc587695"
   },
   "source": [
    "**Задание 14. Выведите на экран количество строк-дубликатов в данных. Если такие строки присутствуют, удалите их.**"
   ]
  },
  {
   "cell_type": "code",
   "execution_count": 14,
   "id": "3ee445e4",
   "metadata": {
    "deletable": false,
    "id": "3ee445e4",
    "outputId": "9684deba-1934-42d1-99e1-cda61740f822"
   },
   "outputs": [
    {
     "data": {
      "text/plain": [
       "54"
      ]
     },
     "execution_count": 14,
     "metadata": {},
     "output_type": "execute_result"
    }
   ],
   "source": [
    "data.duplicated().sum()"
   ]
  },
  {
   "cell_type": "code",
   "execution_count": 15,
   "id": "8575fe05",
   "metadata": {
    "deletable": false,
    "id": "8575fe05"
   },
   "outputs": [],
   "source": [
    "data = data.drop_duplicates()"
   ]
  },
  {
   "cell_type": "markdown",
   "id": "9771a76c",
   "metadata": {
    "deletable": false,
    "id": "9771a76c"
   },
   "source": [
    "**Задание 15. Обработайте неявные дубликаты в столбце `education`. В этом столбце есть одни и те же значения, но записанные по-разному: с использованием заглавных и строчных букв. Приведите их к нижнему регистру. Проверьте остальные столбцы.**"
   ]
  },
  {
   "cell_type": "code",
   "execution_count": 16,
   "id": "a9f8e2bf",
   "metadata": {
    "deletable": false,
    "id": "a9f8e2bf"
   },
   "outputs": [],
   "source": [
    "data['education'] = data['education'].str.lower()"
   ]
  },
  {
   "cell_type": "markdown",
   "id": "9904cf55",
   "metadata": {
    "deletable": false,
    "id": "9904cf55"
   },
   "source": [
    "### Категоризация данных"
   ]
  },
  {
   "cell_type": "markdown",
   "id": "72fcc8a2",
   "metadata": {
    "deletable": false,
    "id": "72fcc8a2"
   },
   "source": [
    "**Задание 16. На основании диапазонов, указанных ниже, создайте в датафрейме `data` столбец `total_income_category` с категориями:**\n",
    "\n",
    "- 0–30000 — `'E'`;\n",
    "- 30001–50000 — `'D'`;\n",
    "- 50001–200000 — `'C'`;\n",
    "- 200001–1000000 — `'B'`;\n",
    "- 1000001 и выше — `'A'`.\n",
    "\n",
    "\n",
    "**Например, кредитополучателю с доходом 25000 нужно назначить категорию `'E'`, а клиенту, получающему 235000, — `'B'`. Используйте собственную функцию с именем `categorize_income()` и метод `apply()`.**"
   ]
  },
  {
   "cell_type": "code",
   "execution_count": 17,
   "id": "e1771346",
   "metadata": {
    "deletable": false,
    "id": "e1771346"
   },
   "outputs": [],
   "source": [
    "def categorize_income(income):\n",
    "    try:\n",
    "        if 0 <= income <= 30000:\n",
    "            return 'E'\n",
    "        elif 30001 <= income <= 50000:\n",
    "            return 'D'\n",
    "        elif 50001 <= income <= 200000:\n",
    "            return 'C'\n",
    "        elif 200001 <= income <= 1000000:\n",
    "            return 'B'\n",
    "        elif income >= 1000001:\n",
    "            return 'A'\n",
    "    except:\n",
    "        pass"
   ]
  },
  {
   "cell_type": "code",
   "execution_count": 18,
   "id": "d5f3586d",
   "metadata": {
    "deletable": false,
    "id": "d5f3586d"
   },
   "outputs": [],
   "source": [
    "data['total_income_category'] = data['total_income'].apply(categorize_income)"
   ]
  },
  {
   "cell_type": "markdown",
   "id": "dde49b5c",
   "metadata": {
    "deletable": false,
    "id": "dde49b5c"
   },
   "source": [
    "**Задание 17. Выведите на экран перечень уникальных целей взятия кредита из столбца `purpose`.**"
   ]
  },
  {
   "cell_type": "code",
   "execution_count": 19,
   "id": "f67ce9b3",
   "metadata": {
    "deletable": false,
    "id": "f67ce9b3",
    "outputId": "673c12d9-7d7e-4ae0-9812-c622c89dd244"
   },
   "outputs": [
    {
     "data": {
      "text/plain": [
       "array(['покупка жилья', 'приобретение автомобиля',\n",
       "       'дополнительное образование', 'сыграть свадьбу',\n",
       "       'операции с жильем', 'образование', 'на проведение свадьбы',\n",
       "       'покупка жилья для семьи', 'покупка недвижимости',\n",
       "       'покупка коммерческой недвижимости', 'покупка жилой недвижимости',\n",
       "       'строительство собственной недвижимости', 'недвижимость',\n",
       "       'строительство недвижимости', 'на покупку подержанного автомобиля',\n",
       "       'на покупку своего автомобиля',\n",
       "       'операции с коммерческой недвижимостью',\n",
       "       'строительство жилой недвижимости', 'жилье',\n",
       "       'операции со своей недвижимостью', 'автомобили',\n",
       "       'заняться образованием', 'сделка с подержанным автомобилем',\n",
       "       'получение образования', 'автомобиль', 'свадьба',\n",
       "       'получение дополнительного образования', 'покупка своего жилья',\n",
       "       'операции с недвижимостью', 'получение высшего образования',\n",
       "       'свой автомобиль', 'сделка с автомобилем',\n",
       "       'профильное образование', 'высшее образование',\n",
       "       'покупка жилья для сдачи', 'на покупку автомобиля', 'ремонт жилью',\n",
       "       'заняться высшим образованием'], dtype=object)"
      ]
     },
     "execution_count": 19,
     "metadata": {},
     "output_type": "execute_result"
    }
   ],
   "source": [
    "data['purpose'].unique()"
   ]
  },
  {
   "cell_type": "markdown",
   "id": "85d0aef0",
   "metadata": {
    "deletable": false,
    "id": "85d0aef0"
   },
   "source": [
    "**Задание 18. Создайте функцию, которая на основании данных из столбца `purpose` сформирует новый столбец `purpose_category`, в который войдут следующие категории:**\n",
    "\n",
    "- `'операции с автомобилем'`,\n",
    "- `'операции с недвижимостью'`,\n",
    "- `'проведение свадьбы'`,\n",
    "- `'получение образования'`.\n",
    "\n",
    "**Например, если в столбце `purpose` находится подстрока `'на покупку автомобиля'`, то в столбце `purpose_category` должна появиться строка `'операции с автомобилем'`.**\n",
    "\n",
    "**Используйте собственную функцию с именем `categorize_purpose()` и метод `apply()`. Изучите данные в столбце `purpose` и определите, какие подстроки помогут вам правильно определить категорию.**"
   ]
  },
  {
   "cell_type": "code",
   "execution_count": 20,
   "id": "e149fab4",
   "metadata": {
    "deletable": false,
    "id": "e149fab4"
   },
   "outputs": [],
   "source": [
    "def categorize_purpose(row):\n",
    "    try:\n",
    "        if 'автом' in row:\n",
    "            return 'операции с автомобилем'\n",
    "        elif 'жил' in row or 'недвиж' in row:\n",
    "            return 'операции с недвижимостью'\n",
    "        elif 'свад' in row:\n",
    "            return 'проведение свадьбы'\n",
    "        elif 'образов' in row:\n",
    "            return 'получение образования'\n",
    "    except:\n",
    "        return 'нет категории'"
   ]
  },
  {
   "cell_type": "code",
   "execution_count": 21,
   "id": "bf36e69b",
   "metadata": {
    "deletable": false,
    "id": "bf36e69b"
   },
   "outputs": [],
   "source": [
    "data['purpose_category'] = data['purpose'].apply(categorize_purpose)"
   ]
  },
  {
   "cell_type": "markdown",
   "id": "f93e7f62",
   "metadata": {},
   "source": [
    "<a id=\"analysis\"> </a>"
   ]
  },
  {
   "cell_type": "markdown",
   "id": "09b242bf",
   "metadata": {
    "deletable": false,
    "editable": false,
    "id": "09b242bf"
   },
   "source": [
    "## Исследуйте данные и ответьте на вопросы"
   ]
  },
  {
   "cell_type": "markdown",
   "id": "c5d66278",
   "metadata": {
    "deletable": false,
    "editable": false,
    "id": "c5d66278"
   },
   "source": [
    "**Задание 19. Есть ли зависимость между количеством детей и возвратом кредита в срок?**"
   ]
  },
  {
   "cell_type": "markdown",
   "id": "876a2f5f",
   "metadata": {},
   "source": [
    "Для начала посмотрим на общую статистику наличия долгов"
   ]
  },
  {
   "cell_type": "code",
   "execution_count": 22,
   "id": "2cacfc4a",
   "metadata": {
    "id": "2cacfc4a",
    "scrolled": true
   },
   "outputs": [
    {
     "data": {
      "text/plain": [
       "0    19616\n",
       "1     1732\n",
       "Name: debt, dtype: int64"
      ]
     },
     "execution_count": 22,
     "metadata": {},
     "output_type": "execute_result"
    }
   ],
   "source": [
    "#выясним общее количество должников\n",
    "\n",
    "data['debt'].value_counts() "
   ]
  },
  {
   "cell_type": "code",
   "execution_count": 23,
   "id": "1d263e57",
   "metadata": {},
   "outputs": [
    {
     "data": {
      "text/plain": [
       "21348"
      ]
     },
     "metadata": {},
     "output_type": "display_data"
    }
   ],
   "source": [
    "#найдем количестов клиентов\n",
    "\n",
    "all_clients = data.shape[0] \n",
    "debtors = 1732\n",
    "display(all_clients)"
   ]
  },
  {
   "cell_type": "code",
   "execution_count": 24,
   "id": "ea3b3635",
   "metadata": {},
   "outputs": [
    {
     "data": {
      "text/plain": [
       "8.113172194116546"
      ]
     },
     "execution_count": 24,
     "metadata": {},
     "output_type": "execute_result"
    }
   ],
   "source": [
    "#найдем общий процент задолжников от числа клиентов\n",
    "\n",
    "debtors / all_clients * 100"
   ]
  },
  {
   "cell_type": "markdown",
   "id": "23d2d094",
   "metadata": {},
   "source": [
    "Подавляющее большинство клиентов банка стремится не иметь долгов, процент должников составляет 8%. Гипотеза: данный процент характеризует среднестатистического клиента, следовательно, данные невозврата долгов по отдельным группам будут примерно соответствовать данному проценту"
   ]
  },
  {
   "cell_type": "markdown",
   "id": "ad14523b",
   "metadata": {},
   "source": [
    "Перейдем к рассмотрению влияния фактора наличия детей на невозврат кредита"
   ]
  },
  {
   "cell_type": "code",
   "execution_count": 25,
   "id": "65a260d9",
   "metadata": {},
   "outputs": [
    {
     "data": {
      "text/plain": [
       "children\n",
       "0    14107\n",
       "1     4809\n",
       "2     2052\n",
       "3      330\n",
       "4       41\n",
       "5        9\n",
       "Name: debt, dtype: int64"
      ]
     },
     "execution_count": 25,
     "metadata": {},
     "output_type": "execute_result"
    }
   ],
   "source": [
    "#посмотрим на зависимость выдачи кредита от количества детей\n",
    "\n",
    "data.groupby('children')['debt'].count()"
   ]
  },
  {
   "cell_type": "markdown",
   "id": "42c81050",
   "metadata": {},
   "source": [
    "Подавляющее большинство кредитов выдано клиентам без детей. Многодетные клиенты берут кредиты (или получают одобрение) несравнимо реже. Ввиду значительного разрыва в данных, логично не выделять многодетных клиентов в отдельную группу, а разделить всех клиентов на тех, кто имеет детей, и тех, кто их не имеет"
   ]
  },
  {
   "cell_type": "code",
   "execution_count": 26,
   "id": "06fe159a",
   "metadata": {},
   "outputs": [
    {
     "data": {
      "text/html": [
       "<div>\n",
       "<style scoped>\n",
       "    .dataframe tbody tr th:only-of-type {\n",
       "        vertical-align: middle;\n",
       "    }\n",
       "\n",
       "    .dataframe tbody tr th {\n",
       "        vertical-align: top;\n",
       "    }\n",
       "\n",
       "    .dataframe thead th {\n",
       "        text-align: right;\n",
       "    }\n",
       "</style>\n",
       "<table border=\"1\" class=\"dataframe\">\n",
       "  <thead>\n",
       "    <tr style=\"text-align: right;\">\n",
       "      <th></th>\n",
       "      <th>children</th>\n",
       "      <th>days_employed</th>\n",
       "      <th>dob_years</th>\n",
       "      <th>education</th>\n",
       "      <th>education_id</th>\n",
       "      <th>family_status</th>\n",
       "      <th>family_status_id</th>\n",
       "      <th>gender</th>\n",
       "      <th>income_type</th>\n",
       "      <th>debt</th>\n",
       "      <th>total_income</th>\n",
       "      <th>purpose</th>\n",
       "      <th>total_income_category</th>\n",
       "      <th>purpose_category</th>\n",
       "      <th>children_category</th>\n",
       "    </tr>\n",
       "  </thead>\n",
       "  <tbody>\n",
       "    <tr>\n",
       "      <th>0</th>\n",
       "      <td>1</td>\n",
       "      <td>8437.673028</td>\n",
       "      <td>42</td>\n",
       "      <td>высшее</td>\n",
       "      <td>0</td>\n",
       "      <td>женат / замужем</td>\n",
       "      <td>0</td>\n",
       "      <td>F</td>\n",
       "      <td>сотрудник</td>\n",
       "      <td>0</td>\n",
       "      <td>253875</td>\n",
       "      <td>покупка жилья</td>\n",
       "      <td>B</td>\n",
       "      <td>операции с недвижимостью</td>\n",
       "      <td>есть дети</td>\n",
       "    </tr>\n",
       "    <tr>\n",
       "      <th>1</th>\n",
       "      <td>1</td>\n",
       "      <td>4024.803754</td>\n",
       "      <td>36</td>\n",
       "      <td>среднее</td>\n",
       "      <td>1</td>\n",
       "      <td>женат / замужем</td>\n",
       "      <td>0</td>\n",
       "      <td>F</td>\n",
       "      <td>сотрудник</td>\n",
       "      <td>0</td>\n",
       "      <td>112080</td>\n",
       "      <td>приобретение автомобиля</td>\n",
       "      <td>C</td>\n",
       "      <td>операции с автомобилем</td>\n",
       "      <td>есть дети</td>\n",
       "    </tr>\n",
       "    <tr>\n",
       "      <th>2</th>\n",
       "      <td>0</td>\n",
       "      <td>5623.422610</td>\n",
       "      <td>33</td>\n",
       "      <td>среднее</td>\n",
       "      <td>1</td>\n",
       "      <td>женат / замужем</td>\n",
       "      <td>0</td>\n",
       "      <td>M</td>\n",
       "      <td>сотрудник</td>\n",
       "      <td>0</td>\n",
       "      <td>145885</td>\n",
       "      <td>покупка жилья</td>\n",
       "      <td>C</td>\n",
       "      <td>операции с недвижимостью</td>\n",
       "      <td>детей нет</td>\n",
       "    </tr>\n",
       "    <tr>\n",
       "      <th>3</th>\n",
       "      <td>3</td>\n",
       "      <td>4124.747207</td>\n",
       "      <td>32</td>\n",
       "      <td>среднее</td>\n",
       "      <td>1</td>\n",
       "      <td>женат / замужем</td>\n",
       "      <td>0</td>\n",
       "      <td>M</td>\n",
       "      <td>сотрудник</td>\n",
       "      <td>0</td>\n",
       "      <td>267628</td>\n",
       "      <td>дополнительное образование</td>\n",
       "      <td>B</td>\n",
       "      <td>получение образования</td>\n",
       "      <td>есть дети</td>\n",
       "    </tr>\n",
       "    <tr>\n",
       "      <th>4</th>\n",
       "      <td>0</td>\n",
       "      <td>340266.072047</td>\n",
       "      <td>53</td>\n",
       "      <td>среднее</td>\n",
       "      <td>1</td>\n",
       "      <td>гражданский брак</td>\n",
       "      <td>1</td>\n",
       "      <td>F</td>\n",
       "      <td>пенсионер</td>\n",
       "      <td>0</td>\n",
       "      <td>158616</td>\n",
       "      <td>сыграть свадьбу</td>\n",
       "      <td>C</td>\n",
       "      <td>проведение свадьбы</td>\n",
       "      <td>детей нет</td>\n",
       "    </tr>\n",
       "    <tr>\n",
       "      <th>5</th>\n",
       "      <td>0</td>\n",
       "      <td>926.185831</td>\n",
       "      <td>27</td>\n",
       "      <td>высшее</td>\n",
       "      <td>0</td>\n",
       "      <td>гражданский брак</td>\n",
       "      <td>1</td>\n",
       "      <td>M</td>\n",
       "      <td>компаньон</td>\n",
       "      <td>0</td>\n",
       "      <td>255763</td>\n",
       "      <td>покупка жилья</td>\n",
       "      <td>B</td>\n",
       "      <td>операции с недвижимостью</td>\n",
       "      <td>детей нет</td>\n",
       "    </tr>\n",
       "    <tr>\n",
       "      <th>6</th>\n",
       "      <td>0</td>\n",
       "      <td>2879.202052</td>\n",
       "      <td>43</td>\n",
       "      <td>высшее</td>\n",
       "      <td>0</td>\n",
       "      <td>женат / замужем</td>\n",
       "      <td>0</td>\n",
       "      <td>F</td>\n",
       "      <td>компаньон</td>\n",
       "      <td>0</td>\n",
       "      <td>240525</td>\n",
       "      <td>операции с жильем</td>\n",
       "      <td>B</td>\n",
       "      <td>операции с недвижимостью</td>\n",
       "      <td>детей нет</td>\n",
       "    </tr>\n",
       "    <tr>\n",
       "      <th>7</th>\n",
       "      <td>0</td>\n",
       "      <td>152.779569</td>\n",
       "      <td>50</td>\n",
       "      <td>среднее</td>\n",
       "      <td>1</td>\n",
       "      <td>женат / замужем</td>\n",
       "      <td>0</td>\n",
       "      <td>M</td>\n",
       "      <td>сотрудник</td>\n",
       "      <td>0</td>\n",
       "      <td>135823</td>\n",
       "      <td>образование</td>\n",
       "      <td>C</td>\n",
       "      <td>получение образования</td>\n",
       "      <td>детей нет</td>\n",
       "    </tr>\n",
       "    <tr>\n",
       "      <th>8</th>\n",
       "      <td>2</td>\n",
       "      <td>6929.865299</td>\n",
       "      <td>35</td>\n",
       "      <td>высшее</td>\n",
       "      <td>0</td>\n",
       "      <td>гражданский брак</td>\n",
       "      <td>1</td>\n",
       "      <td>F</td>\n",
       "      <td>сотрудник</td>\n",
       "      <td>0</td>\n",
       "      <td>95856</td>\n",
       "      <td>на проведение свадьбы</td>\n",
       "      <td>C</td>\n",
       "      <td>проведение свадьбы</td>\n",
       "      <td>есть дети</td>\n",
       "    </tr>\n",
       "    <tr>\n",
       "      <th>9</th>\n",
       "      <td>0</td>\n",
       "      <td>2188.756445</td>\n",
       "      <td>41</td>\n",
       "      <td>среднее</td>\n",
       "      <td>1</td>\n",
       "      <td>женат / замужем</td>\n",
       "      <td>0</td>\n",
       "      <td>M</td>\n",
       "      <td>сотрудник</td>\n",
       "      <td>0</td>\n",
       "      <td>144425</td>\n",
       "      <td>покупка жилья для семьи</td>\n",
       "      <td>C</td>\n",
       "      <td>операции с недвижимостью</td>\n",
       "      <td>детей нет</td>\n",
       "    </tr>\n",
       "  </tbody>\n",
       "</table>\n",
       "</div>"
      ],
      "text/plain": [
       "   children  days_employed  dob_years education  education_id  \\\n",
       "0         1    8437.673028         42    высшее             0   \n",
       "1         1    4024.803754         36   среднее             1   \n",
       "2         0    5623.422610         33   среднее             1   \n",
       "3         3    4124.747207         32   среднее             1   \n",
       "4         0  340266.072047         53   среднее             1   \n",
       "5         0     926.185831         27    высшее             0   \n",
       "6         0    2879.202052         43    высшее             0   \n",
       "7         0     152.779569         50   среднее             1   \n",
       "8         2    6929.865299         35    высшее             0   \n",
       "9         0    2188.756445         41   среднее             1   \n",
       "\n",
       "      family_status  family_status_id gender income_type  debt  total_income  \\\n",
       "0   женат / замужем                 0      F   сотрудник     0        253875   \n",
       "1   женат / замужем                 0      F   сотрудник     0        112080   \n",
       "2   женат / замужем                 0      M   сотрудник     0        145885   \n",
       "3   женат / замужем                 0      M   сотрудник     0        267628   \n",
       "4  гражданский брак                 1      F   пенсионер     0        158616   \n",
       "5  гражданский брак                 1      M   компаньон     0        255763   \n",
       "6   женат / замужем                 0      F   компаньон     0        240525   \n",
       "7   женат / замужем                 0      M   сотрудник     0        135823   \n",
       "8  гражданский брак                 1      F   сотрудник     0         95856   \n",
       "9   женат / замужем                 0      M   сотрудник     0        144425   \n",
       "\n",
       "                      purpose total_income_category          purpose_category  \\\n",
       "0               покупка жилья                     B  операции с недвижимостью   \n",
       "1     приобретение автомобиля                     C    операции с автомобилем   \n",
       "2               покупка жилья                     C  операции с недвижимостью   \n",
       "3  дополнительное образование                     B     получение образования   \n",
       "4             сыграть свадьбу                     C        проведение свадьбы   \n",
       "5               покупка жилья                     B  операции с недвижимостью   \n",
       "6           операции с жильем                     B  операции с недвижимостью   \n",
       "7                 образование                     C     получение образования   \n",
       "8       на проведение свадьбы                     C        проведение свадьбы   \n",
       "9     покупка жилья для семьи                     C  операции с недвижимостью   \n",
       "\n",
       "  children_category  \n",
       "0         есть дети  \n",
       "1         есть дети  \n",
       "2         детей нет  \n",
       "3         есть дети  \n",
       "4         детей нет  \n",
       "5         детей нет  \n",
       "6         детей нет  \n",
       "7         детей нет  \n",
       "8         есть дети  \n",
       "9         детей нет  "
      ]
     },
     "execution_count": 26,
     "metadata": {},
     "output_type": "execute_result"
    }
   ],
   "source": [
    "#разделим всех клиентов на 2 подкатетогии в зависимости от наличия детей\n",
    "\n",
    "def categorize_children(children):\n",
    "    if children == 0: \n",
    "        return 'детей нет'\n",
    "    return 'есть дети'\n",
    "\n",
    "data['children_category'] = data['children'].apply(categorize_children) \n",
    "data.head(10)"
   ]
  },
  {
   "cell_type": "code",
   "execution_count": 27,
   "id": "7859fe94",
   "metadata": {
    "scrolled": true
   },
   "outputs": [
    {
     "data": {
      "text/html": [
       "<div>\n",
       "<style scoped>\n",
       "    .dataframe tbody tr th:only-of-type {\n",
       "        vertical-align: middle;\n",
       "    }\n",
       "\n",
       "    .dataframe tbody tr th {\n",
       "        vertical-align: top;\n",
       "    }\n",
       "\n",
       "    .dataframe thead th {\n",
       "        text-align: right;\n",
       "    }\n",
       "</style>\n",
       "<table border=\"1\" class=\"dataframe\">\n",
       "  <thead>\n",
       "    <tr style=\"text-align: right;\">\n",
       "      <th></th>\n",
       "      <th>children_category</th>\n",
       "      <th>children</th>\n",
       "    </tr>\n",
       "  </thead>\n",
       "  <tbody>\n",
       "    <tr>\n",
       "      <th>0</th>\n",
       "      <td>детей нет</td>\n",
       "      <td>14107</td>\n",
       "    </tr>\n",
       "    <tr>\n",
       "      <th>1</th>\n",
       "      <td>есть дети</td>\n",
       "      <td>7241</td>\n",
       "    </tr>\n",
       "  </tbody>\n",
       "</table>\n",
       "</div>"
      ],
      "text/plain": [
       "  children_category  children\n",
       "0         детей нет     14107\n",
       "1         есть дети      7241"
      ]
     },
     "execution_count": 27,
     "metadata": {},
     "output_type": "execute_result"
    }
   ],
   "source": [
    "#создадим таблицу, в которой рассмотрим зависимость просрочки кредита от наличия детей\n",
    "\n",
    "children_influence = data.groupby(by=['children_category'],as_index=False)['children'].count()\n",
    "children_influence"
   ]
  },
  {
   "cell_type": "code",
   "execution_count": 28,
   "id": "6445c71e",
   "metadata": {},
   "outputs": [
    {
     "data": {
      "text/html": [
       "<div>\n",
       "<style scoped>\n",
       "    .dataframe tbody tr th:only-of-type {\n",
       "        vertical-align: middle;\n",
       "    }\n",
       "\n",
       "    .dataframe tbody tr th {\n",
       "        vertical-align: top;\n",
       "    }\n",
       "\n",
       "    .dataframe thead th {\n",
       "        text-align: right;\n",
       "    }\n",
       "</style>\n",
       "<table border=\"1\" class=\"dataframe\">\n",
       "  <thead>\n",
       "    <tr style=\"text-align: right;\">\n",
       "      <th></th>\n",
       "      <th>children_category</th>\n",
       "      <th>debt</th>\n",
       "    </tr>\n",
       "  </thead>\n",
       "  <tbody>\n",
       "    <tr>\n",
       "      <th>0</th>\n",
       "      <td>детей нет</td>\n",
       "      <td>1063</td>\n",
       "    </tr>\n",
       "    <tr>\n",
       "      <th>1</th>\n",
       "      <td>есть дети</td>\n",
       "      <td>669</td>\n",
       "    </tr>\n",
       "  </tbody>\n",
       "</table>\n",
       "</div>"
      ],
      "text/plain": [
       "  children_category  debt\n",
       "0         детей нет  1063\n",
       "1         есть дети   669"
      ]
     },
     "execution_count": 28,
     "metadata": {},
     "output_type": "execute_result"
    }
   ],
   "source": [
    "#cоздадим временную таблицу для переноса ее столбца в ранее созданную таблицу\n",
    "\n",
    "temp = data[data['debt'] == 1].groupby(by=['children_category'],as_index=False)\\\n",
    "['debt'].count()\n",
    "temp"
   ]
  },
  {
   "cell_type": "code",
   "execution_count": 29,
   "id": "82d9d8d5",
   "metadata": {},
   "outputs": [
    {
     "data": {
      "text/html": [
       "<div>\n",
       "<style scoped>\n",
       "    .dataframe tbody tr th:only-of-type {\n",
       "        vertical-align: middle;\n",
       "    }\n",
       "\n",
       "    .dataframe tbody tr th {\n",
       "        vertical-align: top;\n",
       "    }\n",
       "\n",
       "    .dataframe thead th {\n",
       "        text-align: right;\n",
       "    }\n",
       "</style>\n",
       "<table border=\"1\" class=\"dataframe\">\n",
       "  <thead>\n",
       "    <tr style=\"text-align: right;\">\n",
       "      <th></th>\n",
       "      <th>children_category</th>\n",
       "      <th>children</th>\n",
       "      <th>having_debts</th>\n",
       "    </tr>\n",
       "  </thead>\n",
       "  <tbody>\n",
       "    <tr>\n",
       "      <th>0</th>\n",
       "      <td>детей нет</td>\n",
       "      <td>14107</td>\n",
       "      <td>1063</td>\n",
       "    </tr>\n",
       "    <tr>\n",
       "      <th>1</th>\n",
       "      <td>есть дети</td>\n",
       "      <td>7241</td>\n",
       "      <td>669</td>\n",
       "    </tr>\n",
       "  </tbody>\n",
       "</table>\n",
       "</div>"
      ],
      "text/plain": [
       "  children_category  children  having_debts\n",
       "0         детей нет     14107          1063\n",
       "1         есть дети      7241           669"
      ]
     },
     "execution_count": 29,
     "metadata": {},
     "output_type": "execute_result"
    }
   ],
   "source": [
    "#добавляем в таблицу столбец с информацией о подкатегориях клиентов с долгами\n",
    "\n",
    "children_influence['having_debts'] = temp['debt']\n",
    "children_influence"
   ]
  },
  {
   "cell_type": "code",
   "execution_count": 30,
   "id": "88b84028",
   "metadata": {},
   "outputs": [
    {
     "data": {
      "text/html": [
       "<div>\n",
       "<style scoped>\n",
       "    .dataframe tbody tr th:only-of-type {\n",
       "        vertical-align: middle;\n",
       "    }\n",
       "\n",
       "    .dataframe tbody tr th {\n",
       "        vertical-align: top;\n",
       "    }\n",
       "\n",
       "    .dataframe thead th {\n",
       "        text-align: right;\n",
       "    }\n",
       "</style>\n",
       "<table border=\"1\" class=\"dataframe\">\n",
       "  <thead>\n",
       "    <tr style=\"text-align: right;\">\n",
       "      <th></th>\n",
       "      <th>children_category</th>\n",
       "      <th>children</th>\n",
       "      <th>having_debts</th>\n",
       "      <th>percent_of_having_debts</th>\n",
       "    </tr>\n",
       "  </thead>\n",
       "  <tbody>\n",
       "    <tr>\n",
       "      <th>0</th>\n",
       "      <td>детей нет</td>\n",
       "      <td>14107</td>\n",
       "      <td>1063</td>\n",
       "      <td>7.535266</td>\n",
       "    </tr>\n",
       "    <tr>\n",
       "      <th>1</th>\n",
       "      <td>есть дети</td>\n",
       "      <td>7241</td>\n",
       "      <td>669</td>\n",
       "      <td>9.239055</td>\n",
       "    </tr>\n",
       "  </tbody>\n",
       "</table>\n",
       "</div>"
      ],
      "text/plain": [
       "  children_category  children  having_debts  percent_of_having_debts\n",
       "0         детей нет     14107          1063                 7.535266\n",
       "1         есть дети      7241           669                 9.239055"
      ]
     },
     "execution_count": 30,
     "metadata": {},
     "output_type": "execute_result"
    }
   ],
   "source": [
    "#добавляем в таблицу столбец с процентом должников от числа имеющих \n",
    "#кредит в каждой из подкатегории\n",
    "\n",
    "children_influence['percent_of_having_debts'] = children_influence['having_debts'] \\\n",
    "/ children_influence['children'] * 100\n",
    "children_influence"
   ]
  },
  {
   "cell_type": "code",
   "execution_count": 31,
   "id": "68124882",
   "metadata": {},
   "outputs": [
    {
     "data": {
      "text/html": [
       "<div>\n",
       "<style scoped>\n",
       "    .dataframe tbody tr th:only-of-type {\n",
       "        vertical-align: middle;\n",
       "    }\n",
       "\n",
       "    .dataframe tbody tr th {\n",
       "        vertical-align: top;\n",
       "    }\n",
       "\n",
       "    .dataframe thead th {\n",
       "        text-align: right;\n",
       "    }\n",
       "</style>\n",
       "<table border=\"1\" class=\"dataframe\">\n",
       "  <thead>\n",
       "    <tr style=\"text-align: right;\">\n",
       "      <th></th>\n",
       "      <th>children_category</th>\n",
       "      <th>children</th>\n",
       "      <th>having_debts</th>\n",
       "      <th>percent_of_having_debts</th>\n",
       "      <th>share of clients</th>\n",
       "    </tr>\n",
       "  </thead>\n",
       "  <tbody>\n",
       "    <tr>\n",
       "      <th>0</th>\n",
       "      <td>детей нет</td>\n",
       "      <td>14107</td>\n",
       "      <td>1063</td>\n",
       "      <td>7.535266</td>\n",
       "      <td>66.081132</td>\n",
       "    </tr>\n",
       "    <tr>\n",
       "      <th>1</th>\n",
       "      <td>есть дети</td>\n",
       "      <td>7241</td>\n",
       "      <td>669</td>\n",
       "      <td>9.239055</td>\n",
       "      <td>33.918868</td>\n",
       "    </tr>\n",
       "  </tbody>\n",
       "</table>\n",
       "</div>"
      ],
      "text/plain": [
       "  children_category  children  having_debts  percent_of_having_debts  \\\n",
       "0         детей нет     14107          1063                 7.535266   \n",
       "1         есть дети      7241           669                 9.239055   \n",
       "\n",
       "   share of clients  \n",
       "0         66.081132  \n",
       "1         33.918868  "
      ]
     },
     "execution_count": 31,
     "metadata": {},
     "output_type": "execute_result"
    }
   ],
   "source": [
    "#добавляем в таблицу столбец с процентом клиентов каждой подкатегории \n",
    "#от общего числа клиентов\n",
    "\n",
    "children_influence['share of clients'] = children_influence['children'] \\\n",
    "/ all_clients * 100\n",
    "children_influence"
   ]
  },
  {
   "cell_type": "code",
   "execution_count": 32,
   "id": "aaab76ca",
   "metadata": {},
   "outputs": [
    {
     "data": {
      "text/html": [
       "<div>\n",
       "<style scoped>\n",
       "    .dataframe tbody tr th:only-of-type {\n",
       "        vertical-align: middle;\n",
       "    }\n",
       "\n",
       "    .dataframe tbody tr th {\n",
       "        vertical-align: top;\n",
       "    }\n",
       "\n",
       "    .dataframe thead th {\n",
       "        text-align: right;\n",
       "    }\n",
       "</style>\n",
       "<table border=\"1\" class=\"dataframe\">\n",
       "  <thead>\n",
       "    <tr style=\"text-align: right;\">\n",
       "      <th></th>\n",
       "      <th>children_category</th>\n",
       "      <th>children</th>\n",
       "      <th>having_debts</th>\n",
       "      <th>percent_of_having_debts</th>\n",
       "      <th>share of clients</th>\n",
       "      <th>share of debtors</th>\n",
       "    </tr>\n",
       "  </thead>\n",
       "  <tbody>\n",
       "    <tr>\n",
       "      <th>0</th>\n",
       "      <td>детей нет</td>\n",
       "      <td>14107</td>\n",
       "      <td>1063</td>\n",
       "      <td>7.535266</td>\n",
       "      <td>66.081132</td>\n",
       "      <td>61.374134</td>\n",
       "    </tr>\n",
       "    <tr>\n",
       "      <th>1</th>\n",
       "      <td>есть дети</td>\n",
       "      <td>7241</td>\n",
       "      <td>669</td>\n",
       "      <td>9.239055</td>\n",
       "      <td>33.918868</td>\n",
       "      <td>38.625866</td>\n",
       "    </tr>\n",
       "  </tbody>\n",
       "</table>\n",
       "</div>"
      ],
      "text/plain": [
       "  children_category  children  having_debts  percent_of_having_debts  \\\n",
       "0         детей нет     14107          1063                 7.535266   \n",
       "1         есть дети      7241           669                 9.239055   \n",
       "\n",
       "   share of clients  share of debtors  \n",
       "0         66.081132         61.374134  \n",
       "1         33.918868         38.625866  "
      ]
     },
     "execution_count": 32,
     "metadata": {},
     "output_type": "execute_result"
    }
   ],
   "source": [
    "#добавляем в таблицу столбец с процентом должников от общего числа имеющих кредит\n",
    "\n",
    "children_influence['share of debtors'] = children_influence['having_debts'] \\\n",
    "/ debtors * 100\n",
    "children_influence"
   ]
  },
  {
   "cell_type": "code",
   "execution_count": 33,
   "id": "6e7d7a3a",
   "metadata": {},
   "outputs": [
    {
     "data": {
      "text/html": [
       "<div>\n",
       "<style scoped>\n",
       "    .dataframe tbody tr th:only-of-type {\n",
       "        vertical-align: middle;\n",
       "    }\n",
       "\n",
       "    .dataframe tbody tr th {\n",
       "        vertical-align: top;\n",
       "    }\n",
       "\n",
       "    .dataframe thead th {\n",
       "        text-align: right;\n",
       "    }\n",
       "</style>\n",
       "<table border=\"1\" class=\"dataframe\">\n",
       "  <thead>\n",
       "    <tr style=\"text-align: right;\">\n",
       "      <th></th>\n",
       "      <th>children_category</th>\n",
       "      <th>overall_clients</th>\n",
       "      <th>having_debts</th>\n",
       "      <th>percent_of_having_debts</th>\n",
       "      <th>share of clients</th>\n",
       "      <th>share of debtors</th>\n",
       "    </tr>\n",
       "  </thead>\n",
       "  <tbody>\n",
       "    <tr>\n",
       "      <th>0</th>\n",
       "      <td>детей нет</td>\n",
       "      <td>14107</td>\n",
       "      <td>1063</td>\n",
       "      <td>7.535266</td>\n",
       "      <td>66.081132</td>\n",
       "      <td>61.374134</td>\n",
       "    </tr>\n",
       "    <tr>\n",
       "      <th>1</th>\n",
       "      <td>есть дети</td>\n",
       "      <td>7241</td>\n",
       "      <td>669</td>\n",
       "      <td>9.239055</td>\n",
       "      <td>33.918868</td>\n",
       "      <td>38.625866</td>\n",
       "    </tr>\n",
       "  </tbody>\n",
       "</table>\n",
       "</div>"
      ],
      "text/plain": [
       "  children_category  overall_clients  having_debts  percent_of_having_debts  \\\n",
       "0         детей нет            14107          1063                 7.535266   \n",
       "1         есть дети             7241           669                 9.239055   \n",
       "\n",
       "   share of clients  share of debtors  \n",
       "0         66.081132         61.374134  \n",
       "1         33.918868         38.625866  "
      ]
     },
     "execution_count": 33,
     "metadata": {},
     "output_type": "execute_result"
    }
   ],
   "source": [
    "#переименуем столбец, чтобы отражал общее число клиентов в данной категории\n",
    "\n",
    "children_influence = children_influence.rename(columns={'children': 'overall_clients'})\n",
    "children_influence"
   ]
  },
  {
   "cell_type": "code",
   "execution_count": 34,
   "id": "c45810c0",
   "metadata": {},
   "outputs": [
    {
     "data": {
      "text/html": [
       "<div>\n",
       "<style scoped>\n",
       "    .dataframe tbody tr th:only-of-type {\n",
       "        vertical-align: middle;\n",
       "    }\n",
       "\n",
       "    .dataframe tbody tr th {\n",
       "        vertical-align: top;\n",
       "    }\n",
       "\n",
       "    .dataframe thead th {\n",
       "        text-align: right;\n",
       "    }\n",
       "</style>\n",
       "<table border=\"1\" class=\"dataframe\">\n",
       "  <thead>\n",
       "    <tr style=\"text-align: right;\">\n",
       "      <th>debt</th>\n",
       "      <th>0</th>\n",
       "      <th>1</th>\n",
       "    </tr>\n",
       "    <tr>\n",
       "      <th>children</th>\n",
       "      <th></th>\n",
       "      <th></th>\n",
       "    </tr>\n",
       "  </thead>\n",
       "  <tbody>\n",
       "    <tr>\n",
       "      <th>0</th>\n",
       "      <td>13044</td>\n",
       "      <td>1063</td>\n",
       "    </tr>\n",
       "    <tr>\n",
       "      <th>1</th>\n",
       "      <td>4365</td>\n",
       "      <td>444</td>\n",
       "    </tr>\n",
       "    <tr>\n",
       "      <th>2</th>\n",
       "      <td>1858</td>\n",
       "      <td>194</td>\n",
       "    </tr>\n",
       "    <tr>\n",
       "      <th>3</th>\n",
       "      <td>303</td>\n",
       "      <td>27</td>\n",
       "    </tr>\n",
       "    <tr>\n",
       "      <th>4</th>\n",
       "      <td>37</td>\n",
       "      <td>4</td>\n",
       "    </tr>\n",
       "    <tr>\n",
       "      <th>5</th>\n",
       "      <td>9</td>\n",
       "      <td>0</td>\n",
       "    </tr>\n",
       "  </tbody>\n",
       "</table>\n",
       "</div>"
      ],
      "text/plain": [
       "debt          0     1\n",
       "children             \n",
       "0         13044  1063\n",
       "1          4365   444\n",
       "2          1858   194\n",
       "3           303    27\n",
       "4            37     4\n",
       "5             9     0"
      ]
     },
     "execution_count": 34,
     "metadata": {},
     "output_type": "execute_result"
    }
   ],
   "source": [
    "data.pivot_table(index='children', columns='debt', values='purpose', aggfunc='count', fill_value=0)"
   ]
  },
  {
   "cell_type": "markdown",
   "id": "d73df1fd",
   "metadata": {},
   "source": [
    "Таблица показывает, что клиенты без детей составляют более половины всех должников, однако их процентное соотношение также велико среди общего числа клиентов. Процент должников с детьми несколько выше, чем процентное соотношение клиентов с детьми среди всех клиентов. Это же подтверждают и данные по проценту должников в каждой из подкатегорий. \n",
    "Дополнительно посмотрим на возможную зависимость с другой категорией, тесно связанной с фактором наличия детей - семейным положенением"
   ]
  },
  {
   "cell_type": "code",
   "execution_count": 35,
   "id": "f8553f24",
   "metadata": {},
   "outputs": [
    {
     "data": {
      "text/plain": [
       "children_category  family_status        \n",
       "детей нет          женат / замужем          7473\n",
       "                   гражданский брак         2741\n",
       "                   Не женат / не замужем    2262\n",
       "                   вдовец / вдова            847\n",
       "                   в разводе                 784\n",
       "есть дети          женат / замужем          4793\n",
       "                   гражданский брак         1405\n",
       "                   Не женат / не замужем     534\n",
       "                   в разводе                 405\n",
       "                   вдовец / вдова            104\n",
       "Name: family_status, dtype: int64"
      ]
     },
     "execution_count": 35,
     "metadata": {},
     "output_type": "execute_result"
    }
   ],
   "source": [
    "#посмотрим на семейное положение клиентов с детьми и без\n",
    "\n",
    "clients_families_children = data.groupby('children_category') \\\n",
    "['family_status'].value_counts() \n",
    "clients_families_children"
   ]
  },
  {
   "cell_type": "markdown",
   "id": "901843ae",
   "metadata": {},
   "source": [
    "Большинство клиентов кредитного отдела банка состоят в официальном браке"
   ]
  },
  {
   "cell_type": "code",
   "execution_count": 36,
   "id": "d5f6ea7e",
   "metadata": {},
   "outputs": [
    {
     "data": {
      "text/plain": [
       "children_category  family_status        \n",
       "детей нет          женат / замужем          516\n",
       "                   гражданский брак         229\n",
       "                   Не женат / не замужем    210\n",
       "                   в разводе                 55\n",
       "                   вдовец / вдова            53\n",
       "есть дети          женат / замужем          411\n",
       "                   гражданский брак         156\n",
       "                   Не женат / не замужем     63\n",
       "                   в разводе                 29\n",
       "                   вдовец / вдова            10\n",
       "Name: family_status, dtype: int64"
      ]
     },
     "execution_count": 36,
     "metadata": {},
     "output_type": "execute_result"
    }
   ],
   "source": [
    "#посмотрим отдельно на категории должников\n",
    "\n",
    "debtors_families_children = data[data['debt'] == 1].groupby('children_category') \\\n",
    "['family_status'].value_counts() \n",
    "debtors_families_children"
   ]
  },
  {
   "cell_type": "code",
   "execution_count": 37,
   "id": "5121cfac",
   "metadata": {},
   "outputs": [
    {
     "data": {
      "text/plain": [
       "children_category  family_status        \n",
       "детей нет          Не женат / не замужем     9.283820\n",
       "                   в разводе                 7.015306\n",
       "                   вдовец / вдова            6.257379\n",
       "                   гражданский брак          8.354615\n",
       "                   женат / замужем           6.904857\n",
       "есть дети          Не женат / не замужем    11.797753\n",
       "                   в разводе                 7.160494\n",
       "                   вдовец / вдова            9.615385\n",
       "                   гражданский брак         11.103203\n",
       "                   женат / замужем           8.575005\n",
       "Name: family_status, dtype: float64"
      ]
     },
     "execution_count": 37,
     "metadata": {},
     "output_type": "execute_result"
    }
   ],
   "source": [
    "#выясним, какой процент должников составляют клиенты с детьми и без, \n",
    "#имеющие различный семейный статус\n",
    "\n",
    "debtors_families_children / clients_families_children * 100 "
   ]
  },
  {
   "cell_type": "markdown",
   "id": "3eace920",
   "metadata": {},
   "source": [
    "Общие данные показывают, что большая часть семейных клиентов-должников все же не имеет детей. Отсутствие детей также характерно для лиц, живующих в гражданском браке или не имеющих партнера. Вычисление процента должников по каждому семейному статусу показываеь, что кредиты хуже выплачивают именно незамужние/неженатые клиенты и клиенты, состоящие в гражданском браке и имеющие детей. Должники, не состоящие в браке, лидируют в группе клиентов без детей, хотя их соотношение несколько ниже неженатых клиентов с детьми. Лучше всего кредиты выплачивают семейные клиенты без детей. "
   ]
  },
  {
   "cell_type": "markdown",
   "id": "3a6b99ec",
   "metadata": {
    "deletable": false,
    "id": "3a6b99ec"
   },
   "source": [
    "**Вывод:** Клиенты, не имеющие детей, получают большее число кредитов и, соответственно, они составляют большую часть должников. Однако, если смотреть ситуацию с выплатой долгов по группам в отдельности, выяснится, что клиенты с детьми реже вовремя погашают кредиты. Большая часть клиентов с детьми или без - это женатые люди, однако худшие выплаты демонстрируют именно клиенты c детьми, не состоящие в зарегистрированных брачных отношениях или не имеющих семейного опыта."
   ]
  },
  {
   "cell_type": "markdown",
   "id": "97be82ca",
   "metadata": {
    "deletable": false,
    "editable": false,
    "id": "97be82ca"
   },
   "source": [
    "**Задание 20. Есть ли зависимость между семейным положением и возвратом кредита в срок?**"
   ]
  },
  {
   "cell_type": "code",
   "execution_count": 38,
   "id": "dc3f7ee8",
   "metadata": {
    "id": "dc3f7ee8"
   },
   "outputs": [
    {
     "data": {
      "text/plain": [
       "женат / замужем          12266\n",
       "гражданский брак          4146\n",
       "Не женат / не замужем     2796\n",
       "в разводе                 1189\n",
       "вдовец / вдова             951\n",
       "Name: family_status, dtype: int64"
      ]
     },
     "execution_count": 38,
     "metadata": {},
     "output_type": "execute_result"
    }
   ],
   "source": [
    "#посмотрим еще раз на имеющиеся категории\n",
    "\n",
    "data['family_status'].value_counts()"
   ]
  },
  {
   "cell_type": "markdown",
   "id": "9dcdd85a",
   "metadata": {},
   "source": [
    "Как и следовало из предыдущего исследования, большая часть клиентов - это женатые люди. В данном случае также можно попытаться объединить семейные статусы в группы, однако, принимая во внимание, что большая часть категорий так или иначе связана с опытом брака, а также сложность отнесения категории \"гражданский брак\" в такие большие группы, как женатые или неженатые клиенты, рассмотрим взаимозависимость на имеющихся данных без их группировки"
   ]
  },
  {
   "cell_type": "code",
   "execution_count": 39,
   "id": "b6f2b09b",
   "metadata": {},
   "outputs": [
    {
     "data": {
      "text/html": [
       "<div>\n",
       "<style scoped>\n",
       "    .dataframe tbody tr th:only-of-type {\n",
       "        vertical-align: middle;\n",
       "    }\n",
       "\n",
       "    .dataframe tbody tr th {\n",
       "        vertical-align: top;\n",
       "    }\n",
       "\n",
       "    .dataframe thead th {\n",
       "        text-align: right;\n",
       "    }\n",
       "</style>\n",
       "<table border=\"1\" class=\"dataframe\">\n",
       "  <thead>\n",
       "    <tr style=\"text-align: right;\">\n",
       "      <th></th>\n",
       "      <th>family_status</th>\n",
       "      <th>family_status_id</th>\n",
       "    </tr>\n",
       "  </thead>\n",
       "  <tbody>\n",
       "    <tr>\n",
       "      <th>0</th>\n",
       "      <td>Не женат / не замужем</td>\n",
       "      <td>2796</td>\n",
       "    </tr>\n",
       "    <tr>\n",
       "      <th>1</th>\n",
       "      <td>в разводе</td>\n",
       "      <td>1189</td>\n",
       "    </tr>\n",
       "    <tr>\n",
       "      <th>2</th>\n",
       "      <td>вдовец / вдова</td>\n",
       "      <td>951</td>\n",
       "    </tr>\n",
       "    <tr>\n",
       "      <th>3</th>\n",
       "      <td>гражданский брак</td>\n",
       "      <td>4146</td>\n",
       "    </tr>\n",
       "    <tr>\n",
       "      <th>4</th>\n",
       "      <td>женат / замужем</td>\n",
       "      <td>12266</td>\n",
       "    </tr>\n",
       "  </tbody>\n",
       "</table>\n",
       "</div>"
      ],
      "text/plain": [
       "           family_status  family_status_id\n",
       "0  Не женат / не замужем              2796\n",
       "1              в разводе              1189\n",
       "2         вдовец / вдова               951\n",
       "3       гражданский брак              4146\n",
       "4        женат / замужем             12266"
      ]
     },
     "execution_count": 39,
     "metadata": {},
     "output_type": "execute_result"
    }
   ],
   "source": [
    "#создаем таблицу для выявления зависимости\n",
    "family_influence = data.groupby(by=['family_status'],as_index=False) \\\n",
    "['family_status_id'].count() \n",
    "family_influence"
   ]
  },
  {
   "cell_type": "code",
   "execution_count": 40,
   "id": "81cb2c1a",
   "metadata": {},
   "outputs": [
    {
     "data": {
      "text/html": [
       "<div>\n",
       "<style scoped>\n",
       "    .dataframe tbody tr th:only-of-type {\n",
       "        vertical-align: middle;\n",
       "    }\n",
       "\n",
       "    .dataframe tbody tr th {\n",
       "        vertical-align: top;\n",
       "    }\n",
       "\n",
       "    .dataframe thead th {\n",
       "        text-align: right;\n",
       "    }\n",
       "</style>\n",
       "<table border=\"1\" class=\"dataframe\">\n",
       "  <thead>\n",
       "    <tr style=\"text-align: right;\">\n",
       "      <th></th>\n",
       "      <th>family_status</th>\n",
       "      <th>debt</th>\n",
       "    </tr>\n",
       "  </thead>\n",
       "  <tbody>\n",
       "    <tr>\n",
       "      <th>0</th>\n",
       "      <td>Не женат / не замужем</td>\n",
       "      <td>273</td>\n",
       "    </tr>\n",
       "    <tr>\n",
       "      <th>1</th>\n",
       "      <td>в разводе</td>\n",
       "      <td>84</td>\n",
       "    </tr>\n",
       "    <tr>\n",
       "      <th>2</th>\n",
       "      <td>вдовец / вдова</td>\n",
       "      <td>63</td>\n",
       "    </tr>\n",
       "    <tr>\n",
       "      <th>3</th>\n",
       "      <td>гражданский брак</td>\n",
       "      <td>385</td>\n",
       "    </tr>\n",
       "    <tr>\n",
       "      <th>4</th>\n",
       "      <td>женат / замужем</td>\n",
       "      <td>927</td>\n",
       "    </tr>\n",
       "  </tbody>\n",
       "</table>\n",
       "</div>"
      ],
      "text/plain": [
       "           family_status  debt\n",
       "0  Не женат / не замужем   273\n",
       "1              в разводе    84\n",
       "2         вдовец / вдова    63\n",
       "3       гражданский брак   385\n",
       "4        женат / замужем   927"
      ]
     },
     "execution_count": 40,
     "metadata": {},
     "output_type": "execute_result"
    }
   ],
   "source": [
    "#добавляем в нее столбцы по аналогии с таблицей о наличии детей\n",
    "\n",
    "temp = data[data['debt'] == 1].groupby(by=['family_status'],as_index=False) \\\n",
    "['debt'].count()\n",
    "temp"
   ]
  },
  {
   "cell_type": "code",
   "execution_count": 41,
   "id": "4928a11b",
   "metadata": {},
   "outputs": [
    {
     "data": {
      "text/html": [
       "<div>\n",
       "<style scoped>\n",
       "    .dataframe tbody tr th:only-of-type {\n",
       "        vertical-align: middle;\n",
       "    }\n",
       "\n",
       "    .dataframe tbody tr th {\n",
       "        vertical-align: top;\n",
       "    }\n",
       "\n",
       "    .dataframe thead th {\n",
       "        text-align: right;\n",
       "    }\n",
       "</style>\n",
       "<table border=\"1\" class=\"dataframe\">\n",
       "  <thead>\n",
       "    <tr style=\"text-align: right;\">\n",
       "      <th></th>\n",
       "      <th>family_status</th>\n",
       "      <th>family_status_id</th>\n",
       "      <th>having_debts</th>\n",
       "    </tr>\n",
       "  </thead>\n",
       "  <tbody>\n",
       "    <tr>\n",
       "      <th>0</th>\n",
       "      <td>Не женат / не замужем</td>\n",
       "      <td>2796</td>\n",
       "      <td>273</td>\n",
       "    </tr>\n",
       "    <tr>\n",
       "      <th>1</th>\n",
       "      <td>в разводе</td>\n",
       "      <td>1189</td>\n",
       "      <td>84</td>\n",
       "    </tr>\n",
       "    <tr>\n",
       "      <th>2</th>\n",
       "      <td>вдовец / вдова</td>\n",
       "      <td>951</td>\n",
       "      <td>63</td>\n",
       "    </tr>\n",
       "    <tr>\n",
       "      <th>3</th>\n",
       "      <td>гражданский брак</td>\n",
       "      <td>4146</td>\n",
       "      <td>385</td>\n",
       "    </tr>\n",
       "    <tr>\n",
       "      <th>4</th>\n",
       "      <td>женат / замужем</td>\n",
       "      <td>12266</td>\n",
       "      <td>927</td>\n",
       "    </tr>\n",
       "  </tbody>\n",
       "</table>\n",
       "</div>"
      ],
      "text/plain": [
       "           family_status  family_status_id  having_debts\n",
       "0  Не женат / не замужем              2796           273\n",
       "1              в разводе              1189            84\n",
       "2         вдовец / вдова               951            63\n",
       "3       гражданский брак              4146           385\n",
       "4        женат / замужем             12266           927"
      ]
     },
     "execution_count": 41,
     "metadata": {},
     "output_type": "execute_result"
    }
   ],
   "source": [
    "family_influence['having_debts'] = temp['debt']\n",
    "family_influence"
   ]
  },
  {
   "cell_type": "code",
   "execution_count": 42,
   "id": "20ca0e0f",
   "metadata": {},
   "outputs": [
    {
     "data": {
      "text/html": [
       "<div>\n",
       "<style scoped>\n",
       "    .dataframe tbody tr th:only-of-type {\n",
       "        vertical-align: middle;\n",
       "    }\n",
       "\n",
       "    .dataframe tbody tr th {\n",
       "        vertical-align: top;\n",
       "    }\n",
       "\n",
       "    .dataframe thead th {\n",
       "        text-align: right;\n",
       "    }\n",
       "</style>\n",
       "<table border=\"1\" class=\"dataframe\">\n",
       "  <thead>\n",
       "    <tr style=\"text-align: right;\">\n",
       "      <th></th>\n",
       "      <th>family_status</th>\n",
       "      <th>family_status_id</th>\n",
       "      <th>having_debts</th>\n",
       "      <th>percent_of_having_debts</th>\n",
       "    </tr>\n",
       "  </thead>\n",
       "  <tbody>\n",
       "    <tr>\n",
       "      <th>0</th>\n",
       "      <td>Не женат / не замужем</td>\n",
       "      <td>2796</td>\n",
       "      <td>273</td>\n",
       "      <td>9.763948</td>\n",
       "    </tr>\n",
       "    <tr>\n",
       "      <th>1</th>\n",
       "      <td>в разводе</td>\n",
       "      <td>1189</td>\n",
       "      <td>84</td>\n",
       "      <td>7.064760</td>\n",
       "    </tr>\n",
       "    <tr>\n",
       "      <th>2</th>\n",
       "      <td>вдовец / вдова</td>\n",
       "      <td>951</td>\n",
       "      <td>63</td>\n",
       "      <td>6.624606</td>\n",
       "    </tr>\n",
       "    <tr>\n",
       "      <th>3</th>\n",
       "      <td>гражданский брак</td>\n",
       "      <td>4146</td>\n",
       "      <td>385</td>\n",
       "      <td>9.286059</td>\n",
       "    </tr>\n",
       "    <tr>\n",
       "      <th>4</th>\n",
       "      <td>женат / замужем</td>\n",
       "      <td>12266</td>\n",
       "      <td>927</td>\n",
       "      <td>7.557476</td>\n",
       "    </tr>\n",
       "  </tbody>\n",
       "</table>\n",
       "</div>"
      ],
      "text/plain": [
       "           family_status  family_status_id  having_debts  \\\n",
       "0  Не женат / не замужем              2796           273   \n",
       "1              в разводе              1189            84   \n",
       "2         вдовец / вдова               951            63   \n",
       "3       гражданский брак              4146           385   \n",
       "4        женат / замужем             12266           927   \n",
       "\n",
       "   percent_of_having_debts  \n",
       "0                 9.763948  \n",
       "1                 7.064760  \n",
       "2                 6.624606  \n",
       "3                 9.286059  \n",
       "4                 7.557476  "
      ]
     },
     "execution_count": 42,
     "metadata": {},
     "output_type": "execute_result"
    }
   ],
   "source": [
    "family_influence['percent_of_having_debts'] = family_influence['having_debts'] \\\n",
    "/ family_influence['family_status_id'] * 100\n",
    "family_influence"
   ]
  },
  {
   "cell_type": "code",
   "execution_count": 43,
   "id": "8901fa55",
   "metadata": {},
   "outputs": [
    {
     "data": {
      "text/html": [
       "<div>\n",
       "<style scoped>\n",
       "    .dataframe tbody tr th:only-of-type {\n",
       "        vertical-align: middle;\n",
       "    }\n",
       "\n",
       "    .dataframe tbody tr th {\n",
       "        vertical-align: top;\n",
       "    }\n",
       "\n",
       "    .dataframe thead th {\n",
       "        text-align: right;\n",
       "    }\n",
       "</style>\n",
       "<table border=\"1\" class=\"dataframe\">\n",
       "  <thead>\n",
       "    <tr style=\"text-align: right;\">\n",
       "      <th></th>\n",
       "      <th>family_status</th>\n",
       "      <th>family_status_id</th>\n",
       "      <th>having_debts</th>\n",
       "      <th>percent_of_having_debts</th>\n",
       "      <th>share of clients</th>\n",
       "    </tr>\n",
       "  </thead>\n",
       "  <tbody>\n",
       "    <tr>\n",
       "      <th>0</th>\n",
       "      <td>Не женат / не замужем</td>\n",
       "      <td>2796</td>\n",
       "      <td>273</td>\n",
       "      <td>9.763948</td>\n",
       "      <td>13.097246</td>\n",
       "    </tr>\n",
       "    <tr>\n",
       "      <th>1</th>\n",
       "      <td>в разводе</td>\n",
       "      <td>1189</td>\n",
       "      <td>84</td>\n",
       "      <td>7.064760</td>\n",
       "      <td>5.569608</td>\n",
       "    </tr>\n",
       "    <tr>\n",
       "      <th>2</th>\n",
       "      <td>вдовец / вдова</td>\n",
       "      <td>951</td>\n",
       "      <td>63</td>\n",
       "      <td>6.624606</td>\n",
       "      <td>4.454750</td>\n",
       "    </tr>\n",
       "    <tr>\n",
       "      <th>3</th>\n",
       "      <td>гражданский брак</td>\n",
       "      <td>4146</td>\n",
       "      <td>385</td>\n",
       "      <td>9.286059</td>\n",
       "      <td>19.421023</td>\n",
       "    </tr>\n",
       "    <tr>\n",
       "      <th>4</th>\n",
       "      <td>женат / замужем</td>\n",
       "      <td>12266</td>\n",
       "      <td>927</td>\n",
       "      <td>7.557476</td>\n",
       "      <td>57.457373</td>\n",
       "    </tr>\n",
       "  </tbody>\n",
       "</table>\n",
       "</div>"
      ],
      "text/plain": [
       "           family_status  family_status_id  having_debts  \\\n",
       "0  Не женат / не замужем              2796           273   \n",
       "1              в разводе              1189            84   \n",
       "2         вдовец / вдова               951            63   \n",
       "3       гражданский брак              4146           385   \n",
       "4        женат / замужем             12266           927   \n",
       "\n",
       "   percent_of_having_debts  share of clients  \n",
       "0                 9.763948         13.097246  \n",
       "1                 7.064760          5.569608  \n",
       "2                 6.624606          4.454750  \n",
       "3                 9.286059         19.421023  \n",
       "4                 7.557476         57.457373  "
      ]
     },
     "execution_count": 43,
     "metadata": {},
     "output_type": "execute_result"
    }
   ],
   "source": [
    "family_influence['share of clients'] = family_influence['family_status_id'] \\\n",
    "/ all_clients * 100\n",
    "family_influence"
   ]
  },
  {
   "cell_type": "code",
   "execution_count": 44,
   "id": "1d3f4ce8",
   "metadata": {},
   "outputs": [
    {
     "data": {
      "text/html": [
       "<div>\n",
       "<style scoped>\n",
       "    .dataframe tbody tr th:only-of-type {\n",
       "        vertical-align: middle;\n",
       "    }\n",
       "\n",
       "    .dataframe tbody tr th {\n",
       "        vertical-align: top;\n",
       "    }\n",
       "\n",
       "    .dataframe thead th {\n",
       "        text-align: right;\n",
       "    }\n",
       "</style>\n",
       "<table border=\"1\" class=\"dataframe\">\n",
       "  <thead>\n",
       "    <tr style=\"text-align: right;\">\n",
       "      <th></th>\n",
       "      <th>family_status</th>\n",
       "      <th>family_status_id</th>\n",
       "      <th>having_debts</th>\n",
       "      <th>percent_of_having_debts</th>\n",
       "      <th>share of clients</th>\n",
       "      <th>share of debtors</th>\n",
       "    </tr>\n",
       "  </thead>\n",
       "  <tbody>\n",
       "    <tr>\n",
       "      <th>0</th>\n",
       "      <td>Не женат / не замужем</td>\n",
       "      <td>2796</td>\n",
       "      <td>273</td>\n",
       "      <td>9.763948</td>\n",
       "      <td>13.097246</td>\n",
       "      <td>15.762125</td>\n",
       "    </tr>\n",
       "    <tr>\n",
       "      <th>1</th>\n",
       "      <td>в разводе</td>\n",
       "      <td>1189</td>\n",
       "      <td>84</td>\n",
       "      <td>7.064760</td>\n",
       "      <td>5.569608</td>\n",
       "      <td>4.849885</td>\n",
       "    </tr>\n",
       "    <tr>\n",
       "      <th>2</th>\n",
       "      <td>вдовец / вдова</td>\n",
       "      <td>951</td>\n",
       "      <td>63</td>\n",
       "      <td>6.624606</td>\n",
       "      <td>4.454750</td>\n",
       "      <td>3.637413</td>\n",
       "    </tr>\n",
       "    <tr>\n",
       "      <th>3</th>\n",
       "      <td>гражданский брак</td>\n",
       "      <td>4146</td>\n",
       "      <td>385</td>\n",
       "      <td>9.286059</td>\n",
       "      <td>19.421023</td>\n",
       "      <td>22.228637</td>\n",
       "    </tr>\n",
       "    <tr>\n",
       "      <th>4</th>\n",
       "      <td>женат / замужем</td>\n",
       "      <td>12266</td>\n",
       "      <td>927</td>\n",
       "      <td>7.557476</td>\n",
       "      <td>57.457373</td>\n",
       "      <td>53.521940</td>\n",
       "    </tr>\n",
       "  </tbody>\n",
       "</table>\n",
       "</div>"
      ],
      "text/plain": [
       "           family_status  family_status_id  having_debts  \\\n",
       "0  Не женат / не замужем              2796           273   \n",
       "1              в разводе              1189            84   \n",
       "2         вдовец / вдова               951            63   \n",
       "3       гражданский брак              4146           385   \n",
       "4        женат / замужем             12266           927   \n",
       "\n",
       "   percent_of_having_debts  share of clients  share of debtors  \n",
       "0                 9.763948         13.097246         15.762125  \n",
       "1                 7.064760          5.569608          4.849885  \n",
       "2                 6.624606          4.454750          3.637413  \n",
       "3                 9.286059         19.421023         22.228637  \n",
       "4                 7.557476         57.457373         53.521940  "
      ]
     },
     "execution_count": 44,
     "metadata": {},
     "output_type": "execute_result"
    }
   ],
   "source": [
    "family_influence['share of debtors'] = family_influence['having_debts'] \\\n",
    "/ debtors * 100\n",
    "family_influence"
   ]
  },
  {
   "cell_type": "code",
   "execution_count": 45,
   "id": "d1175c6c",
   "metadata": {},
   "outputs": [
    {
     "data": {
      "text/html": [
       "<div>\n",
       "<style scoped>\n",
       "    .dataframe tbody tr th:only-of-type {\n",
       "        vertical-align: middle;\n",
       "    }\n",
       "\n",
       "    .dataframe tbody tr th {\n",
       "        vertical-align: top;\n",
       "    }\n",
       "\n",
       "    .dataframe thead th {\n",
       "        text-align: right;\n",
       "    }\n",
       "</style>\n",
       "<table border=\"1\" class=\"dataframe\">\n",
       "  <thead>\n",
       "    <tr style=\"text-align: right;\">\n",
       "      <th></th>\n",
       "      <th>family_status</th>\n",
       "      <th>overall_clients</th>\n",
       "      <th>having_debts</th>\n",
       "      <th>percent_of_having_debts</th>\n",
       "      <th>share of clients</th>\n",
       "      <th>share of debtors</th>\n",
       "    </tr>\n",
       "  </thead>\n",
       "  <tbody>\n",
       "    <tr>\n",
       "      <th>0</th>\n",
       "      <td>Не женат / не замужем</td>\n",
       "      <td>2796</td>\n",
       "      <td>273</td>\n",
       "      <td>9.763948</td>\n",
       "      <td>13.097246</td>\n",
       "      <td>15.762125</td>\n",
       "    </tr>\n",
       "    <tr>\n",
       "      <th>1</th>\n",
       "      <td>в разводе</td>\n",
       "      <td>1189</td>\n",
       "      <td>84</td>\n",
       "      <td>7.064760</td>\n",
       "      <td>5.569608</td>\n",
       "      <td>4.849885</td>\n",
       "    </tr>\n",
       "    <tr>\n",
       "      <th>2</th>\n",
       "      <td>вдовец / вдова</td>\n",
       "      <td>951</td>\n",
       "      <td>63</td>\n",
       "      <td>6.624606</td>\n",
       "      <td>4.454750</td>\n",
       "      <td>3.637413</td>\n",
       "    </tr>\n",
       "    <tr>\n",
       "      <th>3</th>\n",
       "      <td>гражданский брак</td>\n",
       "      <td>4146</td>\n",
       "      <td>385</td>\n",
       "      <td>9.286059</td>\n",
       "      <td>19.421023</td>\n",
       "      <td>22.228637</td>\n",
       "    </tr>\n",
       "    <tr>\n",
       "      <th>4</th>\n",
       "      <td>женат / замужем</td>\n",
       "      <td>12266</td>\n",
       "      <td>927</td>\n",
       "      <td>7.557476</td>\n",
       "      <td>57.457373</td>\n",
       "      <td>53.521940</td>\n",
       "    </tr>\n",
       "  </tbody>\n",
       "</table>\n",
       "</div>"
      ],
      "text/plain": [
       "           family_status  overall_clients  having_debts  \\\n",
       "0  Не женат / не замужем             2796           273   \n",
       "1              в разводе             1189            84   \n",
       "2         вдовец / вдова              951            63   \n",
       "3       гражданский брак             4146           385   \n",
       "4        женат / замужем            12266           927   \n",
       "\n",
       "   percent_of_having_debts  share of clients  share of debtors  \n",
       "0                 9.763948         13.097246         15.762125  \n",
       "1                 7.064760          5.569608          4.849885  \n",
       "2                 6.624606          4.454750          3.637413  \n",
       "3                 9.286059         19.421023         22.228637  \n",
       "4                 7.557476         57.457373         53.521940  "
      ]
     },
     "execution_count": 45,
     "metadata": {},
     "output_type": "execute_result"
    }
   ],
   "source": [
    "family_influence = family_influence.rename(columns={'family_status_id': 'overall_clients'})\n",
    "family_influence"
   ]
  },
  {
   "cell_type": "markdown",
   "id": "1cef7837",
   "metadata": {
    "deletable": false,
    "id": "1cef7837"
   },
   "source": [
    "**Вывод:** Согласно таблице, хуже кредит погашают клиенты, не состоящие ранее в официальном браке. Опыт брачных отношений несколько улучшает подход клиентов к своеременной выплате кредита."
   ]
  },
  {
   "cell_type": "markdown",
   "id": "1e8b2fca",
   "metadata": {
    "deletable": false,
    "editable": false,
    "id": "1e8b2fca"
   },
   "source": [
    "**Задание 21. Есть ли зависимость между уровнем дохода и возвратом кредита в срок?**"
   ]
  },
  {
   "cell_type": "code",
   "execution_count": 46,
   "id": "bb66fb0f",
   "metadata": {},
   "outputs": [
    {
     "data": {
      "text/html": [
       "<div>\n",
       "<style scoped>\n",
       "    .dataframe tbody tr th:only-of-type {\n",
       "        vertical-align: middle;\n",
       "    }\n",
       "\n",
       "    .dataframe tbody tr th {\n",
       "        vertical-align: top;\n",
       "    }\n",
       "\n",
       "    .dataframe thead th {\n",
       "        text-align: right;\n",
       "    }\n",
       "</style>\n",
       "<table border=\"1\" class=\"dataframe\">\n",
       "  <thead>\n",
       "    <tr style=\"text-align: right;\">\n",
       "      <th></th>\n",
       "      <th>total_income_category</th>\n",
       "      <th>total_income</th>\n",
       "    </tr>\n",
       "  </thead>\n",
       "  <tbody>\n",
       "    <tr>\n",
       "      <th>0</th>\n",
       "      <td>A</td>\n",
       "      <td>25</td>\n",
       "    </tr>\n",
       "    <tr>\n",
       "      <th>1</th>\n",
       "      <td>B</td>\n",
       "      <td>5014</td>\n",
       "    </tr>\n",
       "    <tr>\n",
       "      <th>2</th>\n",
       "      <td>C</td>\n",
       "      <td>15938</td>\n",
       "    </tr>\n",
       "    <tr>\n",
       "      <th>3</th>\n",
       "      <td>D</td>\n",
       "      <td>349</td>\n",
       "    </tr>\n",
       "    <tr>\n",
       "      <th>4</th>\n",
       "      <td>E</td>\n",
       "      <td>22</td>\n",
       "    </tr>\n",
       "  </tbody>\n",
       "</table>\n",
       "</div>"
      ],
      "text/plain": [
       "  total_income_category  total_income\n",
       "0                     A            25\n",
       "1                     B          5014\n",
       "2                     C         15938\n",
       "3                     D           349\n",
       "4                     E            22"
      ]
     },
     "execution_count": 46,
     "metadata": {},
     "output_type": "execute_result"
    }
   ],
   "source": [
    "# составляем таблицу по аналогии с предыдущими заданиями\n",
    "\n",
    "income_influence = data.groupby(by=['total_income_category'],as_index=False) \\\n",
    "['total_income'].count()\n",
    "income_influence"
   ]
  },
  {
   "cell_type": "code",
   "execution_count": 47,
   "id": "ef58e098",
   "metadata": {},
   "outputs": [
    {
     "data": {
      "text/html": [
       "<div>\n",
       "<style scoped>\n",
       "    .dataframe tbody tr th:only-of-type {\n",
       "        vertical-align: middle;\n",
       "    }\n",
       "\n",
       "    .dataframe tbody tr th {\n",
       "        vertical-align: top;\n",
       "    }\n",
       "\n",
       "    .dataframe thead th {\n",
       "        text-align: right;\n",
       "    }\n",
       "</style>\n",
       "<table border=\"1\" class=\"dataframe\">\n",
       "  <thead>\n",
       "    <tr style=\"text-align: right;\">\n",
       "      <th></th>\n",
       "      <th>total_income_category</th>\n",
       "      <th>debt</th>\n",
       "    </tr>\n",
       "  </thead>\n",
       "  <tbody>\n",
       "    <tr>\n",
       "      <th>0</th>\n",
       "      <td>A</td>\n",
       "      <td>2</td>\n",
       "    </tr>\n",
       "    <tr>\n",
       "      <th>1</th>\n",
       "      <td>B</td>\n",
       "      <td>354</td>\n",
       "    </tr>\n",
       "    <tr>\n",
       "      <th>2</th>\n",
       "      <td>C</td>\n",
       "      <td>1353</td>\n",
       "    </tr>\n",
       "    <tr>\n",
       "      <th>3</th>\n",
       "      <td>D</td>\n",
       "      <td>21</td>\n",
       "    </tr>\n",
       "    <tr>\n",
       "      <th>4</th>\n",
       "      <td>E</td>\n",
       "      <td>2</td>\n",
       "    </tr>\n",
       "  </tbody>\n",
       "</table>\n",
       "</div>"
      ],
      "text/plain": [
       "  total_income_category  debt\n",
       "0                     A     2\n",
       "1                     B   354\n",
       "2                     C  1353\n",
       "3                     D    21\n",
       "4                     E     2"
      ]
     },
     "execution_count": 47,
     "metadata": {},
     "output_type": "execute_result"
    }
   ],
   "source": [
    "temp = data[data['debt'] == 1].groupby(by=['total_income_category'],as_index=False) \\\n",
    "['debt'].count()\n",
    "temp"
   ]
  },
  {
   "cell_type": "code",
   "execution_count": 48,
   "id": "19758706",
   "metadata": {},
   "outputs": [
    {
     "data": {
      "text/html": [
       "<div>\n",
       "<style scoped>\n",
       "    .dataframe tbody tr th:only-of-type {\n",
       "        vertical-align: middle;\n",
       "    }\n",
       "\n",
       "    .dataframe tbody tr th {\n",
       "        vertical-align: top;\n",
       "    }\n",
       "\n",
       "    .dataframe thead th {\n",
       "        text-align: right;\n",
       "    }\n",
       "</style>\n",
       "<table border=\"1\" class=\"dataframe\">\n",
       "  <thead>\n",
       "    <tr style=\"text-align: right;\">\n",
       "      <th></th>\n",
       "      <th>total_income_category</th>\n",
       "      <th>total_income</th>\n",
       "      <th>having_debts</th>\n",
       "    </tr>\n",
       "  </thead>\n",
       "  <tbody>\n",
       "    <tr>\n",
       "      <th>0</th>\n",
       "      <td>A</td>\n",
       "      <td>25</td>\n",
       "      <td>2</td>\n",
       "    </tr>\n",
       "    <tr>\n",
       "      <th>1</th>\n",
       "      <td>B</td>\n",
       "      <td>5014</td>\n",
       "      <td>354</td>\n",
       "    </tr>\n",
       "    <tr>\n",
       "      <th>2</th>\n",
       "      <td>C</td>\n",
       "      <td>15938</td>\n",
       "      <td>1353</td>\n",
       "    </tr>\n",
       "    <tr>\n",
       "      <th>3</th>\n",
       "      <td>D</td>\n",
       "      <td>349</td>\n",
       "      <td>21</td>\n",
       "    </tr>\n",
       "    <tr>\n",
       "      <th>4</th>\n",
       "      <td>E</td>\n",
       "      <td>22</td>\n",
       "      <td>2</td>\n",
       "    </tr>\n",
       "  </tbody>\n",
       "</table>\n",
       "</div>"
      ],
      "text/plain": [
       "  total_income_category  total_income  having_debts\n",
       "0                     A            25             2\n",
       "1                     B          5014           354\n",
       "2                     C         15938          1353\n",
       "3                     D           349            21\n",
       "4                     E            22             2"
      ]
     },
     "execution_count": 48,
     "metadata": {},
     "output_type": "execute_result"
    }
   ],
   "source": [
    "income_influence['having_debts'] = temp['debt']\n",
    "income_influence"
   ]
  },
  {
   "cell_type": "code",
   "execution_count": 49,
   "id": "f9d7063d",
   "metadata": {},
   "outputs": [
    {
     "data": {
      "text/html": [
       "<div>\n",
       "<style scoped>\n",
       "    .dataframe tbody tr th:only-of-type {\n",
       "        vertical-align: middle;\n",
       "    }\n",
       "\n",
       "    .dataframe tbody tr th {\n",
       "        vertical-align: top;\n",
       "    }\n",
       "\n",
       "    .dataframe thead th {\n",
       "        text-align: right;\n",
       "    }\n",
       "</style>\n",
       "<table border=\"1\" class=\"dataframe\">\n",
       "  <thead>\n",
       "    <tr style=\"text-align: right;\">\n",
       "      <th></th>\n",
       "      <th>total_income_category</th>\n",
       "      <th>total_income</th>\n",
       "      <th>having_debts</th>\n",
       "      <th>percent_of_having_debts</th>\n",
       "    </tr>\n",
       "  </thead>\n",
       "  <tbody>\n",
       "    <tr>\n",
       "      <th>0</th>\n",
       "      <td>A</td>\n",
       "      <td>25</td>\n",
       "      <td>2</td>\n",
       "      <td>8.000000</td>\n",
       "    </tr>\n",
       "    <tr>\n",
       "      <th>1</th>\n",
       "      <td>B</td>\n",
       "      <td>5014</td>\n",
       "      <td>354</td>\n",
       "      <td>7.060231</td>\n",
       "    </tr>\n",
       "    <tr>\n",
       "      <th>2</th>\n",
       "      <td>C</td>\n",
       "      <td>15938</td>\n",
       "      <td>1353</td>\n",
       "      <td>8.489145</td>\n",
       "    </tr>\n",
       "    <tr>\n",
       "      <th>3</th>\n",
       "      <td>D</td>\n",
       "      <td>349</td>\n",
       "      <td>21</td>\n",
       "      <td>6.017192</td>\n",
       "    </tr>\n",
       "    <tr>\n",
       "      <th>4</th>\n",
       "      <td>E</td>\n",
       "      <td>22</td>\n",
       "      <td>2</td>\n",
       "      <td>9.090909</td>\n",
       "    </tr>\n",
       "  </tbody>\n",
       "</table>\n",
       "</div>"
      ],
      "text/plain": [
       "  total_income_category  total_income  having_debts  percent_of_having_debts\n",
       "0                     A            25             2                 8.000000\n",
       "1                     B          5014           354                 7.060231\n",
       "2                     C         15938          1353                 8.489145\n",
       "3                     D           349            21                 6.017192\n",
       "4                     E            22             2                 9.090909"
      ]
     },
     "execution_count": 49,
     "metadata": {},
     "output_type": "execute_result"
    }
   ],
   "source": [
    "income_influence['percent_of_having_debts'] = income_influence['having_debts'] \\\n",
    "/ income_influence['total_income'] * 100\n",
    "income_influence"
   ]
  },
  {
   "cell_type": "code",
   "execution_count": 50,
   "id": "c95d3a2e",
   "metadata": {},
   "outputs": [
    {
     "data": {
      "text/html": [
       "<div>\n",
       "<style scoped>\n",
       "    .dataframe tbody tr th:only-of-type {\n",
       "        vertical-align: middle;\n",
       "    }\n",
       "\n",
       "    .dataframe tbody tr th {\n",
       "        vertical-align: top;\n",
       "    }\n",
       "\n",
       "    .dataframe thead th {\n",
       "        text-align: right;\n",
       "    }\n",
       "</style>\n",
       "<table border=\"1\" class=\"dataframe\">\n",
       "  <thead>\n",
       "    <tr style=\"text-align: right;\">\n",
       "      <th></th>\n",
       "      <th>total_income_category</th>\n",
       "      <th>total_income</th>\n",
       "      <th>having_debts</th>\n",
       "      <th>percent_of_having_debts</th>\n",
       "      <th>share of clients</th>\n",
       "    </tr>\n",
       "  </thead>\n",
       "  <tbody>\n",
       "    <tr>\n",
       "      <th>0</th>\n",
       "      <td>A</td>\n",
       "      <td>25</td>\n",
       "      <td>2</td>\n",
       "      <td>8.000000</td>\n",
       "      <td>0.117107</td>\n",
       "    </tr>\n",
       "    <tr>\n",
       "      <th>1</th>\n",
       "      <td>B</td>\n",
       "      <td>5014</td>\n",
       "      <td>354</td>\n",
       "      <td>7.060231</td>\n",
       "      <td>23.486978</td>\n",
       "    </tr>\n",
       "    <tr>\n",
       "      <th>2</th>\n",
       "      <td>C</td>\n",
       "      <td>15938</td>\n",
       "      <td>1353</td>\n",
       "      <td>8.489145</td>\n",
       "      <td>74.658048</td>\n",
       "    </tr>\n",
       "    <tr>\n",
       "      <th>3</th>\n",
       "      <td>D</td>\n",
       "      <td>349</td>\n",
       "      <td>21</td>\n",
       "      <td>6.017192</td>\n",
       "      <td>1.634814</td>\n",
       "    </tr>\n",
       "    <tr>\n",
       "      <th>4</th>\n",
       "      <td>E</td>\n",
       "      <td>22</td>\n",
       "      <td>2</td>\n",
       "      <td>9.090909</td>\n",
       "      <td>0.103054</td>\n",
       "    </tr>\n",
       "  </tbody>\n",
       "</table>\n",
       "</div>"
      ],
      "text/plain": [
       "  total_income_category  total_income  having_debts  percent_of_having_debts  \\\n",
       "0                     A            25             2                 8.000000   \n",
       "1                     B          5014           354                 7.060231   \n",
       "2                     C         15938          1353                 8.489145   \n",
       "3                     D           349            21                 6.017192   \n",
       "4                     E            22             2                 9.090909   \n",
       "\n",
       "   share of clients  \n",
       "0          0.117107  \n",
       "1         23.486978  \n",
       "2         74.658048  \n",
       "3          1.634814  \n",
       "4          0.103054  "
      ]
     },
     "execution_count": 50,
     "metadata": {},
     "output_type": "execute_result"
    }
   ],
   "source": [
    "income_influence['share of clients'] = income_influence['total_income'] \\\n",
    "/ all_clients * 100\n",
    "income_influence"
   ]
  },
  {
   "cell_type": "code",
   "execution_count": 51,
   "id": "5fa0d37b",
   "metadata": {},
   "outputs": [
    {
     "data": {
      "text/html": [
       "<div>\n",
       "<style scoped>\n",
       "    .dataframe tbody tr th:only-of-type {\n",
       "        vertical-align: middle;\n",
       "    }\n",
       "\n",
       "    .dataframe tbody tr th {\n",
       "        vertical-align: top;\n",
       "    }\n",
       "\n",
       "    .dataframe thead th {\n",
       "        text-align: right;\n",
       "    }\n",
       "</style>\n",
       "<table border=\"1\" class=\"dataframe\">\n",
       "  <thead>\n",
       "    <tr style=\"text-align: right;\">\n",
       "      <th></th>\n",
       "      <th>total_income_category</th>\n",
       "      <th>total_income</th>\n",
       "      <th>having_debts</th>\n",
       "      <th>percent_of_having_debts</th>\n",
       "      <th>share of clients</th>\n",
       "      <th>share of debtors</th>\n",
       "    </tr>\n",
       "  </thead>\n",
       "  <tbody>\n",
       "    <tr>\n",
       "      <th>0</th>\n",
       "      <td>A</td>\n",
       "      <td>25</td>\n",
       "      <td>2</td>\n",
       "      <td>8.000000</td>\n",
       "      <td>0.117107</td>\n",
       "      <td>0.115473</td>\n",
       "    </tr>\n",
       "    <tr>\n",
       "      <th>1</th>\n",
       "      <td>B</td>\n",
       "      <td>5014</td>\n",
       "      <td>354</td>\n",
       "      <td>7.060231</td>\n",
       "      <td>23.486978</td>\n",
       "      <td>20.438799</td>\n",
       "    </tr>\n",
       "    <tr>\n",
       "      <th>2</th>\n",
       "      <td>C</td>\n",
       "      <td>15938</td>\n",
       "      <td>1353</td>\n",
       "      <td>8.489145</td>\n",
       "      <td>74.658048</td>\n",
       "      <td>78.117783</td>\n",
       "    </tr>\n",
       "    <tr>\n",
       "      <th>3</th>\n",
       "      <td>D</td>\n",
       "      <td>349</td>\n",
       "      <td>21</td>\n",
       "      <td>6.017192</td>\n",
       "      <td>1.634814</td>\n",
       "      <td>1.212471</td>\n",
       "    </tr>\n",
       "    <tr>\n",
       "      <th>4</th>\n",
       "      <td>E</td>\n",
       "      <td>22</td>\n",
       "      <td>2</td>\n",
       "      <td>9.090909</td>\n",
       "      <td>0.103054</td>\n",
       "      <td>0.115473</td>\n",
       "    </tr>\n",
       "  </tbody>\n",
       "</table>\n",
       "</div>"
      ],
      "text/plain": [
       "  total_income_category  total_income  having_debts  percent_of_having_debts  \\\n",
       "0                     A            25             2                 8.000000   \n",
       "1                     B          5014           354                 7.060231   \n",
       "2                     C         15938          1353                 8.489145   \n",
       "3                     D           349            21                 6.017192   \n",
       "4                     E            22             2                 9.090909   \n",
       "\n",
       "   share of clients  share of debtors  \n",
       "0          0.117107          0.115473  \n",
       "1         23.486978         20.438799  \n",
       "2         74.658048         78.117783  \n",
       "3          1.634814          1.212471  \n",
       "4          0.103054          0.115473  "
      ]
     },
     "execution_count": 51,
     "metadata": {},
     "output_type": "execute_result"
    }
   ],
   "source": [
    "income_influence['share of debtors'] = income_influence['having_debts'] \\\n",
    "/ debtors * 100\n",
    "income_influence"
   ]
  },
  {
   "cell_type": "code",
   "execution_count": 52,
   "id": "cd7e3720",
   "metadata": {
    "id": "cd7e3720"
   },
   "outputs": [
    {
     "data": {
      "text/html": [
       "<div>\n",
       "<style scoped>\n",
       "    .dataframe tbody tr th:only-of-type {\n",
       "        vertical-align: middle;\n",
       "    }\n",
       "\n",
       "    .dataframe tbody tr th {\n",
       "        vertical-align: top;\n",
       "    }\n",
       "\n",
       "    .dataframe thead th {\n",
       "        text-align: right;\n",
       "    }\n",
       "</style>\n",
       "<table border=\"1\" class=\"dataframe\">\n",
       "  <thead>\n",
       "    <tr style=\"text-align: right;\">\n",
       "      <th></th>\n",
       "      <th>total_income_category</th>\n",
       "      <th>overall_clients</th>\n",
       "      <th>having_debts</th>\n",
       "      <th>percent_of_having_debts</th>\n",
       "      <th>share of clients</th>\n",
       "      <th>share of debtors</th>\n",
       "    </tr>\n",
       "  </thead>\n",
       "  <tbody>\n",
       "    <tr>\n",
       "      <th>0</th>\n",
       "      <td>A</td>\n",
       "      <td>25</td>\n",
       "      <td>2</td>\n",
       "      <td>8.000000</td>\n",
       "      <td>0.117107</td>\n",
       "      <td>0.115473</td>\n",
       "    </tr>\n",
       "    <tr>\n",
       "      <th>1</th>\n",
       "      <td>B</td>\n",
       "      <td>5014</td>\n",
       "      <td>354</td>\n",
       "      <td>7.060231</td>\n",
       "      <td>23.486978</td>\n",
       "      <td>20.438799</td>\n",
       "    </tr>\n",
       "    <tr>\n",
       "      <th>2</th>\n",
       "      <td>C</td>\n",
       "      <td>15938</td>\n",
       "      <td>1353</td>\n",
       "      <td>8.489145</td>\n",
       "      <td>74.658048</td>\n",
       "      <td>78.117783</td>\n",
       "    </tr>\n",
       "    <tr>\n",
       "      <th>3</th>\n",
       "      <td>D</td>\n",
       "      <td>349</td>\n",
       "      <td>21</td>\n",
       "      <td>6.017192</td>\n",
       "      <td>1.634814</td>\n",
       "      <td>1.212471</td>\n",
       "    </tr>\n",
       "    <tr>\n",
       "      <th>4</th>\n",
       "      <td>E</td>\n",
       "      <td>22</td>\n",
       "      <td>2</td>\n",
       "      <td>9.090909</td>\n",
       "      <td>0.103054</td>\n",
       "      <td>0.115473</td>\n",
       "    </tr>\n",
       "  </tbody>\n",
       "</table>\n",
       "</div>"
      ],
      "text/plain": [
       "  total_income_category  overall_clients  having_debts  \\\n",
       "0                     A               25             2   \n",
       "1                     B             5014           354   \n",
       "2                     C            15938          1353   \n",
       "3                     D              349            21   \n",
       "4                     E               22             2   \n",
       "\n",
       "   percent_of_having_debts  share of clients  share of debtors  \n",
       "0                 8.000000          0.117107          0.115473  \n",
       "1                 7.060231         23.486978         20.438799  \n",
       "2                 8.489145         74.658048         78.117783  \n",
       "3                 6.017192          1.634814          1.212471  \n",
       "4                 9.090909          0.103054          0.115473  "
      ]
     },
     "execution_count": 52,
     "metadata": {},
     "output_type": "execute_result"
    }
   ],
   "source": [
    "income_influence = income_influence.rename \\\n",
    "(columns={'total_income': 'overall_clients'})\n",
    "income_influence"
   ]
  },
  {
   "cell_type": "markdown",
   "id": "09a5a05b",
   "metadata": {},
   "source": [
    "Наибольший процент невозвратов по кредиту приходится на самую малочисленную кредитную группу с наименьшим доходом, а также, что ожидаемо - на самую большую группу клиентов со средним доходом. Следом идут клиенты из группы \"А, которые, несмотря на высокий доход, не стремятся оплачивать кредит вовремя. Несколько лучшие показатели показывают клиенты с доходом выше среднего, а также противоположная им категория клиентов с доходами ниже среднего."
   ]
  },
  {
   "cell_type": "markdown",
   "id": "d2853107",
   "metadata": {},
   "source": [
    "Дополнительно посмотрим, какие категории занятости представлены в группах доходов"
   ]
  },
  {
   "cell_type": "code",
   "execution_count": 53,
   "id": "752adcb8",
   "metadata": {},
   "outputs": [
    {
     "data": {
      "text/plain": [
       "total_income_category  income_type    \n",
       "A                      компаньон            15\n",
       "                       сотрудник            10\n",
       "B                      сотрудник          2360\n",
       "                       компаньон          1733\n",
       "                       пенсионер           552\n",
       "                       госслужащий         366\n",
       "                       предприниматель       2\n",
       "                       безработный           1\n",
       "C                      сотрудник          8511\n",
       "                       компаньон          3275\n",
       "                       пенсионер          3089\n",
       "                       госслужащий        1060\n",
       "                       безработный           1\n",
       "                       в декрете             1\n",
       "                       студент               1\n",
       "D                      пенсионер           164\n",
       "                       сотрудник           136\n",
       "                       компаньон            25\n",
       "                       госслужащий          24\n",
       "E                      пенсионер            15\n",
       "                       сотрудник             5\n",
       "                       госслужащий           1\n",
       "                       компаньон             1\n",
       "Name: income_type, dtype: int64"
      ]
     },
     "execution_count": 53,
     "metadata": {},
     "output_type": "execute_result"
    }
   ],
   "source": [
    "clients_positions = data.groupby(['total_income_category']) \\\n",
    "['income_type'].value_counts()\n",
    "clients_positions"
   ]
  },
  {
   "cell_type": "markdown",
   "id": "a6f48fd9",
   "metadata": {},
   "source": [
    "В самых многочисленных категориях \"B\", \"C\" большая часть клиентов приходится на сотрудников. В категориях лиц с доходом ниже среднего преобладают пенсионеры, а в категории с самым высоким доходом лидируют компаньоны. Посмотрим отдельно на расклад с должниками"
   ]
  },
  {
   "cell_type": "code",
   "execution_count": 54,
   "id": "5650637b",
   "metadata": {},
   "outputs": [
    {
     "data": {
      "text/plain": [
       "total_income_category  income_type\n",
       "A                      компаньон        2\n",
       "B                      сотрудник      196\n",
       "                       компаньон      109\n",
       "                       пенсионер       31\n",
       "                       госслужащий     18\n",
       "C                      сотрудник      846\n",
       "                       компаньон      262\n",
       "                       пенсионер      176\n",
       "                       госслужащий     67\n",
       "                       безработный      1\n",
       "                       в декрете        1\n",
       "D                      сотрудник       12\n",
       "                       пенсионер        7\n",
       "                       госслужащий      1\n",
       "                       компаньон        1\n",
       "E                      пенсионер        2\n",
       "Name: income_type, dtype: int64"
      ]
     },
     "execution_count": 54,
     "metadata": {},
     "output_type": "execute_result"
    }
   ],
   "source": [
    "debtors_positions = data[data['debt'] == 1].groupby(['total_income_category']) \\\n",
    "['income_type'].value_counts()\n",
    "debtors_positions"
   ]
  },
  {
   "cell_type": "code",
   "execution_count": 55,
   "id": "7dca9d7d",
   "metadata": {},
   "outputs": [
    {
     "data": {
      "text/plain": [
       "total_income_category  income_type    \n",
       "A                      компаньон           13.333333\n",
       "                       сотрудник                 NaN\n",
       "B                      безработный               NaN\n",
       "                       госслужащий          4.918033\n",
       "                       компаньон            6.289671\n",
       "                       пенсионер            5.615942\n",
       "                       предприниматель           NaN\n",
       "                       сотрудник            8.305085\n",
       "C                      безработный        100.000000\n",
       "                       в декрете          100.000000\n",
       "                       госслужащий          6.320755\n",
       "                       компаньон            8.000000\n",
       "                       пенсионер            5.697637\n",
       "                       сотрудник            9.940078\n",
       "                       студент                   NaN\n",
       "D                      госслужащий          4.166667\n",
       "                       компаньон            4.000000\n",
       "                       пенсионер            4.268293\n",
       "                       сотрудник            8.823529\n",
       "E                      госслужащий               NaN\n",
       "                       компаньон                 NaN\n",
       "                       пенсионер           13.333333\n",
       "                       сотрудник                 NaN\n",
       "Name: income_type, dtype: float64"
      ]
     },
     "execution_count": 55,
     "metadata": {},
     "output_type": "execute_result"
    }
   ],
   "source": [
    "debtors_positions / clients_positions * 100"
   ]
  },
  {
   "cell_type": "markdown",
   "id": "51ee6f04",
   "metadata": {},
   "source": [
    "Как видно, ситуация несколько отличается от общих характеристик клиентов. В самой большой категории \"С\" имеют долги единственные представители подкатегорий \"безработный\" и \"в декрете\". В целом в самых больших группах \"В\" и \"С\" должниками становятся представители самого большого класса сотрудников. Нарушителями кредитных договоров в диаметрально противоположных классах становятся только пенсионеры и компаньоны, в то время как пенсионеры с доходом ниже среднего выплачивают кредиты лучше, чем специалисты. "
   ]
  },
  {
   "cell_type": "markdown",
   "id": "7a052662",
   "metadata": {},
   "source": [
    "Также рассмотрим взаимосвязь дохода и стажа."
   ]
  },
  {
   "cell_type": "code",
   "execution_count": 56,
   "id": "69dc8871",
   "metadata": {},
   "outputs": [],
   "source": [
    "#приведем значения в столбце с днями стажа к числовым значениям \n",
    "#и переведем в годовое исчисление\n",
    "\n",
    "data['years_employed'] = data['days_employed'].astype('int') / 365"
   ]
  },
  {
   "cell_type": "code",
   "execution_count": 57,
   "id": "7127507b",
   "metadata": {},
   "outputs": [
    {
     "data": {
      "text/html": [
       "<div>\n",
       "<style scoped>\n",
       "    .dataframe tbody tr th:only-of-type {\n",
       "        vertical-align: middle;\n",
       "    }\n",
       "\n",
       "    .dataframe tbody tr th {\n",
       "        vertical-align: top;\n",
       "    }\n",
       "\n",
       "    .dataframe thead th {\n",
       "        text-align: right;\n",
       "    }\n",
       "</style>\n",
       "<table border=\"1\" class=\"dataframe\">\n",
       "  <thead>\n",
       "    <tr style=\"text-align: right;\">\n",
       "      <th></th>\n",
       "      <th>children</th>\n",
       "      <th>days_employed</th>\n",
       "      <th>dob_years</th>\n",
       "      <th>education</th>\n",
       "      <th>education_id</th>\n",
       "      <th>family_status</th>\n",
       "      <th>family_status_id</th>\n",
       "      <th>gender</th>\n",
       "      <th>income_type</th>\n",
       "      <th>debt</th>\n",
       "      <th>total_income</th>\n",
       "      <th>purpose</th>\n",
       "      <th>total_income_category</th>\n",
       "      <th>purpose_category</th>\n",
       "      <th>children_category</th>\n",
       "      <th>years_employed</th>\n",
       "    </tr>\n",
       "  </thead>\n",
       "  <tbody>\n",
       "    <tr>\n",
       "      <th>0</th>\n",
       "      <td>1</td>\n",
       "      <td>8437.673028</td>\n",
       "      <td>42</td>\n",
       "      <td>высшее</td>\n",
       "      <td>0</td>\n",
       "      <td>женат / замужем</td>\n",
       "      <td>0</td>\n",
       "      <td>F</td>\n",
       "      <td>сотрудник</td>\n",
       "      <td>0</td>\n",
       "      <td>253875</td>\n",
       "      <td>покупка жилья</td>\n",
       "      <td>B</td>\n",
       "      <td>операции с недвижимостью</td>\n",
       "      <td>есть дети</td>\n",
       "      <td>23</td>\n",
       "    </tr>\n",
       "    <tr>\n",
       "      <th>1</th>\n",
       "      <td>1</td>\n",
       "      <td>4024.803754</td>\n",
       "      <td>36</td>\n",
       "      <td>среднее</td>\n",
       "      <td>1</td>\n",
       "      <td>женат / замужем</td>\n",
       "      <td>0</td>\n",
       "      <td>F</td>\n",
       "      <td>сотрудник</td>\n",
       "      <td>0</td>\n",
       "      <td>112080</td>\n",
       "      <td>приобретение автомобиля</td>\n",
       "      <td>C</td>\n",
       "      <td>операции с автомобилем</td>\n",
       "      <td>есть дети</td>\n",
       "      <td>11</td>\n",
       "    </tr>\n",
       "    <tr>\n",
       "      <th>2</th>\n",
       "      <td>0</td>\n",
       "      <td>5623.422610</td>\n",
       "      <td>33</td>\n",
       "      <td>среднее</td>\n",
       "      <td>1</td>\n",
       "      <td>женат / замужем</td>\n",
       "      <td>0</td>\n",
       "      <td>M</td>\n",
       "      <td>сотрудник</td>\n",
       "      <td>0</td>\n",
       "      <td>145885</td>\n",
       "      <td>покупка жилья</td>\n",
       "      <td>C</td>\n",
       "      <td>операции с недвижимостью</td>\n",
       "      <td>детей нет</td>\n",
       "      <td>15</td>\n",
       "    </tr>\n",
       "    <tr>\n",
       "      <th>3</th>\n",
       "      <td>3</td>\n",
       "      <td>4124.747207</td>\n",
       "      <td>32</td>\n",
       "      <td>среднее</td>\n",
       "      <td>1</td>\n",
       "      <td>женат / замужем</td>\n",
       "      <td>0</td>\n",
       "      <td>M</td>\n",
       "      <td>сотрудник</td>\n",
       "      <td>0</td>\n",
       "      <td>267628</td>\n",
       "      <td>дополнительное образование</td>\n",
       "      <td>B</td>\n",
       "      <td>получение образования</td>\n",
       "      <td>есть дети</td>\n",
       "      <td>11</td>\n",
       "    </tr>\n",
       "    <tr>\n",
       "      <th>4</th>\n",
       "      <td>0</td>\n",
       "      <td>340266.072047</td>\n",
       "      <td>53</td>\n",
       "      <td>среднее</td>\n",
       "      <td>1</td>\n",
       "      <td>гражданский брак</td>\n",
       "      <td>1</td>\n",
       "      <td>F</td>\n",
       "      <td>пенсионер</td>\n",
       "      <td>0</td>\n",
       "      <td>158616</td>\n",
       "      <td>сыграть свадьбу</td>\n",
       "      <td>C</td>\n",
       "      <td>проведение свадьбы</td>\n",
       "      <td>детей нет</td>\n",
       "      <td>932</td>\n",
       "    </tr>\n",
       "    <tr>\n",
       "      <th>5</th>\n",
       "      <td>0</td>\n",
       "      <td>926.185831</td>\n",
       "      <td>27</td>\n",
       "      <td>высшее</td>\n",
       "      <td>0</td>\n",
       "      <td>гражданский брак</td>\n",
       "      <td>1</td>\n",
       "      <td>M</td>\n",
       "      <td>компаньон</td>\n",
       "      <td>0</td>\n",
       "      <td>255763</td>\n",
       "      <td>покупка жилья</td>\n",
       "      <td>B</td>\n",
       "      <td>операции с недвижимостью</td>\n",
       "      <td>детей нет</td>\n",
       "      <td>2</td>\n",
       "    </tr>\n",
       "    <tr>\n",
       "      <th>6</th>\n",
       "      <td>0</td>\n",
       "      <td>2879.202052</td>\n",
       "      <td>43</td>\n",
       "      <td>высшее</td>\n",
       "      <td>0</td>\n",
       "      <td>женат / замужем</td>\n",
       "      <td>0</td>\n",
       "      <td>F</td>\n",
       "      <td>компаньон</td>\n",
       "      <td>0</td>\n",
       "      <td>240525</td>\n",
       "      <td>операции с жильем</td>\n",
       "      <td>B</td>\n",
       "      <td>операции с недвижимостью</td>\n",
       "      <td>детей нет</td>\n",
       "      <td>7</td>\n",
       "    </tr>\n",
       "    <tr>\n",
       "      <th>7</th>\n",
       "      <td>0</td>\n",
       "      <td>152.779569</td>\n",
       "      <td>50</td>\n",
       "      <td>среднее</td>\n",
       "      <td>1</td>\n",
       "      <td>женат / замужем</td>\n",
       "      <td>0</td>\n",
       "      <td>M</td>\n",
       "      <td>сотрудник</td>\n",
       "      <td>0</td>\n",
       "      <td>135823</td>\n",
       "      <td>образование</td>\n",
       "      <td>C</td>\n",
       "      <td>получение образования</td>\n",
       "      <td>детей нет</td>\n",
       "      <td>0</td>\n",
       "    </tr>\n",
       "    <tr>\n",
       "      <th>8</th>\n",
       "      <td>2</td>\n",
       "      <td>6929.865299</td>\n",
       "      <td>35</td>\n",
       "      <td>высшее</td>\n",
       "      <td>0</td>\n",
       "      <td>гражданский брак</td>\n",
       "      <td>1</td>\n",
       "      <td>F</td>\n",
       "      <td>сотрудник</td>\n",
       "      <td>0</td>\n",
       "      <td>95856</td>\n",
       "      <td>на проведение свадьбы</td>\n",
       "      <td>C</td>\n",
       "      <td>проведение свадьбы</td>\n",
       "      <td>есть дети</td>\n",
       "      <td>18</td>\n",
       "    </tr>\n",
       "    <tr>\n",
       "      <th>9</th>\n",
       "      <td>0</td>\n",
       "      <td>2188.756445</td>\n",
       "      <td>41</td>\n",
       "      <td>среднее</td>\n",
       "      <td>1</td>\n",
       "      <td>женат / замужем</td>\n",
       "      <td>0</td>\n",
       "      <td>M</td>\n",
       "      <td>сотрудник</td>\n",
       "      <td>0</td>\n",
       "      <td>144425</td>\n",
       "      <td>покупка жилья для семьи</td>\n",
       "      <td>C</td>\n",
       "      <td>операции с недвижимостью</td>\n",
       "      <td>детей нет</td>\n",
       "      <td>5</td>\n",
       "    </tr>\n",
       "    <tr>\n",
       "      <th>10</th>\n",
       "      <td>2</td>\n",
       "      <td>4171.483647</td>\n",
       "      <td>36</td>\n",
       "      <td>высшее</td>\n",
       "      <td>0</td>\n",
       "      <td>женат / замужем</td>\n",
       "      <td>0</td>\n",
       "      <td>M</td>\n",
       "      <td>компаньон</td>\n",
       "      <td>0</td>\n",
       "      <td>113943</td>\n",
       "      <td>покупка недвижимости</td>\n",
       "      <td>C</td>\n",
       "      <td>операции с недвижимостью</td>\n",
       "      <td>есть дети</td>\n",
       "      <td>11</td>\n",
       "    </tr>\n",
       "    <tr>\n",
       "      <th>11</th>\n",
       "      <td>0</td>\n",
       "      <td>792.701887</td>\n",
       "      <td>40</td>\n",
       "      <td>среднее</td>\n",
       "      <td>1</td>\n",
       "      <td>женат / замужем</td>\n",
       "      <td>0</td>\n",
       "      <td>F</td>\n",
       "      <td>сотрудник</td>\n",
       "      <td>0</td>\n",
       "      <td>77069</td>\n",
       "      <td>покупка коммерческой недвижимости</td>\n",
       "      <td>C</td>\n",
       "      <td>операции с недвижимостью</td>\n",
       "      <td>детей нет</td>\n",
       "      <td>2</td>\n",
       "    </tr>\n",
       "    <tr>\n",
       "      <th>12</th>\n",
       "      <td>0</td>\n",
       "      <td>365286.622650</td>\n",
       "      <td>65</td>\n",
       "      <td>среднее</td>\n",
       "      <td>1</td>\n",
       "      <td>гражданский брак</td>\n",
       "      <td>1</td>\n",
       "      <td>M</td>\n",
       "      <td>пенсионер</td>\n",
       "      <td>0</td>\n",
       "      <td>118514</td>\n",
       "      <td>сыграть свадьбу</td>\n",
       "      <td>C</td>\n",
       "      <td>проведение свадьбы</td>\n",
       "      <td>детей нет</td>\n",
       "      <td>1000</td>\n",
       "    </tr>\n",
       "    <tr>\n",
       "      <th>13</th>\n",
       "      <td>0</td>\n",
       "      <td>1846.641941</td>\n",
       "      <td>54</td>\n",
       "      <td>неоконченное высшее</td>\n",
       "      <td>2</td>\n",
       "      <td>женат / замужем</td>\n",
       "      <td>0</td>\n",
       "      <td>F</td>\n",
       "      <td>сотрудник</td>\n",
       "      <td>0</td>\n",
       "      <td>130458</td>\n",
       "      <td>приобретение автомобиля</td>\n",
       "      <td>C</td>\n",
       "      <td>операции с автомобилем</td>\n",
       "      <td>детей нет</td>\n",
       "      <td>5</td>\n",
       "    </tr>\n",
       "    <tr>\n",
       "      <th>14</th>\n",
       "      <td>0</td>\n",
       "      <td>1844.956182</td>\n",
       "      <td>56</td>\n",
       "      <td>высшее</td>\n",
       "      <td>0</td>\n",
       "      <td>гражданский брак</td>\n",
       "      <td>1</td>\n",
       "      <td>F</td>\n",
       "      <td>компаньон</td>\n",
       "      <td>1</td>\n",
       "      <td>165127</td>\n",
       "      <td>покупка жилой недвижимости</td>\n",
       "      <td>C</td>\n",
       "      <td>операции с недвижимостью</td>\n",
       "      <td>детей нет</td>\n",
       "      <td>5</td>\n",
       "    </tr>\n",
       "    <tr>\n",
       "      <th>15</th>\n",
       "      <td>1</td>\n",
       "      <td>972.364419</td>\n",
       "      <td>26</td>\n",
       "      <td>среднее</td>\n",
       "      <td>1</td>\n",
       "      <td>женат / замужем</td>\n",
       "      <td>0</td>\n",
       "      <td>F</td>\n",
       "      <td>сотрудник</td>\n",
       "      <td>0</td>\n",
       "      <td>116820</td>\n",
       "      <td>строительство собственной недвижимости</td>\n",
       "      <td>C</td>\n",
       "      <td>операции с недвижимостью</td>\n",
       "      <td>есть дети</td>\n",
       "      <td>2</td>\n",
       "    </tr>\n",
       "    <tr>\n",
       "      <th>16</th>\n",
       "      <td>0</td>\n",
       "      <td>1719.934226</td>\n",
       "      <td>35</td>\n",
       "      <td>среднее</td>\n",
       "      <td>1</td>\n",
       "      <td>женат / замужем</td>\n",
       "      <td>0</td>\n",
       "      <td>F</td>\n",
       "      <td>сотрудник</td>\n",
       "      <td>0</td>\n",
       "      <td>289202</td>\n",
       "      <td>недвижимость</td>\n",
       "      <td>B</td>\n",
       "      <td>операции с недвижимостью</td>\n",
       "      <td>детей нет</td>\n",
       "      <td>4</td>\n",
       "    </tr>\n",
       "    <tr>\n",
       "      <th>17</th>\n",
       "      <td>0</td>\n",
       "      <td>2369.999720</td>\n",
       "      <td>33</td>\n",
       "      <td>высшее</td>\n",
       "      <td>0</td>\n",
       "      <td>гражданский брак</td>\n",
       "      <td>1</td>\n",
       "      <td>M</td>\n",
       "      <td>сотрудник</td>\n",
       "      <td>0</td>\n",
       "      <td>90410</td>\n",
       "      <td>строительство недвижимости</td>\n",
       "      <td>C</td>\n",
       "      <td>операции с недвижимостью</td>\n",
       "      <td>детей нет</td>\n",
       "      <td>6</td>\n",
       "    </tr>\n",
       "    <tr>\n",
       "      <th>18</th>\n",
       "      <td>0</td>\n",
       "      <td>400281.136913</td>\n",
       "      <td>53</td>\n",
       "      <td>среднее</td>\n",
       "      <td>1</td>\n",
       "      <td>вдовец / вдова</td>\n",
       "      <td>2</td>\n",
       "      <td>F</td>\n",
       "      <td>пенсионер</td>\n",
       "      <td>0</td>\n",
       "      <td>56823</td>\n",
       "      <td>на покупку подержанного автомобиля</td>\n",
       "      <td>C</td>\n",
       "      <td>операции с автомобилем</td>\n",
       "      <td>детей нет</td>\n",
       "      <td>1096</td>\n",
       "    </tr>\n",
       "    <tr>\n",
       "      <th>19</th>\n",
       "      <td>0</td>\n",
       "      <td>10038.818549</td>\n",
       "      <td>48</td>\n",
       "      <td>среднее</td>\n",
       "      <td>1</td>\n",
       "      <td>в разводе</td>\n",
       "      <td>3</td>\n",
       "      <td>F</td>\n",
       "      <td>сотрудник</td>\n",
       "      <td>0</td>\n",
       "      <td>242831</td>\n",
       "      <td>на покупку своего автомобиля</td>\n",
       "      <td>B</td>\n",
       "      <td>операции с автомобилем</td>\n",
       "      <td>детей нет</td>\n",
       "      <td>27</td>\n",
       "    </tr>\n",
       "  </tbody>\n",
       "</table>\n",
       "</div>"
      ],
      "text/plain": [
       "    children  days_employed  dob_years            education  education_id  \\\n",
       "0          1    8437.673028         42               высшее             0   \n",
       "1          1    4024.803754         36              среднее             1   \n",
       "2          0    5623.422610         33              среднее             1   \n",
       "3          3    4124.747207         32              среднее             1   \n",
       "4          0  340266.072047         53              среднее             1   \n",
       "5          0     926.185831         27               высшее             0   \n",
       "6          0    2879.202052         43               высшее             0   \n",
       "7          0     152.779569         50              среднее             1   \n",
       "8          2    6929.865299         35               высшее             0   \n",
       "9          0    2188.756445         41              среднее             1   \n",
       "10         2    4171.483647         36               высшее             0   \n",
       "11         0     792.701887         40              среднее             1   \n",
       "12         0  365286.622650         65              среднее             1   \n",
       "13         0    1846.641941         54  неоконченное высшее             2   \n",
       "14         0    1844.956182         56               высшее             0   \n",
       "15         1     972.364419         26              среднее             1   \n",
       "16         0    1719.934226         35              среднее             1   \n",
       "17         0    2369.999720         33               высшее             0   \n",
       "18         0  400281.136913         53              среднее             1   \n",
       "19         0   10038.818549         48              среднее             1   \n",
       "\n",
       "       family_status  family_status_id gender income_type  debt  total_income  \\\n",
       "0    женат / замужем                 0      F   сотрудник     0        253875   \n",
       "1    женат / замужем                 0      F   сотрудник     0        112080   \n",
       "2    женат / замужем                 0      M   сотрудник     0        145885   \n",
       "3    женат / замужем                 0      M   сотрудник     0        267628   \n",
       "4   гражданский брак                 1      F   пенсионер     0        158616   \n",
       "5   гражданский брак                 1      M   компаньон     0        255763   \n",
       "6    женат / замужем                 0      F   компаньон     0        240525   \n",
       "7    женат / замужем                 0      M   сотрудник     0        135823   \n",
       "8   гражданский брак                 1      F   сотрудник     0         95856   \n",
       "9    женат / замужем                 0      M   сотрудник     0        144425   \n",
       "10   женат / замужем                 0      M   компаньон     0        113943   \n",
       "11   женат / замужем                 0      F   сотрудник     0         77069   \n",
       "12  гражданский брак                 1      M   пенсионер     0        118514   \n",
       "13   женат / замужем                 0      F   сотрудник     0        130458   \n",
       "14  гражданский брак                 1      F   компаньон     1        165127   \n",
       "15   женат / замужем                 0      F   сотрудник     0        116820   \n",
       "16   женат / замужем                 0      F   сотрудник     0        289202   \n",
       "17  гражданский брак                 1      M   сотрудник     0         90410   \n",
       "18    вдовец / вдова                 2      F   пенсионер     0         56823   \n",
       "19         в разводе                 3      F   сотрудник     0        242831   \n",
       "\n",
       "                                   purpose total_income_category  \\\n",
       "0                            покупка жилья                     B   \n",
       "1                  приобретение автомобиля                     C   \n",
       "2                            покупка жилья                     C   \n",
       "3               дополнительное образование                     B   \n",
       "4                          сыграть свадьбу                     C   \n",
       "5                            покупка жилья                     B   \n",
       "6                        операции с жильем                     B   \n",
       "7                              образование                     C   \n",
       "8                    на проведение свадьбы                     C   \n",
       "9                  покупка жилья для семьи                     C   \n",
       "10                    покупка недвижимости                     C   \n",
       "11       покупка коммерческой недвижимости                     C   \n",
       "12                         сыграть свадьбу                     C   \n",
       "13                 приобретение автомобиля                     C   \n",
       "14              покупка жилой недвижимости                     C   \n",
       "15  строительство собственной недвижимости                     C   \n",
       "16                            недвижимость                     B   \n",
       "17              строительство недвижимости                     C   \n",
       "18      на покупку подержанного автомобиля                     C   \n",
       "19            на покупку своего автомобиля                     B   \n",
       "\n",
       "            purpose_category children_category  years_employed  \n",
       "0   операции с недвижимостью         есть дети              23  \n",
       "1     операции с автомобилем         есть дети              11  \n",
       "2   операции с недвижимостью         детей нет              15  \n",
       "3      получение образования         есть дети              11  \n",
       "4         проведение свадьбы         детей нет             932  \n",
       "5   операции с недвижимостью         детей нет               2  \n",
       "6   операции с недвижимостью         детей нет               7  \n",
       "7      получение образования         детей нет               0  \n",
       "8         проведение свадьбы         есть дети              18  \n",
       "9   операции с недвижимостью         детей нет               5  \n",
       "10  операции с недвижимостью         есть дети              11  \n",
       "11  операции с недвижимостью         детей нет               2  \n",
       "12        проведение свадьбы         детей нет            1000  \n",
       "13    операции с автомобилем         детей нет               5  \n",
       "14  операции с недвижимостью         детей нет               5  \n",
       "15  операции с недвижимостью         есть дети               2  \n",
       "16  операции с недвижимостью         детей нет               4  \n",
       "17  операции с недвижимостью         детей нет               6  \n",
       "18    операции с автомобилем         детей нет            1096  \n",
       "19    операции с автомобилем         детей нет              27  "
      ]
     },
     "execution_count": 57,
     "metadata": {},
     "output_type": "execute_result"
    }
   ],
   "source": [
    "data['years_employed'] = data['years_employed'].astype('int')\n",
    "data.head(20)"
   ]
  },
  {
   "cell_type": "markdown",
   "id": "b8a24e97",
   "metadata": {},
   "source": [
    "В данных заметны аномалии: посмотрим, какие значения могут быть неверными"
   ]
  },
  {
   "cell_type": "code",
   "execution_count": 58,
   "id": "d4cc3df0",
   "metadata": {},
   "outputs": [
    {
     "data": {
      "text/plain": [
       "[23,\n",
       " 11,\n",
       " 15,\n",
       " 11,\n",
       " 932,\n",
       " 2,\n",
       " 7,\n",
       " 0,\n",
       " 18,\n",
       " 5,\n",
       " 11,\n",
       " 2,\n",
       " 1000,\n",
       " 5,\n",
       " 5,\n",
       " 2,\n",
       " 4,\n",
       " 6,\n",
       " 1096,\n",
       " 27,\n",
       " 3,\n",
       " 0,\n",
       " 4,\n",
       " 0,\n",
       " 927,\n",
       " 996,\n",
       " 7,\n",
       " 1,\n",
       " 1,\n",
       " 1000,\n",
       " 919,\n",
       " 4,\n",
       " 12,\n",
       " 4,\n",
       " 12,\n",
       " 1079,\n",
       " 0,\n",
       " 17,\n",
       " 1,\n",
       " 1,\n",
       " 2,\n",
       " 7,\n",
       " 3,\n",
       " 11,\n",
       " 3,\n",
       " 2,\n",
       " 6,\n",
       " 7,\n",
       " 9,\n",
       " 3,\n",
       " 969,\n",
       " 19,\n",
       " 9,\n",
       " 11,\n",
       " 9,\n",
       " 1000,\n",
       " 1014,\n",
       " 6,\n",
       " 0,\n",
       " 11,\n",
       " 6,\n",
       " 8,\n",
       " 21,\n",
       " 3,\n",
       " 0,\n",
       " 4,\n",
       " 2,\n",
       " 1000,\n",
       " 5,\n",
       " 2,\n",
       " 7,\n",
       " 926,\n",
       " 7,\n",
       " 4,\n",
       " 14,\n",
       " 8,\n",
       " 6,\n",
       " 1,\n",
       " 985,\n",
       " 8,\n",
       " 0,\n",
       " 0,\n",
       " 4,\n",
       " 4,\n",
       " 19,\n",
       " 0,\n",
       " 1051,\n",
       " 925,\n",
       " 1022,\n",
       " 0,\n",
       " 4,\n",
       " 13,\n",
       " 4,\n",
       " 3,\n",
       " 4,\n",
       " 1,\n",
       " 4,\n",
       " 4,\n",
       " 999,\n",
       " 949,\n",
       " 1,\n",
       " 1072,\n",
       " 3,\n",
       " 2,\n",
       " 1003,\n",
       " 5,\n",
       " 0,\n",
       " 4,\n",
       " 2,\n",
       " 5,\n",
       " 1,\n",
       " 35,\n",
       " 5,\n",
       " 16,\n",
       " 4,\n",
       " 6,\n",
       " 1,\n",
       " 10,\n",
       " 7,\n",
       " 1047,\n",
       " 4,\n",
       " 4,\n",
       " 0,\n",
       " 15,\n",
       " 2,\n",
       " 0,\n",
       " 6,\n",
       " 14,\n",
       " 1038,\n",
       " 989,\n",
       " 2,\n",
       " 1,\n",
       " 3,\n",
       " 943,\n",
       " 11,\n",
       " 4,\n",
       " 980,\n",
       " 5,\n",
       " 7,\n",
       " 4,\n",
       " 8,\n",
       " 4,\n",
       " 953,\n",
       " 5,\n",
       " 5,\n",
       " 1000,\n",
       " 3,\n",
       " 15,\n",
       " 13,\n",
       " 7,\n",
       " 1078,\n",
       " 2,\n",
       " 9,\n",
       " 0,\n",
       " 4,\n",
       " 3,\n",
       " 992,\n",
       " 954,\n",
       " 30,\n",
       " 1016,\n",
       " 5,\n",
       " 3,\n",
       " 10,\n",
       " 20,\n",
       " 6,\n",
       " 3,\n",
       " 1,\n",
       " 19,\n",
       " 991,\n",
       " 1019,\n",
       " 0,\n",
       " 26,\n",
       " 12,\n",
       " 24,\n",
       " 4,\n",
       " 4,\n",
       " 997,\n",
       " 5,\n",
       " 1084,\n",
       " 3,\n",
       " 0,\n",
       " 4,\n",
       " 22,\n",
       " 0,\n",
       " 1012,\n",
       " 13,\n",
       " 0,\n",
       " 2,\n",
       " 0,\n",
       " 4,\n",
       " 0,\n",
       " 922,\n",
       " 7,\n",
       " 1058,\n",
       " 0,\n",
       " 0,\n",
       " 4,\n",
       " 33,\n",
       " 3,\n",
       " 0,\n",
       " 15,\n",
       " 17,\n",
       " 4,\n",
       " 7,\n",
       " 916,\n",
       " 4,\n",
       " 997,\n",
       " 3,\n",
       " 2,\n",
       " 0,\n",
       " 937,\n",
       " 1,\n",
       " 16,\n",
       " 1,\n",
       " 3,\n",
       " 0,\n",
       " 0,\n",
       " 1053,\n",
       " 8,\n",
       " 1,\n",
       " 4,\n",
       " 1051,\n",
       " 0,\n",
       " 925,\n",
       " 2,\n",
       " 1,\n",
       " 5,\n",
       " 4,\n",
       " 929,\n",
       " 922,\n",
       " 5,\n",
       " 0,\n",
       " 10,\n",
       " 4,\n",
       " 16,\n",
       " 2,\n",
       " 1084,\n",
       " 7,\n",
       " 1,\n",
       " 14,\n",
       " 13,\n",
       " 4,\n",
       " 7,\n",
       " 1,\n",
       " 2,\n",
       " 5,\n",
       " 4,\n",
       " 1000,\n",
       " 8,\n",
       " 4,\n",
       " 4,\n",
       " 1042,\n",
       " 15,\n",
       " 980,\n",
       " 2,\n",
       " 17,\n",
       " 4,\n",
       " 2,\n",
       " 2,\n",
       " 4,\n",
       " 4,\n",
       " 7,\n",
       " 4,\n",
       " 1051,\n",
       " 4,\n",
       " 7,\n",
       " 904,\n",
       " 914,\n",
       " 7,\n",
       " 0,\n",
       " 5,\n",
       " 954,\n",
       " 15,\n",
       " 1087,\n",
       " 5,\n",
       " 4,\n",
       " 23,\n",
       " 7,\n",
       " 4,\n",
       " 4,\n",
       " 1000,\n",
       " 5,\n",
       " 11,\n",
       " 1054,\n",
       " 25,\n",
       " 2,\n",
       " 26,\n",
       " 3,\n",
       " 3,\n",
       " 1,\n",
       " 2,\n",
       " 10,\n",
       " 988,\n",
       " 6,\n",
       " 2,\n",
       " 2,\n",
       " 1,\n",
       " 2,\n",
       " 3,\n",
       " 0,\n",
       " 2,\n",
       " 0,\n",
       " 4,\n",
       " 1005,\n",
       " 20,\n",
       " 2,\n",
       " 0,\n",
       " 2,\n",
       " 1056,\n",
       " 21,\n",
       " 970,\n",
       " 4,\n",
       " 1,\n",
       " 1,\n",
       " 1068,\n",
       " 2,\n",
       " 4,\n",
       " 8,\n",
       " 15,\n",
       " 4,\n",
       " 4,\n",
       " 1000,\n",
       " 3,\n",
       " 21,\n",
       " 6,\n",
       " 965,\n",
       " 8,\n",
       " 4,\n",
       " 2,\n",
       " 3,\n",
       " 0,\n",
       " 7,\n",
       " 3,\n",
       " 11,\n",
       " 0,\n",
       " 10,\n",
       " 11,\n",
       " 3,\n",
       " 4,\n",
       " 0,\n",
       " 0,\n",
       " 4,\n",
       " 3,\n",
       " 0,\n",
       " 3,\n",
       " 6,\n",
       " 3,\n",
       " 992,\n",
       " 3,\n",
       " 1084,\n",
       " 18,\n",
       " 8,\n",
       " 2,\n",
       " 8,\n",
       " 14,\n",
       " 7,\n",
       " 1,\n",
       " 2,\n",
       " 0,\n",
       " 4,\n",
       " 1000,\n",
       " 2,\n",
       " 5,\n",
       " 4,\n",
       " 3,\n",
       " 7,\n",
       " 1,\n",
       " 0,\n",
       " 1,\n",
       " 10,\n",
       " 4,\n",
       " 2,\n",
       " 10,\n",
       " 3,\n",
       " 6,\n",
       " 4,\n",
       " 24,\n",
       " 1,\n",
       " 19,\n",
       " 15,\n",
       " 16,\n",
       " 2,\n",
       " 4,\n",
       " 1,\n",
       " 1025,\n",
       " 5,\n",
       " 6,\n",
       " 991,\n",
       " 7,\n",
       " 3,\n",
       " 6,\n",
       " 2,\n",
       " 1017,\n",
       " 7,\n",
       " 1,\n",
       " 12,\n",
       " 34,\n",
       " 7,\n",
       " 0,\n",
       " 3,\n",
       " 19,\n",
       " 37,\n",
       " 1008,\n",
       " 1,\n",
       " 1067,\n",
       " 14,\n",
       " 1,\n",
       " 2,\n",
       " 11,\n",
       " 4,\n",
       " 1071,\n",
       " 9,\n",
       " 4,\n",
       " 11,\n",
       " 1000,\n",
       " 1000,\n",
       " 14,\n",
       " 907,\n",
       " 6,\n",
       " 1024,\n",
       " 4,\n",
       " 3,\n",
       " 0,\n",
       " 4,\n",
       " 6,\n",
       " 6,\n",
       " 30,\n",
       " 1089,\n",
       " 0,\n",
       " 0,\n",
       " 23,\n",
       " 7,\n",
       " 2,\n",
       " 1098,\n",
       " 10,\n",
       " 17,\n",
       " 0,\n",
       " 16,\n",
       " 4,\n",
       " 954,\n",
       " 0,\n",
       " 1067,\n",
       " 0,\n",
       " 4,\n",
       " 1,\n",
       " 14,\n",
       " 15,\n",
       " 1071,\n",
       " 30,\n",
       " 4,\n",
       " 14,\n",
       " 4,\n",
       " 1,\n",
       " 5,\n",
       " 1,\n",
       " 8,\n",
       " 5,\n",
       " 4,\n",
       " 927,\n",
       " 9,\n",
       " 0,\n",
       " 962,\n",
       " 1,\n",
       " 2,\n",
       " 8,\n",
       " 1000,\n",
       " 10,\n",
       " 1067,\n",
       " 9,\n",
       " 17,\n",
       " 3,\n",
       " 6,\n",
       " 2,\n",
       " 11,\n",
       " 23,\n",
       " 1026,\n",
       " 7,\n",
       " 0,\n",
       " 8,\n",
       " 0,\n",
       " 4,\n",
       " 15,\n",
       " 22,\n",
       " 3,\n",
       " 0,\n",
       " 1082,\n",
       " 2,\n",
       " 1077,\n",
       " 0,\n",
       " 4,\n",
       " 7,\n",
       " 2,\n",
       " 4,\n",
       " 1,\n",
       " 7,\n",
       " 7,\n",
       " 32,\n",
       " 16,\n",
       " 4,\n",
       " 1,\n",
       " 918,\n",
       " 943,\n",
       " 4,\n",
       " 19,\n",
       " 1021,\n",
       " 9,\n",
       " 8,\n",
       " 7,\n",
       " 11,\n",
       " 2,\n",
       " 3,\n",
       " 1087,\n",
       " 9,\n",
       " 6,\n",
       " 4,\n",
       " 1,\n",
       " 32,\n",
       " 4,\n",
       " 1,\n",
       " 4,\n",
       " 12,\n",
       " 7,\n",
       " 0,\n",
       " 10,\n",
       " 0,\n",
       " 9,\n",
       " 2,\n",
       " 3,\n",
       " 0,\n",
       " 1095,\n",
       " 5,\n",
       " 5,\n",
       " 9,\n",
       " 1,\n",
       " 0,\n",
       " 1014,\n",
       " 2,\n",
       " 9,\n",
       " 930,\n",
       " 9,\n",
       " 4,\n",
       " 12,\n",
       " 3,\n",
       " 1017,\n",
       " 9,\n",
       " 0,\n",
       " 5,\n",
       " 4,\n",
       " 1071,\n",
       " 1,\n",
       " 0,\n",
       " 3,\n",
       " 3,\n",
       " 4,\n",
       " 1018,\n",
       " 1,\n",
       " 0,\n",
       " 10,\n",
       " 22,\n",
       " 6,\n",
       " 32,\n",
       " 11,\n",
       " 901,\n",
       " 932,\n",
       " 8,\n",
       " 0,\n",
       " 1,\n",
       " 4,\n",
       " 0,\n",
       " 10,\n",
       " 1,\n",
       " 7,\n",
       " 7,\n",
       " 0,\n",
       " 23,\n",
       " 6,\n",
       " 9,\n",
       " 1090,\n",
       " 3,\n",
       " 972,\n",
       " 1,\n",
       " 938,\n",
       " 4,\n",
       " 6,\n",
       " 1084,\n",
       " 1,\n",
       " 5,\n",
       " 5,\n",
       " 6,\n",
       " 1,\n",
       " 3,\n",
       " 17,\n",
       " 2,\n",
       " 4,\n",
       " 0,\n",
       " 22,\n",
       " 1,\n",
       " 1,\n",
       " 3,\n",
       " 1,\n",
       " 0,\n",
       " 5,\n",
       " 2,\n",
       " 0,\n",
       " 7,\n",
       " 12,\n",
       " 1,\n",
       " 1,\n",
       " 1,\n",
       " 5,\n",
       " 0,\n",
       " 0,\n",
       " 8,\n",
       " 3,\n",
       " 17,\n",
       " 3,\n",
       " 13,\n",
       " 4,\n",
       " 1087,\n",
       " 1,\n",
       " 5,\n",
       " 10,\n",
       " 0,\n",
       " 3,\n",
       " 1016,\n",
       " 4,\n",
       " 7,\n",
       " 938,\n",
       " 2,\n",
       " 8,\n",
       " 10,\n",
       " 5,\n",
       " 2,\n",
       " 31,\n",
       " 916,\n",
       " 25,\n",
       " 12,\n",
       " 4,\n",
       " 0,\n",
       " 12,\n",
       " 14,\n",
       " 1,\n",
       " 0,\n",
       " 4,\n",
       " 4,\n",
       " 14,\n",
       " 3,\n",
       " 4,\n",
       " 1028,\n",
       " 4,\n",
       " 4,\n",
       " 4,\n",
       " 2,\n",
       " 2,\n",
       " 0,\n",
       " 1093,\n",
       " 11,\n",
       " 3,\n",
       " 17,\n",
       " 3,\n",
       " 8,\n",
       " 17,\n",
       " 2,\n",
       " 13,\n",
       " 1088,\n",
       " 7,\n",
       " 3,\n",
       " 1033,\n",
       " 7,\n",
       " 3,\n",
       " 2,\n",
       " 14,\n",
       " 957,\n",
       " 2,\n",
       " 6,\n",
       " 1,\n",
       " 3,\n",
       " 5,\n",
       " 7,\n",
       " 4,\n",
       " 1,\n",
       " 4,\n",
       " 0,\n",
       " 5,\n",
       " 1000,\n",
       " 906,\n",
       " 10,\n",
       " 955,\n",
       " 2,\n",
       " 0,\n",
       " 0,\n",
       " 1085,\n",
       " 3,\n",
       " 999,\n",
       " 959,\n",
       " 13,\n",
       " 4,\n",
       " 4,\n",
       " 1044,\n",
       " 1099,\n",
       " 3,\n",
       " 1,\n",
       " 1016,\n",
       " 2,\n",
       " 0,\n",
       " 1,\n",
       " 1,\n",
       " 8,\n",
       " 931,\n",
       " 4,\n",
       " 4,\n",
       " 20,\n",
       " 3,\n",
       " 19,\n",
       " 1002,\n",
       " 2,\n",
       " 4,\n",
       " 920,\n",
       " 1,\n",
       " 13,\n",
       " 4,\n",
       " 0,\n",
       " 3,\n",
       " 966,\n",
       " 929,\n",
       " 0,\n",
       " 6,\n",
       " 13,\n",
       " 5,\n",
       " 6,\n",
       " 1,\n",
       " 2,\n",
       " 4,\n",
       " 3,\n",
       " 2,\n",
       " 3,\n",
       " 998,\n",
       " 1008,\n",
       " 4,\n",
       " 3,\n",
       " 4,\n",
       " 4,\n",
       " 10,\n",
       " 9,\n",
       " 5,\n",
       " 2,\n",
       " 1070,\n",
       " 3,\n",
       " 1,\n",
       " 3,\n",
       " 1,\n",
       " 3,\n",
       " 0,\n",
       " 932,\n",
       " 9,\n",
       " 4,\n",
       " 2,\n",
       " 8,\n",
       " 4,\n",
       " 946,\n",
       " 7,\n",
       " 2,\n",
       " 1005,\n",
       " 6,\n",
       " 1,\n",
       " 5,\n",
       " 9,\n",
       " 2,\n",
       " 3,\n",
       " 1,\n",
       " 0,\n",
       " 1000,\n",
       " 2,\n",
       " 3,\n",
       " 4,\n",
       " 8,\n",
       " 0,\n",
       " 28,\n",
       " 7,\n",
       " 5,\n",
       " 1,\n",
       " 13,\n",
       " 5,\n",
       " 4,\n",
       " 12,\n",
       " 8,\n",
       " 1068,\n",
       " 0,\n",
       " 6,\n",
       " 1061,\n",
       " 968,\n",
       " 2,\n",
       " 0,\n",
       " 6,\n",
       " 0,\n",
       " 2,\n",
       " 3,\n",
       " 0,\n",
       " 20,\n",
       " 0,\n",
       " 5,\n",
       " 4,\n",
       " 4,\n",
       " 8,\n",
       " 1,\n",
       " 7,\n",
       " 1013,\n",
       " 1053,\n",
       " 0,\n",
       " 3,\n",
       " 4,\n",
       " 2,\n",
       " 7,\n",
       " 3,\n",
       " 6,\n",
       " 3,\n",
       " 0,\n",
       " 958,\n",
       " 5,\n",
       " 5,\n",
       " 2,\n",
       " 1005,\n",
       " 1,\n",
       " 4,\n",
       " 4,\n",
       " 4,\n",
       " 1,\n",
       " 11,\n",
       " 4,\n",
       " 4,\n",
       " 2,\n",
       " 1,\n",
       " 0,\n",
       " 0,\n",
       " 4,\n",
       " 2,\n",
       " 1075,\n",
       " 1,\n",
       " 5,\n",
       " 3,\n",
       " 1,\n",
       " 968,\n",
       " 2,\n",
       " 4,\n",
       " 21,\n",
       " 4,\n",
       " 3,\n",
       " 4,\n",
       " 1008,\n",
       " 9,\n",
       " 17,\n",
       " 8,\n",
       " 7,\n",
       " 0,\n",
       " 4,\n",
       " 3,\n",
       " 1000,\n",
       " 12,\n",
       " 3,\n",
       " 7,\n",
       " 19,\n",
       " 4,\n",
       " 0,\n",
       " 16,\n",
       " 6,\n",
       " 2,\n",
       " 7,\n",
       " 16,\n",
       " 8,\n",
       " 1043,\n",
       " 924,\n",
       " 1,\n",
       " 2,\n",
       " 4,\n",
       " 2,\n",
       " 2,\n",
       " 0,\n",
       " 16,\n",
       " 6,\n",
       " 4,\n",
       " 905,\n",
       " 2,\n",
       " 4,\n",
       " 2,\n",
       " 4,\n",
       " 2,\n",
       " 958,\n",
       " 1,\n",
       " 4,\n",
       " 994,\n",
       " 5,\n",
       " 6,\n",
       " 6,\n",
       " 5,\n",
       " 26,\n",
       " 3,\n",
       " 5,\n",
       " 9,\n",
       " 5,\n",
       " 994,\n",
       " 921,\n",
       " 11,\n",
       " 0,\n",
       " 3,\n",
       " 12,\n",
       " 4,\n",
       " 7,\n",
       " 3,\n",
       " 1096,\n",
       " 5,\n",
       " 0,\n",
       " 5,\n",
       " 8,\n",
       " 1000,\n",
       " 7,\n",
       " 15,\n",
       " 949,\n",
       " 4,\n",
       " 4,\n",
       " 22,\n",
       " 8,\n",
       " 7,\n",
       " 17,\n",
       " 2,\n",
       " 4,\n",
       " 4,\n",
       " 21,\n",
       " 912,\n",
       " 954,\n",
       " 1024,\n",
       " 7,\n",
       " 3,\n",
       " 2,\n",
       " 5,\n",
       " 12,\n",
       " 1,\n",
       " 2,\n",
       " 7,\n",
       " 0,\n",
       " 944,\n",
       " 1,\n",
       " 913,\n",
       " 6,\n",
       " 4,\n",
       " 15,\n",
       " 1,\n",
       " 6,\n",
       " 1016,\n",
       " 1,\n",
       " 2,\n",
       " 1,\n",
       " 14,\n",
       " 4,\n",
       " 4,\n",
       " 989,\n",
       " 1066,\n",
       " 922,\n",
       " 7,\n",
       " 15,\n",
       " 10,\n",
       " 1032,\n",
       " 1080,\n",
       " 1,\n",
       " 1012,\n",
       " 940,\n",
       " 7,\n",
       " 4,\n",
       " 4,\n",
       " 3,\n",
       " 10,\n",
       " 6,\n",
       " 4,\n",
       " 5,\n",
       " 4,\n",
       " 1098,\n",
       " 2,\n",
       " 3,\n",
       " 1010,\n",
       " 1,\n",
       " 6,\n",
       " 1037,\n",
       " 4,\n",
       " 3,\n",
       " 4,\n",
       " 4,\n",
       " 6,\n",
       " 3,\n",
       " 8,\n",
       " 13,\n",
       " 0,\n",
       " 5,\n",
       " 29,\n",
       " 5,\n",
       " 6,\n",
       " 24,\n",
       " 5,\n",
       " 5,\n",
       " 4,\n",
       " 1000,\n",
       " 22,\n",
       " ...]"
      ]
     },
     "execution_count": 58,
     "metadata": {},
     "output_type": "execute_result"
    }
   ],
   "source": [
    "years = list(data['years_employed'])\n",
    "years"
   ]
  },
  {
   "cell_type": "code",
   "execution_count": 59,
   "id": "df30aec5",
   "metadata": {},
   "outputs": [
    {
     "data": {
      "text/plain": [
       "{0,\n",
       " 1,\n",
       " 2,\n",
       " 3,\n",
       " 4,\n",
       " 5,\n",
       " 6,\n",
       " 7,\n",
       " 8,\n",
       " 9,\n",
       " 10,\n",
       " 11,\n",
       " 12,\n",
       " 13,\n",
       " 14,\n",
       " 15,\n",
       " 16,\n",
       " 17,\n",
       " 18,\n",
       " 19,\n",
       " 20,\n",
       " 21,\n",
       " 22,\n",
       " 23,\n",
       " 24,\n",
       " 25,\n",
       " 26,\n",
       " 27,\n",
       " 28,\n",
       " 29,\n",
       " 30,\n",
       " 31,\n",
       " 32,\n",
       " 33,\n",
       " 34,\n",
       " 35,\n",
       " 36,\n",
       " 37,\n",
       " 38,\n",
       " 39,\n",
       " 40,\n",
       " 41,\n",
       " 42,\n",
       " 43,\n",
       " 44,\n",
       " 45,\n",
       " 48,\n",
       " 50,\n",
       " 900,\n",
       " 901,\n",
       " 902,\n",
       " 903,\n",
       " 904,\n",
       " 905,\n",
       " 906,\n",
       " 907,\n",
       " 908,\n",
       " 909,\n",
       " 910,\n",
       " 911,\n",
       " 912,\n",
       " 913,\n",
       " 914,\n",
       " 915,\n",
       " 916,\n",
       " 917,\n",
       " 918,\n",
       " 919,\n",
       " 920,\n",
       " 921,\n",
       " 922,\n",
       " 923,\n",
       " 924,\n",
       " 925,\n",
       " 926,\n",
       " 927,\n",
       " 928,\n",
       " 929,\n",
       " 930,\n",
       " 931,\n",
       " 932,\n",
       " 933,\n",
       " 934,\n",
       " 935,\n",
       " 936,\n",
       " 937,\n",
       " 938,\n",
       " 939,\n",
       " 940,\n",
       " 941,\n",
       " 942,\n",
       " 943,\n",
       " 944,\n",
       " 945,\n",
       " 946,\n",
       " 947,\n",
       " 948,\n",
       " 949,\n",
       " 950,\n",
       " 951,\n",
       " 952,\n",
       " 953,\n",
       " 954,\n",
       " 955,\n",
       " 956,\n",
       " 957,\n",
       " 958,\n",
       " 959,\n",
       " 960,\n",
       " 961,\n",
       " 962,\n",
       " 963,\n",
       " 964,\n",
       " 965,\n",
       " 966,\n",
       " 967,\n",
       " 968,\n",
       " 969,\n",
       " 970,\n",
       " 971,\n",
       " 972,\n",
       " 973,\n",
       " 974,\n",
       " 975,\n",
       " 976,\n",
       " 977,\n",
       " 978,\n",
       " 979,\n",
       " 980,\n",
       " 981,\n",
       " 982,\n",
       " 983,\n",
       " 984,\n",
       " 985,\n",
       " 986,\n",
       " 987,\n",
       " 988,\n",
       " 989,\n",
       " 990,\n",
       " 991,\n",
       " 992,\n",
       " 993,\n",
       " 994,\n",
       " 995,\n",
       " 996,\n",
       " 997,\n",
       " 998,\n",
       " 999,\n",
       " 1000,\n",
       " 1001,\n",
       " 1002,\n",
       " 1003,\n",
       " 1004,\n",
       " 1005,\n",
       " 1006,\n",
       " 1007,\n",
       " 1008,\n",
       " 1009,\n",
       " 1010,\n",
       " 1011,\n",
       " 1012,\n",
       " 1013,\n",
       " 1014,\n",
       " 1015,\n",
       " 1016,\n",
       " 1017,\n",
       " 1018,\n",
       " 1019,\n",
       " 1020,\n",
       " 1021,\n",
       " 1022,\n",
       " 1023,\n",
       " 1024,\n",
       " 1025,\n",
       " 1026,\n",
       " 1027,\n",
       " 1028,\n",
       " 1029,\n",
       " 1030,\n",
       " 1031,\n",
       " 1032,\n",
       " 1033,\n",
       " 1034,\n",
       " 1035,\n",
       " 1036,\n",
       " 1037,\n",
       " 1038,\n",
       " 1039,\n",
       " 1040,\n",
       " 1041,\n",
       " 1042,\n",
       " 1043,\n",
       " 1044,\n",
       " 1045,\n",
       " 1046,\n",
       " 1047,\n",
       " 1048,\n",
       " 1049,\n",
       " 1050,\n",
       " 1051,\n",
       " 1052,\n",
       " 1053,\n",
       " 1054,\n",
       " 1055,\n",
       " 1056,\n",
       " 1057,\n",
       " 1058,\n",
       " 1059,\n",
       " 1060,\n",
       " 1061,\n",
       " 1062,\n",
       " 1063,\n",
       " 1064,\n",
       " 1065,\n",
       " 1066,\n",
       " 1067,\n",
       " 1068,\n",
       " 1069,\n",
       " 1070,\n",
       " 1071,\n",
       " 1072,\n",
       " 1073,\n",
       " 1074,\n",
       " 1075,\n",
       " 1076,\n",
       " 1077,\n",
       " 1078,\n",
       " 1079,\n",
       " 1080,\n",
       " 1081,\n",
       " 1082,\n",
       " 1083,\n",
       " 1084,\n",
       " 1085,\n",
       " 1086,\n",
       " 1087,\n",
       " 1088,\n",
       " 1089,\n",
       " 1090,\n",
       " 1091,\n",
       " 1092,\n",
       " 1093,\n",
       " 1094,\n",
       " 1095,\n",
       " 1096,\n",
       " 1097,\n",
       " 1098,\n",
       " 1099,\n",
       " 1100}"
      ]
     },
     "execution_count": 59,
     "metadata": {},
     "output_type": "execute_result"
    }
   ],
   "source": [
    "sort_years = set(years)\n",
    "sort_years"
   ]
  },
  {
   "cell_type": "code",
   "execution_count": 60,
   "id": "e8dec521",
   "metadata": {},
   "outputs": [
    {
     "data": {
      "text/plain": [
       "[0,\n",
       " 1,\n",
       " 2,\n",
       " 3,\n",
       " 4,\n",
       " 5,\n",
       " 6,\n",
       " 7,\n",
       " 8,\n",
       " 9,\n",
       " 10,\n",
       " 11,\n",
       " 12,\n",
       " 13,\n",
       " 14,\n",
       " 15,\n",
       " 16,\n",
       " 17,\n",
       " 18,\n",
       " 19,\n",
       " 20,\n",
       " 21,\n",
       " 22,\n",
       " 23,\n",
       " 24,\n",
       " 25,\n",
       " 26,\n",
       " 27,\n",
       " 28,\n",
       " 29,\n",
       " 30,\n",
       " 31,\n",
       " 32,\n",
       " 33,\n",
       " 34,\n",
       " 35,\n",
       " 36,\n",
       " 37,\n",
       " 38,\n",
       " 39,\n",
       " 40,\n",
       " 41,\n",
       " 42,\n",
       " 43,\n",
       " 44,\n",
       " 45,\n",
       " 48,\n",
       " 50,\n",
       " 900,\n",
       " 901,\n",
       " 902,\n",
       " 903,\n",
       " 904,\n",
       " 905,\n",
       " 906,\n",
       " 907,\n",
       " 908,\n",
       " 909,\n",
       " 910,\n",
       " 911,\n",
       " 912,\n",
       " 913,\n",
       " 914,\n",
       " 915,\n",
       " 916,\n",
       " 917,\n",
       " 918,\n",
       " 919,\n",
       " 920,\n",
       " 921,\n",
       " 922,\n",
       " 923,\n",
       " 924,\n",
       " 925,\n",
       " 926,\n",
       " 927,\n",
       " 928,\n",
       " 929,\n",
       " 930,\n",
       " 931,\n",
       " 932,\n",
       " 933,\n",
       " 934,\n",
       " 935,\n",
       " 936,\n",
       " 937,\n",
       " 938,\n",
       " 939,\n",
       " 940,\n",
       " 941,\n",
       " 942,\n",
       " 943,\n",
       " 944,\n",
       " 945,\n",
       " 946,\n",
       " 947,\n",
       " 948,\n",
       " 949,\n",
       " 950,\n",
       " 951,\n",
       " 952,\n",
       " 953,\n",
       " 954,\n",
       " 955,\n",
       " 956,\n",
       " 957,\n",
       " 958,\n",
       " 959,\n",
       " 960,\n",
       " 961,\n",
       " 962,\n",
       " 963,\n",
       " 964,\n",
       " 965,\n",
       " 966,\n",
       " 967,\n",
       " 968,\n",
       " 969,\n",
       " 970,\n",
       " 971,\n",
       " 972,\n",
       " 973,\n",
       " 974,\n",
       " 975,\n",
       " 976,\n",
       " 977,\n",
       " 978,\n",
       " 979,\n",
       " 980,\n",
       " 981,\n",
       " 982,\n",
       " 983,\n",
       " 984,\n",
       " 985,\n",
       " 986,\n",
       " 987,\n",
       " 988,\n",
       " 989,\n",
       " 990,\n",
       " 991,\n",
       " 992,\n",
       " 993,\n",
       " 994,\n",
       " 995,\n",
       " 996,\n",
       " 997,\n",
       " 998,\n",
       " 999,\n",
       " 1000,\n",
       " 1001,\n",
       " 1002,\n",
       " 1003,\n",
       " 1004,\n",
       " 1005,\n",
       " 1006,\n",
       " 1007,\n",
       " 1008,\n",
       " 1009,\n",
       " 1010,\n",
       " 1011,\n",
       " 1012,\n",
       " 1013,\n",
       " 1014,\n",
       " 1015,\n",
       " 1016,\n",
       " 1017,\n",
       " 1018,\n",
       " 1019,\n",
       " 1020,\n",
       " 1021,\n",
       " 1022,\n",
       " 1023,\n",
       " 1024,\n",
       " 1025,\n",
       " 1026,\n",
       " 1027,\n",
       " 1028,\n",
       " 1029,\n",
       " 1030,\n",
       " 1031,\n",
       " 1032,\n",
       " 1033,\n",
       " 1034,\n",
       " 1035,\n",
       " 1036,\n",
       " 1037,\n",
       " 1038,\n",
       " 1039,\n",
       " 1040,\n",
       " 1041,\n",
       " 1042,\n",
       " 1043,\n",
       " 1044,\n",
       " 1045,\n",
       " 1046,\n",
       " 1047,\n",
       " 1048,\n",
       " 1049,\n",
       " 1050,\n",
       " 1051,\n",
       " 1052,\n",
       " 1053,\n",
       " 1054,\n",
       " 1055,\n",
       " 1056,\n",
       " 1057,\n",
       " 1058,\n",
       " 1059,\n",
       " 1060,\n",
       " 1061,\n",
       " 1062,\n",
       " 1063,\n",
       " 1064,\n",
       " 1065,\n",
       " 1066,\n",
       " 1067,\n",
       " 1068,\n",
       " 1069,\n",
       " 1070,\n",
       " 1071,\n",
       " 1072,\n",
       " 1073,\n",
       " 1074,\n",
       " 1075,\n",
       " 1076,\n",
       " 1077,\n",
       " 1078,\n",
       " 1079,\n",
       " 1080,\n",
       " 1081,\n",
       " 1082,\n",
       " 1083,\n",
       " 1084,\n",
       " 1085,\n",
       " 1086,\n",
       " 1087,\n",
       " 1088,\n",
       " 1089,\n",
       " 1090,\n",
       " 1091,\n",
       " 1092,\n",
       " 1093,\n",
       " 1094,\n",
       " 1095,\n",
       " 1096,\n",
       " 1097,\n",
       " 1098,\n",
       " 1099,\n",
       " 1100]"
      ]
     },
     "execution_count": 60,
     "metadata": {},
     "output_type": "execute_result"
    }
   ],
   "source": [
    "sorted(sort_years)"
   ]
  },
  {
   "cell_type": "code",
   "execution_count": 61,
   "id": "90039e6a",
   "metadata": {},
   "outputs": [
    {
     "data": {
      "text/html": [
       "<div>\n",
       "<style scoped>\n",
       "    .dataframe tbody tr th:only-of-type {\n",
       "        vertical-align: middle;\n",
       "    }\n",
       "\n",
       "    .dataframe tbody tr th {\n",
       "        vertical-align: top;\n",
       "    }\n",
       "\n",
       "    .dataframe thead th {\n",
       "        text-align: right;\n",
       "    }\n",
       "</style>\n",
       "<table border=\"1\" class=\"dataframe\">\n",
       "  <thead>\n",
       "    <tr style=\"text-align: right;\">\n",
       "      <th></th>\n",
       "      <th>children</th>\n",
       "      <th>days_employed</th>\n",
       "      <th>dob_years</th>\n",
       "      <th>education</th>\n",
       "      <th>education_id</th>\n",
       "      <th>family_status</th>\n",
       "      <th>family_status_id</th>\n",
       "      <th>gender</th>\n",
       "      <th>income_type</th>\n",
       "      <th>debt</th>\n",
       "      <th>total_income</th>\n",
       "      <th>purpose</th>\n",
       "      <th>total_income_category</th>\n",
       "      <th>purpose_category</th>\n",
       "      <th>children_category</th>\n",
       "      <th>years_employed</th>\n",
       "    </tr>\n",
       "  </thead>\n",
       "  <tbody>\n",
       "    <tr>\n",
       "      <th>0</th>\n",
       "      <td>1</td>\n",
       "      <td>8437.673028</td>\n",
       "      <td>42</td>\n",
       "      <td>высшее</td>\n",
       "      <td>0</td>\n",
       "      <td>женат / замужем</td>\n",
       "      <td>0</td>\n",
       "      <td>F</td>\n",
       "      <td>сотрудник</td>\n",
       "      <td>0</td>\n",
       "      <td>253875</td>\n",
       "      <td>покупка жилья</td>\n",
       "      <td>B</td>\n",
       "      <td>операции с недвижимостью</td>\n",
       "      <td>есть дети</td>\n",
       "      <td>23</td>\n",
       "    </tr>\n",
       "    <tr>\n",
       "      <th>1</th>\n",
       "      <td>1</td>\n",
       "      <td>4024.803754</td>\n",
       "      <td>36</td>\n",
       "      <td>среднее</td>\n",
       "      <td>1</td>\n",
       "      <td>женат / замужем</td>\n",
       "      <td>0</td>\n",
       "      <td>F</td>\n",
       "      <td>сотрудник</td>\n",
       "      <td>0</td>\n",
       "      <td>112080</td>\n",
       "      <td>приобретение автомобиля</td>\n",
       "      <td>C</td>\n",
       "      <td>операции с автомобилем</td>\n",
       "      <td>есть дети</td>\n",
       "      <td>11</td>\n",
       "    </tr>\n",
       "    <tr>\n",
       "      <th>2</th>\n",
       "      <td>0</td>\n",
       "      <td>5623.422610</td>\n",
       "      <td>33</td>\n",
       "      <td>среднее</td>\n",
       "      <td>1</td>\n",
       "      <td>женат / замужем</td>\n",
       "      <td>0</td>\n",
       "      <td>M</td>\n",
       "      <td>сотрудник</td>\n",
       "      <td>0</td>\n",
       "      <td>145885</td>\n",
       "      <td>покупка жилья</td>\n",
       "      <td>C</td>\n",
       "      <td>операции с недвижимостью</td>\n",
       "      <td>детей нет</td>\n",
       "      <td>15</td>\n",
       "    </tr>\n",
       "    <tr>\n",
       "      <th>3</th>\n",
       "      <td>3</td>\n",
       "      <td>4124.747207</td>\n",
       "      <td>32</td>\n",
       "      <td>среднее</td>\n",
       "      <td>1</td>\n",
       "      <td>женат / замужем</td>\n",
       "      <td>0</td>\n",
       "      <td>M</td>\n",
       "      <td>сотрудник</td>\n",
       "      <td>0</td>\n",
       "      <td>267628</td>\n",
       "      <td>дополнительное образование</td>\n",
       "      <td>B</td>\n",
       "      <td>получение образования</td>\n",
       "      <td>есть дети</td>\n",
       "      <td>11</td>\n",
       "    </tr>\n",
       "    <tr>\n",
       "      <th>4</th>\n",
       "      <td>0</td>\n",
       "      <td>340266.072047</td>\n",
       "      <td>53</td>\n",
       "      <td>среднее</td>\n",
       "      <td>1</td>\n",
       "      <td>гражданский брак</td>\n",
       "      <td>1</td>\n",
       "      <td>F</td>\n",
       "      <td>пенсионер</td>\n",
       "      <td>0</td>\n",
       "      <td>158616</td>\n",
       "      <td>сыграть свадьбу</td>\n",
       "      <td>C</td>\n",
       "      <td>проведение свадьбы</td>\n",
       "      <td>детей нет</td>\n",
       "      <td>932</td>\n",
       "    </tr>\n",
       "    <tr>\n",
       "      <th>...</th>\n",
       "      <td>...</td>\n",
       "      <td>...</td>\n",
       "      <td>...</td>\n",
       "      <td>...</td>\n",
       "      <td>...</td>\n",
       "      <td>...</td>\n",
       "      <td>...</td>\n",
       "      <td>...</td>\n",
       "      <td>...</td>\n",
       "      <td>...</td>\n",
       "      <td>...</td>\n",
       "      <td>...</td>\n",
       "      <td>...</td>\n",
       "      <td>...</td>\n",
       "      <td>...</td>\n",
       "      <td>...</td>\n",
       "    </tr>\n",
       "    <tr>\n",
       "      <th>21520</th>\n",
       "      <td>1</td>\n",
       "      <td>4529.316663</td>\n",
       "      <td>43</td>\n",
       "      <td>среднее</td>\n",
       "      <td>1</td>\n",
       "      <td>гражданский брак</td>\n",
       "      <td>1</td>\n",
       "      <td>F</td>\n",
       "      <td>компаньон</td>\n",
       "      <td>0</td>\n",
       "      <td>224791</td>\n",
       "      <td>операции с жильем</td>\n",
       "      <td>B</td>\n",
       "      <td>операции с недвижимостью</td>\n",
       "      <td>есть дети</td>\n",
       "      <td>12</td>\n",
       "    </tr>\n",
       "    <tr>\n",
       "      <th>21521</th>\n",
       "      <td>0</td>\n",
       "      <td>343937.404131</td>\n",
       "      <td>67</td>\n",
       "      <td>среднее</td>\n",
       "      <td>1</td>\n",
       "      <td>женат / замужем</td>\n",
       "      <td>0</td>\n",
       "      <td>F</td>\n",
       "      <td>пенсионер</td>\n",
       "      <td>0</td>\n",
       "      <td>155999</td>\n",
       "      <td>сделка с автомобилем</td>\n",
       "      <td>C</td>\n",
       "      <td>операции с автомобилем</td>\n",
       "      <td>детей нет</td>\n",
       "      <td>942</td>\n",
       "    </tr>\n",
       "    <tr>\n",
       "      <th>21522</th>\n",
       "      <td>1</td>\n",
       "      <td>2113.346888</td>\n",
       "      <td>38</td>\n",
       "      <td>среднее</td>\n",
       "      <td>1</td>\n",
       "      <td>гражданский брак</td>\n",
       "      <td>1</td>\n",
       "      <td>M</td>\n",
       "      <td>сотрудник</td>\n",
       "      <td>1</td>\n",
       "      <td>89672</td>\n",
       "      <td>недвижимость</td>\n",
       "      <td>C</td>\n",
       "      <td>операции с недвижимостью</td>\n",
       "      <td>есть дети</td>\n",
       "      <td>5</td>\n",
       "    </tr>\n",
       "    <tr>\n",
       "      <th>21523</th>\n",
       "      <td>3</td>\n",
       "      <td>3112.481705</td>\n",
       "      <td>38</td>\n",
       "      <td>среднее</td>\n",
       "      <td>1</td>\n",
       "      <td>женат / замужем</td>\n",
       "      <td>0</td>\n",
       "      <td>M</td>\n",
       "      <td>сотрудник</td>\n",
       "      <td>1</td>\n",
       "      <td>244093</td>\n",
       "      <td>на покупку своего автомобиля</td>\n",
       "      <td>B</td>\n",
       "      <td>операции с автомобилем</td>\n",
       "      <td>есть дети</td>\n",
       "      <td>8</td>\n",
       "    </tr>\n",
       "    <tr>\n",
       "      <th>21524</th>\n",
       "      <td>2</td>\n",
       "      <td>1984.507589</td>\n",
       "      <td>40</td>\n",
       "      <td>среднее</td>\n",
       "      <td>1</td>\n",
       "      <td>женат / замужем</td>\n",
       "      <td>0</td>\n",
       "      <td>F</td>\n",
       "      <td>сотрудник</td>\n",
       "      <td>0</td>\n",
       "      <td>82047</td>\n",
       "      <td>на покупку автомобиля</td>\n",
       "      <td>C</td>\n",
       "      <td>операции с автомобилем</td>\n",
       "      <td>есть дети</td>\n",
       "      <td>5</td>\n",
       "    </tr>\n",
       "  </tbody>\n",
       "</table>\n",
       "<p>21348 rows × 16 columns</p>\n",
       "</div>"
      ],
      "text/plain": [
       "       children  days_employed  dob_years education  education_id  \\\n",
       "0             1    8437.673028         42    высшее             0   \n",
       "1             1    4024.803754         36   среднее             1   \n",
       "2             0    5623.422610         33   среднее             1   \n",
       "3             3    4124.747207         32   среднее             1   \n",
       "4             0  340266.072047         53   среднее             1   \n",
       "...         ...            ...        ...       ...           ...   \n",
       "21520         1    4529.316663         43   среднее             1   \n",
       "21521         0  343937.404131         67   среднее             1   \n",
       "21522         1    2113.346888         38   среднее             1   \n",
       "21523         3    3112.481705         38   среднее             1   \n",
       "21524         2    1984.507589         40   среднее             1   \n",
       "\n",
       "          family_status  family_status_id gender income_type  debt  \\\n",
       "0       женат / замужем                 0      F   сотрудник     0   \n",
       "1       женат / замужем                 0      F   сотрудник     0   \n",
       "2       женат / замужем                 0      M   сотрудник     0   \n",
       "3       женат / замужем                 0      M   сотрудник     0   \n",
       "4      гражданский брак                 1      F   пенсионер     0   \n",
       "...                 ...               ...    ...         ...   ...   \n",
       "21520  гражданский брак                 1      F   компаньон     0   \n",
       "21521   женат / замужем                 0      F   пенсионер     0   \n",
       "21522  гражданский брак                 1      M   сотрудник     1   \n",
       "21523   женат / замужем                 0      M   сотрудник     1   \n",
       "21524   женат / замужем                 0      F   сотрудник     0   \n",
       "\n",
       "       total_income                       purpose total_income_category  \\\n",
       "0            253875                 покупка жилья                     B   \n",
       "1            112080       приобретение автомобиля                     C   \n",
       "2            145885                 покупка жилья                     C   \n",
       "3            267628    дополнительное образование                     B   \n",
       "4            158616               сыграть свадьбу                     C   \n",
       "...             ...                           ...                   ...   \n",
       "21520        224791             операции с жильем                     B   \n",
       "21521        155999          сделка с автомобилем                     C   \n",
       "21522         89672                  недвижимость                     C   \n",
       "21523        244093  на покупку своего автомобиля                     B   \n",
       "21524         82047         на покупку автомобиля                     C   \n",
       "\n",
       "               purpose_category children_category  years_employed  \n",
       "0      операции с недвижимостью         есть дети              23  \n",
       "1        операции с автомобилем         есть дети              11  \n",
       "2      операции с недвижимостью         детей нет              15  \n",
       "3         получение образования         есть дети              11  \n",
       "4            проведение свадьбы         детей нет             932  \n",
       "...                         ...               ...             ...  \n",
       "21520  операции с недвижимостью         есть дети              12  \n",
       "21521    операции с автомобилем         детей нет             942  \n",
       "21522  операции с недвижимостью         есть дети               5  \n",
       "21523    операции с автомобилем         есть дети               8  \n",
       "21524    операции с автомобилем         есть дети               5  \n",
       "\n",
       "[21348 rows x 16 columns]"
      ]
     },
     "execution_count": 61,
     "metadata": {},
     "output_type": "execute_result"
    }
   ],
   "source": [
    "data[data['years_employed'] >= 900].groupby('income_type').count()\n",
    "data"
   ]
  },
  {
   "cell_type": "markdown",
   "id": "df6733ba",
   "metadata": {},
   "source": [
    "Большое количество лет стажа превышает нормальные значения, однако это характерно только для безработных и пенсионеров. Проверим, насколько часто пенсионеры и безработные получают кредит и как часто они его не возвращают"
   ]
  },
  {
   "cell_type": "code",
   "execution_count": 62,
   "id": "c9e8e7b3",
   "metadata": {},
   "outputs": [
    {
     "data": {
      "text/plain": [
       "income_type      debt\n",
       "безработный      0          1\n",
       "                 1          1\n",
       "в декрете        1          1\n",
       "госслужащий      0       1365\n",
       "                 1         86\n",
       "компаньон        0       4675\n",
       "                 1        374\n",
       "пенсионер        0       3604\n",
       "                 1        216\n",
       "предприниматель  0          2\n",
       "сотрудник        0       9968\n",
       "                 1       1054\n",
       "студент          0          1\n",
       "Name: debt, dtype: int64"
      ]
     },
     "execution_count": 62,
     "metadata": {},
     "output_type": "execute_result"
    }
   ],
   "source": [
    "data.groupby('income_type')['debt'].value_counts()"
   ]
  },
  {
   "cell_type": "markdown",
   "id": "e392f9ef",
   "metadata": {},
   "source": [
    "Данными по безработным можно пренебречь: среди клиентов их всего двое, однако пенсионеры хотя и не составляют самый большой процент клинтов, тем не менее они - третьи по числу пользователей кредитными услугами банка и числу невозвратов. Абсолютно все данные по их трудовому стажу искажены, однако сам их статус неработающего человека получающего пенсию позволяет также не учитывать данные по ним. "
   ]
  },
  {
   "cell_type": "code",
   "execution_count": 63,
   "id": "a5494069",
   "metadata": {},
   "outputs": [],
   "source": [
    "#разделим клиентов на группы исходя из их опыта\n",
    "\n",
    "def categorize_experience(years):\n",
    "    if years == 0: \n",
    "        return 'нет опыта'\n",
    "    elif 1 <= years <= 3:\n",
    "        return 'небольшой опыт'\n",
    "    elif 4 <= years <= 10:\n",
    "        return 'средний опыт'\n",
    "    elif 11 <= years < 51:\n",
    "        return 'большой опыт'\n",
    "    else:\n",
    "        pass\n"
   ]
  },
  {
   "cell_type": "code",
   "execution_count": 64,
   "id": "8af099e8",
   "metadata": {},
   "outputs": [
    {
     "data": {
      "text/html": [
       "<div>\n",
       "<style scoped>\n",
       "    .dataframe tbody tr th:only-of-type {\n",
       "        vertical-align: middle;\n",
       "    }\n",
       "\n",
       "    .dataframe tbody tr th {\n",
       "        vertical-align: top;\n",
       "    }\n",
       "\n",
       "    .dataframe thead th {\n",
       "        text-align: right;\n",
       "    }\n",
       "</style>\n",
       "<table border=\"1\" class=\"dataframe\">\n",
       "  <thead>\n",
       "    <tr style=\"text-align: right;\">\n",
       "      <th></th>\n",
       "      <th>children</th>\n",
       "      <th>days_employed</th>\n",
       "      <th>dob_years</th>\n",
       "      <th>education</th>\n",
       "      <th>education_id</th>\n",
       "      <th>family_status</th>\n",
       "      <th>family_status_id</th>\n",
       "      <th>gender</th>\n",
       "      <th>income_type</th>\n",
       "      <th>debt</th>\n",
       "      <th>total_income</th>\n",
       "      <th>purpose</th>\n",
       "      <th>total_income_category</th>\n",
       "      <th>purpose_category</th>\n",
       "      <th>children_category</th>\n",
       "      <th>years_employed</th>\n",
       "      <th>experience_category</th>\n",
       "    </tr>\n",
       "  </thead>\n",
       "  <tbody>\n",
       "    <tr>\n",
       "      <th>0</th>\n",
       "      <td>1</td>\n",
       "      <td>8437.673028</td>\n",
       "      <td>42</td>\n",
       "      <td>высшее</td>\n",
       "      <td>0</td>\n",
       "      <td>женат / замужем</td>\n",
       "      <td>0</td>\n",
       "      <td>F</td>\n",
       "      <td>сотрудник</td>\n",
       "      <td>0</td>\n",
       "      <td>253875</td>\n",
       "      <td>покупка жилья</td>\n",
       "      <td>B</td>\n",
       "      <td>операции с недвижимостью</td>\n",
       "      <td>есть дети</td>\n",
       "      <td>23</td>\n",
       "      <td>большой опыт</td>\n",
       "    </tr>\n",
       "    <tr>\n",
       "      <th>1</th>\n",
       "      <td>1</td>\n",
       "      <td>4024.803754</td>\n",
       "      <td>36</td>\n",
       "      <td>среднее</td>\n",
       "      <td>1</td>\n",
       "      <td>женат / замужем</td>\n",
       "      <td>0</td>\n",
       "      <td>F</td>\n",
       "      <td>сотрудник</td>\n",
       "      <td>0</td>\n",
       "      <td>112080</td>\n",
       "      <td>приобретение автомобиля</td>\n",
       "      <td>C</td>\n",
       "      <td>операции с автомобилем</td>\n",
       "      <td>есть дети</td>\n",
       "      <td>11</td>\n",
       "      <td>большой опыт</td>\n",
       "    </tr>\n",
       "    <tr>\n",
       "      <th>2</th>\n",
       "      <td>0</td>\n",
       "      <td>5623.422610</td>\n",
       "      <td>33</td>\n",
       "      <td>среднее</td>\n",
       "      <td>1</td>\n",
       "      <td>женат / замужем</td>\n",
       "      <td>0</td>\n",
       "      <td>M</td>\n",
       "      <td>сотрудник</td>\n",
       "      <td>0</td>\n",
       "      <td>145885</td>\n",
       "      <td>покупка жилья</td>\n",
       "      <td>C</td>\n",
       "      <td>операции с недвижимостью</td>\n",
       "      <td>детей нет</td>\n",
       "      <td>15</td>\n",
       "      <td>большой опыт</td>\n",
       "    </tr>\n",
       "    <tr>\n",
       "      <th>3</th>\n",
       "      <td>3</td>\n",
       "      <td>4124.747207</td>\n",
       "      <td>32</td>\n",
       "      <td>среднее</td>\n",
       "      <td>1</td>\n",
       "      <td>женат / замужем</td>\n",
       "      <td>0</td>\n",
       "      <td>M</td>\n",
       "      <td>сотрудник</td>\n",
       "      <td>0</td>\n",
       "      <td>267628</td>\n",
       "      <td>дополнительное образование</td>\n",
       "      <td>B</td>\n",
       "      <td>получение образования</td>\n",
       "      <td>есть дети</td>\n",
       "      <td>11</td>\n",
       "      <td>большой опыт</td>\n",
       "    </tr>\n",
       "    <tr>\n",
       "      <th>4</th>\n",
       "      <td>0</td>\n",
       "      <td>340266.072047</td>\n",
       "      <td>53</td>\n",
       "      <td>среднее</td>\n",
       "      <td>1</td>\n",
       "      <td>гражданский брак</td>\n",
       "      <td>1</td>\n",
       "      <td>F</td>\n",
       "      <td>пенсионер</td>\n",
       "      <td>0</td>\n",
       "      <td>158616</td>\n",
       "      <td>сыграть свадьбу</td>\n",
       "      <td>C</td>\n",
       "      <td>проведение свадьбы</td>\n",
       "      <td>детей нет</td>\n",
       "      <td>932</td>\n",
       "      <td>None</td>\n",
       "    </tr>\n",
       "    <tr>\n",
       "      <th>5</th>\n",
       "      <td>0</td>\n",
       "      <td>926.185831</td>\n",
       "      <td>27</td>\n",
       "      <td>высшее</td>\n",
       "      <td>0</td>\n",
       "      <td>гражданский брак</td>\n",
       "      <td>1</td>\n",
       "      <td>M</td>\n",
       "      <td>компаньон</td>\n",
       "      <td>0</td>\n",
       "      <td>255763</td>\n",
       "      <td>покупка жилья</td>\n",
       "      <td>B</td>\n",
       "      <td>операции с недвижимостью</td>\n",
       "      <td>детей нет</td>\n",
       "      <td>2</td>\n",
       "      <td>небольшой опыт</td>\n",
       "    </tr>\n",
       "    <tr>\n",
       "      <th>6</th>\n",
       "      <td>0</td>\n",
       "      <td>2879.202052</td>\n",
       "      <td>43</td>\n",
       "      <td>высшее</td>\n",
       "      <td>0</td>\n",
       "      <td>женат / замужем</td>\n",
       "      <td>0</td>\n",
       "      <td>F</td>\n",
       "      <td>компаньон</td>\n",
       "      <td>0</td>\n",
       "      <td>240525</td>\n",
       "      <td>операции с жильем</td>\n",
       "      <td>B</td>\n",
       "      <td>операции с недвижимостью</td>\n",
       "      <td>детей нет</td>\n",
       "      <td>7</td>\n",
       "      <td>средний опыт</td>\n",
       "    </tr>\n",
       "    <tr>\n",
       "      <th>7</th>\n",
       "      <td>0</td>\n",
       "      <td>152.779569</td>\n",
       "      <td>50</td>\n",
       "      <td>среднее</td>\n",
       "      <td>1</td>\n",
       "      <td>женат / замужем</td>\n",
       "      <td>0</td>\n",
       "      <td>M</td>\n",
       "      <td>сотрудник</td>\n",
       "      <td>0</td>\n",
       "      <td>135823</td>\n",
       "      <td>образование</td>\n",
       "      <td>C</td>\n",
       "      <td>получение образования</td>\n",
       "      <td>детей нет</td>\n",
       "      <td>0</td>\n",
       "      <td>нет опыта</td>\n",
       "    </tr>\n",
       "    <tr>\n",
       "      <th>8</th>\n",
       "      <td>2</td>\n",
       "      <td>6929.865299</td>\n",
       "      <td>35</td>\n",
       "      <td>высшее</td>\n",
       "      <td>0</td>\n",
       "      <td>гражданский брак</td>\n",
       "      <td>1</td>\n",
       "      <td>F</td>\n",
       "      <td>сотрудник</td>\n",
       "      <td>0</td>\n",
       "      <td>95856</td>\n",
       "      <td>на проведение свадьбы</td>\n",
       "      <td>C</td>\n",
       "      <td>проведение свадьбы</td>\n",
       "      <td>есть дети</td>\n",
       "      <td>18</td>\n",
       "      <td>большой опыт</td>\n",
       "    </tr>\n",
       "    <tr>\n",
       "      <th>9</th>\n",
       "      <td>0</td>\n",
       "      <td>2188.756445</td>\n",
       "      <td>41</td>\n",
       "      <td>среднее</td>\n",
       "      <td>1</td>\n",
       "      <td>женат / замужем</td>\n",
       "      <td>0</td>\n",
       "      <td>M</td>\n",
       "      <td>сотрудник</td>\n",
       "      <td>0</td>\n",
       "      <td>144425</td>\n",
       "      <td>покупка жилья для семьи</td>\n",
       "      <td>C</td>\n",
       "      <td>операции с недвижимостью</td>\n",
       "      <td>детей нет</td>\n",
       "      <td>5</td>\n",
       "      <td>средний опыт</td>\n",
       "    </tr>\n",
       "  </tbody>\n",
       "</table>\n",
       "</div>"
      ],
      "text/plain": [
       "   children  days_employed  dob_years education  education_id  \\\n",
       "0         1    8437.673028         42    высшее             0   \n",
       "1         1    4024.803754         36   среднее             1   \n",
       "2         0    5623.422610         33   среднее             1   \n",
       "3         3    4124.747207         32   среднее             1   \n",
       "4         0  340266.072047         53   среднее             1   \n",
       "5         0     926.185831         27    высшее             0   \n",
       "6         0    2879.202052         43    высшее             0   \n",
       "7         0     152.779569         50   среднее             1   \n",
       "8         2    6929.865299         35    высшее             0   \n",
       "9         0    2188.756445         41   среднее             1   \n",
       "\n",
       "      family_status  family_status_id gender income_type  debt  total_income  \\\n",
       "0   женат / замужем                 0      F   сотрудник     0        253875   \n",
       "1   женат / замужем                 0      F   сотрудник     0        112080   \n",
       "2   женат / замужем                 0      M   сотрудник     0        145885   \n",
       "3   женат / замужем                 0      M   сотрудник     0        267628   \n",
       "4  гражданский брак                 1      F   пенсионер     0        158616   \n",
       "5  гражданский брак                 1      M   компаньон     0        255763   \n",
       "6   женат / замужем                 0      F   компаньон     0        240525   \n",
       "7   женат / замужем                 0      M   сотрудник     0        135823   \n",
       "8  гражданский брак                 1      F   сотрудник     0         95856   \n",
       "9   женат / замужем                 0      M   сотрудник     0        144425   \n",
       "\n",
       "                      purpose total_income_category          purpose_category  \\\n",
       "0               покупка жилья                     B  операции с недвижимостью   \n",
       "1     приобретение автомобиля                     C    операции с автомобилем   \n",
       "2               покупка жилья                     C  операции с недвижимостью   \n",
       "3  дополнительное образование                     B     получение образования   \n",
       "4             сыграть свадьбу                     C        проведение свадьбы   \n",
       "5               покупка жилья                     B  операции с недвижимостью   \n",
       "6           операции с жильем                     B  операции с недвижимостью   \n",
       "7                 образование                     C     получение образования   \n",
       "8       на проведение свадьбы                     C        проведение свадьбы   \n",
       "9     покупка жилья для семьи                     C  операции с недвижимостью   \n",
       "\n",
       "  children_category  years_employed experience_category  \n",
       "0         есть дети              23        большой опыт  \n",
       "1         есть дети              11        большой опыт  \n",
       "2         детей нет              15        большой опыт  \n",
       "3         есть дети              11        большой опыт  \n",
       "4         детей нет             932                None  \n",
       "5         детей нет               2      небольшой опыт  \n",
       "6         детей нет               7        средний опыт  \n",
       "7         детей нет               0           нет опыта  \n",
       "8         есть дети              18        большой опыт  \n",
       "9         детей нет               5        средний опыт  "
      ]
     },
     "execution_count": 64,
     "metadata": {},
     "output_type": "execute_result"
    }
   ],
   "source": [
    "data['experience_category'] = \\\n",
    "data['years_employed'].apply(categorize_experience)\n",
    "data.head(10)"
   ]
  },
  {
   "cell_type": "code",
   "execution_count": 65,
   "id": "1b6a7be0",
   "metadata": {
    "scrolled": true
   },
   "outputs": [
    {
     "data": {
      "text/plain": [
       "experience_category  income_type    \n",
       "большой опыт         сотрудник          1666\n",
       "                     компаньон           589\n",
       "                     госслужащий         423\n",
       "небольшой опыт       сотрудник          3564\n",
       "                     компаньон          1577\n",
       "                     госслужащий         279\n",
       "                     предприниматель       2\n",
       "                     студент               1\n",
       "нет опыта            сотрудник          1126\n",
       "                     компаньон           597\n",
       "                     госслужащий          94\n",
       "средний опыт         сотрудник          4666\n",
       "                     компаньон          2286\n",
       "                     госслужащий         655\n",
       "                     в декрете             1\n",
       "Name: income_type, dtype: int64"
      ]
     },
     "execution_count": 65,
     "metadata": {},
     "output_type": "execute_result"
    }
   ],
   "source": [
    "clients_experience = data.groupby(['experience_category']) \\\n",
    "['income_type'].value_counts()\n",
    "clients_experience"
   ]
  },
  {
   "cell_type": "markdown",
   "id": "ead1d282",
   "metadata": {},
   "source": [
    "Как видно из полученных данных, наиболее охотно берут кредиты или начинающие специалисты, или уже получившие средний опыт работы."
   ]
  },
  {
   "cell_type": "code",
   "execution_count": 66,
   "id": "6086d42c",
   "metadata": {},
   "outputs": [
    {
     "data": {
      "text/plain": [
       "experience_category  income_type\n",
       "большой опыт         сотрудник       92\n",
       "                     компаньон       27\n",
       "                     госслужащий     20\n",
       "небольшой опыт       сотрудник      411\n",
       "                     компаньон      144\n",
       "                     госслужащий     21\n",
       "нет опыта            сотрудник      139\n",
       "                     компаньон       47\n",
       "                     госслужащий      7\n",
       "средний опыт         сотрудник      412\n",
       "                     компаньон      156\n",
       "                     госслужащий     38\n",
       "                     в декрете        1\n",
       "Name: income_type, dtype: int64"
      ]
     },
     "execution_count": 66,
     "metadata": {},
     "output_type": "execute_result"
    }
   ],
   "source": [
    "debtors_experience = data[data['debt'] == 1].groupby(['experience_category']) \\\n",
    "['income_type'].value_counts()\n",
    "debtors_experience"
   ]
  },
  {
   "cell_type": "code",
   "execution_count": 67,
   "id": "5248ff16",
   "metadata": {},
   "outputs": [
    {
     "data": {
      "text/plain": [
       "experience_category  income_type    \n",
       "большой опыт         госслужащий          4.728132\n",
       "                     компаньон            4.584041\n",
       "                     сотрудник            5.522209\n",
       "небольшой опыт       госслужащий          7.526882\n",
       "                     компаньон            9.131262\n",
       "                     предприниматель           NaN\n",
       "                     сотрудник           11.531987\n",
       "                     студент                   NaN\n",
       "нет опыта            госслужащий          7.446809\n",
       "                     компаньон            7.872697\n",
       "                     сотрудник           12.344583\n",
       "средний опыт         в декрете          100.000000\n",
       "                     госслужащий          5.801527\n",
       "                     компаньон            6.824147\n",
       "                     сотрудник            8.829833\n",
       "Name: income_type, dtype: float64"
      ]
     },
     "execution_count": 67,
     "metadata": {},
     "output_type": "execute_result"
    }
   ],
   "source": [
    "debtors_experience / clients_experience * 100"
   ]
  },
  {
   "cell_type": "markdown",
   "id": "e946f0f4",
   "metadata": {},
   "source": [
    "Лучшую статистику по возвратам кредитов показывают опытные специалисты. Государственные служащие в целом также стремятся не допускать долгов. Хуже всего ситуация обстоит с сотрудниками, однако процент их невыплат уменьшается с увеличением стажа работы. Также рассмотрим зависимость стажа и уровня дохода. "
   ]
  },
  {
   "cell_type": "code",
   "execution_count": 68,
   "id": "d1598e1b",
   "metadata": {},
   "outputs": [
    {
     "data": {
      "text/plain": [
       "experience_category  total_income_category\n",
       "большой опыт         C                        1875\n",
       "                     B                         762\n",
       "                     D                          32\n",
       "                     A                           8\n",
       "                     E                           1\n",
       "небольшой опыт       C                        3895\n",
       "                     B                        1463\n",
       "                     D                          60\n",
       "                     A                           3\n",
       "                     E                           2\n",
       "нет опыта            C                        1358\n",
       "                     B                         433\n",
       "                     D                          23\n",
       "                     A                           2\n",
       "                     E                           1\n",
       "средний опыт         C                        5720\n",
       "                     B                        1803\n",
       "                     D                          70\n",
       "                     A                          12\n",
       "                     E                           3\n",
       "Name: total_income_category, dtype: int64"
      ]
     },
     "execution_count": 68,
     "metadata": {},
     "output_type": "execute_result"
    }
   ],
   "source": [
    "clients_experience_income = \\\n",
    "data.groupby(['experience_category'])['total_income_category'].value_counts()\n",
    "clients_experience_income"
   ]
  },
  {
   "cell_type": "markdown",
   "id": "18ef7bc7",
   "metadata": {},
   "source": [
    "Чаще всего кредиты берут клиенты со средним доходом или доходом выше среднего, не отработавшие более 10 лет. Проверим, соотносится ли это с долговой ситуацией."
   ]
  },
  {
   "cell_type": "code",
   "execution_count": 69,
   "id": "f02334a1",
   "metadata": {},
   "outputs": [
    {
     "data": {
      "text/plain": [
       "experience_category  total_income_category\n",
       "большой опыт         C                        106\n",
       "                     B                         31\n",
       "                     D                          2\n",
       "небольшой опыт       C                        448\n",
       "                     B                        121\n",
       "                     D                          6\n",
       "                     A                          1\n",
       "нет опыта            C                        147\n",
       "                     B                         43\n",
       "                     D                          3\n",
       "средний опыт         C                        475\n",
       "                     B                        128\n",
       "                     D                          3\n",
       "                     A                          1\n",
       "Name: total_income_category, dtype: int64"
      ]
     },
     "execution_count": 69,
     "metadata": {},
     "output_type": "execute_result"
    }
   ],
   "source": [
    "debtors_experience_income = data[data['debt'] == 1].groupby(['experience_category']) \\\n",
    "['total_income_category'].value_counts()\n",
    "debtors_experience_income"
   ]
  },
  {
   "cell_type": "code",
   "execution_count": 70,
   "id": "7927bbfb",
   "metadata": {},
   "outputs": [
    {
     "data": {
      "text/plain": [
       "experience_category  total_income_category\n",
       "большой опыт         A                              NaN\n",
       "                     B                         4.068241\n",
       "                     C                         5.653333\n",
       "                     D                         6.250000\n",
       "                     E                              NaN\n",
       "небольшой опыт       A                        33.333333\n",
       "                     B                         8.270677\n",
       "                     C                        11.501926\n",
       "                     D                        10.000000\n",
       "                     E                              NaN\n",
       "нет опыта            A                              NaN\n",
       "                     B                         9.930716\n",
       "                     C                        10.824742\n",
       "                     D                        13.043478\n",
       "                     E                              NaN\n",
       "средний опыт         A                         8.333333\n",
       "                     B                         7.099279\n",
       "                     C                         8.304196\n",
       "                     D                         4.285714\n",
       "                     E                              NaN\n",
       "Name: total_income_category, dtype: float64"
      ]
     },
     "execution_count": 70,
     "metadata": {},
     "output_type": "execute_result"
    }
   ],
   "source": [
    "debtors_experience_income / clients_experience_income * 100"
   ]
  },
  {
   "cell_type": "markdown",
   "id": "8c766d85",
   "metadata": {},
   "source": [
    "Из данных видно, что лучше всех выплачивают кредиты специалисты с большим опытом и высоким доходом. Худшую статистику показывают богатые начинающие специалисты, составляющие небольшую подгруппу. В категориях клиентов с начальным опытом и без него лидируют должники со средними доходами и доходами ниже среднего, в то время как в группе сотрудников, уже набравших достаточный опыт, больше всего должников со средним доходом и выше. "
   ]
  },
  {
   "cell_type": "markdown",
   "id": "e8593def",
   "metadata": {
    "deletable": false,
    "id": "e8593def"
   },
   "source": [
    "**Вывод:** наихудшие выплаты демонстрируют клиенты с самым низким доходом, преимущественно представленные пенсионерами, клиенты-компаньоны с самыми высокими доходами, а также сотрудники среднего класса - наиболее многочисленная группа клиентов. Не отличаются хорошей кредитной историей клиенты без работы и находящиеся в декрете, однако их доля среди общего числа клиентов довольно мала. Также замечена корелляция выплат кредита с трудовым стажем: чем выше опыт сотрудника и его доход, тем реже он допускает появление долгов. Чаще всего должниками становятся клиенты с начальным и отсутствием опыта, имеющие средний доход. "
   ]
  },
  {
   "cell_type": "markdown",
   "id": "99ecbd1f",
   "metadata": {
    "deletable": false,
    "editable": false,
    "id": "99ecbd1f"
   },
   "source": [
    "**Задание 22. Как разные цели кредита влияют на его возврат в срок?**"
   ]
  },
  {
   "cell_type": "markdown",
   "id": "b6c3e0e3",
   "metadata": {},
   "source": [
    "Цель кредита в наибольшей степени влияет на портрет потенциального клиента и(или) должника. Именно поэтому подкатегории данной группы будет рассматриваться в максимальной взаимосвязи с другими данными. \n",
    "Одна из категорий данных, которая не рассматривалась ранее - возраст. Рассмотрим ее более внимательно.\n",
    "\n"
   ]
  },
  {
   "cell_type": "code",
   "execution_count": 71,
   "id": "9120d3b2",
   "metadata": {},
   "outputs": [
    {
     "data": {
      "text/plain": [
       "[0,\n",
       " 19,\n",
       " 20,\n",
       " 21,\n",
       " 22,\n",
       " 23,\n",
       " 24,\n",
       " 25,\n",
       " 26,\n",
       " 27,\n",
       " 28,\n",
       " 29,\n",
       " 30,\n",
       " 31,\n",
       " 32,\n",
       " 33,\n",
       " 34,\n",
       " 35,\n",
       " 36,\n",
       " 37,\n",
       " 38,\n",
       " 39,\n",
       " 40,\n",
       " 41,\n",
       " 42,\n",
       " 43,\n",
       " 44,\n",
       " 45,\n",
       " 46,\n",
       " 47,\n",
       " 48,\n",
       " 49,\n",
       " 50,\n",
       " 51,\n",
       " 52,\n",
       " 53,\n",
       " 54,\n",
       " 55,\n",
       " 56,\n",
       " 57,\n",
       " 58,\n",
       " 59,\n",
       " 60,\n",
       " 61,\n",
       " 62,\n",
       " 63,\n",
       " 64,\n",
       " 65,\n",
       " 66,\n",
       " 67,\n",
       " 68,\n",
       " 69,\n",
       " 70,\n",
       " 71,\n",
       " 72,\n",
       " 73,\n",
       " 74,\n",
       " 75]"
      ]
     },
     "execution_count": 71,
     "metadata": {},
     "output_type": "execute_result"
    }
   ],
   "source": [
    "# проверим, какие категории возрастов представлены среди клиентов\n",
    "\n",
    "sorted(data['dob_years'].unique())"
   ]
  },
  {
   "cell_type": "code",
   "execution_count": 72,
   "id": "a52d647a",
   "metadata": {},
   "outputs": [
    {
     "data": {
      "text/html": [
       "<div>\n",
       "<style scoped>\n",
       "    .dataframe tbody tr th:only-of-type {\n",
       "        vertical-align: middle;\n",
       "    }\n",
       "\n",
       "    .dataframe tbody tr th {\n",
       "        vertical-align: top;\n",
       "    }\n",
       "\n",
       "    .dataframe thead th {\n",
       "        text-align: right;\n",
       "    }\n",
       "</style>\n",
       "<table border=\"1\" class=\"dataframe\">\n",
       "  <thead>\n",
       "    <tr style=\"text-align: right;\">\n",
       "      <th></th>\n",
       "      <th>children</th>\n",
       "      <th>days_employed</th>\n",
       "      <th>dob_years</th>\n",
       "      <th>education</th>\n",
       "      <th>education_id</th>\n",
       "      <th>family_status</th>\n",
       "      <th>family_status_id</th>\n",
       "      <th>gender</th>\n",
       "      <th>income_type</th>\n",
       "      <th>debt</th>\n",
       "      <th>total_income</th>\n",
       "      <th>purpose</th>\n",
       "      <th>total_income_category</th>\n",
       "      <th>purpose_category</th>\n",
       "      <th>children_category</th>\n",
       "      <th>years_employed</th>\n",
       "      <th>experience_category</th>\n",
       "    </tr>\n",
       "  </thead>\n",
       "  <tbody>\n",
       "    <tr>\n",
       "      <th>99</th>\n",
       "      <td>0</td>\n",
       "      <td>346541.618895</td>\n",
       "      <td>0</td>\n",
       "      <td>среднее</td>\n",
       "      <td>1</td>\n",
       "      <td>женат / замужем</td>\n",
       "      <td>0</td>\n",
       "      <td>F</td>\n",
       "      <td>пенсионер</td>\n",
       "      <td>0</td>\n",
       "      <td>71291</td>\n",
       "      <td>автомобиль</td>\n",
       "      <td>C</td>\n",
       "      <td>операции с автомобилем</td>\n",
       "      <td>детей нет</td>\n",
       "      <td>949</td>\n",
       "      <td>None</td>\n",
       "    </tr>\n",
       "    <tr>\n",
       "      <th>149</th>\n",
       "      <td>0</td>\n",
       "      <td>2664.273168</td>\n",
       "      <td>0</td>\n",
       "      <td>среднее</td>\n",
       "      <td>1</td>\n",
       "      <td>в разводе</td>\n",
       "      <td>3</td>\n",
       "      <td>F</td>\n",
       "      <td>сотрудник</td>\n",
       "      <td>0</td>\n",
       "      <td>70176</td>\n",
       "      <td>операции с жильем</td>\n",
       "      <td>C</td>\n",
       "      <td>операции с недвижимостью</td>\n",
       "      <td>детей нет</td>\n",
       "      <td>7</td>\n",
       "      <td>средний опыт</td>\n",
       "    </tr>\n",
       "    <tr>\n",
       "      <th>270</th>\n",
       "      <td>3</td>\n",
       "      <td>1872.663186</td>\n",
       "      <td>0</td>\n",
       "      <td>среднее</td>\n",
       "      <td>1</td>\n",
       "      <td>женат / замужем</td>\n",
       "      <td>0</td>\n",
       "      <td>F</td>\n",
       "      <td>сотрудник</td>\n",
       "      <td>0</td>\n",
       "      <td>102166</td>\n",
       "      <td>ремонт жилью</td>\n",
       "      <td>C</td>\n",
       "      <td>операции с недвижимостью</td>\n",
       "      <td>есть дети</td>\n",
       "      <td>5</td>\n",
       "      <td>средний опыт</td>\n",
       "    </tr>\n",
       "    <tr>\n",
       "      <th>578</th>\n",
       "      <td>0</td>\n",
       "      <td>397856.565013</td>\n",
       "      <td>0</td>\n",
       "      <td>среднее</td>\n",
       "      <td>1</td>\n",
       "      <td>женат / замужем</td>\n",
       "      <td>0</td>\n",
       "      <td>F</td>\n",
       "      <td>пенсионер</td>\n",
       "      <td>0</td>\n",
       "      <td>97620</td>\n",
       "      <td>строительство собственной недвижимости</td>\n",
       "      <td>C</td>\n",
       "      <td>операции с недвижимостью</td>\n",
       "      <td>детей нет</td>\n",
       "      <td>1090</td>\n",
       "      <td>None</td>\n",
       "    </tr>\n",
       "    <tr>\n",
       "      <th>1040</th>\n",
       "      <td>0</td>\n",
       "      <td>1158.029561</td>\n",
       "      <td>0</td>\n",
       "      <td>высшее</td>\n",
       "      <td>0</td>\n",
       "      <td>в разводе</td>\n",
       "      <td>3</td>\n",
       "      <td>F</td>\n",
       "      <td>компаньон</td>\n",
       "      <td>0</td>\n",
       "      <td>303994</td>\n",
       "      <td>свой автомобиль</td>\n",
       "      <td>B</td>\n",
       "      <td>операции с автомобилем</td>\n",
       "      <td>детей нет</td>\n",
       "      <td>3</td>\n",
       "      <td>небольшой опыт</td>\n",
       "    </tr>\n",
       "    <tr>\n",
       "      <th>...</th>\n",
       "      <td>...</td>\n",
       "      <td>...</td>\n",
       "      <td>...</td>\n",
       "      <td>...</td>\n",
       "      <td>...</td>\n",
       "      <td>...</td>\n",
       "      <td>...</td>\n",
       "      <td>...</td>\n",
       "      <td>...</td>\n",
       "      <td>...</td>\n",
       "      <td>...</td>\n",
       "      <td>...</td>\n",
       "      <td>...</td>\n",
       "      <td>...</td>\n",
       "      <td>...</td>\n",
       "      <td>...</td>\n",
       "      <td>...</td>\n",
       "    </tr>\n",
       "    <tr>\n",
       "      <th>19829</th>\n",
       "      <td>0</td>\n",
       "      <td>1572.328285</td>\n",
       "      <td>0</td>\n",
       "      <td>среднее</td>\n",
       "      <td>1</td>\n",
       "      <td>женат / замужем</td>\n",
       "      <td>0</td>\n",
       "      <td>F</td>\n",
       "      <td>сотрудник</td>\n",
       "      <td>0</td>\n",
       "      <td>142594</td>\n",
       "      <td>жилье</td>\n",
       "      <td>C</td>\n",
       "      <td>операции с недвижимостью</td>\n",
       "      <td>детей нет</td>\n",
       "      <td>4</td>\n",
       "      <td>средний опыт</td>\n",
       "    </tr>\n",
       "    <tr>\n",
       "      <th>20462</th>\n",
       "      <td>0</td>\n",
       "      <td>338734.868540</td>\n",
       "      <td>0</td>\n",
       "      <td>среднее</td>\n",
       "      <td>1</td>\n",
       "      <td>женат / замужем</td>\n",
       "      <td>0</td>\n",
       "      <td>F</td>\n",
       "      <td>пенсионер</td>\n",
       "      <td>0</td>\n",
       "      <td>259193</td>\n",
       "      <td>покупка своего жилья</td>\n",
       "      <td>B</td>\n",
       "      <td>операции с недвижимостью</td>\n",
       "      <td>детей нет</td>\n",
       "      <td>928</td>\n",
       "      <td>None</td>\n",
       "    </tr>\n",
       "    <tr>\n",
       "      <th>20577</th>\n",
       "      <td>0</td>\n",
       "      <td>331741.271455</td>\n",
       "      <td>0</td>\n",
       "      <td>среднее</td>\n",
       "      <td>1</td>\n",
       "      <td>Не женат / не замужем</td>\n",
       "      <td>4</td>\n",
       "      <td>F</td>\n",
       "      <td>пенсионер</td>\n",
       "      <td>0</td>\n",
       "      <td>129788</td>\n",
       "      <td>недвижимость</td>\n",
       "      <td>C</td>\n",
       "      <td>операции с недвижимостью</td>\n",
       "      <td>детей нет</td>\n",
       "      <td>908</td>\n",
       "      <td>None</td>\n",
       "    </tr>\n",
       "    <tr>\n",
       "      <th>21179</th>\n",
       "      <td>2</td>\n",
       "      <td>108.967042</td>\n",
       "      <td>0</td>\n",
       "      <td>высшее</td>\n",
       "      <td>0</td>\n",
       "      <td>женат / замужем</td>\n",
       "      <td>0</td>\n",
       "      <td>M</td>\n",
       "      <td>компаньон</td>\n",
       "      <td>0</td>\n",
       "      <td>240702</td>\n",
       "      <td>строительство жилой недвижимости</td>\n",
       "      <td>B</td>\n",
       "      <td>операции с недвижимостью</td>\n",
       "      <td>есть дети</td>\n",
       "      <td>0</td>\n",
       "      <td>нет опыта</td>\n",
       "    </tr>\n",
       "    <tr>\n",
       "      <th>21313</th>\n",
       "      <td>0</td>\n",
       "      <td>1268.487728</td>\n",
       "      <td>0</td>\n",
       "      <td>среднее</td>\n",
       "      <td>1</td>\n",
       "      <td>Не женат / не замужем</td>\n",
       "      <td>4</td>\n",
       "      <td>M</td>\n",
       "      <td>сотрудник</td>\n",
       "      <td>0</td>\n",
       "      <td>152419</td>\n",
       "      <td>операции с жильем</td>\n",
       "      <td>C</td>\n",
       "      <td>операции с недвижимостью</td>\n",
       "      <td>детей нет</td>\n",
       "      <td>3</td>\n",
       "      <td>небольшой опыт</td>\n",
       "    </tr>\n",
       "  </tbody>\n",
       "</table>\n",
       "<p>100 rows × 17 columns</p>\n",
       "</div>"
      ],
      "text/plain": [
       "       children  days_employed  dob_years education  education_id  \\\n",
       "99            0  346541.618895          0   среднее             1   \n",
       "149           0    2664.273168          0   среднее             1   \n",
       "270           3    1872.663186          0   среднее             1   \n",
       "578           0  397856.565013          0   среднее             1   \n",
       "1040          0    1158.029561          0    высшее             0   \n",
       "...         ...            ...        ...       ...           ...   \n",
       "19829         0    1572.328285          0   среднее             1   \n",
       "20462         0  338734.868540          0   среднее             1   \n",
       "20577         0  331741.271455          0   среднее             1   \n",
       "21179         2     108.967042          0    высшее             0   \n",
       "21313         0    1268.487728          0   среднее             1   \n",
       "\n",
       "               family_status  family_status_id gender income_type  debt  \\\n",
       "99           женат / замужем                 0      F   пенсионер     0   \n",
       "149                в разводе                 3      F   сотрудник     0   \n",
       "270          женат / замужем                 0      F   сотрудник     0   \n",
       "578          женат / замужем                 0      F   пенсионер     0   \n",
       "1040               в разводе                 3      F   компаньон     0   \n",
       "...                      ...               ...    ...         ...   ...   \n",
       "19829        женат / замужем                 0      F   сотрудник     0   \n",
       "20462        женат / замужем                 0      F   пенсионер     0   \n",
       "20577  Не женат / не замужем                 4      F   пенсионер     0   \n",
       "21179        женат / замужем                 0      M   компаньон     0   \n",
       "21313  Не женат / не замужем                 4      M   сотрудник     0   \n",
       "\n",
       "       total_income                                 purpose  \\\n",
       "99            71291                              автомобиль   \n",
       "149           70176                       операции с жильем   \n",
       "270          102166                            ремонт жилью   \n",
       "578           97620  строительство собственной недвижимости   \n",
       "1040         303994                         свой автомобиль   \n",
       "...             ...                                     ...   \n",
       "19829        142594                                   жилье   \n",
       "20462        259193                    покупка своего жилья   \n",
       "20577        129788                            недвижимость   \n",
       "21179        240702        строительство жилой недвижимости   \n",
       "21313        152419                       операции с жильем   \n",
       "\n",
       "      total_income_category          purpose_category children_category  \\\n",
       "99                        C    операции с автомобилем         детей нет   \n",
       "149                       C  операции с недвижимостью         детей нет   \n",
       "270                       C  операции с недвижимостью         есть дети   \n",
       "578                       C  операции с недвижимостью         детей нет   \n",
       "1040                      B    операции с автомобилем         детей нет   \n",
       "...                     ...                       ...               ...   \n",
       "19829                     C  операции с недвижимостью         детей нет   \n",
       "20462                     B  операции с недвижимостью         детей нет   \n",
       "20577                     C  операции с недвижимостью         детей нет   \n",
       "21179                     B  операции с недвижимостью         есть дети   \n",
       "21313                     C  операции с недвижимостью         детей нет   \n",
       "\n",
       "       years_employed experience_category  \n",
       "99                949                None  \n",
       "149                 7        средний опыт  \n",
       "270                 5        средний опыт  \n",
       "578              1090                None  \n",
       "1040                3      небольшой опыт  \n",
       "...               ...                 ...  \n",
       "19829               4        средний опыт  \n",
       "20462             928                None  \n",
       "20577             908                None  \n",
       "21179               0           нет опыта  \n",
       "21313               3      небольшой опыт  \n",
       "\n",
       "[100 rows x 17 columns]"
      ]
     },
     "execution_count": 72,
     "metadata": {},
     "output_type": "execute_result"
    }
   ],
   "source": [
    "#0 лет явно является ошибкой. \n",
    "#Проверим, как много клиентов имеют данный возраст\n",
    "\n",
    "data[data['dob_years'] == 0]"
   ]
  },
  {
   "cell_type": "code",
   "execution_count": 73,
   "id": "def72ee7",
   "metadata": {},
   "outputs": [
    {
     "data": {
      "text/html": [
       "<div>\n",
       "<style scoped>\n",
       "    .dataframe tbody tr th:only-of-type {\n",
       "        vertical-align: middle;\n",
       "    }\n",
       "\n",
       "    .dataframe tbody tr th {\n",
       "        vertical-align: top;\n",
       "    }\n",
       "\n",
       "    .dataframe thead th {\n",
       "        text-align: right;\n",
       "    }\n",
       "</style>\n",
       "<table border=\"1\" class=\"dataframe\">\n",
       "  <thead>\n",
       "    <tr style=\"text-align: right;\">\n",
       "      <th></th>\n",
       "      <th>children</th>\n",
       "      <th>days_employed</th>\n",
       "      <th>dob_years</th>\n",
       "      <th>education</th>\n",
       "      <th>education_id</th>\n",
       "      <th>family_status</th>\n",
       "      <th>family_status_id</th>\n",
       "      <th>gender</th>\n",
       "      <th>income_type</th>\n",
       "      <th>debt</th>\n",
       "      <th>total_income</th>\n",
       "      <th>purpose</th>\n",
       "      <th>total_income_category</th>\n",
       "      <th>purpose_category</th>\n",
       "      <th>children_category</th>\n",
       "      <th>years_employed</th>\n",
       "      <th>experience_category</th>\n",
       "    </tr>\n",
       "  </thead>\n",
       "  <tbody>\n",
       "    <tr>\n",
       "      <th>0</th>\n",
       "      <td>1</td>\n",
       "      <td>8437.673028</td>\n",
       "      <td>42</td>\n",
       "      <td>высшее</td>\n",
       "      <td>0</td>\n",
       "      <td>женат / замужем</td>\n",
       "      <td>0</td>\n",
       "      <td>F</td>\n",
       "      <td>сотрудник</td>\n",
       "      <td>0</td>\n",
       "      <td>253875</td>\n",
       "      <td>покупка жилья</td>\n",
       "      <td>B</td>\n",
       "      <td>операции с недвижимостью</td>\n",
       "      <td>есть дети</td>\n",
       "      <td>23</td>\n",
       "      <td>большой опыт</td>\n",
       "    </tr>\n",
       "    <tr>\n",
       "      <th>1</th>\n",
       "      <td>1</td>\n",
       "      <td>4024.803754</td>\n",
       "      <td>36</td>\n",
       "      <td>среднее</td>\n",
       "      <td>1</td>\n",
       "      <td>женат / замужем</td>\n",
       "      <td>0</td>\n",
       "      <td>F</td>\n",
       "      <td>сотрудник</td>\n",
       "      <td>0</td>\n",
       "      <td>112080</td>\n",
       "      <td>приобретение автомобиля</td>\n",
       "      <td>C</td>\n",
       "      <td>операции с автомобилем</td>\n",
       "      <td>есть дети</td>\n",
       "      <td>11</td>\n",
       "      <td>большой опыт</td>\n",
       "    </tr>\n",
       "    <tr>\n",
       "      <th>2</th>\n",
       "      <td>0</td>\n",
       "      <td>5623.422610</td>\n",
       "      <td>33</td>\n",
       "      <td>среднее</td>\n",
       "      <td>1</td>\n",
       "      <td>женат / замужем</td>\n",
       "      <td>0</td>\n",
       "      <td>M</td>\n",
       "      <td>сотрудник</td>\n",
       "      <td>0</td>\n",
       "      <td>145885</td>\n",
       "      <td>покупка жилья</td>\n",
       "      <td>C</td>\n",
       "      <td>операции с недвижимостью</td>\n",
       "      <td>детей нет</td>\n",
       "      <td>15</td>\n",
       "      <td>большой опыт</td>\n",
       "    </tr>\n",
       "    <tr>\n",
       "      <th>3</th>\n",
       "      <td>3</td>\n",
       "      <td>4124.747207</td>\n",
       "      <td>32</td>\n",
       "      <td>среднее</td>\n",
       "      <td>1</td>\n",
       "      <td>женат / замужем</td>\n",
       "      <td>0</td>\n",
       "      <td>M</td>\n",
       "      <td>сотрудник</td>\n",
       "      <td>0</td>\n",
       "      <td>267628</td>\n",
       "      <td>дополнительное образование</td>\n",
       "      <td>B</td>\n",
       "      <td>получение образования</td>\n",
       "      <td>есть дети</td>\n",
       "      <td>11</td>\n",
       "      <td>большой опыт</td>\n",
       "    </tr>\n",
       "    <tr>\n",
       "      <th>4</th>\n",
       "      <td>0</td>\n",
       "      <td>340266.072047</td>\n",
       "      <td>53</td>\n",
       "      <td>среднее</td>\n",
       "      <td>1</td>\n",
       "      <td>гражданский брак</td>\n",
       "      <td>1</td>\n",
       "      <td>F</td>\n",
       "      <td>пенсионер</td>\n",
       "      <td>0</td>\n",
       "      <td>158616</td>\n",
       "      <td>сыграть свадьбу</td>\n",
       "      <td>C</td>\n",
       "      <td>проведение свадьбы</td>\n",
       "      <td>детей нет</td>\n",
       "      <td>932</td>\n",
       "      <td>None</td>\n",
       "    </tr>\n",
       "    <tr>\n",
       "      <th>5</th>\n",
       "      <td>0</td>\n",
       "      <td>926.185831</td>\n",
       "      <td>27</td>\n",
       "      <td>высшее</td>\n",
       "      <td>0</td>\n",
       "      <td>гражданский брак</td>\n",
       "      <td>1</td>\n",
       "      <td>M</td>\n",
       "      <td>компаньон</td>\n",
       "      <td>0</td>\n",
       "      <td>255763</td>\n",
       "      <td>покупка жилья</td>\n",
       "      <td>B</td>\n",
       "      <td>операции с недвижимостью</td>\n",
       "      <td>детей нет</td>\n",
       "      <td>2</td>\n",
       "      <td>небольшой опыт</td>\n",
       "    </tr>\n",
       "    <tr>\n",
       "      <th>6</th>\n",
       "      <td>0</td>\n",
       "      <td>2879.202052</td>\n",
       "      <td>43</td>\n",
       "      <td>высшее</td>\n",
       "      <td>0</td>\n",
       "      <td>женат / замужем</td>\n",
       "      <td>0</td>\n",
       "      <td>F</td>\n",
       "      <td>компаньон</td>\n",
       "      <td>0</td>\n",
       "      <td>240525</td>\n",
       "      <td>операции с жильем</td>\n",
       "      <td>B</td>\n",
       "      <td>операции с недвижимостью</td>\n",
       "      <td>детей нет</td>\n",
       "      <td>7</td>\n",
       "      <td>средний опыт</td>\n",
       "    </tr>\n",
       "    <tr>\n",
       "      <th>7</th>\n",
       "      <td>0</td>\n",
       "      <td>152.779569</td>\n",
       "      <td>50</td>\n",
       "      <td>среднее</td>\n",
       "      <td>1</td>\n",
       "      <td>женат / замужем</td>\n",
       "      <td>0</td>\n",
       "      <td>M</td>\n",
       "      <td>сотрудник</td>\n",
       "      <td>0</td>\n",
       "      <td>135823</td>\n",
       "      <td>образование</td>\n",
       "      <td>C</td>\n",
       "      <td>получение образования</td>\n",
       "      <td>детей нет</td>\n",
       "      <td>0</td>\n",
       "      <td>нет опыта</td>\n",
       "    </tr>\n",
       "    <tr>\n",
       "      <th>8</th>\n",
       "      <td>2</td>\n",
       "      <td>6929.865299</td>\n",
       "      <td>35</td>\n",
       "      <td>высшее</td>\n",
       "      <td>0</td>\n",
       "      <td>гражданский брак</td>\n",
       "      <td>1</td>\n",
       "      <td>F</td>\n",
       "      <td>сотрудник</td>\n",
       "      <td>0</td>\n",
       "      <td>95856</td>\n",
       "      <td>на проведение свадьбы</td>\n",
       "      <td>C</td>\n",
       "      <td>проведение свадьбы</td>\n",
       "      <td>есть дети</td>\n",
       "      <td>18</td>\n",
       "      <td>большой опыт</td>\n",
       "    </tr>\n",
       "    <tr>\n",
       "      <th>9</th>\n",
       "      <td>0</td>\n",
       "      <td>2188.756445</td>\n",
       "      <td>41</td>\n",
       "      <td>среднее</td>\n",
       "      <td>1</td>\n",
       "      <td>женат / замужем</td>\n",
       "      <td>0</td>\n",
       "      <td>M</td>\n",
       "      <td>сотрудник</td>\n",
       "      <td>0</td>\n",
       "      <td>144425</td>\n",
       "      <td>покупка жилья для семьи</td>\n",
       "      <td>C</td>\n",
       "      <td>операции с недвижимостью</td>\n",
       "      <td>детей нет</td>\n",
       "      <td>5</td>\n",
       "      <td>средний опыт</td>\n",
       "    </tr>\n",
       "  </tbody>\n",
       "</table>\n",
       "</div>"
      ],
      "text/plain": [
       "   children  days_employed  dob_years education  education_id  \\\n",
       "0         1    8437.673028         42    высшее             0   \n",
       "1         1    4024.803754         36   среднее             1   \n",
       "2         0    5623.422610         33   среднее             1   \n",
       "3         3    4124.747207         32   среднее             1   \n",
       "4         0  340266.072047         53   среднее             1   \n",
       "5         0     926.185831         27    высшее             0   \n",
       "6         0    2879.202052         43    высшее             0   \n",
       "7         0     152.779569         50   среднее             1   \n",
       "8         2    6929.865299         35    высшее             0   \n",
       "9         0    2188.756445         41   среднее             1   \n",
       "\n",
       "      family_status  family_status_id gender income_type  debt  total_income  \\\n",
       "0   женат / замужем                 0      F   сотрудник     0        253875   \n",
       "1   женат / замужем                 0      F   сотрудник     0        112080   \n",
       "2   женат / замужем                 0      M   сотрудник     0        145885   \n",
       "3   женат / замужем                 0      M   сотрудник     0        267628   \n",
       "4  гражданский брак                 1      F   пенсионер     0        158616   \n",
       "5  гражданский брак                 1      M   компаньон     0        255763   \n",
       "6   женат / замужем                 0      F   компаньон     0        240525   \n",
       "7   женат / замужем                 0      M   сотрудник     0        135823   \n",
       "8  гражданский брак                 1      F   сотрудник     0         95856   \n",
       "9   женат / замужем                 0      M   сотрудник     0        144425   \n",
       "\n",
       "                      purpose total_income_category          purpose_category  \\\n",
       "0               покупка жилья                     B  операции с недвижимостью   \n",
       "1     приобретение автомобиля                     C    операции с автомобилем   \n",
       "2               покупка жилья                     C  операции с недвижимостью   \n",
       "3  дополнительное образование                     B     получение образования   \n",
       "4             сыграть свадьбу                     C        проведение свадьбы   \n",
       "5               покупка жилья                     B  операции с недвижимостью   \n",
       "6           операции с жильем                     B  операции с недвижимостью   \n",
       "7                 образование                     C     получение образования   \n",
       "8       на проведение свадьбы                     C        проведение свадьбы   \n",
       "9     покупка жилья для семьи                     C  операции с недвижимостью   \n",
       "\n",
       "  children_category  years_employed experience_category  \n",
       "0         есть дети              23        большой опыт  \n",
       "1         есть дети              11        большой опыт  \n",
       "2         детей нет              15        большой опыт  \n",
       "3         есть дети              11        большой опыт  \n",
       "4         детей нет             932                None  \n",
       "5         детей нет               2      небольшой опыт  \n",
       "6         детей нет               7        средний опыт  \n",
       "7         детей нет               0           нет опыта  \n",
       "8         есть дети              18        большой опыт  \n",
       "9         детей нет               5        средний опыт  "
      ]
     },
     "execution_count": 73,
     "metadata": {},
     "output_type": "execute_result"
    }
   ],
   "source": [
    "#100 клиентов не указали возраста. \n",
    "#Чтобы предположить их возраст, посмотрим, в каких профессиональных категориях они состоят.\n",
    "#Например, из этого логично предположить, что возраст пенсионера должен быть выше, \n",
    "#чем должность сотрудника\n",
    "\n",
    "data[data['dob_years'] == 0]['income_type'].value_counts()\n",
    "data.head(10)"
   ]
  },
  {
   "cell_type": "code",
   "execution_count": 74,
   "id": "0dc92231",
   "metadata": {},
   "outputs": [],
   "source": [
    "# вставим пропущенные значения медианными по категориям \n",
    "\n",
    "for t in data['income_type'].unique():\n",
    "    data.loc[(data['income_type'] == t) & (data['dob_years'] == 0), 'dob_years'] = \\\n",
    "    data.loc[(data['income_type'] == t), 'dob_years'].median()\n"
   ]
  },
  {
   "cell_type": "code",
   "execution_count": 75,
   "id": "3b36416a",
   "metadata": {},
   "outputs": [
    {
     "data": {
      "text/plain": [
       "60.0"
      ]
     },
     "metadata": {},
     "output_type": "display_data"
    },
    {
     "data": {
      "text/plain": [
       "39.0"
      ]
     },
     "execution_count": 75,
     "metadata": {},
     "output_type": "execute_result"
    }
   ],
   "source": [
    "#проверим на клиентах с индексами 99 и 149 - пенсионер и сотрудник соответственно\n",
    "\n",
    "display(data.loc[99, 'dob_years']  )\n",
    "data.loc[149, 'dob_years']  "
   ]
  },
  {
   "cell_type": "code",
   "execution_count": 76,
   "id": "adbc24c7",
   "metadata": {},
   "outputs": [],
   "source": [
    "#сгруппируем всех клиентов по возрастным категориям:\n",
    "\n",
    "def categorize_age(age):\n",
    "    if age <= 30: \n",
    "        return 'до 30 лет'\n",
    "    elif age <= 55:\n",
    "        return '31-55 лет'\n",
    "    return 'старше 56 лет'"
   ]
  },
  {
   "cell_type": "code",
   "execution_count": 77,
   "id": "fae0da0c",
   "metadata": {},
   "outputs": [
    {
     "data": {
      "text/html": [
       "<div>\n",
       "<style scoped>\n",
       "    .dataframe tbody tr th:only-of-type {\n",
       "        vertical-align: middle;\n",
       "    }\n",
       "\n",
       "    .dataframe tbody tr th {\n",
       "        vertical-align: top;\n",
       "    }\n",
       "\n",
       "    .dataframe thead th {\n",
       "        text-align: right;\n",
       "    }\n",
       "</style>\n",
       "<table border=\"1\" class=\"dataframe\">\n",
       "  <thead>\n",
       "    <tr style=\"text-align: right;\">\n",
       "      <th></th>\n",
       "      <th>children</th>\n",
       "      <th>days_employed</th>\n",
       "      <th>dob_years</th>\n",
       "      <th>education</th>\n",
       "      <th>education_id</th>\n",
       "      <th>family_status</th>\n",
       "      <th>family_status_id</th>\n",
       "      <th>gender</th>\n",
       "      <th>income_type</th>\n",
       "      <th>debt</th>\n",
       "      <th>total_income</th>\n",
       "      <th>purpose</th>\n",
       "      <th>total_income_category</th>\n",
       "      <th>purpose_category</th>\n",
       "      <th>children_category</th>\n",
       "      <th>years_employed</th>\n",
       "      <th>experience_category</th>\n",
       "      <th>years_category</th>\n",
       "    </tr>\n",
       "  </thead>\n",
       "  <tbody>\n",
       "    <tr>\n",
       "      <th>0</th>\n",
       "      <td>1</td>\n",
       "      <td>8437.673028</td>\n",
       "      <td>42.0</td>\n",
       "      <td>высшее</td>\n",
       "      <td>0</td>\n",
       "      <td>женат / замужем</td>\n",
       "      <td>0</td>\n",
       "      <td>F</td>\n",
       "      <td>сотрудник</td>\n",
       "      <td>0</td>\n",
       "      <td>253875</td>\n",
       "      <td>покупка жилья</td>\n",
       "      <td>B</td>\n",
       "      <td>операции с недвижимостью</td>\n",
       "      <td>есть дети</td>\n",
       "      <td>23</td>\n",
       "      <td>большой опыт</td>\n",
       "      <td>31-55 лет</td>\n",
       "    </tr>\n",
       "    <tr>\n",
       "      <th>1</th>\n",
       "      <td>1</td>\n",
       "      <td>4024.803754</td>\n",
       "      <td>36.0</td>\n",
       "      <td>среднее</td>\n",
       "      <td>1</td>\n",
       "      <td>женат / замужем</td>\n",
       "      <td>0</td>\n",
       "      <td>F</td>\n",
       "      <td>сотрудник</td>\n",
       "      <td>0</td>\n",
       "      <td>112080</td>\n",
       "      <td>приобретение автомобиля</td>\n",
       "      <td>C</td>\n",
       "      <td>операции с автомобилем</td>\n",
       "      <td>есть дети</td>\n",
       "      <td>11</td>\n",
       "      <td>большой опыт</td>\n",
       "      <td>31-55 лет</td>\n",
       "    </tr>\n",
       "    <tr>\n",
       "      <th>2</th>\n",
       "      <td>0</td>\n",
       "      <td>5623.422610</td>\n",
       "      <td>33.0</td>\n",
       "      <td>среднее</td>\n",
       "      <td>1</td>\n",
       "      <td>женат / замужем</td>\n",
       "      <td>0</td>\n",
       "      <td>M</td>\n",
       "      <td>сотрудник</td>\n",
       "      <td>0</td>\n",
       "      <td>145885</td>\n",
       "      <td>покупка жилья</td>\n",
       "      <td>C</td>\n",
       "      <td>операции с недвижимостью</td>\n",
       "      <td>детей нет</td>\n",
       "      <td>15</td>\n",
       "      <td>большой опыт</td>\n",
       "      <td>31-55 лет</td>\n",
       "    </tr>\n",
       "    <tr>\n",
       "      <th>3</th>\n",
       "      <td>3</td>\n",
       "      <td>4124.747207</td>\n",
       "      <td>32.0</td>\n",
       "      <td>среднее</td>\n",
       "      <td>1</td>\n",
       "      <td>женат / замужем</td>\n",
       "      <td>0</td>\n",
       "      <td>M</td>\n",
       "      <td>сотрудник</td>\n",
       "      <td>0</td>\n",
       "      <td>267628</td>\n",
       "      <td>дополнительное образование</td>\n",
       "      <td>B</td>\n",
       "      <td>получение образования</td>\n",
       "      <td>есть дети</td>\n",
       "      <td>11</td>\n",
       "      <td>большой опыт</td>\n",
       "      <td>31-55 лет</td>\n",
       "    </tr>\n",
       "    <tr>\n",
       "      <th>4</th>\n",
       "      <td>0</td>\n",
       "      <td>340266.072047</td>\n",
       "      <td>53.0</td>\n",
       "      <td>среднее</td>\n",
       "      <td>1</td>\n",
       "      <td>гражданский брак</td>\n",
       "      <td>1</td>\n",
       "      <td>F</td>\n",
       "      <td>пенсионер</td>\n",
       "      <td>0</td>\n",
       "      <td>158616</td>\n",
       "      <td>сыграть свадьбу</td>\n",
       "      <td>C</td>\n",
       "      <td>проведение свадьбы</td>\n",
       "      <td>детей нет</td>\n",
       "      <td>932</td>\n",
       "      <td>None</td>\n",
       "      <td>31-55 лет</td>\n",
       "    </tr>\n",
       "    <tr>\n",
       "      <th>5</th>\n",
       "      <td>0</td>\n",
       "      <td>926.185831</td>\n",
       "      <td>27.0</td>\n",
       "      <td>высшее</td>\n",
       "      <td>0</td>\n",
       "      <td>гражданский брак</td>\n",
       "      <td>1</td>\n",
       "      <td>M</td>\n",
       "      <td>компаньон</td>\n",
       "      <td>0</td>\n",
       "      <td>255763</td>\n",
       "      <td>покупка жилья</td>\n",
       "      <td>B</td>\n",
       "      <td>операции с недвижимостью</td>\n",
       "      <td>детей нет</td>\n",
       "      <td>2</td>\n",
       "      <td>небольшой опыт</td>\n",
       "      <td>до 30 лет</td>\n",
       "    </tr>\n",
       "    <tr>\n",
       "      <th>6</th>\n",
       "      <td>0</td>\n",
       "      <td>2879.202052</td>\n",
       "      <td>43.0</td>\n",
       "      <td>высшее</td>\n",
       "      <td>0</td>\n",
       "      <td>женат / замужем</td>\n",
       "      <td>0</td>\n",
       "      <td>F</td>\n",
       "      <td>компаньон</td>\n",
       "      <td>0</td>\n",
       "      <td>240525</td>\n",
       "      <td>операции с жильем</td>\n",
       "      <td>B</td>\n",
       "      <td>операции с недвижимостью</td>\n",
       "      <td>детей нет</td>\n",
       "      <td>7</td>\n",
       "      <td>средний опыт</td>\n",
       "      <td>31-55 лет</td>\n",
       "    </tr>\n",
       "    <tr>\n",
       "      <th>7</th>\n",
       "      <td>0</td>\n",
       "      <td>152.779569</td>\n",
       "      <td>50.0</td>\n",
       "      <td>среднее</td>\n",
       "      <td>1</td>\n",
       "      <td>женат / замужем</td>\n",
       "      <td>0</td>\n",
       "      <td>M</td>\n",
       "      <td>сотрудник</td>\n",
       "      <td>0</td>\n",
       "      <td>135823</td>\n",
       "      <td>образование</td>\n",
       "      <td>C</td>\n",
       "      <td>получение образования</td>\n",
       "      <td>детей нет</td>\n",
       "      <td>0</td>\n",
       "      <td>нет опыта</td>\n",
       "      <td>31-55 лет</td>\n",
       "    </tr>\n",
       "    <tr>\n",
       "      <th>8</th>\n",
       "      <td>2</td>\n",
       "      <td>6929.865299</td>\n",
       "      <td>35.0</td>\n",
       "      <td>высшее</td>\n",
       "      <td>0</td>\n",
       "      <td>гражданский брак</td>\n",
       "      <td>1</td>\n",
       "      <td>F</td>\n",
       "      <td>сотрудник</td>\n",
       "      <td>0</td>\n",
       "      <td>95856</td>\n",
       "      <td>на проведение свадьбы</td>\n",
       "      <td>C</td>\n",
       "      <td>проведение свадьбы</td>\n",
       "      <td>есть дети</td>\n",
       "      <td>18</td>\n",
       "      <td>большой опыт</td>\n",
       "      <td>31-55 лет</td>\n",
       "    </tr>\n",
       "    <tr>\n",
       "      <th>9</th>\n",
       "      <td>0</td>\n",
       "      <td>2188.756445</td>\n",
       "      <td>41.0</td>\n",
       "      <td>среднее</td>\n",
       "      <td>1</td>\n",
       "      <td>женат / замужем</td>\n",
       "      <td>0</td>\n",
       "      <td>M</td>\n",
       "      <td>сотрудник</td>\n",
       "      <td>0</td>\n",
       "      <td>144425</td>\n",
       "      <td>покупка жилья для семьи</td>\n",
       "      <td>C</td>\n",
       "      <td>операции с недвижимостью</td>\n",
       "      <td>детей нет</td>\n",
       "      <td>5</td>\n",
       "      <td>средний опыт</td>\n",
       "      <td>31-55 лет</td>\n",
       "    </tr>\n",
       "  </tbody>\n",
       "</table>\n",
       "</div>"
      ],
      "text/plain": [
       "   children  days_employed  dob_years education  education_id  \\\n",
       "0         1    8437.673028       42.0    высшее             0   \n",
       "1         1    4024.803754       36.0   среднее             1   \n",
       "2         0    5623.422610       33.0   среднее             1   \n",
       "3         3    4124.747207       32.0   среднее             1   \n",
       "4         0  340266.072047       53.0   среднее             1   \n",
       "5         0     926.185831       27.0    высшее             0   \n",
       "6         0    2879.202052       43.0    высшее             0   \n",
       "7         0     152.779569       50.0   среднее             1   \n",
       "8         2    6929.865299       35.0    высшее             0   \n",
       "9         0    2188.756445       41.0   среднее             1   \n",
       "\n",
       "      family_status  family_status_id gender income_type  debt  total_income  \\\n",
       "0   женат / замужем                 0      F   сотрудник     0        253875   \n",
       "1   женат / замужем                 0      F   сотрудник     0        112080   \n",
       "2   женат / замужем                 0      M   сотрудник     0        145885   \n",
       "3   женат / замужем                 0      M   сотрудник     0        267628   \n",
       "4  гражданский брак                 1      F   пенсионер     0        158616   \n",
       "5  гражданский брак                 1      M   компаньон     0        255763   \n",
       "6   женат / замужем                 0      F   компаньон     0        240525   \n",
       "7   женат / замужем                 0      M   сотрудник     0        135823   \n",
       "8  гражданский брак                 1      F   сотрудник     0         95856   \n",
       "9   женат / замужем                 0      M   сотрудник     0        144425   \n",
       "\n",
       "                      purpose total_income_category          purpose_category  \\\n",
       "0               покупка жилья                     B  операции с недвижимостью   \n",
       "1     приобретение автомобиля                     C    операции с автомобилем   \n",
       "2               покупка жилья                     C  операции с недвижимостью   \n",
       "3  дополнительное образование                     B     получение образования   \n",
       "4             сыграть свадьбу                     C        проведение свадьбы   \n",
       "5               покупка жилья                     B  операции с недвижимостью   \n",
       "6           операции с жильем                     B  операции с недвижимостью   \n",
       "7                 образование                     C     получение образования   \n",
       "8       на проведение свадьбы                     C        проведение свадьбы   \n",
       "9     покупка жилья для семьи                     C  операции с недвижимостью   \n",
       "\n",
       "  children_category  years_employed experience_category years_category  \n",
       "0         есть дети              23        большой опыт      31-55 лет  \n",
       "1         есть дети              11        большой опыт      31-55 лет  \n",
       "2         детей нет              15        большой опыт      31-55 лет  \n",
       "3         есть дети              11        большой опыт      31-55 лет  \n",
       "4         детей нет             932                None      31-55 лет  \n",
       "5         детей нет               2      небольшой опыт      до 30 лет  \n",
       "6         детей нет               7        средний опыт      31-55 лет  \n",
       "7         детей нет               0           нет опыта      31-55 лет  \n",
       "8         есть дети              18        большой опыт      31-55 лет  \n",
       "9         детей нет               5        средний опыт      31-55 лет  "
      ]
     },
     "execution_count": 77,
     "metadata": {},
     "output_type": "execute_result"
    }
   ],
   "source": [
    "data['years_category'] = data['dob_years'].apply(categorize_age)\n",
    "data.head(10)"
   ]
  },
  {
   "cell_type": "markdown",
   "id": "7bfd25cd",
   "metadata": {},
   "source": [
    "Вернемся к целям кредита. Для начала посмотрим на общую статистику по данной группе."
   ]
  },
  {
   "cell_type": "code",
   "execution_count": 78,
   "id": "2b687290",
   "metadata": {
    "id": "2b687290"
   },
   "outputs": [
    {
     "data": {
      "text/html": [
       "<div>\n",
       "<style scoped>\n",
       "    .dataframe tbody tr th:only-of-type {\n",
       "        vertical-align: middle;\n",
       "    }\n",
       "\n",
       "    .dataframe tbody tr th {\n",
       "        vertical-align: top;\n",
       "    }\n",
       "\n",
       "    .dataframe thead th {\n",
       "        text-align: right;\n",
       "    }\n",
       "</style>\n",
       "<table border=\"1\" class=\"dataframe\">\n",
       "  <thead>\n",
       "    <tr style=\"text-align: right;\">\n",
       "      <th></th>\n",
       "      <th>purpose_category</th>\n",
       "      <th>purpose</th>\n",
       "    </tr>\n",
       "  </thead>\n",
       "  <tbody>\n",
       "    <tr>\n",
       "      <th>0</th>\n",
       "      <td>операции с автомобилем</td>\n",
       "      <td>4281</td>\n",
       "    </tr>\n",
       "    <tr>\n",
       "      <th>1</th>\n",
       "      <td>операции с недвижимостью</td>\n",
       "      <td>10754</td>\n",
       "    </tr>\n",
       "    <tr>\n",
       "      <th>2</th>\n",
       "      <td>получение образования</td>\n",
       "      <td>3989</td>\n",
       "    </tr>\n",
       "    <tr>\n",
       "      <th>3</th>\n",
       "      <td>проведение свадьбы</td>\n",
       "      <td>2324</td>\n",
       "    </tr>\n",
       "  </tbody>\n",
       "</table>\n",
       "</div>"
      ],
      "text/plain": [
       "           purpose_category  purpose\n",
       "0    операции с автомобилем     4281\n",
       "1  операции с недвижимостью    10754\n",
       "2     получение образования     3989\n",
       "3        проведение свадьбы     2324"
      ]
     },
     "execution_count": 78,
     "metadata": {},
     "output_type": "execute_result"
    }
   ],
   "source": [
    "# составляем таблицу по аналогии с предыдущими заданиями\n",
    "\n",
    "purpose_influence = data.groupby(by=['purpose_category'],as_index=False) \\\n",
    "['purpose'].count()\n",
    "purpose_influence"
   ]
  },
  {
   "cell_type": "code",
   "execution_count": 79,
   "id": "e9c3b96f",
   "metadata": {},
   "outputs": [
    {
     "data": {
      "text/html": [
       "<div>\n",
       "<style scoped>\n",
       "    .dataframe tbody tr th:only-of-type {\n",
       "        vertical-align: middle;\n",
       "    }\n",
       "\n",
       "    .dataframe tbody tr th {\n",
       "        vertical-align: top;\n",
       "    }\n",
       "\n",
       "    .dataframe thead th {\n",
       "        text-align: right;\n",
       "    }\n",
       "</style>\n",
       "<table border=\"1\" class=\"dataframe\">\n",
       "  <thead>\n",
       "    <tr style=\"text-align: right;\">\n",
       "      <th></th>\n",
       "      <th>purpose_category</th>\n",
       "      <th>purpose</th>\n",
       "    </tr>\n",
       "  </thead>\n",
       "  <tbody>\n",
       "    <tr>\n",
       "      <th>0</th>\n",
       "      <td>операции с автомобилем</td>\n",
       "      <td>400</td>\n",
       "    </tr>\n",
       "    <tr>\n",
       "      <th>1</th>\n",
       "      <td>операции с недвижимостью</td>\n",
       "      <td>780</td>\n",
       "    </tr>\n",
       "    <tr>\n",
       "      <th>2</th>\n",
       "      <td>получение образования</td>\n",
       "      <td>369</td>\n",
       "    </tr>\n",
       "    <tr>\n",
       "      <th>3</th>\n",
       "      <td>проведение свадьбы</td>\n",
       "      <td>183</td>\n",
       "    </tr>\n",
       "  </tbody>\n",
       "</table>\n",
       "</div>"
      ],
      "text/plain": [
       "           purpose_category  purpose\n",
       "0    операции с автомобилем      400\n",
       "1  операции с недвижимостью      780\n",
       "2     получение образования      369\n",
       "3        проведение свадьбы      183"
      ]
     },
     "execution_count": 79,
     "metadata": {},
     "output_type": "execute_result"
    }
   ],
   "source": [
    "temp = data[data['debt'] == 1].groupby(by=['purpose_category'],as_index=False) \\\n",
    "['purpose'].count()\n",
    "temp"
   ]
  },
  {
   "cell_type": "code",
   "execution_count": 80,
   "id": "bcb50c0e",
   "metadata": {},
   "outputs": [
    {
     "data": {
      "text/html": [
       "<div>\n",
       "<style scoped>\n",
       "    .dataframe tbody tr th:only-of-type {\n",
       "        vertical-align: middle;\n",
       "    }\n",
       "\n",
       "    .dataframe tbody tr th {\n",
       "        vertical-align: top;\n",
       "    }\n",
       "\n",
       "    .dataframe thead th {\n",
       "        text-align: right;\n",
       "    }\n",
       "</style>\n",
       "<table border=\"1\" class=\"dataframe\">\n",
       "  <thead>\n",
       "    <tr style=\"text-align: right;\">\n",
       "      <th></th>\n",
       "      <th>purpose_category</th>\n",
       "      <th>purpose</th>\n",
       "      <th>having_debts</th>\n",
       "    </tr>\n",
       "  </thead>\n",
       "  <tbody>\n",
       "    <tr>\n",
       "      <th>0</th>\n",
       "      <td>операции с автомобилем</td>\n",
       "      <td>4281</td>\n",
       "      <td>400</td>\n",
       "    </tr>\n",
       "    <tr>\n",
       "      <th>1</th>\n",
       "      <td>операции с недвижимостью</td>\n",
       "      <td>10754</td>\n",
       "      <td>780</td>\n",
       "    </tr>\n",
       "    <tr>\n",
       "      <th>2</th>\n",
       "      <td>получение образования</td>\n",
       "      <td>3989</td>\n",
       "      <td>369</td>\n",
       "    </tr>\n",
       "    <tr>\n",
       "      <th>3</th>\n",
       "      <td>проведение свадьбы</td>\n",
       "      <td>2324</td>\n",
       "      <td>183</td>\n",
       "    </tr>\n",
       "  </tbody>\n",
       "</table>\n",
       "</div>"
      ],
      "text/plain": [
       "           purpose_category  purpose  having_debts\n",
       "0    операции с автомобилем     4281           400\n",
       "1  операции с недвижимостью    10754           780\n",
       "2     получение образования     3989           369\n",
       "3        проведение свадьбы     2324           183"
      ]
     },
     "execution_count": 80,
     "metadata": {},
     "output_type": "execute_result"
    }
   ],
   "source": [
    "purpose_influence['having_debts'] = temp['purpose']\n",
    "purpose_influence"
   ]
  },
  {
   "cell_type": "code",
   "execution_count": 81,
   "id": "d7f53bd5",
   "metadata": {},
   "outputs": [
    {
     "data": {
      "text/html": [
       "<div>\n",
       "<style scoped>\n",
       "    .dataframe tbody tr th:only-of-type {\n",
       "        vertical-align: middle;\n",
       "    }\n",
       "\n",
       "    .dataframe tbody tr th {\n",
       "        vertical-align: top;\n",
       "    }\n",
       "\n",
       "    .dataframe thead th {\n",
       "        text-align: right;\n",
       "    }\n",
       "</style>\n",
       "<table border=\"1\" class=\"dataframe\">\n",
       "  <thead>\n",
       "    <tr style=\"text-align: right;\">\n",
       "      <th></th>\n",
       "      <th>purpose_category</th>\n",
       "      <th>purpose</th>\n",
       "      <th>having_debts</th>\n",
       "      <th>percent_of_having_debts</th>\n",
       "    </tr>\n",
       "  </thead>\n",
       "  <tbody>\n",
       "    <tr>\n",
       "      <th>0</th>\n",
       "      <td>операции с автомобилем</td>\n",
       "      <td>4281</td>\n",
       "      <td>400</td>\n",
       "      <td>9.343611</td>\n",
       "    </tr>\n",
       "    <tr>\n",
       "      <th>1</th>\n",
       "      <td>операции с недвижимостью</td>\n",
       "      <td>10754</td>\n",
       "      <td>780</td>\n",
       "      <td>7.253115</td>\n",
       "    </tr>\n",
       "    <tr>\n",
       "      <th>2</th>\n",
       "      <td>получение образования</td>\n",
       "      <td>3989</td>\n",
       "      <td>369</td>\n",
       "      <td>9.250439</td>\n",
       "    </tr>\n",
       "    <tr>\n",
       "      <th>3</th>\n",
       "      <td>проведение свадьбы</td>\n",
       "      <td>2324</td>\n",
       "      <td>183</td>\n",
       "      <td>7.874355</td>\n",
       "    </tr>\n",
       "  </tbody>\n",
       "</table>\n",
       "</div>"
      ],
      "text/plain": [
       "           purpose_category  purpose  having_debts  percent_of_having_debts\n",
       "0    операции с автомобилем     4281           400                 9.343611\n",
       "1  операции с недвижимостью    10754           780                 7.253115\n",
       "2     получение образования     3989           369                 9.250439\n",
       "3        проведение свадьбы     2324           183                 7.874355"
      ]
     },
     "execution_count": 81,
     "metadata": {},
     "output_type": "execute_result"
    }
   ],
   "source": [
    "purpose_influence['percent_of_having_debts'] = \\\n",
    "purpose_influence['having_debts'] / purpose_influence['purpose'] * 100\n",
    "purpose_influence"
   ]
  },
  {
   "cell_type": "code",
   "execution_count": 82,
   "id": "9e86e8d4",
   "metadata": {},
   "outputs": [
    {
     "data": {
      "text/html": [
       "<div>\n",
       "<style scoped>\n",
       "    .dataframe tbody tr th:only-of-type {\n",
       "        vertical-align: middle;\n",
       "    }\n",
       "\n",
       "    .dataframe tbody tr th {\n",
       "        vertical-align: top;\n",
       "    }\n",
       "\n",
       "    .dataframe thead th {\n",
       "        text-align: right;\n",
       "    }\n",
       "</style>\n",
       "<table border=\"1\" class=\"dataframe\">\n",
       "  <thead>\n",
       "    <tr style=\"text-align: right;\">\n",
       "      <th></th>\n",
       "      <th>purpose_category</th>\n",
       "      <th>purpose</th>\n",
       "      <th>having_debts</th>\n",
       "      <th>percent_of_having_debts</th>\n",
       "      <th>share of clients</th>\n",
       "    </tr>\n",
       "  </thead>\n",
       "  <tbody>\n",
       "    <tr>\n",
       "      <th>0</th>\n",
       "      <td>операции с автомобилем</td>\n",
       "      <td>4281</td>\n",
       "      <td>400</td>\n",
       "      <td>9.343611</td>\n",
       "      <td>20.053401</td>\n",
       "    </tr>\n",
       "    <tr>\n",
       "      <th>1</th>\n",
       "      <td>операции с недвижимостью</td>\n",
       "      <td>10754</td>\n",
       "      <td>780</td>\n",
       "      <td>7.253115</td>\n",
       "      <td>50.374742</td>\n",
       "    </tr>\n",
       "    <tr>\n",
       "      <th>2</th>\n",
       "      <td>получение образования</td>\n",
       "      <td>3989</td>\n",
       "      <td>369</td>\n",
       "      <td>9.250439</td>\n",
       "      <td>18.685591</td>\n",
       "    </tr>\n",
       "    <tr>\n",
       "      <th>3</th>\n",
       "      <td>проведение свадьбы</td>\n",
       "      <td>2324</td>\n",
       "      <td>183</td>\n",
       "      <td>7.874355</td>\n",
       "      <td>10.886266</td>\n",
       "    </tr>\n",
       "  </tbody>\n",
       "</table>\n",
       "</div>"
      ],
      "text/plain": [
       "           purpose_category  purpose  having_debts  percent_of_having_debts  \\\n",
       "0    операции с автомобилем     4281           400                 9.343611   \n",
       "1  операции с недвижимостью    10754           780                 7.253115   \n",
       "2     получение образования     3989           369                 9.250439   \n",
       "3        проведение свадьбы     2324           183                 7.874355   \n",
       "\n",
       "   share of clients  \n",
       "0         20.053401  \n",
       "1         50.374742  \n",
       "2         18.685591  \n",
       "3         10.886266  "
      ]
     },
     "execution_count": 82,
     "metadata": {},
     "output_type": "execute_result"
    }
   ],
   "source": [
    "purpose_influence['share of clients'] = \\\n",
    "purpose_influence['purpose'] / all_clients * 100\n",
    "purpose_influence"
   ]
  },
  {
   "cell_type": "code",
   "execution_count": 83,
   "id": "ba78270c",
   "metadata": {},
   "outputs": [
    {
     "data": {
      "text/html": [
       "<div>\n",
       "<style scoped>\n",
       "    .dataframe tbody tr th:only-of-type {\n",
       "        vertical-align: middle;\n",
       "    }\n",
       "\n",
       "    .dataframe tbody tr th {\n",
       "        vertical-align: top;\n",
       "    }\n",
       "\n",
       "    .dataframe thead th {\n",
       "        text-align: right;\n",
       "    }\n",
       "</style>\n",
       "<table border=\"1\" class=\"dataframe\">\n",
       "  <thead>\n",
       "    <tr style=\"text-align: right;\">\n",
       "      <th></th>\n",
       "      <th>purpose_category</th>\n",
       "      <th>purpose</th>\n",
       "      <th>having_debts</th>\n",
       "      <th>percent_of_having_debts</th>\n",
       "      <th>share of clients</th>\n",
       "      <th>share of debtors</th>\n",
       "    </tr>\n",
       "  </thead>\n",
       "  <tbody>\n",
       "    <tr>\n",
       "      <th>0</th>\n",
       "      <td>операции с автомобилем</td>\n",
       "      <td>4281</td>\n",
       "      <td>400</td>\n",
       "      <td>9.343611</td>\n",
       "      <td>20.053401</td>\n",
       "      <td>23.094688</td>\n",
       "    </tr>\n",
       "    <tr>\n",
       "      <th>1</th>\n",
       "      <td>операции с недвижимостью</td>\n",
       "      <td>10754</td>\n",
       "      <td>780</td>\n",
       "      <td>7.253115</td>\n",
       "      <td>50.374742</td>\n",
       "      <td>45.034642</td>\n",
       "    </tr>\n",
       "    <tr>\n",
       "      <th>2</th>\n",
       "      <td>получение образования</td>\n",
       "      <td>3989</td>\n",
       "      <td>369</td>\n",
       "      <td>9.250439</td>\n",
       "      <td>18.685591</td>\n",
       "      <td>21.304850</td>\n",
       "    </tr>\n",
       "    <tr>\n",
       "      <th>3</th>\n",
       "      <td>проведение свадьбы</td>\n",
       "      <td>2324</td>\n",
       "      <td>183</td>\n",
       "      <td>7.874355</td>\n",
       "      <td>10.886266</td>\n",
       "      <td>10.565820</td>\n",
       "    </tr>\n",
       "  </tbody>\n",
       "</table>\n",
       "</div>"
      ],
      "text/plain": [
       "           purpose_category  purpose  having_debts  percent_of_having_debts  \\\n",
       "0    операции с автомобилем     4281           400                 9.343611   \n",
       "1  операции с недвижимостью    10754           780                 7.253115   \n",
       "2     получение образования     3989           369                 9.250439   \n",
       "3        проведение свадьбы     2324           183                 7.874355   \n",
       "\n",
       "   share of clients  share of debtors  \n",
       "0         20.053401         23.094688  \n",
       "1         50.374742         45.034642  \n",
       "2         18.685591         21.304850  \n",
       "3         10.886266         10.565820  "
      ]
     },
     "execution_count": 83,
     "metadata": {},
     "output_type": "execute_result"
    }
   ],
   "source": [
    "purpose_influence['share of debtors'] = \\\n",
    "purpose_influence['having_debts'] / debtors * 100\n",
    "purpose_influence"
   ]
  },
  {
   "cell_type": "code",
   "execution_count": 84,
   "id": "fbadfde7",
   "metadata": {},
   "outputs": [
    {
     "data": {
      "text/html": [
       "<div>\n",
       "<style scoped>\n",
       "    .dataframe tbody tr th:only-of-type {\n",
       "        vertical-align: middle;\n",
       "    }\n",
       "\n",
       "    .dataframe tbody tr th {\n",
       "        vertical-align: top;\n",
       "    }\n",
       "\n",
       "    .dataframe thead th {\n",
       "        text-align: right;\n",
       "    }\n",
       "</style>\n",
       "<table border=\"1\" class=\"dataframe\">\n",
       "  <thead>\n",
       "    <tr style=\"text-align: right;\">\n",
       "      <th></th>\n",
       "      <th>purpose_category</th>\n",
       "      <th>overall_clients</th>\n",
       "      <th>having_debts</th>\n",
       "      <th>percent_of_having_debts</th>\n",
       "      <th>share of clients</th>\n",
       "      <th>share of debtors</th>\n",
       "    </tr>\n",
       "  </thead>\n",
       "  <tbody>\n",
       "    <tr>\n",
       "      <th>0</th>\n",
       "      <td>операции с автомобилем</td>\n",
       "      <td>4281</td>\n",
       "      <td>400</td>\n",
       "      <td>9.343611</td>\n",
       "      <td>20.053401</td>\n",
       "      <td>23.094688</td>\n",
       "    </tr>\n",
       "    <tr>\n",
       "      <th>1</th>\n",
       "      <td>операции с недвижимостью</td>\n",
       "      <td>10754</td>\n",
       "      <td>780</td>\n",
       "      <td>7.253115</td>\n",
       "      <td>50.374742</td>\n",
       "      <td>45.034642</td>\n",
       "    </tr>\n",
       "    <tr>\n",
       "      <th>2</th>\n",
       "      <td>получение образования</td>\n",
       "      <td>3989</td>\n",
       "      <td>369</td>\n",
       "      <td>9.250439</td>\n",
       "      <td>18.685591</td>\n",
       "      <td>21.304850</td>\n",
       "    </tr>\n",
       "    <tr>\n",
       "      <th>3</th>\n",
       "      <td>проведение свадьбы</td>\n",
       "      <td>2324</td>\n",
       "      <td>183</td>\n",
       "      <td>7.874355</td>\n",
       "      <td>10.886266</td>\n",
       "      <td>10.565820</td>\n",
       "    </tr>\n",
       "  </tbody>\n",
       "</table>\n",
       "</div>"
      ],
      "text/plain": [
       "           purpose_category  overall_clients  having_debts  \\\n",
       "0    операции с автомобилем             4281           400   \n",
       "1  операции с недвижимостью            10754           780   \n",
       "2     получение образования             3989           369   \n",
       "3        проведение свадьбы             2324           183   \n",
       "\n",
       "   percent_of_having_debts  share of clients  share of debtors  \n",
       "0                 9.343611         20.053401         23.094688  \n",
       "1                 7.253115         50.374742         45.034642  \n",
       "2                 9.250439         18.685591         21.304850  \n",
       "3                 7.874355         10.886266         10.565820  "
      ]
     },
     "execution_count": 84,
     "metadata": {},
     "output_type": "execute_result"
    }
   ],
   "source": [
    "purpose_influence = \\\n",
    "purpose_influence.rename(columns={'purpose': 'overall_clients'})\n",
    "purpose_influence"
   ]
  },
  {
   "cell_type": "markdown",
   "id": "b5cccadb",
   "metadata": {},
   "source": [
    "Наиболее востребованной целью взятия кредита оказались операции с недвижимостью - на них приходится половина всех кредитов и чуть менее половины возвратов, однако внутри группы здесь меньше допускают задолженности. Следующими популярными категориями являются операции с автомобилем и получение образования: однако именно в этих категории обнаруживается наибольший процент должников. Меньше всего берут кредитов на проведение свадеб, а процент невыплат в этой категории также не является самым высоким. \n",
    "Рассмотрим каждую группу наиболее подробно, ведь именно цель кредита может повлиять на платежеспособность человека в конкретной ситуации. "
   ]
  },
  {
   "cell_type": "markdown",
   "id": "5a770983",
   "metadata": {},
   "source": [
    "Для начала выявим зависимость от пола клиента"
   ]
  },
  {
   "cell_type": "code",
   "execution_count": 85,
   "id": "59a12662",
   "metadata": {
    "scrolled": true
   },
   "outputs": [
    {
     "data": {
      "text/plain": [
       "purpose_category          gender\n",
       "операции с автомобилем    F         2845\n",
       "                          M         1436\n",
       "операции с недвижимостью  F         7048\n",
       "                          M         3705\n",
       "                          XNA          1\n",
       "получение образования     F         2650\n",
       "                          M         1339\n",
       "проведение свадьбы        F         1564\n",
       "                          M          760\n",
       "Name: gender, dtype: int64"
      ]
     },
     "execution_count": 85,
     "metadata": {},
     "output_type": "execute_result"
    }
   ],
   "source": [
    "#сгруппируем клиентов по полу и цели\n",
    "\n",
    "clients_gender = data.groupby('purpose_category')['gender'].value_counts()\n",
    "clients_gender"
   ]
  },
  {
   "cell_type": "markdown",
   "id": "2ba730a6",
   "metadata": {},
   "source": [
    "Чаще кредиты вне зависимость от их целевого назначения берут клиенты женского пола. Рассмотрим, соответствует ли это ситуации с должниками."
   ]
  },
  {
   "cell_type": "code",
   "execution_count": 86,
   "id": "cd66b978",
   "metadata": {},
   "outputs": [],
   "source": [
    "#находим число должников и вычисляем их процент в каждой подгруппе\n",
    "\n",
    "debtors_gender = \\\n",
    "data[data['debt'] == 1].groupby('purpose_category')['gender'].value_counts()"
   ]
  },
  {
   "cell_type": "code",
   "execution_count": 87,
   "id": "c8ae99a2",
   "metadata": {},
   "outputs": [
    {
     "data": {
      "text/plain": [
       "purpose_category          gender\n",
       "операции с автомобилем    F          8.154657\n",
       "                          M         11.699164\n",
       "операции с недвижимостью  F          6.299659\n",
       "                          M          9.068826\n",
       "                          XNA             NaN\n",
       "получение образования     F          7.773585\n",
       "                          M         12.173264\n",
       "проведение свадьбы        F          6.841432\n",
       "                          M         10.000000\n",
       "Name: gender, dtype: float64"
      ]
     },
     "execution_count": 87,
     "metadata": {},
     "output_type": "execute_result"
    }
   ],
   "source": [
    "debtors_gender / clients_gender * 100"
   ]
  },
  {
   "cell_type": "markdown",
   "id": "94843704",
   "metadata": {},
   "source": [
    "Статистика говорит об обратном: в каждой из подкатегорий именно мужчины менее охотно возвращают кредиты - в среднем на 4%.  Особенно высоки показатели в таких категориях как получение образования и операции с автомобилем. "
   ]
  },
  {
   "cell_type": "markdown",
   "id": "a8b3fb69",
   "metadata": {},
   "source": [
    "Также рассмотрим взаимосвязь с возрастом клиентов"
   ]
  },
  {
   "cell_type": "code",
   "execution_count": 88,
   "id": "95c9ef0a",
   "metadata": {},
   "outputs": [
    {
     "data": {
      "text/plain": [
       "purpose_category          years_category\n",
       "операции с автомобилем    31-55 лет         2704\n",
       "                          старше 56 лет      895\n",
       "                          до 30 лет          682\n",
       "операции с недвижимостью  31-55 лет         6725\n",
       "                          старше 56 лет     2116\n",
       "                          до 30 лет         1913\n",
       "получение образования     31-55 лет         2414\n",
       "                          старше 56 лет      860\n",
       "                          до 30 лет          715\n",
       "проведение свадьбы        31-55 лет         1459\n",
       "                          старше 56 лет      474\n",
       "                          до 30 лет          391\n",
       "Name: years_category, dtype: int64"
      ]
     },
     "execution_count": 88,
     "metadata": {},
     "output_type": "execute_result"
    }
   ],
   "source": [
    "clients_age = data.groupby('purpose_category')['years_category'].value_counts()\n",
    "clients_age"
   ]
  },
  {
   "cell_type": "markdown",
   "id": "f238831f",
   "metadata": {},
   "source": [
    "Чаще всего за кредитами обращается население среднего возраста. Что интересно, самая маленькая категория клиентов, получающая кредиты на образование - это молодое поколение."
   ]
  },
  {
   "cell_type": "code",
   "execution_count": 89,
   "id": "12ff5558",
   "metadata": {
    "scrolled": true
   },
   "outputs": [],
   "source": [
    "debtors_age = \\\n",
    "data[data['debt'] == 1].groupby('purpose_category')['years_category'].value_counts()"
   ]
  },
  {
   "cell_type": "code",
   "execution_count": 90,
   "id": "0db89dd8",
   "metadata": {},
   "outputs": [
    {
     "data": {
      "text/plain": [
       "purpose_category          years_category\n",
       "операции с автомобилем    31-55 лет          9.578402\n",
       "                          до 30 лет         12.316716\n",
       "                          старше 56 лет      6.368715\n",
       "операции с недвижимостью  31-55 лет          7.301115\n",
       "                          до 30 лет          9.827496\n",
       "                          старше 56 лет      4.773157\n",
       "получение образования     31-55 лет          9.154930\n",
       "                          до 30 лет         13.006993\n",
       "                          старше 56 лет      6.395349\n",
       "проведение свадьбы        31-55 лет          8.087731\n",
       "                          до 30 лет          9.718670\n",
       "                          старше 56 лет      5.696203\n",
       "Name: years_category, dtype: float64"
      ]
     },
     "execution_count": 90,
     "metadata": {},
     "output_type": "execute_result"
    }
   ],
   "source": [
    "debtors_age / clients_age * 100"
   ]
  },
  {
   "cell_type": "markdown",
   "id": "ba97a5db",
   "metadata": {},
   "source": [
    "Данные показывают, что хуже всего выплаты во всех категориях осуществляют клиенты младше 30 лет - в особенности, при операциях с автомобилем или получении образования. Во всех случаях, поколение 56+ реже встречается среди должников в своих группах. \n",
    "\n",
    "Рассмотрим связь операций с образованием."
   ]
  },
  {
   "cell_type": "code",
   "execution_count": 91,
   "id": "89b2e917",
   "metadata": {},
   "outputs": [
    {
     "data": {
      "text/plain": [
       "purpose_category          education          \n",
       "операции с автомобилем    среднее                3040\n",
       "                          высшее                 1033\n",
       "                          неоконченное высшее     153\n",
       "                          начальное                55\n",
       "операции с недвижимостью  среднее                7560\n",
       "                          высшее                 2667\n",
       "                          неоконченное высшее     378\n",
       "                          начальное               144\n",
       "                          ученая степень            5\n",
       "получение образования     среднее                2874\n",
       "                          высшее                  928\n",
       "                          неоконченное высшее     131\n",
       "                          начальное                55\n",
       "                          ученая степень            1\n",
       "проведение свадьбы        среднее                1617\n",
       "                          высшее                  600\n",
       "                          неоконченное высшее      79\n",
       "                          начальное                28\n",
       "Name: education, dtype: int64"
      ]
     },
     "execution_count": 91,
     "metadata": {},
     "output_type": "execute_result"
    }
   ],
   "source": [
    "clients_education = data.groupby('purpose_category')['education'].value_counts()\n",
    "clients_education"
   ]
  },
  {
   "cell_type": "code",
   "execution_count": 92,
   "id": "78b565d6",
   "metadata": {
    "scrolled": true
   },
   "outputs": [],
   "source": [
    "debtors_education = \\\n",
    "data[data['debt'] == 1].groupby('purpose_category')['education'].value_counts()"
   ]
  },
  {
   "cell_type": "code",
   "execution_count": 93,
   "id": "f0601f7b",
   "metadata": {},
   "outputs": [
    {
     "data": {
      "text/plain": [
       "purpose_category          education          \n",
       "операции с автомобилем    высшее                  6.485963\n",
       "                          начальное              10.909091\n",
       "                          неоконченное высшее    10.457516\n",
       "                          среднее                10.230263\n",
       "операции с недвижимостью  высшее                  4.836895\n",
       "                          начальное              11.111111\n",
       "                          неоконченное высшее     8.994709\n",
       "                          среднее                 7.949735\n",
       "                          ученая степень               NaN\n",
       "получение образования     высшее                  5.926724\n",
       "                          начальное               9.090909\n",
       "                          неоконченное высшее     9.160305\n",
       "                          среднее                10.334029\n",
       "                          ученая степень               NaN\n",
       "проведение свадьбы        высшее                  4.500000\n",
       "                          начальное              14.285714\n",
       "                          неоконченное высшее     7.594937\n",
       "                          среднее                 9.029066\n",
       "Name: education, dtype: float64"
      ]
     },
     "execution_count": 93,
     "metadata": {},
     "output_type": "execute_result"
    }
   ],
   "source": [
    "debtors_education / clients_education * 100"
   ]
  },
  {
   "cell_type": "markdown",
   "id": "830f5944",
   "metadata": {},
   "source": [
    "Большинство кредитов берут клиенты, имеющие среднее образование, однако лучше всего кредиты выплачивают те, кто имеет законченное высшее образование или даже ученую степень. В операциях с автомобилями и образованием все клиенты, кроме тех, кто получил высшее образование, примерно в равной степени оказываются в должниках. Хуже всего выплачивают кредиты по недвижимости с начальным или неоконченным высшим образованием, а безусловным лидером среди должников, которые взяли кредиты на свадьбу, оказываются лица, чье образование завершилось на этапе начальной школы. \n",
    "\n",
    "Посмотрим на семейное положение должников по целям кредита."
   ]
  },
  {
   "cell_type": "code",
   "execution_count": 94,
   "id": "55896236",
   "metadata": {},
   "outputs": [
    {
     "data": {
      "text/plain": [
       "purpose_category          family_status        \n",
       "операции с автомобилем    женат / замужем          2719\n",
       "                          Не женат / не замужем     635\n",
       "                          гражданский брак          430\n",
       "                          в разводе                 279\n",
       "                          вдовец / вдова            218\n",
       "операции с недвижимостью  женат / замужем          6972\n",
       "                          Не женат / не замужем    1586\n",
       "                          гражданский брак          989\n",
       "                          в разводе                 672\n",
       "                          вдовец / вдова            535\n",
       "получение образования     женат / замужем          2575\n",
       "                          Не женат / не замужем     575\n",
       "                          гражданский брак          403\n",
       "                          в разводе                 238\n",
       "                          вдовец / вдова            198\n",
       "проведение свадьбы        гражданский брак         2324\n",
       "Name: family_status, dtype: int64"
      ]
     },
     "execution_count": 94,
     "metadata": {},
     "output_type": "execute_result"
    }
   ],
   "source": [
    "clients_family = \\\n",
    "data.groupby('purpose_category')['family_status'].value_counts()\n",
    "clients_family"
   ]
  },
  {
   "cell_type": "markdown",
   "id": "3b0b7263",
   "metadata": {},
   "source": [
    "В трех категориях из четырех большинство клиентов имеют официальный семейный статус или неженаты. Кредит на получение свадьбы берут только лица, проживающие в гражданском браке"
   ]
  },
  {
   "cell_type": "code",
   "execution_count": 95,
   "id": "83b79226",
   "metadata": {},
   "outputs": [
    {
     "data": {
      "text/plain": [
       "purpose_category          family_status        \n",
       "операции с автомобилем    женат / замужем          226\n",
       "                          Не женат / не замужем     82\n",
       "                          гражданский брак          51\n",
       "                          в разводе                 21\n",
       "                          вдовец / вдова            20\n",
       "операции с недвижимостью  женат / замужем          486\n",
       "                          Не женат / не замужем    129\n",
       "                          гражданский брак          91\n",
       "                          в разводе                 46\n",
       "                          вдовец / вдова            28\n",
       "получение образования     женат / замужем          215\n",
       "                          Не женат / не замужем     62\n",
       "                          гражданский брак          60\n",
       "                          в разводе                 17\n",
       "                          вдовец / вдова            15\n",
       "проведение свадьбы        гражданский брак         183\n",
       "Name: family_status, dtype: int64"
      ]
     },
     "execution_count": 95,
     "metadata": {},
     "output_type": "execute_result"
    }
   ],
   "source": [
    "debtors_family = \\\n",
    "data[data['debt'] == 1].groupby('purpose_category')['family_status'].value_counts()\n",
    "debtors_family"
   ]
  },
  {
   "cell_type": "code",
   "execution_count": 96,
   "id": "80a4a70d",
   "metadata": {},
   "outputs": [
    {
     "data": {
      "text/plain": [
       "purpose_category          family_status        \n",
       "операции с автомобилем    женат / замужем           8.311879\n",
       "                          Не женат / не замужем    12.913386\n",
       "                          гражданский брак         11.860465\n",
       "                          в разводе                 7.526882\n",
       "                          вдовец / вдова            9.174312\n",
       "операции с недвижимостью  женат / замужем           6.970740\n",
       "                          Не женат / не замужем     8.133670\n",
       "                          гражданский брак          9.201213\n",
       "                          в разводе                 6.845238\n",
       "                          вдовец / вдова            5.233645\n",
       "получение образования     женат / замужем           8.349515\n",
       "                          Не женат / не замужем    10.782609\n",
       "                          гражданский брак         14.888337\n",
       "                          в разводе                 7.142857\n",
       "                          вдовец / вдова            7.575758\n",
       "проведение свадьбы        гражданский брак          7.874355\n",
       "Name: family_status, dtype: float64"
      ]
     },
     "execution_count": 96,
     "metadata": {},
     "output_type": "execute_result"
    }
   ],
   "source": [
    "debtors_family / clients_family * 100"
   ]
  },
  {
   "cell_type": "markdown",
   "id": "58d5deb0",
   "metadata": {},
   "source": [
    "Данные подтверждают сделанный ранее вывод о взаимосвязи должников и их семейного положения: основными неплательщиками остаются неженатые клиенты или клиенты, состоящие в гражданском браке. Особенно велик процент невыплат такими должниками в категориях \"получение образования\" и \"операции с автомобилями\". Дополнительно посмотрим, как влияет фактор наличия детей на выплату кредитов по категориям."
   ]
  },
  {
   "cell_type": "code",
   "execution_count": 97,
   "id": "4c76094c",
   "metadata": {},
   "outputs": [
    {
     "data": {
      "text/plain": [
       "purpose_category          children_category  family_status        \n",
       "операции с автомобилем    детей нет          женат / замужем          1651\n",
       "                                             Не женат / не замужем     518\n",
       "                                             гражданский брак          282\n",
       "                                             вдовец / вдова            201\n",
       "                                             в разводе                 195\n",
       "                          есть дети          женат / замужем          1068\n",
       "                                             гражданский брак          148\n",
       "                                             Не женат / не замужем     117\n",
       "                                             в разводе                  84\n",
       "                                             вдовец / вдова             17\n",
       "операции с недвижимостью  детей нет          женат / замужем          4239\n",
       "                                             Не женат / не замужем    1287\n",
       "                                             гражданский брак          650\n",
       "                                             вдовец / вдова            470\n",
       "                                             в разводе                 431\n",
       "                          есть дети          женат / замужем          2733\n",
       "                                             гражданский брак          339\n",
       "                                             Не женат / не замужем     299\n",
       "                                             в разводе                 241\n",
       "                                             вдовец / вдова             65\n",
       "получение образования     детей нет          женат / замужем          1583\n",
       "                                             Не женат / не замужем     457\n",
       "                                             гражданский брак          269\n",
       "                                             вдовец / вдова            176\n",
       "                                             в разводе                 158\n",
       "                          есть дети          женат / замужем           992\n",
       "                                             гражданский брак          134\n",
       "                                             Не женат / не замужем     118\n",
       "                                             в разводе                  80\n",
       "                                             вдовец / вдова             22\n",
       "проведение свадьбы        детей нет          гражданский брак         1540\n",
       "                          есть дети          гражданский брак          784\n",
       "Name: family_status, dtype: int64"
      ]
     },
     "execution_count": 97,
     "metadata": {},
     "output_type": "execute_result"
    }
   ],
   "source": [
    "clients_children = data.groupby(['purpose_category', 'children_category']) \\\n",
    "['family_status'].value_counts()\n",
    "clients_children"
   ]
  },
  {
   "cell_type": "code",
   "execution_count": 98,
   "id": "d3fcd4f1",
   "metadata": {},
   "outputs": [
    {
     "data": {
      "text/plain": [
       "purpose_category          children_category  family_status        \n",
       "операции с автомобилем    детей нет          женат / замужем          119\n",
       "                                             Не женат / не замужем     64\n",
       "                                             гражданский брак          28\n",
       "                                             вдовец / вдова            19\n",
       "                                             в разводе                 13\n",
       "                          есть дети          женат / замужем          107\n",
       "                                             гражданский брак          23\n",
       "                                             Не женат / не замужем     18\n",
       "                                             в разводе                  8\n",
       "                                             вдовец / вдова             1\n",
       "операции с недвижимостью  детей нет          женат / замужем          279\n",
       "                                             Не женат / не замужем     95\n",
       "                                             гражданский брак          51\n",
       "                                             в разводе                 29\n",
       "                                             вдовец / вдова            22\n",
       "                          есть дети          женат / замужем          207\n",
       "                                             гражданский брак          40\n",
       "                                             Не женат / не замужем     34\n",
       "                                             в разводе                 17\n",
       "                                             вдовец / вдова             6\n",
       "получение образования     детей нет          женат / замужем          118\n",
       "                                             Не женат / не замужем     51\n",
       "                                             гражданский брак          35\n",
       "                                             в разводе                 13\n",
       "                                             вдовец / вдова            12\n",
       "                          есть дети          женат / замужем           97\n",
       "                                             гражданский брак          25\n",
       "                                             Не женат / не замужем     11\n",
       "                                             в разводе                  4\n",
       "                                             вдовец / вдова             3\n",
       "проведение свадьбы        детей нет          гражданский брак         115\n",
       "                          есть дети          гражданский брак          68\n",
       "Name: family_status, dtype: int64"
      ]
     },
     "execution_count": 98,
     "metadata": {},
     "output_type": "execute_result"
    }
   ],
   "source": [
    "debtors_children = \\\n",
    "data[data['debt'] == 1].groupby(['purpose_category', 'children_category'])['family_status'].value_counts()\n",
    "debtors_children"
   ]
  },
  {
   "cell_type": "code",
   "execution_count": 99,
   "id": "998b7569",
   "metadata": {},
   "outputs": [
    {
     "data": {
      "text/plain": [
       "purpose_category          children_category  family_status        \n",
       "операции с автомобилем    детей нет          Не женат / не замужем    12.355212\n",
       "                                             в разводе                 6.666667\n",
       "                                             вдовец / вдова            9.452736\n",
       "                                             гражданский брак          9.929078\n",
       "                                             женат / замужем           7.207753\n",
       "                          есть дети          Не женат / не замужем    15.384615\n",
       "                                             в разводе                 9.523810\n",
       "                                             вдовец / вдова            5.882353\n",
       "                                             гражданский брак         15.540541\n",
       "                                             женат / замужем          10.018727\n",
       "операции с недвижимостью  детей нет          Не женат / не замужем     7.381507\n",
       "                                             в разводе                 6.728538\n",
       "                                             вдовец / вдова            4.680851\n",
       "                                             гражданский брак          7.846154\n",
       "                                             женат / замужем           6.581741\n",
       "                          есть дети          Не женат / не замужем    11.371237\n",
       "                                             в разводе                 7.053942\n",
       "                                             вдовец / вдова            9.230769\n",
       "                                             гражданский брак         11.799410\n",
       "                                             женат / замужем           7.574094\n",
       "получение образования     детей нет          Не женат / не замужем    11.159737\n",
       "                                             в разводе                 8.227848\n",
       "                                             вдовец / вдова            6.818182\n",
       "                                             гражданский брак         13.011152\n",
       "                                             женат / замужем           7.454201\n",
       "                          есть дети          Не женат / не замужем     9.322034\n",
       "                                             в разводе                 5.000000\n",
       "                                             вдовец / вдова           13.636364\n",
       "                                             гражданский брак         18.656716\n",
       "                                             женат / замужем           9.778226\n",
       "проведение свадьбы        детей нет          гражданский брак          7.467532\n",
       "                          есть дети          гражданский брак          8.673469\n",
       "Name: family_status, dtype: float64"
      ]
     },
     "execution_count": 99,
     "metadata": {},
     "output_type": "execute_result"
    }
   ],
   "source": [
    "debtors_children / clients_children * 100"
   ]
  },
  {
   "cell_type": "markdown",
   "id": "787ff631",
   "metadata": {},
   "source": [
    "Данные показывают, что во всех категориях задолжают банку чаще клиенты, несостоящие в брачных отношениях, но имеющие детей. "
   ]
  },
  {
   "cell_type": "markdown",
   "id": "63862ac0",
   "metadata": {},
   "source": [
    "\n",
    "Наконец, рассмотрим показатели дохода, стажа и профессионального статуса."
   ]
  },
  {
   "cell_type": "code",
   "execution_count": 100,
   "id": "b0ea85cb",
   "metadata": {},
   "outputs": [
    {
     "data": {
      "text/plain": [
       "purpose_category          total_income_category\n",
       "операции с автомобилем    C                        3183\n",
       "                          B                        1022\n",
       "                          D                          72\n",
       "                          A                           2\n",
       "                          E                           2\n",
       "операции с недвижимостью  C                        8000\n",
       "                          B                        2558\n",
       "                          D                         168\n",
       "                          A                          17\n",
       "                          E                          11\n",
       "получение образования     C                        3015\n",
       "                          B                         890\n",
       "                          D                          75\n",
       "                          E                           5\n",
       "                          A                           4\n",
       "проведение свадьбы        C                        1740\n",
       "                          B                         544\n",
       "                          D                          34\n",
       "                          E                           4\n",
       "                          A                           2\n",
       "Name: total_income_category, dtype: int64"
      ]
     },
     "execution_count": 100,
     "metadata": {},
     "output_type": "execute_result"
    }
   ],
   "source": [
    "clients_income = data.groupby('purpose_category')['total_income_category'].value_counts()\n",
    "clients_income "
   ]
  },
  {
   "cell_type": "markdown",
   "id": "567b36f3",
   "metadata": {},
   "source": [
    "Абсолютно во всех категориях большинство кредитов берут клиенты со средним доходом, и далее - с доходами выше и ниже среднего. "
   ]
  },
  {
   "cell_type": "code",
   "execution_count": 101,
   "id": "d6544f3d",
   "metadata": {},
   "outputs": [
    {
     "data": {
      "text/plain": [
       "purpose_category          total_income_category\n",
       "операции с автомобилем    C                        305\n",
       "                          B                         85\n",
       "                          D                         10\n",
       "операции с недвижимостью  C                        599\n",
       "                          B                        172\n",
       "                          D                          6\n",
       "                          E                          2\n",
       "                          A                          1\n",
       "получение образования     C                        297\n",
       "                          B                         69\n",
       "                          D                          2\n",
       "                          A                          1\n",
       "проведение свадьбы        C                        152\n",
       "                          B                         28\n",
       "                          D                          3\n",
       "Name: total_income_category, dtype: int64"
      ]
     },
     "execution_count": 101,
     "metadata": {},
     "output_type": "execute_result"
    }
   ],
   "source": [
    "debtors_income = \\\n",
    "data[data['debt'] == 1].groupby('purpose_category')['total_income_category'].value_counts()\n",
    "debtors_income"
   ]
  },
  {
   "cell_type": "code",
   "execution_count": 102,
   "id": "759d8940",
   "metadata": {},
   "outputs": [
    {
     "data": {
      "text/plain": [
       "purpose_category          total_income_category\n",
       "операции с автомобилем    A                              NaN\n",
       "                          B                         8.317025\n",
       "                          C                         9.582155\n",
       "                          D                        13.888889\n",
       "                          E                              NaN\n",
       "операции с недвижимостью  A                         5.882353\n",
       "                          B                         6.724003\n",
       "                          C                         7.487500\n",
       "                          D                         3.571429\n",
       "                          E                        18.181818\n",
       "получение образования     A                        25.000000\n",
       "                          B                         7.752809\n",
       "                          C                         9.850746\n",
       "                          D                         2.666667\n",
       "                          E                              NaN\n",
       "проведение свадьбы        A                              NaN\n",
       "                          B                         5.147059\n",
       "                          C                         8.735632\n",
       "                          D                         8.823529\n",
       "                          E                              NaN\n",
       "Name: total_income_category, dtype: float64"
      ]
     },
     "execution_count": 102,
     "metadata": {},
     "output_type": "execute_result"
    }
   ],
   "source": [
    "debtors_income / clients_income * 100"
   ]
  },
  {
   "cell_type": "markdown",
   "id": "cf1ca1d0",
   "metadata": {},
   "source": [
    "Зависимость дохода и выплаты долгов различается в зависимости от цели кредита. Так, больше всего должников с операциями по автомобилям приходится на людей с доходом ниже среднего. Вовремя не выплачивают ипотеку или другие кредиты, связанные с недвижимостью, представители немногочисленного класса \"Е\", а должниками в группе \"Получение образования\" становятся клиенты противоположного класса \"А\". Принимая во внимание, что лица с низкими или очень высокими доходами составляют меньшинство клиентов, можно сказать, что основными должниками в этих категориях являются все же клиенты со средним доходом. Основной долг на проведение свадьбы ложится на клиентов со средним доходом и доходами ниже среднего. \n",
    "\n",
    "Рассмотрим, какие профессиональные категории клиентов пользуются услугами кредитования тех или иных операций."
   ]
  },
  {
   "cell_type": "code",
   "execution_count": 103,
   "id": "5fe5acf8",
   "metadata": {},
   "outputs": [
    {
     "data": {
      "text/plain": [
       "purpose_category          income_type    \n",
       "операции с автомобилем    сотрудник          2156\n",
       "                          компаньон          1048\n",
       "                          пенсионер           792\n",
       "                          госслужащий         284\n",
       "                          в декрете             1\n",
       "операции с недвижимостью  сотрудник          5585\n",
       "                          компаньон          2531\n",
       "                          пенсионер          1881\n",
       "                          госслужащий         753\n",
       "                          безработный           2\n",
       "                          предприниматель       1\n",
       "                          студент               1\n",
       "получение образования     сотрудник          2066\n",
       "                          компаньон           947\n",
       "                          пенсионер           720\n",
       "                          госслужащий         256\n",
       "проведение свадьбы        сотрудник          1215\n",
       "                          компаньон           523\n",
       "                          пенсионер           427\n",
       "                          госслужащий         158\n",
       "                          предприниматель       1\n",
       "Name: income_type, dtype: int64"
      ]
     },
     "execution_count": 103,
     "metadata": {},
     "output_type": "execute_result"
    }
   ],
   "source": [
    "clients_position = \\\n",
    "data.groupby('purpose_category')['income_type'].value_counts()\n",
    "clients_position"
   ]
  },
  {
   "cell_type": "markdown",
   "id": "2aee15c6",
   "metadata": {},
   "source": [
    "Распределение основных профессиональных категорий является одинаковым для всех целей кредита: это сотрудники, далее - компаньоны, пенсионеры и госслужащие. "
   ]
  },
  {
   "cell_type": "code",
   "execution_count": 104,
   "id": "a60a4d95",
   "metadata": {},
   "outputs": [
    {
     "data": {
      "text/plain": [
       "purpose_category          income_type\n",
       "операции с автомобилем    сотрудник      242\n",
       "                          компаньон       84\n",
       "                          пенсионер       51\n",
       "                          госслужащий     22\n",
       "                          в декрете        1\n",
       "операции с недвижимостью  сотрудник      484\n",
       "                          компаньон      167\n",
       "                          пенсионер       92\n",
       "                          госслужащий     36\n",
       "                          безработный      1\n",
       "получение образования     сотрудник      228\n",
       "                          компаньон       72\n",
       "                          пенсионер       48\n",
       "                          госслужащий     21\n",
       "проведение свадьбы        сотрудник      100\n",
       "                          компаньон       51\n",
       "                          пенсионер       25\n",
       "                          госслужащий      7\n",
       "Name: income_type, dtype: int64"
      ]
     },
     "execution_count": 104,
     "metadata": {},
     "output_type": "execute_result"
    }
   ],
   "source": [
    "debtors_position = \\\n",
    "data[data['debt'] == 1].groupby('purpose_category')['income_type'].value_counts()\n",
    "debtors_position"
   ]
  },
  {
   "cell_type": "code",
   "execution_count": 105,
   "id": "eedc19bd",
   "metadata": {},
   "outputs": [
    {
     "data": {
      "text/plain": [
       "purpose_category          income_type    \n",
       "операции с автомобилем    в декрете          100.000000\n",
       "                          госслужащий          7.746479\n",
       "                          компаньон            8.015267\n",
       "                          пенсионер            6.439394\n",
       "                          сотрудник           11.224490\n",
       "операции с недвижимостью  безработный         50.000000\n",
       "                          госслужащий          4.780876\n",
       "                          компаньон            6.598183\n",
       "                          пенсионер            4.891015\n",
       "                          предприниматель           NaN\n",
       "                          сотрудник            8.666070\n",
       "                          студент                   NaN\n",
       "получение образования     госслужащий          8.203125\n",
       "                          компаньон            7.602957\n",
       "                          пенсионер            6.666667\n",
       "                          сотрудник           11.035818\n",
       "проведение свадьбы        госслужащий          4.430380\n",
       "                          компаньон            9.751434\n",
       "                          пенсионер            5.854801\n",
       "                          предприниматель           NaN\n",
       "                          сотрудник            8.230453\n",
       "Name: income_type, dtype: float64"
      ]
     },
     "execution_count": 105,
     "metadata": {},
     "output_type": "execute_result"
    }
   ],
   "source": [
    "debtors_position / clients_position * 100"
   ]
  },
  {
   "cell_type": "markdown",
   "id": "5dfac3dc",
   "metadata": {},
   "source": [
    "Высокий процент в данной таблице имеет клиент, находящийся в декрете и взявший кредит на авто, а также безработный с кредитом на недвижимость, однако число представителей декретных и безработных групп в таблице слишком мало, чтобы делать единозначные выводы. В более крупных группах наибольший процент должников приходится на сотрудников и затем - на компаньонов, исключение составляют лишь клиенты, взявшие кредит на свадьбу - здесь первенство среди должников имеют именно компаньоны. \n",
    "\n",
    "В завершение, рассмотрим зависимость от стажа. "
   ]
  },
  {
   "cell_type": "code",
   "execution_count": 106,
   "id": "77063b3d",
   "metadata": {},
   "outputs": [
    {
     "data": {
      "text/plain": [
       "purpose_category          experience_category\n",
       "операции с автомобилем    средний опыт           1487\n",
       "                          небольшой опыт         1122\n",
       "                          большой опыт            522\n",
       "                          нет опыта               358\n",
       "операции с недвижимостью  средний опыт           3870\n",
       "                          небольшой опыт         2716\n",
       "                          большой опыт           1350\n",
       "                          нет опыта               935\n",
       "получение образования     средний опыт           1460\n",
       "                          небольшой опыт          995\n",
       "                          большой опыт            493\n",
       "                          нет опыта               321\n",
       "проведение свадьбы        средний опыт            791\n",
       "                          небольшой опыт          590\n",
       "                          большой опыт            313\n",
       "                          нет опыта               203\n",
       "Name: experience_category, dtype: int64"
      ]
     },
     "execution_count": 106,
     "metadata": {},
     "output_type": "execute_result"
    }
   ],
   "source": [
    "clients_experience = \\\n",
    "data.groupby('purpose_category')['experience_category'].value_counts()\n",
    "clients_experience"
   ]
  },
  {
   "cell_type": "markdown",
   "id": "0fa072ac",
   "metadata": {},
   "source": [
    "Больше всего кредитов на все цели берут молодые специалисты - преимущественно с опытом 4-10 лет, а также их младшие по профессиональному статусу коллеги."
   ]
  },
  {
   "cell_type": "code",
   "execution_count": 107,
   "id": "eb6618d7",
   "metadata": {},
   "outputs": [
    {
     "data": {
      "text/plain": [
       "purpose_category          experience_category\n",
       "операции с автомобилем    большой опыт            7.088123\n",
       "                          небольшой опыт         11.497326\n",
       "                          нет опыта              12.569832\n",
       "                          средний опыт            9.280430\n",
       "операции с недвижимостью  большой опыт            3.481481\n",
       "                          небольшой опыт          9.830633\n",
       "                          нет опыта              10.160428\n",
       "                          средний опыт            7.183463\n",
       "получение образования     большой опыт            7.707911\n",
       "                          небольшой опыт         12.060302\n",
       "                          нет опыта              11.214953\n",
       "                          средний опыт            8.698630\n",
       "проведение свадьбы        большой опыт            5.431310\n",
       "                          небольшой опыт         10.169492\n",
       "                          нет опыта               8.374384\n",
       "                          средний опыт            8.091024\n",
       "Name: experience_category, dtype: float64"
      ]
     },
     "execution_count": 107,
     "metadata": {},
     "output_type": "execute_result"
    }
   ],
   "source": [
    "debtors_experience = data[data['debt'] == 1].\\\n",
    "    groupby('purpose_category')['experience_category'].value_counts()\n",
    "debtors_experience / clients_experience * 100"
   ]
  },
  {
   "cell_type": "markdown",
   "id": "f843283d",
   "metadata": {},
   "source": [
    "Во всех группах, кроме проведения свадьбы, худшие показатели по выплатам демонстрируют клиенты с небольшим опытом или только его приобретающие. Основными должниками среди клиентов, взявших кредит на свадьбу, также являются начинающие специалисты, однако процент тех, кто уже получил профессиональный стаж от 4 лет, здесь равен проценту клиентов без опыта работы. "
   ]
  },
  {
   "cell_type": "markdown",
   "id": "b4bb2ce6",
   "metadata": {
    "deletable": false,
    "id": "b4bb2ce6"
   },
   "source": [
    "**Вывод:** \n",
    "Рассмотрение данных по отдельным целям кредитов показали наличие единых тенденций и подтвердили ранее сделанные выводы по отдельным категориям. Так, например, среднестатистический клиент кредитного отдела банка является замужней женщиной средних лет без ребенка, состоявшаяся в своем профессиональном опыте как сотрудник, получившая среднее или несколько реже - высшее образование и имеющая средний доход. \n",
    "Основной портрет должника, берущего кредит на любые цели, можно описать следующим образом: это преимущественно мужчины, молодые клиенты с детьми, не состоящие в официальных брачных отношениях, не имеющие образования выше среднего, с низким или средним доходом, безработные или сотрудники, только набирающие профессиональный опыт или готовящиеся его получить. Наибольшие отличия прослеживаются среди группы клиентов, берущих кредит на свадьбу: в эту категорию входят только клиенты, живущие в гражданском браке, а среди должников значительное число представлено компаньонами и лицами с большим опытом, чем в остальных категориях."
   ]
  },
  {
   "cell_type": "markdown",
   "id": "09c3ac4c",
   "metadata": {
    "deletable": false,
    "editable": false,
    "id": "09c3ac4c"
   },
   "source": [
    "**Задание 23. Приведите возможные причины появления пропусков в исходных данных.**"
   ]
  },
  {
   "cell_type": "markdown",
   "id": "9da2ceda",
   "metadata": {
    "deletable": false,
    "id": "9da2ceda"
   },
   "source": [
    "*Ответ:* в данной таблице мы встретили пропуски или ошибки данных в следующих группах:\n",
    "\n",
    "   1) Стаж. Ввиду того, что стаж исчислялся в днях, можно предположить, что произошла ошибка во время подсчета (что гораздо легче сделать, чем исчисляя стаж в годах). Вероятно, произошла техническая или человеческая ошибка, поскольку весь стаж пенсионеров превышал допустимые показатели (например, была неверно проставлена запятая - и вместо 1000,00 дней трудового стажа пенсионеры получили 10000 дней и т.д.). Пустующие ячейки, с одной стороны, могли в действительности обозначать отсутствие опыта, или же сотрудник/клиент забыл подсчитать и внести информацию о стаже.\n",
    "   \n",
    "   2) Возраст и доход. Вероятно, здесь ошибка носила человеческий или технический характер: данный пункт мог быть пропущен сотрудником (например, карточку клиента заполняли разные сотрудника банка, или планировалось внести информацию позже), а система поставила 0 или пропуск по умолчанию, т.к. информация о дате рождения и доходе имеет обязательный характер для выдачи кредита. "
   ]
  },
  {
   "cell_type": "markdown",
   "id": "7b0487d6",
   "metadata": {
    "deletable": false,
    "editable": false,
    "id": "7b0487d6"
   },
   "source": [
    "**Задание 24. Объясните, почему заполнить пропуски медианным значением — лучшее решение для количественных переменных.**"
   ]
  },
  {
   "cell_type": "markdown",
   "id": "7ecf2b8e",
   "metadata": {
    "deletable": false,
    "id": "7ecf2b8e"
   },
   "source": [
    "*Ответ:* ввиду наличия аномалий, когда одно или несколько значений, не представленных в данной категории в значительной степени, могут серьезным образом повлиять на результат. Например, медианное значение честнее отразит зарплаты в компании, где сотрудники получают зарплату в одном интервале, а руководство, составляющее меньшую часть штата компании, получает зарплату, в несколько раз превышающую доход подчиненных. Кроме того, это позволит избежать серьезного искажения данных при возникновении аномалий, вызванных человеческим или техническим фактором. "
   ]
  },
  {
   "cell_type": "markdown",
   "id": "042324eb",
   "metadata": {},
   "source": [
    "<a id=\"conclusion\"> </a>"
   ]
  },
  {
   "cell_type": "markdown",
   "id": "6db5255a",
   "metadata": {
    "deletable": false,
    "editable": false,
    "id": "6db5255a"
   },
   "source": [
    "## Общий вывод."
   ]
  },
  {
   "cell_type": "markdown",
   "id": "bad65432",
   "metadata": {
    "id": "bad65432"
   },
   "source": [
    "В ходе исследования был рассмотрен ряд факторов, потенциально влияющих на своевременную выплату кредита:\n",
    "\n",
    "Гипотеза 1: наличие детей влияет на своевременную выплату кредита - подтверждена. Данные показали, что кредитополучатели, не имеющие детей, более ответственно подходят к выплате кредита. Доля должников с детьми на 2% выше доли клиентов с кредитной задолженностью, не имеющих детей (9,2 и 7,5% соответственно). Также следует отметить, что хуже всего выплачивают кредиты те клиенты с детьми, которые не состояли ранее в браке: в частности, в группах клиентов с детьми, не являющихся женатыми/замужними или живущих в гражданском браке, доля должников составляет около 11%, в то время как наилучшие показатели демонстрируют клиенты, не имеющие детей, но при этом состоящие на данный момент или ранее в официальном браке (в данных категориях доля должников не превышает 7%). \n",
    "\n",
    "Гипотеза 2: семейное положение влияет на своевременную выплату кредита - подтверждена. Согласно полученным данным, клиенты, имеющие супружеский опыт, более ответственно относятся к выплате кредита. В группах клиентов, не состоящих ранее в зарегистрированном браке (незамужние/неженатые клиенты и клиенты в гражданском браке), доля должников в среднем на 2% выше по сравнению с группами замужних, вдовых и разведенных клиентов (неженатые - 9,76%, в гражданском браке - 9,29%, в официальном браке - 7,56%, в разводе - 7,06%, потерявшие супруга - 6,62%).  \n",
    "\n",
    "Гипотеза 3: уровень и источник дохода влияют на своевременную выплату кредита - частично подтверждена. Наибольший процент невозвратов (9%) приходится на группу с минимальными доходом. Тем не менее, прямой зависимости между наличием долга и уровнем дохода не выявлено: в числе лидирующих среди должников групп также находятся клиенты с самыми большими доходами (8%), в то время как клиенты, у которых доход несколько превышает минимальный, являются, согласно данным, наиболее ответственными клиентами (6% должников). Ввиду этого, следует отметить неоднородность выборки и недостаточность данных по заемщикам с высокими и низкими доходами, как и отдельным профессиональным категориям (пенсионеры, безработные, клиенты в декрете), чтобы сделать однозначные выводы о влиянии дохода и его источника на выплату кредитов. В рамках данной гипотезы также проведено исследование влияния дополнительного фактора профессионального стажа на выплату кредита по всем категориях дохода, итоги которого подтвердили пропорциональную зависимость опыта работы и наличия долгов: вне зависимости от уровня дохода чаще всего допускают невыплаты именно клиенты с отсутствием опытом или небольшим опытом (в разных группах дохода этот показатель варьировался от 8 до 33%), в то время как более опытные сотрудники не выплачивают кредиты реже (максимальные доли должников в группе клиентов со средним (4-10 лет) и большим (от 11 лет) опытом трудовой деятельности составляют 8 и 6 % соответственно).\n",
    "\n",
    "Гипотеза 5: целевое назначение кредита влияет на своевременную его выплату - подтверждена. Полученные данные продемонстрировали, что примерно на 2% чаще должниками становятся клиенты, которые берут кредиты для совершения операций с автомобилем (9,35%) или получения образования (9,25%) по сравнению с клиентами, которые заключают сделки с недвижимостью (7,25%) или планируют проведение свадьбы (7,87%). В то же время, с целью доказательства данной гипотезы были рассмотрены дополнительные факторы, имеющие потенциальное влияние на выплату кредита (пол, возраст, образование), которые выявили единые тенденции (в дополнение уже к рассмотренным выше). Так, вне зависимости от цели кредита чаще должниками становятся мужчины, чем женщины (средняя разница по отдельным категориям целей кредита - 3,5%), представители молодого поколения до 30 лет (средняя разница - 2,7%), а наилучшие выплаты демонстрируют клиенты, имеющие полное высшее образование (не более 6,5%  в каждой из категорий) однако, в данном вопросе стоит отметить достаточную нерепрезентативность выборки, особенно в случае с начальным и незаконченным высшим образованием).\n",
    "\n",
    "Общие рекомендации: \n",
    "1) Для составления более точного портрета должника необходимо собрать более репрезентативную выборку, в частности, по таким категориям, как образование, доход и его источник, количество детей.\n",
    "\n",
    "2) Разницы между долей должников по отдельным категориям и группам не являются значительными: они различаются в среднем только на 2-3%, а процент клиентов, имеющих задолженности, в каждой из групп, как правило, находится в промежутке от 12 до 5% - что в среднем довольно близко к общей доле всех должников среди клиентов банка - 8%.\n",
    "\n",
    "Таким образом, полученные данные продемонстрировали наличие определенных зависимостей, однако при построении модели кредитного скоринга рекомендуется проведение дополнительных исследований, которые могут показать более явные различия в группах клиентов или подтвердить истинность полученных результатов. "
   ]
  }
 ],
 "metadata": {
  "ExecuteTimeLog": [
   {
    "duration": 51,
    "start_time": "2022-07-30T19:41:54.245Z"
   },
   {
    "duration": 513,
    "start_time": "2022-07-30T19:42:02.301Z"
   },
   {
    "duration": 22,
    "start_time": "2022-07-30T19:42:02.816Z"
   },
   {
    "duration": 14,
    "start_time": "2022-07-30T19:42:02.840Z"
   },
   {
    "duration": 9,
    "start_time": "2022-07-30T19:42:02.856Z"
   },
   {
    "duration": 59,
    "start_time": "2022-07-30T19:42:02.867Z"
   },
   {
    "duration": 4,
    "start_time": "2022-07-30T19:42:02.927Z"
   },
   {
    "duration": 16,
    "start_time": "2022-07-30T19:42:02.933Z"
   },
   {
    "duration": 23,
    "start_time": "2022-07-30T19:42:02.950Z"
   },
   {
    "duration": 9,
    "start_time": "2022-07-30T19:42:02.975Z"
   },
   {
    "duration": 5,
    "start_time": "2022-07-30T19:42:02.987Z"
   },
   {
    "duration": 39,
    "start_time": "2022-07-30T19:42:02.993Z"
   },
   {
    "duration": 10,
    "start_time": "2022-07-30T19:42:03.034Z"
   },
   {
    "duration": 8,
    "start_time": "2022-07-30T19:42:03.046Z"
   },
   {
    "duration": 21,
    "start_time": "2022-07-30T19:42:03.055Z"
   },
   {
    "duration": 30,
    "start_time": "2022-07-30T19:42:03.077Z"
   },
   {
    "duration": 11,
    "start_time": "2022-07-30T19:42:03.109Z"
   },
   {
    "duration": 7,
    "start_time": "2022-07-30T19:42:03.121Z"
   },
   {
    "duration": 11,
    "start_time": "2022-07-30T19:42:03.130Z"
   },
   {
    "duration": 6,
    "start_time": "2022-07-30T19:42:03.142Z"
   },
   {
    "duration": 4,
    "start_time": "2022-07-30T19:42:03.149Z"
   },
   {
    "duration": 9,
    "start_time": "2022-07-30T19:42:03.155Z"
   },
   {
    "duration": 34,
    "start_time": "2022-07-30T19:42:03.166Z"
   },
   {
    "duration": 5,
    "start_time": "2022-07-30T19:42:27.433Z"
   },
   {
    "duration": 13,
    "start_time": "2022-07-30T19:43:47.029Z"
   },
   {
    "duration": 4,
    "start_time": "2022-07-30T21:30:13.744Z"
   },
   {
    "duration": 63,
    "start_time": "2022-07-30T21:30:46.914Z"
   },
   {
    "duration": 4,
    "start_time": "2022-07-30T21:31:13.036Z"
   },
   {
    "duration": 70,
    "start_time": "2022-07-30T21:31:36.210Z"
   },
   {
    "duration": 14,
    "start_time": "2022-07-30T21:31:36.282Z"
   },
   {
    "duration": 52,
    "start_time": "2022-07-30T21:31:36.301Z"
   },
   {
    "duration": 26,
    "start_time": "2022-07-30T21:31:36.355Z"
   },
   {
    "duration": 65,
    "start_time": "2022-07-30T21:31:36.382Z"
   },
   {
    "duration": 7,
    "start_time": "2022-07-30T21:31:36.449Z"
   },
   {
    "duration": 30,
    "start_time": "2022-07-30T21:31:36.458Z"
   },
   {
    "duration": 38,
    "start_time": "2022-07-30T21:31:36.490Z"
   },
   {
    "duration": 29,
    "start_time": "2022-07-30T21:31:36.529Z"
   },
   {
    "duration": 25,
    "start_time": "2022-07-30T21:31:36.560Z"
   },
   {
    "duration": 80,
    "start_time": "2022-07-30T21:31:36.586Z"
   },
   {
    "duration": 14,
    "start_time": "2022-07-30T21:31:36.668Z"
   },
   {
    "duration": 46,
    "start_time": "2022-07-30T21:31:36.684Z"
   },
   {
    "duration": 42,
    "start_time": "2022-07-30T21:31:36.731Z"
   },
   {
    "duration": 15,
    "start_time": "2022-07-30T21:31:36.774Z"
   },
   {
    "duration": 52,
    "start_time": "2022-07-30T21:31:36.791Z"
   },
   {
    "duration": 14,
    "start_time": "2022-07-30T21:31:36.844Z"
   },
   {
    "duration": 13,
    "start_time": "2022-07-30T21:31:36.860Z"
   },
   {
    "duration": 39,
    "start_time": "2022-07-30T21:31:36.875Z"
   },
   {
    "duration": 18,
    "start_time": "2022-07-30T21:31:36.915Z"
   },
   {
    "duration": 42,
    "start_time": "2022-07-30T21:31:36.934Z"
   },
   {
    "duration": 6,
    "start_time": "2022-07-30T21:31:42.548Z"
   },
   {
    "duration": 5,
    "start_time": "2022-07-30T21:31:45.735Z"
   },
   {
    "duration": 5,
    "start_time": "2022-07-30T21:32:15.062Z"
   },
   {
    "duration": 7,
    "start_time": "2022-07-30T21:32:25.014Z"
   },
   {
    "duration": 5,
    "start_time": "2022-07-30T21:32:33.120Z"
   },
   {
    "duration": 7,
    "start_time": "2022-07-30T21:33:01.200Z"
   },
   {
    "duration": 6,
    "start_time": "2022-07-30T21:33:25.691Z"
   },
   {
    "duration": 5,
    "start_time": "2022-07-30T21:33:28.455Z"
   },
   {
    "duration": 53,
    "start_time": "2022-07-30T21:35:18.750Z"
   },
   {
    "duration": 76,
    "start_time": "2022-07-30T21:35:34.540Z"
   },
   {
    "duration": 47,
    "start_time": "2022-07-30T21:35:42.145Z"
   },
   {
    "duration": 17,
    "start_time": "2022-07-30T21:41:39.404Z"
   },
   {
    "duration": 6,
    "start_time": "2022-07-30T21:42:14.522Z"
   },
   {
    "duration": 29,
    "start_time": "2022-07-30T21:46:32.457Z"
   },
   {
    "duration": 27,
    "start_time": "2022-07-30T21:47:34.980Z"
   },
   {
    "duration": 10,
    "start_time": "2022-07-30T21:48:51.346Z"
   },
   {
    "duration": 13,
    "start_time": "2022-07-30T21:49:31.523Z"
   },
   {
    "duration": 13,
    "start_time": "2022-07-30T21:52:21.637Z"
   },
   {
    "duration": 5,
    "start_time": "2022-07-30T21:58:23.831Z"
   },
   {
    "duration": 11,
    "start_time": "2022-07-30T21:58:43.760Z"
   },
   {
    "duration": 12,
    "start_time": "2022-07-30T21:58:50.072Z"
   },
   {
    "duration": 13,
    "start_time": "2022-07-30T21:59:28.860Z"
   },
   {
    "duration": 14,
    "start_time": "2022-07-30T22:02:21.965Z"
   },
   {
    "duration": 17,
    "start_time": "2022-07-30T22:03:23.124Z"
   },
   {
    "duration": 9,
    "start_time": "2022-07-30T22:07:04.322Z"
   },
   {
    "duration": 15,
    "start_time": "2022-07-30T22:08:13.655Z"
   },
   {
    "duration": 10,
    "start_time": "2022-07-30T22:09:35.540Z"
   },
   {
    "duration": 10,
    "start_time": "2022-07-30T22:09:52.636Z"
   },
   {
    "duration": 72,
    "start_time": "2022-07-30T22:13:42.258Z"
   },
   {
    "duration": 8,
    "start_time": "2022-07-30T22:14:25.822Z"
   },
   {
    "duration": 3,
    "start_time": "2022-07-30T22:19:02.893Z"
   },
   {
    "duration": 6,
    "start_time": "2022-07-30T22:19:16.989Z"
   },
   {
    "duration": 5,
    "start_time": "2022-07-30T22:19:27.379Z"
   },
   {
    "duration": 14,
    "start_time": "2022-07-30T22:26:01.612Z"
   },
   {
    "duration": 5,
    "start_time": "2022-07-30T22:28:10.143Z"
   },
   {
    "duration": 6,
    "start_time": "2022-07-30T22:37:15.017Z"
   },
   {
    "duration": 11,
    "start_time": "2022-07-30T22:42:46.194Z"
   },
   {
    "duration": 11,
    "start_time": "2022-07-30T22:43:32.492Z"
   },
   {
    "duration": 11,
    "start_time": "2022-07-30T22:44:38.447Z"
   },
   {
    "duration": 14,
    "start_time": "2022-07-30T22:46:05.521Z"
   },
   {
    "duration": 5,
    "start_time": "2022-07-30T22:47:36.846Z"
   },
   {
    "duration": 16,
    "start_time": "2022-07-30T22:47:43.314Z"
   },
   {
    "duration": 15,
    "start_time": "2022-07-30T22:48:07.537Z"
   },
   {
    "duration": 15,
    "start_time": "2022-07-30T22:48:59.105Z"
   },
   {
    "duration": 4,
    "start_time": "2022-07-30T22:50:39.740Z"
   },
   {
    "duration": 4,
    "start_time": "2022-07-30T22:55:29.821Z"
   },
   {
    "duration": 29,
    "start_time": "2022-07-30T22:55:46.191Z"
   },
   {
    "duration": 6,
    "start_time": "2022-07-30T22:55:54.497Z"
   },
   {
    "duration": 9,
    "start_time": "2022-07-30T22:58:46.312Z"
   },
   {
    "duration": 20,
    "start_time": "2022-07-30T22:59:29.392Z"
   },
   {
    "duration": 10,
    "start_time": "2022-07-30T23:03:19.796Z"
   },
   {
    "duration": 8,
    "start_time": "2022-07-30T23:04:41.590Z"
   },
   {
    "duration": 10,
    "start_time": "2022-07-30T23:09:18.437Z"
   },
   {
    "duration": 5,
    "start_time": "2022-07-30T23:10:14.535Z"
   },
   {
    "duration": 12,
    "start_time": "2022-07-30T23:11:46.786Z"
   },
   {
    "duration": 9,
    "start_time": "2022-07-30T23:14:44.569Z"
   },
   {
    "duration": 2,
    "start_time": "2022-07-30T23:24:54.354Z"
   },
   {
    "duration": 3,
    "start_time": "2022-07-30T23:26:35.776Z"
   },
   {
    "duration": 5,
    "start_time": "2022-07-30T23:26:46.733Z"
   },
   {
    "duration": 4,
    "start_time": "2022-07-30T23:27:54.594Z"
   },
   {
    "duration": 20,
    "start_time": "2022-07-30T23:28:00.386Z"
   },
   {
    "duration": 20,
    "start_time": "2022-07-30T23:29:29.347Z"
   },
   {
    "duration": 75,
    "start_time": "2022-07-30T23:29:59.999Z"
   },
   {
    "duration": 53,
    "start_time": "2022-07-30T23:30:14.402Z"
   },
   {
    "duration": 20,
    "start_time": "2022-07-30T23:30:22.217Z"
   },
   {
    "duration": 18,
    "start_time": "2022-07-30T23:30:37.136Z"
   },
   {
    "duration": 5,
    "start_time": "2022-07-30T23:31:45.634Z"
   },
   {
    "duration": 7,
    "start_time": "2022-07-30T23:31:55.185Z"
   },
   {
    "duration": 7,
    "start_time": "2022-07-30T23:32:01.616Z"
   },
   {
    "duration": 6,
    "start_time": "2022-07-30T23:32:27.140Z"
   },
   {
    "duration": 7,
    "start_time": "2022-07-30T23:32:42.942Z"
   },
   {
    "duration": 7,
    "start_time": "2022-07-30T23:32:47.824Z"
   },
   {
    "duration": 15,
    "start_time": "2022-07-30T23:33:24.190Z"
   },
   {
    "duration": 6,
    "start_time": "2022-07-30T23:33:31.073Z"
   },
   {
    "duration": 16,
    "start_time": "2022-07-30T23:33:38.072Z"
   },
   {
    "duration": 7,
    "start_time": "2022-07-30T23:34:36.789Z"
   },
   {
    "duration": 7,
    "start_time": "2022-07-30T23:36:11.278Z"
   },
   {
    "duration": 17,
    "start_time": "2022-07-30T23:36:20.914Z"
   },
   {
    "duration": 15,
    "start_time": "2022-07-30T23:37:06.928Z"
   },
   {
    "duration": 10,
    "start_time": "2022-07-30T23:37:17.885Z"
   },
   {
    "duration": 8,
    "start_time": "2022-07-30T23:39:50.805Z"
   },
   {
    "duration": 7,
    "start_time": "2022-07-30T23:41:07.621Z"
   },
   {
    "duration": 6,
    "start_time": "2022-07-30T23:41:37.303Z"
   },
   {
    "duration": 14,
    "start_time": "2022-07-30T23:42:01.040Z"
   },
   {
    "duration": 15,
    "start_time": "2022-07-30T23:42:36.069Z"
   },
   {
    "duration": 12,
    "start_time": "2022-07-30T23:45:06.323Z"
   },
   {
    "duration": 9,
    "start_time": "2022-07-30T23:45:18.782Z"
   },
   {
    "duration": 7,
    "start_time": "2022-07-30T23:45:26.908Z"
   },
   {
    "duration": 9,
    "start_time": "2022-07-30T23:45:46.844Z"
   },
   {
    "duration": 5,
    "start_time": "2022-07-30T23:51:30.912Z"
   },
   {
    "duration": 5,
    "start_time": "2022-07-30T23:53:54.952Z"
   },
   {
    "duration": 3,
    "start_time": "2022-07-30T23:57:57.934Z"
   },
   {
    "duration": 3,
    "start_time": "2022-07-30T23:58:27.551Z"
   },
   {
    "duration": 3,
    "start_time": "2022-07-30T23:58:37.465Z"
   },
   {
    "duration": 3,
    "start_time": "2022-07-30T23:58:48.768Z"
   },
   {
    "duration": 3,
    "start_time": "2022-07-31T00:00:06.648Z"
   },
   {
    "duration": 4,
    "start_time": "2022-07-31T00:00:37.077Z"
   },
   {
    "duration": 28,
    "start_time": "2022-07-31T00:00:43.014Z"
   },
   {
    "duration": 50,
    "start_time": "2022-07-31T00:02:25.228Z"
   },
   {
    "duration": 47,
    "start_time": "2022-07-31T00:03:16.753Z"
   },
   {
    "duration": 52,
    "start_time": "2022-07-31T00:03:27.380Z"
   },
   {
    "duration": 537,
    "start_time": "2022-07-31T00:03:39.100Z"
   },
   {
    "duration": 546,
    "start_time": "2022-07-31T00:03:51.396Z"
   },
   {
    "duration": 32,
    "start_time": "2022-07-31T00:04:19.789Z"
   },
   {
    "duration": 21,
    "start_time": "2022-07-31T00:04:40.567Z"
   },
   {
    "duration": 20,
    "start_time": "2022-07-31T00:05:11.076Z"
   },
   {
    "duration": 52,
    "start_time": "2022-07-31T00:05:26.435Z"
   },
   {
    "duration": 14,
    "start_time": "2022-07-31T00:05:35.439Z"
   },
   {
    "duration": 15,
    "start_time": "2022-07-31T00:05:59.647Z"
   },
   {
    "duration": 17,
    "start_time": "2022-07-31T00:06:18.651Z"
   },
   {
    "duration": 24,
    "start_time": "2022-07-31T00:06:34.363Z"
   },
   {
    "duration": 21,
    "start_time": "2022-07-31T00:09:44.877Z"
   },
   {
    "duration": 13,
    "start_time": "2022-07-31T00:10:17.460Z"
   },
   {
    "duration": 11,
    "start_time": "2022-07-31T00:10:33.841Z"
   },
   {
    "duration": 6,
    "start_time": "2022-07-31T00:11:32.669Z"
   },
   {
    "duration": 47,
    "start_time": "2022-07-31T00:11:50.575Z"
   },
   {
    "duration": 17,
    "start_time": "2022-07-31T00:11:53.407Z"
   },
   {
    "duration": 8,
    "start_time": "2022-07-31T00:13:38.505Z"
   },
   {
    "duration": 8,
    "start_time": "2022-07-31T00:14:03.791Z"
   },
   {
    "duration": 10,
    "start_time": "2022-07-31T00:16:28.144Z"
   },
   {
    "duration": 10,
    "start_time": "2022-07-31T00:19:10.825Z"
   },
   {
    "duration": 6,
    "start_time": "2022-07-31T00:19:34.839Z"
   },
   {
    "duration": 7,
    "start_time": "2022-07-31T00:19:40.791Z"
   },
   {
    "duration": 8,
    "start_time": "2022-07-31T00:24:59.567Z"
   },
   {
    "duration": 10,
    "start_time": "2022-07-31T00:28:11.036Z"
   },
   {
    "duration": 9,
    "start_time": "2022-07-31T00:28:31.174Z"
   },
   {
    "duration": 9,
    "start_time": "2022-07-31T00:30:44.929Z"
   },
   {
    "duration": 8,
    "start_time": "2022-07-31T00:30:50.458Z"
   },
   {
    "duration": 8,
    "start_time": "2022-07-31T00:31:25.293Z"
   },
   {
    "duration": 6,
    "start_time": "2022-07-31T00:32:06.056Z"
   },
   {
    "duration": 7,
    "start_time": "2022-07-31T00:32:33.102Z"
   },
   {
    "duration": 6,
    "start_time": "2022-07-31T00:33:17.743Z"
   },
   {
    "duration": 7,
    "start_time": "2022-07-31T00:33:29.466Z"
   },
   {
    "duration": 9,
    "start_time": "2022-07-31T00:33:41.421Z"
   },
   {
    "duration": 8,
    "start_time": "2022-07-31T00:33:45.692Z"
   },
   {
    "duration": 7,
    "start_time": "2022-07-31T00:33:48.402Z"
   },
   {
    "duration": 6,
    "start_time": "2022-07-31T00:38:29.854Z"
   },
   {
    "duration": 7,
    "start_time": "2022-07-31T00:41:01.405Z"
   },
   {
    "duration": 797,
    "start_time": "2022-07-31T00:49:24.446Z"
   },
   {
    "duration": 773,
    "start_time": "2022-07-31T00:49:48.798Z"
   },
   {
    "duration": 15,
    "start_time": "2022-07-31T00:49:57.182Z"
   },
   {
    "duration": 16,
    "start_time": "2022-07-31T00:50:36.205Z"
   },
   {
    "duration": 15,
    "start_time": "2022-07-31T00:50:59.241Z"
   },
   {
    "duration": 21,
    "start_time": "2022-07-31T00:51:13.696Z"
   },
   {
    "duration": 4,
    "start_time": "2022-07-31T01:00:57.926Z"
   },
   {
    "duration": 10,
    "start_time": "2022-07-31T01:01:10.160Z"
   },
   {
    "duration": 11,
    "start_time": "2022-07-31T01:01:24.492Z"
   },
   {
    "duration": 9,
    "start_time": "2022-07-31T01:01:39.942Z"
   },
   {
    "duration": 9,
    "start_time": "2022-07-31T01:01:48.258Z"
   },
   {
    "duration": 11,
    "start_time": "2022-07-31T01:02:00.452Z"
   },
   {
    "duration": 10,
    "start_time": "2022-07-31T01:02:17.167Z"
   },
   {
    "duration": 15,
    "start_time": "2022-07-31T01:03:53.413Z"
   },
   {
    "duration": 2,
    "start_time": "2022-07-31T01:05:06.807Z"
   },
   {
    "duration": 5,
    "start_time": "2022-07-31T01:05:21.457Z"
   },
   {
    "duration": 5,
    "start_time": "2022-07-31T01:05:37.788Z"
   },
   {
    "duration": 11,
    "start_time": "2022-07-31T01:08:44.611Z"
   },
   {
    "duration": 10,
    "start_time": "2022-07-31T01:08:53.627Z"
   },
   {
    "duration": 10,
    "start_time": "2022-07-31T01:09:02.191Z"
   },
   {
    "duration": 13,
    "start_time": "2022-07-31T01:09:18.323Z"
   },
   {
    "duration": 48,
    "start_time": "2022-07-31T01:09:59.730Z"
   },
   {
    "duration": 10,
    "start_time": "2022-07-31T01:10:08.778Z"
   },
   {
    "duration": 9,
    "start_time": "2022-07-31T01:12:06.218Z"
   },
   {
    "duration": 10,
    "start_time": "2022-07-31T01:12:20.459Z"
   },
   {
    "duration": 45,
    "start_time": "2022-07-31T01:12:34.118Z"
   },
   {
    "duration": 10,
    "start_time": "2022-07-31T01:12:42.608Z"
   },
   {
    "duration": 9,
    "start_time": "2022-07-31T01:15:41.869Z"
   },
   {
    "duration": 10,
    "start_time": "2022-07-31T01:16:18.844Z"
   },
   {
    "duration": 10,
    "start_time": "2022-07-31T01:17:51.338Z"
   },
   {
    "duration": 9,
    "start_time": "2022-07-31T01:17:59.913Z"
   },
   {
    "duration": 10,
    "start_time": "2022-07-31T01:18:03.241Z"
   },
   {
    "duration": 8,
    "start_time": "2022-07-31T01:18:14.387Z"
   },
   {
    "duration": 11,
    "start_time": "2022-07-31T01:18:17.209Z"
   },
   {
    "duration": 9,
    "start_time": "2022-07-31T01:19:56.630Z"
   },
   {
    "duration": 9,
    "start_time": "2022-07-31T01:20:38.672Z"
   },
   {
    "duration": 49,
    "start_time": "2022-07-31T01:26:04.798Z"
   },
   {
    "duration": 10,
    "start_time": "2022-07-31T01:26:47.067Z"
   },
   {
    "duration": 11,
    "start_time": "2022-07-31T01:27:04.109Z"
   },
   {
    "duration": 10,
    "start_time": "2022-07-31T01:27:13.439Z"
   },
   {
    "duration": 9,
    "start_time": "2022-07-31T01:27:24.290Z"
   },
   {
    "duration": 6,
    "start_time": "2022-07-31T01:28:09.846Z"
   },
   {
    "duration": 8,
    "start_time": "2022-07-31T01:28:20.727Z"
   },
   {
    "duration": 7,
    "start_time": "2022-07-31T01:28:44.079Z"
   },
   {
    "duration": 9,
    "start_time": "2022-07-31T01:29:28.879Z"
   },
   {
    "duration": 8,
    "start_time": "2022-07-31T01:30:19.642Z"
   },
   {
    "duration": 4,
    "start_time": "2022-07-31T01:33:04.621Z"
   },
   {
    "duration": 6,
    "start_time": "2022-07-31T01:33:31.816Z"
   },
   {
    "duration": 14,
    "start_time": "2022-07-31T01:34:14.200Z"
   },
   {
    "duration": 58,
    "start_time": "2022-07-31T01:36:02.983Z"
   },
   {
    "duration": 42,
    "start_time": "2022-07-31T01:36:09.515Z"
   },
   {
    "duration": 11,
    "start_time": "2022-07-31T01:36:13.021Z"
   },
   {
    "duration": 8,
    "start_time": "2022-07-31T01:37:11.514Z"
   },
   {
    "duration": 710,
    "start_time": "2022-07-31T10:11:47.007Z"
   },
   {
    "duration": 21,
    "start_time": "2022-07-31T10:11:47.719Z"
   },
   {
    "duration": 14,
    "start_time": "2022-07-31T10:11:47.742Z"
   },
   {
    "duration": 15,
    "start_time": "2022-07-31T10:11:47.758Z"
   },
   {
    "duration": 34,
    "start_time": "2022-07-31T10:11:47.774Z"
   },
   {
    "duration": 3,
    "start_time": "2022-07-31T10:11:47.809Z"
   },
   {
    "duration": 23,
    "start_time": "2022-07-31T10:11:47.814Z"
   },
   {
    "duration": 4,
    "start_time": "2022-07-31T10:11:47.839Z"
   },
   {
    "duration": 17,
    "start_time": "2022-07-31T10:11:47.844Z"
   },
   {
    "duration": 6,
    "start_time": "2022-07-31T10:11:47.864Z"
   },
   {
    "duration": 39,
    "start_time": "2022-07-31T10:11:47.871Z"
   },
   {
    "duration": 25,
    "start_time": "2022-07-31T10:11:47.912Z"
   },
   {
    "duration": 3,
    "start_time": "2022-07-31T10:11:47.939Z"
   },
   {
    "duration": 19,
    "start_time": "2022-07-31T10:11:47.944Z"
   },
   {
    "duration": 16,
    "start_time": "2022-07-31T10:11:47.964Z"
   },
   {
    "duration": 11,
    "start_time": "2022-07-31T10:11:47.981Z"
   },
   {
    "duration": 8,
    "start_time": "2022-07-31T10:11:47.993Z"
   },
   {
    "duration": 12,
    "start_time": "2022-07-31T10:11:48.003Z"
   },
   {
    "duration": 5,
    "start_time": "2022-07-31T10:11:48.037Z"
   },
   {
    "duration": 3,
    "start_time": "2022-07-31T10:11:48.044Z"
   },
   {
    "duration": 14,
    "start_time": "2022-07-31T10:11:48.048Z"
   },
   {
    "duration": 4,
    "start_time": "2022-07-31T10:11:48.064Z"
   },
   {
    "duration": 6,
    "start_time": "2022-07-31T10:11:48.070Z"
   },
   {
    "duration": 7,
    "start_time": "2022-07-31T10:11:48.077Z"
   },
   {
    "duration": 53,
    "start_time": "2022-07-31T10:11:48.085Z"
   },
   {
    "duration": 15,
    "start_time": "2022-07-31T10:11:48.139Z"
   },
   {
    "duration": 16,
    "start_time": "2022-07-31T10:11:48.155Z"
   },
   {
    "duration": 10,
    "start_time": "2022-07-31T10:11:48.174Z"
   },
   {
    "duration": 7,
    "start_time": "2022-07-31T10:11:48.186Z"
   },
   {
    "duration": 10,
    "start_time": "2022-07-31T10:11:48.195Z"
   },
   {
    "duration": 7,
    "start_time": "2022-07-31T10:11:48.236Z"
   },
   {
    "duration": 19,
    "start_time": "2022-07-31T10:11:48.244Z"
   },
   {
    "duration": 19,
    "start_time": "2022-07-31T10:11:48.265Z"
   },
   {
    "duration": 33,
    "start_time": "2022-07-31T10:11:48.286Z"
   },
   {
    "duration": 26,
    "start_time": "2022-07-31T10:11:48.322Z"
   },
   {
    "duration": 10,
    "start_time": "2022-07-31T10:11:48.350Z"
   },
   {
    "duration": 22,
    "start_time": "2022-07-31T10:11:48.361Z"
   },
   {
    "duration": 17,
    "start_time": "2022-07-31T10:11:48.384Z"
   },
   {
    "duration": 39,
    "start_time": "2022-07-31T10:11:48.403Z"
   },
   {
    "duration": 14,
    "start_time": "2022-07-31T10:11:48.444Z"
   },
   {
    "duration": 19,
    "start_time": "2022-07-31T10:11:48.460Z"
   },
   {
    "duration": 9,
    "start_time": "2022-07-31T10:11:48.480Z"
   },
   {
    "duration": 7,
    "start_time": "2022-07-31T10:11:48.490Z"
   },
   {
    "duration": 40,
    "start_time": "2022-07-31T10:11:48.499Z"
   },
   {
    "duration": 12,
    "start_time": "2022-07-31T10:11:48.541Z"
   },
   {
    "duration": 6,
    "start_time": "2022-07-31T10:11:48.555Z"
   },
   {
    "duration": 7,
    "start_time": "2022-07-31T10:11:48.563Z"
   },
   {
    "duration": 46,
    "start_time": "2022-07-31T10:11:48.572Z"
   },
   {
    "duration": 15,
    "start_time": "2022-07-31T10:11:48.623Z"
   },
   {
    "duration": 35,
    "start_time": "2022-07-31T10:11:48.640Z"
   },
   {
    "duration": 13,
    "start_time": "2022-07-31T10:11:48.676Z"
   },
   {
    "duration": 19,
    "start_time": "2022-07-31T10:11:48.691Z"
   },
   {
    "duration": 11,
    "start_time": "2022-07-31T10:11:48.711Z"
   },
   {
    "duration": 9,
    "start_time": "2022-07-31T10:11:48.737Z"
   },
   {
    "duration": 5,
    "start_time": "2022-07-31T10:11:48.748Z"
   },
   {
    "duration": 10,
    "start_time": "2022-07-31T10:11:48.755Z"
   },
   {
    "duration": 8,
    "start_time": "2022-07-31T10:11:48.767Z"
   },
   {
    "duration": 4,
    "start_time": "2022-07-31T10:11:48.776Z"
   },
   {
    "duration": 14,
    "start_time": "2022-07-31T10:11:48.781Z"
   },
   {
    "duration": 46,
    "start_time": "2022-07-31T10:11:48.796Z"
   },
   {
    "duration": 9,
    "start_time": "2022-07-31T10:11:48.844Z"
   },
   {
    "duration": 6,
    "start_time": "2022-07-31T10:12:20.377Z"
   },
   {
    "duration": 6,
    "start_time": "2022-07-31T10:12:39.962Z"
   },
   {
    "duration": 16,
    "start_time": "2022-07-31T10:19:44.774Z"
   },
   {
    "duration": 12,
    "start_time": "2022-07-31T10:19:48.934Z"
   },
   {
    "duration": 20,
    "start_time": "2022-07-31T10:20:37.572Z"
   },
   {
    "duration": 65,
    "start_time": "2022-07-31T10:23:24.854Z"
   },
   {
    "duration": 8,
    "start_time": "2022-07-31T10:23:34.004Z"
   },
   {
    "duration": 11,
    "start_time": "2022-07-31T10:23:37.835Z"
   },
   {
    "duration": 7,
    "start_time": "2022-07-31T10:23:41.368Z"
   },
   {
    "duration": 8,
    "start_time": "2022-07-31T10:23:46.198Z"
   },
   {
    "duration": 11,
    "start_time": "2022-07-31T10:23:48.273Z"
   },
   {
    "duration": 4,
    "start_time": "2022-07-31T10:34:08.135Z"
   },
   {
    "duration": 739,
    "start_time": "2022-07-31T10:34:56.206Z"
   },
   {
    "duration": 11,
    "start_time": "2022-07-31T10:35:00.493Z"
   },
   {
    "duration": 19,
    "start_time": "2022-07-31T10:35:04.315Z"
   },
   {
    "duration": 6,
    "start_time": "2022-07-31T10:35:14.335Z"
   },
   {
    "duration": 9,
    "start_time": "2022-07-31T10:46:16.131Z"
   },
   {
    "duration": 11,
    "start_time": "2022-07-31T10:46:19.797Z"
   },
   {
    "duration": 9,
    "start_time": "2022-07-31T10:46:46.253Z"
   },
   {
    "duration": 8,
    "start_time": "2022-07-31T10:47:21.882Z"
   },
   {
    "duration": 10,
    "start_time": "2022-07-31T10:47:25.190Z"
   },
   {
    "duration": 12,
    "start_time": "2022-07-31T10:52:51.358Z"
   },
   {
    "duration": 11,
    "start_time": "2022-07-31T10:53:43.791Z"
   },
   {
    "duration": 10,
    "start_time": "2022-07-31T10:54:34.332Z"
   },
   {
    "duration": 9,
    "start_time": "2022-07-31T10:55:34.040Z"
   },
   {
    "duration": 10,
    "start_time": "2022-07-31T10:56:42.987Z"
   },
   {
    "duration": 10,
    "start_time": "2022-07-31T11:04:19.192Z"
   },
   {
    "duration": 11,
    "start_time": "2022-07-31T11:04:54.466Z"
   },
   {
    "duration": 9,
    "start_time": "2022-07-31T11:07:17.913Z"
   },
   {
    "duration": 23,
    "start_time": "2022-07-31T11:29:00.197Z"
   },
   {
    "duration": 8,
    "start_time": "2022-07-31T11:30:55.376Z"
   },
   {
    "duration": 13,
    "start_time": "2022-07-31T11:33:19.313Z"
   },
   {
    "duration": 11,
    "start_time": "2022-07-31T11:33:38.412Z"
   },
   {
    "duration": 14,
    "start_time": "2022-07-31T11:35:58.001Z"
   },
   {
    "duration": 24,
    "start_time": "2022-07-31T11:36:13.852Z"
   },
   {
    "duration": 7,
    "start_time": "2022-07-31T11:36:35.863Z"
   },
   {
    "duration": 20,
    "start_time": "2022-07-31T11:37:18.752Z"
   },
   {
    "duration": 6,
    "start_time": "2022-07-31T11:37:36.915Z"
   },
   {
    "duration": 17,
    "start_time": "2022-07-31T11:39:19.319Z"
   },
   {
    "duration": 18,
    "start_time": "2022-07-31T11:39:34.687Z"
   },
   {
    "duration": 6,
    "start_time": "2022-07-31T11:39:41.863Z"
   },
   {
    "duration": 10,
    "start_time": "2022-07-31T11:40:07.552Z"
   },
   {
    "duration": 7,
    "start_time": "2022-07-31T11:40:16.050Z"
   },
   {
    "duration": 10,
    "start_time": "2022-07-31T11:40:56.076Z"
   },
   {
    "duration": 6,
    "start_time": "2022-07-31T11:41:27.419Z"
   },
   {
    "duration": 13,
    "start_time": "2022-07-31T11:43:55.600Z"
   },
   {
    "duration": 12,
    "start_time": "2022-07-31T11:44:02.567Z"
   },
   {
    "duration": 5,
    "start_time": "2022-07-31T11:44:42.307Z"
   },
   {
    "duration": 10,
    "start_time": "2022-07-31T11:47:49.863Z"
   },
   {
    "duration": 9,
    "start_time": "2022-07-31T11:48:15.180Z"
   },
   {
    "duration": 135,
    "start_time": "2022-07-31T11:49:29.798Z"
   },
   {
    "duration": 12,
    "start_time": "2022-07-31T11:50:53.966Z"
   },
   {
    "duration": 6,
    "start_time": "2022-07-31T11:51:20.021Z"
   },
   {
    "duration": 13,
    "start_time": "2022-07-31T11:59:00.960Z"
   },
   {
    "duration": 16,
    "start_time": "2022-07-31T11:59:10.702Z"
   },
   {
    "duration": 4,
    "start_time": "2022-07-31T12:02:41.159Z"
   },
   {
    "duration": 6,
    "start_time": "2022-07-31T12:04:08.258Z"
   },
   {
    "duration": 8,
    "start_time": "2022-07-31T12:04:43.136Z"
   },
   {
    "duration": 3,
    "start_time": "2022-07-31T12:05:08.331Z"
   },
   {
    "duration": 5,
    "start_time": "2022-07-31T12:05:15.628Z"
   },
   {
    "duration": 23,
    "start_time": "2022-07-31T12:06:40.811Z"
   },
   {
    "duration": 24,
    "start_time": "2022-07-31T12:06:50.939Z"
   },
   {
    "duration": 25,
    "start_time": "2022-07-31T12:07:15.155Z"
   },
   {
    "duration": 11,
    "start_time": "2022-07-31T12:09:52.616Z"
   },
   {
    "duration": 10,
    "start_time": "2022-07-31T12:10:30.411Z"
   },
   {
    "duration": 8,
    "start_time": "2022-07-31T12:10:46.506Z"
   },
   {
    "duration": 22,
    "start_time": "2022-07-31T12:19:10.364Z"
   },
   {
    "duration": 39,
    "start_time": "2022-07-31T12:26:19.457Z"
   },
   {
    "duration": 1004,
    "start_time": "2022-07-31T12:27:17.431Z"
   },
   {
    "duration": 1024,
    "start_time": "2022-07-31T12:27:21.355Z"
   },
   {
    "duration": 33,
    "start_time": "2022-07-31T12:27:25.767Z"
   },
   {
    "duration": 54,
    "start_time": "2022-07-31T12:27:37.729Z"
   },
   {
    "duration": 2,
    "start_time": "2022-07-31T12:28:12.361Z"
   },
   {
    "duration": 6,
    "start_time": "2022-07-31T12:28:21.663Z"
   },
   {
    "duration": 36,
    "start_time": "2022-07-31T12:30:50.621Z"
   },
   {
    "duration": 250,
    "start_time": "2022-07-31T12:31:11.427Z"
   },
   {
    "duration": 22,
    "start_time": "2022-07-31T12:31:34.457Z"
   },
   {
    "duration": 20,
    "start_time": "2022-07-31T12:32:40.365Z"
   },
   {
    "duration": 24,
    "start_time": "2022-07-31T12:32:53.903Z"
   },
   {
    "duration": 17,
    "start_time": "2022-07-31T12:35:19.930Z"
   },
   {
    "duration": 42,
    "start_time": "2022-07-31T12:35:32.229Z"
   },
   {
    "duration": 12,
    "start_time": "2022-07-31T12:37:10.551Z"
   },
   {
    "duration": 6,
    "start_time": "2022-07-31T12:37:40.453Z"
   },
   {
    "duration": 13,
    "start_time": "2022-07-31T12:46:45.722Z"
   },
   {
    "duration": 12,
    "start_time": "2022-07-31T12:48:33.775Z"
   },
   {
    "duration": 10,
    "start_time": "2022-07-31T12:48:44.425Z"
   },
   {
    "duration": 9,
    "start_time": "2022-07-31T12:49:05.051Z"
   },
   {
    "duration": 14,
    "start_time": "2022-07-31T12:51:28.556Z"
   },
   {
    "duration": 10,
    "start_time": "2022-07-31T12:51:37.230Z"
   },
   {
    "duration": 10,
    "start_time": "2022-07-31T12:51:59.530Z"
   },
   {
    "duration": 9,
    "start_time": "2022-07-31T12:52:03.729Z"
   },
   {
    "duration": 11,
    "start_time": "2022-07-31T12:52:11.836Z"
   },
   {
    "duration": 15,
    "start_time": "2022-07-31T12:52:25.240Z"
   },
   {
    "duration": 16,
    "start_time": "2022-07-31T12:52:39.920Z"
   },
   {
    "duration": 10,
    "start_time": "2022-07-31T12:53:02.666Z"
   },
   {
    "duration": 11,
    "start_time": "2022-07-31T12:53:33.554Z"
   },
   {
    "duration": 13,
    "start_time": "2022-07-31T12:55:59.034Z"
   },
   {
    "duration": 12,
    "start_time": "2022-07-31T12:59:04.923Z"
   },
   {
    "duration": 11,
    "start_time": "2022-07-31T13:14:07.087Z"
   },
   {
    "duration": 13,
    "start_time": "2022-07-31T13:18:25.509Z"
   },
   {
    "duration": 16,
    "start_time": "2022-07-31T13:21:29.139Z"
   },
   {
    "duration": 16,
    "start_time": "2022-07-31T13:22:16.488Z"
   },
   {
    "duration": 16,
    "start_time": "2022-07-31T13:27:38.964Z"
   },
   {
    "duration": 11,
    "start_time": "2022-07-31T13:28:14.101Z"
   },
   {
    "duration": 44,
    "start_time": "2022-07-31T13:33:54.363Z"
   },
   {
    "duration": 47,
    "start_time": "2022-07-31T13:34:00.520Z"
   },
   {
    "duration": 13,
    "start_time": "2022-07-31T13:34:05.918Z"
   },
   {
    "duration": 10,
    "start_time": "2022-07-31T13:34:38.757Z"
   },
   {
    "duration": 11,
    "start_time": "2022-07-31T13:35:55.686Z"
   },
   {
    "duration": 60,
    "start_time": "2022-07-31T13:37:03.313Z"
   },
   {
    "duration": 12,
    "start_time": "2022-07-31T13:45:28.805Z"
   },
   {
    "duration": 14,
    "start_time": "2022-07-31T13:47:19.120Z"
   },
   {
    "duration": 12,
    "start_time": "2022-07-31T13:47:31.114Z"
   },
   {
    "duration": 11,
    "start_time": "2022-07-31T13:55:53.015Z"
   },
   {
    "duration": 51,
    "start_time": "2022-07-31T13:58:57.016Z"
   },
   {
    "duration": 15,
    "start_time": "2022-07-31T13:59:02.282Z"
   },
   {
    "duration": 13,
    "start_time": "2022-07-31T14:04:29.213Z"
   },
   {
    "duration": 13,
    "start_time": "2022-07-31T14:07:16.246Z"
   },
   {
    "duration": 17,
    "start_time": "2022-07-31T14:50:12.887Z"
   },
   {
    "duration": 14,
    "start_time": "2022-07-31T14:50:26.996Z"
   },
   {
    "duration": 17,
    "start_time": "2022-07-31T14:50:31.023Z"
   },
   {
    "duration": 3,
    "start_time": "2022-07-31T14:50:44.470Z"
   },
   {
    "duration": 7,
    "start_time": "2022-07-31T14:51:09.448Z"
   },
   {
    "duration": 73,
    "start_time": "2022-07-31T14:51:30.708Z"
   },
   {
    "duration": 80,
    "start_time": "2022-07-31T14:51:44.468Z"
   },
   {
    "duration": 11,
    "start_time": "2022-07-31T14:51:47.683Z"
   },
   {
    "duration": 11,
    "start_time": "2022-07-31T14:51:58.706Z"
   },
   {
    "duration": 7,
    "start_time": "2022-07-31T14:52:02.546Z"
   },
   {
    "duration": 9,
    "start_time": "2022-07-31T14:52:08.600Z"
   },
   {
    "duration": 8,
    "start_time": "2022-07-31T15:05:53.459Z"
   },
   {
    "duration": 55,
    "start_time": "2022-07-31T15:07:01.716Z"
   },
   {
    "duration": 31,
    "start_time": "2022-07-31T15:10:58.903Z"
   },
   {
    "duration": 72,
    "start_time": "2022-07-31T15:12:31.120Z"
   },
   {
    "duration": 16,
    "start_time": "2022-07-31T15:12:31.193Z"
   },
   {
    "duration": 32,
    "start_time": "2022-07-31T15:12:31.211Z"
   },
   {
    "duration": 13,
    "start_time": "2022-07-31T15:12:31.246Z"
   },
   {
    "duration": 72,
    "start_time": "2022-07-31T15:12:31.261Z"
   },
   {
    "duration": 3,
    "start_time": "2022-07-31T15:12:31.335Z"
   },
   {
    "duration": 26,
    "start_time": "2022-07-31T15:12:31.339Z"
   },
   {
    "duration": 5,
    "start_time": "2022-07-31T15:12:31.367Z"
   },
   {
    "duration": 5,
    "start_time": "2022-07-31T15:12:31.383Z"
   },
   {
    "duration": 4,
    "start_time": "2022-07-31T15:12:31.417Z"
   },
   {
    "duration": 32,
    "start_time": "2022-07-31T15:12:31.442Z"
   },
   {
    "duration": 9,
    "start_time": "2022-07-31T15:12:31.476Z"
   },
   {
    "duration": 3,
    "start_time": "2022-07-31T15:12:31.494Z"
   },
   {
    "duration": 19,
    "start_time": "2022-07-31T15:12:31.528Z"
   },
   {
    "duration": 16,
    "start_time": "2022-07-31T15:12:31.549Z"
   },
   {
    "duration": 10,
    "start_time": "2022-07-31T15:12:31.570Z"
   },
   {
    "duration": 3,
    "start_time": "2022-07-31T15:12:31.601Z"
   },
   {
    "duration": 9,
    "start_time": "2022-07-31T15:12:31.623Z"
   },
   {
    "duration": 5,
    "start_time": "2022-07-31T15:12:31.647Z"
   },
   {
    "duration": 3,
    "start_time": "2022-07-31T15:12:31.671Z"
   },
   {
    "duration": 8,
    "start_time": "2022-07-31T15:12:31.689Z"
   },
   {
    "duration": 5,
    "start_time": "2022-07-31T15:12:31.726Z"
   },
   {
    "duration": 4,
    "start_time": "2022-07-31T15:12:31.743Z"
   },
   {
    "duration": 6,
    "start_time": "2022-07-31T15:12:31.782Z"
   },
   {
    "duration": 19,
    "start_time": "2022-07-31T15:12:31.845Z"
   },
   {
    "duration": 11,
    "start_time": "2022-07-31T15:12:31.868Z"
   },
   {
    "duration": 16,
    "start_time": "2022-07-31T15:12:31.898Z"
   },
   {
    "duration": 8,
    "start_time": "2022-07-31T15:12:31.936Z"
   },
   {
    "duration": 23,
    "start_time": "2022-07-31T15:12:31.951Z"
   },
   {
    "duration": 9,
    "start_time": "2022-07-31T15:12:31.976Z"
   },
   {
    "duration": 7,
    "start_time": "2022-07-31T15:12:32.013Z"
   },
   {
    "duration": 10,
    "start_time": "2022-07-31T15:12:32.047Z"
   },
   {
    "duration": 16,
    "start_time": "2022-07-31T15:12:32.063Z"
   },
   {
    "duration": 17,
    "start_time": "2022-07-31T15:12:32.097Z"
   },
   {
    "duration": 10,
    "start_time": "2022-07-31T15:12:32.147Z"
   },
   {
    "duration": 9,
    "start_time": "2022-07-31T15:12:32.186Z"
   },
   {
    "duration": 9,
    "start_time": "2022-07-31T15:12:32.225Z"
   },
   {
    "duration": 22,
    "start_time": "2022-07-31T15:12:32.268Z"
   },
   {
    "duration": 53,
    "start_time": "2022-07-31T15:12:32.306Z"
   },
   {
    "duration": 11,
    "start_time": "2022-07-31T15:12:32.362Z"
   },
   {
    "duration": 9,
    "start_time": "2022-07-31T15:12:32.377Z"
   },
   {
    "duration": 12,
    "start_time": "2022-07-31T15:12:32.424Z"
   },
   {
    "duration": 13,
    "start_time": "2022-07-31T15:12:32.460Z"
   },
   {
    "duration": 8,
    "start_time": "2022-07-31T15:12:32.491Z"
   },
   {
    "duration": 13,
    "start_time": "2022-07-31T15:12:32.534Z"
   },
   {
    "duration": 11,
    "start_time": "2022-07-31T15:12:32.577Z"
   },
   {
    "duration": 10,
    "start_time": "2022-07-31T15:12:32.595Z"
   },
   {
    "duration": 10,
    "start_time": "2022-07-31T15:12:32.640Z"
   },
   {
    "duration": 37,
    "start_time": "2022-07-31T15:12:32.653Z"
   },
   {
    "duration": 45,
    "start_time": "2022-07-31T15:12:32.693Z"
   },
   {
    "duration": 26,
    "start_time": "2022-07-31T15:12:32.740Z"
   },
   {
    "duration": 11,
    "start_time": "2022-07-31T15:12:32.768Z"
   },
   {
    "duration": 11,
    "start_time": "2022-07-31T15:12:32.781Z"
   },
   {
    "duration": 41,
    "start_time": "2022-07-31T15:12:32.802Z"
   },
   {
    "duration": 11,
    "start_time": "2022-07-31T15:12:32.845Z"
   },
   {
    "duration": 16,
    "start_time": "2022-07-31T15:12:32.867Z"
   },
   {
    "duration": 12,
    "start_time": "2022-07-31T15:12:32.887Z"
   },
   {
    "duration": 12,
    "start_time": "2022-07-31T15:12:32.912Z"
   },
   {
    "duration": 12,
    "start_time": "2022-07-31T15:12:32.938Z"
   },
   {
    "duration": 22,
    "start_time": "2022-07-31T15:12:32.962Z"
   },
   {
    "duration": 11,
    "start_time": "2022-07-31T15:12:32.996Z"
   },
   {
    "duration": 12,
    "start_time": "2022-07-31T15:12:33.021Z"
   },
   {
    "duration": 11,
    "start_time": "2022-07-31T15:12:33.043Z"
   },
   {
    "duration": 11,
    "start_time": "2022-07-31T15:12:33.064Z"
   },
   {
    "duration": 11,
    "start_time": "2022-07-31T15:12:33.085Z"
   },
   {
    "duration": 12,
    "start_time": "2022-07-31T15:12:33.106Z"
   },
   {
    "duration": 6,
    "start_time": "2022-07-31T15:13:05.722Z"
   },
   {
    "duration": 6,
    "start_time": "2022-07-31T15:13:32.058Z"
   },
   {
    "duration": 32,
    "start_time": "2022-07-31T15:13:44.676Z"
   },
   {
    "duration": 10,
    "start_time": "2022-07-31T15:14:09.207Z"
   },
   {
    "duration": 21,
    "start_time": "2022-07-31T15:14:14.667Z"
   },
   {
    "duration": 9,
    "start_time": "2022-07-31T15:15:59.817Z"
   },
   {
    "duration": 12,
    "start_time": "2022-07-31T15:16:16.038Z"
   },
   {
    "duration": 24,
    "start_time": "2022-07-31T15:30:23.268Z"
   },
   {
    "duration": 16,
    "start_time": "2022-07-31T15:30:26.186Z"
   },
   {
    "duration": 25,
    "start_time": "2022-07-31T15:30:43.168Z"
   },
   {
    "duration": 9,
    "start_time": "2022-07-31T15:30:47.582Z"
   },
   {
    "duration": 14,
    "start_time": "2022-07-31T15:31:05.288Z"
   },
   {
    "duration": 21,
    "start_time": "2022-07-31T15:31:16.280Z"
   },
   {
    "duration": 12,
    "start_time": "2022-07-31T15:31:23.874Z"
   },
   {
    "duration": 26,
    "start_time": "2022-07-31T15:33:18.410Z"
   },
   {
    "duration": 35,
    "start_time": "2022-07-31T15:33:38.717Z"
   },
   {
    "duration": 15,
    "start_time": "2022-07-31T15:37:51.376Z"
   },
   {
    "duration": 15,
    "start_time": "2022-07-31T15:43:47.790Z"
   },
   {
    "duration": 16,
    "start_time": "2022-07-31T15:43:56.664Z"
   },
   {
    "duration": 721,
    "start_time": "2022-07-31T16:46:57.116Z"
   },
   {
    "duration": 22,
    "start_time": "2022-07-31T16:46:57.840Z"
   },
   {
    "duration": 21,
    "start_time": "2022-07-31T16:46:57.864Z"
   },
   {
    "duration": 9,
    "start_time": "2022-07-31T16:46:57.887Z"
   },
   {
    "duration": 55,
    "start_time": "2022-07-31T16:46:57.898Z"
   },
   {
    "duration": 3,
    "start_time": "2022-07-31T16:46:57.955Z"
   },
   {
    "duration": 13,
    "start_time": "2022-07-31T16:46:57.960Z"
   },
   {
    "duration": 5,
    "start_time": "2022-07-31T16:46:57.975Z"
   },
   {
    "duration": 9,
    "start_time": "2022-07-31T16:46:57.981Z"
   },
   {
    "duration": 5,
    "start_time": "2022-07-31T16:46:57.995Z"
   },
   {
    "duration": 80,
    "start_time": "2022-07-31T16:46:58.002Z"
   },
   {
    "duration": 11,
    "start_time": "2022-07-31T16:46:58.083Z"
   },
   {
    "duration": 10,
    "start_time": "2022-07-31T16:46:58.096Z"
   },
   {
    "duration": 29,
    "start_time": "2022-07-31T16:46:58.108Z"
   },
   {
    "duration": 17,
    "start_time": "2022-07-31T16:46:58.139Z"
   },
   {
    "duration": 12,
    "start_time": "2022-07-31T16:46:58.157Z"
   },
   {
    "duration": 5,
    "start_time": "2022-07-31T16:46:58.171Z"
   },
   {
    "duration": 14,
    "start_time": "2022-07-31T16:46:58.177Z"
   },
   {
    "duration": 7,
    "start_time": "2022-07-31T16:46:58.192Z"
   },
   {
    "duration": 4,
    "start_time": "2022-07-31T16:46:58.201Z"
   },
   {
    "duration": 10,
    "start_time": "2022-07-31T16:46:58.236Z"
   },
   {
    "duration": 8,
    "start_time": "2022-07-31T16:46:58.248Z"
   },
   {
    "duration": 7,
    "start_time": "2022-07-31T16:46:58.258Z"
   },
   {
    "duration": 6,
    "start_time": "2022-07-31T16:46:58.267Z"
   },
   {
    "duration": 20,
    "start_time": "2022-07-31T16:46:58.275Z"
   },
   {
    "duration": 42,
    "start_time": "2022-07-31T16:46:58.296Z"
   },
   {
    "duration": 18,
    "start_time": "2022-07-31T16:46:58.340Z"
   },
   {
    "duration": 11,
    "start_time": "2022-07-31T16:46:58.362Z"
   },
   {
    "duration": 6,
    "start_time": "2022-07-31T16:46:58.375Z"
   },
   {
    "duration": 11,
    "start_time": "2022-07-31T16:46:58.382Z"
   },
   {
    "duration": 8,
    "start_time": "2022-07-31T16:46:58.395Z"
   },
   {
    "duration": 11,
    "start_time": "2022-07-31T16:46:58.436Z"
   },
   {
    "duration": 17,
    "start_time": "2022-07-31T16:46:58.449Z"
   },
   {
    "duration": 19,
    "start_time": "2022-07-31T16:46:58.468Z"
   },
   {
    "duration": 9,
    "start_time": "2022-07-31T16:46:58.489Z"
   },
   {
    "duration": 39,
    "start_time": "2022-07-31T16:46:58.500Z"
   },
   {
    "duration": 9,
    "start_time": "2022-07-31T16:46:58.541Z"
   },
   {
    "duration": 20,
    "start_time": "2022-07-31T16:46:58.552Z"
   },
   {
    "duration": 16,
    "start_time": "2022-07-31T16:46:58.573Z"
   },
   {
    "duration": 8,
    "start_time": "2022-07-31T16:46:58.591Z"
   },
   {
    "duration": 39,
    "start_time": "2022-07-31T16:46:58.600Z"
   },
   {
    "duration": 32,
    "start_time": "2022-07-31T16:46:58.640Z"
   },
   {
    "duration": 15,
    "start_time": "2022-07-31T16:46:58.673Z"
   },
   {
    "duration": 27,
    "start_time": "2022-07-31T16:46:58.690Z"
   },
   {
    "duration": 12,
    "start_time": "2022-07-31T16:46:58.718Z"
   },
   {
    "duration": 18,
    "start_time": "2022-07-31T16:46:58.732Z"
   },
   {
    "duration": 12,
    "start_time": "2022-07-31T16:46:58.751Z"
   },
   {
    "duration": 17,
    "start_time": "2022-07-31T16:46:58.765Z"
   },
   {
    "duration": 55,
    "start_time": "2022-07-31T16:46:58.783Z"
   },
   {
    "duration": 30,
    "start_time": "2022-07-31T16:46:58.840Z"
   },
   {
    "duration": 66,
    "start_time": "2022-07-31T16:46:58.872Z"
   },
   {
    "duration": 16,
    "start_time": "2022-07-31T16:46:58.940Z"
   },
   {
    "duration": 34,
    "start_time": "2022-07-31T16:46:58.958Z"
   },
   {
    "duration": 17,
    "start_time": "2022-07-31T16:46:58.994Z"
   },
   {
    "duration": 26,
    "start_time": "2022-07-31T16:46:59.013Z"
   },
   {
    "duration": 16,
    "start_time": "2022-07-31T16:46:59.040Z"
   },
   {
    "duration": 23,
    "start_time": "2022-07-31T16:46:59.057Z"
   },
   {
    "duration": 16,
    "start_time": "2022-07-31T16:46:59.082Z"
   },
   {
    "duration": 16,
    "start_time": "2022-07-31T16:46:59.100Z"
   },
   {
    "duration": 29,
    "start_time": "2022-07-31T16:46:59.138Z"
   },
   {
    "duration": 11,
    "start_time": "2022-07-31T16:46:59.168Z"
   },
   {
    "duration": 12,
    "start_time": "2022-07-31T16:46:59.180Z"
   },
   {
    "duration": 11,
    "start_time": "2022-07-31T16:46:59.193Z"
   },
   {
    "duration": 46,
    "start_time": "2022-07-31T16:46:59.205Z"
   },
   {
    "duration": 12,
    "start_time": "2022-07-31T16:46:59.252Z"
   },
   {
    "duration": 13,
    "start_time": "2022-07-31T16:46:59.266Z"
   },
   {
    "duration": 59,
    "start_time": "2022-08-02T09:42:01.550Z"
   },
   {
    "duration": 51,
    "start_time": "2022-08-02T09:43:54.019Z"
   },
   {
    "duration": 654,
    "start_time": "2022-08-02T09:43:58.580Z"
   },
   {
    "duration": 21,
    "start_time": "2022-08-02T09:43:59.236Z"
   },
   {
    "duration": 13,
    "start_time": "2022-08-02T09:43:59.258Z"
   },
   {
    "duration": 8,
    "start_time": "2022-08-02T09:43:59.272Z"
   },
   {
    "duration": 39,
    "start_time": "2022-08-02T09:43:59.282Z"
   },
   {
    "duration": 2,
    "start_time": "2022-08-02T09:43:59.323Z"
   },
   {
    "duration": 18,
    "start_time": "2022-08-02T09:43:59.327Z"
   },
   {
    "duration": 11,
    "start_time": "2022-08-02T09:43:59.347Z"
   },
   {
    "duration": 8,
    "start_time": "2022-08-02T09:43:59.359Z"
   },
   {
    "duration": 4,
    "start_time": "2022-08-02T09:43:59.370Z"
   },
   {
    "duration": 48,
    "start_time": "2022-08-02T09:43:59.375Z"
   },
   {
    "duration": 9,
    "start_time": "2022-08-02T09:43:59.425Z"
   },
   {
    "duration": 4,
    "start_time": "2022-08-02T09:43:59.436Z"
   },
   {
    "duration": 19,
    "start_time": "2022-08-02T09:43:59.441Z"
   },
   {
    "duration": 15,
    "start_time": "2022-08-02T09:43:59.462Z"
   },
   {
    "duration": 37,
    "start_time": "2022-08-02T09:43:59.478Z"
   },
   {
    "duration": 6,
    "start_time": "2022-08-02T09:43:59.516Z"
   },
   {
    "duration": 16,
    "start_time": "2022-08-02T09:43:59.524Z"
   },
   {
    "duration": 19,
    "start_time": "2022-08-02T09:43:59.541Z"
   },
   {
    "duration": 10,
    "start_time": "2022-08-02T09:43:59.562Z"
   },
   {
    "duration": 20,
    "start_time": "2022-08-02T09:43:59.573Z"
   },
   {
    "duration": 4,
    "start_time": "2022-08-02T09:43:59.595Z"
   },
   {
    "duration": 6,
    "start_time": "2022-08-02T09:43:59.601Z"
   },
   {
    "duration": 5,
    "start_time": "2022-08-02T09:43:59.608Z"
   },
   {
    "duration": 19,
    "start_time": "2022-08-02T09:43:59.614Z"
   },
   {
    "duration": 14,
    "start_time": "2022-08-02T09:43:59.634Z"
   },
   {
    "duration": 15,
    "start_time": "2022-08-02T09:43:59.649Z"
   },
   {
    "duration": 9,
    "start_time": "2022-08-02T09:43:59.668Z"
   },
   {
    "duration": 32,
    "start_time": "2022-08-02T09:43:59.679Z"
   },
   {
    "duration": 10,
    "start_time": "2022-08-02T09:43:59.712Z"
   },
   {
    "duration": 10,
    "start_time": "2022-08-02T09:43:59.723Z"
   },
   {
    "duration": 10,
    "start_time": "2022-08-02T09:43:59.735Z"
   },
   {
    "duration": 14,
    "start_time": "2022-08-02T09:43:59.746Z"
   },
   {
    "duration": 17,
    "start_time": "2022-08-02T09:43:59.762Z"
   },
   {
    "duration": 37,
    "start_time": "2022-08-02T09:43:59.781Z"
   },
   {
    "duration": 7,
    "start_time": "2022-08-02T09:43:59.820Z"
   },
   {
    "duration": 8,
    "start_time": "2022-08-02T09:43:59.828Z"
   },
   {
    "duration": 19,
    "start_time": "2022-08-02T09:43:59.838Z"
   },
   {
    "duration": 16,
    "start_time": "2022-08-02T09:43:59.858Z"
   },
   {
    "duration": 38,
    "start_time": "2022-08-02T09:43:59.875Z"
   },
   {
    "duration": 8,
    "start_time": "2022-08-02T09:43:59.914Z"
   },
   {
    "duration": 14,
    "start_time": "2022-08-02T09:43:59.924Z"
   },
   {
    "duration": 16,
    "start_time": "2022-08-02T09:43:59.940Z"
   },
   {
    "duration": 8,
    "start_time": "2022-08-02T09:43:59.958Z"
   },
   {
    "duration": 11,
    "start_time": "2022-08-02T09:43:59.967Z"
   },
   {
    "duration": 36,
    "start_time": "2022-08-02T09:43:59.980Z"
   },
   {
    "duration": 8,
    "start_time": "2022-08-02T09:44:00.017Z"
   },
   {
    "duration": 9,
    "start_time": "2022-08-02T09:44:00.027Z"
   },
   {
    "duration": 37,
    "start_time": "2022-08-02T09:44:00.038Z"
   },
   {
    "duration": 37,
    "start_time": "2022-08-02T09:44:00.076Z"
   },
   {
    "duration": 31,
    "start_time": "2022-08-02T09:44:00.114Z"
   },
   {
    "duration": 10,
    "start_time": "2022-08-02T09:44:00.146Z"
   },
   {
    "duration": 9,
    "start_time": "2022-08-02T09:44:00.158Z"
   },
   {
    "duration": 12,
    "start_time": "2022-08-02T09:44:00.168Z"
   },
   {
    "duration": 38,
    "start_time": "2022-08-02T09:44:00.182Z"
   },
   {
    "duration": 23,
    "start_time": "2022-08-02T09:44:00.221Z"
   },
   {
    "duration": 22,
    "start_time": "2022-08-02T09:44:00.245Z"
   },
   {
    "duration": 18,
    "start_time": "2022-08-02T09:44:00.269Z"
   },
   {
    "duration": 19,
    "start_time": "2022-08-02T09:44:00.289Z"
   },
   {
    "duration": 39,
    "start_time": "2022-08-02T09:44:00.310Z"
   },
   {
    "duration": 44,
    "start_time": "2022-08-02T09:44:00.350Z"
   },
   {
    "duration": 28,
    "start_time": "2022-08-02T09:44:00.396Z"
   },
   {
    "duration": 18,
    "start_time": "2022-08-02T09:44:00.426Z"
   },
   {
    "duration": 15,
    "start_time": "2022-08-02T09:44:00.446Z"
   },
   {
    "duration": 34,
    "start_time": "2022-08-02T09:44:00.463Z"
   },
   {
    "duration": 34,
    "start_time": "2022-08-02T09:44:00.499Z"
   },
   {
    "duration": 914,
    "start_time": "2022-08-02T09:45:24.741Z"
   },
   {
    "duration": 6,
    "start_time": "2022-08-02T09:45:33.045Z"
   },
   {
    "duration": 9,
    "start_time": "2022-08-02T09:45:41.829Z"
   },
   {
    "duration": 15,
    "start_time": "2022-08-02T09:45:52.021Z"
   },
   {
    "duration": 5,
    "start_time": "2022-08-02T09:46:28.325Z"
   },
   {
    "duration": 5,
    "start_time": "2022-08-02T09:46:39.237Z"
   },
   {
    "duration": 1481,
    "start_time": "2022-08-02T09:47:05.244Z"
   },
   {
    "duration": 138,
    "start_time": "2022-08-02T09:49:29.771Z"
   },
   {
    "duration": 751,
    "start_time": "2022-08-02T09:49:45.993Z"
   },
   {
    "duration": 857,
    "start_time": "2022-08-02T09:49:48.966Z"
   },
   {
    "duration": 9,
    "start_time": "2022-08-02T09:50:04.928Z"
   },
   {
    "duration": 17,
    "start_time": "2022-08-02T09:50:08.871Z"
   },
   {
    "duration": 10,
    "start_time": "2022-08-02T09:52:47.844Z"
   },
   {
    "duration": 6,
    "start_time": "2022-08-02T09:52:52.175Z"
   },
   {
    "duration": 10,
    "start_time": "2022-08-02T09:52:57.769Z"
   },
   {
    "duration": 3,
    "start_time": "2022-08-02T09:53:02.085Z"
   },
   {
    "duration": 1103,
    "start_time": "2022-08-02T09:53:06.450Z"
   },
   {
    "duration": 3,
    "start_time": "2022-08-02T09:53:11.412Z"
   },
   {
    "duration": 0,
    "start_time": "2022-08-02T09:53:17.698Z"
   },
   {
    "duration": 1682,
    "start_time": "2022-08-02T09:53:20.612Z"
   },
   {
    "duration": 7,
    "start_time": "2022-08-02T09:53:25.480Z"
   },
   {
    "duration": 2169,
    "start_time": "2022-08-02T09:53:29.979Z"
   },
   {
    "duration": 10,
    "start_time": "2022-08-02T09:53:40.330Z"
   },
   {
    "duration": 9,
    "start_time": "2022-08-02T09:59:24.088Z"
   },
   {
    "duration": 14,
    "start_time": "2022-08-02T10:11:59.992Z"
   },
   {
    "duration": 52,
    "start_time": "2022-08-02T10:16:02.898Z"
   },
   {
    "duration": 493,
    "start_time": "2022-08-02T10:28:26.729Z"
   },
   {
    "duration": 21,
    "start_time": "2022-08-02T10:28:27.224Z"
   },
   {
    "duration": 14,
    "start_time": "2022-08-02T10:28:27.246Z"
   },
   {
    "duration": 8,
    "start_time": "2022-08-02T10:28:27.262Z"
   },
   {
    "duration": 54,
    "start_time": "2022-08-02T10:28:27.272Z"
   },
   {
    "duration": 3,
    "start_time": "2022-08-02T10:28:27.327Z"
   },
   {
    "duration": 15,
    "start_time": "2022-08-02T10:28:27.332Z"
   },
   {
    "duration": 4,
    "start_time": "2022-08-02T10:28:27.348Z"
   },
   {
    "duration": 11,
    "start_time": "2022-08-02T10:28:27.353Z"
   },
   {
    "duration": 6,
    "start_time": "2022-08-02T10:28:27.366Z"
   },
   {
    "duration": 59,
    "start_time": "2022-08-02T10:28:27.373Z"
   },
   {
    "duration": 9,
    "start_time": "2022-08-02T10:28:27.434Z"
   },
   {
    "duration": 10,
    "start_time": "2022-08-02T10:28:27.444Z"
   },
   {
    "duration": 20,
    "start_time": "2022-08-02T10:28:27.456Z"
   },
   {
    "duration": 37,
    "start_time": "2022-08-02T10:28:27.478Z"
   },
   {
    "duration": 11,
    "start_time": "2022-08-02T10:28:27.533Z"
   },
   {
    "duration": 4,
    "start_time": "2022-08-02T10:28:27.581Z"
   },
   {
    "duration": 9,
    "start_time": "2022-08-02T10:28:27.636Z"
   },
   {
    "duration": 6,
    "start_time": "2022-08-02T10:28:27.667Z"
   },
   {
    "duration": 3,
    "start_time": "2022-08-02T10:28:27.717Z"
   },
   {
    "duration": 7,
    "start_time": "2022-08-02T10:28:27.776Z"
   },
   {
    "duration": 5,
    "start_time": "2022-08-02T10:28:27.836Z"
   },
   {
    "duration": 6,
    "start_time": "2022-08-02T10:28:27.857Z"
   },
   {
    "duration": 7,
    "start_time": "2022-08-02T10:28:27.931Z"
   },
   {
    "duration": 20,
    "start_time": "2022-08-02T10:28:28.633Z"
   },
   {
    "duration": 17,
    "start_time": "2022-08-02T10:28:28.655Z"
   },
   {
    "duration": 11,
    "start_time": "2022-08-02T10:28:28.681Z"
   },
   {
    "duration": 8,
    "start_time": "2022-08-02T10:28:28.753Z"
   },
   {
    "duration": 9,
    "start_time": "2022-08-02T10:28:28.833Z"
   },
   {
    "duration": 9,
    "start_time": "2022-08-02T10:28:28.879Z"
   },
   {
    "duration": 10,
    "start_time": "2022-08-02T10:28:28.894Z"
   },
   {
    "duration": 10,
    "start_time": "2022-08-02T10:28:28.946Z"
   },
   {
    "duration": 12,
    "start_time": "2022-08-02T10:28:29.029Z"
   },
   {
    "duration": 8,
    "start_time": "2022-08-02T10:28:29.046Z"
   },
   {
    "duration": 9,
    "start_time": "2022-08-02T10:28:29.130Z"
   },
   {
    "duration": 7,
    "start_time": "2022-08-02T10:28:30.025Z"
   },
   {
    "duration": 10,
    "start_time": "2022-08-02T10:28:30.073Z"
   },
   {
    "duration": 10,
    "start_time": "2022-08-02T10:28:30.096Z"
   },
   {
    "duration": 8,
    "start_time": "2022-08-02T10:28:30.150Z"
   },
   {
    "duration": 8,
    "start_time": "2022-08-02T10:28:30.229Z"
   },
   {
    "duration": 9,
    "start_time": "2022-08-02T10:28:30.271Z"
   },
   {
    "duration": 26,
    "start_time": "2022-08-02T10:28:30.285Z"
   },
   {
    "duration": 14,
    "start_time": "2022-08-02T10:28:30.361Z"
   },
   {
    "duration": 14,
    "start_time": "2022-08-02T10:28:31.169Z"
   },
   {
    "duration": 15,
    "start_time": "2022-08-02T10:28:31.233Z"
   },
   {
    "duration": 10,
    "start_time": "2022-08-02T10:28:31.276Z"
   },
   {
    "duration": 12,
    "start_time": "2022-08-02T10:28:31.330Z"
   },
   {
    "duration": 27,
    "start_time": "2022-08-02T10:28:31.348Z"
   },
   {
    "duration": 15,
    "start_time": "2022-08-02T10:28:31.392Z"
   },
   {
    "duration": 14,
    "start_time": "2022-08-02T10:28:31.437Z"
   },
   {
    "duration": 11,
    "start_time": "2022-08-02T10:28:32.198Z"
   },
   {
    "duration": 12,
    "start_time": "2022-08-02T10:28:32.240Z"
   },
   {
    "duration": 9,
    "start_time": "2022-08-02T10:28:32.278Z"
   },
   {
    "duration": 4,
    "start_time": "2022-08-02T10:28:32.356Z"
   },
   {
    "duration": 18,
    "start_time": "2022-08-02T10:28:32.389Z"
   },
   {
    "duration": 26,
    "start_time": "2022-08-02T10:28:32.434Z"
   },
   {
    "duration": 10,
    "start_time": "2022-08-02T10:28:32.462Z"
   },
   {
    "duration": 9,
    "start_time": "2022-08-02T10:28:32.482Z"
   },
   {
    "duration": 42,
    "start_time": "2022-08-02T10:28:32.538Z"
   },
   {
    "duration": 13,
    "start_time": "2022-08-02T10:28:32.583Z"
   },
   {
    "duration": 4,
    "start_time": "2022-08-02T10:28:32.625Z"
   },
   {
    "duration": 27,
    "start_time": "2022-08-02T10:28:32.654Z"
   },
   {
    "duration": 13,
    "start_time": "2022-08-02T10:28:32.684Z"
   },
   {
    "duration": 15,
    "start_time": "2022-08-02T10:28:32.733Z"
   },
   {
    "duration": 10,
    "start_time": "2022-08-02T10:28:32.753Z"
   },
   {
    "duration": 10,
    "start_time": "2022-08-02T10:28:32.793Z"
   },
   {
    "duration": 8,
    "start_time": "2022-08-02T10:28:32.833Z"
   },
   {
    "duration": 9,
    "start_time": "2022-08-02T10:28:32.866Z"
   },
   {
    "duration": 5,
    "start_time": "2022-08-02T10:28:33.730Z"
   },
   {
    "duration": 26,
    "start_time": "2022-08-02T10:28:33.751Z"
   },
   {
    "duration": 24,
    "start_time": "2022-08-02T10:28:33.783Z"
   },
   {
    "duration": 50,
    "start_time": "2022-08-02T10:28:33.829Z"
   },
   {
    "duration": 5,
    "start_time": "2022-08-02T10:28:33.881Z"
   },
   {
    "duration": 22,
    "start_time": "2022-08-02T10:28:33.895Z"
   },
   {
    "duration": 56,
    "start_time": "2022-08-02T10:28:33.934Z"
   },
   {
    "duration": 28,
    "start_time": "2022-08-02T10:28:35.280Z"
   },
   {
    "duration": 15,
    "start_time": "2022-08-02T10:28:35.334Z"
   },
   {
    "duration": 8,
    "start_time": "2022-08-02T10:28:35.361Z"
   },
   {
    "duration": 25,
    "start_time": "2022-08-02T10:28:35.381Z"
   },
   {
    "duration": 9,
    "start_time": "2022-08-02T10:28:35.433Z"
   },
   {
    "duration": 63,
    "start_time": "2022-08-02T10:28:35.445Z"
   },
   {
    "duration": 52,
    "start_time": "2022-08-02T10:28:35.510Z"
   },
   {
    "duration": 40,
    "start_time": "2022-08-02T10:28:35.564Z"
   },
   {
    "duration": 24,
    "start_time": "2022-08-02T10:28:35.606Z"
   },
   {
    "duration": 10,
    "start_time": "2022-08-02T10:28:35.634Z"
   },
   {
    "duration": 12,
    "start_time": "2022-08-02T10:28:35.688Z"
   },
   {
    "duration": 6,
    "start_time": "2022-08-02T10:28:35.730Z"
   },
   {
    "duration": 9,
    "start_time": "2022-08-02T10:28:35.778Z"
   },
   {
    "duration": 12,
    "start_time": "2022-08-02T10:28:35.836Z"
   },
   {
    "duration": 7,
    "start_time": "2022-08-02T10:28:35.850Z"
   },
   {
    "duration": 21,
    "start_time": "2022-08-02T10:28:35.859Z"
   },
   {
    "duration": 16,
    "start_time": "2022-08-02T10:28:35.895Z"
   },
   {
    "duration": 9,
    "start_time": "2022-08-02T10:28:35.957Z"
   },
   {
    "duration": 6,
    "start_time": "2022-08-02T10:28:35.984Z"
   },
   {
    "duration": 15,
    "start_time": "2022-08-02T10:28:36.033Z"
   },
   {
    "duration": 10,
    "start_time": "2022-08-02T10:28:36.051Z"
   },
   {
    "duration": 12,
    "start_time": "2022-08-02T10:28:36.068Z"
   },
   {
    "duration": 13,
    "start_time": "2022-08-02T10:28:36.137Z"
   },
   {
    "duration": 9,
    "start_time": "2022-08-02T10:28:36.152Z"
   },
   {
    "duration": 14,
    "start_time": "2022-08-02T10:28:36.177Z"
   },
   {
    "duration": 11,
    "start_time": "2022-08-02T10:28:36.237Z"
   },
   {
    "duration": 11,
    "start_time": "2022-08-02T10:28:36.251Z"
   },
   {
    "duration": 12,
    "start_time": "2022-08-02T10:28:36.267Z"
   },
   {
    "duration": 17,
    "start_time": "2022-08-02T10:28:36.329Z"
   },
   {
    "duration": 13,
    "start_time": "2022-08-02T10:28:36.348Z"
   },
   {
    "duration": 4,
    "start_time": "2022-08-02T10:29:33.544Z"
   },
   {
    "duration": 62,
    "start_time": "2022-08-21T21:44:59.573Z"
   },
   {
    "duration": 43,
    "start_time": "2022-08-21T21:45:13.362Z"
   },
   {
    "duration": 699,
    "start_time": "2022-08-21T21:45:26.505Z"
   },
   {
    "duration": 20,
    "start_time": "2022-08-21T21:45:28.638Z"
   },
   {
    "duration": 28,
    "start_time": "2022-08-21T21:45:58.638Z"
   },
   {
    "duration": 24,
    "start_time": "2022-08-21T21:46:17.311Z"
   },
   {
    "duration": 7,
    "start_time": "2022-08-21T21:46:53.439Z"
   },
   {
    "duration": 8,
    "start_time": "2022-08-21T21:47:17.705Z"
   },
   {
    "duration": 19,
    "start_time": "2022-08-21T21:47:36.704Z"
   },
   {
    "duration": 16,
    "start_time": "2022-08-21T21:47:56.847Z"
   },
   {
    "duration": 16,
    "start_time": "2022-08-21T21:48:03.485Z"
   },
   {
    "duration": 6,
    "start_time": "2022-08-21T21:48:28.631Z"
   },
   {
    "duration": 7,
    "start_time": "2022-08-21T21:48:35.153Z"
   },
   {
    "duration": 16,
    "start_time": "2022-08-21T21:49:05.752Z"
   },
   {
    "duration": 2041,
    "start_time": "2023-02-18T13:32:01.756Z"
   },
   {
    "duration": 96,
    "start_time": "2023-02-18T13:38:01.770Z"
   },
   {
    "duration": 88,
    "start_time": "2023-02-18T13:38:28.394Z"
   },
   {
    "duration": 89,
    "start_time": "2023-02-18T13:38:55.389Z"
   },
   {
    "duration": 65,
    "start_time": "2023-02-18T13:42:06.232Z"
   },
   {
    "duration": 71,
    "start_time": "2023-02-18T13:42:38.503Z"
   },
   {
    "duration": 502,
    "start_time": "2023-02-18T13:47:24.488Z"
   },
   {
    "duration": 25,
    "start_time": "2023-02-18T13:47:24.992Z"
   },
   {
    "duration": 15,
    "start_time": "2023-02-18T13:47:25.019Z"
   },
   {
    "duration": 12,
    "start_time": "2023-02-18T13:47:25.036Z"
   },
   {
    "duration": 69,
    "start_time": "2023-02-18T13:47:25.050Z"
   },
   {
    "duration": 4,
    "start_time": "2023-02-18T13:47:25.120Z"
   },
   {
    "duration": 12,
    "start_time": "2023-02-18T13:47:25.125Z"
   },
   {
    "duration": 5,
    "start_time": "2023-02-18T13:47:25.139Z"
   },
   {
    "duration": 11,
    "start_time": "2023-02-18T13:47:25.146Z"
   },
   {
    "duration": 8,
    "start_time": "2023-02-18T13:47:25.161Z"
   },
   {
    "duration": 69,
    "start_time": "2023-02-18T13:47:25.171Z"
   },
   {
    "duration": 10,
    "start_time": "2023-02-18T13:47:25.242Z"
   },
   {
    "duration": 3,
    "start_time": "2023-02-18T13:47:25.254Z"
   },
   {
    "duration": 20,
    "start_time": "2023-02-18T13:47:25.259Z"
   },
   {
    "duration": 18,
    "start_time": "2023-02-18T13:47:25.303Z"
   },
   {
    "duration": 12,
    "start_time": "2023-02-18T13:47:25.322Z"
   },
   {
    "duration": 5,
    "start_time": "2023-02-18T13:47:25.336Z"
   },
   {
    "duration": 13,
    "start_time": "2023-02-18T13:47:25.343Z"
   },
   {
    "duration": 7,
    "start_time": "2023-02-18T13:47:25.358Z"
   },
   {
    "duration": 37,
    "start_time": "2023-02-18T13:47:25.367Z"
   },
   {
    "duration": 10,
    "start_time": "2023-02-18T13:47:25.406Z"
   },
   {
    "duration": 20,
    "start_time": "2023-02-18T13:47:25.418Z"
   },
   {
    "duration": 5,
    "start_time": "2023-02-18T13:47:25.440Z"
   },
   {
    "duration": 7,
    "start_time": "2023-02-18T13:47:25.447Z"
   },
   {
    "duration": 7,
    "start_time": "2023-02-18T13:47:25.455Z"
   },
   {
    "duration": 44,
    "start_time": "2023-02-18T13:47:25.463Z"
   },
   {
    "duration": 16,
    "start_time": "2023-02-18T13:47:25.509Z"
   },
   {
    "duration": 14,
    "start_time": "2023-02-18T13:47:25.528Z"
   },
   {
    "duration": 10,
    "start_time": "2023-02-18T13:47:25.544Z"
   },
   {
    "duration": 12,
    "start_time": "2023-02-18T13:47:25.555Z"
   },
   {
    "duration": 42,
    "start_time": "2023-02-18T13:47:25.568Z"
   },
   {
    "duration": 16,
    "start_time": "2023-02-18T13:47:25.612Z"
   },
   {
    "duration": 19,
    "start_time": "2023-02-18T13:47:25.630Z"
   },
   {
    "duration": 27,
    "start_time": "2023-02-18T13:47:25.651Z"
   },
   {
    "duration": 38,
    "start_time": "2023-02-18T13:47:25.680Z"
   },
   {
    "duration": 12,
    "start_time": "2023-02-18T13:47:25.720Z"
   },
   {
    "duration": 10,
    "start_time": "2023-02-18T13:47:25.734Z"
   },
   {
    "duration": 9,
    "start_time": "2023-02-18T13:47:25.746Z"
   },
   {
    "duration": 15,
    "start_time": "2023-02-18T13:47:25.757Z"
   },
   {
    "duration": 11,
    "start_time": "2023-02-18T13:47:25.804Z"
   },
   {
    "duration": 7,
    "start_time": "2023-02-18T13:47:25.817Z"
   },
   {
    "duration": 10,
    "start_time": "2023-02-18T13:47:25.826Z"
   },
   {
    "duration": 14,
    "start_time": "2023-02-18T13:47:25.838Z"
   },
   {
    "duration": 13,
    "start_time": "2023-02-18T13:47:25.853Z"
   },
   {
    "duration": 41,
    "start_time": "2023-02-18T13:47:25.868Z"
   },
   {
    "duration": 13,
    "start_time": "2023-02-18T13:47:25.910Z"
   },
   {
    "duration": 9,
    "start_time": "2023-02-18T13:47:25.925Z"
   },
   {
    "duration": 6,
    "start_time": "2023-02-18T13:47:25.936Z"
   },
   {
    "duration": 10,
    "start_time": "2023-02-18T13:47:25.944Z"
   },
   {
    "duration": 12,
    "start_time": "2023-02-18T13:47:25.955Z"
   },
   {
    "duration": 42,
    "start_time": "2023-02-18T13:47:25.968Z"
   },
   {
    "duration": 11,
    "start_time": "2023-02-18T13:47:26.012Z"
   },
   {
    "duration": 11,
    "start_time": "2023-02-18T13:47:26.024Z"
   },
   {
    "duration": 9,
    "start_time": "2023-02-18T13:47:26.037Z"
   },
   {
    "duration": 9,
    "start_time": "2023-02-18T13:47:26.050Z"
   },
   {
    "duration": 8,
    "start_time": "2023-02-18T13:47:26.061Z"
   },
   {
    "duration": 18,
    "start_time": "2023-02-18T13:47:26.103Z"
   },
   {
    "duration": 18,
    "start_time": "2023-02-18T13:47:26.122Z"
   },
   {
    "duration": 7,
    "start_time": "2023-02-18T13:47:26.142Z"
   },
   {
    "duration": 7,
    "start_time": "2023-02-18T13:47:26.151Z"
   },
   {
    "duration": 54,
    "start_time": "2023-02-18T13:47:26.160Z"
   },
   {
    "duration": 8,
    "start_time": "2023-02-18T13:47:26.216Z"
   },
   {
    "duration": 3,
    "start_time": "2023-02-18T13:47:26.226Z"
   },
   {
    "duration": 24,
    "start_time": "2023-02-18T13:47:26.230Z"
   },
   {
    "duration": 10,
    "start_time": "2023-02-18T13:47:26.256Z"
   },
   {
    "duration": 45,
    "start_time": "2023-02-18T13:47:26.268Z"
   },
   {
    "duration": 9,
    "start_time": "2023-02-18T13:47:26.315Z"
   },
   {
    "duration": 18,
    "start_time": "2023-02-18T13:47:26.326Z"
   },
   {
    "duration": 8,
    "start_time": "2023-02-18T13:47:26.346Z"
   },
   {
    "duration": 11,
    "start_time": "2023-02-18T13:47:26.355Z"
   },
   {
    "duration": 48,
    "start_time": "2023-02-18T13:47:26.368Z"
   },
   {
    "duration": 23,
    "start_time": "2023-02-18T13:47:26.417Z"
   },
   {
    "duration": 20,
    "start_time": "2023-02-18T13:47:26.441Z"
   },
   {
    "duration": 70,
    "start_time": "2023-02-18T13:47:26.464Z"
   },
   {
    "duration": 6,
    "start_time": "2023-02-18T13:47:26.536Z"
   },
   {
    "duration": 3,
    "start_time": "2023-02-18T13:47:26.544Z"
   },
   {
    "duration": 24,
    "start_time": "2023-02-18T13:47:26.549Z"
   },
   {
    "duration": 45,
    "start_time": "2023-02-18T13:47:26.575Z"
   },
   {
    "duration": 15,
    "start_time": "2023-02-18T13:47:26.623Z"
   },
   {
    "duration": 21,
    "start_time": "2023-02-18T13:47:26.640Z"
   },
   {
    "duration": 17,
    "start_time": "2023-02-18T13:47:26.663Z"
   },
   {
    "duration": 25,
    "start_time": "2023-02-18T13:47:26.682Z"
   },
   {
    "duration": 26,
    "start_time": "2023-02-18T13:47:26.709Z"
   },
   {
    "duration": 21,
    "start_time": "2023-02-18T13:47:26.737Z"
   },
   {
    "duration": 16,
    "start_time": "2023-02-18T13:47:26.763Z"
   },
   {
    "duration": 13,
    "start_time": "2023-02-18T13:47:26.781Z"
   },
   {
    "duration": 12,
    "start_time": "2023-02-18T13:47:26.796Z"
   },
   {
    "duration": 17,
    "start_time": "2023-02-18T13:47:26.810Z"
   },
   {
    "duration": 8,
    "start_time": "2023-02-18T13:47:26.830Z"
   },
   {
    "duration": 18,
    "start_time": "2023-02-18T13:47:26.840Z"
   },
   {
    "duration": 23,
    "start_time": "2023-02-18T13:47:26.860Z"
   },
   {
    "duration": 7,
    "start_time": "2023-02-18T13:47:26.903Z"
   },
   {
    "duration": 11,
    "start_time": "2023-02-18T13:47:26.912Z"
   },
   {
    "duration": 16,
    "start_time": "2023-02-18T13:47:26.925Z"
   },
   {
    "duration": 9,
    "start_time": "2023-02-18T13:47:26.943Z"
   },
   {
    "duration": 6,
    "start_time": "2023-02-18T13:47:26.953Z"
   },
   {
    "duration": 51,
    "start_time": "2023-02-18T13:47:26.960Z"
   },
   {
    "duration": 9,
    "start_time": "2023-02-18T13:47:27.013Z"
   },
   {
    "duration": 10,
    "start_time": "2023-02-18T13:47:27.023Z"
   },
   {
    "duration": 10,
    "start_time": "2023-02-18T13:47:27.034Z"
   },
   {
    "duration": 8,
    "start_time": "2023-02-18T13:47:27.046Z"
   },
   {
    "duration": 17,
    "start_time": "2023-02-18T13:47:27.055Z"
   },
   {
    "duration": 12,
    "start_time": "2023-02-18T13:47:27.103Z"
   },
   {
    "duration": 12,
    "start_time": "2023-02-18T13:47:27.117Z"
   },
   {
    "duration": 15,
    "start_time": "2023-02-18T13:47:27.130Z"
   },
   {
    "duration": 27,
    "start_time": "2023-02-18T13:47:27.147Z"
   },
   {
    "duration": 39,
    "start_time": "2023-02-18T13:47:27.175Z"
   }
  ],
  "colab": {
   "name": "dpp_template_part2.ipynb",
   "provenance": []
  },
  "kernelspec": {
   "display_name": "Python 3 (ipykernel)",
   "language": "python",
   "name": "python3"
  },
  "language_info": {
   "codemirror_mode": {
    "name": "ipython",
    "version": 3
   },
   "file_extension": ".py",
   "mimetype": "text/x-python",
   "name": "python",
   "nbconvert_exporter": "python",
   "pygments_lexer": "ipython3",
   "version": "3.9.5"
  },
  "toc": {
   "base_numbering": 1,
   "nav_menu": {},
   "number_sections": true,
   "sideBar": true,
   "skip_h1_title": true,
   "title_cell": "Table of Contents",
   "title_sidebar": "Contents",
   "toc_cell": false,
   "toc_position": {},
   "toc_section_display": true,
   "toc_window_display": true
  }
 },
 "nbformat": 4,
 "nbformat_minor": 5
}
